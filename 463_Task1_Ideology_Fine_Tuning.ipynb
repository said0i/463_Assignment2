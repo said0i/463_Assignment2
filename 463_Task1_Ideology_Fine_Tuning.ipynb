{
  "nbformat": 4,
  "nbformat_minor": 0,
  "metadata": {
    "colab": {
      "provenance": [],
      "gpuType": "L4"
    },
    "kernelspec": {
      "name": "python3",
      "display_name": "Python 3"
    },
    "language_info": {
      "name": "python"
    },
    "accelerator": "GPU",
    "widgets": {
      "application/vnd.jupyter.widget-state+json": {
        "34a16d1edc864a38998beca569c9c4e4": {
          "model_module": "@jupyter-widgets/controls",
          "model_name": "HBoxModel",
          "model_module_version": "1.5.0",
          "state": {
            "_dom_classes": [],
            "_model_module": "@jupyter-widgets/controls",
            "_model_module_version": "1.5.0",
            "_model_name": "HBoxModel",
            "_view_count": null,
            "_view_module": "@jupyter-widgets/controls",
            "_view_module_version": "1.5.0",
            "_view_name": "HBoxView",
            "box_style": "",
            "children": [
              "IPY_MODEL_ed9a2ea583434b25be3f33d5777dc742",
              "IPY_MODEL_fbf088de2f1d4bb08019f8dae6ea1b57",
              "IPY_MODEL_4042d1d2d1464d8e8a970e896a944f75"
            ],
            "layout": "IPY_MODEL_ce5e4d8ec7b84088bf2e439b499a919c"
          }
        },
        "ed9a2ea583434b25be3f33d5777dc742": {
          "model_module": "@jupyter-widgets/controls",
          "model_name": "HTMLModel",
          "model_module_version": "1.5.0",
          "state": {
            "_dom_classes": [],
            "_model_module": "@jupyter-widgets/controls",
            "_model_module_version": "1.5.0",
            "_model_name": "HTMLModel",
            "_view_count": null,
            "_view_module": "@jupyter-widgets/controls",
            "_view_module_version": "1.5.0",
            "_view_name": "HTMLView",
            "description": "",
            "description_tooltip": null,
            "layout": "IPY_MODEL_72244861955748f1b097850db516ea92",
            "placeholder": "​",
            "style": "IPY_MODEL_a76d1e544b9f466ead4b75840220c93e",
            "value": "tokenizer_config.json: 100%"
          }
        },
        "fbf088de2f1d4bb08019f8dae6ea1b57": {
          "model_module": "@jupyter-widgets/controls",
          "model_name": "FloatProgressModel",
          "model_module_version": "1.5.0",
          "state": {
            "_dom_classes": [],
            "_model_module": "@jupyter-widgets/controls",
            "_model_module_version": "1.5.0",
            "_model_name": "FloatProgressModel",
            "_view_count": null,
            "_view_module": "@jupyter-widgets/controls",
            "_view_module_version": "1.5.0",
            "_view_name": "ProgressView",
            "bar_style": "success",
            "description": "",
            "description_tooltip": null,
            "layout": "IPY_MODEL_5d38a81e7d204b7da05de016227dec44",
            "max": 25,
            "min": 0,
            "orientation": "horizontal",
            "style": "IPY_MODEL_4d3fb20588714eab8682111d9a675acf",
            "value": 25
          }
        },
        "4042d1d2d1464d8e8a970e896a944f75": {
          "model_module": "@jupyter-widgets/controls",
          "model_name": "HTMLModel",
          "model_module_version": "1.5.0",
          "state": {
            "_dom_classes": [],
            "_model_module": "@jupyter-widgets/controls",
            "_model_module_version": "1.5.0",
            "_model_name": "HTMLModel",
            "_view_count": null,
            "_view_module": "@jupyter-widgets/controls",
            "_view_module_version": "1.5.0",
            "_view_name": "HTMLView",
            "description": "",
            "description_tooltip": null,
            "layout": "IPY_MODEL_1be59b1a68414ebe897216437b31d5e2",
            "placeholder": "​",
            "style": "IPY_MODEL_7a82fe4397524c92b79c95b771891af8",
            "value": " 25.0/25.0 [00:00&lt;00:00, 1.90kB/s]"
          }
        },
        "ce5e4d8ec7b84088bf2e439b499a919c": {
          "model_module": "@jupyter-widgets/base",
          "model_name": "LayoutModel",
          "model_module_version": "1.2.0",
          "state": {
            "_model_module": "@jupyter-widgets/base",
            "_model_module_version": "1.2.0",
            "_model_name": "LayoutModel",
            "_view_count": null,
            "_view_module": "@jupyter-widgets/base",
            "_view_module_version": "1.2.0",
            "_view_name": "LayoutView",
            "align_content": null,
            "align_items": null,
            "align_self": null,
            "border": null,
            "bottom": null,
            "display": null,
            "flex": null,
            "flex_flow": null,
            "grid_area": null,
            "grid_auto_columns": null,
            "grid_auto_flow": null,
            "grid_auto_rows": null,
            "grid_column": null,
            "grid_gap": null,
            "grid_row": null,
            "grid_template_areas": null,
            "grid_template_columns": null,
            "grid_template_rows": null,
            "height": null,
            "justify_content": null,
            "justify_items": null,
            "left": null,
            "margin": null,
            "max_height": null,
            "max_width": null,
            "min_height": null,
            "min_width": null,
            "object_fit": null,
            "object_position": null,
            "order": null,
            "overflow": null,
            "overflow_x": null,
            "overflow_y": null,
            "padding": null,
            "right": null,
            "top": null,
            "visibility": null,
            "width": null
          }
        },
        "72244861955748f1b097850db516ea92": {
          "model_module": "@jupyter-widgets/base",
          "model_name": "LayoutModel",
          "model_module_version": "1.2.0",
          "state": {
            "_model_module": "@jupyter-widgets/base",
            "_model_module_version": "1.2.0",
            "_model_name": "LayoutModel",
            "_view_count": null,
            "_view_module": "@jupyter-widgets/base",
            "_view_module_version": "1.2.0",
            "_view_name": "LayoutView",
            "align_content": null,
            "align_items": null,
            "align_self": null,
            "border": null,
            "bottom": null,
            "display": null,
            "flex": null,
            "flex_flow": null,
            "grid_area": null,
            "grid_auto_columns": null,
            "grid_auto_flow": null,
            "grid_auto_rows": null,
            "grid_column": null,
            "grid_gap": null,
            "grid_row": null,
            "grid_template_areas": null,
            "grid_template_columns": null,
            "grid_template_rows": null,
            "height": null,
            "justify_content": null,
            "justify_items": null,
            "left": null,
            "margin": null,
            "max_height": null,
            "max_width": null,
            "min_height": null,
            "min_width": null,
            "object_fit": null,
            "object_position": null,
            "order": null,
            "overflow": null,
            "overflow_x": null,
            "overflow_y": null,
            "padding": null,
            "right": null,
            "top": null,
            "visibility": null,
            "width": null
          }
        },
        "a76d1e544b9f466ead4b75840220c93e": {
          "model_module": "@jupyter-widgets/controls",
          "model_name": "DescriptionStyleModel",
          "model_module_version": "1.5.0",
          "state": {
            "_model_module": "@jupyter-widgets/controls",
            "_model_module_version": "1.5.0",
            "_model_name": "DescriptionStyleModel",
            "_view_count": null,
            "_view_module": "@jupyter-widgets/base",
            "_view_module_version": "1.2.0",
            "_view_name": "StyleView",
            "description_width": ""
          }
        },
        "5d38a81e7d204b7da05de016227dec44": {
          "model_module": "@jupyter-widgets/base",
          "model_name": "LayoutModel",
          "model_module_version": "1.2.0",
          "state": {
            "_model_module": "@jupyter-widgets/base",
            "_model_module_version": "1.2.0",
            "_model_name": "LayoutModel",
            "_view_count": null,
            "_view_module": "@jupyter-widgets/base",
            "_view_module_version": "1.2.0",
            "_view_name": "LayoutView",
            "align_content": null,
            "align_items": null,
            "align_self": null,
            "border": null,
            "bottom": null,
            "display": null,
            "flex": null,
            "flex_flow": null,
            "grid_area": null,
            "grid_auto_columns": null,
            "grid_auto_flow": null,
            "grid_auto_rows": null,
            "grid_column": null,
            "grid_gap": null,
            "grid_row": null,
            "grid_template_areas": null,
            "grid_template_columns": null,
            "grid_template_rows": null,
            "height": null,
            "justify_content": null,
            "justify_items": null,
            "left": null,
            "margin": null,
            "max_height": null,
            "max_width": null,
            "min_height": null,
            "min_width": null,
            "object_fit": null,
            "object_position": null,
            "order": null,
            "overflow": null,
            "overflow_x": null,
            "overflow_y": null,
            "padding": null,
            "right": null,
            "top": null,
            "visibility": null,
            "width": null
          }
        },
        "4d3fb20588714eab8682111d9a675acf": {
          "model_module": "@jupyter-widgets/controls",
          "model_name": "ProgressStyleModel",
          "model_module_version": "1.5.0",
          "state": {
            "_model_module": "@jupyter-widgets/controls",
            "_model_module_version": "1.5.0",
            "_model_name": "ProgressStyleModel",
            "_view_count": null,
            "_view_module": "@jupyter-widgets/base",
            "_view_module_version": "1.2.0",
            "_view_name": "StyleView",
            "bar_color": null,
            "description_width": ""
          }
        },
        "1be59b1a68414ebe897216437b31d5e2": {
          "model_module": "@jupyter-widgets/base",
          "model_name": "LayoutModel",
          "model_module_version": "1.2.0",
          "state": {
            "_model_module": "@jupyter-widgets/base",
            "_model_module_version": "1.2.0",
            "_model_name": "LayoutModel",
            "_view_count": null,
            "_view_module": "@jupyter-widgets/base",
            "_view_module_version": "1.2.0",
            "_view_name": "LayoutView",
            "align_content": null,
            "align_items": null,
            "align_self": null,
            "border": null,
            "bottom": null,
            "display": null,
            "flex": null,
            "flex_flow": null,
            "grid_area": null,
            "grid_auto_columns": null,
            "grid_auto_flow": null,
            "grid_auto_rows": null,
            "grid_column": null,
            "grid_gap": null,
            "grid_row": null,
            "grid_template_areas": null,
            "grid_template_columns": null,
            "grid_template_rows": null,
            "height": null,
            "justify_content": null,
            "justify_items": null,
            "left": null,
            "margin": null,
            "max_height": null,
            "max_width": null,
            "min_height": null,
            "min_width": null,
            "object_fit": null,
            "object_position": null,
            "order": null,
            "overflow": null,
            "overflow_x": null,
            "overflow_y": null,
            "padding": null,
            "right": null,
            "top": null,
            "visibility": null,
            "width": null
          }
        },
        "7a82fe4397524c92b79c95b771891af8": {
          "model_module": "@jupyter-widgets/controls",
          "model_name": "DescriptionStyleModel",
          "model_module_version": "1.5.0",
          "state": {
            "_model_module": "@jupyter-widgets/controls",
            "_model_module_version": "1.5.0",
            "_model_name": "DescriptionStyleModel",
            "_view_count": null,
            "_view_module": "@jupyter-widgets/base",
            "_view_module_version": "1.2.0",
            "_view_name": "StyleView",
            "description_width": ""
          }
        },
        "109ad16a0d604387b566de82d6667c15": {
          "model_module": "@jupyter-widgets/controls",
          "model_name": "HBoxModel",
          "model_module_version": "1.5.0",
          "state": {
            "_dom_classes": [],
            "_model_module": "@jupyter-widgets/controls",
            "_model_module_version": "1.5.0",
            "_model_name": "HBoxModel",
            "_view_count": null,
            "_view_module": "@jupyter-widgets/controls",
            "_view_module_version": "1.5.0",
            "_view_name": "HBoxView",
            "box_style": "",
            "children": [
              "IPY_MODEL_652ab350a20546098fbf56880e5f2f5a",
              "IPY_MODEL_7e156b81bd744b0eb7e8ce803633a1a3",
              "IPY_MODEL_f8ac330187414be7b2e07aff2f7c2ecf"
            ],
            "layout": "IPY_MODEL_a25bfa60c3bb45b38825806e84fc0fc9"
          }
        },
        "652ab350a20546098fbf56880e5f2f5a": {
          "model_module": "@jupyter-widgets/controls",
          "model_name": "HTMLModel",
          "model_module_version": "1.5.0",
          "state": {
            "_dom_classes": [],
            "_model_module": "@jupyter-widgets/controls",
            "_model_module_version": "1.5.0",
            "_model_name": "HTMLModel",
            "_view_count": null,
            "_view_module": "@jupyter-widgets/controls",
            "_view_module_version": "1.5.0",
            "_view_name": "HTMLView",
            "description": "",
            "description_tooltip": null,
            "layout": "IPY_MODEL_1e6fc133c0f44e4aa4fd00650ec3a5f8",
            "placeholder": "​",
            "style": "IPY_MODEL_1f7cb366e1d846a1a8b027a992f4f187",
            "value": "config.json: 100%"
          }
        },
        "7e156b81bd744b0eb7e8ce803633a1a3": {
          "model_module": "@jupyter-widgets/controls",
          "model_name": "FloatProgressModel",
          "model_module_version": "1.5.0",
          "state": {
            "_dom_classes": [],
            "_model_module": "@jupyter-widgets/controls",
            "_model_module_version": "1.5.0",
            "_model_name": "FloatProgressModel",
            "_view_count": null,
            "_view_module": "@jupyter-widgets/controls",
            "_view_module_version": "1.5.0",
            "_view_name": "ProgressView",
            "bar_style": "success",
            "description": "",
            "description_tooltip": null,
            "layout": "IPY_MODEL_e618710fc6a244cbaa508ebaf22c5b18",
            "max": 615,
            "min": 0,
            "orientation": "horizontal",
            "style": "IPY_MODEL_cbed5f52480f467da1fcab3cf11204eb",
            "value": 615
          }
        },
        "f8ac330187414be7b2e07aff2f7c2ecf": {
          "model_module": "@jupyter-widgets/controls",
          "model_name": "HTMLModel",
          "model_module_version": "1.5.0",
          "state": {
            "_dom_classes": [],
            "_model_module": "@jupyter-widgets/controls",
            "_model_module_version": "1.5.0",
            "_model_name": "HTMLModel",
            "_view_count": null,
            "_view_module": "@jupyter-widgets/controls",
            "_view_module_version": "1.5.0",
            "_view_name": "HTMLView",
            "description": "",
            "description_tooltip": null,
            "layout": "IPY_MODEL_6724d725068646a28a674eda6f283cef",
            "placeholder": "​",
            "style": "IPY_MODEL_75156f632bf7456dab4b92b2f4fa77bf",
            "value": " 615/615 [00:00&lt;00:00, 34.7kB/s]"
          }
        },
        "a25bfa60c3bb45b38825806e84fc0fc9": {
          "model_module": "@jupyter-widgets/base",
          "model_name": "LayoutModel",
          "model_module_version": "1.2.0",
          "state": {
            "_model_module": "@jupyter-widgets/base",
            "_model_module_version": "1.2.0",
            "_model_name": "LayoutModel",
            "_view_count": null,
            "_view_module": "@jupyter-widgets/base",
            "_view_module_version": "1.2.0",
            "_view_name": "LayoutView",
            "align_content": null,
            "align_items": null,
            "align_self": null,
            "border": null,
            "bottom": null,
            "display": null,
            "flex": null,
            "flex_flow": null,
            "grid_area": null,
            "grid_auto_columns": null,
            "grid_auto_flow": null,
            "grid_auto_rows": null,
            "grid_column": null,
            "grid_gap": null,
            "grid_row": null,
            "grid_template_areas": null,
            "grid_template_columns": null,
            "grid_template_rows": null,
            "height": null,
            "justify_content": null,
            "justify_items": null,
            "left": null,
            "margin": null,
            "max_height": null,
            "max_width": null,
            "min_height": null,
            "min_width": null,
            "object_fit": null,
            "object_position": null,
            "order": null,
            "overflow": null,
            "overflow_x": null,
            "overflow_y": null,
            "padding": null,
            "right": null,
            "top": null,
            "visibility": null,
            "width": null
          }
        },
        "1e6fc133c0f44e4aa4fd00650ec3a5f8": {
          "model_module": "@jupyter-widgets/base",
          "model_name": "LayoutModel",
          "model_module_version": "1.2.0",
          "state": {
            "_model_module": "@jupyter-widgets/base",
            "_model_module_version": "1.2.0",
            "_model_name": "LayoutModel",
            "_view_count": null,
            "_view_module": "@jupyter-widgets/base",
            "_view_module_version": "1.2.0",
            "_view_name": "LayoutView",
            "align_content": null,
            "align_items": null,
            "align_self": null,
            "border": null,
            "bottom": null,
            "display": null,
            "flex": null,
            "flex_flow": null,
            "grid_area": null,
            "grid_auto_columns": null,
            "grid_auto_flow": null,
            "grid_auto_rows": null,
            "grid_column": null,
            "grid_gap": null,
            "grid_row": null,
            "grid_template_areas": null,
            "grid_template_columns": null,
            "grid_template_rows": null,
            "height": null,
            "justify_content": null,
            "justify_items": null,
            "left": null,
            "margin": null,
            "max_height": null,
            "max_width": null,
            "min_height": null,
            "min_width": null,
            "object_fit": null,
            "object_position": null,
            "order": null,
            "overflow": null,
            "overflow_x": null,
            "overflow_y": null,
            "padding": null,
            "right": null,
            "top": null,
            "visibility": null,
            "width": null
          }
        },
        "1f7cb366e1d846a1a8b027a992f4f187": {
          "model_module": "@jupyter-widgets/controls",
          "model_name": "DescriptionStyleModel",
          "model_module_version": "1.5.0",
          "state": {
            "_model_module": "@jupyter-widgets/controls",
            "_model_module_version": "1.5.0",
            "_model_name": "DescriptionStyleModel",
            "_view_count": null,
            "_view_module": "@jupyter-widgets/base",
            "_view_module_version": "1.2.0",
            "_view_name": "StyleView",
            "description_width": ""
          }
        },
        "e618710fc6a244cbaa508ebaf22c5b18": {
          "model_module": "@jupyter-widgets/base",
          "model_name": "LayoutModel",
          "model_module_version": "1.2.0",
          "state": {
            "_model_module": "@jupyter-widgets/base",
            "_model_module_version": "1.2.0",
            "_model_name": "LayoutModel",
            "_view_count": null,
            "_view_module": "@jupyter-widgets/base",
            "_view_module_version": "1.2.0",
            "_view_name": "LayoutView",
            "align_content": null,
            "align_items": null,
            "align_self": null,
            "border": null,
            "bottom": null,
            "display": null,
            "flex": null,
            "flex_flow": null,
            "grid_area": null,
            "grid_auto_columns": null,
            "grid_auto_flow": null,
            "grid_auto_rows": null,
            "grid_column": null,
            "grid_gap": null,
            "grid_row": null,
            "grid_template_areas": null,
            "grid_template_columns": null,
            "grid_template_rows": null,
            "height": null,
            "justify_content": null,
            "justify_items": null,
            "left": null,
            "margin": null,
            "max_height": null,
            "max_width": null,
            "min_height": null,
            "min_width": null,
            "object_fit": null,
            "object_position": null,
            "order": null,
            "overflow": null,
            "overflow_x": null,
            "overflow_y": null,
            "padding": null,
            "right": null,
            "top": null,
            "visibility": null,
            "width": null
          }
        },
        "cbed5f52480f467da1fcab3cf11204eb": {
          "model_module": "@jupyter-widgets/controls",
          "model_name": "ProgressStyleModel",
          "model_module_version": "1.5.0",
          "state": {
            "_model_module": "@jupyter-widgets/controls",
            "_model_module_version": "1.5.0",
            "_model_name": "ProgressStyleModel",
            "_view_count": null,
            "_view_module": "@jupyter-widgets/base",
            "_view_module_version": "1.2.0",
            "_view_name": "StyleView",
            "bar_color": null,
            "description_width": ""
          }
        },
        "6724d725068646a28a674eda6f283cef": {
          "model_module": "@jupyter-widgets/base",
          "model_name": "LayoutModel",
          "model_module_version": "1.2.0",
          "state": {
            "_model_module": "@jupyter-widgets/base",
            "_model_module_version": "1.2.0",
            "_model_name": "LayoutModel",
            "_view_count": null,
            "_view_module": "@jupyter-widgets/base",
            "_view_module_version": "1.2.0",
            "_view_name": "LayoutView",
            "align_content": null,
            "align_items": null,
            "align_self": null,
            "border": null,
            "bottom": null,
            "display": null,
            "flex": null,
            "flex_flow": null,
            "grid_area": null,
            "grid_auto_columns": null,
            "grid_auto_flow": null,
            "grid_auto_rows": null,
            "grid_column": null,
            "grid_gap": null,
            "grid_row": null,
            "grid_template_areas": null,
            "grid_template_columns": null,
            "grid_template_rows": null,
            "height": null,
            "justify_content": null,
            "justify_items": null,
            "left": null,
            "margin": null,
            "max_height": null,
            "max_width": null,
            "min_height": null,
            "min_width": null,
            "object_fit": null,
            "object_position": null,
            "order": null,
            "overflow": null,
            "overflow_x": null,
            "overflow_y": null,
            "padding": null,
            "right": null,
            "top": null,
            "visibility": null,
            "width": null
          }
        },
        "75156f632bf7456dab4b92b2f4fa77bf": {
          "model_module": "@jupyter-widgets/controls",
          "model_name": "DescriptionStyleModel",
          "model_module_version": "1.5.0",
          "state": {
            "_model_module": "@jupyter-widgets/controls",
            "_model_module_version": "1.5.0",
            "_model_name": "DescriptionStyleModel",
            "_view_count": null,
            "_view_module": "@jupyter-widgets/base",
            "_view_module_version": "1.2.0",
            "_view_name": "StyleView",
            "description_width": ""
          }
        },
        "8498eac92ab441088241db194bf501e3": {
          "model_module": "@jupyter-widgets/controls",
          "model_name": "HBoxModel",
          "model_module_version": "1.5.0",
          "state": {
            "_dom_classes": [],
            "_model_module": "@jupyter-widgets/controls",
            "_model_module_version": "1.5.0",
            "_model_name": "HBoxModel",
            "_view_count": null,
            "_view_module": "@jupyter-widgets/controls",
            "_view_module_version": "1.5.0",
            "_view_name": "HBoxView",
            "box_style": "",
            "children": [
              "IPY_MODEL_1dd2a71fbe1f46e9adf327f0a77082b0",
              "IPY_MODEL_8ecdb5b64e00432a96386631840e828d",
              "IPY_MODEL_790ad73c4fb8485da32c209f01455eb5"
            ],
            "layout": "IPY_MODEL_c6e0ca5fbf514a9b8bddf65bf662bc1f"
          }
        },
        "1dd2a71fbe1f46e9adf327f0a77082b0": {
          "model_module": "@jupyter-widgets/controls",
          "model_name": "HTMLModel",
          "model_module_version": "1.5.0",
          "state": {
            "_dom_classes": [],
            "_model_module": "@jupyter-widgets/controls",
            "_model_module_version": "1.5.0",
            "_model_name": "HTMLModel",
            "_view_count": null,
            "_view_module": "@jupyter-widgets/controls",
            "_view_module_version": "1.5.0",
            "_view_name": "HTMLView",
            "description": "",
            "description_tooltip": null,
            "layout": "IPY_MODEL_24a9942235d64b65a24d88e409c025f2",
            "placeholder": "​",
            "style": "IPY_MODEL_8f357545778d4187aa7b83c44f754e5b",
            "value": "sentencepiece.bpe.model: 100%"
          }
        },
        "8ecdb5b64e00432a96386631840e828d": {
          "model_module": "@jupyter-widgets/controls",
          "model_name": "FloatProgressModel",
          "model_module_version": "1.5.0",
          "state": {
            "_dom_classes": [],
            "_model_module": "@jupyter-widgets/controls",
            "_model_module_version": "1.5.0",
            "_model_name": "FloatProgressModel",
            "_view_count": null,
            "_view_module": "@jupyter-widgets/controls",
            "_view_module_version": "1.5.0",
            "_view_name": "ProgressView",
            "bar_style": "success",
            "description": "",
            "description_tooltip": null,
            "layout": "IPY_MODEL_adcc62e34e834f119a9e326ed9de2dd4",
            "max": 5069051,
            "min": 0,
            "orientation": "horizontal",
            "style": "IPY_MODEL_038be87882af4c2381491d179da4fa3a",
            "value": 5069051
          }
        },
        "790ad73c4fb8485da32c209f01455eb5": {
          "model_module": "@jupyter-widgets/controls",
          "model_name": "HTMLModel",
          "model_module_version": "1.5.0",
          "state": {
            "_dom_classes": [],
            "_model_module": "@jupyter-widgets/controls",
            "_model_module_version": "1.5.0",
            "_model_name": "HTMLModel",
            "_view_count": null,
            "_view_module": "@jupyter-widgets/controls",
            "_view_module_version": "1.5.0",
            "_view_name": "HTMLView",
            "description": "",
            "description_tooltip": null,
            "layout": "IPY_MODEL_7337ef4dc96c43cdbee401ab56492df4",
            "placeholder": "​",
            "style": "IPY_MODEL_acea41a899124a17bdfc8a12d660dadb",
            "value": " 5.07M/5.07M [00:00&lt;00:00, 5.45MB/s]"
          }
        },
        "c6e0ca5fbf514a9b8bddf65bf662bc1f": {
          "model_module": "@jupyter-widgets/base",
          "model_name": "LayoutModel",
          "model_module_version": "1.2.0",
          "state": {
            "_model_module": "@jupyter-widgets/base",
            "_model_module_version": "1.2.0",
            "_model_name": "LayoutModel",
            "_view_count": null,
            "_view_module": "@jupyter-widgets/base",
            "_view_module_version": "1.2.0",
            "_view_name": "LayoutView",
            "align_content": null,
            "align_items": null,
            "align_self": null,
            "border": null,
            "bottom": null,
            "display": null,
            "flex": null,
            "flex_flow": null,
            "grid_area": null,
            "grid_auto_columns": null,
            "grid_auto_flow": null,
            "grid_auto_rows": null,
            "grid_column": null,
            "grid_gap": null,
            "grid_row": null,
            "grid_template_areas": null,
            "grid_template_columns": null,
            "grid_template_rows": null,
            "height": null,
            "justify_content": null,
            "justify_items": null,
            "left": null,
            "margin": null,
            "max_height": null,
            "max_width": null,
            "min_height": null,
            "min_width": null,
            "object_fit": null,
            "object_position": null,
            "order": null,
            "overflow": null,
            "overflow_x": null,
            "overflow_y": null,
            "padding": null,
            "right": null,
            "top": null,
            "visibility": null,
            "width": null
          }
        },
        "24a9942235d64b65a24d88e409c025f2": {
          "model_module": "@jupyter-widgets/base",
          "model_name": "LayoutModel",
          "model_module_version": "1.2.0",
          "state": {
            "_model_module": "@jupyter-widgets/base",
            "_model_module_version": "1.2.0",
            "_model_name": "LayoutModel",
            "_view_count": null,
            "_view_module": "@jupyter-widgets/base",
            "_view_module_version": "1.2.0",
            "_view_name": "LayoutView",
            "align_content": null,
            "align_items": null,
            "align_self": null,
            "border": null,
            "bottom": null,
            "display": null,
            "flex": null,
            "flex_flow": null,
            "grid_area": null,
            "grid_auto_columns": null,
            "grid_auto_flow": null,
            "grid_auto_rows": null,
            "grid_column": null,
            "grid_gap": null,
            "grid_row": null,
            "grid_template_areas": null,
            "grid_template_columns": null,
            "grid_template_rows": null,
            "height": null,
            "justify_content": null,
            "justify_items": null,
            "left": null,
            "margin": null,
            "max_height": null,
            "max_width": null,
            "min_height": null,
            "min_width": null,
            "object_fit": null,
            "object_position": null,
            "order": null,
            "overflow": null,
            "overflow_x": null,
            "overflow_y": null,
            "padding": null,
            "right": null,
            "top": null,
            "visibility": null,
            "width": null
          }
        },
        "8f357545778d4187aa7b83c44f754e5b": {
          "model_module": "@jupyter-widgets/controls",
          "model_name": "DescriptionStyleModel",
          "model_module_version": "1.5.0",
          "state": {
            "_model_module": "@jupyter-widgets/controls",
            "_model_module_version": "1.5.0",
            "_model_name": "DescriptionStyleModel",
            "_view_count": null,
            "_view_module": "@jupyter-widgets/base",
            "_view_module_version": "1.2.0",
            "_view_name": "StyleView",
            "description_width": ""
          }
        },
        "adcc62e34e834f119a9e326ed9de2dd4": {
          "model_module": "@jupyter-widgets/base",
          "model_name": "LayoutModel",
          "model_module_version": "1.2.0",
          "state": {
            "_model_module": "@jupyter-widgets/base",
            "_model_module_version": "1.2.0",
            "_model_name": "LayoutModel",
            "_view_count": null,
            "_view_module": "@jupyter-widgets/base",
            "_view_module_version": "1.2.0",
            "_view_name": "LayoutView",
            "align_content": null,
            "align_items": null,
            "align_self": null,
            "border": null,
            "bottom": null,
            "display": null,
            "flex": null,
            "flex_flow": null,
            "grid_area": null,
            "grid_auto_columns": null,
            "grid_auto_flow": null,
            "grid_auto_rows": null,
            "grid_column": null,
            "grid_gap": null,
            "grid_row": null,
            "grid_template_areas": null,
            "grid_template_columns": null,
            "grid_template_rows": null,
            "height": null,
            "justify_content": null,
            "justify_items": null,
            "left": null,
            "margin": null,
            "max_height": null,
            "max_width": null,
            "min_height": null,
            "min_width": null,
            "object_fit": null,
            "object_position": null,
            "order": null,
            "overflow": null,
            "overflow_x": null,
            "overflow_y": null,
            "padding": null,
            "right": null,
            "top": null,
            "visibility": null,
            "width": null
          }
        },
        "038be87882af4c2381491d179da4fa3a": {
          "model_module": "@jupyter-widgets/controls",
          "model_name": "ProgressStyleModel",
          "model_module_version": "1.5.0",
          "state": {
            "_model_module": "@jupyter-widgets/controls",
            "_model_module_version": "1.5.0",
            "_model_name": "ProgressStyleModel",
            "_view_count": null,
            "_view_module": "@jupyter-widgets/base",
            "_view_module_version": "1.2.0",
            "_view_name": "StyleView",
            "bar_color": null,
            "description_width": ""
          }
        },
        "7337ef4dc96c43cdbee401ab56492df4": {
          "model_module": "@jupyter-widgets/base",
          "model_name": "LayoutModel",
          "model_module_version": "1.2.0",
          "state": {
            "_model_module": "@jupyter-widgets/base",
            "_model_module_version": "1.2.0",
            "_model_name": "LayoutModel",
            "_view_count": null,
            "_view_module": "@jupyter-widgets/base",
            "_view_module_version": "1.2.0",
            "_view_name": "LayoutView",
            "align_content": null,
            "align_items": null,
            "align_self": null,
            "border": null,
            "bottom": null,
            "display": null,
            "flex": null,
            "flex_flow": null,
            "grid_area": null,
            "grid_auto_columns": null,
            "grid_auto_flow": null,
            "grid_auto_rows": null,
            "grid_column": null,
            "grid_gap": null,
            "grid_row": null,
            "grid_template_areas": null,
            "grid_template_columns": null,
            "grid_template_rows": null,
            "height": null,
            "justify_content": null,
            "justify_items": null,
            "left": null,
            "margin": null,
            "max_height": null,
            "max_width": null,
            "min_height": null,
            "min_width": null,
            "object_fit": null,
            "object_position": null,
            "order": null,
            "overflow": null,
            "overflow_x": null,
            "overflow_y": null,
            "padding": null,
            "right": null,
            "top": null,
            "visibility": null,
            "width": null
          }
        },
        "acea41a899124a17bdfc8a12d660dadb": {
          "model_module": "@jupyter-widgets/controls",
          "model_name": "DescriptionStyleModel",
          "model_module_version": "1.5.0",
          "state": {
            "_model_module": "@jupyter-widgets/controls",
            "_model_module_version": "1.5.0",
            "_model_name": "DescriptionStyleModel",
            "_view_count": null,
            "_view_module": "@jupyter-widgets/base",
            "_view_module_version": "1.2.0",
            "_view_name": "StyleView",
            "description_width": ""
          }
        },
        "3a6632fdc5284ba1b9a9b66f13aa6af5": {
          "model_module": "@jupyter-widgets/controls",
          "model_name": "HBoxModel",
          "model_module_version": "1.5.0",
          "state": {
            "_dom_classes": [],
            "_model_module": "@jupyter-widgets/controls",
            "_model_module_version": "1.5.0",
            "_model_name": "HBoxModel",
            "_view_count": null,
            "_view_module": "@jupyter-widgets/controls",
            "_view_module_version": "1.5.0",
            "_view_name": "HBoxView",
            "box_style": "",
            "children": [
              "IPY_MODEL_a32af1fd942a4738b88160558a6d77a1",
              "IPY_MODEL_04d02fb641514aa6b0274f5ba72e9faa",
              "IPY_MODEL_bf30250fec124600953303e53ba8b405"
            ],
            "layout": "IPY_MODEL_b59f8b87de2249c0a10b0e8574d63d86"
          }
        },
        "a32af1fd942a4738b88160558a6d77a1": {
          "model_module": "@jupyter-widgets/controls",
          "model_name": "HTMLModel",
          "model_module_version": "1.5.0",
          "state": {
            "_dom_classes": [],
            "_model_module": "@jupyter-widgets/controls",
            "_model_module_version": "1.5.0",
            "_model_name": "HTMLModel",
            "_view_count": null,
            "_view_module": "@jupyter-widgets/controls",
            "_view_module_version": "1.5.0",
            "_view_name": "HTMLView",
            "description": "",
            "description_tooltip": null,
            "layout": "IPY_MODEL_1db00de12f0d4a42b81c40936e5d471b",
            "placeholder": "​",
            "style": "IPY_MODEL_eb7c8be01c0a49e080022fe5e0222bcb",
            "value": "tokenizer.json: 100%"
          }
        },
        "04d02fb641514aa6b0274f5ba72e9faa": {
          "model_module": "@jupyter-widgets/controls",
          "model_name": "FloatProgressModel",
          "model_module_version": "1.5.0",
          "state": {
            "_dom_classes": [],
            "_model_module": "@jupyter-widgets/controls",
            "_model_module_version": "1.5.0",
            "_model_name": "FloatProgressModel",
            "_view_count": null,
            "_view_module": "@jupyter-widgets/controls",
            "_view_module_version": "1.5.0",
            "_view_name": "ProgressView",
            "bar_style": "success",
            "description": "",
            "description_tooltip": null,
            "layout": "IPY_MODEL_35f18f16a314447e9b5c8bcdf0beaefc",
            "max": 9096718,
            "min": 0,
            "orientation": "horizontal",
            "style": "IPY_MODEL_17fba92bfd944aa8bd825672d74eceb3",
            "value": 9096718
          }
        },
        "bf30250fec124600953303e53ba8b405": {
          "model_module": "@jupyter-widgets/controls",
          "model_name": "HTMLModel",
          "model_module_version": "1.5.0",
          "state": {
            "_dom_classes": [],
            "_model_module": "@jupyter-widgets/controls",
            "_model_module_version": "1.5.0",
            "_model_name": "HTMLModel",
            "_view_count": null,
            "_view_module": "@jupyter-widgets/controls",
            "_view_module_version": "1.5.0",
            "_view_name": "HTMLView",
            "description": "",
            "description_tooltip": null,
            "layout": "IPY_MODEL_aa278bb3d87444a38261a36ff2adbfa4",
            "placeholder": "​",
            "style": "IPY_MODEL_dfa818031f2c4ede8e897ecd15b7edd5",
            "value": " 9.10M/9.10M [00:02&lt;00:00, 3.88MB/s]"
          }
        },
        "b59f8b87de2249c0a10b0e8574d63d86": {
          "model_module": "@jupyter-widgets/base",
          "model_name": "LayoutModel",
          "model_module_version": "1.2.0",
          "state": {
            "_model_module": "@jupyter-widgets/base",
            "_model_module_version": "1.2.0",
            "_model_name": "LayoutModel",
            "_view_count": null,
            "_view_module": "@jupyter-widgets/base",
            "_view_module_version": "1.2.0",
            "_view_name": "LayoutView",
            "align_content": null,
            "align_items": null,
            "align_self": null,
            "border": null,
            "bottom": null,
            "display": null,
            "flex": null,
            "flex_flow": null,
            "grid_area": null,
            "grid_auto_columns": null,
            "grid_auto_flow": null,
            "grid_auto_rows": null,
            "grid_column": null,
            "grid_gap": null,
            "grid_row": null,
            "grid_template_areas": null,
            "grid_template_columns": null,
            "grid_template_rows": null,
            "height": null,
            "justify_content": null,
            "justify_items": null,
            "left": null,
            "margin": null,
            "max_height": null,
            "max_width": null,
            "min_height": null,
            "min_width": null,
            "object_fit": null,
            "object_position": null,
            "order": null,
            "overflow": null,
            "overflow_x": null,
            "overflow_y": null,
            "padding": null,
            "right": null,
            "top": null,
            "visibility": null,
            "width": null
          }
        },
        "1db00de12f0d4a42b81c40936e5d471b": {
          "model_module": "@jupyter-widgets/base",
          "model_name": "LayoutModel",
          "model_module_version": "1.2.0",
          "state": {
            "_model_module": "@jupyter-widgets/base",
            "_model_module_version": "1.2.0",
            "_model_name": "LayoutModel",
            "_view_count": null,
            "_view_module": "@jupyter-widgets/base",
            "_view_module_version": "1.2.0",
            "_view_name": "LayoutView",
            "align_content": null,
            "align_items": null,
            "align_self": null,
            "border": null,
            "bottom": null,
            "display": null,
            "flex": null,
            "flex_flow": null,
            "grid_area": null,
            "grid_auto_columns": null,
            "grid_auto_flow": null,
            "grid_auto_rows": null,
            "grid_column": null,
            "grid_gap": null,
            "grid_row": null,
            "grid_template_areas": null,
            "grid_template_columns": null,
            "grid_template_rows": null,
            "height": null,
            "justify_content": null,
            "justify_items": null,
            "left": null,
            "margin": null,
            "max_height": null,
            "max_width": null,
            "min_height": null,
            "min_width": null,
            "object_fit": null,
            "object_position": null,
            "order": null,
            "overflow": null,
            "overflow_x": null,
            "overflow_y": null,
            "padding": null,
            "right": null,
            "top": null,
            "visibility": null,
            "width": null
          }
        },
        "eb7c8be01c0a49e080022fe5e0222bcb": {
          "model_module": "@jupyter-widgets/controls",
          "model_name": "DescriptionStyleModel",
          "model_module_version": "1.5.0",
          "state": {
            "_model_module": "@jupyter-widgets/controls",
            "_model_module_version": "1.5.0",
            "_model_name": "DescriptionStyleModel",
            "_view_count": null,
            "_view_module": "@jupyter-widgets/base",
            "_view_module_version": "1.2.0",
            "_view_name": "StyleView",
            "description_width": ""
          }
        },
        "35f18f16a314447e9b5c8bcdf0beaefc": {
          "model_module": "@jupyter-widgets/base",
          "model_name": "LayoutModel",
          "model_module_version": "1.2.0",
          "state": {
            "_model_module": "@jupyter-widgets/base",
            "_model_module_version": "1.2.0",
            "_model_name": "LayoutModel",
            "_view_count": null,
            "_view_module": "@jupyter-widgets/base",
            "_view_module_version": "1.2.0",
            "_view_name": "LayoutView",
            "align_content": null,
            "align_items": null,
            "align_self": null,
            "border": null,
            "bottom": null,
            "display": null,
            "flex": null,
            "flex_flow": null,
            "grid_area": null,
            "grid_auto_columns": null,
            "grid_auto_flow": null,
            "grid_auto_rows": null,
            "grid_column": null,
            "grid_gap": null,
            "grid_row": null,
            "grid_template_areas": null,
            "grid_template_columns": null,
            "grid_template_rows": null,
            "height": null,
            "justify_content": null,
            "justify_items": null,
            "left": null,
            "margin": null,
            "max_height": null,
            "max_width": null,
            "min_height": null,
            "min_width": null,
            "object_fit": null,
            "object_position": null,
            "order": null,
            "overflow": null,
            "overflow_x": null,
            "overflow_y": null,
            "padding": null,
            "right": null,
            "top": null,
            "visibility": null,
            "width": null
          }
        },
        "17fba92bfd944aa8bd825672d74eceb3": {
          "model_module": "@jupyter-widgets/controls",
          "model_name": "ProgressStyleModel",
          "model_module_version": "1.5.0",
          "state": {
            "_model_module": "@jupyter-widgets/controls",
            "_model_module_version": "1.5.0",
            "_model_name": "ProgressStyleModel",
            "_view_count": null,
            "_view_module": "@jupyter-widgets/base",
            "_view_module_version": "1.2.0",
            "_view_name": "StyleView",
            "bar_color": null,
            "description_width": ""
          }
        },
        "aa278bb3d87444a38261a36ff2adbfa4": {
          "model_module": "@jupyter-widgets/base",
          "model_name": "LayoutModel",
          "model_module_version": "1.2.0",
          "state": {
            "_model_module": "@jupyter-widgets/base",
            "_model_module_version": "1.2.0",
            "_model_name": "LayoutModel",
            "_view_count": null,
            "_view_module": "@jupyter-widgets/base",
            "_view_module_version": "1.2.0",
            "_view_name": "LayoutView",
            "align_content": null,
            "align_items": null,
            "align_self": null,
            "border": null,
            "bottom": null,
            "display": null,
            "flex": null,
            "flex_flow": null,
            "grid_area": null,
            "grid_auto_columns": null,
            "grid_auto_flow": null,
            "grid_auto_rows": null,
            "grid_column": null,
            "grid_gap": null,
            "grid_row": null,
            "grid_template_areas": null,
            "grid_template_columns": null,
            "grid_template_rows": null,
            "height": null,
            "justify_content": null,
            "justify_items": null,
            "left": null,
            "margin": null,
            "max_height": null,
            "max_width": null,
            "min_height": null,
            "min_width": null,
            "object_fit": null,
            "object_position": null,
            "order": null,
            "overflow": null,
            "overflow_x": null,
            "overflow_y": null,
            "padding": null,
            "right": null,
            "top": null,
            "visibility": null,
            "width": null
          }
        },
        "dfa818031f2c4ede8e897ecd15b7edd5": {
          "model_module": "@jupyter-widgets/controls",
          "model_name": "DescriptionStyleModel",
          "model_module_version": "1.5.0",
          "state": {
            "_model_module": "@jupyter-widgets/controls",
            "_model_module_version": "1.5.0",
            "_model_name": "DescriptionStyleModel",
            "_view_count": null,
            "_view_module": "@jupyter-widgets/base",
            "_view_module_version": "1.2.0",
            "_view_name": "StyleView",
            "description_width": ""
          }
        },
        "29ac2e4aad444f83a962ae873c143433": {
          "model_module": "@jupyter-widgets/controls",
          "model_name": "HBoxModel",
          "model_module_version": "1.5.0",
          "state": {
            "_dom_classes": [],
            "_model_module": "@jupyter-widgets/controls",
            "_model_module_version": "1.5.0",
            "_model_name": "HBoxModel",
            "_view_count": null,
            "_view_module": "@jupyter-widgets/controls",
            "_view_module_version": "1.5.0",
            "_view_name": "HBoxView",
            "box_style": "",
            "children": [
              "IPY_MODEL_eba9145fea164f5bb4ed2009ca925728",
              "IPY_MODEL_95bb8a3732f64af581b71e7c98f8670e",
              "IPY_MODEL_93612d7cb1b14716b2efe29c906e6131"
            ],
            "layout": "IPY_MODEL_f987784a907147878c8298f92dee2d3d"
          }
        },
        "eba9145fea164f5bb4ed2009ca925728": {
          "model_module": "@jupyter-widgets/controls",
          "model_name": "HTMLModel",
          "model_module_version": "1.5.0",
          "state": {
            "_dom_classes": [],
            "_model_module": "@jupyter-widgets/controls",
            "_model_module_version": "1.5.0",
            "_model_name": "HTMLModel",
            "_view_count": null,
            "_view_module": "@jupyter-widgets/controls",
            "_view_module_version": "1.5.0",
            "_view_name": "HTMLView",
            "description": "",
            "description_tooltip": null,
            "layout": "IPY_MODEL_bf2387214a8140e0a49387fca3b66576",
            "placeholder": "​",
            "style": "IPY_MODEL_4aae98927a3649d0b7747c69b7bbebcb",
            "value": "Map: 100%"
          }
        },
        "95bb8a3732f64af581b71e7c98f8670e": {
          "model_module": "@jupyter-widgets/controls",
          "model_name": "FloatProgressModel",
          "model_module_version": "1.5.0",
          "state": {
            "_dom_classes": [],
            "_model_module": "@jupyter-widgets/controls",
            "_model_module_version": "1.5.0",
            "_model_name": "FloatProgressModel",
            "_view_count": null,
            "_view_module": "@jupyter-widgets/controls",
            "_view_module_version": "1.5.0",
            "_view_name": "ProgressView",
            "bar_style": "success",
            "description": "",
            "description_tooltip": null,
            "layout": "IPY_MODEL_ab65fed019844a41b0ddaab7b248409d",
            "max": 12910,
            "min": 0,
            "orientation": "horizontal",
            "style": "IPY_MODEL_27ea00c3e4e8430d9d267aad55b2c862",
            "value": 12910
          }
        },
        "93612d7cb1b14716b2efe29c906e6131": {
          "model_module": "@jupyter-widgets/controls",
          "model_name": "HTMLModel",
          "model_module_version": "1.5.0",
          "state": {
            "_dom_classes": [],
            "_model_module": "@jupyter-widgets/controls",
            "_model_module_version": "1.5.0",
            "_model_name": "HTMLModel",
            "_view_count": null,
            "_view_module": "@jupyter-widgets/controls",
            "_view_module_version": "1.5.0",
            "_view_name": "HTMLView",
            "description": "",
            "description_tooltip": null,
            "layout": "IPY_MODEL_af5ac0d8b1f143228d65a204a2c9d730",
            "placeholder": "​",
            "style": "IPY_MODEL_a74fa4677ee64380b2ddb67c020dd267",
            "value": " 12910/12910 [00:08&lt;00:00, 1532.94 examples/s]"
          }
        },
        "f987784a907147878c8298f92dee2d3d": {
          "model_module": "@jupyter-widgets/base",
          "model_name": "LayoutModel",
          "model_module_version": "1.2.0",
          "state": {
            "_model_module": "@jupyter-widgets/base",
            "_model_module_version": "1.2.0",
            "_model_name": "LayoutModel",
            "_view_count": null,
            "_view_module": "@jupyter-widgets/base",
            "_view_module_version": "1.2.0",
            "_view_name": "LayoutView",
            "align_content": null,
            "align_items": null,
            "align_self": null,
            "border": null,
            "bottom": null,
            "display": null,
            "flex": null,
            "flex_flow": null,
            "grid_area": null,
            "grid_auto_columns": null,
            "grid_auto_flow": null,
            "grid_auto_rows": null,
            "grid_column": null,
            "grid_gap": null,
            "grid_row": null,
            "grid_template_areas": null,
            "grid_template_columns": null,
            "grid_template_rows": null,
            "height": null,
            "justify_content": null,
            "justify_items": null,
            "left": null,
            "margin": null,
            "max_height": null,
            "max_width": null,
            "min_height": null,
            "min_width": null,
            "object_fit": null,
            "object_position": null,
            "order": null,
            "overflow": null,
            "overflow_x": null,
            "overflow_y": null,
            "padding": null,
            "right": null,
            "top": null,
            "visibility": null,
            "width": null
          }
        },
        "bf2387214a8140e0a49387fca3b66576": {
          "model_module": "@jupyter-widgets/base",
          "model_name": "LayoutModel",
          "model_module_version": "1.2.0",
          "state": {
            "_model_module": "@jupyter-widgets/base",
            "_model_module_version": "1.2.0",
            "_model_name": "LayoutModel",
            "_view_count": null,
            "_view_module": "@jupyter-widgets/base",
            "_view_module_version": "1.2.0",
            "_view_name": "LayoutView",
            "align_content": null,
            "align_items": null,
            "align_self": null,
            "border": null,
            "bottom": null,
            "display": null,
            "flex": null,
            "flex_flow": null,
            "grid_area": null,
            "grid_auto_columns": null,
            "grid_auto_flow": null,
            "grid_auto_rows": null,
            "grid_column": null,
            "grid_gap": null,
            "grid_row": null,
            "grid_template_areas": null,
            "grid_template_columns": null,
            "grid_template_rows": null,
            "height": null,
            "justify_content": null,
            "justify_items": null,
            "left": null,
            "margin": null,
            "max_height": null,
            "max_width": null,
            "min_height": null,
            "min_width": null,
            "object_fit": null,
            "object_position": null,
            "order": null,
            "overflow": null,
            "overflow_x": null,
            "overflow_y": null,
            "padding": null,
            "right": null,
            "top": null,
            "visibility": null,
            "width": null
          }
        },
        "4aae98927a3649d0b7747c69b7bbebcb": {
          "model_module": "@jupyter-widgets/controls",
          "model_name": "DescriptionStyleModel",
          "model_module_version": "1.5.0",
          "state": {
            "_model_module": "@jupyter-widgets/controls",
            "_model_module_version": "1.5.0",
            "_model_name": "DescriptionStyleModel",
            "_view_count": null,
            "_view_module": "@jupyter-widgets/base",
            "_view_module_version": "1.2.0",
            "_view_name": "StyleView",
            "description_width": ""
          }
        },
        "ab65fed019844a41b0ddaab7b248409d": {
          "model_module": "@jupyter-widgets/base",
          "model_name": "LayoutModel",
          "model_module_version": "1.2.0",
          "state": {
            "_model_module": "@jupyter-widgets/base",
            "_model_module_version": "1.2.0",
            "_model_name": "LayoutModel",
            "_view_count": null,
            "_view_module": "@jupyter-widgets/base",
            "_view_module_version": "1.2.0",
            "_view_name": "LayoutView",
            "align_content": null,
            "align_items": null,
            "align_self": null,
            "border": null,
            "bottom": null,
            "display": null,
            "flex": null,
            "flex_flow": null,
            "grid_area": null,
            "grid_auto_columns": null,
            "grid_auto_flow": null,
            "grid_auto_rows": null,
            "grid_column": null,
            "grid_gap": null,
            "grid_row": null,
            "grid_template_areas": null,
            "grid_template_columns": null,
            "grid_template_rows": null,
            "height": null,
            "justify_content": null,
            "justify_items": null,
            "left": null,
            "margin": null,
            "max_height": null,
            "max_width": null,
            "min_height": null,
            "min_width": null,
            "object_fit": null,
            "object_position": null,
            "order": null,
            "overflow": null,
            "overflow_x": null,
            "overflow_y": null,
            "padding": null,
            "right": null,
            "top": null,
            "visibility": null,
            "width": null
          }
        },
        "27ea00c3e4e8430d9d267aad55b2c862": {
          "model_module": "@jupyter-widgets/controls",
          "model_name": "ProgressStyleModel",
          "model_module_version": "1.5.0",
          "state": {
            "_model_module": "@jupyter-widgets/controls",
            "_model_module_version": "1.5.0",
            "_model_name": "ProgressStyleModel",
            "_view_count": null,
            "_view_module": "@jupyter-widgets/base",
            "_view_module_version": "1.2.0",
            "_view_name": "StyleView",
            "bar_color": null,
            "description_width": ""
          }
        },
        "af5ac0d8b1f143228d65a204a2c9d730": {
          "model_module": "@jupyter-widgets/base",
          "model_name": "LayoutModel",
          "model_module_version": "1.2.0",
          "state": {
            "_model_module": "@jupyter-widgets/base",
            "_model_module_version": "1.2.0",
            "_model_name": "LayoutModel",
            "_view_count": null,
            "_view_module": "@jupyter-widgets/base",
            "_view_module_version": "1.2.0",
            "_view_name": "LayoutView",
            "align_content": null,
            "align_items": null,
            "align_self": null,
            "border": null,
            "bottom": null,
            "display": null,
            "flex": null,
            "flex_flow": null,
            "grid_area": null,
            "grid_auto_columns": null,
            "grid_auto_flow": null,
            "grid_auto_rows": null,
            "grid_column": null,
            "grid_gap": null,
            "grid_row": null,
            "grid_template_areas": null,
            "grid_template_columns": null,
            "grid_template_rows": null,
            "height": null,
            "justify_content": null,
            "justify_items": null,
            "left": null,
            "margin": null,
            "max_height": null,
            "max_width": null,
            "min_height": null,
            "min_width": null,
            "object_fit": null,
            "object_position": null,
            "order": null,
            "overflow": null,
            "overflow_x": null,
            "overflow_y": null,
            "padding": null,
            "right": null,
            "top": null,
            "visibility": null,
            "width": null
          }
        },
        "a74fa4677ee64380b2ddb67c020dd267": {
          "model_module": "@jupyter-widgets/controls",
          "model_name": "DescriptionStyleModel",
          "model_module_version": "1.5.0",
          "state": {
            "_model_module": "@jupyter-widgets/controls",
            "_model_module_version": "1.5.0",
            "_model_name": "DescriptionStyleModel",
            "_view_count": null,
            "_view_module": "@jupyter-widgets/base",
            "_view_module_version": "1.2.0",
            "_view_name": "StyleView",
            "description_width": ""
          }
        },
        "809ec5bbdc4047c083d750b13926e9a4": {
          "model_module": "@jupyter-widgets/controls",
          "model_name": "HBoxModel",
          "model_module_version": "1.5.0",
          "state": {
            "_dom_classes": [],
            "_model_module": "@jupyter-widgets/controls",
            "_model_module_version": "1.5.0",
            "_model_name": "HBoxModel",
            "_view_count": null,
            "_view_module": "@jupyter-widgets/controls",
            "_view_module_version": "1.5.0",
            "_view_name": "HBoxView",
            "box_style": "",
            "children": [
              "IPY_MODEL_4afe7223f64a4e37b3f0dfa77bfd53bd",
              "IPY_MODEL_8fb3fa09a02e40e698044a9b393e47ca",
              "IPY_MODEL_a18a25123b3540ccbbe5bc8e76879da2"
            ],
            "layout": "IPY_MODEL_06204b5cf7b24ac9aa6d4ae3a6f65f78"
          }
        },
        "4afe7223f64a4e37b3f0dfa77bfd53bd": {
          "model_module": "@jupyter-widgets/controls",
          "model_name": "HTMLModel",
          "model_module_version": "1.5.0",
          "state": {
            "_dom_classes": [],
            "_model_module": "@jupyter-widgets/controls",
            "_model_module_version": "1.5.0",
            "_model_name": "HTMLModel",
            "_view_count": null,
            "_view_module": "@jupyter-widgets/controls",
            "_view_module_version": "1.5.0",
            "_view_name": "HTMLView",
            "description": "",
            "description_tooltip": null,
            "layout": "IPY_MODEL_675a6455c83e4de5a0ff5a43754425fa",
            "placeholder": "​",
            "style": "IPY_MODEL_8d3df6d0edc54a4f8e5b8c42d63e1bc3",
            "value": "Map: 100%"
          }
        },
        "8fb3fa09a02e40e698044a9b393e47ca": {
          "model_module": "@jupyter-widgets/controls",
          "model_name": "FloatProgressModel",
          "model_module_version": "1.5.0",
          "state": {
            "_dom_classes": [],
            "_model_module": "@jupyter-widgets/controls",
            "_model_module_version": "1.5.0",
            "_model_name": "FloatProgressModel",
            "_view_count": null,
            "_view_module": "@jupyter-widgets/controls",
            "_view_module_version": "1.5.0",
            "_view_name": "ProgressView",
            "bar_style": "success",
            "description": "",
            "description_tooltip": null,
            "layout": "IPY_MODEL_07fc674229dc47d0a8abaf33ae040707",
            "max": 1614,
            "min": 0,
            "orientation": "horizontal",
            "style": "IPY_MODEL_417e5bf246d14432819bed775adc7862",
            "value": 1614
          }
        },
        "a18a25123b3540ccbbe5bc8e76879da2": {
          "model_module": "@jupyter-widgets/controls",
          "model_name": "HTMLModel",
          "model_module_version": "1.5.0",
          "state": {
            "_dom_classes": [],
            "_model_module": "@jupyter-widgets/controls",
            "_model_module_version": "1.5.0",
            "_model_name": "HTMLModel",
            "_view_count": null,
            "_view_module": "@jupyter-widgets/controls",
            "_view_module_version": "1.5.0",
            "_view_name": "HTMLView",
            "description": "",
            "description_tooltip": null,
            "layout": "IPY_MODEL_4ca690116d37433cbefd58d0454b7194",
            "placeholder": "​",
            "style": "IPY_MODEL_183613e4fc00406abc75952391cb3a39",
            "value": " 1614/1614 [00:01&lt;00:00, 1482.77 examples/s]"
          }
        },
        "06204b5cf7b24ac9aa6d4ae3a6f65f78": {
          "model_module": "@jupyter-widgets/base",
          "model_name": "LayoutModel",
          "model_module_version": "1.2.0",
          "state": {
            "_model_module": "@jupyter-widgets/base",
            "_model_module_version": "1.2.0",
            "_model_name": "LayoutModel",
            "_view_count": null,
            "_view_module": "@jupyter-widgets/base",
            "_view_module_version": "1.2.0",
            "_view_name": "LayoutView",
            "align_content": null,
            "align_items": null,
            "align_self": null,
            "border": null,
            "bottom": null,
            "display": null,
            "flex": null,
            "flex_flow": null,
            "grid_area": null,
            "grid_auto_columns": null,
            "grid_auto_flow": null,
            "grid_auto_rows": null,
            "grid_column": null,
            "grid_gap": null,
            "grid_row": null,
            "grid_template_areas": null,
            "grid_template_columns": null,
            "grid_template_rows": null,
            "height": null,
            "justify_content": null,
            "justify_items": null,
            "left": null,
            "margin": null,
            "max_height": null,
            "max_width": null,
            "min_height": null,
            "min_width": null,
            "object_fit": null,
            "object_position": null,
            "order": null,
            "overflow": null,
            "overflow_x": null,
            "overflow_y": null,
            "padding": null,
            "right": null,
            "top": null,
            "visibility": null,
            "width": null
          }
        },
        "675a6455c83e4de5a0ff5a43754425fa": {
          "model_module": "@jupyter-widgets/base",
          "model_name": "LayoutModel",
          "model_module_version": "1.2.0",
          "state": {
            "_model_module": "@jupyter-widgets/base",
            "_model_module_version": "1.2.0",
            "_model_name": "LayoutModel",
            "_view_count": null,
            "_view_module": "@jupyter-widgets/base",
            "_view_module_version": "1.2.0",
            "_view_name": "LayoutView",
            "align_content": null,
            "align_items": null,
            "align_self": null,
            "border": null,
            "bottom": null,
            "display": null,
            "flex": null,
            "flex_flow": null,
            "grid_area": null,
            "grid_auto_columns": null,
            "grid_auto_flow": null,
            "grid_auto_rows": null,
            "grid_column": null,
            "grid_gap": null,
            "grid_row": null,
            "grid_template_areas": null,
            "grid_template_columns": null,
            "grid_template_rows": null,
            "height": null,
            "justify_content": null,
            "justify_items": null,
            "left": null,
            "margin": null,
            "max_height": null,
            "max_width": null,
            "min_height": null,
            "min_width": null,
            "object_fit": null,
            "object_position": null,
            "order": null,
            "overflow": null,
            "overflow_x": null,
            "overflow_y": null,
            "padding": null,
            "right": null,
            "top": null,
            "visibility": null,
            "width": null
          }
        },
        "8d3df6d0edc54a4f8e5b8c42d63e1bc3": {
          "model_module": "@jupyter-widgets/controls",
          "model_name": "DescriptionStyleModel",
          "model_module_version": "1.5.0",
          "state": {
            "_model_module": "@jupyter-widgets/controls",
            "_model_module_version": "1.5.0",
            "_model_name": "DescriptionStyleModel",
            "_view_count": null,
            "_view_module": "@jupyter-widgets/base",
            "_view_module_version": "1.2.0",
            "_view_name": "StyleView",
            "description_width": ""
          }
        },
        "07fc674229dc47d0a8abaf33ae040707": {
          "model_module": "@jupyter-widgets/base",
          "model_name": "LayoutModel",
          "model_module_version": "1.2.0",
          "state": {
            "_model_module": "@jupyter-widgets/base",
            "_model_module_version": "1.2.0",
            "_model_name": "LayoutModel",
            "_view_count": null,
            "_view_module": "@jupyter-widgets/base",
            "_view_module_version": "1.2.0",
            "_view_name": "LayoutView",
            "align_content": null,
            "align_items": null,
            "align_self": null,
            "border": null,
            "bottom": null,
            "display": null,
            "flex": null,
            "flex_flow": null,
            "grid_area": null,
            "grid_auto_columns": null,
            "grid_auto_flow": null,
            "grid_auto_rows": null,
            "grid_column": null,
            "grid_gap": null,
            "grid_row": null,
            "grid_template_areas": null,
            "grid_template_columns": null,
            "grid_template_rows": null,
            "height": null,
            "justify_content": null,
            "justify_items": null,
            "left": null,
            "margin": null,
            "max_height": null,
            "max_width": null,
            "min_height": null,
            "min_width": null,
            "object_fit": null,
            "object_position": null,
            "order": null,
            "overflow": null,
            "overflow_x": null,
            "overflow_y": null,
            "padding": null,
            "right": null,
            "top": null,
            "visibility": null,
            "width": null
          }
        },
        "417e5bf246d14432819bed775adc7862": {
          "model_module": "@jupyter-widgets/controls",
          "model_name": "ProgressStyleModel",
          "model_module_version": "1.5.0",
          "state": {
            "_model_module": "@jupyter-widgets/controls",
            "_model_module_version": "1.5.0",
            "_model_name": "ProgressStyleModel",
            "_view_count": null,
            "_view_module": "@jupyter-widgets/base",
            "_view_module_version": "1.2.0",
            "_view_name": "StyleView",
            "bar_color": null,
            "description_width": ""
          }
        },
        "4ca690116d37433cbefd58d0454b7194": {
          "model_module": "@jupyter-widgets/base",
          "model_name": "LayoutModel",
          "model_module_version": "1.2.0",
          "state": {
            "_model_module": "@jupyter-widgets/base",
            "_model_module_version": "1.2.0",
            "_model_name": "LayoutModel",
            "_view_count": null,
            "_view_module": "@jupyter-widgets/base",
            "_view_module_version": "1.2.0",
            "_view_name": "LayoutView",
            "align_content": null,
            "align_items": null,
            "align_self": null,
            "border": null,
            "bottom": null,
            "display": null,
            "flex": null,
            "flex_flow": null,
            "grid_area": null,
            "grid_auto_columns": null,
            "grid_auto_flow": null,
            "grid_auto_rows": null,
            "grid_column": null,
            "grid_gap": null,
            "grid_row": null,
            "grid_template_areas": null,
            "grid_template_columns": null,
            "grid_template_rows": null,
            "height": null,
            "justify_content": null,
            "justify_items": null,
            "left": null,
            "margin": null,
            "max_height": null,
            "max_width": null,
            "min_height": null,
            "min_width": null,
            "object_fit": null,
            "object_position": null,
            "order": null,
            "overflow": null,
            "overflow_x": null,
            "overflow_y": null,
            "padding": null,
            "right": null,
            "top": null,
            "visibility": null,
            "width": null
          }
        },
        "183613e4fc00406abc75952391cb3a39": {
          "model_module": "@jupyter-widgets/controls",
          "model_name": "DescriptionStyleModel",
          "model_module_version": "1.5.0",
          "state": {
            "_model_module": "@jupyter-widgets/controls",
            "_model_module_version": "1.5.0",
            "_model_name": "DescriptionStyleModel",
            "_view_count": null,
            "_view_module": "@jupyter-widgets/base",
            "_view_module_version": "1.2.0",
            "_view_name": "StyleView",
            "description_width": ""
          }
        },
        "4b24e00d876f4b69b465c9ed6672df12": {
          "model_module": "@jupyter-widgets/controls",
          "model_name": "HBoxModel",
          "model_module_version": "1.5.0",
          "state": {
            "_dom_classes": [],
            "_model_module": "@jupyter-widgets/controls",
            "_model_module_version": "1.5.0",
            "_model_name": "HBoxModel",
            "_view_count": null,
            "_view_module": "@jupyter-widgets/controls",
            "_view_module_version": "1.5.0",
            "_view_name": "HBoxView",
            "box_style": "",
            "children": [
              "IPY_MODEL_329f85a7f91349f0b4f5a83dd6bfd2b7",
              "IPY_MODEL_17f41e0a84a844949b5721a149826f7c",
              "IPY_MODEL_32846f8fad014815b22f55319a9f6e3f"
            ],
            "layout": "IPY_MODEL_421d42980ec845d7980de4ef3714a5b4"
          }
        },
        "329f85a7f91349f0b4f5a83dd6bfd2b7": {
          "model_module": "@jupyter-widgets/controls",
          "model_name": "HTMLModel",
          "model_module_version": "1.5.0",
          "state": {
            "_dom_classes": [],
            "_model_module": "@jupyter-widgets/controls",
            "_model_module_version": "1.5.0",
            "_model_name": "HTMLModel",
            "_view_count": null,
            "_view_module": "@jupyter-widgets/controls",
            "_view_module_version": "1.5.0",
            "_view_name": "HTMLView",
            "description": "",
            "description_tooltip": null,
            "layout": "IPY_MODEL_3fa0f68f96a14336978cdc633069fe63",
            "placeholder": "​",
            "style": "IPY_MODEL_e24a1449ded244deb421ffc2d4b1f0b7",
            "value": "model.safetensors: 100%"
          }
        },
        "17f41e0a84a844949b5721a149826f7c": {
          "model_module": "@jupyter-widgets/controls",
          "model_name": "FloatProgressModel",
          "model_module_version": "1.5.0",
          "state": {
            "_dom_classes": [],
            "_model_module": "@jupyter-widgets/controls",
            "_model_module_version": "1.5.0",
            "_model_name": "FloatProgressModel",
            "_view_count": null,
            "_view_module": "@jupyter-widgets/controls",
            "_view_module_version": "1.5.0",
            "_view_name": "ProgressView",
            "bar_style": "success",
            "description": "",
            "description_tooltip": null,
            "layout": "IPY_MODEL_03470eada9a04b75937664621a5d8c48",
            "max": 1115567652,
            "min": 0,
            "orientation": "horizontal",
            "style": "IPY_MODEL_ba2f80b824b9499cb379b3d56c868e6d",
            "value": 1115567652
          }
        },
        "32846f8fad014815b22f55319a9f6e3f": {
          "model_module": "@jupyter-widgets/controls",
          "model_name": "HTMLModel",
          "model_module_version": "1.5.0",
          "state": {
            "_dom_classes": [],
            "_model_module": "@jupyter-widgets/controls",
            "_model_module_version": "1.5.0",
            "_model_name": "HTMLModel",
            "_view_count": null,
            "_view_module": "@jupyter-widgets/controls",
            "_view_module_version": "1.5.0",
            "_view_name": "HTMLView",
            "description": "",
            "description_tooltip": null,
            "layout": "IPY_MODEL_7121d284c9054fb580775c5e669e1365",
            "placeholder": "​",
            "style": "IPY_MODEL_049f2d74cdd841d08edcfb9948bf709b",
            "value": " 1.12G/1.12G [00:05&lt;00:00, 203MB/s]"
          }
        },
        "421d42980ec845d7980de4ef3714a5b4": {
          "model_module": "@jupyter-widgets/base",
          "model_name": "LayoutModel",
          "model_module_version": "1.2.0",
          "state": {
            "_model_module": "@jupyter-widgets/base",
            "_model_module_version": "1.2.0",
            "_model_name": "LayoutModel",
            "_view_count": null,
            "_view_module": "@jupyter-widgets/base",
            "_view_module_version": "1.2.0",
            "_view_name": "LayoutView",
            "align_content": null,
            "align_items": null,
            "align_self": null,
            "border": null,
            "bottom": null,
            "display": null,
            "flex": null,
            "flex_flow": null,
            "grid_area": null,
            "grid_auto_columns": null,
            "grid_auto_flow": null,
            "grid_auto_rows": null,
            "grid_column": null,
            "grid_gap": null,
            "grid_row": null,
            "grid_template_areas": null,
            "grid_template_columns": null,
            "grid_template_rows": null,
            "height": null,
            "justify_content": null,
            "justify_items": null,
            "left": null,
            "margin": null,
            "max_height": null,
            "max_width": null,
            "min_height": null,
            "min_width": null,
            "object_fit": null,
            "object_position": null,
            "order": null,
            "overflow": null,
            "overflow_x": null,
            "overflow_y": null,
            "padding": null,
            "right": null,
            "top": null,
            "visibility": null,
            "width": null
          }
        },
        "3fa0f68f96a14336978cdc633069fe63": {
          "model_module": "@jupyter-widgets/base",
          "model_name": "LayoutModel",
          "model_module_version": "1.2.0",
          "state": {
            "_model_module": "@jupyter-widgets/base",
            "_model_module_version": "1.2.0",
            "_model_name": "LayoutModel",
            "_view_count": null,
            "_view_module": "@jupyter-widgets/base",
            "_view_module_version": "1.2.0",
            "_view_name": "LayoutView",
            "align_content": null,
            "align_items": null,
            "align_self": null,
            "border": null,
            "bottom": null,
            "display": null,
            "flex": null,
            "flex_flow": null,
            "grid_area": null,
            "grid_auto_columns": null,
            "grid_auto_flow": null,
            "grid_auto_rows": null,
            "grid_column": null,
            "grid_gap": null,
            "grid_row": null,
            "grid_template_areas": null,
            "grid_template_columns": null,
            "grid_template_rows": null,
            "height": null,
            "justify_content": null,
            "justify_items": null,
            "left": null,
            "margin": null,
            "max_height": null,
            "max_width": null,
            "min_height": null,
            "min_width": null,
            "object_fit": null,
            "object_position": null,
            "order": null,
            "overflow": null,
            "overflow_x": null,
            "overflow_y": null,
            "padding": null,
            "right": null,
            "top": null,
            "visibility": null,
            "width": null
          }
        },
        "e24a1449ded244deb421ffc2d4b1f0b7": {
          "model_module": "@jupyter-widgets/controls",
          "model_name": "DescriptionStyleModel",
          "model_module_version": "1.5.0",
          "state": {
            "_model_module": "@jupyter-widgets/controls",
            "_model_module_version": "1.5.0",
            "_model_name": "DescriptionStyleModel",
            "_view_count": null,
            "_view_module": "@jupyter-widgets/base",
            "_view_module_version": "1.2.0",
            "_view_name": "StyleView",
            "description_width": ""
          }
        },
        "03470eada9a04b75937664621a5d8c48": {
          "model_module": "@jupyter-widgets/base",
          "model_name": "LayoutModel",
          "model_module_version": "1.2.0",
          "state": {
            "_model_module": "@jupyter-widgets/base",
            "_model_module_version": "1.2.0",
            "_model_name": "LayoutModel",
            "_view_count": null,
            "_view_module": "@jupyter-widgets/base",
            "_view_module_version": "1.2.0",
            "_view_name": "LayoutView",
            "align_content": null,
            "align_items": null,
            "align_self": null,
            "border": null,
            "bottom": null,
            "display": null,
            "flex": null,
            "flex_flow": null,
            "grid_area": null,
            "grid_auto_columns": null,
            "grid_auto_flow": null,
            "grid_auto_rows": null,
            "grid_column": null,
            "grid_gap": null,
            "grid_row": null,
            "grid_template_areas": null,
            "grid_template_columns": null,
            "grid_template_rows": null,
            "height": null,
            "justify_content": null,
            "justify_items": null,
            "left": null,
            "margin": null,
            "max_height": null,
            "max_width": null,
            "min_height": null,
            "min_width": null,
            "object_fit": null,
            "object_position": null,
            "order": null,
            "overflow": null,
            "overflow_x": null,
            "overflow_y": null,
            "padding": null,
            "right": null,
            "top": null,
            "visibility": null,
            "width": null
          }
        },
        "ba2f80b824b9499cb379b3d56c868e6d": {
          "model_module": "@jupyter-widgets/controls",
          "model_name": "ProgressStyleModel",
          "model_module_version": "1.5.0",
          "state": {
            "_model_module": "@jupyter-widgets/controls",
            "_model_module_version": "1.5.0",
            "_model_name": "ProgressStyleModel",
            "_view_count": null,
            "_view_module": "@jupyter-widgets/base",
            "_view_module_version": "1.2.0",
            "_view_name": "StyleView",
            "bar_color": null,
            "description_width": ""
          }
        },
        "7121d284c9054fb580775c5e669e1365": {
          "model_module": "@jupyter-widgets/base",
          "model_name": "LayoutModel",
          "model_module_version": "1.2.0",
          "state": {
            "_model_module": "@jupyter-widgets/base",
            "_model_module_version": "1.2.0",
            "_model_name": "LayoutModel",
            "_view_count": null,
            "_view_module": "@jupyter-widgets/base",
            "_view_module_version": "1.2.0",
            "_view_name": "LayoutView",
            "align_content": null,
            "align_items": null,
            "align_self": null,
            "border": null,
            "bottom": null,
            "display": null,
            "flex": null,
            "flex_flow": null,
            "grid_area": null,
            "grid_auto_columns": null,
            "grid_auto_flow": null,
            "grid_auto_rows": null,
            "grid_column": null,
            "grid_gap": null,
            "grid_row": null,
            "grid_template_areas": null,
            "grid_template_columns": null,
            "grid_template_rows": null,
            "height": null,
            "justify_content": null,
            "justify_items": null,
            "left": null,
            "margin": null,
            "max_height": null,
            "max_width": null,
            "min_height": null,
            "min_width": null,
            "object_fit": null,
            "object_position": null,
            "order": null,
            "overflow": null,
            "overflow_x": null,
            "overflow_y": null,
            "padding": null,
            "right": null,
            "top": null,
            "visibility": null,
            "width": null
          }
        },
        "049f2d74cdd841d08edcfb9948bf709b": {
          "model_module": "@jupyter-widgets/controls",
          "model_name": "DescriptionStyleModel",
          "model_module_version": "1.5.0",
          "state": {
            "_model_module": "@jupyter-widgets/controls",
            "_model_module_version": "1.5.0",
            "_model_name": "DescriptionStyleModel",
            "_view_count": null,
            "_view_module": "@jupyter-widgets/base",
            "_view_module_version": "1.2.0",
            "_view_name": "StyleView",
            "description_width": ""
          }
        },
        "2b66ccf4967d4b408a8d5f3c9dcc78a4": {
          "model_module": "@jupyter-widgets/controls",
          "model_name": "HBoxModel",
          "model_module_version": "1.5.0",
          "state": {
            "_dom_classes": [],
            "_model_module": "@jupyter-widgets/controls",
            "_model_module_version": "1.5.0",
            "_model_name": "HBoxModel",
            "_view_count": null,
            "_view_module": "@jupyter-widgets/controls",
            "_view_module_version": "1.5.0",
            "_view_name": "HBoxView",
            "box_style": "",
            "children": [
              "IPY_MODEL_1891c4aea1e54f77b86b71f7ff63342f",
              "IPY_MODEL_e0189eecd200426f909df1ce4323e843",
              "IPY_MODEL_33995ae9e5294a579c7be918782dec41"
            ],
            "layout": "IPY_MODEL_882500bfa92b4903a4d49abb3426325e"
          }
        },
        "1891c4aea1e54f77b86b71f7ff63342f": {
          "model_module": "@jupyter-widgets/controls",
          "model_name": "HTMLModel",
          "model_module_version": "1.5.0",
          "state": {
            "_dom_classes": [],
            "_model_module": "@jupyter-widgets/controls",
            "_model_module_version": "1.5.0",
            "_model_name": "HTMLModel",
            "_view_count": null,
            "_view_module": "@jupyter-widgets/controls",
            "_view_module_version": "1.5.0",
            "_view_name": "HTMLView",
            "description": "",
            "description_tooltip": null,
            "layout": "IPY_MODEL_04709dcf32fd47078530e4cb92059fbd",
            "placeholder": "​",
            "style": "IPY_MODEL_c9469f6a18164588a46cf74709b75f08",
            "value": "Downloading builder script: 100%"
          }
        },
        "e0189eecd200426f909df1ce4323e843": {
          "model_module": "@jupyter-widgets/controls",
          "model_name": "FloatProgressModel",
          "model_module_version": "1.5.0",
          "state": {
            "_dom_classes": [],
            "_model_module": "@jupyter-widgets/controls",
            "_model_module_version": "1.5.0",
            "_model_name": "FloatProgressModel",
            "_view_count": null,
            "_view_module": "@jupyter-widgets/controls",
            "_view_module_version": "1.5.0",
            "_view_name": "ProgressView",
            "bar_style": "success",
            "description": "",
            "description_tooltip": null,
            "layout": "IPY_MODEL_ecef45aae8a5490c9ed1f22d5e509f3b",
            "max": 4203,
            "min": 0,
            "orientation": "horizontal",
            "style": "IPY_MODEL_ba0f8dfd0c0040c59cf721d4611258fa",
            "value": 4203
          }
        },
        "33995ae9e5294a579c7be918782dec41": {
          "model_module": "@jupyter-widgets/controls",
          "model_name": "HTMLModel",
          "model_module_version": "1.5.0",
          "state": {
            "_dom_classes": [],
            "_model_module": "@jupyter-widgets/controls",
            "_model_module_version": "1.5.0",
            "_model_name": "HTMLModel",
            "_view_count": null,
            "_view_module": "@jupyter-widgets/controls",
            "_view_module_version": "1.5.0",
            "_view_name": "HTMLView",
            "description": "",
            "description_tooltip": null,
            "layout": "IPY_MODEL_35cd73b12991417d911fa57dde1cbd61",
            "placeholder": "​",
            "style": "IPY_MODEL_e1ecb10824aa4dc484d6db8baa1489c3",
            "value": " 4.20k/4.20k [00:00&lt;00:00, 354kB/s]"
          }
        },
        "882500bfa92b4903a4d49abb3426325e": {
          "model_module": "@jupyter-widgets/base",
          "model_name": "LayoutModel",
          "model_module_version": "1.2.0",
          "state": {
            "_model_module": "@jupyter-widgets/base",
            "_model_module_version": "1.2.0",
            "_model_name": "LayoutModel",
            "_view_count": null,
            "_view_module": "@jupyter-widgets/base",
            "_view_module_version": "1.2.0",
            "_view_name": "LayoutView",
            "align_content": null,
            "align_items": null,
            "align_self": null,
            "border": null,
            "bottom": null,
            "display": null,
            "flex": null,
            "flex_flow": null,
            "grid_area": null,
            "grid_auto_columns": null,
            "grid_auto_flow": null,
            "grid_auto_rows": null,
            "grid_column": null,
            "grid_gap": null,
            "grid_row": null,
            "grid_template_areas": null,
            "grid_template_columns": null,
            "grid_template_rows": null,
            "height": null,
            "justify_content": null,
            "justify_items": null,
            "left": null,
            "margin": null,
            "max_height": null,
            "max_width": null,
            "min_height": null,
            "min_width": null,
            "object_fit": null,
            "object_position": null,
            "order": null,
            "overflow": null,
            "overflow_x": null,
            "overflow_y": null,
            "padding": null,
            "right": null,
            "top": null,
            "visibility": null,
            "width": null
          }
        },
        "04709dcf32fd47078530e4cb92059fbd": {
          "model_module": "@jupyter-widgets/base",
          "model_name": "LayoutModel",
          "model_module_version": "1.2.0",
          "state": {
            "_model_module": "@jupyter-widgets/base",
            "_model_module_version": "1.2.0",
            "_model_name": "LayoutModel",
            "_view_count": null,
            "_view_module": "@jupyter-widgets/base",
            "_view_module_version": "1.2.0",
            "_view_name": "LayoutView",
            "align_content": null,
            "align_items": null,
            "align_self": null,
            "border": null,
            "bottom": null,
            "display": null,
            "flex": null,
            "flex_flow": null,
            "grid_area": null,
            "grid_auto_columns": null,
            "grid_auto_flow": null,
            "grid_auto_rows": null,
            "grid_column": null,
            "grid_gap": null,
            "grid_row": null,
            "grid_template_areas": null,
            "grid_template_columns": null,
            "grid_template_rows": null,
            "height": null,
            "justify_content": null,
            "justify_items": null,
            "left": null,
            "margin": null,
            "max_height": null,
            "max_width": null,
            "min_height": null,
            "min_width": null,
            "object_fit": null,
            "object_position": null,
            "order": null,
            "overflow": null,
            "overflow_x": null,
            "overflow_y": null,
            "padding": null,
            "right": null,
            "top": null,
            "visibility": null,
            "width": null
          }
        },
        "c9469f6a18164588a46cf74709b75f08": {
          "model_module": "@jupyter-widgets/controls",
          "model_name": "DescriptionStyleModel",
          "model_module_version": "1.5.0",
          "state": {
            "_model_module": "@jupyter-widgets/controls",
            "_model_module_version": "1.5.0",
            "_model_name": "DescriptionStyleModel",
            "_view_count": null,
            "_view_module": "@jupyter-widgets/base",
            "_view_module_version": "1.2.0",
            "_view_name": "StyleView",
            "description_width": ""
          }
        },
        "ecef45aae8a5490c9ed1f22d5e509f3b": {
          "model_module": "@jupyter-widgets/base",
          "model_name": "LayoutModel",
          "model_module_version": "1.2.0",
          "state": {
            "_model_module": "@jupyter-widgets/base",
            "_model_module_version": "1.2.0",
            "_model_name": "LayoutModel",
            "_view_count": null,
            "_view_module": "@jupyter-widgets/base",
            "_view_module_version": "1.2.0",
            "_view_name": "LayoutView",
            "align_content": null,
            "align_items": null,
            "align_self": null,
            "border": null,
            "bottom": null,
            "display": null,
            "flex": null,
            "flex_flow": null,
            "grid_area": null,
            "grid_auto_columns": null,
            "grid_auto_flow": null,
            "grid_auto_rows": null,
            "grid_column": null,
            "grid_gap": null,
            "grid_row": null,
            "grid_template_areas": null,
            "grid_template_columns": null,
            "grid_template_rows": null,
            "height": null,
            "justify_content": null,
            "justify_items": null,
            "left": null,
            "margin": null,
            "max_height": null,
            "max_width": null,
            "min_height": null,
            "min_width": null,
            "object_fit": null,
            "object_position": null,
            "order": null,
            "overflow": null,
            "overflow_x": null,
            "overflow_y": null,
            "padding": null,
            "right": null,
            "top": null,
            "visibility": null,
            "width": null
          }
        },
        "ba0f8dfd0c0040c59cf721d4611258fa": {
          "model_module": "@jupyter-widgets/controls",
          "model_name": "ProgressStyleModel",
          "model_module_version": "1.5.0",
          "state": {
            "_model_module": "@jupyter-widgets/controls",
            "_model_module_version": "1.5.0",
            "_model_name": "ProgressStyleModel",
            "_view_count": null,
            "_view_module": "@jupyter-widgets/base",
            "_view_module_version": "1.2.0",
            "_view_name": "StyleView",
            "bar_color": null,
            "description_width": ""
          }
        },
        "35cd73b12991417d911fa57dde1cbd61": {
          "model_module": "@jupyter-widgets/base",
          "model_name": "LayoutModel",
          "model_module_version": "1.2.0",
          "state": {
            "_model_module": "@jupyter-widgets/base",
            "_model_module_version": "1.2.0",
            "_model_name": "LayoutModel",
            "_view_count": null,
            "_view_module": "@jupyter-widgets/base",
            "_view_module_version": "1.2.0",
            "_view_name": "LayoutView",
            "align_content": null,
            "align_items": null,
            "align_self": null,
            "border": null,
            "bottom": null,
            "display": null,
            "flex": null,
            "flex_flow": null,
            "grid_area": null,
            "grid_auto_columns": null,
            "grid_auto_flow": null,
            "grid_auto_rows": null,
            "grid_column": null,
            "grid_gap": null,
            "grid_row": null,
            "grid_template_areas": null,
            "grid_template_columns": null,
            "grid_template_rows": null,
            "height": null,
            "justify_content": null,
            "justify_items": null,
            "left": null,
            "margin": null,
            "max_height": null,
            "max_width": null,
            "min_height": null,
            "min_width": null,
            "object_fit": null,
            "object_position": null,
            "order": null,
            "overflow": null,
            "overflow_x": null,
            "overflow_y": null,
            "padding": null,
            "right": null,
            "top": null,
            "visibility": null,
            "width": null
          }
        },
        "e1ecb10824aa4dc484d6db8baa1489c3": {
          "model_module": "@jupyter-widgets/controls",
          "model_name": "DescriptionStyleModel",
          "model_module_version": "1.5.0",
          "state": {
            "_model_module": "@jupyter-widgets/controls",
            "_model_module_version": "1.5.0",
            "_model_name": "DescriptionStyleModel",
            "_view_count": null,
            "_view_module": "@jupyter-widgets/base",
            "_view_module_version": "1.2.0",
            "_view_name": "StyleView",
            "description_width": ""
          }
        },
        "441877c3e19d480d8d9da6d458f9ad05": {
          "model_module": "@jupyter-widgets/controls",
          "model_name": "HBoxModel",
          "model_module_version": "1.5.0",
          "state": {
            "_dom_classes": [],
            "_model_module": "@jupyter-widgets/controls",
            "_model_module_version": "1.5.0",
            "_model_name": "HBoxModel",
            "_view_count": null,
            "_view_module": "@jupyter-widgets/controls",
            "_view_module_version": "1.5.0",
            "_view_name": "HBoxView",
            "box_style": "",
            "children": [
              "IPY_MODEL_e85076c23306478691b782211153338d",
              "IPY_MODEL_91f3e0b523b94005ae9b0b684f953dc9",
              "IPY_MODEL_b8c1cf0d8b33444983f36336203f3c76"
            ],
            "layout": "IPY_MODEL_3904685a6bd546e2805f20254f6b1d5e"
          }
        },
        "e85076c23306478691b782211153338d": {
          "model_module": "@jupyter-widgets/controls",
          "model_name": "HTMLModel",
          "model_module_version": "1.5.0",
          "state": {
            "_dom_classes": [],
            "_model_module": "@jupyter-widgets/controls",
            "_model_module_version": "1.5.0",
            "_model_name": "HTMLModel",
            "_view_count": null,
            "_view_module": "@jupyter-widgets/controls",
            "_view_module_version": "1.5.0",
            "_view_name": "HTMLView",
            "description": "",
            "description_tooltip": null,
            "layout": "IPY_MODEL_68b67388415e44d29ada5a002accfaba",
            "placeholder": "​",
            "style": "IPY_MODEL_be82141ddb574d4eb353fd5df4b6f5ee",
            "value": "Map: 100%"
          }
        },
        "91f3e0b523b94005ae9b0b684f953dc9": {
          "model_module": "@jupyter-widgets/controls",
          "model_name": "FloatProgressModel",
          "model_module_version": "1.5.0",
          "state": {
            "_dom_classes": [],
            "_model_module": "@jupyter-widgets/controls",
            "_model_module_version": "1.5.0",
            "_model_name": "FloatProgressModel",
            "_view_count": null,
            "_view_module": "@jupyter-widgets/controls",
            "_view_module_version": "1.5.0",
            "_view_name": "ProgressView",
            "bar_style": "success",
            "description": "",
            "description_tooltip": null,
            "layout": "IPY_MODEL_621f9a0a7f0b4cd5af4eb9110c6aa396",
            "max": 1614,
            "min": 0,
            "orientation": "horizontal",
            "style": "IPY_MODEL_b132f2c0f09e4eef81e4072a2cf3ec81",
            "value": 1614
          }
        },
        "b8c1cf0d8b33444983f36336203f3c76": {
          "model_module": "@jupyter-widgets/controls",
          "model_name": "HTMLModel",
          "model_module_version": "1.5.0",
          "state": {
            "_dom_classes": [],
            "_model_module": "@jupyter-widgets/controls",
            "_model_module_version": "1.5.0",
            "_model_name": "HTMLModel",
            "_view_count": null,
            "_view_module": "@jupyter-widgets/controls",
            "_view_module_version": "1.5.0",
            "_view_name": "HTMLView",
            "description": "",
            "description_tooltip": null,
            "layout": "IPY_MODEL_852dba8758594d66ba227c01f2b10237",
            "placeholder": "​",
            "style": "IPY_MODEL_db500538385e4757ac13fc23676c6390",
            "value": " 1614/1614 [00:01&lt;00:00, 1489.73 examples/s]"
          }
        },
        "3904685a6bd546e2805f20254f6b1d5e": {
          "model_module": "@jupyter-widgets/base",
          "model_name": "LayoutModel",
          "model_module_version": "1.2.0",
          "state": {
            "_model_module": "@jupyter-widgets/base",
            "_model_module_version": "1.2.0",
            "_model_name": "LayoutModel",
            "_view_count": null,
            "_view_module": "@jupyter-widgets/base",
            "_view_module_version": "1.2.0",
            "_view_name": "LayoutView",
            "align_content": null,
            "align_items": null,
            "align_self": null,
            "border": null,
            "bottom": null,
            "display": null,
            "flex": null,
            "flex_flow": null,
            "grid_area": null,
            "grid_auto_columns": null,
            "grid_auto_flow": null,
            "grid_auto_rows": null,
            "grid_column": null,
            "grid_gap": null,
            "grid_row": null,
            "grid_template_areas": null,
            "grid_template_columns": null,
            "grid_template_rows": null,
            "height": null,
            "justify_content": null,
            "justify_items": null,
            "left": null,
            "margin": null,
            "max_height": null,
            "max_width": null,
            "min_height": null,
            "min_width": null,
            "object_fit": null,
            "object_position": null,
            "order": null,
            "overflow": null,
            "overflow_x": null,
            "overflow_y": null,
            "padding": null,
            "right": null,
            "top": null,
            "visibility": null,
            "width": null
          }
        },
        "68b67388415e44d29ada5a002accfaba": {
          "model_module": "@jupyter-widgets/base",
          "model_name": "LayoutModel",
          "model_module_version": "1.2.0",
          "state": {
            "_model_module": "@jupyter-widgets/base",
            "_model_module_version": "1.2.0",
            "_model_name": "LayoutModel",
            "_view_count": null,
            "_view_module": "@jupyter-widgets/base",
            "_view_module_version": "1.2.0",
            "_view_name": "LayoutView",
            "align_content": null,
            "align_items": null,
            "align_self": null,
            "border": null,
            "bottom": null,
            "display": null,
            "flex": null,
            "flex_flow": null,
            "grid_area": null,
            "grid_auto_columns": null,
            "grid_auto_flow": null,
            "grid_auto_rows": null,
            "grid_column": null,
            "grid_gap": null,
            "grid_row": null,
            "grid_template_areas": null,
            "grid_template_columns": null,
            "grid_template_rows": null,
            "height": null,
            "justify_content": null,
            "justify_items": null,
            "left": null,
            "margin": null,
            "max_height": null,
            "max_width": null,
            "min_height": null,
            "min_width": null,
            "object_fit": null,
            "object_position": null,
            "order": null,
            "overflow": null,
            "overflow_x": null,
            "overflow_y": null,
            "padding": null,
            "right": null,
            "top": null,
            "visibility": null,
            "width": null
          }
        },
        "be82141ddb574d4eb353fd5df4b6f5ee": {
          "model_module": "@jupyter-widgets/controls",
          "model_name": "DescriptionStyleModel",
          "model_module_version": "1.5.0",
          "state": {
            "_model_module": "@jupyter-widgets/controls",
            "_model_module_version": "1.5.0",
            "_model_name": "DescriptionStyleModel",
            "_view_count": null,
            "_view_module": "@jupyter-widgets/base",
            "_view_module_version": "1.2.0",
            "_view_name": "StyleView",
            "description_width": ""
          }
        },
        "621f9a0a7f0b4cd5af4eb9110c6aa396": {
          "model_module": "@jupyter-widgets/base",
          "model_name": "LayoutModel",
          "model_module_version": "1.2.0",
          "state": {
            "_model_module": "@jupyter-widgets/base",
            "_model_module_version": "1.2.0",
            "_model_name": "LayoutModel",
            "_view_count": null,
            "_view_module": "@jupyter-widgets/base",
            "_view_module_version": "1.2.0",
            "_view_name": "LayoutView",
            "align_content": null,
            "align_items": null,
            "align_self": null,
            "border": null,
            "bottom": null,
            "display": null,
            "flex": null,
            "flex_flow": null,
            "grid_area": null,
            "grid_auto_columns": null,
            "grid_auto_flow": null,
            "grid_auto_rows": null,
            "grid_column": null,
            "grid_gap": null,
            "grid_row": null,
            "grid_template_areas": null,
            "grid_template_columns": null,
            "grid_template_rows": null,
            "height": null,
            "justify_content": null,
            "justify_items": null,
            "left": null,
            "margin": null,
            "max_height": null,
            "max_width": null,
            "min_height": null,
            "min_width": null,
            "object_fit": null,
            "object_position": null,
            "order": null,
            "overflow": null,
            "overflow_x": null,
            "overflow_y": null,
            "padding": null,
            "right": null,
            "top": null,
            "visibility": null,
            "width": null
          }
        },
        "b132f2c0f09e4eef81e4072a2cf3ec81": {
          "model_module": "@jupyter-widgets/controls",
          "model_name": "ProgressStyleModel",
          "model_module_version": "1.5.0",
          "state": {
            "_model_module": "@jupyter-widgets/controls",
            "_model_module_version": "1.5.0",
            "_model_name": "ProgressStyleModel",
            "_view_count": null,
            "_view_module": "@jupyter-widgets/base",
            "_view_module_version": "1.2.0",
            "_view_name": "StyleView",
            "bar_color": null,
            "description_width": ""
          }
        },
        "852dba8758594d66ba227c01f2b10237": {
          "model_module": "@jupyter-widgets/base",
          "model_name": "LayoutModel",
          "model_module_version": "1.2.0",
          "state": {
            "_model_module": "@jupyter-widgets/base",
            "_model_module_version": "1.2.0",
            "_model_name": "LayoutModel",
            "_view_count": null,
            "_view_module": "@jupyter-widgets/base",
            "_view_module_version": "1.2.0",
            "_view_name": "LayoutView",
            "align_content": null,
            "align_items": null,
            "align_self": null,
            "border": null,
            "bottom": null,
            "display": null,
            "flex": null,
            "flex_flow": null,
            "grid_area": null,
            "grid_auto_columns": null,
            "grid_auto_flow": null,
            "grid_auto_rows": null,
            "grid_column": null,
            "grid_gap": null,
            "grid_row": null,
            "grid_template_areas": null,
            "grid_template_columns": null,
            "grid_template_rows": null,
            "height": null,
            "justify_content": null,
            "justify_items": null,
            "left": null,
            "margin": null,
            "max_height": null,
            "max_width": null,
            "min_height": null,
            "min_width": null,
            "object_fit": null,
            "object_position": null,
            "order": null,
            "overflow": null,
            "overflow_x": null,
            "overflow_y": null,
            "padding": null,
            "right": null,
            "top": null,
            "visibility": null,
            "width": null
          }
        },
        "db500538385e4757ac13fc23676c6390": {
          "model_module": "@jupyter-widgets/controls",
          "model_name": "DescriptionStyleModel",
          "model_module_version": "1.5.0",
          "state": {
            "_model_module": "@jupyter-widgets/controls",
            "_model_module_version": "1.5.0",
            "_model_name": "DescriptionStyleModel",
            "_view_count": null,
            "_view_module": "@jupyter-widgets/base",
            "_view_module_version": "1.2.0",
            "_view_name": "StyleView",
            "description_width": ""
          }
        }
      }
    }
  },
  "cells": [
    {
      "cell_type": "code",
      "source": [
        "import pandas as pd"
      ],
      "metadata": {
        "id": "WhZSElbtmCrc"
      },
      "execution_count": 1,
      "outputs": []
    },
    {
      "cell_type": "code",
      "execution_count": 2,
      "metadata": {
        "colab": {
          "base_uri": "https://localhost:8080/",
          "height": 35
        },
        "id": "dPb-5zDslPiK",
        "outputId": "9a8878da-8a69-42a8-d3e1-96cd6a2d69b6"
      },
      "outputs": [
        {
          "output_type": "execute_result",
          "data": {
            "text/plain": [
              "'/content/drive/MyDrive/Colab Notebooks/463/TrDataset/orientation-tr-train.tsv'"
            ],
            "application/vnd.google.colaboratory.intrinsic+json": {
              "type": "string"
            }
          },
          "metadata": {},
          "execution_count": 2
        }
      ],
      "source": [
        "orientation_path='/content/drive/MyDrive/Colab Notebooks/463/TrDataset/orientation-tr-train.tsv'\n",
        "orientation_path"
      ]
    },
    {
      "cell_type": "code",
      "source": [
        "# Load the file\n",
        "df = pd.read_csv(orientation_path, sep='\\t')\n",
        "\n",
        "# Print the first 2 rows\n",
        "df.head(2)"
      ],
      "metadata": {
        "colab": {
          "base_uri": "https://localhost:8080/",
          "height": 147
        },
        "id": "KqWm85LomQaz",
        "outputId": "570a8dcd-02d6-4dc8-d3b6-f4bcd3d129f7"
      },
      "execution_count": 3,
      "outputs": [
        {
          "output_type": "execute_result",
          "data": {
            "text/plain": [
              "        id                           speaker sex  \\\n",
              "0  tr00000  ca2031caa4032c51980160359953d507   M   \n",
              "1  tr00001  4cee0addb3c69f6866869b180f90d45f   M   \n",
              "\n",
              "                                                text  \\\n",
              "0  Yeni yasama döneminin ülkemiz için, milletimiz...   \n",
              "1  Sayın Başkan, değerli milletvekilleri; bugün, ...   \n",
              "\n",
              "                                             text_en  label  \n",
              "0  Mr. President, dear lawmakers, I salute you, a...      1  \n",
              "1  Mr. President, members of lawmakers, as I spea...      1  "
            ],
            "text/html": [
              "\n",
              "  <div id=\"df-a5793004-974d-4d0c-903f-5ef77d403ea1\" class=\"colab-df-container\">\n",
              "    <div>\n",
              "<style scoped>\n",
              "    .dataframe tbody tr th:only-of-type {\n",
              "        vertical-align: middle;\n",
              "    }\n",
              "\n",
              "    .dataframe tbody tr th {\n",
              "        vertical-align: top;\n",
              "    }\n",
              "\n",
              "    .dataframe thead th {\n",
              "        text-align: right;\n",
              "    }\n",
              "</style>\n",
              "<table border=\"1\" class=\"dataframe\">\n",
              "  <thead>\n",
              "    <tr style=\"text-align: right;\">\n",
              "      <th></th>\n",
              "      <th>id</th>\n",
              "      <th>speaker</th>\n",
              "      <th>sex</th>\n",
              "      <th>text</th>\n",
              "      <th>text_en</th>\n",
              "      <th>label</th>\n",
              "    </tr>\n",
              "  </thead>\n",
              "  <tbody>\n",
              "    <tr>\n",
              "      <th>0</th>\n",
              "      <td>tr00000</td>\n",
              "      <td>ca2031caa4032c51980160359953d507</td>\n",
              "      <td>M</td>\n",
              "      <td>Yeni yasama döneminin ülkemiz için, milletimiz...</td>\n",
              "      <td>Mr. President, dear lawmakers, I salute you, a...</td>\n",
              "      <td>1</td>\n",
              "    </tr>\n",
              "    <tr>\n",
              "      <th>1</th>\n",
              "      <td>tr00001</td>\n",
              "      <td>4cee0addb3c69f6866869b180f90d45f</td>\n",
              "      <td>M</td>\n",
              "      <td>Sayın Başkan, değerli milletvekilleri; bugün, ...</td>\n",
              "      <td>Mr. President, members of lawmakers, as I spea...</td>\n",
              "      <td>1</td>\n",
              "    </tr>\n",
              "  </tbody>\n",
              "</table>\n",
              "</div>\n",
              "    <div class=\"colab-df-buttons\">\n",
              "\n",
              "  <div class=\"colab-df-container\">\n",
              "    <button class=\"colab-df-convert\" onclick=\"convertToInteractive('df-a5793004-974d-4d0c-903f-5ef77d403ea1')\"\n",
              "            title=\"Convert this dataframe to an interactive table.\"\n",
              "            style=\"display:none;\">\n",
              "\n",
              "  <svg xmlns=\"http://www.w3.org/2000/svg\" height=\"24px\" viewBox=\"0 -960 960 960\">\n",
              "    <path d=\"M120-120v-720h720v720H120Zm60-500h600v-160H180v160Zm220 220h160v-160H400v160Zm0 220h160v-160H400v160ZM180-400h160v-160H180v160Zm440 0h160v-160H620v160ZM180-180h160v-160H180v160Zm440 0h160v-160H620v160Z\"/>\n",
              "  </svg>\n",
              "    </button>\n",
              "\n",
              "  <style>\n",
              "    .colab-df-container {\n",
              "      display:flex;\n",
              "      gap: 12px;\n",
              "    }\n",
              "\n",
              "    .colab-df-convert {\n",
              "      background-color: #E8F0FE;\n",
              "      border: none;\n",
              "      border-radius: 50%;\n",
              "      cursor: pointer;\n",
              "      display: none;\n",
              "      fill: #1967D2;\n",
              "      height: 32px;\n",
              "      padding: 0 0 0 0;\n",
              "      width: 32px;\n",
              "    }\n",
              "\n",
              "    .colab-df-convert:hover {\n",
              "      background-color: #E2EBFA;\n",
              "      box-shadow: 0px 1px 2px rgba(60, 64, 67, 0.3), 0px 1px 3px 1px rgba(60, 64, 67, 0.15);\n",
              "      fill: #174EA6;\n",
              "    }\n",
              "\n",
              "    .colab-df-buttons div {\n",
              "      margin-bottom: 4px;\n",
              "    }\n",
              "\n",
              "    [theme=dark] .colab-df-convert {\n",
              "      background-color: #3B4455;\n",
              "      fill: #D2E3FC;\n",
              "    }\n",
              "\n",
              "    [theme=dark] .colab-df-convert:hover {\n",
              "      background-color: #434B5C;\n",
              "      box-shadow: 0px 1px 3px 1px rgba(0, 0, 0, 0.15);\n",
              "      filter: drop-shadow(0px 1px 2px rgba(0, 0, 0, 0.3));\n",
              "      fill: #FFFFFF;\n",
              "    }\n",
              "  </style>\n",
              "\n",
              "    <script>\n",
              "      const buttonEl =\n",
              "        document.querySelector('#df-a5793004-974d-4d0c-903f-5ef77d403ea1 button.colab-df-convert');\n",
              "      buttonEl.style.display =\n",
              "        google.colab.kernel.accessAllowed ? 'block' : 'none';\n",
              "\n",
              "      async function convertToInteractive(key) {\n",
              "        const element = document.querySelector('#df-a5793004-974d-4d0c-903f-5ef77d403ea1');\n",
              "        const dataTable =\n",
              "          await google.colab.kernel.invokeFunction('convertToInteractive',\n",
              "                                                    [key], {});\n",
              "        if (!dataTable) return;\n",
              "\n",
              "        const docLinkHtml = 'Like what you see? Visit the ' +\n",
              "          '<a target=\"_blank\" href=https://colab.research.google.com/notebooks/data_table.ipynb>data table notebook</a>'\n",
              "          + ' to learn more about interactive tables.';\n",
              "        element.innerHTML = '';\n",
              "        dataTable['output_type'] = 'display_data';\n",
              "        await google.colab.output.renderOutput(dataTable, element);\n",
              "        const docLink = document.createElement('div');\n",
              "        docLink.innerHTML = docLinkHtml;\n",
              "        element.appendChild(docLink);\n",
              "      }\n",
              "    </script>\n",
              "  </div>\n",
              "\n",
              "\n",
              "<div id=\"df-cbe36081-5120-4307-905d-de240c4975c2\">\n",
              "  <button class=\"colab-df-quickchart\" onclick=\"quickchart('df-cbe36081-5120-4307-905d-de240c4975c2')\"\n",
              "            title=\"Suggest charts\"\n",
              "            style=\"display:none;\">\n",
              "\n",
              "<svg xmlns=\"http://www.w3.org/2000/svg\" height=\"24px\"viewBox=\"0 0 24 24\"\n",
              "     width=\"24px\">\n",
              "    <g>\n",
              "        <path d=\"M19 3H5c-1.1 0-2 .9-2 2v14c0 1.1.9 2 2 2h14c1.1 0 2-.9 2-2V5c0-1.1-.9-2-2-2zM9 17H7v-7h2v7zm4 0h-2V7h2v10zm4 0h-2v-4h2v4z\"/>\n",
              "    </g>\n",
              "</svg>\n",
              "  </button>\n",
              "\n",
              "<style>\n",
              "  .colab-df-quickchart {\n",
              "      --bg-color: #E8F0FE;\n",
              "      --fill-color: #1967D2;\n",
              "      --hover-bg-color: #E2EBFA;\n",
              "      --hover-fill-color: #174EA6;\n",
              "      --disabled-fill-color: #AAA;\n",
              "      --disabled-bg-color: #DDD;\n",
              "  }\n",
              "\n",
              "  [theme=dark] .colab-df-quickchart {\n",
              "      --bg-color: #3B4455;\n",
              "      --fill-color: #D2E3FC;\n",
              "      --hover-bg-color: #434B5C;\n",
              "      --hover-fill-color: #FFFFFF;\n",
              "      --disabled-bg-color: #3B4455;\n",
              "      --disabled-fill-color: #666;\n",
              "  }\n",
              "\n",
              "  .colab-df-quickchart {\n",
              "    background-color: var(--bg-color);\n",
              "    border: none;\n",
              "    border-radius: 50%;\n",
              "    cursor: pointer;\n",
              "    display: none;\n",
              "    fill: var(--fill-color);\n",
              "    height: 32px;\n",
              "    padding: 0;\n",
              "    width: 32px;\n",
              "  }\n",
              "\n",
              "  .colab-df-quickchart:hover {\n",
              "    background-color: var(--hover-bg-color);\n",
              "    box-shadow: 0 1px 2px rgba(60, 64, 67, 0.3), 0 1px 3px 1px rgba(60, 64, 67, 0.15);\n",
              "    fill: var(--button-hover-fill-color);\n",
              "  }\n",
              "\n",
              "  .colab-df-quickchart-complete:disabled,\n",
              "  .colab-df-quickchart-complete:disabled:hover {\n",
              "    background-color: var(--disabled-bg-color);\n",
              "    fill: var(--disabled-fill-color);\n",
              "    box-shadow: none;\n",
              "  }\n",
              "\n",
              "  .colab-df-spinner {\n",
              "    border: 2px solid var(--fill-color);\n",
              "    border-color: transparent;\n",
              "    border-bottom-color: var(--fill-color);\n",
              "    animation:\n",
              "      spin 1s steps(1) infinite;\n",
              "  }\n",
              "\n",
              "  @keyframes spin {\n",
              "    0% {\n",
              "      border-color: transparent;\n",
              "      border-bottom-color: var(--fill-color);\n",
              "      border-left-color: var(--fill-color);\n",
              "    }\n",
              "    20% {\n",
              "      border-color: transparent;\n",
              "      border-left-color: var(--fill-color);\n",
              "      border-top-color: var(--fill-color);\n",
              "    }\n",
              "    30% {\n",
              "      border-color: transparent;\n",
              "      border-left-color: var(--fill-color);\n",
              "      border-top-color: var(--fill-color);\n",
              "      border-right-color: var(--fill-color);\n",
              "    }\n",
              "    40% {\n",
              "      border-color: transparent;\n",
              "      border-right-color: var(--fill-color);\n",
              "      border-top-color: var(--fill-color);\n",
              "    }\n",
              "    60% {\n",
              "      border-color: transparent;\n",
              "      border-right-color: var(--fill-color);\n",
              "    }\n",
              "    80% {\n",
              "      border-color: transparent;\n",
              "      border-right-color: var(--fill-color);\n",
              "      border-bottom-color: var(--fill-color);\n",
              "    }\n",
              "    90% {\n",
              "      border-color: transparent;\n",
              "      border-bottom-color: var(--fill-color);\n",
              "    }\n",
              "  }\n",
              "</style>\n",
              "\n",
              "  <script>\n",
              "    async function quickchart(key) {\n",
              "      const quickchartButtonEl =\n",
              "        document.querySelector('#' + key + ' button');\n",
              "      quickchartButtonEl.disabled = true;  // To prevent multiple clicks.\n",
              "      quickchartButtonEl.classList.add('colab-df-spinner');\n",
              "      try {\n",
              "        const charts = await google.colab.kernel.invokeFunction(\n",
              "            'suggestCharts', [key], {});\n",
              "      } catch (error) {\n",
              "        console.error('Error during call to suggestCharts:', error);\n",
              "      }\n",
              "      quickchartButtonEl.classList.remove('colab-df-spinner');\n",
              "      quickchartButtonEl.classList.add('colab-df-quickchart-complete');\n",
              "    }\n",
              "    (() => {\n",
              "      let quickchartButtonEl =\n",
              "        document.querySelector('#df-cbe36081-5120-4307-905d-de240c4975c2 button');\n",
              "      quickchartButtonEl.style.display =\n",
              "        google.colab.kernel.accessAllowed ? 'block' : 'none';\n",
              "    })();\n",
              "  </script>\n",
              "</div>\n",
              "\n",
              "    </div>\n",
              "  </div>\n"
            ],
            "application/vnd.google.colaboratory.intrinsic+json": {
              "type": "dataframe",
              "variable_name": "df",
              "summary": "{\n  \"name\": \"df\",\n  \"rows\": 16138,\n  \"fields\": [\n    {\n      \"column\": \"id\",\n      \"properties\": {\n        \"dtype\": \"string\",\n        \"num_unique_values\": 16138,\n        \"samples\": [\n          \"tr07272\",\n          \"tr02254\",\n          \"tr13543\"\n        ],\n        \"semantic_type\": \"\",\n        \"description\": \"\"\n      }\n    },\n    {\n      \"column\": \"speaker\",\n      \"properties\": {\n        \"dtype\": \"category\",\n        \"num_unique_values\": 1042,\n        \"samples\": [\n          \"67426e8f6dc28016892bce721bd7ed71\",\n          \"e2d93f7eecb803991a421c9bf90b026c\",\n          \"3e33a91e1ee4e4e65f7c55a1fb34fe5c\"\n        ],\n        \"semantic_type\": \"\",\n        \"description\": \"\"\n      }\n    },\n    {\n      \"column\": \"sex\",\n      \"properties\": {\n        \"dtype\": \"category\",\n        \"num_unique_values\": 2,\n        \"samples\": [\n          \"F\",\n          \"M\"\n        ],\n        \"semantic_type\": \"\",\n        \"description\": \"\"\n      }\n    },\n    {\n      \"column\": \"text\",\n      \"properties\": {\n        \"dtype\": \"string\",\n        \"num_unique_values\": 16136,\n        \"samples\": [\n          \"K\\u00fc\\u00e7\\u00fck, orta \\u00f6l\\u00e7ekli i\\u015fletmelerin, KOB\\u0130\\u2019lerin i\\u015fletmelerini ayakta tutabilme ya da yeni yat\\u0131r\\u0131mlar ve \\u00fcretim tesisleri kurabilmeleri i\\u00e7in talepte bulunduklar\\u0131 krediyi daha kolay alabilmeleri i\\u00e7in yap\\u0131lan bu d\\u00fczenlemeler \\u00f6nemlidir fakat bu d\\u00fczenlemeler k\\u00fc\\u00e7\\u00fck, orta \\u00f6l\\u00e7ekli i\\u015fletmelerin mevcut s\\u0131k\\u0131nt\\u0131lar\\u0131n\\u0131 ortadan kald\\u0131rmayan, eksik ve yetersiz d\\u00fczenlemelerdir. K\\u00e2\\u011f\\u0131t \\u00fczerinde teorik olarak iyi g\\u00f6z\\u00fckse de sahada pratik olarak uygulanmad\\u0131\\u011f\\u0131 da bir ger\\u00e7ekliktir. <p> Sayg\\u0131de\\u011fer milletvekilleri, se\\u00e7im b\\u00f6lgem olan Hakk\\u00e2ri ve il\\u00e7elerinde yak\\u0131n zamana kadar zaten az say\\u0131da olan KOB\\u0130\\u2019lerin kullanmak istedikleri kredilere kar\\u015f\\u0131l\\u0131k oradaki gayrimenkullerinin teminat olarak kabul edilmedi\\u011fi pratiklerle esnaflar\\u0131m\\u0131z kar\\u015f\\u0131la\\u015fm\\u0131\\u015flard\\u0131r. <p> Ayr\\u0131ca, bu d\\u00f6nemde dahi e\\u011fer normal \\u015fartlarda kullanacaklar\\u0131 kredilere kar\\u015f\\u0131l\\u0131k 2 kat gayrimenkul teminat\\u0131 al\\u0131n\\u0131yorsa Hakk\\u00e2ri\\u2019de bu oran kulland\\u0131klar\\u0131 krediye kar\\u015f\\u0131l\\u0131k 6 kat fazlas\\u0131 gayrimenkul teminat\\u0131 vermek zorunda b\\u0131rak\\u0131lmaktad\\u0131r. Zaten paras\\u0131 ve gayrimenkul\\u00fc olmayan esnaf perperi\\u015fan, bir de bu \\u00e7ifte standartla keyf\\u00ee uygulamalara maruz kalan esnaf\\u0131m\\u0131z iyice ma\\u011fdur edilmektedir. <p> De\\u011ferli milletvekilleri, son soka\\u011fa \\u00e7\\u0131kma yasaklar\\u0131 s\\u0131ras\\u0131nda Y\\u00fcksekova\\u2019da 1.800 esnaf\\u0131m\\u0131z\\u0131n i\\u015f yeri zarar g\\u00f6rm\\u00fc\\u015f, esnaf\\u0131m\\u0131z\\u0131n zarar ve ziyanlar\\u0131n\\u0131n tespit edilip kar\\u015f\\u0131lanmas\\u0131 i\\u00e7in kurulan de\\u011fer tespit komisyonu, be\\u015f ay ge\\u00e7mesine ra\\u011fmen, h\\u00e2l\\u00e2 600 esnaf\\u0131m\\u0131z\\u0131n zarar\\u0131n\\u0131 tespit etmemi\\u015ftir. \\u00d6zellikle basit usul m\\u00fckellefi olan taksici esnaf\\u0131m\\u0131za 1.500 TL, k\\u00fc\\u00e7\\u00fck esnaf\\u0131m\\u0131za 3 bin TL te\\u015fvik yard\\u0131m\\u0131 bile H\\u00fck\\u00fbmet taraf\\u0131ndan \\u00f6denmemi\\u015ftir. B\\u00fcy\\u00fck ma\\u011fduriyetler ya\\u015fayan esnaf\\u0131m\\u0131za sicil aff\\u0131 getirilmemi\\u015f, esnaf kefalet kooperatifi \\u00fcyeleri esnaflar\\u0131m\\u0131z d\\u0131\\u015f\\u0131nda, kulland\\u0131klar\\u0131 krediler bir y\\u0131l faizsiz ertelenmemi\\u015ftir. \\u00d6zellikle Esnaf ve Sanatk\\u00e2rlar Odas\\u0131, Sanayi ve Ticaret Odas\\u0131 \\u00fcyelerinin de kredilerinin bir y\\u0131l faizsiz ertelenmesi gerekmektedir. \\u00c7eklerini, senetlerini \\u00f6deyemeyen esnaf\\u0131m\\u0131z\\u0131n itibar\\u0131 zedelenmi\\u015f, yeni \\u00fcr\\u00fcn alamad\\u0131klar\\u0131 i\\u00e7in 150\\u2019ye yak\\u0131n esnaf\\u0131m\\u0131z iflas ederek d\\u00fckk\\u00e2nlar\\u0131n\\u0131 kapatmak zorunda kalm\\u0131\\u015ft\\u0131r. H\\u00fck\\u00fbmetin bir an \\u00f6nce, evleri y\\u0131k\\u0131lan halk\\u0131m\\u0131z\\u0131n, esnaf\\u0131m\\u0131z\\u0131n zarar ve ziyanlar\\u0131n\\u0131 kar\\u015f\\u0131lamas\\u0131n\\u0131 bekliyoruz. <p> De\\u011ferli milletvekilleri, e\\u011fer biz ekonominin bir istikrara kavu\\u015fmas\\u0131n\\u0131, \\u00fcretimin, istihdam\\u0131n artmas\\u0131n\\u0131, topyek\\u00fbn kalk\\u0131nmay\\u0131 ger\\u00e7ekle\\u015ftirmek istiyorsak H\\u00fck\\u00fbmetin sava\\u015f politikalar\\u0131ndan vazge\\u00e7mesi gerekmektedir. Hayatta hi\\u00e7bir maddiyat\\u0131n insan hayat\\u0131ndan daha de\\u011ferli olmad\\u0131\\u011f\\u0131n\\u0131 hepimiz \\u00e7ok iyi bilmekteyiz. Her g\\u00fcn yeni \\u00f6l\\u00fcm haberleriyle b\\u00fcy\\u00fck ac\\u0131lar ya\\u015fad\\u0131\\u011f\\u0131m\\u0131z bu karde\\u015f kavgas\\u0131 can\\u0131m\\u0131zdan can ald\\u0131\\u011f\\u0131 gibi sosyal, k\\u00fclt\\u00fcrel, ruhsal, ekonomik \\u00e7\\u00f6k\\u00fcnt\\u00fcy\\u00fc de beraberinde getirmektedir. H\\u00fck\\u00fbmetin bir an \\u00f6nce bu sava\\u015f politikalar\\u0131ndan vazge\\u00e7mesini beklemekteyiz. <p> De\\u011ferli milletvekilleri, <PARTY> ilk iktidara geldi\\u011fi zaman di\\u011fer iktidar partilerinden bir fark\\u0131 su\\u00e7luyu ararken su\\u00e7suzun hakk\\u0131n\\u0131 korumakt\\u0131. Fakat bu son d\\u00f6nemde \\u00f6zellikle \\u015eemdinli\\u2019nin 1 k\\u00f6y ve 3 mezras\\u0131nda 25 vatanda\\u015f\\u0131m\\u0131z k\\u00f6y meydan\\u0131na indirilerek, kad\\u0131nlar\\u0131n ve \\u00e7ocuklar\\u0131n g\\u00f6z\\u00fc \\u00f6n\\u00fcnde i\\u015fkenceye u\\u011frat\\u0131larak g\\u00f6zalt\\u0131na al\\u0131nm\\u0131\\u015flar. \\u015eemdinli\\u2019nin \\u00c7atalca k\\u00f6y\\u00fcnde bu insanlar d\\u00f6rt g\\u00fcn boyunca g\\u00f6zalt\\u0131nda tutulduktan sonra su\\u00e7suz olduklar\\u0131 ortaya \\u00e7\\u0131km\\u0131\\u015f ve serbest b\\u0131rak\\u0131lm\\u0131\\u015flar fakat o i\\u015fkenceden dolay\\u0131 h\\u00e2len hastanede yatan 2 yurtta\\u015f\\u0131m\\u0131z var ve \\u00c7atalca k\\u00f6y\\u00fcn\\u00fcn yolu h\\u00e2len 3 mezras\\u0131yla beraber ula\\u015f\\u0131ma kapal\\u0131. <p> De\\u011ferli arkada\\u015flar, e\\u011fer bir yerde bir insan su\\u00e7 i\\u015flememi\\u015fse onun i\\u015fkenceye u\\u011framamas\\u0131 laz\\u0131m. <p> Bu vesileyle, bu i\\u015fkencelerin bitmesi ad\\u0131na H\\u00fck\\u00fbmetin ad\\u0131m atmas\\u0131n\\u0131 talep ediyor, hepinizi sayg\\u0131yla selaml\\u0131yorum.\",\n          \"Arkada\\u015flar, hepsine tak\\u0131lacak saya\\u00e7, merak etmeyin. Hepsine tak\\u0131lacak, hepsinden de\\u2026 <p> Arkada\\u015flar, tar\\u0131m sulamalar\\u0131nda nerede ne kadar su gidece\\u011fi belli, bilimsel verilere g\\u00f6re belli, hangi kuyudan ne kadar su \\u00e7ekilece\\u011fi belli. As\\u0131l burada sanayi ama\\u00e7l\\u0131 kullan\\u0131mlarda sorun var arkada\\u015flar. Hakikaten 300 metreden m\\u0131s\\u0131r \\u00fcretimi i\\u00e7in, pamuk \\u00fcretimi i\\u00e7in su \\u00e7eken \\u00e7ift\\u00e7i zaten fazla su \\u00e7ekmeyecektir ama burada \\u201ctar\\u0131m sulamas\\u0131\\u201d ad\\u0131 alt\\u0131nda tanker tanker su al\\u0131p satanlar, ondan sonra ka\\u00e7ak kuyu a\\u00e7\\u0131p sanayisinde kullananlar, i\\u015fte, bunlar\\u0131n yakas\\u0131na hep beraber yap\\u0131\\u015faca\\u011f\\u0131z. Niye muhalefet bunlara sesini \\u00e7\\u0131karm\\u0131yor, hi\\u00e7 sanayiciden bahsetmiyor? <p> Hep \\u00e7ift\\u00e7iyi savunuyorsunuz.\"\n        ],\n        \"semantic_type\": \"\",\n        \"description\": \"\"\n      }\n    },\n    {\n      \"column\": \"text_en\",\n      \"properties\": {\n        \"dtype\": \"string\",\n        \"num_unique_values\": 16136,\n        \"samples\": [\n          \"Mr. President, honorable lawmakers, I salute you all on behalf of the <PARTY> Group. <p> These arrangements are important for small, medium-sized businesses, for maintaining the businesses of the SMEs, or for building new investments and production facilities, but are incomplete and inadequate regulations that do not remove the current problems of small, medium-sized businesses. Although it looks theoretically good on paper, it is also a reality that is not practical in the field. <p> Respected lawmakers, our tradesmen have encountered practices that were not accepted as collateral in exchange for loans that were already few in my constituency district, Hakkari and the districts of KoBI. <p> Furthermore, even during this period, if the loans they normally use are twice the amount of real estate guarantees, six times the amount they use in Hakari is forced to provide real estate guarantees. Our tradesman, who already has no money and no real estate, is being severely victimised by this double standard. <p> Dear lawmakers, during the last curfews, our 1,800 tradesman's workplace has been damaged, the value detection commission established to assess the losses and losses of our tradesman has not yet identified the losses of 600 of our trades. In particular, the government did not pay $1,500 to our low-profile cabbies, even 3,000 euros to our small tradesman. Our major victimized tradesman has not been granted a record pardon, other than the tradesmen's bail co-op, the loans they used were not postponed for a year without interest. In particular, loans from members of the Chamber of Business and Artists, the Chamber of Industry and Commerce, must be postponed for one year without interest. Our shopkeeper, who couldn't pay his checks, whose reputation had been damaged, and since they couldn't buy new products, has had to close their shops by bankrupting up to 150. We expect the government to meet the losses and losses of our shopkeepers, our people whose homes have been destroyed. <p> Dear MPs, if we want the economy to achieve stability, production, increased employment, total development, the government has to give up its war policies. We all know that no materiality in life is worth more than human life. Every day, this brotherly quarrel with news of new death brings with it social, cultural, spiritual, economic collapse, as it did with our lives. We expect the government to give up these war policies as soon as possible. <p> When the <PARTY> first came to power, it was to defend the rights of the innocent while searching for the culprit, a difference from other ruling parties. But recently, 25 of our citizens were taken into custody, tortured in front of women and children, especially in one village and three deserts of Shemdinli. In the village of \\u00c7atkca, \\u015eemdinli, these people were found innocent after being detained for four days, but we still have two citizens in the hospital for that torture, and the road of the village of \\u00c7atica is still closed to transport along with three merrahs. <p> Dear friends, if a person has not committed a crime somewhere, he shouldn't be tortured. <p> On this occasion, I ask the government to step forward in order for these tortures to end, and I salute you all.\",\n          \"Guys, it's a timer for all of them, don't worry. They're all gonna get it, all of them. <p> Once, my friends, look, in agricultural watering... why did we bring up this law like this, why did we make this offer? <p> Friends, there's no telling how much water is going to go in the agricultural irrigations, the scientific data says, how much water is going to be drawn from the well. There's a problem with industrial use here, guys. Indeed, the farmer who draws water for the production of cotton from 300 meters will not draw much water for the production of cotton, but those who buy tanker tanker water under the name \\\"water\\\" and then use it in illegal wells and industry, we'll all stick to their collars together. Why doesn't the opposition talk about it, about the industrialist? <p> You're always defending the farmer.\"\n        ],\n        \"semantic_type\": \"\",\n        \"description\": \"\"\n      }\n    },\n    {\n      \"column\": \"label\",\n      \"properties\": {\n        \"dtype\": \"number\",\n        \"std\": 0,\n        \"min\": 0,\n        \"max\": 1,\n        \"num_unique_values\": 2,\n        \"samples\": [\n          0,\n          1\n        ],\n        \"semantic_type\": \"\",\n        \"description\": \"\"\n      }\n    }\n  ]\n}"
            }
          },
          "metadata": {},
          "execution_count": 3
        }
      ]
    },
    {
      "cell_type": "markdown",
      "source": [
        "We check the proporiton of label to split the dataset in a stratified manner"
      ],
      "metadata": {
        "id": "jRzZaMaos-o-"
      }
    },
    {
      "cell_type": "code",
      "source": [
        "df.keys()"
      ],
      "metadata": {
        "colab": {
          "base_uri": "https://localhost:8080/"
        },
        "id": "z1okz_8RUMQa",
        "outputId": "782258ed-db32-4e66-bc3c-f9168028c100"
      },
      "execution_count": 4,
      "outputs": [
        {
          "output_type": "execute_result",
          "data": {
            "text/plain": [
              "Index(['id', 'speaker', 'sex', 'text', 'text_en', 'label'], dtype='object')"
            ]
          },
          "metadata": {},
          "execution_count": 4
        }
      ]
    },
    {
      "cell_type": "code",
      "source": [
        "df[\"label\"].value_counts(normalize=True)"
      ],
      "metadata": {
        "colab": {
          "base_uri": "https://localhost:8080/",
          "height": 178
        },
        "id": "Aza3YSw3naMB",
        "outputId": "51cfd301-8c42-46f3-f648-a820d134b30a"
      },
      "execution_count": 5,
      "outputs": [
        {
          "output_type": "execute_result",
          "data": {
            "text/plain": [
              "label\n",
              "1    0.581856\n",
              "0    0.418144\n",
              "Name: proportion, dtype: float64"
            ],
            "text/html": [
              "<div>\n",
              "<style scoped>\n",
              "    .dataframe tbody tr th:only-of-type {\n",
              "        vertical-align: middle;\n",
              "    }\n",
              "\n",
              "    .dataframe tbody tr th {\n",
              "        vertical-align: top;\n",
              "    }\n",
              "\n",
              "    .dataframe thead th {\n",
              "        text-align: right;\n",
              "    }\n",
              "</style>\n",
              "<table border=\"1\" class=\"dataframe\">\n",
              "  <thead>\n",
              "    <tr style=\"text-align: right;\">\n",
              "      <th></th>\n",
              "      <th>proportion</th>\n",
              "    </tr>\n",
              "    <tr>\n",
              "      <th>label</th>\n",
              "      <th></th>\n",
              "    </tr>\n",
              "  </thead>\n",
              "  <tbody>\n",
              "    <tr>\n",
              "      <th>1</th>\n",
              "      <td>0.581856</td>\n",
              "    </tr>\n",
              "    <tr>\n",
              "      <th>0</th>\n",
              "      <td>0.418144</td>\n",
              "    </tr>\n",
              "  </tbody>\n",
              "</table>\n",
              "</div><br><label><b>dtype:</b> float64</label>"
            ]
          },
          "metadata": {},
          "execution_count": 5
        }
      ]
    },
    {
      "cell_type": "markdown",
      "source": [],
      "metadata": {
        "id": "xrNHCYsVtLVe"
      }
    },
    {
      "cell_type": "code",
      "source": [
        "print(df.isnull().sum())  # Check for missing values\n",
        "print(df[\"label\"].value_counts())  # Check label distribution"
      ],
      "metadata": {
        "colab": {
          "base_uri": "https://localhost:8080/"
        },
        "id": "zU3dEQPMKDV8",
        "outputId": "1b2a28f0-fb90-40fc-addd-6fb307742148"
      },
      "execution_count": 6,
      "outputs": [
        {
          "output_type": "stream",
          "name": "stdout",
          "text": [
            "id         0\n",
            "speaker    0\n",
            "sex        0\n",
            "text       0\n",
            "text_en    0\n",
            "label      0\n",
            "dtype: int64\n",
            "label\n",
            "1    9390\n",
            "0    6748\n",
            "Name: count, dtype: int64\n"
          ]
        }
      ]
    },
    {
      "cell_type": "code",
      "source": [
        "from sklearn.model_selection import train_test_split"
      ],
      "metadata": {
        "id": "DRA4tdOGtL1a"
      },
      "execution_count": 7,
      "outputs": []
    },
    {
      "cell_type": "code",
      "source": [
        "# Split the data into training and testing sets\n",
        "train_df, test_df = train_test_split(df, test_size=0.1, random_state=42, stratify=df[\"label\"])\n",
        "train_df, eval_df = train_test_split(train_df, test_size=0.111111, random_state=42, stratify=train_df[\"label\"])"
      ],
      "metadata": {
        "id": "EEQO0i5EtldG"
      },
      "execution_count": 8,
      "outputs": []
    },
    {
      "cell_type": "code",
      "source": [
        "# Print the subset lengths/size and proportions to check if splitted successfully\n",
        "print('Train:')\n",
        "print(train_df.shape[0]/8)\n",
        "print(train_df['label'].value_counts(normalize=True))\n",
        "\n",
        "print('Eval:')\n",
        "print(eval_df.shape[0]/1)\n",
        "print(eval_df['label'].value_counts(normalize=True))\n",
        "\n",
        "print('Test:')\n",
        "print(test_df.shape[0]/1)\n",
        "print(test_df['label'].value_counts(normalize=True))"
      ],
      "metadata": {
        "colab": {
          "base_uri": "https://localhost:8080/"
        },
        "id": "bITlztcwt_9p",
        "outputId": "4a05354a-37c5-4aed-93b7-71307bf5d8eb"
      },
      "execution_count": 9,
      "outputs": [
        {
          "output_type": "stream",
          "name": "stdout",
          "text": [
            "Train:\n",
            "1613.75\n",
            "label\n",
            "1    0.581875\n",
            "0    0.418125\n",
            "Name: proportion, dtype: float64\n",
            "Eval:\n",
            "1614.0\n",
            "label\n",
            "1    0.581784\n",
            "0    0.418216\n",
            "Name: proportion, dtype: float64\n",
            "Test:\n",
            "1614.0\n",
            "label\n",
            "1    0.581784\n",
            "0    0.418216\n",
            "Name: proportion, dtype: float64\n"
          ]
        }
      ]
    },
    {
      "cell_type": "code",
      "source": [
        "!pip install datasets"
      ],
      "metadata": {
        "colab": {
          "base_uri": "https://localhost:8080/"
        },
        "id": "52CY-K2U8vTG",
        "outputId": "f3c58a64-fed6-468f-f166-7054c93aeb25"
      },
      "execution_count": 10,
      "outputs": [
        {
          "output_type": "stream",
          "name": "stdout",
          "text": [
            "Collecting datasets\n",
            "  Downloading datasets-3.2.0-py3-none-any.whl.metadata (20 kB)\n",
            "Requirement already satisfied: filelock in /usr/local/lib/python3.10/dist-packages (from datasets) (3.16.1)\n",
            "Requirement already satisfied: numpy>=1.17 in /usr/local/lib/python3.10/dist-packages (from datasets) (1.26.4)\n",
            "Requirement already satisfied: pyarrow>=15.0.0 in /usr/local/lib/python3.10/dist-packages (from datasets) (17.0.0)\n",
            "Collecting dill<0.3.9,>=0.3.0 (from datasets)\n",
            "  Downloading dill-0.3.8-py3-none-any.whl.metadata (10 kB)\n",
            "Requirement already satisfied: pandas in /usr/local/lib/python3.10/dist-packages (from datasets) (2.2.2)\n",
            "Requirement already satisfied: requests>=2.32.2 in /usr/local/lib/python3.10/dist-packages (from datasets) (2.32.3)\n",
            "Requirement already satisfied: tqdm>=4.66.3 in /usr/local/lib/python3.10/dist-packages (from datasets) (4.67.1)\n",
            "Collecting xxhash (from datasets)\n",
            "  Downloading xxhash-3.5.0-cp310-cp310-manylinux_2_17_x86_64.manylinux2014_x86_64.whl.metadata (12 kB)\n",
            "Collecting multiprocess<0.70.17 (from datasets)\n",
            "  Downloading multiprocess-0.70.16-py310-none-any.whl.metadata (7.2 kB)\n",
            "Collecting fsspec<=2024.9.0,>=2023.1.0 (from fsspec[http]<=2024.9.0,>=2023.1.0->datasets)\n",
            "  Downloading fsspec-2024.9.0-py3-none-any.whl.metadata (11 kB)\n",
            "Requirement already satisfied: aiohttp in /usr/local/lib/python3.10/dist-packages (from datasets) (3.11.10)\n",
            "Requirement already satisfied: huggingface-hub>=0.23.0 in /usr/local/lib/python3.10/dist-packages (from datasets) (0.27.0)\n",
            "Requirement already satisfied: packaging in /usr/local/lib/python3.10/dist-packages (from datasets) (24.2)\n",
            "Requirement already satisfied: pyyaml>=5.1 in /usr/local/lib/python3.10/dist-packages (from datasets) (6.0.2)\n",
            "Requirement already satisfied: aiohappyeyeballs>=2.3.0 in /usr/local/lib/python3.10/dist-packages (from aiohttp->datasets) (2.4.4)\n",
            "Requirement already satisfied: aiosignal>=1.1.2 in /usr/local/lib/python3.10/dist-packages (from aiohttp->datasets) (1.3.2)\n",
            "Requirement already satisfied: async-timeout<6.0,>=4.0 in /usr/local/lib/python3.10/dist-packages (from aiohttp->datasets) (4.0.3)\n",
            "Requirement already satisfied: attrs>=17.3.0 in /usr/local/lib/python3.10/dist-packages (from aiohttp->datasets) (24.3.0)\n",
            "Requirement already satisfied: frozenlist>=1.1.1 in /usr/local/lib/python3.10/dist-packages (from aiohttp->datasets) (1.5.0)\n",
            "Requirement already satisfied: multidict<7.0,>=4.5 in /usr/local/lib/python3.10/dist-packages (from aiohttp->datasets) (6.1.0)\n",
            "Requirement already satisfied: propcache>=0.2.0 in /usr/local/lib/python3.10/dist-packages (from aiohttp->datasets) (0.2.1)\n",
            "Requirement already satisfied: yarl<2.0,>=1.17.0 in /usr/local/lib/python3.10/dist-packages (from aiohttp->datasets) (1.18.3)\n",
            "Requirement already satisfied: typing-extensions>=3.7.4.3 in /usr/local/lib/python3.10/dist-packages (from huggingface-hub>=0.23.0->datasets) (4.12.2)\n",
            "Requirement already satisfied: charset-normalizer<4,>=2 in /usr/local/lib/python3.10/dist-packages (from requests>=2.32.2->datasets) (3.4.0)\n",
            "Requirement already satisfied: idna<4,>=2.5 in /usr/local/lib/python3.10/dist-packages (from requests>=2.32.2->datasets) (3.10)\n",
            "Requirement already satisfied: urllib3<3,>=1.21.1 in /usr/local/lib/python3.10/dist-packages (from requests>=2.32.2->datasets) (2.2.3)\n",
            "Requirement already satisfied: certifi>=2017.4.17 in /usr/local/lib/python3.10/dist-packages (from requests>=2.32.2->datasets) (2024.12.14)\n",
            "Requirement already satisfied: python-dateutil>=2.8.2 in /usr/local/lib/python3.10/dist-packages (from pandas->datasets) (2.8.2)\n",
            "Requirement already satisfied: pytz>=2020.1 in /usr/local/lib/python3.10/dist-packages (from pandas->datasets) (2024.2)\n",
            "Requirement already satisfied: tzdata>=2022.7 in /usr/local/lib/python3.10/dist-packages (from pandas->datasets) (2024.2)\n",
            "Requirement already satisfied: six>=1.5 in /usr/local/lib/python3.10/dist-packages (from python-dateutil>=2.8.2->pandas->datasets) (1.17.0)\n",
            "Downloading datasets-3.2.0-py3-none-any.whl (480 kB)\n",
            "\u001b[2K   \u001b[90m━━━━━━━━━━━━━━━━━━━━━━━━━━━━━━━━━━━━━━━━\u001b[0m \u001b[32m480.6/480.6 kB\u001b[0m \u001b[31m33.1 MB/s\u001b[0m eta \u001b[36m0:00:00\u001b[0m\n",
            "\u001b[?25hDownloading dill-0.3.8-py3-none-any.whl (116 kB)\n",
            "\u001b[2K   \u001b[90m━━━━━━━━━━━━━━━━━━━━━━━━━━━━━━━━━━━━━━━━\u001b[0m \u001b[32m116.3/116.3 kB\u001b[0m \u001b[31m12.0 MB/s\u001b[0m eta \u001b[36m0:00:00\u001b[0m\n",
            "\u001b[?25hDownloading fsspec-2024.9.0-py3-none-any.whl (179 kB)\n",
            "\u001b[2K   \u001b[90m━━━━━━━━━━━━━━━━━━━━━━━━━━━━━━━━━━━━━━━━\u001b[0m \u001b[32m179.3/179.3 kB\u001b[0m \u001b[31m16.0 MB/s\u001b[0m eta \u001b[36m0:00:00\u001b[0m\n",
            "\u001b[?25hDownloading multiprocess-0.70.16-py310-none-any.whl (134 kB)\n",
            "\u001b[2K   \u001b[90m━━━━━━━━━━━━━━━━━━━━━━━━━━━━━━━━━━━━━━━━\u001b[0m \u001b[32m134.8/134.8 kB\u001b[0m \u001b[31m13.3 MB/s\u001b[0m eta \u001b[36m0:00:00\u001b[0m\n",
            "\u001b[?25hDownloading xxhash-3.5.0-cp310-cp310-manylinux_2_17_x86_64.manylinux2014_x86_64.whl (194 kB)\n",
            "\u001b[2K   \u001b[90m━━━━━━━━━━━━━━━━━━━━━━━━━━━━━━━━━━━━━━━━\u001b[0m \u001b[32m194.1/194.1 kB\u001b[0m \u001b[31m20.1 MB/s\u001b[0m eta \u001b[36m0:00:00\u001b[0m\n",
            "\u001b[?25hInstalling collected packages: xxhash, fsspec, dill, multiprocess, datasets\n",
            "  Attempting uninstall: fsspec\n",
            "    Found existing installation: fsspec 2024.10.0\n",
            "    Uninstalling fsspec-2024.10.0:\n",
            "      Successfully uninstalled fsspec-2024.10.0\n",
            "\u001b[31mERROR: pip's dependency resolver does not currently take into account all the packages that are installed. This behaviour is the source of the following dependency conflicts.\n",
            "gcsfs 2024.10.0 requires fsspec==2024.10.0, but you have fsspec 2024.9.0 which is incompatible.\u001b[0m\u001b[31m\n",
            "\u001b[0mSuccessfully installed datasets-3.2.0 dill-0.3.8 fsspec-2024.9.0 multiprocess-0.70.16 xxhash-3.5.0\n"
          ]
        }
      ]
    },
    {
      "cell_type": "code",
      "source": [
        "#convert pandas dataFrame to Hugigng face dataset\n",
        "from datasets import Dataset\n",
        "train_dataset = Dataset.from_pandas(train_df)\n",
        "eval_dataset = Dataset.from_pandas(eval_df)\n",
        "test_dataset = Dataset.from_pandas(test_df)\n",
        "train_dataset['text'][12]"
      ],
      "metadata": {
        "colab": {
          "base_uri": "https://localhost:8080/",
          "height": 87
        },
        "id": "fAECNv5kU9bs",
        "outputId": "f4897cb0-5e92-44a9-a44e-c120e51e0be1"
      },
      "execution_count": 11,
      "outputs": [
        {
          "output_type": "execute_result",
          "data": {
            "text/plain": [
              "'…halkı, teröristlerin yanında savaşa çağırıyor ve bir de şu cümleyi kullanıyor: “Hendek kazmasın da ne yapsınlar, başka seçenek mi bıraktınız?” <p> Düşünebiliyor musunuz, bizim gözümüzün içine baka baka, hepimizin zekâsıyla alay edercesine, bu kürsüden bu lafları kullanıyorlar. <p> Bugün gelinen noktada <PARTY>, takiye yapmayı da bir kenara bırakıp, doğrudan bölünmeyi ve devlet olmayı konuşuyor. “Saz çalan cici çocuk” güzellemesi yapanlar bugünlerde fena hâlde pişmanlık duyuyorlar. <p> Şimdi, hayal kırıklığını yaşıyorlar. En azından öyle görünüyorlar.'"
            ],
            "application/vnd.google.colaboratory.intrinsic+json": {
              "type": "string"
            }
          },
          "metadata": {},
          "execution_count": 11
        }
      ]
    },
    {
      "cell_type": "code",
      "source": [
        "from transformers import AutoModel, AutoTokenizer\n",
        "\n",
        "tokenizer = AutoTokenizer.from_pretrained(\"xlm-roberta-base\")"
      ],
      "metadata": {
        "id": "TymelZYT8dHd",
        "colab": {
          "base_uri": "https://localhost:8080/",
          "height": 232,
          "referenced_widgets": [
            "34a16d1edc864a38998beca569c9c4e4",
            "ed9a2ea583434b25be3f33d5777dc742",
            "fbf088de2f1d4bb08019f8dae6ea1b57",
            "4042d1d2d1464d8e8a970e896a944f75",
            "ce5e4d8ec7b84088bf2e439b499a919c",
            "72244861955748f1b097850db516ea92",
            "a76d1e544b9f466ead4b75840220c93e",
            "5d38a81e7d204b7da05de016227dec44",
            "4d3fb20588714eab8682111d9a675acf",
            "1be59b1a68414ebe897216437b31d5e2",
            "7a82fe4397524c92b79c95b771891af8",
            "109ad16a0d604387b566de82d6667c15",
            "652ab350a20546098fbf56880e5f2f5a",
            "7e156b81bd744b0eb7e8ce803633a1a3",
            "f8ac330187414be7b2e07aff2f7c2ecf",
            "a25bfa60c3bb45b38825806e84fc0fc9",
            "1e6fc133c0f44e4aa4fd00650ec3a5f8",
            "1f7cb366e1d846a1a8b027a992f4f187",
            "e618710fc6a244cbaa508ebaf22c5b18",
            "cbed5f52480f467da1fcab3cf11204eb",
            "6724d725068646a28a674eda6f283cef",
            "75156f632bf7456dab4b92b2f4fa77bf",
            "8498eac92ab441088241db194bf501e3",
            "1dd2a71fbe1f46e9adf327f0a77082b0",
            "8ecdb5b64e00432a96386631840e828d",
            "790ad73c4fb8485da32c209f01455eb5",
            "c6e0ca5fbf514a9b8bddf65bf662bc1f",
            "24a9942235d64b65a24d88e409c025f2",
            "8f357545778d4187aa7b83c44f754e5b",
            "adcc62e34e834f119a9e326ed9de2dd4",
            "038be87882af4c2381491d179da4fa3a",
            "7337ef4dc96c43cdbee401ab56492df4",
            "acea41a899124a17bdfc8a12d660dadb",
            "3a6632fdc5284ba1b9a9b66f13aa6af5",
            "a32af1fd942a4738b88160558a6d77a1",
            "04d02fb641514aa6b0274f5ba72e9faa",
            "bf30250fec124600953303e53ba8b405",
            "b59f8b87de2249c0a10b0e8574d63d86",
            "1db00de12f0d4a42b81c40936e5d471b",
            "eb7c8be01c0a49e080022fe5e0222bcb",
            "35f18f16a314447e9b5c8bcdf0beaefc",
            "17fba92bfd944aa8bd825672d74eceb3",
            "aa278bb3d87444a38261a36ff2adbfa4",
            "dfa818031f2c4ede8e897ecd15b7edd5"
          ]
        },
        "outputId": "360fb85e-a615-4fe0-ca78-4739c37f59cc"
      },
      "execution_count": 12,
      "outputs": [
        {
          "output_type": "stream",
          "name": "stderr",
          "text": [
            "/usr/local/lib/python3.10/dist-packages/huggingface_hub/utils/_auth.py:86: UserWarning: \n",
            "Access to the secret `HF_TOKEN` has not been granted on this notebook.\n",
            "You will not be requested again.\n",
            "Please restart the session if you want to be prompted again.\n",
            "  warnings.warn(\n"
          ]
        },
        {
          "output_type": "display_data",
          "data": {
            "text/plain": [
              "tokenizer_config.json:   0%|          | 0.00/25.0 [00:00<?, ?B/s]"
            ],
            "application/vnd.jupyter.widget-view+json": {
              "version_major": 2,
              "version_minor": 0,
              "model_id": "34a16d1edc864a38998beca569c9c4e4"
            }
          },
          "metadata": {}
        },
        {
          "output_type": "display_data",
          "data": {
            "text/plain": [
              "config.json:   0%|          | 0.00/615 [00:00<?, ?B/s]"
            ],
            "application/vnd.jupyter.widget-view+json": {
              "version_major": 2,
              "version_minor": 0,
              "model_id": "109ad16a0d604387b566de82d6667c15"
            }
          },
          "metadata": {}
        },
        {
          "output_type": "display_data",
          "data": {
            "text/plain": [
              "sentencepiece.bpe.model:   0%|          | 0.00/5.07M [00:00<?, ?B/s]"
            ],
            "application/vnd.jupyter.widget-view+json": {
              "version_major": 2,
              "version_minor": 0,
              "model_id": "8498eac92ab441088241db194bf501e3"
            }
          },
          "metadata": {}
        },
        {
          "output_type": "display_data",
          "data": {
            "text/plain": [
              "tokenizer.json:   0%|          | 0.00/9.10M [00:00<?, ?B/s]"
            ],
            "application/vnd.jupyter.widget-view+json": {
              "version_major": 2,
              "version_minor": 0,
              "model_id": "3a6632fdc5284ba1b9a9b66f13aa6af5"
            }
          },
          "metadata": {}
        }
      ]
    },
    {
      "cell_type": "code",
      "source": [
        "encoded_input_example = tokenizer(\"Acaba sırf dünya için mi yaratılmışsın ki bütün vaktini ona sarfediyorsun?\")\n",
        "encoded_input_example"
      ],
      "metadata": {
        "colab": {
          "base_uri": "https://localhost:8080/"
        },
        "id": "D73wyet8Aykg",
        "outputId": "66a5b15a-1a44-4b2a-d1d9-40efea8d3eaf"
      },
      "execution_count": 13,
      "outputs": [
        {
          "output_type": "execute_result",
          "data": {
            "text/plain": [
              "{'input_ids': [0, 197658, 6, 2540, 22206, 15027, 1099, 324, 19037, 31456, 24061, 200, 7609, 19190, 30786, 7598, 165247, 14660, 176385, 32, 2], 'attention_mask': [1, 1, 1, 1, 1, 1, 1, 1, 1, 1, 1, 1, 1, 1, 1, 1, 1, 1, 1, 1, 1]}"
            ]
          },
          "metadata": {},
          "execution_count": 13
        }
      ]
    },
    {
      "cell_type": "code",
      "source": [
        "tokenizer.decode(encoded_input_example[\"input_ids\"])"
      ],
      "metadata": {
        "colab": {
          "base_uri": "https://localhost:8080/",
          "height": 35
        },
        "id": "bMSj9hwxBHN7",
        "outputId": "e9f45fe3-4ce6-47bf-a8ce-4848fd12260a"
      },
      "execution_count": 14,
      "outputs": [
        {
          "output_type": "execute_result",
          "data": {
            "text/plain": [
              "'<s> Acaba sırf dünya için mi yaratılmışsın ki bütün vaktini ona sarfediyorsun?</s>'"
            ],
            "application/vnd.google.colaboratory.intrinsic+json": {
              "type": "string"
            }
          },
          "metadata": {},
          "execution_count": 14
        }
      ]
    },
    {
      "cell_type": "code",
      "source": [
        "def tokenize_function(examples):\n",
        "    return tokenizer(examples[\"text\"], padding=\"max_length\", truncation=True, max_length=512)"
      ],
      "metadata": {
        "id": "ge4S8BzSbpER"
      },
      "execution_count": 15,
      "outputs": []
    },
    {
      "cell_type": "code",
      "source": [
        "unshuffled_train_dataset = train_dataset.map(tokenize_function, batched=True)\n",
        "\n",
        "tokenized_train_dataset =unshuffled_train_dataset.shuffle(seed=42)\n",
        "tokenized_eval_dataset = eval_dataset.map(tokenize_function, batched=True)\n"
      ],
      "metadata": {
        "colab": {
          "base_uri": "https://localhost:8080/",
          "height": 81,
          "referenced_widgets": [
            "29ac2e4aad444f83a962ae873c143433",
            "eba9145fea164f5bb4ed2009ca925728",
            "95bb8a3732f64af581b71e7c98f8670e",
            "93612d7cb1b14716b2efe29c906e6131",
            "f987784a907147878c8298f92dee2d3d",
            "bf2387214a8140e0a49387fca3b66576",
            "4aae98927a3649d0b7747c69b7bbebcb",
            "ab65fed019844a41b0ddaab7b248409d",
            "27ea00c3e4e8430d9d267aad55b2c862",
            "af5ac0d8b1f143228d65a204a2c9d730",
            "a74fa4677ee64380b2ddb67c020dd267",
            "809ec5bbdc4047c083d750b13926e9a4",
            "4afe7223f64a4e37b3f0dfa77bfd53bd",
            "8fb3fa09a02e40e698044a9b393e47ca",
            "a18a25123b3540ccbbe5bc8e76879da2",
            "06204b5cf7b24ac9aa6d4ae3a6f65f78",
            "675a6455c83e4de5a0ff5a43754425fa",
            "8d3df6d0edc54a4f8e5b8c42d63e1bc3",
            "07fc674229dc47d0a8abaf33ae040707",
            "417e5bf246d14432819bed775adc7862",
            "4ca690116d37433cbefd58d0454b7194",
            "183613e4fc00406abc75952391cb3a39"
          ]
        },
        "id": "zdaJT9u_bq8g",
        "outputId": "2fb0536e-d277-4757-e9da-fc54ce933f73"
      },
      "execution_count": 16,
      "outputs": [
        {
          "output_type": "display_data",
          "data": {
            "text/plain": [
              "Map:   0%|          | 0/12910 [00:00<?, ? examples/s]"
            ],
            "application/vnd.jupyter.widget-view+json": {
              "version_major": 2,
              "version_minor": 0,
              "model_id": "29ac2e4aad444f83a962ae873c143433"
            }
          },
          "metadata": {}
        },
        {
          "output_type": "display_data",
          "data": {
            "text/plain": [
              "Map:   0%|          | 0/1614 [00:00<?, ? examples/s]"
            ],
            "application/vnd.jupyter.widget-view+json": {
              "version_major": 2,
              "version_minor": 0,
              "model_id": "809ec5bbdc4047c083d750b13926e9a4"
            }
          },
          "metadata": {}
        }
      ]
    },
    {
      "cell_type": "code",
      "source": [
        "tokenized_train_dataset.column_names"
      ],
      "metadata": {
        "colab": {
          "base_uri": "https://localhost:8080/"
        },
        "id": "Ug9DV_NoBAUz",
        "outputId": "be18adf0-ed8d-416f-a89b-854b62e93326"
      },
      "execution_count": 17,
      "outputs": [
        {
          "output_type": "execute_result",
          "data": {
            "text/plain": [
              "['id',\n",
              " 'speaker',\n",
              " 'sex',\n",
              " 'text',\n",
              " 'text_en',\n",
              " 'label',\n",
              " '__index_level_0__',\n",
              " 'input_ids',\n",
              " 'attention_mask']"
            ]
          },
          "metadata": {},
          "execution_count": 17
        }
      ]
    },
    {
      "cell_type": "markdown",
      "source": [
        "Start Pre-Training using Hugging-Face Transformers"
      ],
      "metadata": {
        "id": "6_e7CEM9aUaM"
      }
    },
    {
      "cell_type": "code",
      "source": [
        "from transformers import AutoModelForSequenceClassification\n",
        "\n",
        "model = AutoModelForSequenceClassification.from_pretrained(\"xlm-roberta-base\", num_labels=2, torch_dtype=\"auto\")"
      ],
      "metadata": {
        "colab": {
          "base_uri": "https://localhost:8080/",
          "height": 104,
          "referenced_widgets": [
            "4b24e00d876f4b69b465c9ed6672df12",
            "329f85a7f91349f0b4f5a83dd6bfd2b7",
            "17f41e0a84a844949b5721a149826f7c",
            "32846f8fad014815b22f55319a9f6e3f",
            "421d42980ec845d7980de4ef3714a5b4",
            "3fa0f68f96a14336978cdc633069fe63",
            "e24a1449ded244deb421ffc2d4b1f0b7",
            "03470eada9a04b75937664621a5d8c48",
            "ba2f80b824b9499cb379b3d56c868e6d",
            "7121d284c9054fb580775c5e669e1365",
            "049f2d74cdd841d08edcfb9948bf709b"
          ]
        },
        "id": "qN9msh2DaddD",
        "outputId": "887619c0-cfed-472a-a660-5de19d5fb9a5"
      },
      "execution_count": 18,
      "outputs": [
        {
          "output_type": "display_data",
          "data": {
            "text/plain": [
              "model.safetensors:   0%|          | 0.00/1.12G [00:00<?, ?B/s]"
            ],
            "application/vnd.jupyter.widget-view+json": {
              "version_major": 2,
              "version_minor": 0,
              "model_id": "4b24e00d876f4b69b465c9ed6672df12"
            }
          },
          "metadata": {}
        },
        {
          "output_type": "stream",
          "name": "stderr",
          "text": [
            "Some weights of XLMRobertaForSequenceClassification were not initialized from the model checkpoint at xlm-roberta-base and are newly initialized: ['classifier.dense.bias', 'classifier.dense.weight', 'classifier.out_proj.bias', 'classifier.out_proj.weight']\n",
            "You should probably TRAIN this model on a down-stream task to be able to use it for predictions and inference.\n"
          ]
        }
      ]
    },
    {
      "cell_type": "code",
      "source": [
        "from transformers import TrainingArguments\n",
        "batch_size = 32\n",
        "grad_acc_steps = 4\n",
        "num_epochs = 3\n",
        "training_args = TrainingArguments(\n",
        "    output_dir=\"./test_trainer\",\n",
        "    eval_strategy=\"steps\",\n",
        "    logging_strategy=\"steps\",\n",
        "    save_strategy=\"steps\",\n",
        "    logging_steps=20,\n",
        "    eval_steps=20,\n",
        "    save_total_limit=3,\n",
        "    learning_rate=2e-5,\n",
        "    per_device_train_batch_size=batch_size,\n",
        "    per_device_eval_batch_size=16,\n",
        "    gradient_accumulation_steps=grad_acc_steps,\n",
        "    num_train_epochs=num_epochs,\n",
        "    warmup_ratio=0.1,\n",
        "    #warmup_steps=int(0.1* 12910/(batch_size*grad_acc_steps/num_epochs)),\n",
        "    weight_decay=0.01,\n",
        "    fp16=True,\n",
        "    load_best_model_at_end=True,\n",
        "    metric_for_best_model=\"accuracy\",\n",
        "    greater_is_better=True,\n",
        "    report_to=\"none\",  # Disable reporting to external platforms\n",
        ")\n"
      ],
      "metadata": {
        "id": "Zc4c2NElbMlw"
      },
      "execution_count": 19,
      "outputs": []
    },
    {
      "cell_type": "markdown",
      "source": [
        "# Evaluate"
      ],
      "metadata": {
        "id": "8DwsZLTHgJ5b"
      }
    },
    {
      "cell_type": "code",
      "source": [
        "!pip install evaluate"
      ],
      "metadata": {
        "colab": {
          "base_uri": "https://localhost:8080/"
        },
        "collapsed": true,
        "id": "1waBePx1gcvN",
        "outputId": "9f669a0b-32c0-43aa-9819-ab658091b7bd"
      },
      "execution_count": 20,
      "outputs": [
        {
          "output_type": "stream",
          "name": "stdout",
          "text": [
            "Collecting evaluate\n",
            "  Downloading evaluate-0.4.3-py3-none-any.whl.metadata (9.2 kB)\n",
            "Requirement already satisfied: datasets>=2.0.0 in /usr/local/lib/python3.10/dist-packages (from evaluate) (3.2.0)\n",
            "Requirement already satisfied: numpy>=1.17 in /usr/local/lib/python3.10/dist-packages (from evaluate) (1.26.4)\n",
            "Requirement already satisfied: dill in /usr/local/lib/python3.10/dist-packages (from evaluate) (0.3.8)\n",
            "Requirement already satisfied: pandas in /usr/local/lib/python3.10/dist-packages (from evaluate) (2.2.2)\n",
            "Requirement already satisfied: requests>=2.19.0 in /usr/local/lib/python3.10/dist-packages (from evaluate) (2.32.3)\n",
            "Requirement already satisfied: tqdm>=4.62.1 in /usr/local/lib/python3.10/dist-packages (from evaluate) (4.67.1)\n",
            "Requirement already satisfied: xxhash in /usr/local/lib/python3.10/dist-packages (from evaluate) (3.5.0)\n",
            "Requirement already satisfied: multiprocess in /usr/local/lib/python3.10/dist-packages (from evaluate) (0.70.16)\n",
            "Requirement already satisfied: fsspec>=2021.05.0 in /usr/local/lib/python3.10/dist-packages (from fsspec[http]>=2021.05.0->evaluate) (2024.9.0)\n",
            "Requirement already satisfied: huggingface-hub>=0.7.0 in /usr/local/lib/python3.10/dist-packages (from evaluate) (0.27.0)\n",
            "Requirement already satisfied: packaging in /usr/local/lib/python3.10/dist-packages (from evaluate) (24.2)\n",
            "Requirement already satisfied: filelock in /usr/local/lib/python3.10/dist-packages (from datasets>=2.0.0->evaluate) (3.16.1)\n",
            "Requirement already satisfied: pyarrow>=15.0.0 in /usr/local/lib/python3.10/dist-packages (from datasets>=2.0.0->evaluate) (17.0.0)\n",
            "Requirement already satisfied: aiohttp in /usr/local/lib/python3.10/dist-packages (from datasets>=2.0.0->evaluate) (3.11.10)\n",
            "Requirement already satisfied: pyyaml>=5.1 in /usr/local/lib/python3.10/dist-packages (from datasets>=2.0.0->evaluate) (6.0.2)\n",
            "Requirement already satisfied: typing-extensions>=3.7.4.3 in /usr/local/lib/python3.10/dist-packages (from huggingface-hub>=0.7.0->evaluate) (4.12.2)\n",
            "Requirement already satisfied: charset-normalizer<4,>=2 in /usr/local/lib/python3.10/dist-packages (from requests>=2.19.0->evaluate) (3.4.0)\n",
            "Requirement already satisfied: idna<4,>=2.5 in /usr/local/lib/python3.10/dist-packages (from requests>=2.19.0->evaluate) (3.10)\n",
            "Requirement already satisfied: urllib3<3,>=1.21.1 in /usr/local/lib/python3.10/dist-packages (from requests>=2.19.0->evaluate) (2.2.3)\n",
            "Requirement already satisfied: certifi>=2017.4.17 in /usr/local/lib/python3.10/dist-packages (from requests>=2.19.0->evaluate) (2024.12.14)\n",
            "Requirement already satisfied: python-dateutil>=2.8.2 in /usr/local/lib/python3.10/dist-packages (from pandas->evaluate) (2.8.2)\n",
            "Requirement already satisfied: pytz>=2020.1 in /usr/local/lib/python3.10/dist-packages (from pandas->evaluate) (2024.2)\n",
            "Requirement already satisfied: tzdata>=2022.7 in /usr/local/lib/python3.10/dist-packages (from pandas->evaluate) (2024.2)\n",
            "Requirement already satisfied: aiohappyeyeballs>=2.3.0 in /usr/local/lib/python3.10/dist-packages (from aiohttp->datasets>=2.0.0->evaluate) (2.4.4)\n",
            "Requirement already satisfied: aiosignal>=1.1.2 in /usr/local/lib/python3.10/dist-packages (from aiohttp->datasets>=2.0.0->evaluate) (1.3.2)\n",
            "Requirement already satisfied: async-timeout<6.0,>=4.0 in /usr/local/lib/python3.10/dist-packages (from aiohttp->datasets>=2.0.0->evaluate) (4.0.3)\n",
            "Requirement already satisfied: attrs>=17.3.0 in /usr/local/lib/python3.10/dist-packages (from aiohttp->datasets>=2.0.0->evaluate) (24.3.0)\n",
            "Requirement already satisfied: frozenlist>=1.1.1 in /usr/local/lib/python3.10/dist-packages (from aiohttp->datasets>=2.0.0->evaluate) (1.5.0)\n",
            "Requirement already satisfied: multidict<7.0,>=4.5 in /usr/local/lib/python3.10/dist-packages (from aiohttp->datasets>=2.0.0->evaluate) (6.1.0)\n",
            "Requirement already satisfied: propcache>=0.2.0 in /usr/local/lib/python3.10/dist-packages (from aiohttp->datasets>=2.0.0->evaluate) (0.2.1)\n",
            "Requirement already satisfied: yarl<2.0,>=1.17.0 in /usr/local/lib/python3.10/dist-packages (from aiohttp->datasets>=2.0.0->evaluate) (1.18.3)\n",
            "Requirement already satisfied: six>=1.5 in /usr/local/lib/python3.10/dist-packages (from python-dateutil>=2.8.2->pandas->evaluate) (1.17.0)\n",
            "Downloading evaluate-0.4.3-py3-none-any.whl (84 kB)\n",
            "\u001b[2K   \u001b[90m━━━━━━━━━━━━━━━━━━━━━━━━━━━━━━━━━━━━━━━━\u001b[0m \u001b[32m84.0/84.0 kB\u001b[0m \u001b[31m8.5 MB/s\u001b[0m eta \u001b[36m0:00:00\u001b[0m\n",
            "\u001b[?25hInstalling collected packages: evaluate\n",
            "Successfully installed evaluate-0.4.3\n"
          ]
        }
      ]
    },
    {
      "cell_type": "code",
      "source": [
        "import numpy as np\n",
        "import evaluate"
      ],
      "metadata": {
        "id": "tHlh30SqgPWW"
      },
      "execution_count": 21,
      "outputs": []
    },
    {
      "cell_type": "code",
      "source": [
        "metric = evaluate.load(\"accuracy\")"
      ],
      "metadata": {
        "id": "ygi4dofDgTTO",
        "colab": {
          "base_uri": "https://localhost:8080/",
          "height": 49,
          "referenced_widgets": [
            "2b66ccf4967d4b408a8d5f3c9dcc78a4",
            "1891c4aea1e54f77b86b71f7ff63342f",
            "e0189eecd200426f909df1ce4323e843",
            "33995ae9e5294a579c7be918782dec41",
            "882500bfa92b4903a4d49abb3426325e",
            "04709dcf32fd47078530e4cb92059fbd",
            "c9469f6a18164588a46cf74709b75f08",
            "ecef45aae8a5490c9ed1f22d5e509f3b",
            "ba0f8dfd0c0040c59cf721d4611258fa",
            "35cd73b12991417d911fa57dde1cbd61",
            "e1ecb10824aa4dc484d6db8baa1489c3"
          ]
        },
        "outputId": "2b3bd941-fa33-455e-f821-42477cabdc29"
      },
      "execution_count": 22,
      "outputs": [
        {
          "output_type": "display_data",
          "data": {
            "text/plain": [
              "Downloading builder script:   0%|          | 0.00/4.20k [00:00<?, ?B/s]"
            ],
            "application/vnd.jupyter.widget-view+json": {
              "version_major": 2,
              "version_minor": 0,
              "model_id": "2b66ccf4967d4b408a8d5f3c9dcc78a4"
            }
          },
          "metadata": {}
        }
      ]
    },
    {
      "cell_type": "code",
      "source": [
        "from sklearn.metrics import f1_score\n",
        "\n",
        "def compute_metrics(eval_pred):\n",
        "    logits, labels = eval_pred\n",
        "    predictions = np.argmax(logits, axis=-1)\n",
        "    accuracy = metric.compute(predictions=predictions, references=labels)[\"accuracy\"]\n",
        "    f1 = f1_score(labels, predictions, average=\"binary\")\n",
        "    return {\"accuracy\": accuracy, \"f1\": f1}"
      ],
      "metadata": {
        "id": "LTNATr5Mgtnm"
      },
      "execution_count": 23,
      "outputs": []
    },
    {
      "cell_type": "markdown",
      "source": [
        "# Trainer"
      ],
      "metadata": {
        "id": "trVbxPf0g5JO"
      }
    },
    {
      "cell_type": "code",
      "source": [
        "from transformers import Trainer\n",
        "from transformers import EarlyStoppingCallback\n",
        "from transformers import TrainerCallback"
      ],
      "metadata": {
        "id": "oitQ6SgQhMBd"
      },
      "execution_count": 24,
      "outputs": []
    },
    {
      "cell_type": "code",
      "source": [
        "class LearningRateAndEvalLogger(TrainerCallback):\n",
        "    def on_evaluate(self, args, state, control, metrics=None, **kwargs):\n",
        "        # Log evaluation metrics\n",
        "        print(f\"Step {state.global_step}: Evaluation Metrics: {metrics}\")\n",
        "\n",
        "        # Log the current learning rate\n",
        "        if state.global_step > 0 and kwargs.get(\"optimizer\"):\n",
        "            lr = kwargs[\"optimizer\"].param_groups[0][\"lr\"]\n",
        "            print(f\"Step {state.global_step}: Learning Rate = {lr:.8f}\")\n"
      ],
      "metadata": {
        "id": "vkEgZGw3piTW"
      },
      "execution_count": 25,
      "outputs": []
    },
    {
      "cell_type": "code",
      "source": [
        "trainer = Trainer(\n",
        "   model=model,\n",
        "   args=training_args,\n",
        "   train_dataset=tokenized_train_dataset,\n",
        "   eval_dataset=tokenized_eval_dataset,\n",
        "   compute_metrics=compute_metrics,\n",
        "   callbacks=[LearningRateAndEvalLogger(), EarlyStoppingCallback(early_stopping_patience=3)],\n",
        ")"
      ],
      "metadata": {
        "id": "YmP13aQ5gwAp"
      },
      "execution_count": 26,
      "outputs": []
    },
    {
      "cell_type": "code",
      "source": [
        "#Example\n",
        "example = tokenized_eval_dataset[0]\n",
        "print(\"Example:\", example)"
      ],
      "metadata": {
        "colab": {
          "base_uri": "https://localhost:8080/"
        },
        "id": "CE8rb1xXEqjP",
        "outputId": "3608eec0-b220-4cf9-afe7-7e754c9ced62"
      },
      "execution_count": 27,
      "outputs": [
        {
          "output_type": "stream",
          "name": "stdout",
          "text": [
            "Example: {'id': 'tr00364', 'speaker': '30ccc244320121d404dc28d8fca64643', 'sex': 'M', 'text': \"Evet, acemiyiz biz siyasette, yeni başladık. Allah razı olsun. <p> Günümüzde, insanlar bilgiyi arıyorlar ama hikmeti hiç kimse aramıyor. Hikmet aslında müminin yitik malıdır ve insan bilgi toplayabilen, alet kullanabilen bir varlıktır ve insanlar kurumlar oluşturdular, bu kurumlar içerisinde nelerin öğrenilebileceği konusunda çalışmalar yaptılar, bunları kimin öğretebileceği noktasında birtakım kurallar koydular ve bu öğretilen şeylerin de kime aktarılacağı konusunda da kararlar verdiler ama bir şeyi unuttular, insan gerçeğini ve herkes kendi yaşam felsefesine göre insan şekillendirmeye çalıştı. Oysa insanın doğuştan getirmiş olduğu birtakım temel hakları noktasında bakıldığında eğitim ve öğretimin ve yine insanlığın geliştirmiş olduğu devletin ve kurumların, bu kurumların insanın, her bir bireyinin bu haklarını koruma ve bu noktada, eğitim hakkı noktasında da onun isteklerini göz önünde bulundurmak durumundaydı. 32 yılından 50 yılına kadar bu ülkede birtakım yasaklar yaşandı, 28 Şubat sürecinde bu ülkede birtakım sıkıntılar yaşandı, çok şükür bunları yavaş yavaş aşıyoruz, bunları yavaş yavaş aşıyoruz çünkü bizim milletimiz farklı bir millet. Yolda araçla seyrederken karşıdaki birtakım şoförlerin size selektör yaptığını görürsünüz, sizi uyarırlar, derler ki: “Hızını kes, ileride trafik polisi var.” Bu, bizim milletimize has bir özelliktir, bunu anlayabilmek lazım, bunu kavrayabilmek lazım. <p> Bu milletin özelliklerini anlamak ve ona göre bu milletin sahip olmuş olduğu değerler çerçevesinde bir eğitim vermek lazım. <p> Şimdi, geçen aylarda güzel şeyler yapıldı, kat sayı kaldırıldı, on iki yaş uygulaması Kur'an öğretimi konusunda kaldırıldı. Bunlar bu milletin on üç yıldır on beş yıldır hep dua ettiği, gözyaşı döktüğü, insanlarımızın, çocuklarımızın gözyaşı döktüğü alanlardı. İnsan Hristiyan olabilir, Yahudi olabilir, farklı bir inanca sahip olabilir, hiçbir inancı da olmayabilir ama bu ülkenin Müslüman çocuklarından ve Müslüman halklarından eğitim noktasında birileri artık elini çeksin, çekmesi gerekiyor, ülke huzuru için, ülke barışı için bunlar gerekiyor. <p> Ana dilde eğitim konusu gündeme getiriliyor. Düzce’de on dört ayrı dil konuşuluyor, on dört ayrı dil. Saidi Kürdi ne güzel söylemiş “Arapça farz, Türkçe vacip, Kürtçe de caiz.” demiş. Bu ülkenin millî değerlerine sahip çıkmak lazım. Bu ülkenin resmî dili Türkçedir…\", 'text_en': 'Yeah, we\\'re rookies in politics, we\\'re just getting started. God bless you. <p> Nowadays, people are looking for information, but no one is looking for wisdom. Wisdom is actually the loss of the believer, and it\\'s an entity that collects human knowledge, it can use tools, and people have created institutions, they\\'ve studied what can be learned within these institutions, they\\'ve set rules on who can teach them, and they\\'ve made decisions on who to pass these things on to, but they\\'ve forgotten one thing, human truth and everyone has tried to shape people according to their own philosophy of life. However, at a certain point of human rights, education and education, and the state and institutions of which humanity had developed, at which point each individual of these institutions had to maintain these rights, and at this point, at the point of education, he had to consider his rights. From 32 to 50, there have been some prohibitions in this country, during the 28th of February, there have been some difficulties in this country, thank God we\\'re getting through them slowly, we\\'re gradually over them because our nation is a different nation. When you\\'re driving on the road, you see some of the drivers across the street, they warn you, they say, \"Stop moving, there\\'s a traffic cop ahead. It\\'s a feature of our nation, you have to understand that, you have to understand that. <p> We need to understand the characteristics of this nation and give it an education in terms of the values that this nation has. <p> Now, good things have been done in the past few months, multiple numbers have been removed, 12-year-old practice has been removed from teaching the Koran. These are the areas where this nation has prayed, shed tears, and shed tears for thirteen years, and our people, and our children. Man may be a Christian, he may be a Jew, he may have a different faith, he may not have any faith, but at the point of education from Muslim children and Muslim people in this country, someone has to take his hand away, for peace of the country, for peace, for peace of the country, that\\'s what it takes. <p> The subject of primary language education is being brought up. 14 different languages are spoken in a straight language, 14 different languages. Saidi Kurdi said, \"How well did he say in Arabic?\" He said, \"It\\'s Turkish, it\\'s Turkish, it\\'s Kurdish.\" You have to keep this country\\'s national values. The official language of this country is Turkish...', 'label': 1, '__index_level_0__': 364, 'input_ids': [0, 116005, 4, 1030, 24034, 82422, 7124, 57775, 67, 4, 3152, 21926, 92, 5, 2207, 75289, 17711, 5, 4426, 254, 2740, 213101, 4, 24526, 16979, 2387, 187, 168370, 2527, 6, 69374, 40458, 22614, 46137, 5689, 62316, 5, 2673, 92, 1928, 78618, 8626, 1249, 73, 113, 57450, 6, 45423, 173, 8371, 16979, 2663, 23987, 73892, 4, 662, 18, 17005, 24951, 19, 263, 285, 4355, 11701, 173, 24526, 52022, 320, 24533, 693, 320, 4, 373, 52022, 320, 28365, 108, 4670, 37196, 379, 108478, 27125, 80470, 38837, 320, 4, 107358, 5238, 19, 162741, 108478, 138922, 1127, 263, 1865, 9984, 11908, 24822, 177943, 320, 173, 373, 162741, 10739, 49784, 73, 8, 200, 282, 86127, 175639, 27125, 48, 23659, 320, 15031, 603, 2527, 263, 61853, 51, 108957, 320, 4, 8371, 4155, 7731, 124316, 173, 65907, 11837, 38729, 183779, 14186, 8124, 8371, 133382, 95391, 1033, 93848, 5, 19281, 433, 61371, 95388, 1759, 1076, 22249, 7050, 5555, 263, 1865, 9984, 41599, 150705, 138922, 1127, 3472, 65247, 1127, 21103, 173, 6, 79287, 73, 173, 34299, 8371, 50420, 49762, 7050, 5555, 187721, 173, 52022, 2238, 4, 373, 52022, 2238, 61371, 4, 604, 263, 263, 7460, 3266, 373, 9796, 4242, 81335, 173, 373, 146019, 4, 21103, 96933, 138922, 1127, 48, 9826, 443, 343, 7339, 14590, 84134, 42095, 42, 2327, 113967, 49318, 5, 2789, 17478, 19, 836, 99778, 11, 3301, 373, 118385, 263, 1865, 9984, 159331, 320, 24654, 19, 5625, 4, 1372, 81752, 62517, 1067, 373, 118385, 263, 1865, 9984, 91509, 320, 24654, 19, 5625, 4, 2162, 6, 80213, 74870, 107358, 104757, 104757, 49940, 63597, 4, 107358, 104757, 104757, 49940, 63597, 76841, 17296, 8058, 18, 8559, 14818, 263, 8058, 18, 5, 50529, 85, 61516, 143, 40, 53, 2822, 82218, 9164, 13255, 263, 1865, 9984, 38768, 5433, 4670, 13267, 34894, 80083, 23681, 4920, 86691, 7, 138767, 4, 53584, 120212, 40204, 4, 122, 603, 200, 12, 52, 841, 32179, 4644, 2820, 4, 110556, 112, 27431, 30026, 285, 974, 667, 4, 17296, 8058, 18, 77651, 1556, 263, 16150, 597, 2826, 4, 15013, 142, 5259, 99958, 38763, 4, 15013, 54175, 7092, 99958, 38763, 5, 4426, 254, 2740, 667, 8058, 2311, 89884, 93, 142, 48307, 173, 7598, 8124, 373, 8058, 2311, 13980, 26792, 5555, 58608, 603, 176194, 263, 21103, 73687, 38763, 5, 4426, 254, 2740, 69926, 4, 33941, 537, 3793, 10577, 49784, 105395, 4, 3133, 21897, 53307, 20685, 4, 98, 2209, 27694, 123085, 5375, 25, 66, 6, 79287, 14, 27125, 53307, 20685, 5, 100633, 373, 8058, 2311, 98, 25286, 105159, 98, 40925, 105159, 30368, 4981, 42208, 4, 14590, 395, 26299, 101161, 26167, 101636, 4, 8371, 85048, 4, 36622, 85048, 14590, 395, 26299, 101161, 26167, 101636, 10905, 81982, 5, 39070, 572, 39977, 1643, 29247, 4, 97649, 29247, 4, 14818, 263, 23, 27796, 13980, 29247, 4, 39236, 231072, 48, 19310, 53, 21767, 2527, 373, 140418, 117251, 126185, 549, 173, 117251, 64980, 12932, 21103, 138922, 1127, 7479, 1341, 32701, 88, 943, 21622, 1596, 4, 130547, 172, 57071, 4, 45263, 66842, 34, 1099, 4, 45263, 1909, 32235, 1099, 45549, 57071, 5, 4426, 254, 2740, 5710, 9605, 112, 21103, 41257, 113117, 13, 22249, 96434, 5, 80692, 329, 26, 112, 98, 87080, 21120, 2], 'attention_mask': [1, 1, 1, 1, 1, 1, 1, 1, 1, 1, 1, 1, 1, 1, 1, 1, 1, 1, 1, 1, 1, 1, 1, 1, 1, 1, 1, 1, 1, 1, 1, 1, 1, 1, 1, 1, 1, 1, 1, 1, 1, 1, 1, 1, 1, 1, 1, 1, 1, 1, 1, 1, 1, 1, 1, 1, 1, 1, 1, 1, 1, 1, 1, 1, 1, 1, 1, 1, 1, 1, 1, 1, 1, 1, 1, 1, 1, 1, 1, 1, 1, 1, 1, 1, 1, 1, 1, 1, 1, 1, 1, 1, 1, 1, 1, 1, 1, 1, 1, 1, 1, 1, 1, 1, 1, 1, 1, 1, 1, 1, 1, 1, 1, 1, 1, 1, 1, 1, 1, 1, 1, 1, 1, 1, 1, 1, 1, 1, 1, 1, 1, 1, 1, 1, 1, 1, 1, 1, 1, 1, 1, 1, 1, 1, 1, 1, 1, 1, 1, 1, 1, 1, 1, 1, 1, 1, 1, 1, 1, 1, 1, 1, 1, 1, 1, 1, 1, 1, 1, 1, 1, 1, 1, 1, 1, 1, 1, 1, 1, 1, 1, 1, 1, 1, 1, 1, 1, 1, 1, 1, 1, 1, 1, 1, 1, 1, 1, 1, 1, 1, 1, 1, 1, 1, 1, 1, 1, 1, 1, 1, 1, 1, 1, 1, 1, 1, 1, 1, 1, 1, 1, 1, 1, 1, 1, 1, 1, 1, 1, 1, 1, 1, 1, 1, 1, 1, 1, 1, 1, 1, 1, 1, 1, 1, 1, 1, 1, 1, 1, 1, 1, 1, 1, 1, 1, 1, 1, 1, 1, 1, 1, 1, 1, 1, 1, 1, 1, 1, 1, 1, 1, 1, 1, 1, 1, 1, 1, 1, 1, 1, 1, 1, 1, 1, 1, 1, 1, 1, 1, 1, 1, 1, 1, 1, 1, 1, 1, 1, 1, 1, 1, 1, 1, 1, 1, 1, 1, 1, 1, 1, 1, 1, 1, 1, 1, 1, 1, 1, 1, 1, 1, 1, 1, 1, 1, 1, 1, 1, 1, 1, 1, 1, 1, 1, 1, 1, 1, 1, 1, 1, 1, 1, 1, 1, 1, 1, 1, 1, 1, 1, 1, 1, 1, 1, 1, 1, 1, 1, 1, 1, 1, 1, 1, 1, 1, 1, 1, 1, 1, 1, 1, 1, 1, 1, 1, 1, 1, 1, 1, 1, 1, 1, 1, 1, 1, 1, 1, 1, 1, 1, 1, 1, 1, 1, 1, 1, 1, 1, 1, 1, 1, 1, 1, 1, 1, 1, 1, 1, 1, 1, 1, 1, 1, 1, 1, 1, 1, 1, 1, 1, 1, 1, 1, 1, 1, 1, 1, 1, 1, 1, 1, 1, 1, 1, 1, 1, 1, 1, 1, 1, 1, 1, 1, 1, 1, 1, 1, 1, 1, 1, 1, 1, 1, 1, 1, 1, 1, 1, 1, 1, 1, 1, 1, 1, 1, 1, 1, 1, 1, 1, 1, 1, 1, 1, 1, 1, 1, 1, 1, 1, 1, 1, 1, 1, 1, 1, 1, 1, 1, 1, 1, 1, 1, 1, 1, 1, 1, 1, 1, 1, 1, 1, 1, 1, 1, 1, 1, 1, 1, 1, 1, 1]}\n"
          ]
        }
      ]
    },
    {
      "cell_type": "code",
      "source": [
        "eval_results = trainer.evaluate()\n",
        "print(eval_results)  # Includes the accuracy metric"
      ],
      "metadata": {
        "colab": {
          "base_uri": "https://localhost:8080/",
          "height": 92
        },
        "id": "o5rgYUkdExh_",
        "outputId": "1177ec57-f244-4cb6-a42d-3e35dd246bfe"
      },
      "execution_count": 28,
      "outputs": [
        {
          "output_type": "display_data",
          "data": {
            "text/plain": [
              "<IPython.core.display.HTML object>"
            ],
            "text/html": [
              "\n",
              "    <div>\n",
              "      \n",
              "      <progress value='101' max='101' style='width:300px; height:20px; vertical-align: middle;'></progress>\n",
              "      [101/101 00:06]\n",
              "    </div>\n",
              "    "
            ]
          },
          "metadata": {}
        },
        {
          "output_type": "stream",
          "name": "stdout",
          "text": [
            "Step 0: Evaluation Metrics: {'eval_loss': 0.7215030193328857, 'eval_model_preparation_time': 0.0037, 'eval_accuracy': 0.41821561338289964, 'eval_f1': 0.0, 'eval_runtime': 7.6944, 'eval_samples_per_second': 209.763, 'eval_steps_per_second': 13.126}\n",
            "{'eval_loss': 0.7215030193328857, 'eval_model_preparation_time': 0.0037, 'eval_accuracy': 0.41821561338289964, 'eval_f1': 0.0, 'eval_runtime': 7.6944, 'eval_samples_per_second': 209.763, 'eval_steps_per_second': 13.126}\n"
          ]
        }
      ]
    },
    {
      "cell_type": "code",
      "source": [
        "trainer.train()"
      ],
      "metadata": {
        "colab": {
          "base_uri": "https://localhost:8080/",
          "height": 1000
        },
        "id": "O58npc-Om-ho",
        "outputId": "0e7a22dc-4b9b-4aa1-8183-f9a3b747a33d"
      },
      "execution_count": 29,
      "outputs": [
        {
          "output_type": "display_data",
          "data": {
            "text/plain": [
              "<IPython.core.display.HTML object>"
            ],
            "text/html": [
              "\n",
              "    <div>\n",
              "      \n",
              "      <progress value='303' max='303' style='width:300px; height:20px; vertical-align: middle;'></progress>\n",
              "      [303/303 11:41, Epoch 3/3]\n",
              "    </div>\n",
              "    <table border=\"1\" class=\"dataframe\">\n",
              "  <thead>\n",
              " <tr style=\"text-align: left;\">\n",
              "      <th>Step</th>\n",
              "      <th>Training Loss</th>\n",
              "      <th>Validation Loss</th>\n",
              "      <th>Model Preparation Time</th>\n",
              "      <th>Accuracy</th>\n",
              "      <th>F1</th>\n",
              "    </tr>\n",
              "  </thead>\n",
              "  <tbody>\n",
              "    <tr>\n",
              "      <td>20</td>\n",
              "      <td>2.828400</td>\n",
              "      <td>0.663869</td>\n",
              "      <td>0.003700</td>\n",
              "      <td>0.581784</td>\n",
              "      <td>0.735605</td>\n",
              "    </tr>\n",
              "    <tr>\n",
              "      <td>40</td>\n",
              "      <td>2.606900</td>\n",
              "      <td>0.572123</td>\n",
              "      <td>0.003700</td>\n",
              "      <td>0.618959</td>\n",
              "      <td>0.750102</td>\n",
              "    </tr>\n",
              "    <tr>\n",
              "      <td>60</td>\n",
              "      <td>2.354000</td>\n",
              "      <td>0.487918</td>\n",
              "      <td>0.003700</td>\n",
              "      <td>0.789343</td>\n",
              "      <td>0.819533</td>\n",
              "    </tr>\n",
              "    <tr>\n",
              "      <td>80</td>\n",
              "      <td>2.213500</td>\n",
              "      <td>0.543197</td>\n",
              "      <td>0.003700</td>\n",
              "      <td>0.693928</td>\n",
              "      <td>0.652113</td>\n",
              "    </tr>\n",
              "    <tr>\n",
              "      <td>100</td>\n",
              "      <td>2.058400</td>\n",
              "      <td>0.434254</td>\n",
              "      <td>0.003700</td>\n",
              "      <td>0.814746</td>\n",
              "      <td>0.825452</td>\n",
              "    </tr>\n",
              "    <tr>\n",
              "      <td>120</td>\n",
              "      <td>1.862300</td>\n",
              "      <td>0.390753</td>\n",
              "      <td>0.003700</td>\n",
              "      <td>0.831475</td>\n",
              "      <td>0.848045</td>\n",
              "    </tr>\n",
              "    <tr>\n",
              "      <td>140</td>\n",
              "      <td>1.754200</td>\n",
              "      <td>0.372935</td>\n",
              "      <td>0.003700</td>\n",
              "      <td>0.844486</td>\n",
              "      <td>0.858432</td>\n",
              "    </tr>\n",
              "    <tr>\n",
              "      <td>160</td>\n",
              "      <td>1.701500</td>\n",
              "      <td>0.373738</td>\n",
              "      <td>0.003700</td>\n",
              "      <td>0.837051</td>\n",
              "      <td>0.865885</td>\n",
              "    </tr>\n",
              "    <tr>\n",
              "      <td>180</td>\n",
              "      <td>1.645000</td>\n",
              "      <td>0.339416</td>\n",
              "      <td>0.003700</td>\n",
              "      <td>0.854399</td>\n",
              "      <td>0.874800</td>\n",
              "    </tr>\n",
              "    <tr>\n",
              "      <td>200</td>\n",
              "      <td>1.506900</td>\n",
              "      <td>0.331757</td>\n",
              "      <td>0.003700</td>\n",
              "      <td>0.854399</td>\n",
              "      <td>0.875858</td>\n",
              "    </tr>\n",
              "    <tr>\n",
              "      <td>220</td>\n",
              "      <td>1.409100</td>\n",
              "      <td>0.393060</td>\n",
              "      <td>0.003700</td>\n",
              "      <td>0.839529</td>\n",
              "      <td>0.847557</td>\n",
              "    </tr>\n",
              "    <tr>\n",
              "      <td>240</td>\n",
              "      <td>1.487000</td>\n",
              "      <td>0.314172</td>\n",
              "      <td>0.003700</td>\n",
              "      <td>0.863693</td>\n",
              "      <td>0.880565</td>\n",
              "    </tr>\n",
              "    <tr>\n",
              "      <td>260</td>\n",
              "      <td>1.356300</td>\n",
              "      <td>0.320867</td>\n",
              "      <td>0.003700</td>\n",
              "      <td>0.866791</td>\n",
              "      <td>0.882834</td>\n",
              "    </tr>\n",
              "    <tr>\n",
              "      <td>280</td>\n",
              "      <td>1.376600</td>\n",
              "      <td>0.319211</td>\n",
              "      <td>0.003700</td>\n",
              "      <td>0.861214</td>\n",
              "      <td>0.875831</td>\n",
              "    </tr>\n",
              "    <tr>\n",
              "      <td>300</td>\n",
              "      <td>1.374400</td>\n",
              "      <td>0.312749</td>\n",
              "      <td>0.003700</td>\n",
              "      <td>0.864312</td>\n",
              "      <td>0.879736</td>\n",
              "    </tr>\n",
              "  </tbody>\n",
              "</table><p>"
            ]
          },
          "metadata": {}
        },
        {
          "output_type": "display_data",
          "data": {
            "text/plain": [
              "<IPython.core.display.HTML object>"
            ],
            "text/html": [
              "\n",
              "    <div>\n",
              "      \n",
              "      <progress value='202' max='101' style='width:300px; height:20px; vertical-align: middle;'></progress>\n",
              "      [101/101 00:51]\n",
              "    </div>\n",
              "    "
            ]
          },
          "metadata": {}
        },
        {
          "output_type": "stream",
          "name": "stdout",
          "text": [
            "Step 20: Evaluation Metrics: {'eval_loss': 0.663869321346283, 'eval_model_preparation_time': 0.0037, 'eval_accuracy': 0.5817843866171004, 'eval_f1': 0.7356051703877791, 'eval_runtime': 6.6165, 'eval_samples_per_second': 243.935, 'eval_steps_per_second': 15.265, 'epoch': 0.19801980198019803}\n",
            "Step 20: Learning Rate = 0.00001161\n",
            "Step 40: Evaluation Metrics: {'eval_loss': 0.5721230506896973, 'eval_model_preparation_time': 0.0037, 'eval_accuracy': 0.6189591078066915, 'eval_f1': 0.7501015847216579, 'eval_runtime': 6.8447, 'eval_samples_per_second': 235.804, 'eval_steps_per_second': 14.756, 'epoch': 0.39603960396039606}\n",
            "Step 40: Learning Rate = 0.00001949\n",
            "Step 60: Evaluation Metrics: {'eval_loss': 0.48791754245758057, 'eval_model_preparation_time': 0.0037, 'eval_accuracy': 0.7893432465923172, 'eval_f1': 0.8195329087048833, 'eval_runtime': 6.6249, 'eval_samples_per_second': 243.626, 'eval_steps_per_second': 15.246, 'epoch': 0.594059405940594}\n",
            "Step 60: Learning Rate = 0.00001801\n",
            "Step 80: Evaluation Metrics: {'eval_loss': 0.5431973934173584, 'eval_model_preparation_time': 0.0037, 'eval_accuracy': 0.6939281288723668, 'eval_f1': 0.652112676056338, 'eval_runtime': 6.6788, 'eval_samples_per_second': 241.662, 'eval_steps_per_second': 15.123, 'epoch': 0.7920792079207921}\n",
            "Step 80: Learning Rate = 0.00001654\n",
            "Step 100: Evaluation Metrics: {'eval_loss': 0.4342544376850128, 'eval_model_preparation_time': 0.0037, 'eval_accuracy': 0.8147459727385378, 'eval_f1': 0.825452422650321, 'eval_runtime': 6.658, 'eval_samples_per_second': 242.415, 'eval_steps_per_second': 15.17, 'epoch': 0.9900990099009901}\n",
            "Step 100: Learning Rate = 0.00001515\n",
            "Step 120: Evaluation Metrics: {'eval_loss': 0.3907529413700104, 'eval_model_preparation_time': 0.0037, 'eval_accuracy': 0.8314745972738538, 'eval_f1': 0.8480446927374302, 'eval_runtime': 6.6629, 'eval_samples_per_second': 242.235, 'eval_steps_per_second': 15.158, 'epoch': 1.188118811881188}\n",
            "Step 120: Learning Rate = 0.00001368\n",
            "Step 140: Evaluation Metrics: {'eval_loss': 0.3729347586631775, 'eval_model_preparation_time': 0.0037, 'eval_accuracy': 0.8444857496902106, 'eval_f1': 0.8584320360970107, 'eval_runtime': 6.6617, 'eval_samples_per_second': 242.281, 'eval_steps_per_second': 15.161, 'epoch': 1.386138613861386}\n",
            "Step 140: Learning Rate = 0.00001221\n",
            "Step 160: Evaluation Metrics: {'eval_loss': 0.37373819947242737, 'eval_model_preparation_time': 0.0037, 'eval_accuracy': 0.8370508054522925, 'eval_f1': 0.8658847526772055, 'eval_runtime': 6.6666, 'eval_samples_per_second': 242.102, 'eval_steps_per_second': 15.15, 'epoch': 1.5841584158415842}\n",
            "Step 160: Learning Rate = 0.00001074\n",
            "Step 180: Evaluation Metrics: {'eval_loss': 0.33941593766212463, 'eval_model_preparation_time': 0.0037, 'eval_accuracy': 0.8543990086741016, 'eval_f1': 0.8748002131060203, 'eval_runtime': 6.6734, 'eval_samples_per_second': 241.858, 'eval_steps_per_second': 15.135, 'epoch': 1.7821782178217822}\n",
            "Step 180: Learning Rate = 0.00000926\n",
            "Step 200: Evaluation Metrics: {'eval_loss': 0.33175668120384216, 'eval_model_preparation_time': 0.0037, 'eval_accuracy': 0.8543990086741016, 'eval_f1': 0.8758584257791865, 'eval_runtime': 6.6661, 'eval_samples_per_second': 242.121, 'eval_steps_per_second': 15.151, 'epoch': 1.9801980198019802}\n",
            "Step 200: Learning Rate = 0.00000779\n",
            "Step 220: Evaluation Metrics: {'eval_loss': 0.39306044578552246, 'eval_model_preparation_time': 0.0037, 'eval_accuracy': 0.8395291201982652, 'eval_f1': 0.8475573866980577, 'eval_runtime': 6.6619, 'eval_samples_per_second': 242.274, 'eval_steps_per_second': 15.161, 'epoch': 2.1782178217821784}\n",
            "Step 220: Learning Rate = 0.00000632\n",
            "Step 240: Evaluation Metrics: {'eval_loss': 0.3141717314720154, 'eval_model_preparation_time': 0.0037, 'eval_accuracy': 0.8636926889714994, 'eval_f1': 0.8805646036916395, 'eval_runtime': 6.6617, 'eval_samples_per_second': 242.282, 'eval_steps_per_second': 15.161, 'epoch': 2.376237623762376}\n",
            "Step 240: Learning Rate = 0.00000485\n",
            "Step 260: Evaluation Metrics: {'eval_loss': 0.32086673378944397, 'eval_model_preparation_time': 0.0037, 'eval_accuracy': 0.8667905824039653, 'eval_f1': 0.8828337874659401, 'eval_runtime': 6.6831, 'eval_samples_per_second': 241.504, 'eval_steps_per_second': 15.113, 'epoch': 2.5742574257425743}\n",
            "Step 260: Learning Rate = 0.00000338\n",
            "Step 280: Evaluation Metrics: {'eval_loss': 0.31921061873435974, 'eval_model_preparation_time': 0.0037, 'eval_accuracy': 0.8612143742255266, 'eval_f1': 0.8758314855875832, 'eval_runtime': 6.6759, 'eval_samples_per_second': 241.764, 'eval_steps_per_second': 15.129, 'epoch': 2.772277227722772}\n",
            "Step 280: Learning Rate = 0.00000191\n",
            "Step 300: Evaluation Metrics: {'eval_loss': 0.3127491772174835, 'eval_model_preparation_time': 0.0037, 'eval_accuracy': 0.8643122676579925, 'eval_f1': 0.8797364085667215, 'eval_runtime': 6.6645, 'eval_samples_per_second': 242.179, 'eval_steps_per_second': 15.155, 'epoch': 2.9702970297029703}\n",
            "Step 300: Learning Rate = 0.00000044\n"
          ]
        },
        {
          "output_type": "stream",
          "name": "stderr",
          "text": [
            "Could not locate the best model at ./test_trainer/checkpoint-260/pytorch_model.bin, if you are running a distributed training on multiple nodes, you should activate `--save_on_each_node`.\n"
          ]
        },
        {
          "output_type": "execute_result",
          "data": {
            "text/plain": [
              "TrainOutput(global_step=303, training_loss=1.831585729869679, metrics={'train_runtime': 703.631, 'train_samples_per_second': 55.043, 'train_steps_per_second': 0.431, 'total_flos': 1.01902911740928e+16, 'train_loss': 1.831585729869679, 'epoch': 3.0})"
            ]
          },
          "metadata": {},
          "execution_count": 29
        }
      ]
    },
    {
      "cell_type": "code",
      "source": [
        "tokenized_test_dataset = test_dataset.map(tokenize_function, batched=True)"
      ],
      "metadata": {
        "colab": {
          "base_uri": "https://localhost:8080/",
          "height": 49,
          "referenced_widgets": [
            "441877c3e19d480d8d9da6d458f9ad05",
            "e85076c23306478691b782211153338d",
            "91f3e0b523b94005ae9b0b684f953dc9",
            "b8c1cf0d8b33444983f36336203f3c76",
            "3904685a6bd546e2805f20254f6b1d5e",
            "68b67388415e44d29ada5a002accfaba",
            "be82141ddb574d4eb353fd5df4b6f5ee",
            "621f9a0a7f0b4cd5af4eb9110c6aa396",
            "b132f2c0f09e4eef81e4072a2cf3ec81",
            "852dba8758594d66ba227c01f2b10237",
            "db500538385e4757ac13fc23676c6390"
          ]
        },
        "id": "i_ZsBX0jKyvs",
        "outputId": "e78dee99-8f92-4d95-ab1e-cb763f034136"
      },
      "execution_count": 30,
      "outputs": [
        {
          "output_type": "display_data",
          "data": {
            "text/plain": [
              "Map:   0%|          | 0/1614 [00:00<?, ? examples/s]"
            ],
            "application/vnd.jupyter.widget-view+json": {
              "version_major": 2,
              "version_minor": 0,
              "model_id": "441877c3e19d480d8d9da6d458f9ad05"
            }
          },
          "metadata": {}
        }
      ]
    },
    {
      "cell_type": "code",
      "source": [
        "print(f'Train Dataset Column Names:{train_dataset.column_names}')\n",
        "print(f'Tokenized Train Dataset Column Names:{tokenized_train_dataset.column_names}')\n",
        "example = tokenized_train_dataset[0]\n",
        "print(f'first element of tokenized dateset{example}')\n"
      ],
      "metadata": {
        "colab": {
          "base_uri": "https://localhost:8080/"
        },
        "id": "ZB8v33XgM7R-",
        "outputId": "e7f42544-8407-4e3f-c13f-d64eca81111b"
      },
      "execution_count": 31,
      "outputs": [
        {
          "output_type": "stream",
          "name": "stdout",
          "text": [
            "Train Dataset Column Names:['id', 'speaker', 'sex', 'text', 'text_en', 'label', '__index_level_0__']\n",
            "Tokenized Train Dataset Column Names:['id', 'speaker', 'sex', 'text', 'text_en', 'label', '__index_level_0__', 'input_ids', 'attention_mask']\n",
            "first element of tokenized dateset{'id': 'tr01677', 'speaker': '9c3b4ba137bad5f955ec4fb3dbddafd8', 'sex': 'M', 'text': 'Sayın Başkan, değerli milletvekilleri; 8 Ekim ve sonrasında yaptığı konuşmayla geçmişte olduğu gibi bugünde de işkence ve kötü muameleye karşı olduğunu, faili meçhul cinayetlerin son bulmasını, köy boşaltmalarının ortadan kaldırılmasını, bölge halkıyla kucaklaşarak birlikte hareket edilmesinin takdir edilecek bir davranış olduğunu; 80 sonrasında, başta Mamak’ta olmak kaydıyla, yurdun pek çok noktasında “Mektebi Yusufiye” olarak adlandırılan çilehanelerde kimsesiz ve sahipsiz ülkücülerin arkasında durduğu gibi bugün de mazlumun, mağdurun yanında olmak gerektiğini, işkence ve insanlık dışı uygulamaların terörü tırmandırmasına kimsenin sahip çıkmaması gerektiğini bizzat Sayın Arınç vurgulamıştır. Yıllarını milleti ve milletin manevi değerlerini üstün tutmak için mücadele vermiş, insanların hizmetine adamış; 12 Eylül 80 sonrası ülkemizin birliği ve beraberliği adına, kutsal saydığı değerler için mücadele etmiş ülkücü gençlerin davalarına bilabedel avukatlık yapmış, saydam ve saygın bir kişiliğe sahip Sayın Bülent Arınç hakkında, terörle mücadele eden güvenlik güçlerinin moralini ve azmini zayıflattığı iddiasında bulunmak son derece yakışıksız ve siyasi etikten yoksun bir davranıştır. <p> Sayın Arınç hakkında gensoru açılmasını talep eden <PARTY> Grubu, 11 Kasım 2012 tarihli Genel Kurulda yapılan görüşmeler esnasında, yüce Meclisin 11 ve 12 Kasım tarihlerinde çalıştırılmaması karşılığında gensoru önergesinin geri çekileceğini beyan etmiş olmakla, aslında kendi ileri sürdükleri iddialara kendilerinin de inanmadığını bizzat göstermişlerdir. <p> <PARTY> mensubu hiçbir milletvekili ve bakanın, özellikle Sayın Başbakan Yardımcımız Bülent Arınç Bey’in, bölücü terör örgütüne moral veren, umut aşılayan, bölücü emellere haklılık kazandıracak konuşmalar yapması ve teröristlerle görüşmeyi, onlarla kimlik ve Anayasa tartışmaları yapmayı normal, sıradan vakalar olarak kamuoyuna takdim eden açıklamalar yapması; canı pahasına ülkesi ve milletin bölünmez bütünlüğü için terörle mücadele eden güvenlik güçlerimizin psikolojisini, moralini, azmini ve mücadele gücünü zayıflatan açıklamalar yapması mümkün değildir. Bilakis, tam tersine, bölücü terör örgütüne karşı bölge halkının demokratik haklarını koruyan ve kollayan, bu ülkede bir tek insanımızın dahi burnunun kanamasına razı olmayan, “Önce insan.” diyerek insan hak ve hürriyetlerini önceleyen bir anlayışın en önde gelen isimlerinden biridir Sayın Arınç. <p> Bu itibarla, özellikle 57’nci Hükûmetle alakalı Aytun Çıray Bey’in ifade ettiği bir söz… “Ekonomik olarak çok iyi bir durumda bıraktık.” dediğinizde, İnternet’e girip baktığınızda 57’nci Hükûmetle alakalı çıkan ilk yazı şudur: AB uyum paketlerinin ilk üçü çıkarılmıştır. Bu paket uyarınca idam cezasının kaldırılması ve o dönem gündemde bulunan PKK lideri Abdullah Öcalan’ın da bu kanundan yararlanarak idam edilmemesi uzun tartışmalara sebep olan bir Hükûmet olarak değerlendirmiş… <p> …bu Hükûmetin sonunun ise 2001 Türkiye ekonomik krizi ve “kara çarşamba” olarak tarihe geçen… <p> …cumhuriyet tarihinin en büyük krizi sonunda gerçekleştiğini ifade etmiştir. <p> Bu duygu, bu düşüncelerle gensorunun aleyhinde oy kullanacağımı ifade ediyor, yüce heyetinizi saygıyla selamlıyorum.', 'text_en': \"Mr. President, the esteemed MPs have stressed in many parts of the country that they are against torture and abuse, as they have done since October 8th and since then, as they stand today, the end of the unsolved killings, the removal of the village evacuations, the act of co-operation with the people of the region; and that no one after 80 shall have to climb terrors and terrors, especially in the case of Mamak. It is highly inappropriate to claim that the security forces fighting terrorism have weakened the morale and the tenacity of security forces, which are transparent and respectable about Mr. Bkent Arinc, who have fought the trials of international youths who fought for the unity and unity of our country after September 12th 80th and fought for the values that he considered sacred. <p> During talks held at the General Assembly on November 11, 2012, the National Movement Party Group, which has demanded that Mr. Arinc be opened a gene question about Mr. Arinc, has personally shown that they do not believe the allegations they have made, in fact, that the Supreme Assembly's motion would be withdrawn in exchange for its absence on November 11th and 12th. <p> It is not possible for Mr. Bulent Arinc Bey, our Deputy Prime Minister, in particular, to speak to the separatist terrorist organization for morale, to inspire hope, to justify separatist ambitions, and to speak to terrorists, to present to the public as normal cases of identity and the Constitution, to present public arguments with them as ordinary cases -- the psychology, morale, determination, and the strength of our security forces fighting terror for the undistributable integrity of the country and the nation at the expense of their lives. On the contrary, Mr. Arinc is one of the leading figures of an understanding that predates human rights and freedoms, saying that the people of this country, who protects and protects and protects the democratic rights of the separatist terrorist organization, protects and protects the democratic rights of the people of the region, are the first people in this country who do not consent to bleeding even our own people's noses. <p> This is the first article of the 57th government in particular, which is expressed by Aytun Çıray Bey. When you go to the Internet and look at it, the first article about the 57th government is this: the first three of the EU integration packages have been removed. In accordance with this package, the removal of the death penalty and the absence of the execution of PKK leader Abdullah Ocalan. <p> ...the end of this government is 2001 Turkey's economic crisis and history as black Wednesday... <p> ...the greatest crisis in the history of the Republic. <p> This feeling is that I will vote against your client with these thoughts, and I salute your grand delegation.\", 'label': 1, '__index_level_0__': 1677, 'input_ids': [0, 116371, 41887, 4, 91184, 8058, 13733, 13595, 1341, 74, 382, 50288, 173, 100233, 23681, 43049, 7809, 67964, 67, 5555, 3197, 29345, 112, 8, 4659, 1098, 329, 173, 49664, 7449, 32128, 1033, 9164, 7033, 4, 35782, 14, 163, 2738, 28952, 215914, 4670, 775, 11876, 39510, 4, 69041, 45695, 7010, 192, 4793, 165870, 53307, 119786, 4, 37921, 64980, 30153, 228, 20264, 24229, 13489, 14208, 25392, 74009, 694, 466, 936, 197220, 263, 100214, 7033, 74, 2248, 100233, 4, 101396, 22991, 92, 26, 102, 14302, 187702, 7809, 4, 113, 56774, 19, 14828, 2162, 138922, 1127, 52, 6696, 17419, 964, 80407, 8380, 63, 2086, 102616, 17658, 16330, 133, 34414, 11098, 46137, 4900, 173, 13980, 4900, 56658, 14269, 8893, 4670, 195073, 7920, 39349, 3197, 29345, 8, 17022, 4689, 309, 4, 229147, 309, 28607, 14302, 95197, 4, 4659, 1098, 329, 173, 8371, 4355, 87353, 170704, 19, 704, 48374, 6, 11701, 669, 2544, 50013, 46137, 694, 13980, 89270, 8390, 95197, 7124, 10288, 116371, 1172, 1110, 2738, 130763, 143, 35237, 5, 72645, 4242, 8058, 118, 173, 8058, 2311, 332, 14083, 181286, 93, 54840, 126621, 92, 1099, 43462, 66408, 4, 37403, 62749, 86, 1243, 9027, 74, 427, 54846, 2248, 81917, 141010, 73, 176848, 173, 41719, 10977, 40000, 4, 28600, 2317, 5154, 14747, 58608, 603, 1099, 43462, 40832, 56658, 14269, 8893, 131461, 73, 59674, 7551, 2224, 372, 1743, 185, 37207, 4355, 112617, 4, 5154, 6229, 173, 90814, 19, 263, 15847, 90498, 13980, 116371, 234716, 1172, 1110, 2738, 21152, 4, 70631, 133, 43462, 12191, 78990, 54988, 13219, 53321, 93, 173, 295, 9222, 159512, 2335, 31048, 29758, 10180, 64547, 92, 775, 37284, 151, 12558, 36758, 10782, 173, 25891, 6, 14667, 510, 11767, 6548, 263, 100214, 11701, 5, 4426, 254, 2740, 116371, 1172, 1110, 2738, 21152, 29038, 30442, 176319, 4920, 93248, 12191, 4426, 88601, 1723, 2740, 161373, 4, 534, 53415, 1324, 176431, 20332, 104478, 34206, 18056, 172406, 235430, 4, 113, 3449, 329, 81625, 73, 534, 173, 427, 53415, 111643, 1067, 93848, 201129, 8390, 9164, 62463, 29038, 30442, 111291, 27616, 8144, 11227, 21622, 379, 94277, 186, 1643, 40832, 14302, 143, 4, 78618, 11837, 110556, 30369, 15943, 89632, 29758, 3945, 158943, 19, 8, 23, 66, 177560, 7124, 10288, 32118, 159581, 936, 5, 4426, 254, 2740, 4426, 88601, 1723, 2740, 5101, 34, 978, 39236, 210030, 173, 29853, 1402, 4, 37789, 116371, 91200, 113388, 238, 31419, 234716, 1172, 1110, 2738, 41505, 26, 73, 4, 34178, 5374, 8893, 70631, 148062, 86, 14392, 30212, 4, 286, 1003, 10, 26299, 18616, 4, 34178, 5374, 8893, 47545, 6660, 9796, 1304, 4355, 77456, 42, 14228, 43049, 320, 202435, 173, 70631, 1419, 22159, 124669, 2387, 4, 165212, 190385, 173, 196591, 135460, 980, 199008, 3638, 4, 68293, 19, 307, 161, 320, 2086, 218850, 76, 466, 5771, 12191, 46595, 320, 202435, 74, 831, 1057, 59769, 14728, 201172, 173, 8058, 2311, 175880, 11723, 7609, 56700, 1099, 70631, 133, 43462, 12191, 78990, 54988, 125559, 100305, 22811, 5234, 4, 53321, 93, 4, 295, 9222, 173, 43462, 175559, 159512, 106326, 46595, 320, 202435, 25639, 47449, 5, 14811, 9637, 4, 1481, 78605, 86, 4, 34178, 5374, 8893, 70631, 148062, 86, 9164, 37921, 146551, 1110, 57535, 9796, 4242, 57090, 1643, 173, 50250, 2], 'attention_mask': [1, 1, 1, 1, 1, 1, 1, 1, 1, 1, 1, 1, 1, 1, 1, 1, 1, 1, 1, 1, 1, 1, 1, 1, 1, 1, 1, 1, 1, 1, 1, 1, 1, 1, 1, 1, 1, 1, 1, 1, 1, 1, 1, 1, 1, 1, 1, 1, 1, 1, 1, 1, 1, 1, 1, 1, 1, 1, 1, 1, 1, 1, 1, 1, 1, 1, 1, 1, 1, 1, 1, 1, 1, 1, 1, 1, 1, 1, 1, 1, 1, 1, 1, 1, 1, 1, 1, 1, 1, 1, 1, 1, 1, 1, 1, 1, 1, 1, 1, 1, 1, 1, 1, 1, 1, 1, 1, 1, 1, 1, 1, 1, 1, 1, 1, 1, 1, 1, 1, 1, 1, 1, 1, 1, 1, 1, 1, 1, 1, 1, 1, 1, 1, 1, 1, 1, 1, 1, 1, 1, 1, 1, 1, 1, 1, 1, 1, 1, 1, 1, 1, 1, 1, 1, 1, 1, 1, 1, 1, 1, 1, 1, 1, 1, 1, 1, 1, 1, 1, 1, 1, 1, 1, 1, 1, 1, 1, 1, 1, 1, 1, 1, 1, 1, 1, 1, 1, 1, 1, 1, 1, 1, 1, 1, 1, 1, 1, 1, 1, 1, 1, 1, 1, 1, 1, 1, 1, 1, 1, 1, 1, 1, 1, 1, 1, 1, 1, 1, 1, 1, 1, 1, 1, 1, 1, 1, 1, 1, 1, 1, 1, 1, 1, 1, 1, 1, 1, 1, 1, 1, 1, 1, 1, 1, 1, 1, 1, 1, 1, 1, 1, 1, 1, 1, 1, 1, 1, 1, 1, 1, 1, 1, 1, 1, 1, 1, 1, 1, 1, 1, 1, 1, 1, 1, 1, 1, 1, 1, 1, 1, 1, 1, 1, 1, 1, 1, 1, 1, 1, 1, 1, 1, 1, 1, 1, 1, 1, 1, 1, 1, 1, 1, 1, 1, 1, 1, 1, 1, 1, 1, 1, 1, 1, 1, 1, 1, 1, 1, 1, 1, 1, 1, 1, 1, 1, 1, 1, 1, 1, 1, 1, 1, 1, 1, 1, 1, 1, 1, 1, 1, 1, 1, 1, 1, 1, 1, 1, 1, 1, 1, 1, 1, 1, 1, 1, 1, 1, 1, 1, 1, 1, 1, 1, 1, 1, 1, 1, 1, 1, 1, 1, 1, 1, 1, 1, 1, 1, 1, 1, 1, 1, 1, 1, 1, 1, 1, 1, 1, 1, 1, 1, 1, 1, 1, 1, 1, 1, 1, 1, 1, 1, 1, 1, 1, 1, 1, 1, 1, 1, 1, 1, 1, 1, 1, 1, 1, 1, 1, 1, 1, 1, 1, 1, 1, 1, 1, 1, 1, 1, 1, 1, 1, 1, 1, 1, 1, 1, 1, 1, 1, 1, 1, 1, 1, 1, 1, 1, 1, 1, 1, 1, 1, 1, 1, 1, 1, 1, 1, 1, 1, 1, 1, 1, 1, 1, 1, 1, 1, 1, 1, 1, 1, 1, 1, 1, 1, 1, 1, 1, 1, 1, 1, 1, 1, 1, 1, 1, 1, 1, 1, 1, 1, 1, 1, 1, 1, 1, 1, 1, 1, 1, 1, 1, 1, 1, 1, 1, 1, 1, 1, 1, 1]}\n"
          ]
        }
      ]
    },
    {
      "cell_type": "code",
      "source": [
        "print(tokenized_train_dataset['label'][:10])  # Check the first 10 labels\n",
        "\n",
        "# Ensure labels are integers\n",
        "if not all(isinstance(label, int) for label in tokenized_train_dataset['label']):\n",
        "    print(\"Converting labels to integers...\")\n",
        "    train_dataset = train_dataset.map(lambda x: {\"label\": int(x[\"label\"])})\n",
        "    tokenized_train_dataset = train_dataset.map(tokenize_function, batched=True)\n"
      ],
      "metadata": {
        "colab": {
          "base_uri": "https://localhost:8080/"
        },
        "id": "ijfqtqCXODVY",
        "outputId": "9b5f4bd4-3a15-42d2-edd4-6f5c5751aaa9"
      },
      "execution_count": 32,
      "outputs": [
        {
          "output_type": "stream",
          "name": "stdout",
          "text": [
            "[1, 1, 1, 0, 0, 1, 1, 1, 1, 1]\n"
          ]
        }
      ]
    },
    {
      "cell_type": "code",
      "source": [
        "test_results = trainer.evaluate(tokenized_test_dataset)\n",
        "print(\"Test Set Results:\", test_results)"
      ],
      "metadata": {
        "colab": {
          "base_uri": "https://localhost:8080/",
          "height": 109
        },
        "id": "DFlhEK89KO8C",
        "outputId": "136c8945-9a26-4680-af90-3525e74d1fed"
      },
      "execution_count": 33,
      "outputs": [
        {
          "output_type": "display_data",
          "data": {
            "text/plain": [
              "<IPython.core.display.HTML object>"
            ],
            "text/html": [
              "\n",
              "    <div>\n",
              "      \n",
              "      <progress value='101' max='101' style='width:300px; height:20px; vertical-align: middle;'></progress>\n",
              "      [101/101 00:06]\n",
              "    </div>\n",
              "    "
            ]
          },
          "metadata": {}
        },
        {
          "output_type": "stream",
          "name": "stdout",
          "text": [
            "Step 303: Evaluation Metrics: {'eval_loss': 0.32639405131340027, 'eval_model_preparation_time': 0.0037, 'eval_accuracy': 0.8643122676579925, 'eval_f1': 0.8801313628899836, 'eval_runtime': 6.6624, 'eval_samples_per_second': 242.256, 'eval_steps_per_second': 15.16, 'epoch': 3.0}\n",
            "Step 303: Learning Rate = 0.00000022\n",
            "Test Set Results: {'eval_loss': 0.32639405131340027, 'eval_model_preparation_time': 0.0037, 'eval_accuracy': 0.8643122676579925, 'eval_f1': 0.8801313628899836, 'eval_runtime': 6.6624, 'eval_samples_per_second': 242.256, 'eval_steps_per_second': 15.16, 'epoch': 3.0}\n"
          ]
        }
      ]
    },
    {
      "cell_type": "code",
      "source": [
        "# Save the model and tokenizer\n",
        "model.save_pretrained(\"./task1_xlm-roberta-base_fine-tune\")\n",
        "tokenizer.save_pretrained(\"./task1_xlm-roberta-base_fine-tune\")"
      ],
      "metadata": {
        "colab": {
          "base_uri": "https://localhost:8080/"
        },
        "id": "hc8ASIj7Fboy",
        "outputId": "5400ac35-482e-45da-9dba-b1bb6614e4d1"
      },
      "execution_count": 34,
      "outputs": [
        {
          "output_type": "execute_result",
          "data": {
            "text/plain": [
              "('./task1_xlm-roberta-base_fine-tune/tokenizer_config.json',\n",
              " './task1_xlm-roberta-base_fine-tune/special_tokens_map.json',\n",
              " './task1_xlm-roberta-base_fine-tune/sentencepiece.bpe.model',\n",
              " './task1_xlm-roberta-base_fine-tune/added_tokens.json',\n",
              " './task1_xlm-roberta-base_fine-tune/tokenizer.json')"
            ]
          },
          "metadata": {},
          "execution_count": 34
        }
      ]
    }
  ]
}