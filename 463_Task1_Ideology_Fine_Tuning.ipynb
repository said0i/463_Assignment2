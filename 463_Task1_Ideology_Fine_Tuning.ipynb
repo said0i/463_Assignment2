{
  "nbformat": 4,
  "nbformat_minor": 0,
  "metadata": {
    "colab": {
      "provenance": [],
      "gpuType": "L4"
    },
    "kernelspec": {
      "name": "python3",
      "display_name": "Python 3"
    },
    "language_info": {
      "name": "python"
    },
    "accelerator": "GPU",
    "widgets": {
      "application/vnd.jupyter.widget-state+json": {
        "3d2c3c16a2624a61b382bf5c09bb20bb": {
          "model_module": "@jupyter-widgets/controls",
          "model_name": "HBoxModel",
          "model_module_version": "1.5.0",
          "state": {
            "_dom_classes": [],
            "_model_module": "@jupyter-widgets/controls",
            "_model_module_version": "1.5.0",
            "_model_name": "HBoxModel",
            "_view_count": null,
            "_view_module": "@jupyter-widgets/controls",
            "_view_module_version": "1.5.0",
            "_view_name": "HBoxView",
            "box_style": "",
            "children": [
              "IPY_MODEL_fd187b70b2624942bbf55f38275e1df5",
              "IPY_MODEL_c0626832fe3d44b79d4f62c36f474476",
              "IPY_MODEL_fd4b334c588c4aec8e043a823393f3d0"
            ],
            "layout": "IPY_MODEL_c8282190084e453bbd38d38dabb2f2d4"
          }
        },
        "fd187b70b2624942bbf55f38275e1df5": {
          "model_module": "@jupyter-widgets/controls",
          "model_name": "HTMLModel",
          "model_module_version": "1.5.0",
          "state": {
            "_dom_classes": [],
            "_model_module": "@jupyter-widgets/controls",
            "_model_module_version": "1.5.0",
            "_model_name": "HTMLModel",
            "_view_count": null,
            "_view_module": "@jupyter-widgets/controls",
            "_view_module_version": "1.5.0",
            "_view_name": "HTMLView",
            "description": "",
            "description_tooltip": null,
            "layout": "IPY_MODEL_4b3bd159325f4d8dbad4d390d2b89f0d",
            "placeholder": "​",
            "style": "IPY_MODEL_a6e042e6c3ae40e5ac00021135381d8b",
            "value": "tokenizer_config.json: 100%"
          }
        },
        "c0626832fe3d44b79d4f62c36f474476": {
          "model_module": "@jupyter-widgets/controls",
          "model_name": "FloatProgressModel",
          "model_module_version": "1.5.0",
          "state": {
            "_dom_classes": [],
            "_model_module": "@jupyter-widgets/controls",
            "_model_module_version": "1.5.0",
            "_model_name": "FloatProgressModel",
            "_view_count": null,
            "_view_module": "@jupyter-widgets/controls",
            "_view_module_version": "1.5.0",
            "_view_name": "ProgressView",
            "bar_style": "success",
            "description": "",
            "description_tooltip": null,
            "layout": "IPY_MODEL_8c1dd5f8a6c0434c9befb748dbb21758",
            "max": 25,
            "min": 0,
            "orientation": "horizontal",
            "style": "IPY_MODEL_086a251c9cf34182a82df7741c0cb5ae",
            "value": 25
          }
        },
        "fd4b334c588c4aec8e043a823393f3d0": {
          "model_module": "@jupyter-widgets/controls",
          "model_name": "HTMLModel",
          "model_module_version": "1.5.0",
          "state": {
            "_dom_classes": [],
            "_model_module": "@jupyter-widgets/controls",
            "_model_module_version": "1.5.0",
            "_model_name": "HTMLModel",
            "_view_count": null,
            "_view_module": "@jupyter-widgets/controls",
            "_view_module_version": "1.5.0",
            "_view_name": "HTMLView",
            "description": "",
            "description_tooltip": null,
            "layout": "IPY_MODEL_55887a45e3d9462490f50afdfb2566c3",
            "placeholder": "​",
            "style": "IPY_MODEL_efe04da7574c4ff089b3f63bc679bf78",
            "value": " 25.0/25.0 [00:00&lt;00:00, 2.17kB/s]"
          }
        },
        "c8282190084e453bbd38d38dabb2f2d4": {
          "model_module": "@jupyter-widgets/base",
          "model_name": "LayoutModel",
          "model_module_version": "1.2.0",
          "state": {
            "_model_module": "@jupyter-widgets/base",
            "_model_module_version": "1.2.0",
            "_model_name": "LayoutModel",
            "_view_count": null,
            "_view_module": "@jupyter-widgets/base",
            "_view_module_version": "1.2.0",
            "_view_name": "LayoutView",
            "align_content": null,
            "align_items": null,
            "align_self": null,
            "border": null,
            "bottom": null,
            "display": null,
            "flex": null,
            "flex_flow": null,
            "grid_area": null,
            "grid_auto_columns": null,
            "grid_auto_flow": null,
            "grid_auto_rows": null,
            "grid_column": null,
            "grid_gap": null,
            "grid_row": null,
            "grid_template_areas": null,
            "grid_template_columns": null,
            "grid_template_rows": null,
            "height": null,
            "justify_content": null,
            "justify_items": null,
            "left": null,
            "margin": null,
            "max_height": null,
            "max_width": null,
            "min_height": null,
            "min_width": null,
            "object_fit": null,
            "object_position": null,
            "order": null,
            "overflow": null,
            "overflow_x": null,
            "overflow_y": null,
            "padding": null,
            "right": null,
            "top": null,
            "visibility": null,
            "width": null
          }
        },
        "4b3bd159325f4d8dbad4d390d2b89f0d": {
          "model_module": "@jupyter-widgets/base",
          "model_name": "LayoutModel",
          "model_module_version": "1.2.0",
          "state": {
            "_model_module": "@jupyter-widgets/base",
            "_model_module_version": "1.2.0",
            "_model_name": "LayoutModel",
            "_view_count": null,
            "_view_module": "@jupyter-widgets/base",
            "_view_module_version": "1.2.0",
            "_view_name": "LayoutView",
            "align_content": null,
            "align_items": null,
            "align_self": null,
            "border": null,
            "bottom": null,
            "display": null,
            "flex": null,
            "flex_flow": null,
            "grid_area": null,
            "grid_auto_columns": null,
            "grid_auto_flow": null,
            "grid_auto_rows": null,
            "grid_column": null,
            "grid_gap": null,
            "grid_row": null,
            "grid_template_areas": null,
            "grid_template_columns": null,
            "grid_template_rows": null,
            "height": null,
            "justify_content": null,
            "justify_items": null,
            "left": null,
            "margin": null,
            "max_height": null,
            "max_width": null,
            "min_height": null,
            "min_width": null,
            "object_fit": null,
            "object_position": null,
            "order": null,
            "overflow": null,
            "overflow_x": null,
            "overflow_y": null,
            "padding": null,
            "right": null,
            "top": null,
            "visibility": null,
            "width": null
          }
        },
        "a6e042e6c3ae40e5ac00021135381d8b": {
          "model_module": "@jupyter-widgets/controls",
          "model_name": "DescriptionStyleModel",
          "model_module_version": "1.5.0",
          "state": {
            "_model_module": "@jupyter-widgets/controls",
            "_model_module_version": "1.5.0",
            "_model_name": "DescriptionStyleModel",
            "_view_count": null,
            "_view_module": "@jupyter-widgets/base",
            "_view_module_version": "1.2.0",
            "_view_name": "StyleView",
            "description_width": ""
          }
        },
        "8c1dd5f8a6c0434c9befb748dbb21758": {
          "model_module": "@jupyter-widgets/base",
          "model_name": "LayoutModel",
          "model_module_version": "1.2.0",
          "state": {
            "_model_module": "@jupyter-widgets/base",
            "_model_module_version": "1.2.0",
            "_model_name": "LayoutModel",
            "_view_count": null,
            "_view_module": "@jupyter-widgets/base",
            "_view_module_version": "1.2.0",
            "_view_name": "LayoutView",
            "align_content": null,
            "align_items": null,
            "align_self": null,
            "border": null,
            "bottom": null,
            "display": null,
            "flex": null,
            "flex_flow": null,
            "grid_area": null,
            "grid_auto_columns": null,
            "grid_auto_flow": null,
            "grid_auto_rows": null,
            "grid_column": null,
            "grid_gap": null,
            "grid_row": null,
            "grid_template_areas": null,
            "grid_template_columns": null,
            "grid_template_rows": null,
            "height": null,
            "justify_content": null,
            "justify_items": null,
            "left": null,
            "margin": null,
            "max_height": null,
            "max_width": null,
            "min_height": null,
            "min_width": null,
            "object_fit": null,
            "object_position": null,
            "order": null,
            "overflow": null,
            "overflow_x": null,
            "overflow_y": null,
            "padding": null,
            "right": null,
            "top": null,
            "visibility": null,
            "width": null
          }
        },
        "086a251c9cf34182a82df7741c0cb5ae": {
          "model_module": "@jupyter-widgets/controls",
          "model_name": "ProgressStyleModel",
          "model_module_version": "1.5.0",
          "state": {
            "_model_module": "@jupyter-widgets/controls",
            "_model_module_version": "1.5.0",
            "_model_name": "ProgressStyleModel",
            "_view_count": null,
            "_view_module": "@jupyter-widgets/base",
            "_view_module_version": "1.2.0",
            "_view_name": "StyleView",
            "bar_color": null,
            "description_width": ""
          }
        },
        "55887a45e3d9462490f50afdfb2566c3": {
          "model_module": "@jupyter-widgets/base",
          "model_name": "LayoutModel",
          "model_module_version": "1.2.0",
          "state": {
            "_model_module": "@jupyter-widgets/base",
            "_model_module_version": "1.2.0",
            "_model_name": "LayoutModel",
            "_view_count": null,
            "_view_module": "@jupyter-widgets/base",
            "_view_module_version": "1.2.0",
            "_view_name": "LayoutView",
            "align_content": null,
            "align_items": null,
            "align_self": null,
            "border": null,
            "bottom": null,
            "display": null,
            "flex": null,
            "flex_flow": null,
            "grid_area": null,
            "grid_auto_columns": null,
            "grid_auto_flow": null,
            "grid_auto_rows": null,
            "grid_column": null,
            "grid_gap": null,
            "grid_row": null,
            "grid_template_areas": null,
            "grid_template_columns": null,
            "grid_template_rows": null,
            "height": null,
            "justify_content": null,
            "justify_items": null,
            "left": null,
            "margin": null,
            "max_height": null,
            "max_width": null,
            "min_height": null,
            "min_width": null,
            "object_fit": null,
            "object_position": null,
            "order": null,
            "overflow": null,
            "overflow_x": null,
            "overflow_y": null,
            "padding": null,
            "right": null,
            "top": null,
            "visibility": null,
            "width": null
          }
        },
        "efe04da7574c4ff089b3f63bc679bf78": {
          "model_module": "@jupyter-widgets/controls",
          "model_name": "DescriptionStyleModel",
          "model_module_version": "1.5.0",
          "state": {
            "_model_module": "@jupyter-widgets/controls",
            "_model_module_version": "1.5.0",
            "_model_name": "DescriptionStyleModel",
            "_view_count": null,
            "_view_module": "@jupyter-widgets/base",
            "_view_module_version": "1.2.0",
            "_view_name": "StyleView",
            "description_width": ""
          }
        },
        "1f57b377426041399cf4e3b74e00d334": {
          "model_module": "@jupyter-widgets/controls",
          "model_name": "HBoxModel",
          "model_module_version": "1.5.0",
          "state": {
            "_dom_classes": [],
            "_model_module": "@jupyter-widgets/controls",
            "_model_module_version": "1.5.0",
            "_model_name": "HBoxModel",
            "_view_count": null,
            "_view_module": "@jupyter-widgets/controls",
            "_view_module_version": "1.5.0",
            "_view_name": "HBoxView",
            "box_style": "",
            "children": [
              "IPY_MODEL_16e80f79821e479fa0f4eac9d9339792",
              "IPY_MODEL_610ce70b4f094bfa9c3a43b5e76f4724",
              "IPY_MODEL_ea5b26e0850f4bd0b09130ff454f11cf"
            ],
            "layout": "IPY_MODEL_1e2888d6f91c452490e487a03b14e95a"
          }
        },
        "16e80f79821e479fa0f4eac9d9339792": {
          "model_module": "@jupyter-widgets/controls",
          "model_name": "HTMLModel",
          "model_module_version": "1.5.0",
          "state": {
            "_dom_classes": [],
            "_model_module": "@jupyter-widgets/controls",
            "_model_module_version": "1.5.0",
            "_model_name": "HTMLModel",
            "_view_count": null,
            "_view_module": "@jupyter-widgets/controls",
            "_view_module_version": "1.5.0",
            "_view_name": "HTMLView",
            "description": "",
            "description_tooltip": null,
            "layout": "IPY_MODEL_4d56171b0cfd42db84e6057b662b7c9d",
            "placeholder": "​",
            "style": "IPY_MODEL_78be2212f79d40bc80a17e084ad3a61b",
            "value": "config.json: 100%"
          }
        },
        "610ce70b4f094bfa9c3a43b5e76f4724": {
          "model_module": "@jupyter-widgets/controls",
          "model_name": "FloatProgressModel",
          "model_module_version": "1.5.0",
          "state": {
            "_dom_classes": [],
            "_model_module": "@jupyter-widgets/controls",
            "_model_module_version": "1.5.0",
            "_model_name": "FloatProgressModel",
            "_view_count": null,
            "_view_module": "@jupyter-widgets/controls",
            "_view_module_version": "1.5.0",
            "_view_name": "ProgressView",
            "bar_style": "success",
            "description": "",
            "description_tooltip": null,
            "layout": "IPY_MODEL_37e64ad2657f46adbe9583ddc973d4ea",
            "max": 615,
            "min": 0,
            "orientation": "horizontal",
            "style": "IPY_MODEL_b80daf47a044489fa51dcae7f0371db7",
            "value": 615
          }
        },
        "ea5b26e0850f4bd0b09130ff454f11cf": {
          "model_module": "@jupyter-widgets/controls",
          "model_name": "HTMLModel",
          "model_module_version": "1.5.0",
          "state": {
            "_dom_classes": [],
            "_model_module": "@jupyter-widgets/controls",
            "_model_module_version": "1.5.0",
            "_model_name": "HTMLModel",
            "_view_count": null,
            "_view_module": "@jupyter-widgets/controls",
            "_view_module_version": "1.5.0",
            "_view_name": "HTMLView",
            "description": "",
            "description_tooltip": null,
            "layout": "IPY_MODEL_9b8c4512e2cc4b8f934ce17e0c6cb393",
            "placeholder": "​",
            "style": "IPY_MODEL_a07db03d4d9a4f89ad20eb700aa16079",
            "value": " 615/615 [00:00&lt;00:00, 54.0kB/s]"
          }
        },
        "1e2888d6f91c452490e487a03b14e95a": {
          "model_module": "@jupyter-widgets/base",
          "model_name": "LayoutModel",
          "model_module_version": "1.2.0",
          "state": {
            "_model_module": "@jupyter-widgets/base",
            "_model_module_version": "1.2.0",
            "_model_name": "LayoutModel",
            "_view_count": null,
            "_view_module": "@jupyter-widgets/base",
            "_view_module_version": "1.2.0",
            "_view_name": "LayoutView",
            "align_content": null,
            "align_items": null,
            "align_self": null,
            "border": null,
            "bottom": null,
            "display": null,
            "flex": null,
            "flex_flow": null,
            "grid_area": null,
            "grid_auto_columns": null,
            "grid_auto_flow": null,
            "grid_auto_rows": null,
            "grid_column": null,
            "grid_gap": null,
            "grid_row": null,
            "grid_template_areas": null,
            "grid_template_columns": null,
            "grid_template_rows": null,
            "height": null,
            "justify_content": null,
            "justify_items": null,
            "left": null,
            "margin": null,
            "max_height": null,
            "max_width": null,
            "min_height": null,
            "min_width": null,
            "object_fit": null,
            "object_position": null,
            "order": null,
            "overflow": null,
            "overflow_x": null,
            "overflow_y": null,
            "padding": null,
            "right": null,
            "top": null,
            "visibility": null,
            "width": null
          }
        },
        "4d56171b0cfd42db84e6057b662b7c9d": {
          "model_module": "@jupyter-widgets/base",
          "model_name": "LayoutModel",
          "model_module_version": "1.2.0",
          "state": {
            "_model_module": "@jupyter-widgets/base",
            "_model_module_version": "1.2.0",
            "_model_name": "LayoutModel",
            "_view_count": null,
            "_view_module": "@jupyter-widgets/base",
            "_view_module_version": "1.2.0",
            "_view_name": "LayoutView",
            "align_content": null,
            "align_items": null,
            "align_self": null,
            "border": null,
            "bottom": null,
            "display": null,
            "flex": null,
            "flex_flow": null,
            "grid_area": null,
            "grid_auto_columns": null,
            "grid_auto_flow": null,
            "grid_auto_rows": null,
            "grid_column": null,
            "grid_gap": null,
            "grid_row": null,
            "grid_template_areas": null,
            "grid_template_columns": null,
            "grid_template_rows": null,
            "height": null,
            "justify_content": null,
            "justify_items": null,
            "left": null,
            "margin": null,
            "max_height": null,
            "max_width": null,
            "min_height": null,
            "min_width": null,
            "object_fit": null,
            "object_position": null,
            "order": null,
            "overflow": null,
            "overflow_x": null,
            "overflow_y": null,
            "padding": null,
            "right": null,
            "top": null,
            "visibility": null,
            "width": null
          }
        },
        "78be2212f79d40bc80a17e084ad3a61b": {
          "model_module": "@jupyter-widgets/controls",
          "model_name": "DescriptionStyleModel",
          "model_module_version": "1.5.0",
          "state": {
            "_model_module": "@jupyter-widgets/controls",
            "_model_module_version": "1.5.0",
            "_model_name": "DescriptionStyleModel",
            "_view_count": null,
            "_view_module": "@jupyter-widgets/base",
            "_view_module_version": "1.2.0",
            "_view_name": "StyleView",
            "description_width": ""
          }
        },
        "37e64ad2657f46adbe9583ddc973d4ea": {
          "model_module": "@jupyter-widgets/base",
          "model_name": "LayoutModel",
          "model_module_version": "1.2.0",
          "state": {
            "_model_module": "@jupyter-widgets/base",
            "_model_module_version": "1.2.0",
            "_model_name": "LayoutModel",
            "_view_count": null,
            "_view_module": "@jupyter-widgets/base",
            "_view_module_version": "1.2.0",
            "_view_name": "LayoutView",
            "align_content": null,
            "align_items": null,
            "align_self": null,
            "border": null,
            "bottom": null,
            "display": null,
            "flex": null,
            "flex_flow": null,
            "grid_area": null,
            "grid_auto_columns": null,
            "grid_auto_flow": null,
            "grid_auto_rows": null,
            "grid_column": null,
            "grid_gap": null,
            "grid_row": null,
            "grid_template_areas": null,
            "grid_template_columns": null,
            "grid_template_rows": null,
            "height": null,
            "justify_content": null,
            "justify_items": null,
            "left": null,
            "margin": null,
            "max_height": null,
            "max_width": null,
            "min_height": null,
            "min_width": null,
            "object_fit": null,
            "object_position": null,
            "order": null,
            "overflow": null,
            "overflow_x": null,
            "overflow_y": null,
            "padding": null,
            "right": null,
            "top": null,
            "visibility": null,
            "width": null
          }
        },
        "b80daf47a044489fa51dcae7f0371db7": {
          "model_module": "@jupyter-widgets/controls",
          "model_name": "ProgressStyleModel",
          "model_module_version": "1.5.0",
          "state": {
            "_model_module": "@jupyter-widgets/controls",
            "_model_module_version": "1.5.0",
            "_model_name": "ProgressStyleModel",
            "_view_count": null,
            "_view_module": "@jupyter-widgets/base",
            "_view_module_version": "1.2.0",
            "_view_name": "StyleView",
            "bar_color": null,
            "description_width": ""
          }
        },
        "9b8c4512e2cc4b8f934ce17e0c6cb393": {
          "model_module": "@jupyter-widgets/base",
          "model_name": "LayoutModel",
          "model_module_version": "1.2.0",
          "state": {
            "_model_module": "@jupyter-widgets/base",
            "_model_module_version": "1.2.0",
            "_model_name": "LayoutModel",
            "_view_count": null,
            "_view_module": "@jupyter-widgets/base",
            "_view_module_version": "1.2.0",
            "_view_name": "LayoutView",
            "align_content": null,
            "align_items": null,
            "align_self": null,
            "border": null,
            "bottom": null,
            "display": null,
            "flex": null,
            "flex_flow": null,
            "grid_area": null,
            "grid_auto_columns": null,
            "grid_auto_flow": null,
            "grid_auto_rows": null,
            "grid_column": null,
            "grid_gap": null,
            "grid_row": null,
            "grid_template_areas": null,
            "grid_template_columns": null,
            "grid_template_rows": null,
            "height": null,
            "justify_content": null,
            "justify_items": null,
            "left": null,
            "margin": null,
            "max_height": null,
            "max_width": null,
            "min_height": null,
            "min_width": null,
            "object_fit": null,
            "object_position": null,
            "order": null,
            "overflow": null,
            "overflow_x": null,
            "overflow_y": null,
            "padding": null,
            "right": null,
            "top": null,
            "visibility": null,
            "width": null
          }
        },
        "a07db03d4d9a4f89ad20eb700aa16079": {
          "model_module": "@jupyter-widgets/controls",
          "model_name": "DescriptionStyleModel",
          "model_module_version": "1.5.0",
          "state": {
            "_model_module": "@jupyter-widgets/controls",
            "_model_module_version": "1.5.0",
            "_model_name": "DescriptionStyleModel",
            "_view_count": null,
            "_view_module": "@jupyter-widgets/base",
            "_view_module_version": "1.2.0",
            "_view_name": "StyleView",
            "description_width": ""
          }
        },
        "57678ce167f8432baacaede5e95613c1": {
          "model_module": "@jupyter-widgets/controls",
          "model_name": "HBoxModel",
          "model_module_version": "1.5.0",
          "state": {
            "_dom_classes": [],
            "_model_module": "@jupyter-widgets/controls",
            "_model_module_version": "1.5.0",
            "_model_name": "HBoxModel",
            "_view_count": null,
            "_view_module": "@jupyter-widgets/controls",
            "_view_module_version": "1.5.0",
            "_view_name": "HBoxView",
            "box_style": "",
            "children": [
              "IPY_MODEL_9b9bb385aaa8494aa5d1b3988f1305a8",
              "IPY_MODEL_c43f2f8fded9481f9e9ed79f045d9fcb",
              "IPY_MODEL_be91d7eac2a746918fb0cad992d199a1"
            ],
            "layout": "IPY_MODEL_3dbe3d5b92064b2d95a56769c38fe1ec"
          }
        },
        "9b9bb385aaa8494aa5d1b3988f1305a8": {
          "model_module": "@jupyter-widgets/controls",
          "model_name": "HTMLModel",
          "model_module_version": "1.5.0",
          "state": {
            "_dom_classes": [],
            "_model_module": "@jupyter-widgets/controls",
            "_model_module_version": "1.5.0",
            "_model_name": "HTMLModel",
            "_view_count": null,
            "_view_module": "@jupyter-widgets/controls",
            "_view_module_version": "1.5.0",
            "_view_name": "HTMLView",
            "description": "",
            "description_tooltip": null,
            "layout": "IPY_MODEL_d97df73c64764f229047e66af643d0bb",
            "placeholder": "​",
            "style": "IPY_MODEL_0af1c5f8cbaa442f8df9f77bff8ac6f0",
            "value": "sentencepiece.bpe.model: 100%"
          }
        },
        "c43f2f8fded9481f9e9ed79f045d9fcb": {
          "model_module": "@jupyter-widgets/controls",
          "model_name": "FloatProgressModel",
          "model_module_version": "1.5.0",
          "state": {
            "_dom_classes": [],
            "_model_module": "@jupyter-widgets/controls",
            "_model_module_version": "1.5.0",
            "_model_name": "FloatProgressModel",
            "_view_count": null,
            "_view_module": "@jupyter-widgets/controls",
            "_view_module_version": "1.5.0",
            "_view_name": "ProgressView",
            "bar_style": "success",
            "description": "",
            "description_tooltip": null,
            "layout": "IPY_MODEL_d9b892bc95944617a6fceff8990ac97d",
            "max": 5069051,
            "min": 0,
            "orientation": "horizontal",
            "style": "IPY_MODEL_ecc7f98b2fa54c1090ff0aa44cc5af4b",
            "value": 5069051
          }
        },
        "be91d7eac2a746918fb0cad992d199a1": {
          "model_module": "@jupyter-widgets/controls",
          "model_name": "HTMLModel",
          "model_module_version": "1.5.0",
          "state": {
            "_dom_classes": [],
            "_model_module": "@jupyter-widgets/controls",
            "_model_module_version": "1.5.0",
            "_model_name": "HTMLModel",
            "_view_count": null,
            "_view_module": "@jupyter-widgets/controls",
            "_view_module_version": "1.5.0",
            "_view_name": "HTMLView",
            "description": "",
            "description_tooltip": null,
            "layout": "IPY_MODEL_4858d3d7378e48a99fec9e974a578fb8",
            "placeholder": "​",
            "style": "IPY_MODEL_4ca8975f239f46c0ba23e9389c480f11",
            "value": " 5.07M/5.07M [00:01&lt;00:00, 4.05MB/s]"
          }
        },
        "3dbe3d5b92064b2d95a56769c38fe1ec": {
          "model_module": "@jupyter-widgets/base",
          "model_name": "LayoutModel",
          "model_module_version": "1.2.0",
          "state": {
            "_model_module": "@jupyter-widgets/base",
            "_model_module_version": "1.2.0",
            "_model_name": "LayoutModel",
            "_view_count": null,
            "_view_module": "@jupyter-widgets/base",
            "_view_module_version": "1.2.0",
            "_view_name": "LayoutView",
            "align_content": null,
            "align_items": null,
            "align_self": null,
            "border": null,
            "bottom": null,
            "display": null,
            "flex": null,
            "flex_flow": null,
            "grid_area": null,
            "grid_auto_columns": null,
            "grid_auto_flow": null,
            "grid_auto_rows": null,
            "grid_column": null,
            "grid_gap": null,
            "grid_row": null,
            "grid_template_areas": null,
            "grid_template_columns": null,
            "grid_template_rows": null,
            "height": null,
            "justify_content": null,
            "justify_items": null,
            "left": null,
            "margin": null,
            "max_height": null,
            "max_width": null,
            "min_height": null,
            "min_width": null,
            "object_fit": null,
            "object_position": null,
            "order": null,
            "overflow": null,
            "overflow_x": null,
            "overflow_y": null,
            "padding": null,
            "right": null,
            "top": null,
            "visibility": null,
            "width": null
          }
        },
        "d97df73c64764f229047e66af643d0bb": {
          "model_module": "@jupyter-widgets/base",
          "model_name": "LayoutModel",
          "model_module_version": "1.2.0",
          "state": {
            "_model_module": "@jupyter-widgets/base",
            "_model_module_version": "1.2.0",
            "_model_name": "LayoutModel",
            "_view_count": null,
            "_view_module": "@jupyter-widgets/base",
            "_view_module_version": "1.2.0",
            "_view_name": "LayoutView",
            "align_content": null,
            "align_items": null,
            "align_self": null,
            "border": null,
            "bottom": null,
            "display": null,
            "flex": null,
            "flex_flow": null,
            "grid_area": null,
            "grid_auto_columns": null,
            "grid_auto_flow": null,
            "grid_auto_rows": null,
            "grid_column": null,
            "grid_gap": null,
            "grid_row": null,
            "grid_template_areas": null,
            "grid_template_columns": null,
            "grid_template_rows": null,
            "height": null,
            "justify_content": null,
            "justify_items": null,
            "left": null,
            "margin": null,
            "max_height": null,
            "max_width": null,
            "min_height": null,
            "min_width": null,
            "object_fit": null,
            "object_position": null,
            "order": null,
            "overflow": null,
            "overflow_x": null,
            "overflow_y": null,
            "padding": null,
            "right": null,
            "top": null,
            "visibility": null,
            "width": null
          }
        },
        "0af1c5f8cbaa442f8df9f77bff8ac6f0": {
          "model_module": "@jupyter-widgets/controls",
          "model_name": "DescriptionStyleModel",
          "model_module_version": "1.5.0",
          "state": {
            "_model_module": "@jupyter-widgets/controls",
            "_model_module_version": "1.5.0",
            "_model_name": "DescriptionStyleModel",
            "_view_count": null,
            "_view_module": "@jupyter-widgets/base",
            "_view_module_version": "1.2.0",
            "_view_name": "StyleView",
            "description_width": ""
          }
        },
        "d9b892bc95944617a6fceff8990ac97d": {
          "model_module": "@jupyter-widgets/base",
          "model_name": "LayoutModel",
          "model_module_version": "1.2.0",
          "state": {
            "_model_module": "@jupyter-widgets/base",
            "_model_module_version": "1.2.0",
            "_model_name": "LayoutModel",
            "_view_count": null,
            "_view_module": "@jupyter-widgets/base",
            "_view_module_version": "1.2.0",
            "_view_name": "LayoutView",
            "align_content": null,
            "align_items": null,
            "align_self": null,
            "border": null,
            "bottom": null,
            "display": null,
            "flex": null,
            "flex_flow": null,
            "grid_area": null,
            "grid_auto_columns": null,
            "grid_auto_flow": null,
            "grid_auto_rows": null,
            "grid_column": null,
            "grid_gap": null,
            "grid_row": null,
            "grid_template_areas": null,
            "grid_template_columns": null,
            "grid_template_rows": null,
            "height": null,
            "justify_content": null,
            "justify_items": null,
            "left": null,
            "margin": null,
            "max_height": null,
            "max_width": null,
            "min_height": null,
            "min_width": null,
            "object_fit": null,
            "object_position": null,
            "order": null,
            "overflow": null,
            "overflow_x": null,
            "overflow_y": null,
            "padding": null,
            "right": null,
            "top": null,
            "visibility": null,
            "width": null
          }
        },
        "ecc7f98b2fa54c1090ff0aa44cc5af4b": {
          "model_module": "@jupyter-widgets/controls",
          "model_name": "ProgressStyleModel",
          "model_module_version": "1.5.0",
          "state": {
            "_model_module": "@jupyter-widgets/controls",
            "_model_module_version": "1.5.0",
            "_model_name": "ProgressStyleModel",
            "_view_count": null,
            "_view_module": "@jupyter-widgets/base",
            "_view_module_version": "1.2.0",
            "_view_name": "StyleView",
            "bar_color": null,
            "description_width": ""
          }
        },
        "4858d3d7378e48a99fec9e974a578fb8": {
          "model_module": "@jupyter-widgets/base",
          "model_name": "LayoutModel",
          "model_module_version": "1.2.0",
          "state": {
            "_model_module": "@jupyter-widgets/base",
            "_model_module_version": "1.2.0",
            "_model_name": "LayoutModel",
            "_view_count": null,
            "_view_module": "@jupyter-widgets/base",
            "_view_module_version": "1.2.0",
            "_view_name": "LayoutView",
            "align_content": null,
            "align_items": null,
            "align_self": null,
            "border": null,
            "bottom": null,
            "display": null,
            "flex": null,
            "flex_flow": null,
            "grid_area": null,
            "grid_auto_columns": null,
            "grid_auto_flow": null,
            "grid_auto_rows": null,
            "grid_column": null,
            "grid_gap": null,
            "grid_row": null,
            "grid_template_areas": null,
            "grid_template_columns": null,
            "grid_template_rows": null,
            "height": null,
            "justify_content": null,
            "justify_items": null,
            "left": null,
            "margin": null,
            "max_height": null,
            "max_width": null,
            "min_height": null,
            "min_width": null,
            "object_fit": null,
            "object_position": null,
            "order": null,
            "overflow": null,
            "overflow_x": null,
            "overflow_y": null,
            "padding": null,
            "right": null,
            "top": null,
            "visibility": null,
            "width": null
          }
        },
        "4ca8975f239f46c0ba23e9389c480f11": {
          "model_module": "@jupyter-widgets/controls",
          "model_name": "DescriptionStyleModel",
          "model_module_version": "1.5.0",
          "state": {
            "_model_module": "@jupyter-widgets/controls",
            "_model_module_version": "1.5.0",
            "_model_name": "DescriptionStyleModel",
            "_view_count": null,
            "_view_module": "@jupyter-widgets/base",
            "_view_module_version": "1.2.0",
            "_view_name": "StyleView",
            "description_width": ""
          }
        },
        "08157e1bda1b4407b533cb73e35a1fb7": {
          "model_module": "@jupyter-widgets/controls",
          "model_name": "HBoxModel",
          "model_module_version": "1.5.0",
          "state": {
            "_dom_classes": [],
            "_model_module": "@jupyter-widgets/controls",
            "_model_module_version": "1.5.0",
            "_model_name": "HBoxModel",
            "_view_count": null,
            "_view_module": "@jupyter-widgets/controls",
            "_view_module_version": "1.5.0",
            "_view_name": "HBoxView",
            "box_style": "",
            "children": [
              "IPY_MODEL_19c4a95d2a424619b2f9f341d776a552",
              "IPY_MODEL_351d96d929de4dd19d857e19602d9289",
              "IPY_MODEL_80d1dace3a244e24b499f433d32f77dc"
            ],
            "layout": "IPY_MODEL_e5b45793fa2148ada3aff0a5c64ed803"
          }
        },
        "19c4a95d2a424619b2f9f341d776a552": {
          "model_module": "@jupyter-widgets/controls",
          "model_name": "HTMLModel",
          "model_module_version": "1.5.0",
          "state": {
            "_dom_classes": [],
            "_model_module": "@jupyter-widgets/controls",
            "_model_module_version": "1.5.0",
            "_model_name": "HTMLModel",
            "_view_count": null,
            "_view_module": "@jupyter-widgets/controls",
            "_view_module_version": "1.5.0",
            "_view_name": "HTMLView",
            "description": "",
            "description_tooltip": null,
            "layout": "IPY_MODEL_6caff69e18f74d63b1d61a5fdbcebbea",
            "placeholder": "​",
            "style": "IPY_MODEL_f9b5ffd552f441cbb901c83a5e665954",
            "value": "tokenizer.json: 100%"
          }
        },
        "351d96d929de4dd19d857e19602d9289": {
          "model_module": "@jupyter-widgets/controls",
          "model_name": "FloatProgressModel",
          "model_module_version": "1.5.0",
          "state": {
            "_dom_classes": [],
            "_model_module": "@jupyter-widgets/controls",
            "_model_module_version": "1.5.0",
            "_model_name": "FloatProgressModel",
            "_view_count": null,
            "_view_module": "@jupyter-widgets/controls",
            "_view_module_version": "1.5.0",
            "_view_name": "ProgressView",
            "bar_style": "success",
            "description": "",
            "description_tooltip": null,
            "layout": "IPY_MODEL_558da2a62b4b4542a8d7a252230067d6",
            "max": 9096718,
            "min": 0,
            "orientation": "horizontal",
            "style": "IPY_MODEL_b76ef35bdb524b269adf48209f43f906",
            "value": 9096718
          }
        },
        "80d1dace3a244e24b499f433d32f77dc": {
          "model_module": "@jupyter-widgets/controls",
          "model_name": "HTMLModel",
          "model_module_version": "1.5.0",
          "state": {
            "_dom_classes": [],
            "_model_module": "@jupyter-widgets/controls",
            "_model_module_version": "1.5.0",
            "_model_name": "HTMLModel",
            "_view_count": null,
            "_view_module": "@jupyter-widgets/controls",
            "_view_module_version": "1.5.0",
            "_view_name": "HTMLView",
            "description": "",
            "description_tooltip": null,
            "layout": "IPY_MODEL_c15423326af4433098f9450fc75e635a",
            "placeholder": "​",
            "style": "IPY_MODEL_5bea56cd58d1410ea42f49b7b1c7e771",
            "value": " 9.10M/9.10M [00:05&lt;00:00, 1.61MB/s]"
          }
        },
        "e5b45793fa2148ada3aff0a5c64ed803": {
          "model_module": "@jupyter-widgets/base",
          "model_name": "LayoutModel",
          "model_module_version": "1.2.0",
          "state": {
            "_model_module": "@jupyter-widgets/base",
            "_model_module_version": "1.2.0",
            "_model_name": "LayoutModel",
            "_view_count": null,
            "_view_module": "@jupyter-widgets/base",
            "_view_module_version": "1.2.0",
            "_view_name": "LayoutView",
            "align_content": null,
            "align_items": null,
            "align_self": null,
            "border": null,
            "bottom": null,
            "display": null,
            "flex": null,
            "flex_flow": null,
            "grid_area": null,
            "grid_auto_columns": null,
            "grid_auto_flow": null,
            "grid_auto_rows": null,
            "grid_column": null,
            "grid_gap": null,
            "grid_row": null,
            "grid_template_areas": null,
            "grid_template_columns": null,
            "grid_template_rows": null,
            "height": null,
            "justify_content": null,
            "justify_items": null,
            "left": null,
            "margin": null,
            "max_height": null,
            "max_width": null,
            "min_height": null,
            "min_width": null,
            "object_fit": null,
            "object_position": null,
            "order": null,
            "overflow": null,
            "overflow_x": null,
            "overflow_y": null,
            "padding": null,
            "right": null,
            "top": null,
            "visibility": null,
            "width": null
          }
        },
        "6caff69e18f74d63b1d61a5fdbcebbea": {
          "model_module": "@jupyter-widgets/base",
          "model_name": "LayoutModel",
          "model_module_version": "1.2.0",
          "state": {
            "_model_module": "@jupyter-widgets/base",
            "_model_module_version": "1.2.0",
            "_model_name": "LayoutModel",
            "_view_count": null,
            "_view_module": "@jupyter-widgets/base",
            "_view_module_version": "1.2.0",
            "_view_name": "LayoutView",
            "align_content": null,
            "align_items": null,
            "align_self": null,
            "border": null,
            "bottom": null,
            "display": null,
            "flex": null,
            "flex_flow": null,
            "grid_area": null,
            "grid_auto_columns": null,
            "grid_auto_flow": null,
            "grid_auto_rows": null,
            "grid_column": null,
            "grid_gap": null,
            "grid_row": null,
            "grid_template_areas": null,
            "grid_template_columns": null,
            "grid_template_rows": null,
            "height": null,
            "justify_content": null,
            "justify_items": null,
            "left": null,
            "margin": null,
            "max_height": null,
            "max_width": null,
            "min_height": null,
            "min_width": null,
            "object_fit": null,
            "object_position": null,
            "order": null,
            "overflow": null,
            "overflow_x": null,
            "overflow_y": null,
            "padding": null,
            "right": null,
            "top": null,
            "visibility": null,
            "width": null
          }
        },
        "f9b5ffd552f441cbb901c83a5e665954": {
          "model_module": "@jupyter-widgets/controls",
          "model_name": "DescriptionStyleModel",
          "model_module_version": "1.5.0",
          "state": {
            "_model_module": "@jupyter-widgets/controls",
            "_model_module_version": "1.5.0",
            "_model_name": "DescriptionStyleModel",
            "_view_count": null,
            "_view_module": "@jupyter-widgets/base",
            "_view_module_version": "1.2.0",
            "_view_name": "StyleView",
            "description_width": ""
          }
        },
        "558da2a62b4b4542a8d7a252230067d6": {
          "model_module": "@jupyter-widgets/base",
          "model_name": "LayoutModel",
          "model_module_version": "1.2.0",
          "state": {
            "_model_module": "@jupyter-widgets/base",
            "_model_module_version": "1.2.0",
            "_model_name": "LayoutModel",
            "_view_count": null,
            "_view_module": "@jupyter-widgets/base",
            "_view_module_version": "1.2.0",
            "_view_name": "LayoutView",
            "align_content": null,
            "align_items": null,
            "align_self": null,
            "border": null,
            "bottom": null,
            "display": null,
            "flex": null,
            "flex_flow": null,
            "grid_area": null,
            "grid_auto_columns": null,
            "grid_auto_flow": null,
            "grid_auto_rows": null,
            "grid_column": null,
            "grid_gap": null,
            "grid_row": null,
            "grid_template_areas": null,
            "grid_template_columns": null,
            "grid_template_rows": null,
            "height": null,
            "justify_content": null,
            "justify_items": null,
            "left": null,
            "margin": null,
            "max_height": null,
            "max_width": null,
            "min_height": null,
            "min_width": null,
            "object_fit": null,
            "object_position": null,
            "order": null,
            "overflow": null,
            "overflow_x": null,
            "overflow_y": null,
            "padding": null,
            "right": null,
            "top": null,
            "visibility": null,
            "width": null
          }
        },
        "b76ef35bdb524b269adf48209f43f906": {
          "model_module": "@jupyter-widgets/controls",
          "model_name": "ProgressStyleModel",
          "model_module_version": "1.5.0",
          "state": {
            "_model_module": "@jupyter-widgets/controls",
            "_model_module_version": "1.5.0",
            "_model_name": "ProgressStyleModel",
            "_view_count": null,
            "_view_module": "@jupyter-widgets/base",
            "_view_module_version": "1.2.0",
            "_view_name": "StyleView",
            "bar_color": null,
            "description_width": ""
          }
        },
        "c15423326af4433098f9450fc75e635a": {
          "model_module": "@jupyter-widgets/base",
          "model_name": "LayoutModel",
          "model_module_version": "1.2.0",
          "state": {
            "_model_module": "@jupyter-widgets/base",
            "_model_module_version": "1.2.0",
            "_model_name": "LayoutModel",
            "_view_count": null,
            "_view_module": "@jupyter-widgets/base",
            "_view_module_version": "1.2.0",
            "_view_name": "LayoutView",
            "align_content": null,
            "align_items": null,
            "align_self": null,
            "border": null,
            "bottom": null,
            "display": null,
            "flex": null,
            "flex_flow": null,
            "grid_area": null,
            "grid_auto_columns": null,
            "grid_auto_flow": null,
            "grid_auto_rows": null,
            "grid_column": null,
            "grid_gap": null,
            "grid_row": null,
            "grid_template_areas": null,
            "grid_template_columns": null,
            "grid_template_rows": null,
            "height": null,
            "justify_content": null,
            "justify_items": null,
            "left": null,
            "margin": null,
            "max_height": null,
            "max_width": null,
            "min_height": null,
            "min_width": null,
            "object_fit": null,
            "object_position": null,
            "order": null,
            "overflow": null,
            "overflow_x": null,
            "overflow_y": null,
            "padding": null,
            "right": null,
            "top": null,
            "visibility": null,
            "width": null
          }
        },
        "5bea56cd58d1410ea42f49b7b1c7e771": {
          "model_module": "@jupyter-widgets/controls",
          "model_name": "DescriptionStyleModel",
          "model_module_version": "1.5.0",
          "state": {
            "_model_module": "@jupyter-widgets/controls",
            "_model_module_version": "1.5.0",
            "_model_name": "DescriptionStyleModel",
            "_view_count": null,
            "_view_module": "@jupyter-widgets/base",
            "_view_module_version": "1.2.0",
            "_view_name": "StyleView",
            "description_width": ""
          }
        },
        "1a6b9f06a3b04365ab54045c2a489f2d": {
          "model_module": "@jupyter-widgets/controls",
          "model_name": "HBoxModel",
          "model_module_version": "1.5.0",
          "state": {
            "_dom_classes": [],
            "_model_module": "@jupyter-widgets/controls",
            "_model_module_version": "1.5.0",
            "_model_name": "HBoxModel",
            "_view_count": null,
            "_view_module": "@jupyter-widgets/controls",
            "_view_module_version": "1.5.0",
            "_view_name": "HBoxView",
            "box_style": "",
            "children": [
              "IPY_MODEL_20c1bd8761374181b92842732f9f7617",
              "IPY_MODEL_f4ad9ad5d83e4c61840fa93662975597",
              "IPY_MODEL_7aadd667c5454d1ba096200163a1c563"
            ],
            "layout": "IPY_MODEL_d61552a8efab4272a1e1c49e8d5e00bc"
          }
        },
        "20c1bd8761374181b92842732f9f7617": {
          "model_module": "@jupyter-widgets/controls",
          "model_name": "HTMLModel",
          "model_module_version": "1.5.0",
          "state": {
            "_dom_classes": [],
            "_model_module": "@jupyter-widgets/controls",
            "_model_module_version": "1.5.0",
            "_model_name": "HTMLModel",
            "_view_count": null,
            "_view_module": "@jupyter-widgets/controls",
            "_view_module_version": "1.5.0",
            "_view_name": "HTMLView",
            "description": "",
            "description_tooltip": null,
            "layout": "IPY_MODEL_a128a6b24cf64c1e83ecf2bb0b3ca741",
            "placeholder": "​",
            "style": "IPY_MODEL_91be4c923705448e8597bf359f1b5ae8",
            "value": "Map: 100%"
          }
        },
        "f4ad9ad5d83e4c61840fa93662975597": {
          "model_module": "@jupyter-widgets/controls",
          "model_name": "FloatProgressModel",
          "model_module_version": "1.5.0",
          "state": {
            "_dom_classes": [],
            "_model_module": "@jupyter-widgets/controls",
            "_model_module_version": "1.5.0",
            "_model_name": "FloatProgressModel",
            "_view_count": null,
            "_view_module": "@jupyter-widgets/controls",
            "_view_module_version": "1.5.0",
            "_view_name": "ProgressView",
            "bar_style": "success",
            "description": "",
            "description_tooltip": null,
            "layout": "IPY_MODEL_ae1f6b9a6c5843ba950c60e32becdea8",
            "max": 12910,
            "min": 0,
            "orientation": "horizontal",
            "style": "IPY_MODEL_405d69fd35064d32bc2521e91cbcc2d0",
            "value": 12910
          }
        },
        "7aadd667c5454d1ba096200163a1c563": {
          "model_module": "@jupyter-widgets/controls",
          "model_name": "HTMLModel",
          "model_module_version": "1.5.0",
          "state": {
            "_dom_classes": [],
            "_model_module": "@jupyter-widgets/controls",
            "_model_module_version": "1.5.0",
            "_model_name": "HTMLModel",
            "_view_count": null,
            "_view_module": "@jupyter-widgets/controls",
            "_view_module_version": "1.5.0",
            "_view_name": "HTMLView",
            "description": "",
            "description_tooltip": null,
            "layout": "IPY_MODEL_344a8c5196c84b26970b1ce17e6a6dd3",
            "placeholder": "​",
            "style": "IPY_MODEL_32a7af77773c4e2da9f20b9ecbe4febd",
            "value": " 12910/12910 [00:08&lt;00:00, 1516.47 examples/s]"
          }
        },
        "d61552a8efab4272a1e1c49e8d5e00bc": {
          "model_module": "@jupyter-widgets/base",
          "model_name": "LayoutModel",
          "model_module_version": "1.2.0",
          "state": {
            "_model_module": "@jupyter-widgets/base",
            "_model_module_version": "1.2.0",
            "_model_name": "LayoutModel",
            "_view_count": null,
            "_view_module": "@jupyter-widgets/base",
            "_view_module_version": "1.2.0",
            "_view_name": "LayoutView",
            "align_content": null,
            "align_items": null,
            "align_self": null,
            "border": null,
            "bottom": null,
            "display": null,
            "flex": null,
            "flex_flow": null,
            "grid_area": null,
            "grid_auto_columns": null,
            "grid_auto_flow": null,
            "grid_auto_rows": null,
            "grid_column": null,
            "grid_gap": null,
            "grid_row": null,
            "grid_template_areas": null,
            "grid_template_columns": null,
            "grid_template_rows": null,
            "height": null,
            "justify_content": null,
            "justify_items": null,
            "left": null,
            "margin": null,
            "max_height": null,
            "max_width": null,
            "min_height": null,
            "min_width": null,
            "object_fit": null,
            "object_position": null,
            "order": null,
            "overflow": null,
            "overflow_x": null,
            "overflow_y": null,
            "padding": null,
            "right": null,
            "top": null,
            "visibility": null,
            "width": null
          }
        },
        "a128a6b24cf64c1e83ecf2bb0b3ca741": {
          "model_module": "@jupyter-widgets/base",
          "model_name": "LayoutModel",
          "model_module_version": "1.2.0",
          "state": {
            "_model_module": "@jupyter-widgets/base",
            "_model_module_version": "1.2.0",
            "_model_name": "LayoutModel",
            "_view_count": null,
            "_view_module": "@jupyter-widgets/base",
            "_view_module_version": "1.2.0",
            "_view_name": "LayoutView",
            "align_content": null,
            "align_items": null,
            "align_self": null,
            "border": null,
            "bottom": null,
            "display": null,
            "flex": null,
            "flex_flow": null,
            "grid_area": null,
            "grid_auto_columns": null,
            "grid_auto_flow": null,
            "grid_auto_rows": null,
            "grid_column": null,
            "grid_gap": null,
            "grid_row": null,
            "grid_template_areas": null,
            "grid_template_columns": null,
            "grid_template_rows": null,
            "height": null,
            "justify_content": null,
            "justify_items": null,
            "left": null,
            "margin": null,
            "max_height": null,
            "max_width": null,
            "min_height": null,
            "min_width": null,
            "object_fit": null,
            "object_position": null,
            "order": null,
            "overflow": null,
            "overflow_x": null,
            "overflow_y": null,
            "padding": null,
            "right": null,
            "top": null,
            "visibility": null,
            "width": null
          }
        },
        "91be4c923705448e8597bf359f1b5ae8": {
          "model_module": "@jupyter-widgets/controls",
          "model_name": "DescriptionStyleModel",
          "model_module_version": "1.5.0",
          "state": {
            "_model_module": "@jupyter-widgets/controls",
            "_model_module_version": "1.5.0",
            "_model_name": "DescriptionStyleModel",
            "_view_count": null,
            "_view_module": "@jupyter-widgets/base",
            "_view_module_version": "1.2.0",
            "_view_name": "StyleView",
            "description_width": ""
          }
        },
        "ae1f6b9a6c5843ba950c60e32becdea8": {
          "model_module": "@jupyter-widgets/base",
          "model_name": "LayoutModel",
          "model_module_version": "1.2.0",
          "state": {
            "_model_module": "@jupyter-widgets/base",
            "_model_module_version": "1.2.0",
            "_model_name": "LayoutModel",
            "_view_count": null,
            "_view_module": "@jupyter-widgets/base",
            "_view_module_version": "1.2.0",
            "_view_name": "LayoutView",
            "align_content": null,
            "align_items": null,
            "align_self": null,
            "border": null,
            "bottom": null,
            "display": null,
            "flex": null,
            "flex_flow": null,
            "grid_area": null,
            "grid_auto_columns": null,
            "grid_auto_flow": null,
            "grid_auto_rows": null,
            "grid_column": null,
            "grid_gap": null,
            "grid_row": null,
            "grid_template_areas": null,
            "grid_template_columns": null,
            "grid_template_rows": null,
            "height": null,
            "justify_content": null,
            "justify_items": null,
            "left": null,
            "margin": null,
            "max_height": null,
            "max_width": null,
            "min_height": null,
            "min_width": null,
            "object_fit": null,
            "object_position": null,
            "order": null,
            "overflow": null,
            "overflow_x": null,
            "overflow_y": null,
            "padding": null,
            "right": null,
            "top": null,
            "visibility": null,
            "width": null
          }
        },
        "405d69fd35064d32bc2521e91cbcc2d0": {
          "model_module": "@jupyter-widgets/controls",
          "model_name": "ProgressStyleModel",
          "model_module_version": "1.5.0",
          "state": {
            "_model_module": "@jupyter-widgets/controls",
            "_model_module_version": "1.5.0",
            "_model_name": "ProgressStyleModel",
            "_view_count": null,
            "_view_module": "@jupyter-widgets/base",
            "_view_module_version": "1.2.0",
            "_view_name": "StyleView",
            "bar_color": null,
            "description_width": ""
          }
        },
        "344a8c5196c84b26970b1ce17e6a6dd3": {
          "model_module": "@jupyter-widgets/base",
          "model_name": "LayoutModel",
          "model_module_version": "1.2.0",
          "state": {
            "_model_module": "@jupyter-widgets/base",
            "_model_module_version": "1.2.0",
            "_model_name": "LayoutModel",
            "_view_count": null,
            "_view_module": "@jupyter-widgets/base",
            "_view_module_version": "1.2.0",
            "_view_name": "LayoutView",
            "align_content": null,
            "align_items": null,
            "align_self": null,
            "border": null,
            "bottom": null,
            "display": null,
            "flex": null,
            "flex_flow": null,
            "grid_area": null,
            "grid_auto_columns": null,
            "grid_auto_flow": null,
            "grid_auto_rows": null,
            "grid_column": null,
            "grid_gap": null,
            "grid_row": null,
            "grid_template_areas": null,
            "grid_template_columns": null,
            "grid_template_rows": null,
            "height": null,
            "justify_content": null,
            "justify_items": null,
            "left": null,
            "margin": null,
            "max_height": null,
            "max_width": null,
            "min_height": null,
            "min_width": null,
            "object_fit": null,
            "object_position": null,
            "order": null,
            "overflow": null,
            "overflow_x": null,
            "overflow_y": null,
            "padding": null,
            "right": null,
            "top": null,
            "visibility": null,
            "width": null
          }
        },
        "32a7af77773c4e2da9f20b9ecbe4febd": {
          "model_module": "@jupyter-widgets/controls",
          "model_name": "DescriptionStyleModel",
          "model_module_version": "1.5.0",
          "state": {
            "_model_module": "@jupyter-widgets/controls",
            "_model_module_version": "1.5.0",
            "_model_name": "DescriptionStyleModel",
            "_view_count": null,
            "_view_module": "@jupyter-widgets/base",
            "_view_module_version": "1.2.0",
            "_view_name": "StyleView",
            "description_width": ""
          }
        },
        "5f4dbbad01a74b87ab862535f7f1fb60": {
          "model_module": "@jupyter-widgets/controls",
          "model_name": "HBoxModel",
          "model_module_version": "1.5.0",
          "state": {
            "_dom_classes": [],
            "_model_module": "@jupyter-widgets/controls",
            "_model_module_version": "1.5.0",
            "_model_name": "HBoxModel",
            "_view_count": null,
            "_view_module": "@jupyter-widgets/controls",
            "_view_module_version": "1.5.0",
            "_view_name": "HBoxView",
            "box_style": "",
            "children": [
              "IPY_MODEL_227d0a75d79e40798754194a3f1b25ff",
              "IPY_MODEL_fbab1df34fb54df697a85234225a1ac3",
              "IPY_MODEL_c94236e7a95b4336ba9416503c197f97"
            ],
            "layout": "IPY_MODEL_dcb8950b8e874f4db35a36737f65ff3e"
          }
        },
        "227d0a75d79e40798754194a3f1b25ff": {
          "model_module": "@jupyter-widgets/controls",
          "model_name": "HTMLModel",
          "model_module_version": "1.5.0",
          "state": {
            "_dom_classes": [],
            "_model_module": "@jupyter-widgets/controls",
            "_model_module_version": "1.5.0",
            "_model_name": "HTMLModel",
            "_view_count": null,
            "_view_module": "@jupyter-widgets/controls",
            "_view_module_version": "1.5.0",
            "_view_name": "HTMLView",
            "description": "",
            "description_tooltip": null,
            "layout": "IPY_MODEL_9672268cdd1347bdb888c740cdf42718",
            "placeholder": "​",
            "style": "IPY_MODEL_fd12c5622a224290b8d9def109565463",
            "value": "Map: 100%"
          }
        },
        "fbab1df34fb54df697a85234225a1ac3": {
          "model_module": "@jupyter-widgets/controls",
          "model_name": "FloatProgressModel",
          "model_module_version": "1.5.0",
          "state": {
            "_dom_classes": [],
            "_model_module": "@jupyter-widgets/controls",
            "_model_module_version": "1.5.0",
            "_model_name": "FloatProgressModel",
            "_view_count": null,
            "_view_module": "@jupyter-widgets/controls",
            "_view_module_version": "1.5.0",
            "_view_name": "ProgressView",
            "bar_style": "success",
            "description": "",
            "description_tooltip": null,
            "layout": "IPY_MODEL_3e0be04597174cdc8fbf254f23f18f68",
            "max": 1614,
            "min": 0,
            "orientation": "horizontal",
            "style": "IPY_MODEL_3167141fc1c846439a5220ae145ad007",
            "value": 1614
          }
        },
        "c94236e7a95b4336ba9416503c197f97": {
          "model_module": "@jupyter-widgets/controls",
          "model_name": "HTMLModel",
          "model_module_version": "1.5.0",
          "state": {
            "_dom_classes": [],
            "_model_module": "@jupyter-widgets/controls",
            "_model_module_version": "1.5.0",
            "_model_name": "HTMLModel",
            "_view_count": null,
            "_view_module": "@jupyter-widgets/controls",
            "_view_module_version": "1.5.0",
            "_view_name": "HTMLView",
            "description": "",
            "description_tooltip": null,
            "layout": "IPY_MODEL_50d93f7d99fc4a9a826d920d04d8fb53",
            "placeholder": "​",
            "style": "IPY_MODEL_3d994c0007364ac2b1b6ff668964725c",
            "value": " 1614/1614 [00:01&lt;00:00, 1554.47 examples/s]"
          }
        },
        "dcb8950b8e874f4db35a36737f65ff3e": {
          "model_module": "@jupyter-widgets/base",
          "model_name": "LayoutModel",
          "model_module_version": "1.2.0",
          "state": {
            "_model_module": "@jupyter-widgets/base",
            "_model_module_version": "1.2.0",
            "_model_name": "LayoutModel",
            "_view_count": null,
            "_view_module": "@jupyter-widgets/base",
            "_view_module_version": "1.2.0",
            "_view_name": "LayoutView",
            "align_content": null,
            "align_items": null,
            "align_self": null,
            "border": null,
            "bottom": null,
            "display": null,
            "flex": null,
            "flex_flow": null,
            "grid_area": null,
            "grid_auto_columns": null,
            "grid_auto_flow": null,
            "grid_auto_rows": null,
            "grid_column": null,
            "grid_gap": null,
            "grid_row": null,
            "grid_template_areas": null,
            "grid_template_columns": null,
            "grid_template_rows": null,
            "height": null,
            "justify_content": null,
            "justify_items": null,
            "left": null,
            "margin": null,
            "max_height": null,
            "max_width": null,
            "min_height": null,
            "min_width": null,
            "object_fit": null,
            "object_position": null,
            "order": null,
            "overflow": null,
            "overflow_x": null,
            "overflow_y": null,
            "padding": null,
            "right": null,
            "top": null,
            "visibility": null,
            "width": null
          }
        },
        "9672268cdd1347bdb888c740cdf42718": {
          "model_module": "@jupyter-widgets/base",
          "model_name": "LayoutModel",
          "model_module_version": "1.2.0",
          "state": {
            "_model_module": "@jupyter-widgets/base",
            "_model_module_version": "1.2.0",
            "_model_name": "LayoutModel",
            "_view_count": null,
            "_view_module": "@jupyter-widgets/base",
            "_view_module_version": "1.2.0",
            "_view_name": "LayoutView",
            "align_content": null,
            "align_items": null,
            "align_self": null,
            "border": null,
            "bottom": null,
            "display": null,
            "flex": null,
            "flex_flow": null,
            "grid_area": null,
            "grid_auto_columns": null,
            "grid_auto_flow": null,
            "grid_auto_rows": null,
            "grid_column": null,
            "grid_gap": null,
            "grid_row": null,
            "grid_template_areas": null,
            "grid_template_columns": null,
            "grid_template_rows": null,
            "height": null,
            "justify_content": null,
            "justify_items": null,
            "left": null,
            "margin": null,
            "max_height": null,
            "max_width": null,
            "min_height": null,
            "min_width": null,
            "object_fit": null,
            "object_position": null,
            "order": null,
            "overflow": null,
            "overflow_x": null,
            "overflow_y": null,
            "padding": null,
            "right": null,
            "top": null,
            "visibility": null,
            "width": null
          }
        },
        "fd12c5622a224290b8d9def109565463": {
          "model_module": "@jupyter-widgets/controls",
          "model_name": "DescriptionStyleModel",
          "model_module_version": "1.5.0",
          "state": {
            "_model_module": "@jupyter-widgets/controls",
            "_model_module_version": "1.5.0",
            "_model_name": "DescriptionStyleModel",
            "_view_count": null,
            "_view_module": "@jupyter-widgets/base",
            "_view_module_version": "1.2.0",
            "_view_name": "StyleView",
            "description_width": ""
          }
        },
        "3e0be04597174cdc8fbf254f23f18f68": {
          "model_module": "@jupyter-widgets/base",
          "model_name": "LayoutModel",
          "model_module_version": "1.2.0",
          "state": {
            "_model_module": "@jupyter-widgets/base",
            "_model_module_version": "1.2.0",
            "_model_name": "LayoutModel",
            "_view_count": null,
            "_view_module": "@jupyter-widgets/base",
            "_view_module_version": "1.2.0",
            "_view_name": "LayoutView",
            "align_content": null,
            "align_items": null,
            "align_self": null,
            "border": null,
            "bottom": null,
            "display": null,
            "flex": null,
            "flex_flow": null,
            "grid_area": null,
            "grid_auto_columns": null,
            "grid_auto_flow": null,
            "grid_auto_rows": null,
            "grid_column": null,
            "grid_gap": null,
            "grid_row": null,
            "grid_template_areas": null,
            "grid_template_columns": null,
            "grid_template_rows": null,
            "height": null,
            "justify_content": null,
            "justify_items": null,
            "left": null,
            "margin": null,
            "max_height": null,
            "max_width": null,
            "min_height": null,
            "min_width": null,
            "object_fit": null,
            "object_position": null,
            "order": null,
            "overflow": null,
            "overflow_x": null,
            "overflow_y": null,
            "padding": null,
            "right": null,
            "top": null,
            "visibility": null,
            "width": null
          }
        },
        "3167141fc1c846439a5220ae145ad007": {
          "model_module": "@jupyter-widgets/controls",
          "model_name": "ProgressStyleModel",
          "model_module_version": "1.5.0",
          "state": {
            "_model_module": "@jupyter-widgets/controls",
            "_model_module_version": "1.5.0",
            "_model_name": "ProgressStyleModel",
            "_view_count": null,
            "_view_module": "@jupyter-widgets/base",
            "_view_module_version": "1.2.0",
            "_view_name": "StyleView",
            "bar_color": null,
            "description_width": ""
          }
        },
        "50d93f7d99fc4a9a826d920d04d8fb53": {
          "model_module": "@jupyter-widgets/base",
          "model_name": "LayoutModel",
          "model_module_version": "1.2.0",
          "state": {
            "_model_module": "@jupyter-widgets/base",
            "_model_module_version": "1.2.0",
            "_model_name": "LayoutModel",
            "_view_count": null,
            "_view_module": "@jupyter-widgets/base",
            "_view_module_version": "1.2.0",
            "_view_name": "LayoutView",
            "align_content": null,
            "align_items": null,
            "align_self": null,
            "border": null,
            "bottom": null,
            "display": null,
            "flex": null,
            "flex_flow": null,
            "grid_area": null,
            "grid_auto_columns": null,
            "grid_auto_flow": null,
            "grid_auto_rows": null,
            "grid_column": null,
            "grid_gap": null,
            "grid_row": null,
            "grid_template_areas": null,
            "grid_template_columns": null,
            "grid_template_rows": null,
            "height": null,
            "justify_content": null,
            "justify_items": null,
            "left": null,
            "margin": null,
            "max_height": null,
            "max_width": null,
            "min_height": null,
            "min_width": null,
            "object_fit": null,
            "object_position": null,
            "order": null,
            "overflow": null,
            "overflow_x": null,
            "overflow_y": null,
            "padding": null,
            "right": null,
            "top": null,
            "visibility": null,
            "width": null
          }
        },
        "3d994c0007364ac2b1b6ff668964725c": {
          "model_module": "@jupyter-widgets/controls",
          "model_name": "DescriptionStyleModel",
          "model_module_version": "1.5.0",
          "state": {
            "_model_module": "@jupyter-widgets/controls",
            "_model_module_version": "1.5.0",
            "_model_name": "DescriptionStyleModel",
            "_view_count": null,
            "_view_module": "@jupyter-widgets/base",
            "_view_module_version": "1.2.0",
            "_view_name": "StyleView",
            "description_width": ""
          }
        },
        "b95d3854697d4300b0a86e551e17f74a": {
          "model_module": "@jupyter-widgets/controls",
          "model_name": "HBoxModel",
          "model_module_version": "1.5.0",
          "state": {
            "_dom_classes": [],
            "_model_module": "@jupyter-widgets/controls",
            "_model_module_version": "1.5.0",
            "_model_name": "HBoxModel",
            "_view_count": null,
            "_view_module": "@jupyter-widgets/controls",
            "_view_module_version": "1.5.0",
            "_view_name": "HBoxView",
            "box_style": "",
            "children": [
              "IPY_MODEL_a9e3244467ff44e5a725052cca5a30d8",
              "IPY_MODEL_b09c395dacd14f5198d6c9b80c08f9f3",
              "IPY_MODEL_86a6807320b84fb89e572cdcc02ee553"
            ],
            "layout": "IPY_MODEL_7eb55fbfdfe9426b9d3656292c6d5148"
          }
        },
        "a9e3244467ff44e5a725052cca5a30d8": {
          "model_module": "@jupyter-widgets/controls",
          "model_name": "HTMLModel",
          "model_module_version": "1.5.0",
          "state": {
            "_dom_classes": [],
            "_model_module": "@jupyter-widgets/controls",
            "_model_module_version": "1.5.0",
            "_model_name": "HTMLModel",
            "_view_count": null,
            "_view_module": "@jupyter-widgets/controls",
            "_view_module_version": "1.5.0",
            "_view_name": "HTMLView",
            "description": "",
            "description_tooltip": null,
            "layout": "IPY_MODEL_7ecdbcb6c8584c7e8aab99edc7e498db",
            "placeholder": "​",
            "style": "IPY_MODEL_56096b22f4e742a0ba5665bb7e330f31",
            "value": "Downloading builder script: 100%"
          }
        },
        "b09c395dacd14f5198d6c9b80c08f9f3": {
          "model_module": "@jupyter-widgets/controls",
          "model_name": "FloatProgressModel",
          "model_module_version": "1.5.0",
          "state": {
            "_dom_classes": [],
            "_model_module": "@jupyter-widgets/controls",
            "_model_module_version": "1.5.0",
            "_model_name": "FloatProgressModel",
            "_view_count": null,
            "_view_module": "@jupyter-widgets/controls",
            "_view_module_version": "1.5.0",
            "_view_name": "ProgressView",
            "bar_style": "success",
            "description": "",
            "description_tooltip": null,
            "layout": "IPY_MODEL_1599eb7c4fb946bdb50ccce3feeb95a8",
            "max": 4203,
            "min": 0,
            "orientation": "horizontal",
            "style": "IPY_MODEL_ab4b177d643148bfbc3d2ceb9525d4e0",
            "value": 4203
          }
        },
        "86a6807320b84fb89e572cdcc02ee553": {
          "model_module": "@jupyter-widgets/controls",
          "model_name": "HTMLModel",
          "model_module_version": "1.5.0",
          "state": {
            "_dom_classes": [],
            "_model_module": "@jupyter-widgets/controls",
            "_model_module_version": "1.5.0",
            "_model_name": "HTMLModel",
            "_view_count": null,
            "_view_module": "@jupyter-widgets/controls",
            "_view_module_version": "1.5.0",
            "_view_name": "HTMLView",
            "description": "",
            "description_tooltip": null,
            "layout": "IPY_MODEL_5a659a96bce74bfea477255636716a42",
            "placeholder": "​",
            "style": "IPY_MODEL_6feb43041f744899ac9ab681559417f6",
            "value": " 4.20k/4.20k [00:00&lt;00:00, 335kB/s]"
          }
        },
        "7eb55fbfdfe9426b9d3656292c6d5148": {
          "model_module": "@jupyter-widgets/base",
          "model_name": "LayoutModel",
          "model_module_version": "1.2.0",
          "state": {
            "_model_module": "@jupyter-widgets/base",
            "_model_module_version": "1.2.0",
            "_model_name": "LayoutModel",
            "_view_count": null,
            "_view_module": "@jupyter-widgets/base",
            "_view_module_version": "1.2.0",
            "_view_name": "LayoutView",
            "align_content": null,
            "align_items": null,
            "align_self": null,
            "border": null,
            "bottom": null,
            "display": null,
            "flex": null,
            "flex_flow": null,
            "grid_area": null,
            "grid_auto_columns": null,
            "grid_auto_flow": null,
            "grid_auto_rows": null,
            "grid_column": null,
            "grid_gap": null,
            "grid_row": null,
            "grid_template_areas": null,
            "grid_template_columns": null,
            "grid_template_rows": null,
            "height": null,
            "justify_content": null,
            "justify_items": null,
            "left": null,
            "margin": null,
            "max_height": null,
            "max_width": null,
            "min_height": null,
            "min_width": null,
            "object_fit": null,
            "object_position": null,
            "order": null,
            "overflow": null,
            "overflow_x": null,
            "overflow_y": null,
            "padding": null,
            "right": null,
            "top": null,
            "visibility": null,
            "width": null
          }
        },
        "7ecdbcb6c8584c7e8aab99edc7e498db": {
          "model_module": "@jupyter-widgets/base",
          "model_name": "LayoutModel",
          "model_module_version": "1.2.0",
          "state": {
            "_model_module": "@jupyter-widgets/base",
            "_model_module_version": "1.2.0",
            "_model_name": "LayoutModel",
            "_view_count": null,
            "_view_module": "@jupyter-widgets/base",
            "_view_module_version": "1.2.0",
            "_view_name": "LayoutView",
            "align_content": null,
            "align_items": null,
            "align_self": null,
            "border": null,
            "bottom": null,
            "display": null,
            "flex": null,
            "flex_flow": null,
            "grid_area": null,
            "grid_auto_columns": null,
            "grid_auto_flow": null,
            "grid_auto_rows": null,
            "grid_column": null,
            "grid_gap": null,
            "grid_row": null,
            "grid_template_areas": null,
            "grid_template_columns": null,
            "grid_template_rows": null,
            "height": null,
            "justify_content": null,
            "justify_items": null,
            "left": null,
            "margin": null,
            "max_height": null,
            "max_width": null,
            "min_height": null,
            "min_width": null,
            "object_fit": null,
            "object_position": null,
            "order": null,
            "overflow": null,
            "overflow_x": null,
            "overflow_y": null,
            "padding": null,
            "right": null,
            "top": null,
            "visibility": null,
            "width": null
          }
        },
        "56096b22f4e742a0ba5665bb7e330f31": {
          "model_module": "@jupyter-widgets/controls",
          "model_name": "DescriptionStyleModel",
          "model_module_version": "1.5.0",
          "state": {
            "_model_module": "@jupyter-widgets/controls",
            "_model_module_version": "1.5.0",
            "_model_name": "DescriptionStyleModel",
            "_view_count": null,
            "_view_module": "@jupyter-widgets/base",
            "_view_module_version": "1.2.0",
            "_view_name": "StyleView",
            "description_width": ""
          }
        },
        "1599eb7c4fb946bdb50ccce3feeb95a8": {
          "model_module": "@jupyter-widgets/base",
          "model_name": "LayoutModel",
          "model_module_version": "1.2.0",
          "state": {
            "_model_module": "@jupyter-widgets/base",
            "_model_module_version": "1.2.0",
            "_model_name": "LayoutModel",
            "_view_count": null,
            "_view_module": "@jupyter-widgets/base",
            "_view_module_version": "1.2.0",
            "_view_name": "LayoutView",
            "align_content": null,
            "align_items": null,
            "align_self": null,
            "border": null,
            "bottom": null,
            "display": null,
            "flex": null,
            "flex_flow": null,
            "grid_area": null,
            "grid_auto_columns": null,
            "grid_auto_flow": null,
            "grid_auto_rows": null,
            "grid_column": null,
            "grid_gap": null,
            "grid_row": null,
            "grid_template_areas": null,
            "grid_template_columns": null,
            "grid_template_rows": null,
            "height": null,
            "justify_content": null,
            "justify_items": null,
            "left": null,
            "margin": null,
            "max_height": null,
            "max_width": null,
            "min_height": null,
            "min_width": null,
            "object_fit": null,
            "object_position": null,
            "order": null,
            "overflow": null,
            "overflow_x": null,
            "overflow_y": null,
            "padding": null,
            "right": null,
            "top": null,
            "visibility": null,
            "width": null
          }
        },
        "ab4b177d643148bfbc3d2ceb9525d4e0": {
          "model_module": "@jupyter-widgets/controls",
          "model_name": "ProgressStyleModel",
          "model_module_version": "1.5.0",
          "state": {
            "_model_module": "@jupyter-widgets/controls",
            "_model_module_version": "1.5.0",
            "_model_name": "ProgressStyleModel",
            "_view_count": null,
            "_view_module": "@jupyter-widgets/base",
            "_view_module_version": "1.2.0",
            "_view_name": "StyleView",
            "bar_color": null,
            "description_width": ""
          }
        },
        "5a659a96bce74bfea477255636716a42": {
          "model_module": "@jupyter-widgets/base",
          "model_name": "LayoutModel",
          "model_module_version": "1.2.0",
          "state": {
            "_model_module": "@jupyter-widgets/base",
            "_model_module_version": "1.2.0",
            "_model_name": "LayoutModel",
            "_view_count": null,
            "_view_module": "@jupyter-widgets/base",
            "_view_module_version": "1.2.0",
            "_view_name": "LayoutView",
            "align_content": null,
            "align_items": null,
            "align_self": null,
            "border": null,
            "bottom": null,
            "display": null,
            "flex": null,
            "flex_flow": null,
            "grid_area": null,
            "grid_auto_columns": null,
            "grid_auto_flow": null,
            "grid_auto_rows": null,
            "grid_column": null,
            "grid_gap": null,
            "grid_row": null,
            "grid_template_areas": null,
            "grid_template_columns": null,
            "grid_template_rows": null,
            "height": null,
            "justify_content": null,
            "justify_items": null,
            "left": null,
            "margin": null,
            "max_height": null,
            "max_width": null,
            "min_height": null,
            "min_width": null,
            "object_fit": null,
            "object_position": null,
            "order": null,
            "overflow": null,
            "overflow_x": null,
            "overflow_y": null,
            "padding": null,
            "right": null,
            "top": null,
            "visibility": null,
            "width": null
          }
        },
        "6feb43041f744899ac9ab681559417f6": {
          "model_module": "@jupyter-widgets/controls",
          "model_name": "DescriptionStyleModel",
          "model_module_version": "1.5.0",
          "state": {
            "_model_module": "@jupyter-widgets/controls",
            "_model_module_version": "1.5.0",
            "_model_name": "DescriptionStyleModel",
            "_view_count": null,
            "_view_module": "@jupyter-widgets/base",
            "_view_module_version": "1.2.0",
            "_view_name": "StyleView",
            "description_width": ""
          }
        },
        "cbfaed7297944271bbf338403c0d107e": {
          "model_module": "@jupyter-widgets/controls",
          "model_name": "HBoxModel",
          "model_module_version": "1.5.0",
          "state": {
            "_dom_classes": [],
            "_model_module": "@jupyter-widgets/controls",
            "_model_module_version": "1.5.0",
            "_model_name": "HBoxModel",
            "_view_count": null,
            "_view_module": "@jupyter-widgets/controls",
            "_view_module_version": "1.5.0",
            "_view_name": "HBoxView",
            "box_style": "",
            "children": [
              "IPY_MODEL_89e8a134e38e4fbebf80318a16f17877",
              "IPY_MODEL_6effd25fe93e46d78368b0b2effe8839",
              "IPY_MODEL_4e1aaf83e6e94737a1c07971bf1e4223"
            ],
            "layout": "IPY_MODEL_84aac4f944b14c9c816196b69fe248c2"
          }
        },
        "89e8a134e38e4fbebf80318a16f17877": {
          "model_module": "@jupyter-widgets/controls",
          "model_name": "HTMLModel",
          "model_module_version": "1.5.0",
          "state": {
            "_dom_classes": [],
            "_model_module": "@jupyter-widgets/controls",
            "_model_module_version": "1.5.0",
            "_model_name": "HTMLModel",
            "_view_count": null,
            "_view_module": "@jupyter-widgets/controls",
            "_view_module_version": "1.5.0",
            "_view_name": "HTMLView",
            "description": "",
            "description_tooltip": null,
            "layout": "IPY_MODEL_2000f9cb0be94f7782b9ef9003e1d01d",
            "placeholder": "​",
            "style": "IPY_MODEL_260ba144b5724e45a8d375e1d0cdf3cc",
            "value": "Map: 100%"
          }
        },
        "6effd25fe93e46d78368b0b2effe8839": {
          "model_module": "@jupyter-widgets/controls",
          "model_name": "FloatProgressModel",
          "model_module_version": "1.5.0",
          "state": {
            "_dom_classes": [],
            "_model_module": "@jupyter-widgets/controls",
            "_model_module_version": "1.5.0",
            "_model_name": "FloatProgressModel",
            "_view_count": null,
            "_view_module": "@jupyter-widgets/controls",
            "_view_module_version": "1.5.0",
            "_view_name": "ProgressView",
            "bar_style": "success",
            "description": "",
            "description_tooltip": null,
            "layout": "IPY_MODEL_8316bcd93d61440bb963d2fedda416c5",
            "max": 1614,
            "min": 0,
            "orientation": "horizontal",
            "style": "IPY_MODEL_439f672e88244b99a93d4bb1173ae095",
            "value": 1614
          }
        },
        "4e1aaf83e6e94737a1c07971bf1e4223": {
          "model_module": "@jupyter-widgets/controls",
          "model_name": "HTMLModel",
          "model_module_version": "1.5.0",
          "state": {
            "_dom_classes": [],
            "_model_module": "@jupyter-widgets/controls",
            "_model_module_version": "1.5.0",
            "_model_name": "HTMLModel",
            "_view_count": null,
            "_view_module": "@jupyter-widgets/controls",
            "_view_module_version": "1.5.0",
            "_view_name": "HTMLView",
            "description": "",
            "description_tooltip": null,
            "layout": "IPY_MODEL_db634f8e07d248e781a33ac41186c3f4",
            "placeholder": "​",
            "style": "IPY_MODEL_a9b1d0b2e589464989c3b498682acc27",
            "value": " 1614/1614 [00:01&lt;00:00, 1567.30 examples/s]"
          }
        },
        "84aac4f944b14c9c816196b69fe248c2": {
          "model_module": "@jupyter-widgets/base",
          "model_name": "LayoutModel",
          "model_module_version": "1.2.0",
          "state": {
            "_model_module": "@jupyter-widgets/base",
            "_model_module_version": "1.2.0",
            "_model_name": "LayoutModel",
            "_view_count": null,
            "_view_module": "@jupyter-widgets/base",
            "_view_module_version": "1.2.0",
            "_view_name": "LayoutView",
            "align_content": null,
            "align_items": null,
            "align_self": null,
            "border": null,
            "bottom": null,
            "display": null,
            "flex": null,
            "flex_flow": null,
            "grid_area": null,
            "grid_auto_columns": null,
            "grid_auto_flow": null,
            "grid_auto_rows": null,
            "grid_column": null,
            "grid_gap": null,
            "grid_row": null,
            "grid_template_areas": null,
            "grid_template_columns": null,
            "grid_template_rows": null,
            "height": null,
            "justify_content": null,
            "justify_items": null,
            "left": null,
            "margin": null,
            "max_height": null,
            "max_width": null,
            "min_height": null,
            "min_width": null,
            "object_fit": null,
            "object_position": null,
            "order": null,
            "overflow": null,
            "overflow_x": null,
            "overflow_y": null,
            "padding": null,
            "right": null,
            "top": null,
            "visibility": null,
            "width": null
          }
        },
        "2000f9cb0be94f7782b9ef9003e1d01d": {
          "model_module": "@jupyter-widgets/base",
          "model_name": "LayoutModel",
          "model_module_version": "1.2.0",
          "state": {
            "_model_module": "@jupyter-widgets/base",
            "_model_module_version": "1.2.0",
            "_model_name": "LayoutModel",
            "_view_count": null,
            "_view_module": "@jupyter-widgets/base",
            "_view_module_version": "1.2.0",
            "_view_name": "LayoutView",
            "align_content": null,
            "align_items": null,
            "align_self": null,
            "border": null,
            "bottom": null,
            "display": null,
            "flex": null,
            "flex_flow": null,
            "grid_area": null,
            "grid_auto_columns": null,
            "grid_auto_flow": null,
            "grid_auto_rows": null,
            "grid_column": null,
            "grid_gap": null,
            "grid_row": null,
            "grid_template_areas": null,
            "grid_template_columns": null,
            "grid_template_rows": null,
            "height": null,
            "justify_content": null,
            "justify_items": null,
            "left": null,
            "margin": null,
            "max_height": null,
            "max_width": null,
            "min_height": null,
            "min_width": null,
            "object_fit": null,
            "object_position": null,
            "order": null,
            "overflow": null,
            "overflow_x": null,
            "overflow_y": null,
            "padding": null,
            "right": null,
            "top": null,
            "visibility": null,
            "width": null
          }
        },
        "260ba144b5724e45a8d375e1d0cdf3cc": {
          "model_module": "@jupyter-widgets/controls",
          "model_name": "DescriptionStyleModel",
          "model_module_version": "1.5.0",
          "state": {
            "_model_module": "@jupyter-widgets/controls",
            "_model_module_version": "1.5.0",
            "_model_name": "DescriptionStyleModel",
            "_view_count": null,
            "_view_module": "@jupyter-widgets/base",
            "_view_module_version": "1.2.0",
            "_view_name": "StyleView",
            "description_width": ""
          }
        },
        "8316bcd93d61440bb963d2fedda416c5": {
          "model_module": "@jupyter-widgets/base",
          "model_name": "LayoutModel",
          "model_module_version": "1.2.0",
          "state": {
            "_model_module": "@jupyter-widgets/base",
            "_model_module_version": "1.2.0",
            "_model_name": "LayoutModel",
            "_view_count": null,
            "_view_module": "@jupyter-widgets/base",
            "_view_module_version": "1.2.0",
            "_view_name": "LayoutView",
            "align_content": null,
            "align_items": null,
            "align_self": null,
            "border": null,
            "bottom": null,
            "display": null,
            "flex": null,
            "flex_flow": null,
            "grid_area": null,
            "grid_auto_columns": null,
            "grid_auto_flow": null,
            "grid_auto_rows": null,
            "grid_column": null,
            "grid_gap": null,
            "grid_row": null,
            "grid_template_areas": null,
            "grid_template_columns": null,
            "grid_template_rows": null,
            "height": null,
            "justify_content": null,
            "justify_items": null,
            "left": null,
            "margin": null,
            "max_height": null,
            "max_width": null,
            "min_height": null,
            "min_width": null,
            "object_fit": null,
            "object_position": null,
            "order": null,
            "overflow": null,
            "overflow_x": null,
            "overflow_y": null,
            "padding": null,
            "right": null,
            "top": null,
            "visibility": null,
            "width": null
          }
        },
        "439f672e88244b99a93d4bb1173ae095": {
          "model_module": "@jupyter-widgets/controls",
          "model_name": "ProgressStyleModel",
          "model_module_version": "1.5.0",
          "state": {
            "_model_module": "@jupyter-widgets/controls",
            "_model_module_version": "1.5.0",
            "_model_name": "ProgressStyleModel",
            "_view_count": null,
            "_view_module": "@jupyter-widgets/base",
            "_view_module_version": "1.2.0",
            "_view_name": "StyleView",
            "bar_color": null,
            "description_width": ""
          }
        },
        "db634f8e07d248e781a33ac41186c3f4": {
          "model_module": "@jupyter-widgets/base",
          "model_name": "LayoutModel",
          "model_module_version": "1.2.0",
          "state": {
            "_model_module": "@jupyter-widgets/base",
            "_model_module_version": "1.2.0",
            "_model_name": "LayoutModel",
            "_view_count": null,
            "_view_module": "@jupyter-widgets/base",
            "_view_module_version": "1.2.0",
            "_view_name": "LayoutView",
            "align_content": null,
            "align_items": null,
            "align_self": null,
            "border": null,
            "bottom": null,
            "display": null,
            "flex": null,
            "flex_flow": null,
            "grid_area": null,
            "grid_auto_columns": null,
            "grid_auto_flow": null,
            "grid_auto_rows": null,
            "grid_column": null,
            "grid_gap": null,
            "grid_row": null,
            "grid_template_areas": null,
            "grid_template_columns": null,
            "grid_template_rows": null,
            "height": null,
            "justify_content": null,
            "justify_items": null,
            "left": null,
            "margin": null,
            "max_height": null,
            "max_width": null,
            "min_height": null,
            "min_width": null,
            "object_fit": null,
            "object_position": null,
            "order": null,
            "overflow": null,
            "overflow_x": null,
            "overflow_y": null,
            "padding": null,
            "right": null,
            "top": null,
            "visibility": null,
            "width": null
          }
        },
        "a9b1d0b2e589464989c3b498682acc27": {
          "model_module": "@jupyter-widgets/controls",
          "model_name": "DescriptionStyleModel",
          "model_module_version": "1.5.0",
          "state": {
            "_model_module": "@jupyter-widgets/controls",
            "_model_module_version": "1.5.0",
            "_model_name": "DescriptionStyleModel",
            "_view_count": null,
            "_view_module": "@jupyter-widgets/base",
            "_view_module_version": "1.2.0",
            "_view_name": "StyleView",
            "description_width": ""
          }
        }
      }
    }
  },
  "cells": [
    {
      "cell_type": "code",
      "source": [
        "import pandas as pd"
      ],
      "metadata": {
        "id": "WhZSElbtmCrc"
      },
      "execution_count": 1,
      "outputs": []
    },
    {
      "cell_type": "code",
      "execution_count": 2,
      "metadata": {
        "colab": {
          "base_uri": "https://localhost:8080/",
          "height": 55
        },
        "id": "dPb-5zDslPiK",
        "outputId": "8a44ca19-17b7-4946-dba8-4a357085334c"
      },
      "outputs": [
        {
          "output_type": "execute_result",
          "data": {
            "text/plain": [
              "'/content/drive/MyDrive/Colab Notebooks/463/TrDataset/orientation-tr-train.tsv'"
            ],
            "application/vnd.google.colaboratory.intrinsic+json": {
              "type": "string"
            }
          },
          "metadata": {},
          "execution_count": 2
        }
      ],
      "source": [
        "orientation_path='/content/drive/MyDrive/Colab Notebooks/463/TrDataset/orientation-tr-train.tsv'\n",
        "orientation_path"
      ]
    },
    {
      "cell_type": "code",
      "source": [
        "# Load the file\n",
        "df = pd.read_csv(orientation_path, sep='\\t')\n",
        "\n",
        "# Print the first 2 rows\n",
        "df.head(2)"
      ],
      "metadata": {
        "colab": {
          "base_uri": "https://localhost:8080/",
          "height": 306
        },
        "id": "KqWm85LomQaz",
        "outputId": "07e5b403-624f-4219-cf4d-e2384b186cf5"
      },
      "execution_count": 3,
      "outputs": [
        {
          "output_type": "execute_result",
          "data": {
            "text/plain": [
              "        id                           speaker sex  \\\n",
              "0  tr00000  ca2031caa4032c51980160359953d507   M   \n",
              "1  tr00001  4cee0addb3c69f6866869b180f90d45f   M   \n",
              "\n",
              "                                                text  \\\n",
              "0  Yeni yasama döneminin ülkemiz için, milletimiz...   \n",
              "1  Sayın Başkan, değerli milletvekilleri; bugün, ...   \n",
              "\n",
              "                                             text_en  label  \n",
              "0  Mr. President, dear lawmakers, I salute you, a...      1  \n",
              "1  Mr. President, members of lawmakers, as I spea...      1  "
            ],
            "text/html": [
              "\n",
              "  <div id=\"df-959969fb-379d-4939-a523-faa15c1a3d8d\" class=\"colab-df-container\">\n",
              "    <div>\n",
              "<style scoped>\n",
              "    .dataframe tbody tr th:only-of-type {\n",
              "        vertical-align: middle;\n",
              "    }\n",
              "\n",
              "    .dataframe tbody tr th {\n",
              "        vertical-align: top;\n",
              "    }\n",
              "\n",
              "    .dataframe thead th {\n",
              "        text-align: right;\n",
              "    }\n",
              "</style>\n",
              "<table border=\"1\" class=\"dataframe\">\n",
              "  <thead>\n",
              "    <tr style=\"text-align: right;\">\n",
              "      <th></th>\n",
              "      <th>id</th>\n",
              "      <th>speaker</th>\n",
              "      <th>sex</th>\n",
              "      <th>text</th>\n",
              "      <th>text_en</th>\n",
              "      <th>label</th>\n",
              "    </tr>\n",
              "  </thead>\n",
              "  <tbody>\n",
              "    <tr>\n",
              "      <th>0</th>\n",
              "      <td>tr00000</td>\n",
              "      <td>ca2031caa4032c51980160359953d507</td>\n",
              "      <td>M</td>\n",
              "      <td>Yeni yasama döneminin ülkemiz için, milletimiz...</td>\n",
              "      <td>Mr. President, dear lawmakers, I salute you, a...</td>\n",
              "      <td>1</td>\n",
              "    </tr>\n",
              "    <tr>\n",
              "      <th>1</th>\n",
              "      <td>tr00001</td>\n",
              "      <td>4cee0addb3c69f6866869b180f90d45f</td>\n",
              "      <td>M</td>\n",
              "      <td>Sayın Başkan, değerli milletvekilleri; bugün, ...</td>\n",
              "      <td>Mr. President, members of lawmakers, as I spea...</td>\n",
              "      <td>1</td>\n",
              "    </tr>\n",
              "  </tbody>\n",
              "</table>\n",
              "</div>\n",
              "    <div class=\"colab-df-buttons\">\n",
              "\n",
              "  <div class=\"colab-df-container\">\n",
              "    <button class=\"colab-df-convert\" onclick=\"convertToInteractive('df-959969fb-379d-4939-a523-faa15c1a3d8d')\"\n",
              "            title=\"Convert this dataframe to an interactive table.\"\n",
              "            style=\"display:none;\">\n",
              "\n",
              "  <svg xmlns=\"http://www.w3.org/2000/svg\" height=\"24px\" viewBox=\"0 -960 960 960\">\n",
              "    <path d=\"M120-120v-720h720v720H120Zm60-500h600v-160H180v160Zm220 220h160v-160H400v160Zm0 220h160v-160H400v160ZM180-400h160v-160H180v160Zm440 0h160v-160H620v160ZM180-180h160v-160H180v160Zm440 0h160v-160H620v160Z\"/>\n",
              "  </svg>\n",
              "    </button>\n",
              "\n",
              "  <style>\n",
              "    .colab-df-container {\n",
              "      display:flex;\n",
              "      gap: 12px;\n",
              "    }\n",
              "\n",
              "    .colab-df-convert {\n",
              "      background-color: #E8F0FE;\n",
              "      border: none;\n",
              "      border-radius: 50%;\n",
              "      cursor: pointer;\n",
              "      display: none;\n",
              "      fill: #1967D2;\n",
              "      height: 32px;\n",
              "      padding: 0 0 0 0;\n",
              "      width: 32px;\n",
              "    }\n",
              "\n",
              "    .colab-df-convert:hover {\n",
              "      background-color: #E2EBFA;\n",
              "      box-shadow: 0px 1px 2px rgba(60, 64, 67, 0.3), 0px 1px 3px 1px rgba(60, 64, 67, 0.15);\n",
              "      fill: #174EA6;\n",
              "    }\n",
              "\n",
              "    .colab-df-buttons div {\n",
              "      margin-bottom: 4px;\n",
              "    }\n",
              "\n",
              "    [theme=dark] .colab-df-convert {\n",
              "      background-color: #3B4455;\n",
              "      fill: #D2E3FC;\n",
              "    }\n",
              "\n",
              "    [theme=dark] .colab-df-convert:hover {\n",
              "      background-color: #434B5C;\n",
              "      box-shadow: 0px 1px 3px 1px rgba(0, 0, 0, 0.15);\n",
              "      filter: drop-shadow(0px 1px 2px rgba(0, 0, 0, 0.3));\n",
              "      fill: #FFFFFF;\n",
              "    }\n",
              "  </style>\n",
              "\n",
              "    <script>\n",
              "      const buttonEl =\n",
              "        document.querySelector('#df-959969fb-379d-4939-a523-faa15c1a3d8d button.colab-df-convert');\n",
              "      buttonEl.style.display =\n",
              "        google.colab.kernel.accessAllowed ? 'block' : 'none';\n",
              "\n",
              "      async function convertToInteractive(key) {\n",
              "        const element = document.querySelector('#df-959969fb-379d-4939-a523-faa15c1a3d8d');\n",
              "        const dataTable =\n",
              "          await google.colab.kernel.invokeFunction('convertToInteractive',\n",
              "                                                    [key], {});\n",
              "        if (!dataTable) return;\n",
              "\n",
              "        const docLinkHtml = 'Like what you see? Visit the ' +\n",
              "          '<a target=\"_blank\" href=https://colab.research.google.com/notebooks/data_table.ipynb>data table notebook</a>'\n",
              "          + ' to learn more about interactive tables.';\n",
              "        element.innerHTML = '';\n",
              "        dataTable['output_type'] = 'display_data';\n",
              "        await google.colab.output.renderOutput(dataTable, element);\n",
              "        const docLink = document.createElement('div');\n",
              "        docLink.innerHTML = docLinkHtml;\n",
              "        element.appendChild(docLink);\n",
              "      }\n",
              "    </script>\n",
              "  </div>\n",
              "\n",
              "\n",
              "<div id=\"df-88fb9e64-dbc6-46b7-a65d-e9b447fa8c81\">\n",
              "  <button class=\"colab-df-quickchart\" onclick=\"quickchart('df-88fb9e64-dbc6-46b7-a65d-e9b447fa8c81')\"\n",
              "            title=\"Suggest charts\"\n",
              "            style=\"display:none;\">\n",
              "\n",
              "<svg xmlns=\"http://www.w3.org/2000/svg\" height=\"24px\"viewBox=\"0 0 24 24\"\n",
              "     width=\"24px\">\n",
              "    <g>\n",
              "        <path d=\"M19 3H5c-1.1 0-2 .9-2 2v14c0 1.1.9 2 2 2h14c1.1 0 2-.9 2-2V5c0-1.1-.9-2-2-2zM9 17H7v-7h2v7zm4 0h-2V7h2v10zm4 0h-2v-4h2v4z\"/>\n",
              "    </g>\n",
              "</svg>\n",
              "  </button>\n",
              "\n",
              "<style>\n",
              "  .colab-df-quickchart {\n",
              "      --bg-color: #E8F0FE;\n",
              "      --fill-color: #1967D2;\n",
              "      --hover-bg-color: #E2EBFA;\n",
              "      --hover-fill-color: #174EA6;\n",
              "      --disabled-fill-color: #AAA;\n",
              "      --disabled-bg-color: #DDD;\n",
              "  }\n",
              "\n",
              "  [theme=dark] .colab-df-quickchart {\n",
              "      --bg-color: #3B4455;\n",
              "      --fill-color: #D2E3FC;\n",
              "      --hover-bg-color: #434B5C;\n",
              "      --hover-fill-color: #FFFFFF;\n",
              "      --disabled-bg-color: #3B4455;\n",
              "      --disabled-fill-color: #666;\n",
              "  }\n",
              "\n",
              "  .colab-df-quickchart {\n",
              "    background-color: var(--bg-color);\n",
              "    border: none;\n",
              "    border-radius: 50%;\n",
              "    cursor: pointer;\n",
              "    display: none;\n",
              "    fill: var(--fill-color);\n",
              "    height: 32px;\n",
              "    padding: 0;\n",
              "    width: 32px;\n",
              "  }\n",
              "\n",
              "  .colab-df-quickchart:hover {\n",
              "    background-color: var(--hover-bg-color);\n",
              "    box-shadow: 0 1px 2px rgba(60, 64, 67, 0.3), 0 1px 3px 1px rgba(60, 64, 67, 0.15);\n",
              "    fill: var(--button-hover-fill-color);\n",
              "  }\n",
              "\n",
              "  .colab-df-quickchart-complete:disabled,\n",
              "  .colab-df-quickchart-complete:disabled:hover {\n",
              "    background-color: var(--disabled-bg-color);\n",
              "    fill: var(--disabled-fill-color);\n",
              "    box-shadow: none;\n",
              "  }\n",
              "\n",
              "  .colab-df-spinner {\n",
              "    border: 2px solid var(--fill-color);\n",
              "    border-color: transparent;\n",
              "    border-bottom-color: var(--fill-color);\n",
              "    animation:\n",
              "      spin 1s steps(1) infinite;\n",
              "  }\n",
              "\n",
              "  @keyframes spin {\n",
              "    0% {\n",
              "      border-color: transparent;\n",
              "      border-bottom-color: var(--fill-color);\n",
              "      border-left-color: var(--fill-color);\n",
              "    }\n",
              "    20% {\n",
              "      border-color: transparent;\n",
              "      border-left-color: var(--fill-color);\n",
              "      border-top-color: var(--fill-color);\n",
              "    }\n",
              "    30% {\n",
              "      border-color: transparent;\n",
              "      border-left-color: var(--fill-color);\n",
              "      border-top-color: var(--fill-color);\n",
              "      border-right-color: var(--fill-color);\n",
              "    }\n",
              "    40% {\n",
              "      border-color: transparent;\n",
              "      border-right-color: var(--fill-color);\n",
              "      border-top-color: var(--fill-color);\n",
              "    }\n",
              "    60% {\n",
              "      border-color: transparent;\n",
              "      border-right-color: var(--fill-color);\n",
              "    }\n",
              "    80% {\n",
              "      border-color: transparent;\n",
              "      border-right-color: var(--fill-color);\n",
              "      border-bottom-color: var(--fill-color);\n",
              "    }\n",
              "    90% {\n",
              "      border-color: transparent;\n",
              "      border-bottom-color: var(--fill-color);\n",
              "    }\n",
              "  }\n",
              "</style>\n",
              "\n",
              "  <script>\n",
              "    async function quickchart(key) {\n",
              "      const quickchartButtonEl =\n",
              "        document.querySelector('#' + key + ' button');\n",
              "      quickchartButtonEl.disabled = true;  // To prevent multiple clicks.\n",
              "      quickchartButtonEl.classList.add('colab-df-spinner');\n",
              "      try {\n",
              "        const charts = await google.colab.kernel.invokeFunction(\n",
              "            'suggestCharts', [key], {});\n",
              "      } catch (error) {\n",
              "        console.error('Error during call to suggestCharts:', error);\n",
              "      }\n",
              "      quickchartButtonEl.classList.remove('colab-df-spinner');\n",
              "      quickchartButtonEl.classList.add('colab-df-quickchart-complete');\n",
              "    }\n",
              "    (() => {\n",
              "      let quickchartButtonEl =\n",
              "        document.querySelector('#df-88fb9e64-dbc6-46b7-a65d-e9b447fa8c81 button');\n",
              "      quickchartButtonEl.style.display =\n",
              "        google.colab.kernel.accessAllowed ? 'block' : 'none';\n",
              "    })();\n",
              "  </script>\n",
              "</div>\n",
              "\n",
              "    </div>\n",
              "  </div>\n"
            ],
            "application/vnd.google.colaboratory.intrinsic+json": {
              "type": "dataframe",
              "variable_name": "df",
              "summary": "{\n  \"name\": \"df\",\n  \"rows\": 16138,\n  \"fields\": [\n    {\n      \"column\": \"id\",\n      \"properties\": {\n        \"dtype\": \"string\",\n        \"num_unique_values\": 16138,\n        \"samples\": [\n          \"tr07272\",\n          \"tr02254\",\n          \"tr13543\"\n        ],\n        \"semantic_type\": \"\",\n        \"description\": \"\"\n      }\n    },\n    {\n      \"column\": \"speaker\",\n      \"properties\": {\n        \"dtype\": \"category\",\n        \"num_unique_values\": 1042,\n        \"samples\": [\n          \"67426e8f6dc28016892bce721bd7ed71\",\n          \"e2d93f7eecb803991a421c9bf90b026c\",\n          \"3e33a91e1ee4e4e65f7c55a1fb34fe5c\"\n        ],\n        \"semantic_type\": \"\",\n        \"description\": \"\"\n      }\n    },\n    {\n      \"column\": \"sex\",\n      \"properties\": {\n        \"dtype\": \"category\",\n        \"num_unique_values\": 2,\n        \"samples\": [\n          \"F\",\n          \"M\"\n        ],\n        \"semantic_type\": \"\",\n        \"description\": \"\"\n      }\n    },\n    {\n      \"column\": \"text\",\n      \"properties\": {\n        \"dtype\": \"string\",\n        \"num_unique_values\": 16136,\n        \"samples\": [\n          \"K\\u00fc\\u00e7\\u00fck, orta \\u00f6l\\u00e7ekli i\\u015fletmelerin, KOB\\u0130\\u2019lerin i\\u015fletmelerini ayakta tutabilme ya da yeni yat\\u0131r\\u0131mlar ve \\u00fcretim tesisleri kurabilmeleri i\\u00e7in talepte bulunduklar\\u0131 krediyi daha kolay alabilmeleri i\\u00e7in yap\\u0131lan bu d\\u00fczenlemeler \\u00f6nemlidir fakat bu d\\u00fczenlemeler k\\u00fc\\u00e7\\u00fck, orta \\u00f6l\\u00e7ekli i\\u015fletmelerin mevcut s\\u0131k\\u0131nt\\u0131lar\\u0131n\\u0131 ortadan kald\\u0131rmayan, eksik ve yetersiz d\\u00fczenlemelerdir. K\\u00e2\\u011f\\u0131t \\u00fczerinde teorik olarak iyi g\\u00f6z\\u00fckse de sahada pratik olarak uygulanmad\\u0131\\u011f\\u0131 da bir ger\\u00e7ekliktir. <p> Sayg\\u0131de\\u011fer milletvekilleri, se\\u00e7im b\\u00f6lgem olan Hakk\\u00e2ri ve il\\u00e7elerinde yak\\u0131n zamana kadar zaten az say\\u0131da olan KOB\\u0130\\u2019lerin kullanmak istedikleri kredilere kar\\u015f\\u0131l\\u0131k oradaki gayrimenkullerinin teminat olarak kabul edilmedi\\u011fi pratiklerle esnaflar\\u0131m\\u0131z kar\\u015f\\u0131la\\u015fm\\u0131\\u015flard\\u0131r. <p> Ayr\\u0131ca, bu d\\u00f6nemde dahi e\\u011fer normal \\u015fartlarda kullanacaklar\\u0131 kredilere kar\\u015f\\u0131l\\u0131k 2 kat gayrimenkul teminat\\u0131 al\\u0131n\\u0131yorsa Hakk\\u00e2ri\\u2019de bu oran kulland\\u0131klar\\u0131 krediye kar\\u015f\\u0131l\\u0131k 6 kat fazlas\\u0131 gayrimenkul teminat\\u0131 vermek zorunda b\\u0131rak\\u0131lmaktad\\u0131r. Zaten paras\\u0131 ve gayrimenkul\\u00fc olmayan esnaf perperi\\u015fan, bir de bu \\u00e7ifte standartla keyf\\u00ee uygulamalara maruz kalan esnaf\\u0131m\\u0131z iyice ma\\u011fdur edilmektedir. <p> De\\u011ferli milletvekilleri, son soka\\u011fa \\u00e7\\u0131kma yasaklar\\u0131 s\\u0131ras\\u0131nda Y\\u00fcksekova\\u2019da 1.800 esnaf\\u0131m\\u0131z\\u0131n i\\u015f yeri zarar g\\u00f6rm\\u00fc\\u015f, esnaf\\u0131m\\u0131z\\u0131n zarar ve ziyanlar\\u0131n\\u0131n tespit edilip kar\\u015f\\u0131lanmas\\u0131 i\\u00e7in kurulan de\\u011fer tespit komisyonu, be\\u015f ay ge\\u00e7mesine ra\\u011fmen, h\\u00e2l\\u00e2 600 esnaf\\u0131m\\u0131z\\u0131n zarar\\u0131n\\u0131 tespit etmemi\\u015ftir. \\u00d6zellikle basit usul m\\u00fckellefi olan taksici esnaf\\u0131m\\u0131za 1.500 TL, k\\u00fc\\u00e7\\u00fck esnaf\\u0131m\\u0131za 3 bin TL te\\u015fvik yard\\u0131m\\u0131 bile H\\u00fck\\u00fbmet taraf\\u0131ndan \\u00f6denmemi\\u015ftir. B\\u00fcy\\u00fck ma\\u011fduriyetler ya\\u015fayan esnaf\\u0131m\\u0131za sicil aff\\u0131 getirilmemi\\u015f, esnaf kefalet kooperatifi \\u00fcyeleri esnaflar\\u0131m\\u0131z d\\u0131\\u015f\\u0131nda, kulland\\u0131klar\\u0131 krediler bir y\\u0131l faizsiz ertelenmemi\\u015ftir. \\u00d6zellikle Esnaf ve Sanatk\\u00e2rlar Odas\\u0131, Sanayi ve Ticaret Odas\\u0131 \\u00fcyelerinin de kredilerinin bir y\\u0131l faizsiz ertelenmesi gerekmektedir. \\u00c7eklerini, senetlerini \\u00f6deyemeyen esnaf\\u0131m\\u0131z\\u0131n itibar\\u0131 zedelenmi\\u015f, yeni \\u00fcr\\u00fcn alamad\\u0131klar\\u0131 i\\u00e7in 150\\u2019ye yak\\u0131n esnaf\\u0131m\\u0131z iflas ederek d\\u00fckk\\u00e2nlar\\u0131n\\u0131 kapatmak zorunda kalm\\u0131\\u015ft\\u0131r. H\\u00fck\\u00fbmetin bir an \\u00f6nce, evleri y\\u0131k\\u0131lan halk\\u0131m\\u0131z\\u0131n, esnaf\\u0131m\\u0131z\\u0131n zarar ve ziyanlar\\u0131n\\u0131 kar\\u015f\\u0131lamas\\u0131n\\u0131 bekliyoruz. <p> De\\u011ferli milletvekilleri, e\\u011fer biz ekonominin bir istikrara kavu\\u015fmas\\u0131n\\u0131, \\u00fcretimin, istihdam\\u0131n artmas\\u0131n\\u0131, topyek\\u00fbn kalk\\u0131nmay\\u0131 ger\\u00e7ekle\\u015ftirmek istiyorsak H\\u00fck\\u00fbmetin sava\\u015f politikalar\\u0131ndan vazge\\u00e7mesi gerekmektedir. Hayatta hi\\u00e7bir maddiyat\\u0131n insan hayat\\u0131ndan daha de\\u011ferli olmad\\u0131\\u011f\\u0131n\\u0131 hepimiz \\u00e7ok iyi bilmekteyiz. Her g\\u00fcn yeni \\u00f6l\\u00fcm haberleriyle b\\u00fcy\\u00fck ac\\u0131lar ya\\u015fad\\u0131\\u011f\\u0131m\\u0131z bu karde\\u015f kavgas\\u0131 can\\u0131m\\u0131zdan can ald\\u0131\\u011f\\u0131 gibi sosyal, k\\u00fclt\\u00fcrel, ruhsal, ekonomik \\u00e7\\u00f6k\\u00fcnt\\u00fcy\\u00fc de beraberinde getirmektedir. H\\u00fck\\u00fbmetin bir an \\u00f6nce bu sava\\u015f politikalar\\u0131ndan vazge\\u00e7mesini beklemekteyiz. <p> De\\u011ferli milletvekilleri, <PARTY> ilk iktidara geldi\\u011fi zaman di\\u011fer iktidar partilerinden bir fark\\u0131 su\\u00e7luyu ararken su\\u00e7suzun hakk\\u0131n\\u0131 korumakt\\u0131. Fakat bu son d\\u00f6nemde \\u00f6zellikle \\u015eemdinli\\u2019nin 1 k\\u00f6y ve 3 mezras\\u0131nda 25 vatanda\\u015f\\u0131m\\u0131z k\\u00f6y meydan\\u0131na indirilerek, kad\\u0131nlar\\u0131n ve \\u00e7ocuklar\\u0131n g\\u00f6z\\u00fc \\u00f6n\\u00fcnde i\\u015fkenceye u\\u011frat\\u0131larak g\\u00f6zalt\\u0131na al\\u0131nm\\u0131\\u015flar. \\u015eemdinli\\u2019nin \\u00c7atalca k\\u00f6y\\u00fcnde bu insanlar d\\u00f6rt g\\u00fcn boyunca g\\u00f6zalt\\u0131nda tutulduktan sonra su\\u00e7suz olduklar\\u0131 ortaya \\u00e7\\u0131km\\u0131\\u015f ve serbest b\\u0131rak\\u0131lm\\u0131\\u015flar fakat o i\\u015fkenceden dolay\\u0131 h\\u00e2len hastanede yatan 2 yurtta\\u015f\\u0131m\\u0131z var ve \\u00c7atalca k\\u00f6y\\u00fcn\\u00fcn yolu h\\u00e2len 3 mezras\\u0131yla beraber ula\\u015f\\u0131ma kapal\\u0131. <p> De\\u011ferli arkada\\u015flar, e\\u011fer bir yerde bir insan su\\u00e7 i\\u015flememi\\u015fse onun i\\u015fkenceye u\\u011framamas\\u0131 laz\\u0131m. <p> Bu vesileyle, bu i\\u015fkencelerin bitmesi ad\\u0131na H\\u00fck\\u00fbmetin ad\\u0131m atmas\\u0131n\\u0131 talep ediyor, hepinizi sayg\\u0131yla selaml\\u0131yorum.\",\n          \"Arkada\\u015flar, hepsine tak\\u0131lacak saya\\u00e7, merak etmeyin. Hepsine tak\\u0131lacak, hepsinden de\\u2026 <p> Arkada\\u015flar, tar\\u0131m sulamalar\\u0131nda nerede ne kadar su gidece\\u011fi belli, bilimsel verilere g\\u00f6re belli, hangi kuyudan ne kadar su \\u00e7ekilece\\u011fi belli. As\\u0131l burada sanayi ama\\u00e7l\\u0131 kullan\\u0131mlarda sorun var arkada\\u015flar. Hakikaten 300 metreden m\\u0131s\\u0131r \\u00fcretimi i\\u00e7in, pamuk \\u00fcretimi i\\u00e7in su \\u00e7eken \\u00e7ift\\u00e7i zaten fazla su \\u00e7ekmeyecektir ama burada \\u201ctar\\u0131m sulamas\\u0131\\u201d ad\\u0131 alt\\u0131nda tanker tanker su al\\u0131p satanlar, ondan sonra ka\\u00e7ak kuyu a\\u00e7\\u0131p sanayisinde kullananlar, i\\u015fte, bunlar\\u0131n yakas\\u0131na hep beraber yap\\u0131\\u015faca\\u011f\\u0131z. Niye muhalefet bunlara sesini \\u00e7\\u0131karm\\u0131yor, hi\\u00e7 sanayiciden bahsetmiyor? <p> Hep \\u00e7ift\\u00e7iyi savunuyorsunuz.\"\n        ],\n        \"semantic_type\": \"\",\n        \"description\": \"\"\n      }\n    },\n    {\n      \"column\": \"text_en\",\n      \"properties\": {\n        \"dtype\": \"string\",\n        \"num_unique_values\": 16136,\n        \"samples\": [\n          \"Mr. President, honorable lawmakers, I salute you all on behalf of the <PARTY> Group. <p> These arrangements are important for small, medium-sized businesses, for maintaining the businesses of the SMEs, or for building new investments and production facilities, but are incomplete and inadequate regulations that do not remove the current problems of small, medium-sized businesses. Although it looks theoretically good on paper, it is also a reality that is not practical in the field. <p> Respected lawmakers, our tradesmen have encountered practices that were not accepted as collateral in exchange for loans that were already few in my constituency district, Hakkari and the districts of KoBI. <p> Furthermore, even during this period, if the loans they normally use are twice the amount of real estate guarantees, six times the amount they use in Hakari is forced to provide real estate guarantees. Our tradesman, who already has no money and no real estate, is being severely victimised by this double standard. <p> Dear lawmakers, during the last curfews, our 1,800 tradesman's workplace has been damaged, the value detection commission established to assess the losses and losses of our tradesman has not yet identified the losses of 600 of our trades. In particular, the government did not pay $1,500 to our low-profile cabbies, even 3,000 euros to our small tradesman. Our major victimized tradesman has not been granted a record pardon, other than the tradesmen's bail co-op, the loans they used were not postponed for a year without interest. In particular, loans from members of the Chamber of Business and Artists, the Chamber of Industry and Commerce, must be postponed for one year without interest. Our shopkeeper, who couldn't pay his checks, whose reputation had been damaged, and since they couldn't buy new products, has had to close their shops by bankrupting up to 150. We expect the government to meet the losses and losses of our shopkeepers, our people whose homes have been destroyed. <p> Dear MPs, if we want the economy to achieve stability, production, increased employment, total development, the government has to give up its war policies. We all know that no materiality in life is worth more than human life. Every day, this brotherly quarrel with news of new death brings with it social, cultural, spiritual, economic collapse, as it did with our lives. We expect the government to give up these war policies as soon as possible. <p> When the <PARTY> first came to power, it was to defend the rights of the innocent while searching for the culprit, a difference from other ruling parties. But recently, 25 of our citizens were taken into custody, tortured in front of women and children, especially in one village and three deserts of Shemdinli. In the village of \\u00c7atkca, \\u015eemdinli, these people were found innocent after being detained for four days, but we still have two citizens in the hospital for that torture, and the road of the village of \\u00c7atica is still closed to transport along with three merrahs. <p> Dear friends, if a person has not committed a crime somewhere, he shouldn't be tortured. <p> On this occasion, I ask the government to step forward in order for these tortures to end, and I salute you all.\",\n          \"Guys, it's a timer for all of them, don't worry. They're all gonna get it, all of them. <p> Once, my friends, look, in agricultural watering... why did we bring up this law like this, why did we make this offer? <p> Friends, there's no telling how much water is going to go in the agricultural irrigations, the scientific data says, how much water is going to be drawn from the well. There's a problem with industrial use here, guys. Indeed, the farmer who draws water for the production of cotton from 300 meters will not draw much water for the production of cotton, but those who buy tanker tanker water under the name \\\"water\\\" and then use it in illegal wells and industry, we'll all stick to their collars together. Why doesn't the opposition talk about it, about the industrialist? <p> You're always defending the farmer.\"\n        ],\n        \"semantic_type\": \"\",\n        \"description\": \"\"\n      }\n    },\n    {\n      \"column\": \"label\",\n      \"properties\": {\n        \"dtype\": \"number\",\n        \"std\": 0,\n        \"min\": 0,\n        \"max\": 1,\n        \"num_unique_values\": 2,\n        \"samples\": [\n          0,\n          1\n        ],\n        \"semantic_type\": \"\",\n        \"description\": \"\"\n      }\n    }\n  ]\n}"
            }
          },
          "metadata": {},
          "execution_count": 3
        }
      ]
    },
    {
      "cell_type": "markdown",
      "source": [
        "We check the proporiton of label to split the dataset in a stratified manner"
      ],
      "metadata": {
        "id": "jRzZaMaos-o-"
      }
    },
    {
      "cell_type": "code",
      "source": [
        "df.keys()"
      ],
      "metadata": {
        "colab": {
          "base_uri": "https://localhost:8080/"
        },
        "id": "z1okz_8RUMQa",
        "outputId": "5310fbb8-4c93-43d6-f20c-24040394bf94"
      },
      "execution_count": 4,
      "outputs": [
        {
          "output_type": "execute_result",
          "data": {
            "text/plain": [
              "Index(['id', 'speaker', 'sex', 'text', 'text_en', 'label'], dtype='object')"
            ]
          },
          "metadata": {},
          "execution_count": 4
        }
      ]
    },
    {
      "cell_type": "code",
      "source": [
        "df[\"label\"].value_counts(normalize=True)"
      ],
      "metadata": {
        "colab": {
          "base_uri": "https://localhost:8080/",
          "height": 198
        },
        "id": "Aza3YSw3naMB",
        "outputId": "52fc4c72-2984-44cc-9073-1d0a8ef9eae6"
      },
      "execution_count": 5,
      "outputs": [
        {
          "output_type": "execute_result",
          "data": {
            "text/plain": [
              "label\n",
              "1    0.581856\n",
              "0    0.418144\n",
              "Name: proportion, dtype: float64"
            ],
            "text/html": [
              "<div>\n",
              "<style scoped>\n",
              "    .dataframe tbody tr th:only-of-type {\n",
              "        vertical-align: middle;\n",
              "    }\n",
              "\n",
              "    .dataframe tbody tr th {\n",
              "        vertical-align: top;\n",
              "    }\n",
              "\n",
              "    .dataframe thead th {\n",
              "        text-align: right;\n",
              "    }\n",
              "</style>\n",
              "<table border=\"1\" class=\"dataframe\">\n",
              "  <thead>\n",
              "    <tr style=\"text-align: right;\">\n",
              "      <th></th>\n",
              "      <th>proportion</th>\n",
              "    </tr>\n",
              "    <tr>\n",
              "      <th>label</th>\n",
              "      <th></th>\n",
              "    </tr>\n",
              "  </thead>\n",
              "  <tbody>\n",
              "    <tr>\n",
              "      <th>1</th>\n",
              "      <td>0.581856</td>\n",
              "    </tr>\n",
              "    <tr>\n",
              "      <th>0</th>\n",
              "      <td>0.418144</td>\n",
              "    </tr>\n",
              "  </tbody>\n",
              "</table>\n",
              "</div><br><label><b>dtype:</b> float64</label>"
            ]
          },
          "metadata": {},
          "execution_count": 5
        }
      ]
    },
    {
      "cell_type": "markdown",
      "source": [],
      "metadata": {
        "id": "xrNHCYsVtLVe"
      }
    },
    {
      "cell_type": "code",
      "source": [
        "print(df.isnull().sum())  # Check for missing values\n",
        "print(df[\"label\"].value_counts())  # Check label distribution"
      ],
      "metadata": {
        "colab": {
          "base_uri": "https://localhost:8080/"
        },
        "id": "zU3dEQPMKDV8",
        "outputId": "b0bad843-eb95-48d9-bf52-cda4e0801248"
      },
      "execution_count": 6,
      "outputs": [
        {
          "output_type": "stream",
          "name": "stdout",
          "text": [
            "id         0\n",
            "speaker    0\n",
            "sex        0\n",
            "text       0\n",
            "text_en    0\n",
            "label      0\n",
            "dtype: int64\n",
            "label\n",
            "1    9390\n",
            "0    6748\n",
            "Name: count, dtype: int64\n"
          ]
        }
      ]
    },
    {
      "cell_type": "code",
      "source": [
        "from sklearn.model_selection import train_test_split"
      ],
      "metadata": {
        "id": "DRA4tdOGtL1a"
      },
      "execution_count": 7,
      "outputs": []
    },
    {
      "cell_type": "code",
      "source": [
        "# Split the data into training and testing sets\n",
        "train_df, test_df = train_test_split(df, test_size=0.1, random_state=42, stratify=df[\"label\"])\n",
        "train_df, eval_df = train_test_split(train_df, test_size=0.111111, random_state=42, stratify=train_df[\"label\"])"
      ],
      "metadata": {
        "id": "EEQO0i5EtldG"
      },
      "execution_count": 8,
      "outputs": []
    },
    {
      "cell_type": "code",
      "source": [
        "# Print the subset lengths/size and proportions to check if splitted successfully\n",
        "print('Train:')\n",
        "print(train_df.shape[0]/8)\n",
        "print(train_df['label'].value_counts(normalize=True))\n",
        "\n",
        "print('Eval:')\n",
        "print(eval_df.shape[0]/1)\n",
        "print(eval_df['label'].value_counts(normalize=True))\n",
        "\n",
        "print('Test:')\n",
        "print(test_df.shape[0]/1)\n",
        "print(test_df['label'].value_counts(normalize=True))"
      ],
      "metadata": {
        "colab": {
          "base_uri": "https://localhost:8080/"
        },
        "id": "bITlztcwt_9p",
        "outputId": "961f7d74-080b-4358-9ed9-e02c1c22025f"
      },
      "execution_count": 9,
      "outputs": [
        {
          "output_type": "stream",
          "name": "stdout",
          "text": [
            "Train:\n",
            "1613.75\n",
            "label\n",
            "1    0.581875\n",
            "0    0.418125\n",
            "Name: proportion, dtype: float64\n",
            "Eval:\n",
            "1614.0\n",
            "label\n",
            "1    0.581784\n",
            "0    0.418216\n",
            "Name: proportion, dtype: float64\n",
            "Test:\n",
            "1614.0\n",
            "label\n",
            "1    0.581784\n",
            "0    0.418216\n",
            "Name: proportion, dtype: float64\n"
          ]
        }
      ]
    },
    {
      "cell_type": "code",
      "source": [
        "!pip install datasets"
      ],
      "metadata": {
        "colab": {
          "base_uri": "https://localhost:8080/"
        },
        "id": "52CY-K2U8vTG",
        "outputId": "41ff6301-421e-4285-c26c-ab85f5eb1f31"
      },
      "execution_count": 10,
      "outputs": [
        {
          "output_type": "stream",
          "name": "stdout",
          "text": [
            "Collecting datasets\n",
            "  Downloading datasets-3.2.0-py3-none-any.whl.metadata (20 kB)\n",
            "Requirement already satisfied: filelock in /usr/local/lib/python3.10/dist-packages (from datasets) (3.16.1)\n",
            "Requirement already satisfied: numpy>=1.17 in /usr/local/lib/python3.10/dist-packages (from datasets) (1.26.4)\n",
            "Requirement already satisfied: pyarrow>=15.0.0 in /usr/local/lib/python3.10/dist-packages (from datasets) (17.0.0)\n",
            "Collecting dill<0.3.9,>=0.3.0 (from datasets)\n",
            "  Downloading dill-0.3.8-py3-none-any.whl.metadata (10 kB)\n",
            "Requirement already satisfied: pandas in /usr/local/lib/python3.10/dist-packages (from datasets) (2.2.2)\n",
            "Requirement already satisfied: requests>=2.32.2 in /usr/local/lib/python3.10/dist-packages (from datasets) (2.32.3)\n",
            "Requirement already satisfied: tqdm>=4.66.3 in /usr/local/lib/python3.10/dist-packages (from datasets) (4.67.1)\n",
            "Collecting xxhash (from datasets)\n",
            "  Downloading xxhash-3.5.0-cp310-cp310-manylinux_2_17_x86_64.manylinux2014_x86_64.whl.metadata (12 kB)\n",
            "Collecting multiprocess<0.70.17 (from datasets)\n",
            "  Downloading multiprocess-0.70.16-py310-none-any.whl.metadata (7.2 kB)\n",
            "Collecting fsspec<=2024.9.0,>=2023.1.0 (from fsspec[http]<=2024.9.0,>=2023.1.0->datasets)\n",
            "  Downloading fsspec-2024.9.0-py3-none-any.whl.metadata (11 kB)\n",
            "Requirement already satisfied: aiohttp in /usr/local/lib/python3.10/dist-packages (from datasets) (3.11.10)\n",
            "Requirement already satisfied: huggingface-hub>=0.23.0 in /usr/local/lib/python3.10/dist-packages (from datasets) (0.27.0)\n",
            "Requirement already satisfied: packaging in /usr/local/lib/python3.10/dist-packages (from datasets) (24.2)\n",
            "Requirement already satisfied: pyyaml>=5.1 in /usr/local/lib/python3.10/dist-packages (from datasets) (6.0.2)\n",
            "Requirement already satisfied: aiohappyeyeballs>=2.3.0 in /usr/local/lib/python3.10/dist-packages (from aiohttp->datasets) (2.4.4)\n",
            "Requirement already satisfied: aiosignal>=1.1.2 in /usr/local/lib/python3.10/dist-packages (from aiohttp->datasets) (1.3.2)\n",
            "Requirement already satisfied: async-timeout<6.0,>=4.0 in /usr/local/lib/python3.10/dist-packages (from aiohttp->datasets) (4.0.3)\n",
            "Requirement already satisfied: attrs>=17.3.0 in /usr/local/lib/python3.10/dist-packages (from aiohttp->datasets) (24.3.0)\n",
            "Requirement already satisfied: frozenlist>=1.1.1 in /usr/local/lib/python3.10/dist-packages (from aiohttp->datasets) (1.5.0)\n",
            "Requirement already satisfied: multidict<7.0,>=4.5 in /usr/local/lib/python3.10/dist-packages (from aiohttp->datasets) (6.1.0)\n",
            "Requirement already satisfied: propcache>=0.2.0 in /usr/local/lib/python3.10/dist-packages (from aiohttp->datasets) (0.2.1)\n",
            "Requirement already satisfied: yarl<2.0,>=1.17.0 in /usr/local/lib/python3.10/dist-packages (from aiohttp->datasets) (1.18.3)\n",
            "Requirement already satisfied: typing-extensions>=3.7.4.3 in /usr/local/lib/python3.10/dist-packages (from huggingface-hub>=0.23.0->datasets) (4.12.2)\n",
            "Requirement already satisfied: charset-normalizer<4,>=2 in /usr/local/lib/python3.10/dist-packages (from requests>=2.32.2->datasets) (3.4.0)\n",
            "Requirement already satisfied: idna<4,>=2.5 in /usr/local/lib/python3.10/dist-packages (from requests>=2.32.2->datasets) (3.10)\n",
            "Requirement already satisfied: urllib3<3,>=1.21.1 in /usr/local/lib/python3.10/dist-packages (from requests>=2.32.2->datasets) (2.2.3)\n",
            "Requirement already satisfied: certifi>=2017.4.17 in /usr/local/lib/python3.10/dist-packages (from requests>=2.32.2->datasets) (2024.12.14)\n",
            "Requirement already satisfied: python-dateutil>=2.8.2 in /usr/local/lib/python3.10/dist-packages (from pandas->datasets) (2.8.2)\n",
            "Requirement already satisfied: pytz>=2020.1 in /usr/local/lib/python3.10/dist-packages (from pandas->datasets) (2024.2)\n",
            "Requirement already satisfied: tzdata>=2022.7 in /usr/local/lib/python3.10/dist-packages (from pandas->datasets) (2024.2)\n",
            "Requirement already satisfied: six>=1.5 in /usr/local/lib/python3.10/dist-packages (from python-dateutil>=2.8.2->pandas->datasets) (1.17.0)\n",
            "Downloading datasets-3.2.0-py3-none-any.whl (480 kB)\n",
            "\u001b[2K   \u001b[90m━━━━━━━━━━━━━━━━━━━━━━━━━━━━━━━━━━━━━━━━\u001b[0m \u001b[32m480.6/480.6 kB\u001b[0m \u001b[31m29.3 MB/s\u001b[0m eta \u001b[36m0:00:00\u001b[0m\n",
            "\u001b[?25hDownloading dill-0.3.8-py3-none-any.whl (116 kB)\n",
            "\u001b[2K   \u001b[90m━━━━━━━━━━━━━━━━━━━━━━━━━━━━━━━━━━━━━━━━\u001b[0m \u001b[32m116.3/116.3 kB\u001b[0m \u001b[31m10.7 MB/s\u001b[0m eta \u001b[36m0:00:00\u001b[0m\n",
            "\u001b[?25hDownloading fsspec-2024.9.0-py3-none-any.whl (179 kB)\n",
            "\u001b[2K   \u001b[90m━━━━━━━━━━━━━━━━━━━━━━━━━━━━━━━━━━━━━━━━\u001b[0m \u001b[32m179.3/179.3 kB\u001b[0m \u001b[31m16.3 MB/s\u001b[0m eta \u001b[36m0:00:00\u001b[0m\n",
            "\u001b[?25hDownloading multiprocess-0.70.16-py310-none-any.whl (134 kB)\n",
            "\u001b[2K   \u001b[90m━━━━━━━━━━━━━━━━━━━━━━━━━━━━━━━━━━━━━━━━\u001b[0m \u001b[32m134.8/134.8 kB\u001b[0m \u001b[31m11.0 MB/s\u001b[0m eta \u001b[36m0:00:00\u001b[0m\n",
            "\u001b[?25hDownloading xxhash-3.5.0-cp310-cp310-manylinux_2_17_x86_64.manylinux2014_x86_64.whl (194 kB)\n",
            "\u001b[2K   \u001b[90m━━━━━━━━━━━━━━━━━━━━━━━━━━━━━━━━━━━━━━━━\u001b[0m \u001b[32m194.1/194.1 kB\u001b[0m \u001b[31m17.5 MB/s\u001b[0m eta \u001b[36m0:00:00\u001b[0m\n",
            "\u001b[?25hInstalling collected packages: xxhash, fsspec, dill, multiprocess, datasets\n",
            "  Attempting uninstall: fsspec\n",
            "    Found existing installation: fsspec 2024.10.0\n",
            "    Uninstalling fsspec-2024.10.0:\n",
            "      Successfully uninstalled fsspec-2024.10.0\n",
            "\u001b[31mERROR: pip's dependency resolver does not currently take into account all the packages that are installed. This behaviour is the source of the following dependency conflicts.\n",
            "gcsfs 2024.10.0 requires fsspec==2024.10.0, but you have fsspec 2024.9.0 which is incompatible.\u001b[0m\u001b[31m\n",
            "\u001b[0mSuccessfully installed datasets-3.2.0 dill-0.3.8 fsspec-2024.9.0 multiprocess-0.70.16 xxhash-3.5.0\n"
          ]
        }
      ]
    },
    {
      "cell_type": "code",
      "source": [
        "#convert pandas dataFrame to Hugigng face dataset\n",
        "from datasets import Dataset\n",
        "train_dataset = Dataset.from_pandas(train_df)\n",
        "eval_dataset = Dataset.from_pandas(eval_df)\n",
        "test_dataset = Dataset.from_pandas(test_df)\n",
        "train_dataset['text'][12]"
      ],
      "metadata": {
        "colab": {
          "base_uri": "https://localhost:8080/",
          "height": 159
        },
        "id": "fAECNv5kU9bs",
        "outputId": "1bb16c38-3049-4202-fcbc-a9a22cc79755"
      },
      "execution_count": 11,
      "outputs": [
        {
          "output_type": "execute_result",
          "data": {
            "text/plain": [
              "'…halkı, teröristlerin yanında savaşa çağırıyor ve bir de şu cümleyi kullanıyor: “Hendek kazmasın da ne yapsınlar, başka seçenek mi bıraktınız?” <p> Düşünebiliyor musunuz, bizim gözümüzün içine baka baka, hepimizin zekâsıyla alay edercesine, bu kürsüden bu lafları kullanıyorlar. <p> Bugün gelinen noktada <PARTY>, takiye yapmayı da bir kenara bırakıp, doğrudan bölünmeyi ve devlet olmayı konuşuyor. “Saz çalan cici çocuk” güzellemesi yapanlar bugünlerde fena hâlde pişmanlık duyuyorlar. <p> Şimdi, hayal kırıklığını yaşıyorlar. En azından öyle görünüyorlar.'"
            ],
            "application/vnd.google.colaboratory.intrinsic+json": {
              "type": "string"
            }
          },
          "metadata": {},
          "execution_count": 11
        }
      ]
    },
    {
      "cell_type": "code",
      "source": [
        "from transformers import AutoModel, AutoTokenizer\n",
        "\n",
        "tokenizer = AutoTokenizer.from_pretrained(\"xlm-roberta-base\")"
      ],
      "metadata": {
        "id": "TymelZYT8dHd",
        "colab": {
          "base_uri": "https://localhost:8080/",
          "height": 353,
          "referenced_widgets": [
            "3d2c3c16a2624a61b382bf5c09bb20bb",
            "fd187b70b2624942bbf55f38275e1df5",
            "c0626832fe3d44b79d4f62c36f474476",
            "fd4b334c588c4aec8e043a823393f3d0",
            "c8282190084e453bbd38d38dabb2f2d4",
            "4b3bd159325f4d8dbad4d390d2b89f0d",
            "a6e042e6c3ae40e5ac00021135381d8b",
            "8c1dd5f8a6c0434c9befb748dbb21758",
            "086a251c9cf34182a82df7741c0cb5ae",
            "55887a45e3d9462490f50afdfb2566c3",
            "efe04da7574c4ff089b3f63bc679bf78",
            "1f57b377426041399cf4e3b74e00d334",
            "16e80f79821e479fa0f4eac9d9339792",
            "610ce70b4f094bfa9c3a43b5e76f4724",
            "ea5b26e0850f4bd0b09130ff454f11cf",
            "1e2888d6f91c452490e487a03b14e95a",
            "4d56171b0cfd42db84e6057b662b7c9d",
            "78be2212f79d40bc80a17e084ad3a61b",
            "37e64ad2657f46adbe9583ddc973d4ea",
            "b80daf47a044489fa51dcae7f0371db7",
            "9b8c4512e2cc4b8f934ce17e0c6cb393",
            "a07db03d4d9a4f89ad20eb700aa16079",
            "57678ce167f8432baacaede5e95613c1",
            "9b9bb385aaa8494aa5d1b3988f1305a8",
            "c43f2f8fded9481f9e9ed79f045d9fcb",
            "be91d7eac2a746918fb0cad992d199a1",
            "3dbe3d5b92064b2d95a56769c38fe1ec",
            "d97df73c64764f229047e66af643d0bb",
            "0af1c5f8cbaa442f8df9f77bff8ac6f0",
            "d9b892bc95944617a6fceff8990ac97d",
            "ecc7f98b2fa54c1090ff0aa44cc5af4b",
            "4858d3d7378e48a99fec9e974a578fb8",
            "4ca8975f239f46c0ba23e9389c480f11",
            "08157e1bda1b4407b533cb73e35a1fb7",
            "19c4a95d2a424619b2f9f341d776a552",
            "351d96d929de4dd19d857e19602d9289",
            "80d1dace3a244e24b499f433d32f77dc",
            "e5b45793fa2148ada3aff0a5c64ed803",
            "6caff69e18f74d63b1d61a5fdbcebbea",
            "f9b5ffd552f441cbb901c83a5e665954",
            "558da2a62b4b4542a8d7a252230067d6",
            "b76ef35bdb524b269adf48209f43f906",
            "c15423326af4433098f9450fc75e635a",
            "5bea56cd58d1410ea42f49b7b1c7e771"
          ]
        },
        "outputId": "d9b10056-05c8-446a-9a71-2d9c082b629b"
      },
      "execution_count": 12,
      "outputs": [
        {
          "output_type": "stream",
          "name": "stderr",
          "text": [
            "/usr/local/lib/python3.10/dist-packages/huggingface_hub/utils/_auth.py:94: UserWarning: \n",
            "The secret `HF_TOKEN` does not exist in your Colab secrets.\n",
            "To authenticate with the Hugging Face Hub, create a token in your settings tab (https://huggingface.co/settings/tokens), set it as secret in your Google Colab and restart your session.\n",
            "You will be able to reuse this secret in all of your notebooks.\n",
            "Please note that authentication is recommended but still optional to access public models or datasets.\n",
            "  warnings.warn(\n"
          ]
        },
        {
          "output_type": "display_data",
          "data": {
            "text/plain": [
              "tokenizer_config.json:   0%|          | 0.00/25.0 [00:00<?, ?B/s]"
            ],
            "application/vnd.jupyter.widget-view+json": {
              "version_major": 2,
              "version_minor": 0,
              "model_id": "3d2c3c16a2624a61b382bf5c09bb20bb"
            }
          },
          "metadata": {}
        },
        {
          "output_type": "display_data",
          "data": {
            "text/plain": [
              "config.json:   0%|          | 0.00/615 [00:00<?, ?B/s]"
            ],
            "application/vnd.jupyter.widget-view+json": {
              "version_major": 2,
              "version_minor": 0,
              "model_id": "1f57b377426041399cf4e3b74e00d334"
            }
          },
          "metadata": {}
        },
        {
          "output_type": "display_data",
          "data": {
            "text/plain": [
              "sentencepiece.bpe.model:   0%|          | 0.00/5.07M [00:00<?, ?B/s]"
            ],
            "application/vnd.jupyter.widget-view+json": {
              "version_major": 2,
              "version_minor": 0,
              "model_id": "57678ce167f8432baacaede5e95613c1"
            }
          },
          "metadata": {}
        },
        {
          "output_type": "display_data",
          "data": {
            "text/plain": [
              "tokenizer.json:   0%|          | 0.00/9.10M [00:00<?, ?B/s]"
            ],
            "application/vnd.jupyter.widget-view+json": {
              "version_major": 2,
              "version_minor": 0,
              "model_id": "08157e1bda1b4407b533cb73e35a1fb7"
            }
          },
          "metadata": {}
        }
      ]
    },
    {
      "cell_type": "code",
      "source": [
        "encoded_input_example = tokenizer(\"Acaba sırf dünya için mi yaratılmışsın ki bütün vaktini ona sarfediyorsun?\")\n",
        "encoded_input_example"
      ],
      "metadata": {
        "colab": {
          "base_uri": "https://localhost:8080/"
        },
        "id": "D73wyet8Aykg",
        "outputId": "c94dc092-e304-4405-ed72-6baa58b34ff1"
      },
      "execution_count": 13,
      "outputs": [
        {
          "output_type": "execute_result",
          "data": {
            "text/plain": [
              "{'input_ids': [0, 197658, 6, 2540, 22206, 15027, 1099, 324, 19037, 31456, 24061, 200, 7609, 19190, 30786, 7598, 165247, 14660, 176385, 32, 2], 'attention_mask': [1, 1, 1, 1, 1, 1, 1, 1, 1, 1, 1, 1, 1, 1, 1, 1, 1, 1, 1, 1, 1]}"
            ]
          },
          "metadata": {},
          "execution_count": 13
        }
      ]
    },
    {
      "cell_type": "code",
      "source": [
        "tokenizer.decode(encoded_input_example[\"input_ids\"])"
      ],
      "metadata": {
        "colab": {
          "base_uri": "https://localhost:8080/",
          "height": 72
        },
        "id": "bMSj9hwxBHN7",
        "outputId": "75250dac-8a35-448c-b90a-6ac42d6dbb6e"
      },
      "execution_count": 14,
      "outputs": [
        {
          "output_type": "execute_result",
          "data": {
            "text/plain": [
              "'<s> Acaba sırf dünya için mi yaratılmışsın ki bütün vaktini ona sarfediyorsun?</s>'"
            ],
            "application/vnd.google.colaboratory.intrinsic+json": {
              "type": "string"
            }
          },
          "metadata": {},
          "execution_count": 14
        }
      ]
    },
    {
      "cell_type": "code",
      "source": [
        "def tokenize_function(examples):\n",
        "    return tokenizer(examples[\"text\"], padding=\"max_length\", truncation=True, max_length=512)"
      ],
      "metadata": {
        "id": "ge4S8BzSbpER"
      },
      "execution_count": 15,
      "outputs": []
    },
    {
      "cell_type": "code",
      "source": [
        "unshuffled_train_dataset = train_dataset.map(tokenize_function, batched=True)\n",
        "\n",
        "tokenized_train_dataset =unshuffled_train_dataset.shuffle(seed=42)\n",
        "tokenized_eval_dataset = eval_dataset.map(tokenize_function, batched=True)\n"
      ],
      "metadata": {
        "colab": {
          "base_uri": "https://localhost:8080/",
          "height": 129,
          "referenced_widgets": [
            "1a6b9f06a3b04365ab54045c2a489f2d",
            "20c1bd8761374181b92842732f9f7617",
            "f4ad9ad5d83e4c61840fa93662975597",
            "7aadd667c5454d1ba096200163a1c563",
            "d61552a8efab4272a1e1c49e8d5e00bc",
            "a128a6b24cf64c1e83ecf2bb0b3ca741",
            "91be4c923705448e8597bf359f1b5ae8",
            "ae1f6b9a6c5843ba950c60e32becdea8",
            "405d69fd35064d32bc2521e91cbcc2d0",
            "344a8c5196c84b26970b1ce17e6a6dd3",
            "32a7af77773c4e2da9f20b9ecbe4febd",
            "5f4dbbad01a74b87ab862535f7f1fb60",
            "227d0a75d79e40798754194a3f1b25ff",
            "fbab1df34fb54df697a85234225a1ac3",
            "c94236e7a95b4336ba9416503c197f97",
            "dcb8950b8e874f4db35a36737f65ff3e",
            "9672268cdd1347bdb888c740cdf42718",
            "fd12c5622a224290b8d9def109565463",
            "3e0be04597174cdc8fbf254f23f18f68",
            "3167141fc1c846439a5220ae145ad007",
            "50d93f7d99fc4a9a826d920d04d8fb53",
            "3d994c0007364ac2b1b6ff668964725c"
          ]
        },
        "id": "zdaJT9u_bq8g",
        "outputId": "9bb10eb2-2bff-4ce5-d2d4-6bffec7a7103"
      },
      "execution_count": 16,
      "outputs": [
        {
          "output_type": "display_data",
          "data": {
            "text/plain": [
              "Map:   0%|          | 0/12910 [00:00<?, ? examples/s]"
            ],
            "application/vnd.jupyter.widget-view+json": {
              "version_major": 2,
              "version_minor": 0,
              "model_id": "1a6b9f06a3b04365ab54045c2a489f2d"
            }
          },
          "metadata": {}
        },
        {
          "output_type": "display_data",
          "data": {
            "text/plain": [
              "Map:   0%|          | 0/1614 [00:00<?, ? examples/s]"
            ],
            "application/vnd.jupyter.widget-view+json": {
              "version_major": 2,
              "version_minor": 0,
              "model_id": "5f4dbbad01a74b87ab862535f7f1fb60"
            }
          },
          "metadata": {}
        }
      ]
    },
    {
      "cell_type": "code",
      "source": [
        "tokenized_train_dataset.column_names"
      ],
      "metadata": {
        "colab": {
          "base_uri": "https://localhost:8080/"
        },
        "id": "Ug9DV_NoBAUz",
        "outputId": "fe1adc3a-afb4-436d-b72d-a1a8c93f9c47"
      },
      "execution_count": 17,
      "outputs": [
        {
          "output_type": "execute_result",
          "data": {
            "text/plain": [
              "['id',\n",
              " 'speaker',\n",
              " 'sex',\n",
              " 'text',\n",
              " 'text_en',\n",
              " 'label',\n",
              " '__index_level_0__',\n",
              " 'input_ids',\n",
              " 'attention_mask']"
            ]
          },
          "metadata": {},
          "execution_count": 17
        }
      ]
    },
    {
      "cell_type": "markdown",
      "source": [
        "Start Pre-Training using Hugging-Face Transformers"
      ],
      "metadata": {
        "id": "6_e7CEM9aUaM"
      }
    },
    {
      "cell_type": "code",
      "source": [
        "from transformers import AutoModelForSequenceClassification\n",
        "\n",
        "model = AutoModelForSequenceClassification.from_pretrained(\"xlm-roberta-base\", num_labels=2, torch_dtype=\"auto\")"
      ],
      "metadata": {
        "colab": {
          "base_uri": "https://localhost:8080/"
        },
        "id": "qN9msh2DaddD",
        "outputId": "6259cf57-3b14-4257-8ec2-3d57e77ee2e4"
      },
      "execution_count": 31,
      "outputs": [
        {
          "output_type": "stream",
          "name": "stderr",
          "text": [
            "Some weights of XLMRobertaForSequenceClassification were not initialized from the model checkpoint at xlm-roberta-base and are newly initialized: ['classifier.dense.bias', 'classifier.dense.weight', 'classifier.out_proj.bias', 'classifier.out_proj.weight']\n",
            "You should probably TRAIN this model on a down-stream task to be able to use it for predictions and inference.\n"
          ]
        }
      ]
    },
    {
      "cell_type": "code",
      "source": [
        "from transformers import TrainingArguments\n",
        "batch_size = 32\n",
        "grad_acc_steps = 4\n",
        "num_epochs = 3\n",
        "training_args = TrainingArguments(\n",
        "    output_dir=\"./test_trainer\",\n",
        "    eval_strategy=\"steps\",\n",
        "    logging_strategy=\"steps\",\n",
        "    save_strategy=\"steps\",\n",
        "    logging_steps=20,\n",
        "    eval_steps=20,\n",
        "    save_total_limit=3,\n",
        "    learning_rate=2e-5,\n",
        "    per_device_train_batch_size=batch_size,\n",
        "    per_device_eval_batch_size=16,\n",
        "    gradient_accumulation_steps=grad_acc_steps,\n",
        "    num_train_epochs=num_epochs,\n",
        "    warmup_ratio=0.1,\n",
        "    #warmup_steps=int(0.1* 12910/(batch_size*grad_acc_steps/num_epochs)),\n",
        "    weight_decay=0.01,\n",
        "    fp16=True,\n",
        "    load_best_model_at_end=True,\n",
        "    metric_for_best_model=\"accuracy\",\n",
        "    greater_is_better=True,\n",
        "    report_to=\"none\",  # Disable reporting to external platforms\n",
        ")\n"
      ],
      "metadata": {
        "id": "Zc4c2NElbMlw"
      },
      "execution_count": 32,
      "outputs": []
    },
    {
      "cell_type": "markdown",
      "source": [
        "# Evaluate"
      ],
      "metadata": {
        "id": "8DwsZLTHgJ5b"
      }
    },
    {
      "cell_type": "code",
      "source": [
        "!pip install evaluate"
      ],
      "metadata": {
        "colab": {
          "base_uri": "https://localhost:8080/"
        },
        "collapsed": true,
        "id": "1waBePx1gcvN",
        "outputId": "85b90656-be1c-4431-ca8f-d7c50841fc4f"
      },
      "execution_count": 20,
      "outputs": [
        {
          "output_type": "stream",
          "name": "stdout",
          "text": [
            "Collecting evaluate\n",
            "  Downloading evaluate-0.4.3-py3-none-any.whl.metadata (9.2 kB)\n",
            "Requirement already satisfied: datasets>=2.0.0 in /usr/local/lib/python3.10/dist-packages (from evaluate) (3.2.0)\n",
            "Requirement already satisfied: numpy>=1.17 in /usr/local/lib/python3.10/dist-packages (from evaluate) (1.26.4)\n",
            "Requirement already satisfied: dill in /usr/local/lib/python3.10/dist-packages (from evaluate) (0.3.8)\n",
            "Requirement already satisfied: pandas in /usr/local/lib/python3.10/dist-packages (from evaluate) (2.2.2)\n",
            "Requirement already satisfied: requests>=2.19.0 in /usr/local/lib/python3.10/dist-packages (from evaluate) (2.32.3)\n",
            "Requirement already satisfied: tqdm>=4.62.1 in /usr/local/lib/python3.10/dist-packages (from evaluate) (4.67.1)\n",
            "Requirement already satisfied: xxhash in /usr/local/lib/python3.10/dist-packages (from evaluate) (3.5.0)\n",
            "Requirement already satisfied: multiprocess in /usr/local/lib/python3.10/dist-packages (from evaluate) (0.70.16)\n",
            "Requirement already satisfied: fsspec>=2021.05.0 in /usr/local/lib/python3.10/dist-packages (from fsspec[http]>=2021.05.0->evaluate) (2024.9.0)\n",
            "Requirement already satisfied: huggingface-hub>=0.7.0 in /usr/local/lib/python3.10/dist-packages (from evaluate) (0.27.0)\n",
            "Requirement already satisfied: packaging in /usr/local/lib/python3.10/dist-packages (from evaluate) (24.2)\n",
            "Requirement already satisfied: filelock in /usr/local/lib/python3.10/dist-packages (from datasets>=2.0.0->evaluate) (3.16.1)\n",
            "Requirement already satisfied: pyarrow>=15.0.0 in /usr/local/lib/python3.10/dist-packages (from datasets>=2.0.0->evaluate) (17.0.0)\n",
            "Requirement already satisfied: aiohttp in /usr/local/lib/python3.10/dist-packages (from datasets>=2.0.0->evaluate) (3.11.10)\n",
            "Requirement already satisfied: pyyaml>=5.1 in /usr/local/lib/python3.10/dist-packages (from datasets>=2.0.0->evaluate) (6.0.2)\n",
            "Requirement already satisfied: typing-extensions>=3.7.4.3 in /usr/local/lib/python3.10/dist-packages (from huggingface-hub>=0.7.0->evaluate) (4.12.2)\n",
            "Requirement already satisfied: charset-normalizer<4,>=2 in /usr/local/lib/python3.10/dist-packages (from requests>=2.19.0->evaluate) (3.4.0)\n",
            "Requirement already satisfied: idna<4,>=2.5 in /usr/local/lib/python3.10/dist-packages (from requests>=2.19.0->evaluate) (3.10)\n",
            "Requirement already satisfied: urllib3<3,>=1.21.1 in /usr/local/lib/python3.10/dist-packages (from requests>=2.19.0->evaluate) (2.2.3)\n",
            "Requirement already satisfied: certifi>=2017.4.17 in /usr/local/lib/python3.10/dist-packages (from requests>=2.19.0->evaluate) (2024.12.14)\n",
            "Requirement already satisfied: python-dateutil>=2.8.2 in /usr/local/lib/python3.10/dist-packages (from pandas->evaluate) (2.8.2)\n",
            "Requirement already satisfied: pytz>=2020.1 in /usr/local/lib/python3.10/dist-packages (from pandas->evaluate) (2024.2)\n",
            "Requirement already satisfied: tzdata>=2022.7 in /usr/local/lib/python3.10/dist-packages (from pandas->evaluate) (2024.2)\n",
            "Requirement already satisfied: aiohappyeyeballs>=2.3.0 in /usr/local/lib/python3.10/dist-packages (from aiohttp->datasets>=2.0.0->evaluate) (2.4.4)\n",
            "Requirement already satisfied: aiosignal>=1.1.2 in /usr/local/lib/python3.10/dist-packages (from aiohttp->datasets>=2.0.0->evaluate) (1.3.2)\n",
            "Requirement already satisfied: async-timeout<6.0,>=4.0 in /usr/local/lib/python3.10/dist-packages (from aiohttp->datasets>=2.0.0->evaluate) (4.0.3)\n",
            "Requirement already satisfied: attrs>=17.3.0 in /usr/local/lib/python3.10/dist-packages (from aiohttp->datasets>=2.0.0->evaluate) (24.3.0)\n",
            "Requirement already satisfied: frozenlist>=1.1.1 in /usr/local/lib/python3.10/dist-packages (from aiohttp->datasets>=2.0.0->evaluate) (1.5.0)\n",
            "Requirement already satisfied: multidict<7.0,>=4.5 in /usr/local/lib/python3.10/dist-packages (from aiohttp->datasets>=2.0.0->evaluate) (6.1.0)\n",
            "Requirement already satisfied: propcache>=0.2.0 in /usr/local/lib/python3.10/dist-packages (from aiohttp->datasets>=2.0.0->evaluate) (0.2.1)\n",
            "Requirement already satisfied: yarl<2.0,>=1.17.0 in /usr/local/lib/python3.10/dist-packages (from aiohttp->datasets>=2.0.0->evaluate) (1.18.3)\n",
            "Requirement already satisfied: six>=1.5 in /usr/local/lib/python3.10/dist-packages (from python-dateutil>=2.8.2->pandas->evaluate) (1.17.0)\n",
            "Downloading evaluate-0.4.3-py3-none-any.whl (84 kB)\n",
            "\u001b[2K   \u001b[90m━━━━━━━━━━━━━━━━━━━━━━━━━━━━━━━━━━━━━━━━\u001b[0m \u001b[32m84.0/84.0 kB\u001b[0m \u001b[31m7.6 MB/s\u001b[0m eta \u001b[36m0:00:00\u001b[0m\n",
            "\u001b[?25hInstalling collected packages: evaluate\n",
            "Successfully installed evaluate-0.4.3\n"
          ]
        }
      ]
    },
    {
      "cell_type": "code",
      "source": [
        "import numpy as np\n",
        "import evaluate"
      ],
      "metadata": {
        "id": "tHlh30SqgPWW"
      },
      "execution_count": 21,
      "outputs": []
    },
    {
      "cell_type": "code",
      "source": [
        "metric = evaluate.load(\"accuracy\")"
      ],
      "metadata": {
        "id": "ygi4dofDgTTO",
        "colab": {
          "base_uri": "https://localhost:8080/",
          "height": 97,
          "referenced_widgets": [
            "b95d3854697d4300b0a86e551e17f74a",
            "a9e3244467ff44e5a725052cca5a30d8",
            "b09c395dacd14f5198d6c9b80c08f9f3",
            "86a6807320b84fb89e572cdcc02ee553",
            "7eb55fbfdfe9426b9d3656292c6d5148",
            "7ecdbcb6c8584c7e8aab99edc7e498db",
            "56096b22f4e742a0ba5665bb7e330f31",
            "1599eb7c4fb946bdb50ccce3feeb95a8",
            "ab4b177d643148bfbc3d2ceb9525d4e0",
            "5a659a96bce74bfea477255636716a42",
            "6feb43041f744899ac9ab681559417f6"
          ]
        },
        "outputId": "e711b991-5fca-4211-de87-5059293ec29f"
      },
      "execution_count": 22,
      "outputs": [
        {
          "output_type": "display_data",
          "data": {
            "text/plain": [
              "Downloading builder script:   0%|          | 0.00/4.20k [00:00<?, ?B/s]"
            ],
            "application/vnd.jupyter.widget-view+json": {
              "version_major": 2,
              "version_minor": 0,
              "model_id": "b95d3854697d4300b0a86e551e17f74a"
            }
          },
          "metadata": {}
        }
      ]
    },
    {
      "cell_type": "code",
      "source": [
        "from sklearn.metrics import f1_score\n",
        "\n",
        "def compute_metrics(eval_pred):\n",
        "    logits, labels = eval_pred\n",
        "    predictions = np.argmax(logits, axis=-1)\n",
        "    accuracy = metric.compute(predictions=predictions, references=labels)[\"accuracy\"]\n",
        "    f1 = f1_score(labels, predictions, average=\"binary\")\n",
        "    return {\"accuracy\": accuracy, \"f1\": f1}"
      ],
      "metadata": {
        "id": "LTNATr5Mgtnm"
      },
      "execution_count": 23,
      "outputs": []
    },
    {
      "cell_type": "markdown",
      "source": [
        "# Trainer"
      ],
      "metadata": {
        "id": "trVbxPf0g5JO"
      }
    },
    {
      "cell_type": "code",
      "source": [
        "from transformers import Trainer\n",
        "from transformers import EarlyStoppingCallback\n",
        "from transformers import TrainerCallback"
      ],
      "metadata": {
        "id": "oitQ6SgQhMBd"
      },
      "execution_count": 24,
      "outputs": []
    },
    {
      "cell_type": "code",
      "source": [
        "class LearningRateAndEvalLogger(TrainerCallback):\n",
        "    def on_evaluate(self, args, state, control, metrics=None, **kwargs):\n",
        "        # Log evaluation metrics\n",
        "        print(f\"Step {state.global_step}: Evaluation Metrics: {metrics}\")\n",
        "\n",
        "        # Log the current learning rate\n",
        "        if state.global_step > 0 and kwargs.get(\"optimizer\"):\n",
        "            lr = kwargs[\"optimizer\"].param_groups[0][\"lr\"]\n",
        "            print(f\"Step {state.global_step}: Learning Rate = {lr:.8f}\")\n"
      ],
      "metadata": {
        "id": "vkEgZGw3piTW"
      },
      "execution_count": 25,
      "outputs": []
    },
    {
      "cell_type": "code",
      "source": [
        "trainer = Trainer(\n",
        "   model=model,\n",
        "   args=training_args,\n",
        "   train_dataset=tokenized_train_dataset,\n",
        "   eval_dataset=tokenized_eval_dataset,\n",
        "   compute_metrics=compute_metrics,\n",
        "   callbacks=[LearningRateAndEvalLogger(), EarlyStoppingCallback(early_stopping_patience=3)],\n",
        ")"
      ],
      "metadata": {
        "id": "YmP13aQ5gwAp"
      },
      "execution_count": 33,
      "outputs": []
    },
    {
      "cell_type": "code",
      "source": [
        "#Example\n",
        "example = tokenized_eval_dataset[0]\n",
        "print(\"Example:\", example)"
      ],
      "metadata": {
        "colab": {
          "base_uri": "https://localhost:8080/"
        },
        "id": "CE8rb1xXEqjP",
        "outputId": "7e42ca53-949b-4728-abb3-c7a92c08d62f"
      },
      "execution_count": 27,
      "outputs": [
        {
          "output_type": "stream",
          "name": "stdout",
          "text": [
            "Example: {'id': 'tr00364', 'speaker': '30ccc244320121d404dc28d8fca64643', 'sex': 'M', 'text': \"Evet, acemiyiz biz siyasette, yeni başladık. Allah razı olsun. <p> Günümüzde, insanlar bilgiyi arıyorlar ama hikmeti hiç kimse aramıyor. Hikmet aslında müminin yitik malıdır ve insan bilgi toplayabilen, alet kullanabilen bir varlıktır ve insanlar kurumlar oluşturdular, bu kurumlar içerisinde nelerin öğrenilebileceği konusunda çalışmalar yaptılar, bunları kimin öğretebileceği noktasında birtakım kurallar koydular ve bu öğretilen şeylerin de kime aktarılacağı konusunda da kararlar verdiler ama bir şeyi unuttular, insan gerçeğini ve herkes kendi yaşam felsefesine göre insan şekillendirmeye çalıştı. Oysa insanın doğuştan getirmiş olduğu birtakım temel hakları noktasında bakıldığında eğitim ve öğretimin ve yine insanlığın geliştirmiş olduğu devletin ve kurumların, bu kurumların insanın, her bir bireyinin bu haklarını koruma ve bu noktada, eğitim hakkı noktasında da onun isteklerini göz önünde bulundurmak durumundaydı. 32 yılından 50 yılına kadar bu ülkede birtakım yasaklar yaşandı, 28 Şubat sürecinde bu ülkede birtakım sıkıntılar yaşandı, çok şükür bunları yavaş yavaş aşıyoruz, bunları yavaş yavaş aşıyoruz çünkü bizim milletimiz farklı bir millet. Yolda araçla seyrederken karşıdaki birtakım şoförlerin size selektör yaptığını görürsünüz, sizi uyarırlar, derler ki: “Hızını kes, ileride trafik polisi var.” Bu, bizim milletimize has bir özelliktir, bunu anlayabilmek lazım, bunu kavrayabilmek lazım. <p> Bu milletin özelliklerini anlamak ve ona göre bu milletin sahip olmuş olduğu değerler çerçevesinde bir eğitim vermek lazım. <p> Şimdi, geçen aylarda güzel şeyler yapıldı, kat sayı kaldırıldı, on iki yaş uygulaması Kur'an öğretimi konusunda kaldırıldı. Bunlar bu milletin on üç yıldır on beş yıldır hep dua ettiği, gözyaşı döktüğü, insanlarımızın, çocuklarımızın gözyaşı döktüğü alanlardı. İnsan Hristiyan olabilir, Yahudi olabilir, farklı bir inanca sahip olabilir, hiçbir inancı da olmayabilir ama bu ülkenin Müslüman çocuklarından ve Müslüman halklarından eğitim noktasında birileri artık elini çeksin, çekmesi gerekiyor, ülke huzuru için, ülke barışı için bunlar gerekiyor. <p> Ana dilde eğitim konusu gündeme getiriliyor. Düzce’de on dört ayrı dil konuşuluyor, on dört ayrı dil. Saidi Kürdi ne güzel söylemiş “Arapça farz, Türkçe vacip, Kürtçe de caiz.” demiş. Bu ülkenin millî değerlerine sahip çıkmak lazım. Bu ülkenin resmî dili Türkçedir…\", 'text_en': 'Yeah, we\\'re rookies in politics, we\\'re just getting started. God bless you. <p> Nowadays, people are looking for information, but no one is looking for wisdom. Wisdom is actually the loss of the believer, and it\\'s an entity that collects human knowledge, it can use tools, and people have created institutions, they\\'ve studied what can be learned within these institutions, they\\'ve set rules on who can teach them, and they\\'ve made decisions on who to pass these things on to, but they\\'ve forgotten one thing, human truth and everyone has tried to shape people according to their own philosophy of life. However, at a certain point of human rights, education and education, and the state and institutions of which humanity had developed, at which point each individual of these institutions had to maintain these rights, and at this point, at the point of education, he had to consider his rights. From 32 to 50, there have been some prohibitions in this country, during the 28th of February, there have been some difficulties in this country, thank God we\\'re getting through them slowly, we\\'re gradually over them because our nation is a different nation. When you\\'re driving on the road, you see some of the drivers across the street, they warn you, they say, \"Stop moving, there\\'s a traffic cop ahead. It\\'s a feature of our nation, you have to understand that, you have to understand that. <p> We need to understand the characteristics of this nation and give it an education in terms of the values that this nation has. <p> Now, good things have been done in the past few months, multiple numbers have been removed, 12-year-old practice has been removed from teaching the Koran. These are the areas where this nation has prayed, shed tears, and shed tears for thirteen years, and our people, and our children. Man may be a Christian, he may be a Jew, he may have a different faith, he may not have any faith, but at the point of education from Muslim children and Muslim people in this country, someone has to take his hand away, for peace of the country, for peace, for peace of the country, that\\'s what it takes. <p> The subject of primary language education is being brought up. 14 different languages are spoken in a straight language, 14 different languages. Saidi Kurdi said, \"How well did he say in Arabic?\" He said, \"It\\'s Turkish, it\\'s Turkish, it\\'s Kurdish.\" You have to keep this country\\'s national values. The official language of this country is Turkish...', 'label': 1, '__index_level_0__': 364, 'input_ids': [0, 116005, 4, 1030, 24034, 82422, 7124, 57775, 67, 4, 3152, 21926, 92, 5, 2207, 75289, 17711, 5, 4426, 254, 2740, 213101, 4, 24526, 16979, 2387, 187, 168370, 2527, 6, 69374, 40458, 22614, 46137, 5689, 62316, 5, 2673, 92, 1928, 78618, 8626, 1249, 73, 113, 57450, 6, 45423, 173, 8371, 16979, 2663, 23987, 73892, 4, 662, 18, 17005, 24951, 19, 263, 285, 4355, 11701, 173, 24526, 52022, 320, 24533, 693, 320, 4, 373, 52022, 320, 28365, 108, 4670, 37196, 379, 108478, 27125, 80470, 38837, 320, 4, 107358, 5238, 19, 162741, 108478, 138922, 1127, 263, 1865, 9984, 11908, 24822, 177943, 320, 173, 373, 162741, 10739, 49784, 73, 8, 200, 282, 86127, 175639, 27125, 48, 23659, 320, 15031, 603, 2527, 263, 61853, 51, 108957, 320, 4, 8371, 4155, 7731, 124316, 173, 65907, 11837, 38729, 183779, 14186, 8124, 8371, 133382, 95391, 1033, 93848, 5, 19281, 433, 61371, 95388, 1759, 1076, 22249, 7050, 5555, 263, 1865, 9984, 41599, 150705, 138922, 1127, 3472, 65247, 1127, 21103, 173, 6, 79287, 73, 173, 34299, 8371, 50420, 49762, 7050, 5555, 187721, 173, 52022, 2238, 4, 373, 52022, 2238, 61371, 4, 604, 263, 263, 7460, 3266, 373, 9796, 4242, 81335, 173, 373, 146019, 4, 21103, 96933, 138922, 1127, 48, 9826, 443, 343, 7339, 14590, 84134, 42095, 42, 2327, 113967, 49318, 5, 2789, 17478, 19, 836, 99778, 11, 3301, 373, 118385, 263, 1865, 9984, 159331, 320, 24654, 19, 5625, 4, 1372, 81752, 62517, 1067, 373, 118385, 263, 1865, 9984, 91509, 320, 24654, 19, 5625, 4, 2162, 6, 80213, 74870, 107358, 104757, 104757, 49940, 63597, 4, 107358, 104757, 104757, 49940, 63597, 76841, 17296, 8058, 18, 8559, 14818, 263, 8058, 18, 5, 50529, 85, 61516, 143, 40, 53, 2822, 82218, 9164, 13255, 263, 1865, 9984, 38768, 5433, 4670, 13267, 34894, 80083, 23681, 4920, 86691, 7, 138767, 4, 53584, 120212, 40204, 4, 122, 603, 200, 12, 52, 841, 32179, 4644, 2820, 4, 110556, 112, 27431, 30026, 285, 974, 667, 4, 17296, 8058, 18, 77651, 1556, 263, 16150, 597, 2826, 4, 15013, 142, 5259, 99958, 38763, 4, 15013, 54175, 7092, 99958, 38763, 5, 4426, 254, 2740, 667, 8058, 2311, 89884, 93, 142, 48307, 173, 7598, 8124, 373, 8058, 2311, 13980, 26792, 5555, 58608, 603, 176194, 263, 21103, 73687, 38763, 5, 4426, 254, 2740, 69926, 4, 33941, 537, 3793, 10577, 49784, 105395, 4, 3133, 21897, 53307, 20685, 4, 98, 2209, 27694, 123085, 5375, 25, 66, 6, 79287, 14, 27125, 53307, 20685, 5, 100633, 373, 8058, 2311, 98, 25286, 105159, 98, 40925, 105159, 30368, 4981, 42208, 4, 14590, 395, 26299, 101161, 26167, 101636, 4, 8371, 85048, 4, 36622, 85048, 14590, 395, 26299, 101161, 26167, 101636, 10905, 81982, 5, 39070, 572, 39977, 1643, 29247, 4, 97649, 29247, 4, 14818, 263, 23, 27796, 13980, 29247, 4, 39236, 231072, 48, 19310, 53, 21767, 2527, 373, 140418, 117251, 126185, 549, 173, 117251, 64980, 12932, 21103, 138922, 1127, 7479, 1341, 32701, 88, 943, 21622, 1596, 4, 130547, 172, 57071, 4, 45263, 66842, 34, 1099, 4, 45263, 1909, 32235, 1099, 45549, 57071, 5, 4426, 254, 2740, 5710, 9605, 112, 21103, 41257, 113117, 13, 22249, 96434, 5, 80692, 329, 26, 112, 98, 87080, 21120, 2], 'attention_mask': [1, 1, 1, 1, 1, 1, 1, 1, 1, 1, 1, 1, 1, 1, 1, 1, 1, 1, 1, 1, 1, 1, 1, 1, 1, 1, 1, 1, 1, 1, 1, 1, 1, 1, 1, 1, 1, 1, 1, 1, 1, 1, 1, 1, 1, 1, 1, 1, 1, 1, 1, 1, 1, 1, 1, 1, 1, 1, 1, 1, 1, 1, 1, 1, 1, 1, 1, 1, 1, 1, 1, 1, 1, 1, 1, 1, 1, 1, 1, 1, 1, 1, 1, 1, 1, 1, 1, 1, 1, 1, 1, 1, 1, 1, 1, 1, 1, 1, 1, 1, 1, 1, 1, 1, 1, 1, 1, 1, 1, 1, 1, 1, 1, 1, 1, 1, 1, 1, 1, 1, 1, 1, 1, 1, 1, 1, 1, 1, 1, 1, 1, 1, 1, 1, 1, 1, 1, 1, 1, 1, 1, 1, 1, 1, 1, 1, 1, 1, 1, 1, 1, 1, 1, 1, 1, 1, 1, 1, 1, 1, 1, 1, 1, 1, 1, 1, 1, 1, 1, 1, 1, 1, 1, 1, 1, 1, 1, 1, 1, 1, 1, 1, 1, 1, 1, 1, 1, 1, 1, 1, 1, 1, 1, 1, 1, 1, 1, 1, 1, 1, 1, 1, 1, 1, 1, 1, 1, 1, 1, 1, 1, 1, 1, 1, 1, 1, 1, 1, 1, 1, 1, 1, 1, 1, 1, 1, 1, 1, 1, 1, 1, 1, 1, 1, 1, 1, 1, 1, 1, 1, 1, 1, 1, 1, 1, 1, 1, 1, 1, 1, 1, 1, 1, 1, 1, 1, 1, 1, 1, 1, 1, 1, 1, 1, 1, 1, 1, 1, 1, 1, 1, 1, 1, 1, 1, 1, 1, 1, 1, 1, 1, 1, 1, 1, 1, 1, 1, 1, 1, 1, 1, 1, 1, 1, 1, 1, 1, 1, 1, 1, 1, 1, 1, 1, 1, 1, 1, 1, 1, 1, 1, 1, 1, 1, 1, 1, 1, 1, 1, 1, 1, 1, 1, 1, 1, 1, 1, 1, 1, 1, 1, 1, 1, 1, 1, 1, 1, 1, 1, 1, 1, 1, 1, 1, 1, 1, 1, 1, 1, 1, 1, 1, 1, 1, 1, 1, 1, 1, 1, 1, 1, 1, 1, 1, 1, 1, 1, 1, 1, 1, 1, 1, 1, 1, 1, 1, 1, 1, 1, 1, 1, 1, 1, 1, 1, 1, 1, 1, 1, 1, 1, 1, 1, 1, 1, 1, 1, 1, 1, 1, 1, 1, 1, 1, 1, 1, 1, 1, 1, 1, 1, 1, 1, 1, 1, 1, 1, 1, 1, 1, 1, 1, 1, 1, 1, 1, 1, 1, 1, 1, 1, 1, 1, 1, 1, 1, 1, 1, 1, 1, 1, 1, 1, 1, 1, 1, 1, 1, 1, 1, 1, 1, 1, 1, 1, 1, 1, 1, 1, 1, 1, 1, 1, 1, 1, 1, 1, 1, 1, 1, 1, 1, 1, 1, 1, 1, 1, 1, 1, 1, 1, 1, 1, 1, 1, 1, 1, 1, 1, 1, 1, 1, 1, 1, 1, 1, 1, 1, 1, 1, 1, 1, 1, 1, 1, 1, 1, 1, 1, 1, 1, 1]}\n"
          ]
        }
      ]
    },
    {
      "cell_type": "code",
      "source": [
        "eval_results = trainer.evaluate()\n",
        "print(eval_results)  # Includes the accuracy metric"
      ],
      "metadata": {
        "colab": {
          "base_uri": "https://localhost:8080/",
          "height": 92
        },
        "id": "o5rgYUkdExh_",
        "outputId": "a7f33a24-86c1-40a0-c26d-9a63c08851a2"
      },
      "execution_count": 28,
      "outputs": [
        {
          "output_type": "display_data",
          "data": {
            "text/plain": [
              "<IPython.core.display.HTML object>"
            ],
            "text/html": [
              "\n",
              "    <div>\n",
              "      \n",
              "      <progress value='101' max='101' style='width:300px; height:20px; vertical-align: middle;'></progress>\n",
              "      [101/101 00:21]\n",
              "    </div>\n",
              "    "
            ]
          },
          "metadata": {}
        },
        {
          "output_type": "stream",
          "name": "stdout",
          "text": [
            "Step 0: Evaluation Metrics: {'eval_loss': 0.7093297243118286, 'eval_model_preparation_time': 0.0035, 'eval_accuracy': 0.41821561338289964, 'eval_f1': 0.0, 'eval_runtime': 22.5488, 'eval_samples_per_second': 71.578, 'eval_steps_per_second': 4.479}\n",
            "{'eval_loss': 0.7093297243118286, 'eval_model_preparation_time': 0.0035, 'eval_accuracy': 0.41821561338289964, 'eval_f1': 0.0, 'eval_runtime': 22.5488, 'eval_samples_per_second': 71.578, 'eval_steps_per_second': 4.479}\n"
          ]
        }
      ]
    },
    {
      "cell_type": "code",
      "source": [
        "trainer.train()"
      ],
      "metadata": {
        "colab": {
          "base_uri": "https://localhost:8080/",
          "height": 1000
        },
        "id": "O58npc-Om-ho",
        "outputId": "44887ae7-9e42-4ecf-fb22-bdfd0a731cc7"
      },
      "execution_count": 34,
      "outputs": [
        {
          "output_type": "display_data",
          "data": {
            "text/plain": [
              "<IPython.core.display.HTML object>"
            ],
            "text/html": [
              "\n",
              "    <div>\n",
              "      \n",
              "      <progress value='300' max='303' style='width:300px; height:20px; vertical-align: middle;'></progress>\n",
              "      [300/303 11:16 < 00:06, 0.44 it/s, Epoch 2/3]\n",
              "    </div>\n",
              "    <table border=\"1\" class=\"dataframe\">\n",
              "  <thead>\n",
              " <tr style=\"text-align: left;\">\n",
              "      <th>Step</th>\n",
              "      <th>Training Loss</th>\n",
              "      <th>Validation Loss</th>\n",
              "      <th>Accuracy</th>\n",
              "      <th>F1</th>\n",
              "    </tr>\n",
              "  </thead>\n",
              "  <tbody>\n",
              "    <tr>\n",
              "      <td>20</td>\n",
              "      <td>2.777400</td>\n",
              "      <td>0.654759</td>\n",
              "      <td>0.581784</td>\n",
              "      <td>0.735605</td>\n",
              "    </tr>\n",
              "    <tr>\n",
              "      <td>40</td>\n",
              "      <td>2.568800</td>\n",
              "      <td>0.600782</td>\n",
              "      <td>0.581784</td>\n",
              "      <td>0.735605</td>\n",
              "    </tr>\n",
              "    <tr>\n",
              "      <td>60</td>\n",
              "      <td>2.409100</td>\n",
              "      <td>0.487165</td>\n",
              "      <td>0.781289</td>\n",
              "      <td>0.789505</td>\n",
              "    </tr>\n",
              "    <tr>\n",
              "      <td>80</td>\n",
              "      <td>2.127200</td>\n",
              "      <td>0.442204</td>\n",
              "      <td>0.794300</td>\n",
              "      <td>0.839458</td>\n",
              "    </tr>\n",
              "    <tr>\n",
              "      <td>100</td>\n",
              "      <td>1.902900</td>\n",
              "      <td>0.402273</td>\n",
              "      <td>0.822181</td>\n",
              "      <td>0.852745</td>\n",
              "    </tr>\n",
              "    <tr>\n",
              "      <td>120</td>\n",
              "      <td>1.890300</td>\n",
              "      <td>0.395287</td>\n",
              "      <td>0.815985</td>\n",
              "      <td>0.852752</td>\n",
              "    </tr>\n",
              "    <tr>\n",
              "      <td>140</td>\n",
              "      <td>1.714700</td>\n",
              "      <td>0.353966</td>\n",
              "      <td>0.848823</td>\n",
              "      <td>0.867965</td>\n",
              "    </tr>\n",
              "    <tr>\n",
              "      <td>160</td>\n",
              "      <td>1.738100</td>\n",
              "      <td>0.389349</td>\n",
              "      <td>0.814746</td>\n",
              "      <td>0.854359</td>\n",
              "    </tr>\n",
              "    <tr>\n",
              "      <td>180</td>\n",
              "      <td>1.618600</td>\n",
              "      <td>0.363312</td>\n",
              "      <td>0.857497</td>\n",
              "      <td>0.871508</td>\n",
              "    </tr>\n",
              "    <tr>\n",
              "      <td>200</td>\n",
              "      <td>1.503200</td>\n",
              "      <td>0.348223</td>\n",
              "      <td>0.853160</td>\n",
              "      <td>0.863085</td>\n",
              "    </tr>\n",
              "    <tr>\n",
              "      <td>220</td>\n",
              "      <td>1.367400</td>\n",
              "      <td>0.345323</td>\n",
              "      <td>0.862454</td>\n",
              "      <td>0.875281</td>\n",
              "    </tr>\n",
              "    <tr>\n",
              "      <td>240</td>\n",
              "      <td>1.404100</td>\n",
              "      <td>0.314418</td>\n",
              "      <td>0.864932</td>\n",
              "      <td>0.879558</td>\n",
              "    </tr>\n",
              "    <tr>\n",
              "      <td>260</td>\n",
              "      <td>1.334800</td>\n",
              "      <td>0.317313</td>\n",
              "      <td>0.863693</td>\n",
              "      <td>0.880565</td>\n",
              "    </tr>\n",
              "    <tr>\n",
              "      <td>280</td>\n",
              "      <td>1.398100</td>\n",
              "      <td>0.311740</td>\n",
              "      <td>0.863073</td>\n",
              "      <td>0.879826</td>\n",
              "    </tr>\n",
              "    <tr>\n",
              "      <td>300</td>\n",
              "      <td>1.348800</td>\n",
              "      <td>0.310867</td>\n",
              "      <td>0.864312</td>\n",
              "      <td>0.879736</td>\n",
              "    </tr>\n",
              "  </tbody>\n",
              "</table><p>"
            ]
          },
          "metadata": {}
        },
        {
          "output_type": "stream",
          "name": "stdout",
          "text": [
            "Step 20: Evaluation Metrics: {'eval_loss': 0.6547585129737854, 'eval_accuracy': 0.5817843866171004, 'eval_f1': 0.7356051703877791, 'eval_runtime': 6.5795, 'eval_samples_per_second': 245.306, 'eval_steps_per_second': 15.351, 'epoch': 0.19801980198019803}\n",
            "Step 20: Learning Rate = 0.00001161\n",
            "Step 40: Evaluation Metrics: {'eval_loss': 0.6007817387580872, 'eval_accuracy': 0.5817843866171004, 'eval_f1': 0.7356051703877791, 'eval_runtime': 6.5191, 'eval_samples_per_second': 247.58, 'eval_steps_per_second': 15.493, 'epoch': 0.39603960396039606}\n",
            "Step 40: Learning Rate = 0.00001949\n",
            "Step 60: Evaluation Metrics: {'eval_loss': 0.4871652126312256, 'eval_accuracy': 0.7812887236679058, 'eval_f1': 0.789505068574836, 'eval_runtime': 6.5491, 'eval_samples_per_second': 246.444, 'eval_steps_per_second': 15.422, 'epoch': 0.594059405940594}\n",
            "Step 60: Learning Rate = 0.00001801\n",
            "Step 80: Evaluation Metrics: {'eval_loss': 0.4422040581703186, 'eval_accuracy': 0.7942998760842627, 'eval_f1': 0.839458413926499, 'eval_runtime': 6.5449, 'eval_samples_per_second': 246.602, 'eval_steps_per_second': 15.432, 'epoch': 0.7920792079207921}\n",
            "Step 80: Learning Rate = 0.00001669\n",
            "Step 100: Evaluation Metrics: {'eval_loss': 0.4022732675075531, 'eval_accuracy': 0.822180916976456, 'eval_f1': 0.8527449974345819, 'eval_runtime': 6.5529, 'eval_samples_per_second': 246.305, 'eval_steps_per_second': 15.413, 'epoch': 0.9900990099009901}\n",
            "Step 100: Learning Rate = 0.00001522\n",
            "Step 120: Evaluation Metrics: {'eval_loss': 0.395286500453949, 'eval_accuracy': 0.8159851301115242, 'eval_f1': 0.8527516113039167, 'eval_runtime': 6.548, 'eval_samples_per_second': 246.486, 'eval_steps_per_second': 15.424, 'epoch': 1.188118811881188}\n",
            "Step 120: Learning Rate = 0.00001375\n",
            "Step 140: Evaluation Metrics: {'eval_loss': 0.35396626591682434, 'eval_accuracy': 0.8488228004956629, 'eval_f1': 0.8679653679653679, 'eval_runtime': 6.5538, 'eval_samples_per_second': 246.269, 'eval_steps_per_second': 15.411, 'epoch': 1.386138613861386}\n",
            "Step 140: Learning Rate = 0.00001228\n",
            "Step 160: Evaluation Metrics: {'eval_loss': 0.3893493413925171, 'eval_accuracy': 0.8147459727385378, 'eval_f1': 0.8543594739405748, 'eval_runtime': 6.5522, 'eval_samples_per_second': 246.329, 'eval_steps_per_second': 15.415, 'epoch': 1.5841584158415842}\n",
            "Step 160: Learning Rate = 0.00001081\n",
            "Step 180: Evaluation Metrics: {'eval_loss': 0.36331236362457275, 'eval_accuracy': 0.8574969021065675, 'eval_f1': 0.8715083798882681, 'eval_runtime': 6.5481, 'eval_samples_per_second': 246.484, 'eval_steps_per_second': 15.424, 'epoch': 1.7821782178217822}\n",
            "Step 180: Learning Rate = 0.00000934\n",
            "Step 200: Evaluation Metrics: {'eval_loss': 0.3482225835323334, 'eval_accuracy': 0.8531598513011153, 'eval_f1': 0.8630849220103987, 'eval_runtime': 6.5395, 'eval_samples_per_second': 246.809, 'eval_steps_per_second': 15.445, 'epoch': 1.9801980198019802}\n",
            "Step 200: Learning Rate = 0.00000787\n",
            "Step 220: Evaluation Metrics: {'eval_loss': 0.34532344341278076, 'eval_accuracy': 0.862453531598513, 'eval_f1': 0.8752808988764045, 'eval_runtime': 6.5646, 'eval_samples_per_second': 245.864, 'eval_steps_per_second': 15.386, 'epoch': 2.1782178217821784}\n",
            "Step 220: Learning Rate = 0.00000640\n",
            "Step 240: Evaluation Metrics: {'eval_loss': 0.3144177198410034, 'eval_accuracy': 0.8649318463444857, 'eval_f1': 0.8795580110497238, 'eval_runtime': 6.5364, 'eval_samples_per_second': 246.925, 'eval_steps_per_second': 15.452, 'epoch': 2.376237623762376}\n",
            "Step 240: Learning Rate = 0.00000493\n",
            "Step 260: Evaluation Metrics: {'eval_loss': 0.3173133432865143, 'eval_accuracy': 0.8636926889714994, 'eval_f1': 0.8805646036916395, 'eval_runtime': 6.5345, 'eval_samples_per_second': 246.997, 'eval_steps_per_second': 15.456, 'epoch': 2.5742574257425743}\n",
            "Step 260: Learning Rate = 0.00000346\n",
            "Step 280: Evaluation Metrics: {'eval_loss': 0.3117396831512451, 'eval_accuracy': 0.8630731102850062, 'eval_f1': 0.879825992387167, 'eval_runtime': 6.5459, 'eval_samples_per_second': 246.567, 'eval_steps_per_second': 15.43, 'epoch': 2.772277227722772}\n",
            "Step 280: Learning Rate = 0.00000199\n",
            "Step 300: Evaluation Metrics: {'eval_loss': 0.3108668625354767, 'eval_accuracy': 0.8643122676579925, 'eval_f1': 0.8797364085667215, 'eval_runtime': 6.553, 'eval_samples_per_second': 246.3, 'eval_steps_per_second': 15.413, 'epoch': 2.9702970297029703}\n",
            "Step 300: Learning Rate = 0.00000051\n"
          ]
        },
        {
          "output_type": "stream",
          "name": "stderr",
          "text": [
            "Could not locate the best model at ./test_trainer/checkpoint-240/pytorch_model.bin, if you are running a distributed training on multiple nodes, you should activate `--save_on_each_node`.\n"
          ]
        },
        {
          "output_type": "execute_result",
          "data": {
            "text/plain": [
              "TrainOutput(global_step=300, training_loss=1.8069048817952473, metrics={'train_runtime': 678.3125, 'train_samples_per_second': 57.098, 'train_steps_per_second': 0.447, 'total_flos': 1.009399252783104e+16, 'train_loss': 1.8069048817952473, 'epoch': 2.9702970297029703})"
            ]
          },
          "metadata": {},
          "execution_count": 34
        }
      ]
    },
    {
      "cell_type": "code",
      "source": [
        "tokenized_test_dataset = test_dataset.map(tokenize_function, batched=True)"
      ],
      "metadata": {
        "colab": {
          "base_uri": "https://localhost:8080/",
          "height": 69,
          "referenced_widgets": [
            "cbfaed7297944271bbf338403c0d107e",
            "89e8a134e38e4fbebf80318a16f17877",
            "6effd25fe93e46d78368b0b2effe8839",
            "4e1aaf83e6e94737a1c07971bf1e4223",
            "84aac4f944b14c9c816196b69fe248c2",
            "2000f9cb0be94f7782b9ef9003e1d01d",
            "260ba144b5724e45a8d375e1d0cdf3cc",
            "8316bcd93d61440bb963d2fedda416c5",
            "439f672e88244b99a93d4bb1173ae095",
            "db634f8e07d248e781a33ac41186c3f4",
            "a9b1d0b2e589464989c3b498682acc27"
          ]
        },
        "id": "i_ZsBX0jKyvs",
        "outputId": "0ca22552-5862-4e4a-e8ee-bc745b584381"
      },
      "execution_count": 35,
      "outputs": [
        {
          "output_type": "display_data",
          "data": {
            "text/plain": [
              "Map:   0%|          | 0/1614 [00:00<?, ? examples/s]"
            ],
            "application/vnd.jupyter.widget-view+json": {
              "version_major": 2,
              "version_minor": 0,
              "model_id": "cbfaed7297944271bbf338403c0d107e"
            }
          },
          "metadata": {}
        }
      ]
    },
    {
      "cell_type": "code",
      "source": [
        "print(f'Train Dataset Column Names:{train_dataset.column_names}')\n",
        "print(f'Tokenized Train Dataset Column Names:{tokenized_train_dataset.column_names}')\n",
        "example = tokenized_train_dataset[0]\n",
        "print(f'first element of tokenized dateset{example}')\n"
      ],
      "metadata": {
        "colab": {
          "base_uri": "https://localhost:8080/"
        },
        "id": "ZB8v33XgM7R-",
        "outputId": "3fc5b038-f718-4811-cb68-bf4465f9c336"
      },
      "execution_count": 36,
      "outputs": [
        {
          "output_type": "stream",
          "name": "stdout",
          "text": [
            "Train Dataset Column Names:['id', 'speaker', 'sex', 'text', 'text_en', 'label', '__index_level_0__']\n",
            "Tokenized Train Dataset Column Names:['id', 'speaker', 'sex', 'text', 'text_en', 'label', '__index_level_0__', 'input_ids', 'attention_mask']\n",
            "first element of tokenized dateset{'id': 'tr01677', 'speaker': '9c3b4ba137bad5f955ec4fb3dbddafd8', 'sex': 'M', 'text': 'Sayın Başkan, değerli milletvekilleri; 8 Ekim ve sonrasında yaptığı konuşmayla geçmişte olduğu gibi bugünde de işkence ve kötü muameleye karşı olduğunu, faili meçhul cinayetlerin son bulmasını, köy boşaltmalarının ortadan kaldırılmasını, bölge halkıyla kucaklaşarak birlikte hareket edilmesinin takdir edilecek bir davranış olduğunu; 80 sonrasında, başta Mamak’ta olmak kaydıyla, yurdun pek çok noktasında “Mektebi Yusufiye” olarak adlandırılan çilehanelerde kimsesiz ve sahipsiz ülkücülerin arkasında durduğu gibi bugün de mazlumun, mağdurun yanında olmak gerektiğini, işkence ve insanlık dışı uygulamaların terörü tırmandırmasına kimsenin sahip çıkmaması gerektiğini bizzat Sayın Arınç vurgulamıştır. Yıllarını milleti ve milletin manevi değerlerini üstün tutmak için mücadele vermiş, insanların hizmetine adamış; 12 Eylül 80 sonrası ülkemizin birliği ve beraberliği adına, kutsal saydığı değerler için mücadele etmiş ülkücü gençlerin davalarına bilabedel avukatlık yapmış, saydam ve saygın bir kişiliğe sahip Sayın Bülent Arınç hakkında, terörle mücadele eden güvenlik güçlerinin moralini ve azmini zayıflattığı iddiasında bulunmak son derece yakışıksız ve siyasi etikten yoksun bir davranıştır. <p> Sayın Arınç hakkında gensoru açılmasını talep eden <PARTY> Grubu, 11 Kasım 2012 tarihli Genel Kurulda yapılan görüşmeler esnasında, yüce Meclisin 11 ve 12 Kasım tarihlerinde çalıştırılmaması karşılığında gensoru önergesinin geri çekileceğini beyan etmiş olmakla, aslında kendi ileri sürdükleri iddialara kendilerinin de inanmadığını bizzat göstermişlerdir. <p> <PARTY> mensubu hiçbir milletvekili ve bakanın, özellikle Sayın Başbakan Yardımcımız Bülent Arınç Bey’in, bölücü terör örgütüne moral veren, umut aşılayan, bölücü emellere haklılık kazandıracak konuşmalar yapması ve teröristlerle görüşmeyi, onlarla kimlik ve Anayasa tartışmaları yapmayı normal, sıradan vakalar olarak kamuoyuna takdim eden açıklamalar yapması; canı pahasına ülkesi ve milletin bölünmez bütünlüğü için terörle mücadele eden güvenlik güçlerimizin psikolojisini, moralini, azmini ve mücadele gücünü zayıflatan açıklamalar yapması mümkün değildir. Bilakis, tam tersine, bölücü terör örgütüne karşı bölge halkının demokratik haklarını koruyan ve kollayan, bu ülkede bir tek insanımızın dahi burnunun kanamasına razı olmayan, “Önce insan.” diyerek insan hak ve hürriyetlerini önceleyen bir anlayışın en önde gelen isimlerinden biridir Sayın Arınç. <p> Bu itibarla, özellikle 57’nci Hükûmetle alakalı Aytun Çıray Bey’in ifade ettiği bir söz… “Ekonomik olarak çok iyi bir durumda bıraktık.” dediğinizde, İnternet’e girip baktığınızda 57’nci Hükûmetle alakalı çıkan ilk yazı şudur: AB uyum paketlerinin ilk üçü çıkarılmıştır. Bu paket uyarınca idam cezasının kaldırılması ve o dönem gündemde bulunan PKK lideri Abdullah Öcalan’ın da bu kanundan yararlanarak idam edilmemesi uzun tartışmalara sebep olan bir Hükûmet olarak değerlendirmiş… <p> …bu Hükûmetin sonunun ise 2001 Türkiye ekonomik krizi ve “kara çarşamba” olarak tarihe geçen… <p> …cumhuriyet tarihinin en büyük krizi sonunda gerçekleştiğini ifade etmiştir. <p> Bu duygu, bu düşüncelerle gensorunun aleyhinde oy kullanacağımı ifade ediyor, yüce heyetinizi saygıyla selamlıyorum.', 'text_en': \"Mr. President, the esteemed MPs have stressed in many parts of the country that they are against torture and abuse, as they have done since October 8th and since then, as they stand today, the end of the unsolved killings, the removal of the village evacuations, the act of co-operation with the people of the region; and that no one after 80 shall have to climb terrors and terrors, especially in the case of Mamak. It is highly inappropriate to claim that the security forces fighting terrorism have weakened the morale and the tenacity of security forces, which are transparent and respectable about Mr. Bkent Arinc, who have fought the trials of international youths who fought for the unity and unity of our country after September 12th 80th and fought for the values that he considered sacred. <p> During talks held at the General Assembly on November 11, 2012, the National Movement Party Group, which has demanded that Mr. Arinc be opened a gene question about Mr. Arinc, has personally shown that they do not believe the allegations they have made, in fact, that the Supreme Assembly's motion would be withdrawn in exchange for its absence on November 11th and 12th. <p> It is not possible for Mr. Bulent Arinc Bey, our Deputy Prime Minister, in particular, to speak to the separatist terrorist organization for morale, to inspire hope, to justify separatist ambitions, and to speak to terrorists, to present to the public as normal cases of identity and the Constitution, to present public arguments with them as ordinary cases -- the psychology, morale, determination, and the strength of our security forces fighting terror for the undistributable integrity of the country and the nation at the expense of their lives. On the contrary, Mr. Arinc is one of the leading figures of an understanding that predates human rights and freedoms, saying that the people of this country, who protects and protects and protects the democratic rights of the separatist terrorist organization, protects and protects the democratic rights of the people of the region, are the first people in this country who do not consent to bleeding even our own people's noses. <p> This is the first article of the 57th government in particular, which is expressed by Aytun Çıray Bey. When you go to the Internet and look at it, the first article about the 57th government is this: the first three of the EU integration packages have been removed. In accordance with this package, the removal of the death penalty and the absence of the execution of PKK leader Abdullah Ocalan. <p> ...the end of this government is 2001 Turkey's economic crisis and history as black Wednesday... <p> ...the greatest crisis in the history of the Republic. <p> This feeling is that I will vote against your client with these thoughts, and I salute your grand delegation.\", 'label': 1, '__index_level_0__': 1677, 'input_ids': [0, 116371, 41887, 4, 91184, 8058, 13733, 13595, 1341, 74, 382, 50288, 173, 100233, 23681, 43049, 7809, 67964, 67, 5555, 3197, 29345, 112, 8, 4659, 1098, 329, 173, 49664, 7449, 32128, 1033, 9164, 7033, 4, 35782, 14, 163, 2738, 28952, 215914, 4670, 775, 11876, 39510, 4, 69041, 45695, 7010, 192, 4793, 165870, 53307, 119786, 4, 37921, 64980, 30153, 228, 20264, 24229, 13489, 14208, 25392, 74009, 694, 466, 936, 197220, 263, 100214, 7033, 74, 2248, 100233, 4, 101396, 22991, 92, 26, 102, 14302, 187702, 7809, 4, 113, 56774, 19, 14828, 2162, 138922, 1127, 52, 6696, 17419, 964, 80407, 8380, 63, 2086, 102616, 17658, 16330, 133, 34414, 11098, 46137, 4900, 173, 13980, 4900, 56658, 14269, 8893, 4670, 195073, 7920, 39349, 3197, 29345, 8, 17022, 4689, 309, 4, 229147, 309, 28607, 14302, 95197, 4, 4659, 1098, 329, 173, 8371, 4355, 87353, 170704, 19, 704, 48374, 6, 11701, 669, 2544, 50013, 46137, 694, 13980, 89270, 8390, 95197, 7124, 10288, 116371, 1172, 1110, 2738, 130763, 143, 35237, 5, 72645, 4242, 8058, 118, 173, 8058, 2311, 332, 14083, 181286, 93, 54840, 126621, 92, 1099, 43462, 66408, 4, 37403, 62749, 86, 1243, 9027, 74, 427, 54846, 2248, 81917, 141010, 73, 176848, 173, 41719, 10977, 40000, 4, 28600, 2317, 5154, 14747, 58608, 603, 1099, 43462, 40832, 56658, 14269, 8893, 131461, 73, 59674, 7551, 2224, 372, 1743, 185, 37207, 4355, 112617, 4, 5154, 6229, 173, 90814, 19, 263, 15847, 90498, 13980, 116371, 234716, 1172, 1110, 2738, 21152, 4, 70631, 133, 43462, 12191, 78990, 54988, 13219, 53321, 93, 173, 295, 9222, 159512, 2335, 31048, 29758, 10180, 64547, 92, 775, 37284, 151, 12558, 36758, 10782, 173, 25891, 6, 14667, 510, 11767, 6548, 263, 100214, 11701, 5, 4426, 254, 2740, 116371, 1172, 1110, 2738, 21152, 29038, 30442, 176319, 4920, 93248, 12191, 4426, 88601, 1723, 2740, 161373, 4, 534, 53415, 1324, 176431, 20332, 104478, 34206, 18056, 172406, 235430, 4, 113, 3449, 329, 81625, 73, 534, 173, 427, 53415, 111643, 1067, 93848, 201129, 8390, 9164, 62463, 29038, 30442, 111291, 27616, 8144, 11227, 21622, 379, 94277, 186, 1643, 40832, 14302, 143, 4, 78618, 11837, 110556, 30369, 15943, 89632, 29758, 3945, 158943, 19, 8, 23, 66, 177560, 7124, 10288, 32118, 159581, 936, 5, 4426, 254, 2740, 4426, 88601, 1723, 2740, 5101, 34, 978, 39236, 210030, 173, 29853, 1402, 4, 37789, 116371, 91200, 113388, 238, 31419, 234716, 1172, 1110, 2738, 41505, 26, 73, 4, 34178, 5374, 8893, 70631, 148062, 86, 14392, 30212, 4, 286, 1003, 10, 26299, 18616, 4, 34178, 5374, 8893, 47545, 6660, 9796, 1304, 4355, 77456, 42, 14228, 43049, 320, 202435, 173, 70631, 1419, 22159, 124669, 2387, 4, 165212, 190385, 173, 196591, 135460, 980, 199008, 3638, 4, 68293, 19, 307, 161, 320, 2086, 218850, 76, 466, 5771, 12191, 46595, 320, 202435, 74, 831, 1057, 59769, 14728, 201172, 173, 8058, 2311, 175880, 11723, 7609, 56700, 1099, 70631, 133, 43462, 12191, 78990, 54988, 125559, 100305, 22811, 5234, 4, 53321, 93, 4, 295, 9222, 173, 43462, 175559, 159512, 106326, 46595, 320, 202435, 25639, 47449, 5, 14811, 9637, 4, 1481, 78605, 86, 4, 34178, 5374, 8893, 70631, 148062, 86, 9164, 37921, 146551, 1110, 57535, 9796, 4242, 57090, 1643, 173, 50250, 2], 'attention_mask': [1, 1, 1, 1, 1, 1, 1, 1, 1, 1, 1, 1, 1, 1, 1, 1, 1, 1, 1, 1, 1, 1, 1, 1, 1, 1, 1, 1, 1, 1, 1, 1, 1, 1, 1, 1, 1, 1, 1, 1, 1, 1, 1, 1, 1, 1, 1, 1, 1, 1, 1, 1, 1, 1, 1, 1, 1, 1, 1, 1, 1, 1, 1, 1, 1, 1, 1, 1, 1, 1, 1, 1, 1, 1, 1, 1, 1, 1, 1, 1, 1, 1, 1, 1, 1, 1, 1, 1, 1, 1, 1, 1, 1, 1, 1, 1, 1, 1, 1, 1, 1, 1, 1, 1, 1, 1, 1, 1, 1, 1, 1, 1, 1, 1, 1, 1, 1, 1, 1, 1, 1, 1, 1, 1, 1, 1, 1, 1, 1, 1, 1, 1, 1, 1, 1, 1, 1, 1, 1, 1, 1, 1, 1, 1, 1, 1, 1, 1, 1, 1, 1, 1, 1, 1, 1, 1, 1, 1, 1, 1, 1, 1, 1, 1, 1, 1, 1, 1, 1, 1, 1, 1, 1, 1, 1, 1, 1, 1, 1, 1, 1, 1, 1, 1, 1, 1, 1, 1, 1, 1, 1, 1, 1, 1, 1, 1, 1, 1, 1, 1, 1, 1, 1, 1, 1, 1, 1, 1, 1, 1, 1, 1, 1, 1, 1, 1, 1, 1, 1, 1, 1, 1, 1, 1, 1, 1, 1, 1, 1, 1, 1, 1, 1, 1, 1, 1, 1, 1, 1, 1, 1, 1, 1, 1, 1, 1, 1, 1, 1, 1, 1, 1, 1, 1, 1, 1, 1, 1, 1, 1, 1, 1, 1, 1, 1, 1, 1, 1, 1, 1, 1, 1, 1, 1, 1, 1, 1, 1, 1, 1, 1, 1, 1, 1, 1, 1, 1, 1, 1, 1, 1, 1, 1, 1, 1, 1, 1, 1, 1, 1, 1, 1, 1, 1, 1, 1, 1, 1, 1, 1, 1, 1, 1, 1, 1, 1, 1, 1, 1, 1, 1, 1, 1, 1, 1, 1, 1, 1, 1, 1, 1, 1, 1, 1, 1, 1, 1, 1, 1, 1, 1, 1, 1, 1, 1, 1, 1, 1, 1, 1, 1, 1, 1, 1, 1, 1, 1, 1, 1, 1, 1, 1, 1, 1, 1, 1, 1, 1, 1, 1, 1, 1, 1, 1, 1, 1, 1, 1, 1, 1, 1, 1, 1, 1, 1, 1, 1, 1, 1, 1, 1, 1, 1, 1, 1, 1, 1, 1, 1, 1, 1, 1, 1, 1, 1, 1, 1, 1, 1, 1, 1, 1, 1, 1, 1, 1, 1, 1, 1, 1, 1, 1, 1, 1, 1, 1, 1, 1, 1, 1, 1, 1, 1, 1, 1, 1, 1, 1, 1, 1, 1, 1, 1, 1, 1, 1, 1, 1, 1, 1, 1, 1, 1, 1, 1, 1, 1, 1, 1, 1, 1, 1, 1, 1, 1, 1, 1, 1, 1, 1, 1, 1, 1, 1, 1, 1, 1, 1, 1, 1, 1, 1, 1, 1, 1, 1, 1, 1, 1, 1, 1, 1, 1, 1, 1, 1, 1, 1, 1, 1, 1, 1, 1, 1, 1, 1, 1, 1, 1, 1, 1, 1]}\n"
          ]
        }
      ]
    },
    {
      "cell_type": "code",
      "source": [
        "print(tokenized_train_dataset['label'][:10])  # Check the first 10 labels\n",
        "\n",
        "# Ensure labels are integers\n",
        "if not all(isinstance(label, int) for label in tokenized_train_dataset['label']):\n",
        "    print(\"Converting labels to integers...\")\n",
        "    train_dataset = train_dataset.map(lambda x: {\"label\": int(x[\"label\"])})\n",
        "    tokenized_train_dataset = train_dataset.map(tokenize_function, batched=True)\n"
      ],
      "metadata": {
        "colab": {
          "base_uri": "https://localhost:8080/"
        },
        "id": "ijfqtqCXODVY",
        "outputId": "a21012b5-2719-49be-c3db-42de33d0796e"
      },
      "execution_count": 37,
      "outputs": [
        {
          "output_type": "stream",
          "name": "stdout",
          "text": [
            "[1, 1, 1, 0, 0, 1, 1, 1, 1, 1]\n"
          ]
        }
      ]
    },
    {
      "cell_type": "code",
      "source": [
        "test_results = trainer.evaluate(tokenized_test_dataset)\n",
        "print(\"Test Set Results:\", test_results)"
      ],
      "metadata": {
        "colab": {
          "base_uri": "https://localhost:8080/",
          "height": 109
        },
        "id": "DFlhEK89KO8C",
        "outputId": "fbf611f9-bfc2-4b60-e00c-114b3ec5d7e4"
      },
      "execution_count": 38,
      "outputs": [
        {
          "output_type": "display_data",
          "data": {
            "text/plain": [
              "<IPython.core.display.HTML object>"
            ],
            "text/html": [
              "\n",
              "    <div>\n",
              "      \n",
              "      <progress value='101' max='101' style='width:300px; height:20px; vertical-align: middle;'></progress>\n",
              "      [101/101 00:06]\n",
              "    </div>\n",
              "    "
            ]
          },
          "metadata": {}
        },
        {
          "output_type": "stream",
          "name": "stdout",
          "text": [
            "Step 300: Evaluation Metrics: {'eval_loss': 0.3246242105960846, 'eval_accuracy': 0.8680297397769516, 'eval_f1': 0.8834154351395731, 'eval_runtime': 6.53, 'eval_samples_per_second': 247.168, 'eval_steps_per_second': 15.467, 'epoch': 2.9702970297029703}\n",
            "Step 300: Learning Rate = 0.00000051\n",
            "Test Set Results: {'eval_loss': 0.3246242105960846, 'eval_accuracy': 0.8680297397769516, 'eval_f1': 0.8834154351395731, 'eval_runtime': 6.53, 'eval_samples_per_second': 247.168, 'eval_steps_per_second': 15.467, 'epoch': 2.9702970297029703}\n"
          ]
        }
      ]
    }
  ]
}