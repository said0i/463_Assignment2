{
  "nbformat": 4,
  "nbformat_minor": 0,
  "metadata": {
    "colab": {
      "provenance": [],
      "gpuType": "L4"
    },
    "kernelspec": {
      "name": "python3",
      "display_name": "Python 3"
    },
    "language_info": {
      "name": "python"
    },
    "accelerator": "GPU",
    "widgets": {
      "application/vnd.jupyter.widget-state+json": {
        "3bae5445c1f14c84b435368205b4850f": {
          "model_module": "@jupyter-widgets/controls",
          "model_name": "HBoxModel",
          "model_module_version": "1.5.0",
          "state": {
            "_dom_classes": [],
            "_model_module": "@jupyter-widgets/controls",
            "_model_module_version": "1.5.0",
            "_model_name": "HBoxModel",
            "_view_count": null,
            "_view_module": "@jupyter-widgets/controls",
            "_view_module_version": "1.5.0",
            "_view_name": "HBoxView",
            "box_style": "",
            "children": [
              "IPY_MODEL_2d0ff29a777d4a84aae522258d1e51af",
              "IPY_MODEL_f3611d76a6364ba19330b2ff25afc3ce",
              "IPY_MODEL_67d02e691696420c803a292687ad1781"
            ],
            "layout": "IPY_MODEL_b58a1cba6cea45129ddfd1820a80e3b1"
          }
        },
        "2d0ff29a777d4a84aae522258d1e51af": {
          "model_module": "@jupyter-widgets/controls",
          "model_name": "HTMLModel",
          "model_module_version": "1.5.0",
          "state": {
            "_dom_classes": [],
            "_model_module": "@jupyter-widgets/controls",
            "_model_module_version": "1.5.0",
            "_model_name": "HTMLModel",
            "_view_count": null,
            "_view_module": "@jupyter-widgets/controls",
            "_view_module_version": "1.5.0",
            "_view_name": "HTMLView",
            "description": "",
            "description_tooltip": null,
            "layout": "IPY_MODEL_ea020c8cbc954615a9aad6dc0ea6330b",
            "placeholder": "​",
            "style": "IPY_MODEL_fb43c51abdb24f108a8131cc980cd7b1",
            "value": "tokenizer_config.json: 100%"
          }
        },
        "f3611d76a6364ba19330b2ff25afc3ce": {
          "model_module": "@jupyter-widgets/controls",
          "model_name": "FloatProgressModel",
          "model_module_version": "1.5.0",
          "state": {
            "_dom_classes": [],
            "_model_module": "@jupyter-widgets/controls",
            "_model_module_version": "1.5.0",
            "_model_name": "FloatProgressModel",
            "_view_count": null,
            "_view_module": "@jupyter-widgets/controls",
            "_view_module_version": "1.5.0",
            "_view_name": "ProgressView",
            "bar_style": "success",
            "description": "",
            "description_tooltip": null,
            "layout": "IPY_MODEL_5d3d5032ee9946058148ccc46224f0ec",
            "max": 25,
            "min": 0,
            "orientation": "horizontal",
            "style": "IPY_MODEL_eb8308e337174696a57dd1aae6ab40cc",
            "value": 25
          }
        },
        "67d02e691696420c803a292687ad1781": {
          "model_module": "@jupyter-widgets/controls",
          "model_name": "HTMLModel",
          "model_module_version": "1.5.0",
          "state": {
            "_dom_classes": [],
            "_model_module": "@jupyter-widgets/controls",
            "_model_module_version": "1.5.0",
            "_model_name": "HTMLModel",
            "_view_count": null,
            "_view_module": "@jupyter-widgets/controls",
            "_view_module_version": "1.5.0",
            "_view_name": "HTMLView",
            "description": "",
            "description_tooltip": null,
            "layout": "IPY_MODEL_991f2091ae6b47b2aea6c742180a3f4c",
            "placeholder": "​",
            "style": "IPY_MODEL_3a91b5372d9841b6b239afb7c76f34a5",
            "value": " 25.0/25.0 [00:00&lt;00:00, 2.11kB/s]"
          }
        },
        "b58a1cba6cea45129ddfd1820a80e3b1": {
          "model_module": "@jupyter-widgets/base",
          "model_name": "LayoutModel",
          "model_module_version": "1.2.0",
          "state": {
            "_model_module": "@jupyter-widgets/base",
            "_model_module_version": "1.2.0",
            "_model_name": "LayoutModel",
            "_view_count": null,
            "_view_module": "@jupyter-widgets/base",
            "_view_module_version": "1.2.0",
            "_view_name": "LayoutView",
            "align_content": null,
            "align_items": null,
            "align_self": null,
            "border": null,
            "bottom": null,
            "display": null,
            "flex": null,
            "flex_flow": null,
            "grid_area": null,
            "grid_auto_columns": null,
            "grid_auto_flow": null,
            "grid_auto_rows": null,
            "grid_column": null,
            "grid_gap": null,
            "grid_row": null,
            "grid_template_areas": null,
            "grid_template_columns": null,
            "grid_template_rows": null,
            "height": null,
            "justify_content": null,
            "justify_items": null,
            "left": null,
            "margin": null,
            "max_height": null,
            "max_width": null,
            "min_height": null,
            "min_width": null,
            "object_fit": null,
            "object_position": null,
            "order": null,
            "overflow": null,
            "overflow_x": null,
            "overflow_y": null,
            "padding": null,
            "right": null,
            "top": null,
            "visibility": null,
            "width": null
          }
        },
        "ea020c8cbc954615a9aad6dc0ea6330b": {
          "model_module": "@jupyter-widgets/base",
          "model_name": "LayoutModel",
          "model_module_version": "1.2.0",
          "state": {
            "_model_module": "@jupyter-widgets/base",
            "_model_module_version": "1.2.0",
            "_model_name": "LayoutModel",
            "_view_count": null,
            "_view_module": "@jupyter-widgets/base",
            "_view_module_version": "1.2.0",
            "_view_name": "LayoutView",
            "align_content": null,
            "align_items": null,
            "align_self": null,
            "border": null,
            "bottom": null,
            "display": null,
            "flex": null,
            "flex_flow": null,
            "grid_area": null,
            "grid_auto_columns": null,
            "grid_auto_flow": null,
            "grid_auto_rows": null,
            "grid_column": null,
            "grid_gap": null,
            "grid_row": null,
            "grid_template_areas": null,
            "grid_template_columns": null,
            "grid_template_rows": null,
            "height": null,
            "justify_content": null,
            "justify_items": null,
            "left": null,
            "margin": null,
            "max_height": null,
            "max_width": null,
            "min_height": null,
            "min_width": null,
            "object_fit": null,
            "object_position": null,
            "order": null,
            "overflow": null,
            "overflow_x": null,
            "overflow_y": null,
            "padding": null,
            "right": null,
            "top": null,
            "visibility": null,
            "width": null
          }
        },
        "fb43c51abdb24f108a8131cc980cd7b1": {
          "model_module": "@jupyter-widgets/controls",
          "model_name": "DescriptionStyleModel",
          "model_module_version": "1.5.0",
          "state": {
            "_model_module": "@jupyter-widgets/controls",
            "_model_module_version": "1.5.0",
            "_model_name": "DescriptionStyleModel",
            "_view_count": null,
            "_view_module": "@jupyter-widgets/base",
            "_view_module_version": "1.2.0",
            "_view_name": "StyleView",
            "description_width": ""
          }
        },
        "5d3d5032ee9946058148ccc46224f0ec": {
          "model_module": "@jupyter-widgets/base",
          "model_name": "LayoutModel",
          "model_module_version": "1.2.0",
          "state": {
            "_model_module": "@jupyter-widgets/base",
            "_model_module_version": "1.2.0",
            "_model_name": "LayoutModel",
            "_view_count": null,
            "_view_module": "@jupyter-widgets/base",
            "_view_module_version": "1.2.0",
            "_view_name": "LayoutView",
            "align_content": null,
            "align_items": null,
            "align_self": null,
            "border": null,
            "bottom": null,
            "display": null,
            "flex": null,
            "flex_flow": null,
            "grid_area": null,
            "grid_auto_columns": null,
            "grid_auto_flow": null,
            "grid_auto_rows": null,
            "grid_column": null,
            "grid_gap": null,
            "grid_row": null,
            "grid_template_areas": null,
            "grid_template_columns": null,
            "grid_template_rows": null,
            "height": null,
            "justify_content": null,
            "justify_items": null,
            "left": null,
            "margin": null,
            "max_height": null,
            "max_width": null,
            "min_height": null,
            "min_width": null,
            "object_fit": null,
            "object_position": null,
            "order": null,
            "overflow": null,
            "overflow_x": null,
            "overflow_y": null,
            "padding": null,
            "right": null,
            "top": null,
            "visibility": null,
            "width": null
          }
        },
        "eb8308e337174696a57dd1aae6ab40cc": {
          "model_module": "@jupyter-widgets/controls",
          "model_name": "ProgressStyleModel",
          "model_module_version": "1.5.0",
          "state": {
            "_model_module": "@jupyter-widgets/controls",
            "_model_module_version": "1.5.0",
            "_model_name": "ProgressStyleModel",
            "_view_count": null,
            "_view_module": "@jupyter-widgets/base",
            "_view_module_version": "1.2.0",
            "_view_name": "StyleView",
            "bar_color": null,
            "description_width": ""
          }
        },
        "991f2091ae6b47b2aea6c742180a3f4c": {
          "model_module": "@jupyter-widgets/base",
          "model_name": "LayoutModel",
          "model_module_version": "1.2.0",
          "state": {
            "_model_module": "@jupyter-widgets/base",
            "_model_module_version": "1.2.0",
            "_model_name": "LayoutModel",
            "_view_count": null,
            "_view_module": "@jupyter-widgets/base",
            "_view_module_version": "1.2.0",
            "_view_name": "LayoutView",
            "align_content": null,
            "align_items": null,
            "align_self": null,
            "border": null,
            "bottom": null,
            "display": null,
            "flex": null,
            "flex_flow": null,
            "grid_area": null,
            "grid_auto_columns": null,
            "grid_auto_flow": null,
            "grid_auto_rows": null,
            "grid_column": null,
            "grid_gap": null,
            "grid_row": null,
            "grid_template_areas": null,
            "grid_template_columns": null,
            "grid_template_rows": null,
            "height": null,
            "justify_content": null,
            "justify_items": null,
            "left": null,
            "margin": null,
            "max_height": null,
            "max_width": null,
            "min_height": null,
            "min_width": null,
            "object_fit": null,
            "object_position": null,
            "order": null,
            "overflow": null,
            "overflow_x": null,
            "overflow_y": null,
            "padding": null,
            "right": null,
            "top": null,
            "visibility": null,
            "width": null
          }
        },
        "3a91b5372d9841b6b239afb7c76f34a5": {
          "model_module": "@jupyter-widgets/controls",
          "model_name": "DescriptionStyleModel",
          "model_module_version": "1.5.0",
          "state": {
            "_model_module": "@jupyter-widgets/controls",
            "_model_module_version": "1.5.0",
            "_model_name": "DescriptionStyleModel",
            "_view_count": null,
            "_view_module": "@jupyter-widgets/base",
            "_view_module_version": "1.2.0",
            "_view_name": "StyleView",
            "description_width": ""
          }
        },
        "24d13dd7789a48c79c7eb1b4430642fd": {
          "model_module": "@jupyter-widgets/controls",
          "model_name": "HBoxModel",
          "model_module_version": "1.5.0",
          "state": {
            "_dom_classes": [],
            "_model_module": "@jupyter-widgets/controls",
            "_model_module_version": "1.5.0",
            "_model_name": "HBoxModel",
            "_view_count": null,
            "_view_module": "@jupyter-widgets/controls",
            "_view_module_version": "1.5.0",
            "_view_name": "HBoxView",
            "box_style": "",
            "children": [
              "IPY_MODEL_6ac08602bc6942d291a64f5618ba4e7c",
              "IPY_MODEL_c438c6dd43844dcf85ac4121fb02ed89",
              "IPY_MODEL_1c023d077cf14492853765ac68bcba58"
            ],
            "layout": "IPY_MODEL_93795991892e4de5b72837c91e1613dc"
          }
        },
        "6ac08602bc6942d291a64f5618ba4e7c": {
          "model_module": "@jupyter-widgets/controls",
          "model_name": "HTMLModel",
          "model_module_version": "1.5.0",
          "state": {
            "_dom_classes": [],
            "_model_module": "@jupyter-widgets/controls",
            "_model_module_version": "1.5.0",
            "_model_name": "HTMLModel",
            "_view_count": null,
            "_view_module": "@jupyter-widgets/controls",
            "_view_module_version": "1.5.0",
            "_view_name": "HTMLView",
            "description": "",
            "description_tooltip": null,
            "layout": "IPY_MODEL_17752f2bda2a4de5bee4bf8db7d45e3b",
            "placeholder": "​",
            "style": "IPY_MODEL_ecf855276ab649dba81c9463d18d5b30",
            "value": "config.json: 100%"
          }
        },
        "c438c6dd43844dcf85ac4121fb02ed89": {
          "model_module": "@jupyter-widgets/controls",
          "model_name": "FloatProgressModel",
          "model_module_version": "1.5.0",
          "state": {
            "_dom_classes": [],
            "_model_module": "@jupyter-widgets/controls",
            "_model_module_version": "1.5.0",
            "_model_name": "FloatProgressModel",
            "_view_count": null,
            "_view_module": "@jupyter-widgets/controls",
            "_view_module_version": "1.5.0",
            "_view_name": "ProgressView",
            "bar_style": "success",
            "description": "",
            "description_tooltip": null,
            "layout": "IPY_MODEL_9115a9991ebc4197863f88f86064767a",
            "max": 615,
            "min": 0,
            "orientation": "horizontal",
            "style": "IPY_MODEL_cd54b6a55d154a609d023802641d3bd3",
            "value": 615
          }
        },
        "1c023d077cf14492853765ac68bcba58": {
          "model_module": "@jupyter-widgets/controls",
          "model_name": "HTMLModel",
          "model_module_version": "1.5.0",
          "state": {
            "_dom_classes": [],
            "_model_module": "@jupyter-widgets/controls",
            "_model_module_version": "1.5.0",
            "_model_name": "HTMLModel",
            "_view_count": null,
            "_view_module": "@jupyter-widgets/controls",
            "_view_module_version": "1.5.0",
            "_view_name": "HTMLView",
            "description": "",
            "description_tooltip": null,
            "layout": "IPY_MODEL_1e9b64a132004cbca88ce678bed4c2a8",
            "placeholder": "​",
            "style": "IPY_MODEL_fa1860e3fe9243d7b8238b3b3df8b609",
            "value": " 615/615 [00:00&lt;00:00, 56.8kB/s]"
          }
        },
        "93795991892e4de5b72837c91e1613dc": {
          "model_module": "@jupyter-widgets/base",
          "model_name": "LayoutModel",
          "model_module_version": "1.2.0",
          "state": {
            "_model_module": "@jupyter-widgets/base",
            "_model_module_version": "1.2.0",
            "_model_name": "LayoutModel",
            "_view_count": null,
            "_view_module": "@jupyter-widgets/base",
            "_view_module_version": "1.2.0",
            "_view_name": "LayoutView",
            "align_content": null,
            "align_items": null,
            "align_self": null,
            "border": null,
            "bottom": null,
            "display": null,
            "flex": null,
            "flex_flow": null,
            "grid_area": null,
            "grid_auto_columns": null,
            "grid_auto_flow": null,
            "grid_auto_rows": null,
            "grid_column": null,
            "grid_gap": null,
            "grid_row": null,
            "grid_template_areas": null,
            "grid_template_columns": null,
            "grid_template_rows": null,
            "height": null,
            "justify_content": null,
            "justify_items": null,
            "left": null,
            "margin": null,
            "max_height": null,
            "max_width": null,
            "min_height": null,
            "min_width": null,
            "object_fit": null,
            "object_position": null,
            "order": null,
            "overflow": null,
            "overflow_x": null,
            "overflow_y": null,
            "padding": null,
            "right": null,
            "top": null,
            "visibility": null,
            "width": null
          }
        },
        "17752f2bda2a4de5bee4bf8db7d45e3b": {
          "model_module": "@jupyter-widgets/base",
          "model_name": "LayoutModel",
          "model_module_version": "1.2.0",
          "state": {
            "_model_module": "@jupyter-widgets/base",
            "_model_module_version": "1.2.0",
            "_model_name": "LayoutModel",
            "_view_count": null,
            "_view_module": "@jupyter-widgets/base",
            "_view_module_version": "1.2.0",
            "_view_name": "LayoutView",
            "align_content": null,
            "align_items": null,
            "align_self": null,
            "border": null,
            "bottom": null,
            "display": null,
            "flex": null,
            "flex_flow": null,
            "grid_area": null,
            "grid_auto_columns": null,
            "grid_auto_flow": null,
            "grid_auto_rows": null,
            "grid_column": null,
            "grid_gap": null,
            "grid_row": null,
            "grid_template_areas": null,
            "grid_template_columns": null,
            "grid_template_rows": null,
            "height": null,
            "justify_content": null,
            "justify_items": null,
            "left": null,
            "margin": null,
            "max_height": null,
            "max_width": null,
            "min_height": null,
            "min_width": null,
            "object_fit": null,
            "object_position": null,
            "order": null,
            "overflow": null,
            "overflow_x": null,
            "overflow_y": null,
            "padding": null,
            "right": null,
            "top": null,
            "visibility": null,
            "width": null
          }
        },
        "ecf855276ab649dba81c9463d18d5b30": {
          "model_module": "@jupyter-widgets/controls",
          "model_name": "DescriptionStyleModel",
          "model_module_version": "1.5.0",
          "state": {
            "_model_module": "@jupyter-widgets/controls",
            "_model_module_version": "1.5.0",
            "_model_name": "DescriptionStyleModel",
            "_view_count": null,
            "_view_module": "@jupyter-widgets/base",
            "_view_module_version": "1.2.0",
            "_view_name": "StyleView",
            "description_width": ""
          }
        },
        "9115a9991ebc4197863f88f86064767a": {
          "model_module": "@jupyter-widgets/base",
          "model_name": "LayoutModel",
          "model_module_version": "1.2.0",
          "state": {
            "_model_module": "@jupyter-widgets/base",
            "_model_module_version": "1.2.0",
            "_model_name": "LayoutModel",
            "_view_count": null,
            "_view_module": "@jupyter-widgets/base",
            "_view_module_version": "1.2.0",
            "_view_name": "LayoutView",
            "align_content": null,
            "align_items": null,
            "align_self": null,
            "border": null,
            "bottom": null,
            "display": null,
            "flex": null,
            "flex_flow": null,
            "grid_area": null,
            "grid_auto_columns": null,
            "grid_auto_flow": null,
            "grid_auto_rows": null,
            "grid_column": null,
            "grid_gap": null,
            "grid_row": null,
            "grid_template_areas": null,
            "grid_template_columns": null,
            "grid_template_rows": null,
            "height": null,
            "justify_content": null,
            "justify_items": null,
            "left": null,
            "margin": null,
            "max_height": null,
            "max_width": null,
            "min_height": null,
            "min_width": null,
            "object_fit": null,
            "object_position": null,
            "order": null,
            "overflow": null,
            "overflow_x": null,
            "overflow_y": null,
            "padding": null,
            "right": null,
            "top": null,
            "visibility": null,
            "width": null
          }
        },
        "cd54b6a55d154a609d023802641d3bd3": {
          "model_module": "@jupyter-widgets/controls",
          "model_name": "ProgressStyleModel",
          "model_module_version": "1.5.0",
          "state": {
            "_model_module": "@jupyter-widgets/controls",
            "_model_module_version": "1.5.0",
            "_model_name": "ProgressStyleModel",
            "_view_count": null,
            "_view_module": "@jupyter-widgets/base",
            "_view_module_version": "1.2.0",
            "_view_name": "StyleView",
            "bar_color": null,
            "description_width": ""
          }
        },
        "1e9b64a132004cbca88ce678bed4c2a8": {
          "model_module": "@jupyter-widgets/base",
          "model_name": "LayoutModel",
          "model_module_version": "1.2.0",
          "state": {
            "_model_module": "@jupyter-widgets/base",
            "_model_module_version": "1.2.0",
            "_model_name": "LayoutModel",
            "_view_count": null,
            "_view_module": "@jupyter-widgets/base",
            "_view_module_version": "1.2.0",
            "_view_name": "LayoutView",
            "align_content": null,
            "align_items": null,
            "align_self": null,
            "border": null,
            "bottom": null,
            "display": null,
            "flex": null,
            "flex_flow": null,
            "grid_area": null,
            "grid_auto_columns": null,
            "grid_auto_flow": null,
            "grid_auto_rows": null,
            "grid_column": null,
            "grid_gap": null,
            "grid_row": null,
            "grid_template_areas": null,
            "grid_template_columns": null,
            "grid_template_rows": null,
            "height": null,
            "justify_content": null,
            "justify_items": null,
            "left": null,
            "margin": null,
            "max_height": null,
            "max_width": null,
            "min_height": null,
            "min_width": null,
            "object_fit": null,
            "object_position": null,
            "order": null,
            "overflow": null,
            "overflow_x": null,
            "overflow_y": null,
            "padding": null,
            "right": null,
            "top": null,
            "visibility": null,
            "width": null
          }
        },
        "fa1860e3fe9243d7b8238b3b3df8b609": {
          "model_module": "@jupyter-widgets/controls",
          "model_name": "DescriptionStyleModel",
          "model_module_version": "1.5.0",
          "state": {
            "_model_module": "@jupyter-widgets/controls",
            "_model_module_version": "1.5.0",
            "_model_name": "DescriptionStyleModel",
            "_view_count": null,
            "_view_module": "@jupyter-widgets/base",
            "_view_module_version": "1.2.0",
            "_view_name": "StyleView",
            "description_width": ""
          }
        },
        "32ddcb21da8b4c419c75e7cf77a61891": {
          "model_module": "@jupyter-widgets/controls",
          "model_name": "HBoxModel",
          "model_module_version": "1.5.0",
          "state": {
            "_dom_classes": [],
            "_model_module": "@jupyter-widgets/controls",
            "_model_module_version": "1.5.0",
            "_model_name": "HBoxModel",
            "_view_count": null,
            "_view_module": "@jupyter-widgets/controls",
            "_view_module_version": "1.5.0",
            "_view_name": "HBoxView",
            "box_style": "",
            "children": [
              "IPY_MODEL_4c8b2281a8ef4af8a0c47de8fbd60c97",
              "IPY_MODEL_754d11051d2a4882baf7201d72839c46",
              "IPY_MODEL_7f8b2ce592cf410fb94d331779400f76"
            ],
            "layout": "IPY_MODEL_da3a058308244838884208588caced02"
          }
        },
        "4c8b2281a8ef4af8a0c47de8fbd60c97": {
          "model_module": "@jupyter-widgets/controls",
          "model_name": "HTMLModel",
          "model_module_version": "1.5.0",
          "state": {
            "_dom_classes": [],
            "_model_module": "@jupyter-widgets/controls",
            "_model_module_version": "1.5.0",
            "_model_name": "HTMLModel",
            "_view_count": null,
            "_view_module": "@jupyter-widgets/controls",
            "_view_module_version": "1.5.0",
            "_view_name": "HTMLView",
            "description": "",
            "description_tooltip": null,
            "layout": "IPY_MODEL_d67a7881586d42cfaf90972608214bb3",
            "placeholder": "​",
            "style": "IPY_MODEL_77c453cd0651422db14ef1a4608d97ac",
            "value": "sentencepiece.bpe.model: 100%"
          }
        },
        "754d11051d2a4882baf7201d72839c46": {
          "model_module": "@jupyter-widgets/controls",
          "model_name": "FloatProgressModel",
          "model_module_version": "1.5.0",
          "state": {
            "_dom_classes": [],
            "_model_module": "@jupyter-widgets/controls",
            "_model_module_version": "1.5.0",
            "_model_name": "FloatProgressModel",
            "_view_count": null,
            "_view_module": "@jupyter-widgets/controls",
            "_view_module_version": "1.5.0",
            "_view_name": "ProgressView",
            "bar_style": "success",
            "description": "",
            "description_tooltip": null,
            "layout": "IPY_MODEL_3b2c63512a004f5e9306d317e30915c6",
            "max": 5069051,
            "min": 0,
            "orientation": "horizontal",
            "style": "IPY_MODEL_27b38fea64c340c4a73b329db2b25c44",
            "value": 5069051
          }
        },
        "7f8b2ce592cf410fb94d331779400f76": {
          "model_module": "@jupyter-widgets/controls",
          "model_name": "HTMLModel",
          "model_module_version": "1.5.0",
          "state": {
            "_dom_classes": [],
            "_model_module": "@jupyter-widgets/controls",
            "_model_module_version": "1.5.0",
            "_model_name": "HTMLModel",
            "_view_count": null,
            "_view_module": "@jupyter-widgets/controls",
            "_view_module_version": "1.5.0",
            "_view_name": "HTMLView",
            "description": "",
            "description_tooltip": null,
            "layout": "IPY_MODEL_54a54b0465d14bd099368c05501eef17",
            "placeholder": "​",
            "style": "IPY_MODEL_4fdeb4eda5ca44ed975a2eb795d17c22",
            "value": " 5.07M/5.07M [00:00&lt;00:00, 11.6MB/s]"
          }
        },
        "da3a058308244838884208588caced02": {
          "model_module": "@jupyter-widgets/base",
          "model_name": "LayoutModel",
          "model_module_version": "1.2.0",
          "state": {
            "_model_module": "@jupyter-widgets/base",
            "_model_module_version": "1.2.0",
            "_model_name": "LayoutModel",
            "_view_count": null,
            "_view_module": "@jupyter-widgets/base",
            "_view_module_version": "1.2.0",
            "_view_name": "LayoutView",
            "align_content": null,
            "align_items": null,
            "align_self": null,
            "border": null,
            "bottom": null,
            "display": null,
            "flex": null,
            "flex_flow": null,
            "grid_area": null,
            "grid_auto_columns": null,
            "grid_auto_flow": null,
            "grid_auto_rows": null,
            "grid_column": null,
            "grid_gap": null,
            "grid_row": null,
            "grid_template_areas": null,
            "grid_template_columns": null,
            "grid_template_rows": null,
            "height": null,
            "justify_content": null,
            "justify_items": null,
            "left": null,
            "margin": null,
            "max_height": null,
            "max_width": null,
            "min_height": null,
            "min_width": null,
            "object_fit": null,
            "object_position": null,
            "order": null,
            "overflow": null,
            "overflow_x": null,
            "overflow_y": null,
            "padding": null,
            "right": null,
            "top": null,
            "visibility": null,
            "width": null
          }
        },
        "d67a7881586d42cfaf90972608214bb3": {
          "model_module": "@jupyter-widgets/base",
          "model_name": "LayoutModel",
          "model_module_version": "1.2.0",
          "state": {
            "_model_module": "@jupyter-widgets/base",
            "_model_module_version": "1.2.0",
            "_model_name": "LayoutModel",
            "_view_count": null,
            "_view_module": "@jupyter-widgets/base",
            "_view_module_version": "1.2.0",
            "_view_name": "LayoutView",
            "align_content": null,
            "align_items": null,
            "align_self": null,
            "border": null,
            "bottom": null,
            "display": null,
            "flex": null,
            "flex_flow": null,
            "grid_area": null,
            "grid_auto_columns": null,
            "grid_auto_flow": null,
            "grid_auto_rows": null,
            "grid_column": null,
            "grid_gap": null,
            "grid_row": null,
            "grid_template_areas": null,
            "grid_template_columns": null,
            "grid_template_rows": null,
            "height": null,
            "justify_content": null,
            "justify_items": null,
            "left": null,
            "margin": null,
            "max_height": null,
            "max_width": null,
            "min_height": null,
            "min_width": null,
            "object_fit": null,
            "object_position": null,
            "order": null,
            "overflow": null,
            "overflow_x": null,
            "overflow_y": null,
            "padding": null,
            "right": null,
            "top": null,
            "visibility": null,
            "width": null
          }
        },
        "77c453cd0651422db14ef1a4608d97ac": {
          "model_module": "@jupyter-widgets/controls",
          "model_name": "DescriptionStyleModel",
          "model_module_version": "1.5.0",
          "state": {
            "_model_module": "@jupyter-widgets/controls",
            "_model_module_version": "1.5.0",
            "_model_name": "DescriptionStyleModel",
            "_view_count": null,
            "_view_module": "@jupyter-widgets/base",
            "_view_module_version": "1.2.0",
            "_view_name": "StyleView",
            "description_width": ""
          }
        },
        "3b2c63512a004f5e9306d317e30915c6": {
          "model_module": "@jupyter-widgets/base",
          "model_name": "LayoutModel",
          "model_module_version": "1.2.0",
          "state": {
            "_model_module": "@jupyter-widgets/base",
            "_model_module_version": "1.2.0",
            "_model_name": "LayoutModel",
            "_view_count": null,
            "_view_module": "@jupyter-widgets/base",
            "_view_module_version": "1.2.0",
            "_view_name": "LayoutView",
            "align_content": null,
            "align_items": null,
            "align_self": null,
            "border": null,
            "bottom": null,
            "display": null,
            "flex": null,
            "flex_flow": null,
            "grid_area": null,
            "grid_auto_columns": null,
            "grid_auto_flow": null,
            "grid_auto_rows": null,
            "grid_column": null,
            "grid_gap": null,
            "grid_row": null,
            "grid_template_areas": null,
            "grid_template_columns": null,
            "grid_template_rows": null,
            "height": null,
            "justify_content": null,
            "justify_items": null,
            "left": null,
            "margin": null,
            "max_height": null,
            "max_width": null,
            "min_height": null,
            "min_width": null,
            "object_fit": null,
            "object_position": null,
            "order": null,
            "overflow": null,
            "overflow_x": null,
            "overflow_y": null,
            "padding": null,
            "right": null,
            "top": null,
            "visibility": null,
            "width": null
          }
        },
        "27b38fea64c340c4a73b329db2b25c44": {
          "model_module": "@jupyter-widgets/controls",
          "model_name": "ProgressStyleModel",
          "model_module_version": "1.5.0",
          "state": {
            "_model_module": "@jupyter-widgets/controls",
            "_model_module_version": "1.5.0",
            "_model_name": "ProgressStyleModel",
            "_view_count": null,
            "_view_module": "@jupyter-widgets/base",
            "_view_module_version": "1.2.0",
            "_view_name": "StyleView",
            "bar_color": null,
            "description_width": ""
          }
        },
        "54a54b0465d14bd099368c05501eef17": {
          "model_module": "@jupyter-widgets/base",
          "model_name": "LayoutModel",
          "model_module_version": "1.2.0",
          "state": {
            "_model_module": "@jupyter-widgets/base",
            "_model_module_version": "1.2.0",
            "_model_name": "LayoutModel",
            "_view_count": null,
            "_view_module": "@jupyter-widgets/base",
            "_view_module_version": "1.2.0",
            "_view_name": "LayoutView",
            "align_content": null,
            "align_items": null,
            "align_self": null,
            "border": null,
            "bottom": null,
            "display": null,
            "flex": null,
            "flex_flow": null,
            "grid_area": null,
            "grid_auto_columns": null,
            "grid_auto_flow": null,
            "grid_auto_rows": null,
            "grid_column": null,
            "grid_gap": null,
            "grid_row": null,
            "grid_template_areas": null,
            "grid_template_columns": null,
            "grid_template_rows": null,
            "height": null,
            "justify_content": null,
            "justify_items": null,
            "left": null,
            "margin": null,
            "max_height": null,
            "max_width": null,
            "min_height": null,
            "min_width": null,
            "object_fit": null,
            "object_position": null,
            "order": null,
            "overflow": null,
            "overflow_x": null,
            "overflow_y": null,
            "padding": null,
            "right": null,
            "top": null,
            "visibility": null,
            "width": null
          }
        },
        "4fdeb4eda5ca44ed975a2eb795d17c22": {
          "model_module": "@jupyter-widgets/controls",
          "model_name": "DescriptionStyleModel",
          "model_module_version": "1.5.0",
          "state": {
            "_model_module": "@jupyter-widgets/controls",
            "_model_module_version": "1.5.0",
            "_model_name": "DescriptionStyleModel",
            "_view_count": null,
            "_view_module": "@jupyter-widgets/base",
            "_view_module_version": "1.2.0",
            "_view_name": "StyleView",
            "description_width": ""
          }
        },
        "e2110fe7f79e4885b8bf05cf353251cc": {
          "model_module": "@jupyter-widgets/controls",
          "model_name": "HBoxModel",
          "model_module_version": "1.5.0",
          "state": {
            "_dom_classes": [],
            "_model_module": "@jupyter-widgets/controls",
            "_model_module_version": "1.5.0",
            "_model_name": "HBoxModel",
            "_view_count": null,
            "_view_module": "@jupyter-widgets/controls",
            "_view_module_version": "1.5.0",
            "_view_name": "HBoxView",
            "box_style": "",
            "children": [
              "IPY_MODEL_f311e09bd2b348038b8ab00d8b155300",
              "IPY_MODEL_185295ee4e2f4c859fe486c42813ac06",
              "IPY_MODEL_67d777d8644d4fb98fa0de4755fcdf2d"
            ],
            "layout": "IPY_MODEL_ceadcaa376d04a629a924ce31b54d17c"
          }
        },
        "f311e09bd2b348038b8ab00d8b155300": {
          "model_module": "@jupyter-widgets/controls",
          "model_name": "HTMLModel",
          "model_module_version": "1.5.0",
          "state": {
            "_dom_classes": [],
            "_model_module": "@jupyter-widgets/controls",
            "_model_module_version": "1.5.0",
            "_model_name": "HTMLModel",
            "_view_count": null,
            "_view_module": "@jupyter-widgets/controls",
            "_view_module_version": "1.5.0",
            "_view_name": "HTMLView",
            "description": "",
            "description_tooltip": null,
            "layout": "IPY_MODEL_c2ebf6c2f8ba4ba789fb8802eeafae49",
            "placeholder": "​",
            "style": "IPY_MODEL_0f2397e3d0c4460080222a859803dcca",
            "value": "tokenizer.json: 100%"
          }
        },
        "185295ee4e2f4c859fe486c42813ac06": {
          "model_module": "@jupyter-widgets/controls",
          "model_name": "FloatProgressModel",
          "model_module_version": "1.5.0",
          "state": {
            "_dom_classes": [],
            "_model_module": "@jupyter-widgets/controls",
            "_model_module_version": "1.5.0",
            "_model_name": "FloatProgressModel",
            "_view_count": null,
            "_view_module": "@jupyter-widgets/controls",
            "_view_module_version": "1.5.0",
            "_view_name": "ProgressView",
            "bar_style": "success",
            "description": "",
            "description_tooltip": null,
            "layout": "IPY_MODEL_a133f4c3525d47fbbd504c2b858fdc6e",
            "max": 9096718,
            "min": 0,
            "orientation": "horizontal",
            "style": "IPY_MODEL_d59952ea1ddc49529b2bc94ecdf980de",
            "value": 9096718
          }
        },
        "67d777d8644d4fb98fa0de4755fcdf2d": {
          "model_module": "@jupyter-widgets/controls",
          "model_name": "HTMLModel",
          "model_module_version": "1.5.0",
          "state": {
            "_dom_classes": [],
            "_model_module": "@jupyter-widgets/controls",
            "_model_module_version": "1.5.0",
            "_model_name": "HTMLModel",
            "_view_count": null,
            "_view_module": "@jupyter-widgets/controls",
            "_view_module_version": "1.5.0",
            "_view_name": "HTMLView",
            "description": "",
            "description_tooltip": null,
            "layout": "IPY_MODEL_4634ed1fda164fc39461e6ec28dd994e",
            "placeholder": "​",
            "style": "IPY_MODEL_ae1831fb230b403f9c4dbfa562060065",
            "value": " 9.10M/9.10M [00:00&lt;00:00, 14.0MB/s]"
          }
        },
        "ceadcaa376d04a629a924ce31b54d17c": {
          "model_module": "@jupyter-widgets/base",
          "model_name": "LayoutModel",
          "model_module_version": "1.2.0",
          "state": {
            "_model_module": "@jupyter-widgets/base",
            "_model_module_version": "1.2.0",
            "_model_name": "LayoutModel",
            "_view_count": null,
            "_view_module": "@jupyter-widgets/base",
            "_view_module_version": "1.2.0",
            "_view_name": "LayoutView",
            "align_content": null,
            "align_items": null,
            "align_self": null,
            "border": null,
            "bottom": null,
            "display": null,
            "flex": null,
            "flex_flow": null,
            "grid_area": null,
            "grid_auto_columns": null,
            "grid_auto_flow": null,
            "grid_auto_rows": null,
            "grid_column": null,
            "grid_gap": null,
            "grid_row": null,
            "grid_template_areas": null,
            "grid_template_columns": null,
            "grid_template_rows": null,
            "height": null,
            "justify_content": null,
            "justify_items": null,
            "left": null,
            "margin": null,
            "max_height": null,
            "max_width": null,
            "min_height": null,
            "min_width": null,
            "object_fit": null,
            "object_position": null,
            "order": null,
            "overflow": null,
            "overflow_x": null,
            "overflow_y": null,
            "padding": null,
            "right": null,
            "top": null,
            "visibility": null,
            "width": null
          }
        },
        "c2ebf6c2f8ba4ba789fb8802eeafae49": {
          "model_module": "@jupyter-widgets/base",
          "model_name": "LayoutModel",
          "model_module_version": "1.2.0",
          "state": {
            "_model_module": "@jupyter-widgets/base",
            "_model_module_version": "1.2.0",
            "_model_name": "LayoutModel",
            "_view_count": null,
            "_view_module": "@jupyter-widgets/base",
            "_view_module_version": "1.2.0",
            "_view_name": "LayoutView",
            "align_content": null,
            "align_items": null,
            "align_self": null,
            "border": null,
            "bottom": null,
            "display": null,
            "flex": null,
            "flex_flow": null,
            "grid_area": null,
            "grid_auto_columns": null,
            "grid_auto_flow": null,
            "grid_auto_rows": null,
            "grid_column": null,
            "grid_gap": null,
            "grid_row": null,
            "grid_template_areas": null,
            "grid_template_columns": null,
            "grid_template_rows": null,
            "height": null,
            "justify_content": null,
            "justify_items": null,
            "left": null,
            "margin": null,
            "max_height": null,
            "max_width": null,
            "min_height": null,
            "min_width": null,
            "object_fit": null,
            "object_position": null,
            "order": null,
            "overflow": null,
            "overflow_x": null,
            "overflow_y": null,
            "padding": null,
            "right": null,
            "top": null,
            "visibility": null,
            "width": null
          }
        },
        "0f2397e3d0c4460080222a859803dcca": {
          "model_module": "@jupyter-widgets/controls",
          "model_name": "DescriptionStyleModel",
          "model_module_version": "1.5.0",
          "state": {
            "_model_module": "@jupyter-widgets/controls",
            "_model_module_version": "1.5.0",
            "_model_name": "DescriptionStyleModel",
            "_view_count": null,
            "_view_module": "@jupyter-widgets/base",
            "_view_module_version": "1.2.0",
            "_view_name": "StyleView",
            "description_width": ""
          }
        },
        "a133f4c3525d47fbbd504c2b858fdc6e": {
          "model_module": "@jupyter-widgets/base",
          "model_name": "LayoutModel",
          "model_module_version": "1.2.0",
          "state": {
            "_model_module": "@jupyter-widgets/base",
            "_model_module_version": "1.2.0",
            "_model_name": "LayoutModel",
            "_view_count": null,
            "_view_module": "@jupyter-widgets/base",
            "_view_module_version": "1.2.0",
            "_view_name": "LayoutView",
            "align_content": null,
            "align_items": null,
            "align_self": null,
            "border": null,
            "bottom": null,
            "display": null,
            "flex": null,
            "flex_flow": null,
            "grid_area": null,
            "grid_auto_columns": null,
            "grid_auto_flow": null,
            "grid_auto_rows": null,
            "grid_column": null,
            "grid_gap": null,
            "grid_row": null,
            "grid_template_areas": null,
            "grid_template_columns": null,
            "grid_template_rows": null,
            "height": null,
            "justify_content": null,
            "justify_items": null,
            "left": null,
            "margin": null,
            "max_height": null,
            "max_width": null,
            "min_height": null,
            "min_width": null,
            "object_fit": null,
            "object_position": null,
            "order": null,
            "overflow": null,
            "overflow_x": null,
            "overflow_y": null,
            "padding": null,
            "right": null,
            "top": null,
            "visibility": null,
            "width": null
          }
        },
        "d59952ea1ddc49529b2bc94ecdf980de": {
          "model_module": "@jupyter-widgets/controls",
          "model_name": "ProgressStyleModel",
          "model_module_version": "1.5.0",
          "state": {
            "_model_module": "@jupyter-widgets/controls",
            "_model_module_version": "1.5.0",
            "_model_name": "ProgressStyleModel",
            "_view_count": null,
            "_view_module": "@jupyter-widgets/base",
            "_view_module_version": "1.2.0",
            "_view_name": "StyleView",
            "bar_color": null,
            "description_width": ""
          }
        },
        "4634ed1fda164fc39461e6ec28dd994e": {
          "model_module": "@jupyter-widgets/base",
          "model_name": "LayoutModel",
          "model_module_version": "1.2.0",
          "state": {
            "_model_module": "@jupyter-widgets/base",
            "_model_module_version": "1.2.0",
            "_model_name": "LayoutModel",
            "_view_count": null,
            "_view_module": "@jupyter-widgets/base",
            "_view_module_version": "1.2.0",
            "_view_name": "LayoutView",
            "align_content": null,
            "align_items": null,
            "align_self": null,
            "border": null,
            "bottom": null,
            "display": null,
            "flex": null,
            "flex_flow": null,
            "grid_area": null,
            "grid_auto_columns": null,
            "grid_auto_flow": null,
            "grid_auto_rows": null,
            "grid_column": null,
            "grid_gap": null,
            "grid_row": null,
            "grid_template_areas": null,
            "grid_template_columns": null,
            "grid_template_rows": null,
            "height": null,
            "justify_content": null,
            "justify_items": null,
            "left": null,
            "margin": null,
            "max_height": null,
            "max_width": null,
            "min_height": null,
            "min_width": null,
            "object_fit": null,
            "object_position": null,
            "order": null,
            "overflow": null,
            "overflow_x": null,
            "overflow_y": null,
            "padding": null,
            "right": null,
            "top": null,
            "visibility": null,
            "width": null
          }
        },
        "ae1831fb230b403f9c4dbfa562060065": {
          "model_module": "@jupyter-widgets/controls",
          "model_name": "DescriptionStyleModel",
          "model_module_version": "1.5.0",
          "state": {
            "_model_module": "@jupyter-widgets/controls",
            "_model_module_version": "1.5.0",
            "_model_name": "DescriptionStyleModel",
            "_view_count": null,
            "_view_module": "@jupyter-widgets/base",
            "_view_module_version": "1.2.0",
            "_view_name": "StyleView",
            "description_width": ""
          }
        },
        "ae6e93a1defe4183be4ab7ee8d323ff6": {
          "model_module": "@jupyter-widgets/controls",
          "model_name": "HBoxModel",
          "model_module_version": "1.5.0",
          "state": {
            "_dom_classes": [],
            "_model_module": "@jupyter-widgets/controls",
            "_model_module_version": "1.5.0",
            "_model_name": "HBoxModel",
            "_view_count": null,
            "_view_module": "@jupyter-widgets/controls",
            "_view_module_version": "1.5.0",
            "_view_name": "HBoxView",
            "box_style": "",
            "children": [
              "IPY_MODEL_3a5af6a93df94f56b157b9b46422ef82",
              "IPY_MODEL_87ccb927227a4c84bb78b3a7711e4963",
              "IPY_MODEL_dc5b95a07c024d489fd21fd248a1315c"
            ],
            "layout": "IPY_MODEL_fba9427fe0174f1fa718fb558cc9480b"
          }
        },
        "3a5af6a93df94f56b157b9b46422ef82": {
          "model_module": "@jupyter-widgets/controls",
          "model_name": "HTMLModel",
          "model_module_version": "1.5.0",
          "state": {
            "_dom_classes": [],
            "_model_module": "@jupyter-widgets/controls",
            "_model_module_version": "1.5.0",
            "_model_name": "HTMLModel",
            "_view_count": null,
            "_view_module": "@jupyter-widgets/controls",
            "_view_module_version": "1.5.0",
            "_view_name": "HTMLView",
            "description": "",
            "description_tooltip": null,
            "layout": "IPY_MODEL_dff2f7d4d39d4c89b95193884c1c0b45",
            "placeholder": "​",
            "style": "IPY_MODEL_0a0da02676ca4521a4c51eb403d3f60f",
            "value": "Map: 100%"
          }
        },
        "87ccb927227a4c84bb78b3a7711e4963": {
          "model_module": "@jupyter-widgets/controls",
          "model_name": "FloatProgressModel",
          "model_module_version": "1.5.0",
          "state": {
            "_dom_classes": [],
            "_model_module": "@jupyter-widgets/controls",
            "_model_module_version": "1.5.0",
            "_model_name": "FloatProgressModel",
            "_view_count": null,
            "_view_module": "@jupyter-widgets/controls",
            "_view_module_version": "1.5.0",
            "_view_name": "ProgressView",
            "bar_style": "success",
            "description": "",
            "description_tooltip": null,
            "layout": "IPY_MODEL_d6002c9b76574a91abe64f33fdec321d",
            "max": 13906,
            "min": 0,
            "orientation": "horizontal",
            "style": "IPY_MODEL_700e912e42ba41e9a8a4d9f8b443b150",
            "value": 13906
          }
        },
        "dc5b95a07c024d489fd21fd248a1315c": {
          "model_module": "@jupyter-widgets/controls",
          "model_name": "HTMLModel",
          "model_module_version": "1.5.0",
          "state": {
            "_dom_classes": [],
            "_model_module": "@jupyter-widgets/controls",
            "_model_module_version": "1.5.0",
            "_model_name": "HTMLModel",
            "_view_count": null,
            "_view_module": "@jupyter-widgets/controls",
            "_view_module_version": "1.5.0",
            "_view_name": "HTMLView",
            "description": "",
            "description_tooltip": null,
            "layout": "IPY_MODEL_e7e2cefce0eb42128ef408ce8c8c66bf",
            "placeholder": "​",
            "style": "IPY_MODEL_e0023cf75ec8403aba09ad4e9bb344bb",
            "value": " 13906/13906 [00:09&lt;00:00, 1395.62 examples/s]"
          }
        },
        "fba9427fe0174f1fa718fb558cc9480b": {
          "model_module": "@jupyter-widgets/base",
          "model_name": "LayoutModel",
          "model_module_version": "1.2.0",
          "state": {
            "_model_module": "@jupyter-widgets/base",
            "_model_module_version": "1.2.0",
            "_model_name": "LayoutModel",
            "_view_count": null,
            "_view_module": "@jupyter-widgets/base",
            "_view_module_version": "1.2.0",
            "_view_name": "LayoutView",
            "align_content": null,
            "align_items": null,
            "align_self": null,
            "border": null,
            "bottom": null,
            "display": null,
            "flex": null,
            "flex_flow": null,
            "grid_area": null,
            "grid_auto_columns": null,
            "grid_auto_flow": null,
            "grid_auto_rows": null,
            "grid_column": null,
            "grid_gap": null,
            "grid_row": null,
            "grid_template_areas": null,
            "grid_template_columns": null,
            "grid_template_rows": null,
            "height": null,
            "justify_content": null,
            "justify_items": null,
            "left": null,
            "margin": null,
            "max_height": null,
            "max_width": null,
            "min_height": null,
            "min_width": null,
            "object_fit": null,
            "object_position": null,
            "order": null,
            "overflow": null,
            "overflow_x": null,
            "overflow_y": null,
            "padding": null,
            "right": null,
            "top": null,
            "visibility": null,
            "width": null
          }
        },
        "dff2f7d4d39d4c89b95193884c1c0b45": {
          "model_module": "@jupyter-widgets/base",
          "model_name": "LayoutModel",
          "model_module_version": "1.2.0",
          "state": {
            "_model_module": "@jupyter-widgets/base",
            "_model_module_version": "1.2.0",
            "_model_name": "LayoutModel",
            "_view_count": null,
            "_view_module": "@jupyter-widgets/base",
            "_view_module_version": "1.2.0",
            "_view_name": "LayoutView",
            "align_content": null,
            "align_items": null,
            "align_self": null,
            "border": null,
            "bottom": null,
            "display": null,
            "flex": null,
            "flex_flow": null,
            "grid_area": null,
            "grid_auto_columns": null,
            "grid_auto_flow": null,
            "grid_auto_rows": null,
            "grid_column": null,
            "grid_gap": null,
            "grid_row": null,
            "grid_template_areas": null,
            "grid_template_columns": null,
            "grid_template_rows": null,
            "height": null,
            "justify_content": null,
            "justify_items": null,
            "left": null,
            "margin": null,
            "max_height": null,
            "max_width": null,
            "min_height": null,
            "min_width": null,
            "object_fit": null,
            "object_position": null,
            "order": null,
            "overflow": null,
            "overflow_x": null,
            "overflow_y": null,
            "padding": null,
            "right": null,
            "top": null,
            "visibility": null,
            "width": null
          }
        },
        "0a0da02676ca4521a4c51eb403d3f60f": {
          "model_module": "@jupyter-widgets/controls",
          "model_name": "DescriptionStyleModel",
          "model_module_version": "1.5.0",
          "state": {
            "_model_module": "@jupyter-widgets/controls",
            "_model_module_version": "1.5.0",
            "_model_name": "DescriptionStyleModel",
            "_view_count": null,
            "_view_module": "@jupyter-widgets/base",
            "_view_module_version": "1.2.0",
            "_view_name": "StyleView",
            "description_width": ""
          }
        },
        "d6002c9b76574a91abe64f33fdec321d": {
          "model_module": "@jupyter-widgets/base",
          "model_name": "LayoutModel",
          "model_module_version": "1.2.0",
          "state": {
            "_model_module": "@jupyter-widgets/base",
            "_model_module_version": "1.2.0",
            "_model_name": "LayoutModel",
            "_view_count": null,
            "_view_module": "@jupyter-widgets/base",
            "_view_module_version": "1.2.0",
            "_view_name": "LayoutView",
            "align_content": null,
            "align_items": null,
            "align_self": null,
            "border": null,
            "bottom": null,
            "display": null,
            "flex": null,
            "flex_flow": null,
            "grid_area": null,
            "grid_auto_columns": null,
            "grid_auto_flow": null,
            "grid_auto_rows": null,
            "grid_column": null,
            "grid_gap": null,
            "grid_row": null,
            "grid_template_areas": null,
            "grid_template_columns": null,
            "grid_template_rows": null,
            "height": null,
            "justify_content": null,
            "justify_items": null,
            "left": null,
            "margin": null,
            "max_height": null,
            "max_width": null,
            "min_height": null,
            "min_width": null,
            "object_fit": null,
            "object_position": null,
            "order": null,
            "overflow": null,
            "overflow_x": null,
            "overflow_y": null,
            "padding": null,
            "right": null,
            "top": null,
            "visibility": null,
            "width": null
          }
        },
        "700e912e42ba41e9a8a4d9f8b443b150": {
          "model_module": "@jupyter-widgets/controls",
          "model_name": "ProgressStyleModel",
          "model_module_version": "1.5.0",
          "state": {
            "_model_module": "@jupyter-widgets/controls",
            "_model_module_version": "1.5.0",
            "_model_name": "ProgressStyleModel",
            "_view_count": null,
            "_view_module": "@jupyter-widgets/base",
            "_view_module_version": "1.2.0",
            "_view_name": "StyleView",
            "bar_color": null,
            "description_width": ""
          }
        },
        "e7e2cefce0eb42128ef408ce8c8c66bf": {
          "model_module": "@jupyter-widgets/base",
          "model_name": "LayoutModel",
          "model_module_version": "1.2.0",
          "state": {
            "_model_module": "@jupyter-widgets/base",
            "_model_module_version": "1.2.0",
            "_model_name": "LayoutModel",
            "_view_count": null,
            "_view_module": "@jupyter-widgets/base",
            "_view_module_version": "1.2.0",
            "_view_name": "LayoutView",
            "align_content": null,
            "align_items": null,
            "align_self": null,
            "border": null,
            "bottom": null,
            "display": null,
            "flex": null,
            "flex_flow": null,
            "grid_area": null,
            "grid_auto_columns": null,
            "grid_auto_flow": null,
            "grid_auto_rows": null,
            "grid_column": null,
            "grid_gap": null,
            "grid_row": null,
            "grid_template_areas": null,
            "grid_template_columns": null,
            "grid_template_rows": null,
            "height": null,
            "justify_content": null,
            "justify_items": null,
            "left": null,
            "margin": null,
            "max_height": null,
            "max_width": null,
            "min_height": null,
            "min_width": null,
            "object_fit": null,
            "object_position": null,
            "order": null,
            "overflow": null,
            "overflow_x": null,
            "overflow_y": null,
            "padding": null,
            "right": null,
            "top": null,
            "visibility": null,
            "width": null
          }
        },
        "e0023cf75ec8403aba09ad4e9bb344bb": {
          "model_module": "@jupyter-widgets/controls",
          "model_name": "DescriptionStyleModel",
          "model_module_version": "1.5.0",
          "state": {
            "_model_module": "@jupyter-widgets/controls",
            "_model_module_version": "1.5.0",
            "_model_name": "DescriptionStyleModel",
            "_view_count": null,
            "_view_module": "@jupyter-widgets/base",
            "_view_module_version": "1.2.0",
            "_view_name": "StyleView",
            "description_width": ""
          }
        },
        "0d1798b511b54f2c96b0b409d6c87127": {
          "model_module": "@jupyter-widgets/controls",
          "model_name": "HBoxModel",
          "model_module_version": "1.5.0",
          "state": {
            "_dom_classes": [],
            "_model_module": "@jupyter-widgets/controls",
            "_model_module_version": "1.5.0",
            "_model_name": "HBoxModel",
            "_view_count": null,
            "_view_module": "@jupyter-widgets/controls",
            "_view_module_version": "1.5.0",
            "_view_name": "HBoxView",
            "box_style": "",
            "children": [
              "IPY_MODEL_b9942096ec014119b5042d0259ed1460",
              "IPY_MODEL_362f343a700c4fa5b60824469096ce6b",
              "IPY_MODEL_65a3484422a14f4c8419025f4dddfb27"
            ],
            "layout": "IPY_MODEL_e6205ce5509e49db91b2f39be369d94f"
          }
        },
        "b9942096ec014119b5042d0259ed1460": {
          "model_module": "@jupyter-widgets/controls",
          "model_name": "HTMLModel",
          "model_module_version": "1.5.0",
          "state": {
            "_dom_classes": [],
            "_model_module": "@jupyter-widgets/controls",
            "_model_module_version": "1.5.0",
            "_model_name": "HTMLModel",
            "_view_count": null,
            "_view_module": "@jupyter-widgets/controls",
            "_view_module_version": "1.5.0",
            "_view_name": "HTMLView",
            "description": "",
            "description_tooltip": null,
            "layout": "IPY_MODEL_dd2321ea0a28469b90e917d4c49bcd19",
            "placeholder": "​",
            "style": "IPY_MODEL_38310e43eb4a443da1c22d31006d57c9",
            "value": "Map: 100%"
          }
        },
        "362f343a700c4fa5b60824469096ce6b": {
          "model_module": "@jupyter-widgets/controls",
          "model_name": "FloatProgressModel",
          "model_module_version": "1.5.0",
          "state": {
            "_dom_classes": [],
            "_model_module": "@jupyter-widgets/controls",
            "_model_module_version": "1.5.0",
            "_model_name": "FloatProgressModel",
            "_view_count": null,
            "_view_module": "@jupyter-widgets/controls",
            "_view_module_version": "1.5.0",
            "_view_name": "ProgressView",
            "bar_style": "success",
            "description": "",
            "description_tooltip": null,
            "layout": "IPY_MODEL_7fb15a58ef9643ecbd457f172955e992",
            "max": 1739,
            "min": 0,
            "orientation": "horizontal",
            "style": "IPY_MODEL_f8b9e460d4d846ddb7192171a310f7fe",
            "value": 1739
          }
        },
        "65a3484422a14f4c8419025f4dddfb27": {
          "model_module": "@jupyter-widgets/controls",
          "model_name": "HTMLModel",
          "model_module_version": "1.5.0",
          "state": {
            "_dom_classes": [],
            "_model_module": "@jupyter-widgets/controls",
            "_model_module_version": "1.5.0",
            "_model_name": "HTMLModel",
            "_view_count": null,
            "_view_module": "@jupyter-widgets/controls",
            "_view_module_version": "1.5.0",
            "_view_name": "HTMLView",
            "description": "",
            "description_tooltip": null,
            "layout": "IPY_MODEL_67951ce9cc38434aaa491e68dd3c94bf",
            "placeholder": "​",
            "style": "IPY_MODEL_50da9261d4064e4ba4bbfdadd72c96d2",
            "value": " 1739/1739 [00:01&lt;00:00, 1563.97 examples/s]"
          }
        },
        "e6205ce5509e49db91b2f39be369d94f": {
          "model_module": "@jupyter-widgets/base",
          "model_name": "LayoutModel",
          "model_module_version": "1.2.0",
          "state": {
            "_model_module": "@jupyter-widgets/base",
            "_model_module_version": "1.2.0",
            "_model_name": "LayoutModel",
            "_view_count": null,
            "_view_module": "@jupyter-widgets/base",
            "_view_module_version": "1.2.0",
            "_view_name": "LayoutView",
            "align_content": null,
            "align_items": null,
            "align_self": null,
            "border": null,
            "bottom": null,
            "display": null,
            "flex": null,
            "flex_flow": null,
            "grid_area": null,
            "grid_auto_columns": null,
            "grid_auto_flow": null,
            "grid_auto_rows": null,
            "grid_column": null,
            "grid_gap": null,
            "grid_row": null,
            "grid_template_areas": null,
            "grid_template_columns": null,
            "grid_template_rows": null,
            "height": null,
            "justify_content": null,
            "justify_items": null,
            "left": null,
            "margin": null,
            "max_height": null,
            "max_width": null,
            "min_height": null,
            "min_width": null,
            "object_fit": null,
            "object_position": null,
            "order": null,
            "overflow": null,
            "overflow_x": null,
            "overflow_y": null,
            "padding": null,
            "right": null,
            "top": null,
            "visibility": null,
            "width": null
          }
        },
        "dd2321ea0a28469b90e917d4c49bcd19": {
          "model_module": "@jupyter-widgets/base",
          "model_name": "LayoutModel",
          "model_module_version": "1.2.0",
          "state": {
            "_model_module": "@jupyter-widgets/base",
            "_model_module_version": "1.2.0",
            "_model_name": "LayoutModel",
            "_view_count": null,
            "_view_module": "@jupyter-widgets/base",
            "_view_module_version": "1.2.0",
            "_view_name": "LayoutView",
            "align_content": null,
            "align_items": null,
            "align_self": null,
            "border": null,
            "bottom": null,
            "display": null,
            "flex": null,
            "flex_flow": null,
            "grid_area": null,
            "grid_auto_columns": null,
            "grid_auto_flow": null,
            "grid_auto_rows": null,
            "grid_column": null,
            "grid_gap": null,
            "grid_row": null,
            "grid_template_areas": null,
            "grid_template_columns": null,
            "grid_template_rows": null,
            "height": null,
            "justify_content": null,
            "justify_items": null,
            "left": null,
            "margin": null,
            "max_height": null,
            "max_width": null,
            "min_height": null,
            "min_width": null,
            "object_fit": null,
            "object_position": null,
            "order": null,
            "overflow": null,
            "overflow_x": null,
            "overflow_y": null,
            "padding": null,
            "right": null,
            "top": null,
            "visibility": null,
            "width": null
          }
        },
        "38310e43eb4a443da1c22d31006d57c9": {
          "model_module": "@jupyter-widgets/controls",
          "model_name": "DescriptionStyleModel",
          "model_module_version": "1.5.0",
          "state": {
            "_model_module": "@jupyter-widgets/controls",
            "_model_module_version": "1.5.0",
            "_model_name": "DescriptionStyleModel",
            "_view_count": null,
            "_view_module": "@jupyter-widgets/base",
            "_view_module_version": "1.2.0",
            "_view_name": "StyleView",
            "description_width": ""
          }
        },
        "7fb15a58ef9643ecbd457f172955e992": {
          "model_module": "@jupyter-widgets/base",
          "model_name": "LayoutModel",
          "model_module_version": "1.2.0",
          "state": {
            "_model_module": "@jupyter-widgets/base",
            "_model_module_version": "1.2.0",
            "_model_name": "LayoutModel",
            "_view_count": null,
            "_view_module": "@jupyter-widgets/base",
            "_view_module_version": "1.2.0",
            "_view_name": "LayoutView",
            "align_content": null,
            "align_items": null,
            "align_self": null,
            "border": null,
            "bottom": null,
            "display": null,
            "flex": null,
            "flex_flow": null,
            "grid_area": null,
            "grid_auto_columns": null,
            "grid_auto_flow": null,
            "grid_auto_rows": null,
            "grid_column": null,
            "grid_gap": null,
            "grid_row": null,
            "grid_template_areas": null,
            "grid_template_columns": null,
            "grid_template_rows": null,
            "height": null,
            "justify_content": null,
            "justify_items": null,
            "left": null,
            "margin": null,
            "max_height": null,
            "max_width": null,
            "min_height": null,
            "min_width": null,
            "object_fit": null,
            "object_position": null,
            "order": null,
            "overflow": null,
            "overflow_x": null,
            "overflow_y": null,
            "padding": null,
            "right": null,
            "top": null,
            "visibility": null,
            "width": null
          }
        },
        "f8b9e460d4d846ddb7192171a310f7fe": {
          "model_module": "@jupyter-widgets/controls",
          "model_name": "ProgressStyleModel",
          "model_module_version": "1.5.0",
          "state": {
            "_model_module": "@jupyter-widgets/controls",
            "_model_module_version": "1.5.0",
            "_model_name": "ProgressStyleModel",
            "_view_count": null,
            "_view_module": "@jupyter-widgets/base",
            "_view_module_version": "1.2.0",
            "_view_name": "StyleView",
            "bar_color": null,
            "description_width": ""
          }
        },
        "67951ce9cc38434aaa491e68dd3c94bf": {
          "model_module": "@jupyter-widgets/base",
          "model_name": "LayoutModel",
          "model_module_version": "1.2.0",
          "state": {
            "_model_module": "@jupyter-widgets/base",
            "_model_module_version": "1.2.0",
            "_model_name": "LayoutModel",
            "_view_count": null,
            "_view_module": "@jupyter-widgets/base",
            "_view_module_version": "1.2.0",
            "_view_name": "LayoutView",
            "align_content": null,
            "align_items": null,
            "align_self": null,
            "border": null,
            "bottom": null,
            "display": null,
            "flex": null,
            "flex_flow": null,
            "grid_area": null,
            "grid_auto_columns": null,
            "grid_auto_flow": null,
            "grid_auto_rows": null,
            "grid_column": null,
            "grid_gap": null,
            "grid_row": null,
            "grid_template_areas": null,
            "grid_template_columns": null,
            "grid_template_rows": null,
            "height": null,
            "justify_content": null,
            "justify_items": null,
            "left": null,
            "margin": null,
            "max_height": null,
            "max_width": null,
            "min_height": null,
            "min_width": null,
            "object_fit": null,
            "object_position": null,
            "order": null,
            "overflow": null,
            "overflow_x": null,
            "overflow_y": null,
            "padding": null,
            "right": null,
            "top": null,
            "visibility": null,
            "width": null
          }
        },
        "50da9261d4064e4ba4bbfdadd72c96d2": {
          "model_module": "@jupyter-widgets/controls",
          "model_name": "DescriptionStyleModel",
          "model_module_version": "1.5.0",
          "state": {
            "_model_module": "@jupyter-widgets/controls",
            "_model_module_version": "1.5.0",
            "_model_name": "DescriptionStyleModel",
            "_view_count": null,
            "_view_module": "@jupyter-widgets/base",
            "_view_module_version": "1.2.0",
            "_view_name": "StyleView",
            "description_width": ""
          }
        },
        "9a1247d7b51645fba828e06af35dda4d": {
          "model_module": "@jupyter-widgets/controls",
          "model_name": "HBoxModel",
          "model_module_version": "1.5.0",
          "state": {
            "_dom_classes": [],
            "_model_module": "@jupyter-widgets/controls",
            "_model_module_version": "1.5.0",
            "_model_name": "HBoxModel",
            "_view_count": null,
            "_view_module": "@jupyter-widgets/controls",
            "_view_module_version": "1.5.0",
            "_view_name": "HBoxView",
            "box_style": "",
            "children": [
              "IPY_MODEL_7abe80def8994c7db821c8b3a73088e4",
              "IPY_MODEL_f1f927566057494593ea25023267d98c",
              "IPY_MODEL_40f69e65a168477ca37c516dd83e0228"
            ],
            "layout": "IPY_MODEL_a91a93958da642b48704f59929c68381"
          }
        },
        "7abe80def8994c7db821c8b3a73088e4": {
          "model_module": "@jupyter-widgets/controls",
          "model_name": "HTMLModel",
          "model_module_version": "1.5.0",
          "state": {
            "_dom_classes": [],
            "_model_module": "@jupyter-widgets/controls",
            "_model_module_version": "1.5.0",
            "_model_name": "HTMLModel",
            "_view_count": null,
            "_view_module": "@jupyter-widgets/controls",
            "_view_module_version": "1.5.0",
            "_view_name": "HTMLView",
            "description": "",
            "description_tooltip": null,
            "layout": "IPY_MODEL_34da981922514b0485491bb8d9502488",
            "placeholder": "​",
            "style": "IPY_MODEL_04883c50bf4a4391aea3be4a6ec7a0d5",
            "value": "model.safetensors: 100%"
          }
        },
        "f1f927566057494593ea25023267d98c": {
          "model_module": "@jupyter-widgets/controls",
          "model_name": "FloatProgressModel",
          "model_module_version": "1.5.0",
          "state": {
            "_dom_classes": [],
            "_model_module": "@jupyter-widgets/controls",
            "_model_module_version": "1.5.0",
            "_model_name": "FloatProgressModel",
            "_view_count": null,
            "_view_module": "@jupyter-widgets/controls",
            "_view_module_version": "1.5.0",
            "_view_name": "ProgressView",
            "bar_style": "success",
            "description": "",
            "description_tooltip": null,
            "layout": "IPY_MODEL_73cb86bf4a5f498783a462c52c92b829",
            "max": 1115567652,
            "min": 0,
            "orientation": "horizontal",
            "style": "IPY_MODEL_15e5a553575c402c9c0acccab130987f",
            "value": 1115567652
          }
        },
        "40f69e65a168477ca37c516dd83e0228": {
          "model_module": "@jupyter-widgets/controls",
          "model_name": "HTMLModel",
          "model_module_version": "1.5.0",
          "state": {
            "_dom_classes": [],
            "_model_module": "@jupyter-widgets/controls",
            "_model_module_version": "1.5.0",
            "_model_name": "HTMLModel",
            "_view_count": null,
            "_view_module": "@jupyter-widgets/controls",
            "_view_module_version": "1.5.0",
            "_view_name": "HTMLView",
            "description": "",
            "description_tooltip": null,
            "layout": "IPY_MODEL_5147039e02a54fd9879937b10124b770",
            "placeholder": "​",
            "style": "IPY_MODEL_27beffb5076846d49ae8315515b58ef8",
            "value": " 1.12G/1.12G [00:04&lt;00:00, 208MB/s]"
          }
        },
        "a91a93958da642b48704f59929c68381": {
          "model_module": "@jupyter-widgets/base",
          "model_name": "LayoutModel",
          "model_module_version": "1.2.0",
          "state": {
            "_model_module": "@jupyter-widgets/base",
            "_model_module_version": "1.2.0",
            "_model_name": "LayoutModel",
            "_view_count": null,
            "_view_module": "@jupyter-widgets/base",
            "_view_module_version": "1.2.0",
            "_view_name": "LayoutView",
            "align_content": null,
            "align_items": null,
            "align_self": null,
            "border": null,
            "bottom": null,
            "display": null,
            "flex": null,
            "flex_flow": null,
            "grid_area": null,
            "grid_auto_columns": null,
            "grid_auto_flow": null,
            "grid_auto_rows": null,
            "grid_column": null,
            "grid_gap": null,
            "grid_row": null,
            "grid_template_areas": null,
            "grid_template_columns": null,
            "grid_template_rows": null,
            "height": null,
            "justify_content": null,
            "justify_items": null,
            "left": null,
            "margin": null,
            "max_height": null,
            "max_width": null,
            "min_height": null,
            "min_width": null,
            "object_fit": null,
            "object_position": null,
            "order": null,
            "overflow": null,
            "overflow_x": null,
            "overflow_y": null,
            "padding": null,
            "right": null,
            "top": null,
            "visibility": null,
            "width": null
          }
        },
        "34da981922514b0485491bb8d9502488": {
          "model_module": "@jupyter-widgets/base",
          "model_name": "LayoutModel",
          "model_module_version": "1.2.0",
          "state": {
            "_model_module": "@jupyter-widgets/base",
            "_model_module_version": "1.2.0",
            "_model_name": "LayoutModel",
            "_view_count": null,
            "_view_module": "@jupyter-widgets/base",
            "_view_module_version": "1.2.0",
            "_view_name": "LayoutView",
            "align_content": null,
            "align_items": null,
            "align_self": null,
            "border": null,
            "bottom": null,
            "display": null,
            "flex": null,
            "flex_flow": null,
            "grid_area": null,
            "grid_auto_columns": null,
            "grid_auto_flow": null,
            "grid_auto_rows": null,
            "grid_column": null,
            "grid_gap": null,
            "grid_row": null,
            "grid_template_areas": null,
            "grid_template_columns": null,
            "grid_template_rows": null,
            "height": null,
            "justify_content": null,
            "justify_items": null,
            "left": null,
            "margin": null,
            "max_height": null,
            "max_width": null,
            "min_height": null,
            "min_width": null,
            "object_fit": null,
            "object_position": null,
            "order": null,
            "overflow": null,
            "overflow_x": null,
            "overflow_y": null,
            "padding": null,
            "right": null,
            "top": null,
            "visibility": null,
            "width": null
          }
        },
        "04883c50bf4a4391aea3be4a6ec7a0d5": {
          "model_module": "@jupyter-widgets/controls",
          "model_name": "DescriptionStyleModel",
          "model_module_version": "1.5.0",
          "state": {
            "_model_module": "@jupyter-widgets/controls",
            "_model_module_version": "1.5.0",
            "_model_name": "DescriptionStyleModel",
            "_view_count": null,
            "_view_module": "@jupyter-widgets/base",
            "_view_module_version": "1.2.0",
            "_view_name": "StyleView",
            "description_width": ""
          }
        },
        "73cb86bf4a5f498783a462c52c92b829": {
          "model_module": "@jupyter-widgets/base",
          "model_name": "LayoutModel",
          "model_module_version": "1.2.0",
          "state": {
            "_model_module": "@jupyter-widgets/base",
            "_model_module_version": "1.2.0",
            "_model_name": "LayoutModel",
            "_view_count": null,
            "_view_module": "@jupyter-widgets/base",
            "_view_module_version": "1.2.0",
            "_view_name": "LayoutView",
            "align_content": null,
            "align_items": null,
            "align_self": null,
            "border": null,
            "bottom": null,
            "display": null,
            "flex": null,
            "flex_flow": null,
            "grid_area": null,
            "grid_auto_columns": null,
            "grid_auto_flow": null,
            "grid_auto_rows": null,
            "grid_column": null,
            "grid_gap": null,
            "grid_row": null,
            "grid_template_areas": null,
            "grid_template_columns": null,
            "grid_template_rows": null,
            "height": null,
            "justify_content": null,
            "justify_items": null,
            "left": null,
            "margin": null,
            "max_height": null,
            "max_width": null,
            "min_height": null,
            "min_width": null,
            "object_fit": null,
            "object_position": null,
            "order": null,
            "overflow": null,
            "overflow_x": null,
            "overflow_y": null,
            "padding": null,
            "right": null,
            "top": null,
            "visibility": null,
            "width": null
          }
        },
        "15e5a553575c402c9c0acccab130987f": {
          "model_module": "@jupyter-widgets/controls",
          "model_name": "ProgressStyleModel",
          "model_module_version": "1.5.0",
          "state": {
            "_model_module": "@jupyter-widgets/controls",
            "_model_module_version": "1.5.0",
            "_model_name": "ProgressStyleModel",
            "_view_count": null,
            "_view_module": "@jupyter-widgets/base",
            "_view_module_version": "1.2.0",
            "_view_name": "StyleView",
            "bar_color": null,
            "description_width": ""
          }
        },
        "5147039e02a54fd9879937b10124b770": {
          "model_module": "@jupyter-widgets/base",
          "model_name": "LayoutModel",
          "model_module_version": "1.2.0",
          "state": {
            "_model_module": "@jupyter-widgets/base",
            "_model_module_version": "1.2.0",
            "_model_name": "LayoutModel",
            "_view_count": null,
            "_view_module": "@jupyter-widgets/base",
            "_view_module_version": "1.2.0",
            "_view_name": "LayoutView",
            "align_content": null,
            "align_items": null,
            "align_self": null,
            "border": null,
            "bottom": null,
            "display": null,
            "flex": null,
            "flex_flow": null,
            "grid_area": null,
            "grid_auto_columns": null,
            "grid_auto_flow": null,
            "grid_auto_rows": null,
            "grid_column": null,
            "grid_gap": null,
            "grid_row": null,
            "grid_template_areas": null,
            "grid_template_columns": null,
            "grid_template_rows": null,
            "height": null,
            "justify_content": null,
            "justify_items": null,
            "left": null,
            "margin": null,
            "max_height": null,
            "max_width": null,
            "min_height": null,
            "min_width": null,
            "object_fit": null,
            "object_position": null,
            "order": null,
            "overflow": null,
            "overflow_x": null,
            "overflow_y": null,
            "padding": null,
            "right": null,
            "top": null,
            "visibility": null,
            "width": null
          }
        },
        "27beffb5076846d49ae8315515b58ef8": {
          "model_module": "@jupyter-widgets/controls",
          "model_name": "DescriptionStyleModel",
          "model_module_version": "1.5.0",
          "state": {
            "_model_module": "@jupyter-widgets/controls",
            "_model_module_version": "1.5.0",
            "_model_name": "DescriptionStyleModel",
            "_view_count": null,
            "_view_module": "@jupyter-widgets/base",
            "_view_module_version": "1.2.0",
            "_view_name": "StyleView",
            "description_width": ""
          }
        },
        "d4e8467461e84d68bd9d88329c6d250c": {
          "model_module": "@jupyter-widgets/controls",
          "model_name": "HBoxModel",
          "model_module_version": "1.5.0",
          "state": {
            "_dom_classes": [],
            "_model_module": "@jupyter-widgets/controls",
            "_model_module_version": "1.5.0",
            "_model_name": "HBoxModel",
            "_view_count": null,
            "_view_module": "@jupyter-widgets/controls",
            "_view_module_version": "1.5.0",
            "_view_name": "HBoxView",
            "box_style": "",
            "children": [
              "IPY_MODEL_9a85e2e8a7ee4076be1d92ec9fef70fd",
              "IPY_MODEL_7b5e33ef5c88403687c9e89e3b82d15f",
              "IPY_MODEL_d553732ec3a04d17ae728b9d1b4f461e"
            ],
            "layout": "IPY_MODEL_d0c77498042640109271cd163da948bb"
          }
        },
        "9a85e2e8a7ee4076be1d92ec9fef70fd": {
          "model_module": "@jupyter-widgets/controls",
          "model_name": "HTMLModel",
          "model_module_version": "1.5.0",
          "state": {
            "_dom_classes": [],
            "_model_module": "@jupyter-widgets/controls",
            "_model_module_version": "1.5.0",
            "_model_name": "HTMLModel",
            "_view_count": null,
            "_view_module": "@jupyter-widgets/controls",
            "_view_module_version": "1.5.0",
            "_view_name": "HTMLView",
            "description": "",
            "description_tooltip": null,
            "layout": "IPY_MODEL_889d28b505a84cbeab9befa3387fbcab",
            "placeholder": "​",
            "style": "IPY_MODEL_cc54af3c25744d35a177c6bddccf4938",
            "value": "Downloading builder script: 100%"
          }
        },
        "7b5e33ef5c88403687c9e89e3b82d15f": {
          "model_module": "@jupyter-widgets/controls",
          "model_name": "FloatProgressModel",
          "model_module_version": "1.5.0",
          "state": {
            "_dom_classes": [],
            "_model_module": "@jupyter-widgets/controls",
            "_model_module_version": "1.5.0",
            "_model_name": "FloatProgressModel",
            "_view_count": null,
            "_view_module": "@jupyter-widgets/controls",
            "_view_module_version": "1.5.0",
            "_view_name": "ProgressView",
            "bar_style": "success",
            "description": "",
            "description_tooltip": null,
            "layout": "IPY_MODEL_4546085574534404917a06fc5d5a7d30",
            "max": 4203,
            "min": 0,
            "orientation": "horizontal",
            "style": "IPY_MODEL_b8ca835653654e709525dd9c66c53059",
            "value": 4203
          }
        },
        "d553732ec3a04d17ae728b9d1b4f461e": {
          "model_module": "@jupyter-widgets/controls",
          "model_name": "HTMLModel",
          "model_module_version": "1.5.0",
          "state": {
            "_dom_classes": [],
            "_model_module": "@jupyter-widgets/controls",
            "_model_module_version": "1.5.0",
            "_model_name": "HTMLModel",
            "_view_count": null,
            "_view_module": "@jupyter-widgets/controls",
            "_view_module_version": "1.5.0",
            "_view_name": "HTMLView",
            "description": "",
            "description_tooltip": null,
            "layout": "IPY_MODEL_8f4652030c4847369c0d3549247f19f0",
            "placeholder": "​",
            "style": "IPY_MODEL_18d4bbff2e064291924934d062f4d808",
            "value": " 4.20k/4.20k [00:00&lt;00:00, 354kB/s]"
          }
        },
        "d0c77498042640109271cd163da948bb": {
          "model_module": "@jupyter-widgets/base",
          "model_name": "LayoutModel",
          "model_module_version": "1.2.0",
          "state": {
            "_model_module": "@jupyter-widgets/base",
            "_model_module_version": "1.2.0",
            "_model_name": "LayoutModel",
            "_view_count": null,
            "_view_module": "@jupyter-widgets/base",
            "_view_module_version": "1.2.0",
            "_view_name": "LayoutView",
            "align_content": null,
            "align_items": null,
            "align_self": null,
            "border": null,
            "bottom": null,
            "display": null,
            "flex": null,
            "flex_flow": null,
            "grid_area": null,
            "grid_auto_columns": null,
            "grid_auto_flow": null,
            "grid_auto_rows": null,
            "grid_column": null,
            "grid_gap": null,
            "grid_row": null,
            "grid_template_areas": null,
            "grid_template_columns": null,
            "grid_template_rows": null,
            "height": null,
            "justify_content": null,
            "justify_items": null,
            "left": null,
            "margin": null,
            "max_height": null,
            "max_width": null,
            "min_height": null,
            "min_width": null,
            "object_fit": null,
            "object_position": null,
            "order": null,
            "overflow": null,
            "overflow_x": null,
            "overflow_y": null,
            "padding": null,
            "right": null,
            "top": null,
            "visibility": null,
            "width": null
          }
        },
        "889d28b505a84cbeab9befa3387fbcab": {
          "model_module": "@jupyter-widgets/base",
          "model_name": "LayoutModel",
          "model_module_version": "1.2.0",
          "state": {
            "_model_module": "@jupyter-widgets/base",
            "_model_module_version": "1.2.0",
            "_model_name": "LayoutModel",
            "_view_count": null,
            "_view_module": "@jupyter-widgets/base",
            "_view_module_version": "1.2.0",
            "_view_name": "LayoutView",
            "align_content": null,
            "align_items": null,
            "align_self": null,
            "border": null,
            "bottom": null,
            "display": null,
            "flex": null,
            "flex_flow": null,
            "grid_area": null,
            "grid_auto_columns": null,
            "grid_auto_flow": null,
            "grid_auto_rows": null,
            "grid_column": null,
            "grid_gap": null,
            "grid_row": null,
            "grid_template_areas": null,
            "grid_template_columns": null,
            "grid_template_rows": null,
            "height": null,
            "justify_content": null,
            "justify_items": null,
            "left": null,
            "margin": null,
            "max_height": null,
            "max_width": null,
            "min_height": null,
            "min_width": null,
            "object_fit": null,
            "object_position": null,
            "order": null,
            "overflow": null,
            "overflow_x": null,
            "overflow_y": null,
            "padding": null,
            "right": null,
            "top": null,
            "visibility": null,
            "width": null
          }
        },
        "cc54af3c25744d35a177c6bddccf4938": {
          "model_module": "@jupyter-widgets/controls",
          "model_name": "DescriptionStyleModel",
          "model_module_version": "1.5.0",
          "state": {
            "_model_module": "@jupyter-widgets/controls",
            "_model_module_version": "1.5.0",
            "_model_name": "DescriptionStyleModel",
            "_view_count": null,
            "_view_module": "@jupyter-widgets/base",
            "_view_module_version": "1.2.0",
            "_view_name": "StyleView",
            "description_width": ""
          }
        },
        "4546085574534404917a06fc5d5a7d30": {
          "model_module": "@jupyter-widgets/base",
          "model_name": "LayoutModel",
          "model_module_version": "1.2.0",
          "state": {
            "_model_module": "@jupyter-widgets/base",
            "_model_module_version": "1.2.0",
            "_model_name": "LayoutModel",
            "_view_count": null,
            "_view_module": "@jupyter-widgets/base",
            "_view_module_version": "1.2.0",
            "_view_name": "LayoutView",
            "align_content": null,
            "align_items": null,
            "align_self": null,
            "border": null,
            "bottom": null,
            "display": null,
            "flex": null,
            "flex_flow": null,
            "grid_area": null,
            "grid_auto_columns": null,
            "grid_auto_flow": null,
            "grid_auto_rows": null,
            "grid_column": null,
            "grid_gap": null,
            "grid_row": null,
            "grid_template_areas": null,
            "grid_template_columns": null,
            "grid_template_rows": null,
            "height": null,
            "justify_content": null,
            "justify_items": null,
            "left": null,
            "margin": null,
            "max_height": null,
            "max_width": null,
            "min_height": null,
            "min_width": null,
            "object_fit": null,
            "object_position": null,
            "order": null,
            "overflow": null,
            "overflow_x": null,
            "overflow_y": null,
            "padding": null,
            "right": null,
            "top": null,
            "visibility": null,
            "width": null
          }
        },
        "b8ca835653654e709525dd9c66c53059": {
          "model_module": "@jupyter-widgets/controls",
          "model_name": "ProgressStyleModel",
          "model_module_version": "1.5.0",
          "state": {
            "_model_module": "@jupyter-widgets/controls",
            "_model_module_version": "1.5.0",
            "_model_name": "ProgressStyleModel",
            "_view_count": null,
            "_view_module": "@jupyter-widgets/base",
            "_view_module_version": "1.2.0",
            "_view_name": "StyleView",
            "bar_color": null,
            "description_width": ""
          }
        },
        "8f4652030c4847369c0d3549247f19f0": {
          "model_module": "@jupyter-widgets/base",
          "model_name": "LayoutModel",
          "model_module_version": "1.2.0",
          "state": {
            "_model_module": "@jupyter-widgets/base",
            "_model_module_version": "1.2.0",
            "_model_name": "LayoutModel",
            "_view_count": null,
            "_view_module": "@jupyter-widgets/base",
            "_view_module_version": "1.2.0",
            "_view_name": "LayoutView",
            "align_content": null,
            "align_items": null,
            "align_self": null,
            "border": null,
            "bottom": null,
            "display": null,
            "flex": null,
            "flex_flow": null,
            "grid_area": null,
            "grid_auto_columns": null,
            "grid_auto_flow": null,
            "grid_auto_rows": null,
            "grid_column": null,
            "grid_gap": null,
            "grid_row": null,
            "grid_template_areas": null,
            "grid_template_columns": null,
            "grid_template_rows": null,
            "height": null,
            "justify_content": null,
            "justify_items": null,
            "left": null,
            "margin": null,
            "max_height": null,
            "max_width": null,
            "min_height": null,
            "min_width": null,
            "object_fit": null,
            "object_position": null,
            "order": null,
            "overflow": null,
            "overflow_x": null,
            "overflow_y": null,
            "padding": null,
            "right": null,
            "top": null,
            "visibility": null,
            "width": null
          }
        },
        "18d4bbff2e064291924934d062f4d808": {
          "model_module": "@jupyter-widgets/controls",
          "model_name": "DescriptionStyleModel",
          "model_module_version": "1.5.0",
          "state": {
            "_model_module": "@jupyter-widgets/controls",
            "_model_module_version": "1.5.0",
            "_model_name": "DescriptionStyleModel",
            "_view_count": null,
            "_view_module": "@jupyter-widgets/base",
            "_view_module_version": "1.2.0",
            "_view_name": "StyleView",
            "description_width": ""
          }
        },
        "6874f4217e874de5ad2084b97dd03042": {
          "model_module": "@jupyter-widgets/controls",
          "model_name": "HBoxModel",
          "model_module_version": "1.5.0",
          "state": {
            "_dom_classes": [],
            "_model_module": "@jupyter-widgets/controls",
            "_model_module_version": "1.5.0",
            "_model_name": "HBoxModel",
            "_view_count": null,
            "_view_module": "@jupyter-widgets/controls",
            "_view_module_version": "1.5.0",
            "_view_name": "HBoxView",
            "box_style": "",
            "children": [
              "IPY_MODEL_873d5a10100044b8aaeb2ed27e79f245",
              "IPY_MODEL_390099e85a744b51b4c9cc09c23bc98c",
              "IPY_MODEL_22c9cf35b1fb47dabae120794b1ebb51"
            ],
            "layout": "IPY_MODEL_4404764070a64d678e31d6a734c285b9"
          }
        },
        "873d5a10100044b8aaeb2ed27e79f245": {
          "model_module": "@jupyter-widgets/controls",
          "model_name": "HTMLModel",
          "model_module_version": "1.5.0",
          "state": {
            "_dom_classes": [],
            "_model_module": "@jupyter-widgets/controls",
            "_model_module_version": "1.5.0",
            "_model_name": "HTMLModel",
            "_view_count": null,
            "_view_module": "@jupyter-widgets/controls",
            "_view_module_version": "1.5.0",
            "_view_name": "HTMLView",
            "description": "",
            "description_tooltip": null,
            "layout": "IPY_MODEL_bc8154e0b1834a6db30a1b6757b98aa3",
            "placeholder": "​",
            "style": "IPY_MODEL_956ab628a13c4677bf945c0da6d2957e",
            "value": "Map: 100%"
          }
        },
        "390099e85a744b51b4c9cc09c23bc98c": {
          "model_module": "@jupyter-widgets/controls",
          "model_name": "FloatProgressModel",
          "model_module_version": "1.5.0",
          "state": {
            "_dom_classes": [],
            "_model_module": "@jupyter-widgets/controls",
            "_model_module_version": "1.5.0",
            "_model_name": "FloatProgressModel",
            "_view_count": null,
            "_view_module": "@jupyter-widgets/controls",
            "_view_module_version": "1.5.0",
            "_view_name": "ProgressView",
            "bar_style": "success",
            "description": "",
            "description_tooltip": null,
            "layout": "IPY_MODEL_9476fb61a1c0460facf9672189121155",
            "max": 1739,
            "min": 0,
            "orientation": "horizontal",
            "style": "IPY_MODEL_05fec971b3ef459da201d7ddc607617c",
            "value": 1739
          }
        },
        "22c9cf35b1fb47dabae120794b1ebb51": {
          "model_module": "@jupyter-widgets/controls",
          "model_name": "HTMLModel",
          "model_module_version": "1.5.0",
          "state": {
            "_dom_classes": [],
            "_model_module": "@jupyter-widgets/controls",
            "_model_module_version": "1.5.0",
            "_model_name": "HTMLModel",
            "_view_count": null,
            "_view_module": "@jupyter-widgets/controls",
            "_view_module_version": "1.5.0",
            "_view_name": "HTMLView",
            "description": "",
            "description_tooltip": null,
            "layout": "IPY_MODEL_5aa4f6a5d51643d389c148765ff6a1da",
            "placeholder": "​",
            "style": "IPY_MODEL_9f4ec69baef04dcf9965d8edf1cb8172",
            "value": " 1739/1739 [00:01&lt;00:00, 1659.32 examples/s]"
          }
        },
        "4404764070a64d678e31d6a734c285b9": {
          "model_module": "@jupyter-widgets/base",
          "model_name": "LayoutModel",
          "model_module_version": "1.2.0",
          "state": {
            "_model_module": "@jupyter-widgets/base",
            "_model_module_version": "1.2.0",
            "_model_name": "LayoutModel",
            "_view_count": null,
            "_view_module": "@jupyter-widgets/base",
            "_view_module_version": "1.2.0",
            "_view_name": "LayoutView",
            "align_content": null,
            "align_items": null,
            "align_self": null,
            "border": null,
            "bottom": null,
            "display": null,
            "flex": null,
            "flex_flow": null,
            "grid_area": null,
            "grid_auto_columns": null,
            "grid_auto_flow": null,
            "grid_auto_rows": null,
            "grid_column": null,
            "grid_gap": null,
            "grid_row": null,
            "grid_template_areas": null,
            "grid_template_columns": null,
            "grid_template_rows": null,
            "height": null,
            "justify_content": null,
            "justify_items": null,
            "left": null,
            "margin": null,
            "max_height": null,
            "max_width": null,
            "min_height": null,
            "min_width": null,
            "object_fit": null,
            "object_position": null,
            "order": null,
            "overflow": null,
            "overflow_x": null,
            "overflow_y": null,
            "padding": null,
            "right": null,
            "top": null,
            "visibility": null,
            "width": null
          }
        },
        "bc8154e0b1834a6db30a1b6757b98aa3": {
          "model_module": "@jupyter-widgets/base",
          "model_name": "LayoutModel",
          "model_module_version": "1.2.0",
          "state": {
            "_model_module": "@jupyter-widgets/base",
            "_model_module_version": "1.2.0",
            "_model_name": "LayoutModel",
            "_view_count": null,
            "_view_module": "@jupyter-widgets/base",
            "_view_module_version": "1.2.0",
            "_view_name": "LayoutView",
            "align_content": null,
            "align_items": null,
            "align_self": null,
            "border": null,
            "bottom": null,
            "display": null,
            "flex": null,
            "flex_flow": null,
            "grid_area": null,
            "grid_auto_columns": null,
            "grid_auto_flow": null,
            "grid_auto_rows": null,
            "grid_column": null,
            "grid_gap": null,
            "grid_row": null,
            "grid_template_areas": null,
            "grid_template_columns": null,
            "grid_template_rows": null,
            "height": null,
            "justify_content": null,
            "justify_items": null,
            "left": null,
            "margin": null,
            "max_height": null,
            "max_width": null,
            "min_height": null,
            "min_width": null,
            "object_fit": null,
            "object_position": null,
            "order": null,
            "overflow": null,
            "overflow_x": null,
            "overflow_y": null,
            "padding": null,
            "right": null,
            "top": null,
            "visibility": null,
            "width": null
          }
        },
        "956ab628a13c4677bf945c0da6d2957e": {
          "model_module": "@jupyter-widgets/controls",
          "model_name": "DescriptionStyleModel",
          "model_module_version": "1.5.0",
          "state": {
            "_model_module": "@jupyter-widgets/controls",
            "_model_module_version": "1.5.0",
            "_model_name": "DescriptionStyleModel",
            "_view_count": null,
            "_view_module": "@jupyter-widgets/base",
            "_view_module_version": "1.2.0",
            "_view_name": "StyleView",
            "description_width": ""
          }
        },
        "9476fb61a1c0460facf9672189121155": {
          "model_module": "@jupyter-widgets/base",
          "model_name": "LayoutModel",
          "model_module_version": "1.2.0",
          "state": {
            "_model_module": "@jupyter-widgets/base",
            "_model_module_version": "1.2.0",
            "_model_name": "LayoutModel",
            "_view_count": null,
            "_view_module": "@jupyter-widgets/base",
            "_view_module_version": "1.2.0",
            "_view_name": "LayoutView",
            "align_content": null,
            "align_items": null,
            "align_self": null,
            "border": null,
            "bottom": null,
            "display": null,
            "flex": null,
            "flex_flow": null,
            "grid_area": null,
            "grid_auto_columns": null,
            "grid_auto_flow": null,
            "grid_auto_rows": null,
            "grid_column": null,
            "grid_gap": null,
            "grid_row": null,
            "grid_template_areas": null,
            "grid_template_columns": null,
            "grid_template_rows": null,
            "height": null,
            "justify_content": null,
            "justify_items": null,
            "left": null,
            "margin": null,
            "max_height": null,
            "max_width": null,
            "min_height": null,
            "min_width": null,
            "object_fit": null,
            "object_position": null,
            "order": null,
            "overflow": null,
            "overflow_x": null,
            "overflow_y": null,
            "padding": null,
            "right": null,
            "top": null,
            "visibility": null,
            "width": null
          }
        },
        "05fec971b3ef459da201d7ddc607617c": {
          "model_module": "@jupyter-widgets/controls",
          "model_name": "ProgressStyleModel",
          "model_module_version": "1.5.0",
          "state": {
            "_model_module": "@jupyter-widgets/controls",
            "_model_module_version": "1.5.0",
            "_model_name": "ProgressStyleModel",
            "_view_count": null,
            "_view_module": "@jupyter-widgets/base",
            "_view_module_version": "1.2.0",
            "_view_name": "StyleView",
            "bar_color": null,
            "description_width": ""
          }
        },
        "5aa4f6a5d51643d389c148765ff6a1da": {
          "model_module": "@jupyter-widgets/base",
          "model_name": "LayoutModel",
          "model_module_version": "1.2.0",
          "state": {
            "_model_module": "@jupyter-widgets/base",
            "_model_module_version": "1.2.0",
            "_model_name": "LayoutModel",
            "_view_count": null,
            "_view_module": "@jupyter-widgets/base",
            "_view_module_version": "1.2.0",
            "_view_name": "LayoutView",
            "align_content": null,
            "align_items": null,
            "align_self": null,
            "border": null,
            "bottom": null,
            "display": null,
            "flex": null,
            "flex_flow": null,
            "grid_area": null,
            "grid_auto_columns": null,
            "grid_auto_flow": null,
            "grid_auto_rows": null,
            "grid_column": null,
            "grid_gap": null,
            "grid_row": null,
            "grid_template_areas": null,
            "grid_template_columns": null,
            "grid_template_rows": null,
            "height": null,
            "justify_content": null,
            "justify_items": null,
            "left": null,
            "margin": null,
            "max_height": null,
            "max_width": null,
            "min_height": null,
            "min_width": null,
            "object_fit": null,
            "object_position": null,
            "order": null,
            "overflow": null,
            "overflow_x": null,
            "overflow_y": null,
            "padding": null,
            "right": null,
            "top": null,
            "visibility": null,
            "width": null
          }
        },
        "9f4ec69baef04dcf9965d8edf1cb8172": {
          "model_module": "@jupyter-widgets/controls",
          "model_name": "DescriptionStyleModel",
          "model_module_version": "1.5.0",
          "state": {
            "_model_module": "@jupyter-widgets/controls",
            "_model_module_version": "1.5.0",
            "_model_name": "DescriptionStyleModel",
            "_view_count": null,
            "_view_module": "@jupyter-widgets/base",
            "_view_module_version": "1.2.0",
            "_view_name": "StyleView",
            "description_width": ""
          }
        }
      }
    }
  },
  "cells": [
    {
      "cell_type": "code",
      "source": [
        "import pandas as pd"
      ],
      "metadata": {
        "id": "WhZSElbtmCrc"
      },
      "execution_count": 1,
      "outputs": []
    },
    {
      "cell_type": "code",
      "source": [
        "from google.colab import drive\n",
        "drive.mount('/content/drive')"
      ],
      "metadata": {
        "colab": {
          "base_uri": "https://localhost:8080/"
        },
        "id": "8SCDJnp7FATM",
        "outputId": "0c640615-3880-4b40-ca77-315314ed558e"
      },
      "execution_count": 2,
      "outputs": [
        {
          "output_type": "stream",
          "name": "stdout",
          "text": [
            "Drive already mounted at /content/drive; to attempt to forcibly remount, call drive.mount(\"/content/drive\", force_remount=True).\n"
          ]
        }
      ]
    },
    {
      "cell_type": "code",
      "execution_count": 3,
      "metadata": {
        "colab": {
          "base_uri": "https://localhost:8080/",
          "height": 35
        },
        "id": "dPb-5zDslPiK",
        "outputId": "7032cefc-dcf2-46b1-bc4c-27d58b51f266"
      },
      "outputs": [
        {
          "output_type": "execute_result",
          "data": {
            "text/plain": [
              "'/content/drive/MyDrive/Colab Notebooks/463/TrDataset/power-tr-train.tsv'"
            ],
            "application/vnd.google.colaboratory.intrinsic+json": {
              "type": "string"
            }
          },
          "metadata": {},
          "execution_count": 3
        }
      ],
      "source": [
        "orientation_path='/content/drive/MyDrive/Colab Notebooks/463/TrDataset/power-tr-train.tsv'\n",
        "orientation_path"
      ]
    },
    {
      "cell_type": "code",
      "source": [
        "# Load the file\n",
        "df = pd.read_csv(orientation_path, sep='\\t')\n",
        "\n",
        "# Print the first 2 rows\n",
        "df.head(2)"
      ],
      "metadata": {
        "colab": {
          "base_uri": "https://localhost:8080/",
          "height": 147
        },
        "id": "KqWm85LomQaz",
        "outputId": "9832e05c-4d93-4d32-b0d1-5c7fb2ccded4"
      },
      "execution_count": 4,
      "outputs": [
        {
          "output_type": "execute_result",
          "data": {
            "text/plain": [
              "        id                           speaker sex  \\\n",
              "0  tr18146  ca2031caa4032c51980160359953d507   M   \n",
              "1  tr18147  4cee0addb3c69f6866869b180f90d45f   M   \n",
              "\n",
              "                                                text  \\\n",
              "0  Yeni yasama döneminin ülkemiz için, milletimiz...   \n",
              "1  Sayın Başkan, değerli milletvekilleri; bugün, ...   \n",
              "\n",
              "                                             text_en  label  \n",
              "0  Mr. President, dear lawmakers, I salute you, a...      0  \n",
              "1  Mr. President, members of lawmakers, as I spea...      0  "
            ],
            "text/html": [
              "\n",
              "  <div id=\"df-45bccebb-152b-4d6c-84fe-fa64765b0fdb\" class=\"colab-df-container\">\n",
              "    <div>\n",
              "<style scoped>\n",
              "    .dataframe tbody tr th:only-of-type {\n",
              "        vertical-align: middle;\n",
              "    }\n",
              "\n",
              "    .dataframe tbody tr th {\n",
              "        vertical-align: top;\n",
              "    }\n",
              "\n",
              "    .dataframe thead th {\n",
              "        text-align: right;\n",
              "    }\n",
              "</style>\n",
              "<table border=\"1\" class=\"dataframe\">\n",
              "  <thead>\n",
              "    <tr style=\"text-align: right;\">\n",
              "      <th></th>\n",
              "      <th>id</th>\n",
              "      <th>speaker</th>\n",
              "      <th>sex</th>\n",
              "      <th>text</th>\n",
              "      <th>text_en</th>\n",
              "      <th>label</th>\n",
              "    </tr>\n",
              "  </thead>\n",
              "  <tbody>\n",
              "    <tr>\n",
              "      <th>0</th>\n",
              "      <td>tr18146</td>\n",
              "      <td>ca2031caa4032c51980160359953d507</td>\n",
              "      <td>M</td>\n",
              "      <td>Yeni yasama döneminin ülkemiz için, milletimiz...</td>\n",
              "      <td>Mr. President, dear lawmakers, I salute you, a...</td>\n",
              "      <td>0</td>\n",
              "    </tr>\n",
              "    <tr>\n",
              "      <th>1</th>\n",
              "      <td>tr18147</td>\n",
              "      <td>4cee0addb3c69f6866869b180f90d45f</td>\n",
              "      <td>M</td>\n",
              "      <td>Sayın Başkan, değerli milletvekilleri; bugün, ...</td>\n",
              "      <td>Mr. President, members of lawmakers, as I spea...</td>\n",
              "      <td>0</td>\n",
              "    </tr>\n",
              "  </tbody>\n",
              "</table>\n",
              "</div>\n",
              "    <div class=\"colab-df-buttons\">\n",
              "\n",
              "  <div class=\"colab-df-container\">\n",
              "    <button class=\"colab-df-convert\" onclick=\"convertToInteractive('df-45bccebb-152b-4d6c-84fe-fa64765b0fdb')\"\n",
              "            title=\"Convert this dataframe to an interactive table.\"\n",
              "            style=\"display:none;\">\n",
              "\n",
              "  <svg xmlns=\"http://www.w3.org/2000/svg\" height=\"24px\" viewBox=\"0 -960 960 960\">\n",
              "    <path d=\"M120-120v-720h720v720H120Zm60-500h600v-160H180v160Zm220 220h160v-160H400v160Zm0 220h160v-160H400v160ZM180-400h160v-160H180v160Zm440 0h160v-160H620v160ZM180-180h160v-160H180v160Zm440 0h160v-160H620v160Z\"/>\n",
              "  </svg>\n",
              "    </button>\n",
              "\n",
              "  <style>\n",
              "    .colab-df-container {\n",
              "      display:flex;\n",
              "      gap: 12px;\n",
              "    }\n",
              "\n",
              "    .colab-df-convert {\n",
              "      background-color: #E8F0FE;\n",
              "      border: none;\n",
              "      border-radius: 50%;\n",
              "      cursor: pointer;\n",
              "      display: none;\n",
              "      fill: #1967D2;\n",
              "      height: 32px;\n",
              "      padding: 0 0 0 0;\n",
              "      width: 32px;\n",
              "    }\n",
              "\n",
              "    .colab-df-convert:hover {\n",
              "      background-color: #E2EBFA;\n",
              "      box-shadow: 0px 1px 2px rgba(60, 64, 67, 0.3), 0px 1px 3px 1px rgba(60, 64, 67, 0.15);\n",
              "      fill: #174EA6;\n",
              "    }\n",
              "\n",
              "    .colab-df-buttons div {\n",
              "      margin-bottom: 4px;\n",
              "    }\n",
              "\n",
              "    [theme=dark] .colab-df-convert {\n",
              "      background-color: #3B4455;\n",
              "      fill: #D2E3FC;\n",
              "    }\n",
              "\n",
              "    [theme=dark] .colab-df-convert:hover {\n",
              "      background-color: #434B5C;\n",
              "      box-shadow: 0px 1px 3px 1px rgba(0, 0, 0, 0.15);\n",
              "      filter: drop-shadow(0px 1px 2px rgba(0, 0, 0, 0.3));\n",
              "      fill: #FFFFFF;\n",
              "    }\n",
              "  </style>\n",
              "\n",
              "    <script>\n",
              "      const buttonEl =\n",
              "        document.querySelector('#df-45bccebb-152b-4d6c-84fe-fa64765b0fdb button.colab-df-convert');\n",
              "      buttonEl.style.display =\n",
              "        google.colab.kernel.accessAllowed ? 'block' : 'none';\n",
              "\n",
              "      async function convertToInteractive(key) {\n",
              "        const element = document.querySelector('#df-45bccebb-152b-4d6c-84fe-fa64765b0fdb');\n",
              "        const dataTable =\n",
              "          await google.colab.kernel.invokeFunction('convertToInteractive',\n",
              "                                                    [key], {});\n",
              "        if (!dataTable) return;\n",
              "\n",
              "        const docLinkHtml = 'Like what you see? Visit the ' +\n",
              "          '<a target=\"_blank\" href=https://colab.research.google.com/notebooks/data_table.ipynb>data table notebook</a>'\n",
              "          + ' to learn more about interactive tables.';\n",
              "        element.innerHTML = '';\n",
              "        dataTable['output_type'] = 'display_data';\n",
              "        await google.colab.output.renderOutput(dataTable, element);\n",
              "        const docLink = document.createElement('div');\n",
              "        docLink.innerHTML = docLinkHtml;\n",
              "        element.appendChild(docLink);\n",
              "      }\n",
              "    </script>\n",
              "  </div>\n",
              "\n",
              "\n",
              "<div id=\"df-01dc06ba-c2b9-44e5-837d-38bc00c24ed9\">\n",
              "  <button class=\"colab-df-quickchart\" onclick=\"quickchart('df-01dc06ba-c2b9-44e5-837d-38bc00c24ed9')\"\n",
              "            title=\"Suggest charts\"\n",
              "            style=\"display:none;\">\n",
              "\n",
              "<svg xmlns=\"http://www.w3.org/2000/svg\" height=\"24px\"viewBox=\"0 0 24 24\"\n",
              "     width=\"24px\">\n",
              "    <g>\n",
              "        <path d=\"M19 3H5c-1.1 0-2 .9-2 2v14c0 1.1.9 2 2 2h14c1.1 0 2-.9 2-2V5c0-1.1-.9-2-2-2zM9 17H7v-7h2v7zm4 0h-2V7h2v10zm4 0h-2v-4h2v4z\"/>\n",
              "    </g>\n",
              "</svg>\n",
              "  </button>\n",
              "\n",
              "<style>\n",
              "  .colab-df-quickchart {\n",
              "      --bg-color: #E8F0FE;\n",
              "      --fill-color: #1967D2;\n",
              "      --hover-bg-color: #E2EBFA;\n",
              "      --hover-fill-color: #174EA6;\n",
              "      --disabled-fill-color: #AAA;\n",
              "      --disabled-bg-color: #DDD;\n",
              "  }\n",
              "\n",
              "  [theme=dark] .colab-df-quickchart {\n",
              "      --bg-color: #3B4455;\n",
              "      --fill-color: #D2E3FC;\n",
              "      --hover-bg-color: #434B5C;\n",
              "      --hover-fill-color: #FFFFFF;\n",
              "      --disabled-bg-color: #3B4455;\n",
              "      --disabled-fill-color: #666;\n",
              "  }\n",
              "\n",
              "  .colab-df-quickchart {\n",
              "    background-color: var(--bg-color);\n",
              "    border: none;\n",
              "    border-radius: 50%;\n",
              "    cursor: pointer;\n",
              "    display: none;\n",
              "    fill: var(--fill-color);\n",
              "    height: 32px;\n",
              "    padding: 0;\n",
              "    width: 32px;\n",
              "  }\n",
              "\n",
              "  .colab-df-quickchart:hover {\n",
              "    background-color: var(--hover-bg-color);\n",
              "    box-shadow: 0 1px 2px rgba(60, 64, 67, 0.3), 0 1px 3px 1px rgba(60, 64, 67, 0.15);\n",
              "    fill: var(--button-hover-fill-color);\n",
              "  }\n",
              "\n",
              "  .colab-df-quickchart-complete:disabled,\n",
              "  .colab-df-quickchart-complete:disabled:hover {\n",
              "    background-color: var(--disabled-bg-color);\n",
              "    fill: var(--disabled-fill-color);\n",
              "    box-shadow: none;\n",
              "  }\n",
              "\n",
              "  .colab-df-spinner {\n",
              "    border: 2px solid var(--fill-color);\n",
              "    border-color: transparent;\n",
              "    border-bottom-color: var(--fill-color);\n",
              "    animation:\n",
              "      spin 1s steps(1) infinite;\n",
              "  }\n",
              "\n",
              "  @keyframes spin {\n",
              "    0% {\n",
              "      border-color: transparent;\n",
              "      border-bottom-color: var(--fill-color);\n",
              "      border-left-color: var(--fill-color);\n",
              "    }\n",
              "    20% {\n",
              "      border-color: transparent;\n",
              "      border-left-color: var(--fill-color);\n",
              "      border-top-color: var(--fill-color);\n",
              "    }\n",
              "    30% {\n",
              "      border-color: transparent;\n",
              "      border-left-color: var(--fill-color);\n",
              "      border-top-color: var(--fill-color);\n",
              "      border-right-color: var(--fill-color);\n",
              "    }\n",
              "    40% {\n",
              "      border-color: transparent;\n",
              "      border-right-color: var(--fill-color);\n",
              "      border-top-color: var(--fill-color);\n",
              "    }\n",
              "    60% {\n",
              "      border-color: transparent;\n",
              "      border-right-color: var(--fill-color);\n",
              "    }\n",
              "    80% {\n",
              "      border-color: transparent;\n",
              "      border-right-color: var(--fill-color);\n",
              "      border-bottom-color: var(--fill-color);\n",
              "    }\n",
              "    90% {\n",
              "      border-color: transparent;\n",
              "      border-bottom-color: var(--fill-color);\n",
              "    }\n",
              "  }\n",
              "</style>\n",
              "\n",
              "  <script>\n",
              "    async function quickchart(key) {\n",
              "      const quickchartButtonEl =\n",
              "        document.querySelector('#' + key + ' button');\n",
              "      quickchartButtonEl.disabled = true;  // To prevent multiple clicks.\n",
              "      quickchartButtonEl.classList.add('colab-df-spinner');\n",
              "      try {\n",
              "        const charts = await google.colab.kernel.invokeFunction(\n",
              "            'suggestCharts', [key], {});\n",
              "      } catch (error) {\n",
              "        console.error('Error during call to suggestCharts:', error);\n",
              "      }\n",
              "      quickchartButtonEl.classList.remove('colab-df-spinner');\n",
              "      quickchartButtonEl.classList.add('colab-df-quickchart-complete');\n",
              "    }\n",
              "    (() => {\n",
              "      let quickchartButtonEl =\n",
              "        document.querySelector('#df-01dc06ba-c2b9-44e5-837d-38bc00c24ed9 button');\n",
              "      quickchartButtonEl.style.display =\n",
              "        google.colab.kernel.accessAllowed ? 'block' : 'none';\n",
              "    })();\n",
              "  </script>\n",
              "</div>\n",
              "\n",
              "    </div>\n",
              "  </div>\n"
            ],
            "application/vnd.google.colaboratory.intrinsic+json": {
              "type": "dataframe",
              "variable_name": "df",
              "summary": "{\n  \"name\": \"df\",\n  \"rows\": 17384,\n  \"fields\": [\n    {\n      \"column\": \"id\",\n      \"properties\": {\n        \"dtype\": \"string\",\n        \"num_unique_values\": 17384,\n        \"samples\": [\n          \"tr30979\",\n          \"tr25794\",\n          \"tr25238\"\n        ],\n        \"semantic_type\": \"\",\n        \"description\": \"\"\n      }\n    },\n    {\n      \"column\": \"speaker\",\n      \"properties\": {\n        \"dtype\": \"category\",\n        \"num_unique_values\": 1203,\n        \"samples\": [\n          \"ad5a4695575f46c5106bc6269bae8da3\",\n          \"66460cda11160d4044ff006d3d6bdf49\",\n          \"8d4bf2e60a6edee46835fa7fd8ea377a\"\n        ],\n        \"semantic_type\": \"\",\n        \"description\": \"\"\n      }\n    },\n    {\n      \"column\": \"sex\",\n      \"properties\": {\n        \"dtype\": \"category\",\n        \"num_unique_values\": 2,\n        \"samples\": [\n          \"F\",\n          \"M\"\n        ],\n        \"semantic_type\": \"\",\n        \"description\": \"\"\n      }\n    },\n    {\n      \"column\": \"text\",\n      \"properties\": {\n        \"dtype\": \"string\",\n        \"num_unique_values\": 17384,\n        \"samples\": [\n          \"Say\\u0131n Ba\\u015fkan, de\\u011ferli milletvekilleri; 2020 y\\u0131l\\u0131 Avrupa Birli\\u011fi Ba\\u015fkanl\\u0131\\u011f\\u0131 b\\u00fct\\u00e7esi i\\u00e7in grubum ad\\u0131na s\\u00f6z alm\\u0131\\u015f bulunuyorum. Bu vesileyle siz de\\u011ferli milletvekillerini ve aziz halk\\u0131m\\u0131z\\u0131 sayg\\u0131yla selaml\\u0131yorum. <p> De\\u011ferli milletvekilleri, Avrupa Birli\\u011fi d\\u00fcnya tarihinde hayata ge\\u00e7irilmi\\u015f en b\\u00fcy\\u00fck bar\\u0131\\u015f projelerinden biridir. Hepimizin malumu oldu\\u011fu \\u00fczere, Avrupa uzun y\\u0131llar \\u2013y\\u00fcz y\\u0131l gibi, otuz y\\u0131l gibi- mezhep sava\\u015flar\\u0131na, onun ard\\u0131ndan Birinci ve \\u0130kinci D\\u00fcnya Sava\\u015f\\u0131 gibi b\\u00fcy\\u00fck y\\u0131k\\u0131mlara yol a\\u00e7an, b\\u00fcy\\u00fck can kay\\u0131plar\\u0131na yol a\\u00e7an sava\\u015flara maalesef meydan oldu. Bu sava\\u015flar \\u00fczerine, bu y\\u0131k\\u0131mlar \\u00fczerine Avrupa Birli\\u011finin in\\u015fa edilmesi, ger\\u00e7ekten de d\\u00fcnya tarihine bak\\u0131ld\\u0131\\u011f\\u0131nda, hayata ge\\u00e7irilmi\\u015f en b\\u00fcy\\u00fck bar\\u0131\\u015f projesi olarak \\u00f6n\\u00fcm\\u00fcze \\u00e7\\u0131k\\u0131yor. <p> Bu anlamda T\\u00fcrkiye olarak Avrupa Birli\\u011finin, birli\\u011fini, b\\u00fct\\u00fcnl\\u00fc\\u011f\\u00fcn\\u00fc ve istikrar\\u0131n\\u0131 \\u00f6nemsedi\\u011fimizi buradan belirtmek isterim. \\u00c7\\u00fcnk\\u00fc o co\\u011frafyada ya\\u015fanacak her bir k\\u0131r\\u0131lman\\u0131n, her bir istikrars\\u0131zl\\u0131\\u011f\\u0131n bizim co\\u011frafyalar\\u0131m\\u0131za da menfi etkisi olaca\\u011f\\u0131 a\\u015fik\\u00e2rd\\u0131r. <p> De\\u011ferli dostlar, son d\\u00f6nemlerde Brexit\\u2019le birlikte Avrupa Birli\\u011finin nereye ve nas\\u0131l savrulaca\\u011f\\u0131n\\u0131 hep birlikte izleyece\\u011fiz. Ancak son d\\u00f6nemlerde Avrupa Birli\\u011finin kar\\u015f\\u0131 kar\\u015f\\u0131ya kald\\u0131\\u011f\\u0131 birtak\\u0131m tehditler ve ciddi meydan okumalar var. Bunlar\\u0131n ba\\u015f\\u0131nda da hepimizin malumu oldu\\u011fu \\u00fczere m\\u00fclteci ak\\u0131nlar\\u0131, ter\\u00f6r, a\\u015f\\u0131r\\u0131 sa\\u011f, \\u0131rk\\u00e7\\u0131l\\u0131k, \\u0130slamofobi gibi ciddi tehditler s\\u00f6z konusu. Ancak biraz daha derine indi\\u011fimizde g\\u00f6r\\u00fcyoruz ki asl\\u0131nda bu tehditleri do\\u011furan, Avrupa merkezli \\u00e7ok ciddi bir amil var, sebep var. O da asl\\u0131nda, Avrupa Birli\\u011finin kendi varolu\\u015f de\\u011ferleriyle ters d\\u00fc\\u015fmesi, kar\\u015f\\u0131 kar\\u015f\\u0131ya gelmesi ve ink\\u00e2r s\\u00fcrecine girmi\\u015f olmas\\u0131. Peki, nas\\u0131l? E\\u011fer bug\\u00fcn Avrupa Birli\\u011fi, Avrupa s\\u0131n\\u0131rlar\\u0131 Suriye kaynakl\\u0131, Orta Do\\u011fu kaynakl\\u0131 birtak\\u0131m m\\u00fclteci ak\\u0131nlar\\u0131na maruz kal\\u0131yorsa bu, Avrupa Birli\\u011finin bundan sekiz y\\u0131l \\u00f6nce Suriye halk\\u0131n\\u0131n hakl\\u0131 \\u00f6zg\\u00fcrl\\u00fck ve demokrasi isteklerine sahip \\u00e7\\u0131kmamas\\u0131ndan, daha do\\u011frusu, di\\u011fer bak\\u0131mdan kendi varolu\\u015f de\\u011ferlerine Suriye\\u2019de sahip \\u00e7\\u0131kmamas\\u0131ndan kaynaklan\\u0131yor. <p> Yine, di\\u011fer bir \\u00f6nemli konu, s\\u0131n\\u0131rs\\u0131zl\\u0131k meselesi. Avrupa, b\\u00fct\\u00fcn bu y\\u0131k\\u0131mlardan sonra kendi co\\u011frafyas\\u0131na istikrar\\u0131 ve bar\\u0131\\u015f\\u0131, ekonomik, co\\u011frafi, siyasi s\\u0131n\\u0131rlar\\u0131n\\u0131 kald\\u0131rarak ortak bir co\\u011frafya olarak getirdi ama g\\u00f6r\\u00fcyoruz ki Avrupa Birli\\u011fi, kendi co\\u011frafyas\\u0131na s\\u0131n\\u0131rs\\u0131zl\\u0131\\u011f\\u0131 h\\u00e2kim k\\u0131larken farkl\\u0131 co\\u011frafyalarda yeni s\\u0131n\\u0131rlar iklimlemenin pe\\u015finde. <p> \\u00c7ok da vaktimiz yok ama neyse, o konuya girmeyeyim, bir hat\\u0131ram\\u0131 payla\\u015facakt\\u0131m. <p> Avrupa Birli\\u011fiyle, Avrupa\\u2019yla olan bizim T\\u00fcrkiye\\u2019nin ili\\u015fkileri Avrupal\\u0131 dostlar\\u0131m\\u0131z\\u0131n \\u00f6ng\\u00f6rd\\u00fc\\u011f\\u00fc gibi 1963 Ankara Anla\\u015fmas\\u0131\\u2019yla ba\\u015flam\\u0131yor. Bu s\\u00fcre\\u00e7, Yak\\u0131n \\u00c7a\\u011f\\u2019dan 1300\\u2019l\\u00fc y\\u0131llara kadar bakt\\u0131\\u011f\\u0131m\\u0131zda\\u2026 Selanik\\u2019in Osmanl\\u0131\\u2019ya tam \\u00fcye oldu\\u011fu tarih 1387 y\\u0131l\\u0131, Varna\\u2019n\\u0131n Osmanl\\u0131\\u2019ya tam \\u00fcye oldu\\u011fu tarih 1444 y\\u0131l\\u0131; Kayseri, Selanik\\u2019ten tam seksen yedi y\\u0131l sonra Osmanl\\u0131\\u2019n\\u0131n bir par\\u00e7as\\u0131 olmu\\u015ftur. Bu anlamda, bu a\\u00e7\\u0131lardan bakt\\u0131\\u011f\\u0131m\\u0131zda T\\u00fcrklerin veya T\\u00fcrkiye\\u2019nin Avrupa\\u2019daki varl\\u0131\\u011f\\u0131, Avrupal\\u0131 dostlar\\u0131m\\u0131z\\u0131n \\u00f6ng\\u00f6rd\\u00fc\\u011f\\u00fc gibi 1963 Ankara Anla\\u015fmas\\u0131\\u2019yla de\\u011fil, 1300\\u2019l\\u00fc y\\u0131llara kadar uzanmaktad\\u0131r. Avrupa\\u2019daki Bat\\u0131 Hun \\u0130mparatorlu\\u011fu\\u2019nu veya Avrupa Hun \\u0130mparatorlu\\u011fu\\u2019nu g\\u00fcndeme getirmeme gerek dahi yok. <p> \\u015eunun alt\\u0131n\\u0131 \\u00e7izmemiz gerekiyor: T\\u00fcrkiye, Avrupa\\u2019n\\u0131n co\\u011frafi ve tarih\\u00ee anlamda do\\u011fal bir par\\u00e7as\\u0131d\\u0131r ve T\\u00fcrkiye\\u2019nin Avrupa Birli\\u011fine tam \\u00fcyeli\\u011fi Avrupa\\u2019ya sosyal ve ekonomik anlamda bir a\\u015f\\u0131 niteli\\u011fini ta\\u015f\\u0131maktad\\u0131r. <p> Avrupal\\u0131 dostlar\\u0131m\\u0131z\\u0131n bilmesi gereken di\\u011fer bir husus da yine e\\u011fer Paris\\u2019in g\\u00fcvenli\\u011fini, Londra\\u2019n\\u0131n g\\u00fcvenli\\u011fini, Avrupa\\u2019n\\u0131n s\\u0131n\\u0131r g\\u00fcvenliklerini \\u00f6nceliyorlarsa bunun g\\u00fcvenli\\u011finin, Avrupa\\u2019n\\u0131n \\u015fehirlerinin ve s\\u0131n\\u0131rlar\\u0131n\\u0131n g\\u00fcvenli\\u011finin Diyarbak\\u0131r\\u2019\\u0131n g\\u00fcvenli\\u011finden, Gaziantep\\u2019in g\\u00fcvenli\\u011finden, Hakk\\u00e2ri\\u2019nin, Van\\u2019\\u0131n, Ankara\\u2019n\\u0131n g\\u00fcvenli\\u011finden ge\\u00e7ti\\u011fidir. <p> Avrupal\\u0131 dostlar\\u0131m\\u0131z Paris\\u2019in, Londra\\u2019n\\u0131n, Madrid\\u2019in \\u00e7ocuklar\\u0131n\\u0131 ne kadar aziz biliyor ise \\u015eam\\u2019\\u0131n, Kahire\\u2019nin, Mogadi\\u015fu\\u2019nun \\u00e7ocuklar\\u0131n\\u0131 da o derece aziz bilmedikleri s\\u00fcrece Avrupa co\\u011frafyas\\u0131n\\u0131n g\\u00fcvende olmas\\u0131, s\\u0131n\\u0131rlar\\u0131n\\u0131n g\\u00fcvende olmas\\u0131 m\\u00fcmk\\u00fcn de\\u011fildir. <p> De\\u011ferli arkada\\u015flar, son olarak D\\u0131\\u015fi\\u015fleri Bakanl\\u0131\\u011f\\u0131m\\u0131za tebriklerimi ve te\\u015fekk\\u00fcrlerimi iletmek istiyorum. \\u00d6zellikle Do\\u011fu Akdeniz\\u2019de son d\\u00f6nemde ger\\u00e7ekle\\u015fen deniz yetki alan\\u0131 s\\u0131n\\u0131rland\\u0131rmas\\u0131, stratejik anlamda cumhuriyet tarihimizin hayata ge\\u00e7irilmi\\u015f en stratejik ad\\u0131mlar\\u0131ndan biriydi. Gerek uzun y\\u0131llardan bu yana ola\\u011fan\\u00fcst\\u00fc bir performansla \\u00e7aba g\\u00f6steren D\\u0131\\u015fi\\u015fleri Bakan\\u0131m\\u0131z Say\\u0131n Mevl\\u00fct \\u00c7avu\\u015fo\\u011flu\\u2019na ve \\u00e7al\\u0131\\u015fma arkada\\u015flar\\u0131na burada ben te\\u015fekk\\u00fcrlerimi ve tebriklerimi sunuyorum. <p> Di\\u011fer bir husus, Amerikan Senatosunun son alm\\u0131\\u015f oldu\\u011fu karar, T\\u00fcrkiye\\u2019yi soyk\\u0131r\\u0131mla su\\u00e7layan karar son derece trajikomik bir karar. <p> Ba\\u011flayaca\\u011f\\u0131m hemen Say\\u0131n Ba\\u015fkan\\u0131m. <p> Nagasaki ve Hiro\\u015fima\\u2019ya att\\u0131klar\\u0131 2 atom bombas\\u0131yla kendi tabirleriyle, kendi gazetelerindeki man\\u015fet \\u015fu \\u015fekildeydi: \\u201cDakikalar i\\u00e7erisinde iki \\u015fehri kozmik toza d\\u00f6n\\u00fc\\u015ft\\u00fcrd\\u00fck.\\u201d B\\u00f6yle deyip dakikalar i\\u00e7erisinde 117 bin insan\\u0131 katleden, buharla\\u015ft\\u0131ran bir medeniyetin benim medeniyetimi \\u201csoyk\\u0131r\\u0131mc\\u0131\\u201d olarak tan\\u0131mlamas\\u0131 son derece trajikomik bir durum. <p> Bu vesileyle 2020 y\\u0131l\\u0131 b\\u00fct\\u00e7emizin hay\\u0131rlara vesile olmas\\u0131n\\u0131 diliyor, hepinizi sayg\\u0131yla selaml\\u0131yorum.\",\n          \"Muhtelif konu ve tasar\\u0131lar Meclise getirilirken bu konu ve tasar\\u0131lar geni\\u015f halk kesimlerini ilgilendirirken pek dikkate al\\u0131nmayan bir \\u00f6nemli prensibe dikkat \\u00e7ekmek istiyorum ki o da isti\\u015faredir. \\u0130sti\\u015fare, do\\u011fruyu bulmak i\\u00e7in ilgili ki\\u015fi ve kesimlerin g\\u00f6r\\u00fc\\u015flerine ba\\u015fvurarak yap\\u0131lan g\\u00f6r\\u00fc\\u015f al\\u0131\\u015fveri\\u015fidir ve kararlar\\u0131 da bu g\\u00f6r\\u00fc\\u015f al\\u0131\\u015fveri\\u015finin sonucuna g\\u00f6re vermek veya vermemektir. <p> \\u0130sti\\u015fare, kolektif bir ak\\u0131l olgusu oldu\\u011fu i\\u00e7in diktat\\u00f6rl\\u00fc\\u011fe giden yolu kapatman\\u0131n da en etkili ve \\u00f6nemli yoludur. Saidi Nursi\\u2019nin dikkat \\u00e7ekti\\u011fi gibi tes\\u00e2d\\u00fcm\\u00fc efk\\u00e2rdan hakikat do\\u011far yani farkl\\u0131 fikirleri, g\\u00f6r\\u00fc\\u015fleri \\u00e7at\\u0131\\u015ft\\u0131rmaktan ger\\u00e7ekler ortaya \\u00e7\\u0131kar. <p> Dinimiz \\u0130slam da isti\\u015fareye b\\u00fcy\\u00fck \\u00f6nem veren bir dindir. \\u00d6rne\\u011fin Kur'an-\\u0131 Kerim\\u2019in bir ayetinde, Allah, Hazreti Peygambere hitaben \\u015f\\u00f6yle emrediyor: \\u201c...\\u201d(x) yani \\u201cBir \\u015fey yapmak isterken, bir \\u015feye karar verirken insanlarla isti\\u015fare et.\\u201d Bu emre harfiyen uyan Hazreti Peygamber hi\\u00e7bir \\u015feye tek ba\\u015f\\u0131na karar vermemi\\u015f, her karar\\u0131 ortak ak\\u0131l olan isti\\u015fareye g\\u00f6re alm\\u0131\\u015ft\\u0131r, hi\\u00e7bir zaman \\u201cHer \\u015feyi ben bilirim.\\u201d dememi\\u015f, kendi g\\u00f6r\\u00fc\\u015f\\u00fc olmasa bile, kat\\u0131lmasa bile isti\\u015fare neticesinde ortaya \\u00e7\\u0131kan karara her zaman uymu\\u015ftur. Hazreti Peygamber bir hadisinde \\u015f\\u00f6yle buyuruyor: \\u201c\\u2026\\u201d(X) Yani, \\u201c\\u0130sti\\u015fare edenler zarar etmezler.\\u201d Hazreti Ali Efendimiz de \\u015f\\u00f6yle diyor: \\u201c\\u0130sti\\u015fareyi terk edenler do\\u011fru yolu bulamazlar.\\u201d <p> Mecliste bunun somut \\u00f6rneklerine rastlamam\\u0131z az da olsa m\\u00fcmk\\u00fcnd\\u00fcr. \\u00d6rne\\u011fin, isti\\u015fare edilmeden getirilen kayyum tasar\\u0131s\\u0131 ile Hakk\\u00e2ri ve \\u015e\\u0131rnak illerinin il\\u00e7e yap\\u0131lmak istendi\\u011fi tasar\\u0131lar\\u0131n do\\u011fru olmad\\u0131\\u011f\\u0131 isti\\u015fare neticesinde ortaya \\u00e7\\u0131kt\\u0131 ve bu tasar\\u0131lar\\u0131n \\u015fimdilik geri \\u00e7ekilmesinin de yine isti\\u015fareyle do\\u011fru oldu\\u011fu ortaya \\u00e7\\u0131kt\\u0131. G\\u00f6n\\u00fcl ister ki, bundan sonraki tasar\\u0131lar ve konular da 4 partimizin isti\\u015faresiyle ve kolektif akl\\u0131yla kabul edilsin veya reddedilsin; halk\\u0131n ilgili kesimlerinin g\\u00f6r\\u00fc\\u015flerine ba\\u015fvurularak kabul edilsin bunlar veya kabul edilmesin. O zaman, Hazreti Peygamberin buyurdu\\u011fu gibi, \\u201c\\u0130sti\\u015fare edenler zarar etmezler.\\u201d ve o zaman Hazreti Ali Efendimiz\\u2019in buyurdu\\u011fu gibi \\u201c\\u0130sti\\u015fareyi terk edenler do\\u011fru yolu bulamazlar.\\u201d Ben de bu Mecliste bu isti\\u015fare mekanizmas\\u0131n\\u0131n hakk\\u0131yla yerle\\u015fece\\u011fi \\u00fcmidiyle y\\u00fcce Meclisi, b\\u00fct\\u00fcn sayg\\u0131de\\u011fer milletvekili arkada\\u015flar\\u0131m\\u0131 selaml\\u0131yorum ve bu son g\\u00fcnde, son gecede bu tatilin hepimize hay\\u0131rlara vesile olmas\\u0131n\\u0131 diliyorum.\"\n        ],\n        \"semantic_type\": \"\",\n        \"description\": \"\"\n      }\n    },\n    {\n      \"column\": \"text_en\",\n      \"properties\": {\n        \"dtype\": \"string\",\n        \"num_unique_values\": 17384,\n        \"samples\": [\n          \"Mr. President, I have made a pledge on behalf of my group for the European Union presidency budget of 2020. On this occasion, I salute you worthy MPs and our beloved people. <p> Dear lawmakers are one of the largest peace projects in the history of the European Union. As we all know, Europe has been faced with wars like a hundred years, like thirty years -- which have led to major destructions such as the First and Second World War. On these wars, the construction of the European Union on these destructions is indeed the greatest peace project ever implemented in the history of the world. <p> In this sense, as Turkey, I would like to point out that we care about the unity, integrity, and stability of the European Union. Because it's clear that every crack in that geography, every instability, will have a negative effect on our geography. <p> Dear friends, in recent times, Brexit (Brexit) and I will watch together where and how the European Union will be scattered. Recently, however, there have been threats and serious challenges facing the European Union. In the beginning, as we all know, there are serious threats such as refugee raids, terrorism, extreme right, racism, Islamophobia. But when we go a little deeper, we see that there's a very serious European-based amyl that actually breeds these threats, and there's a reason. In fact, the European Union is in the process of contradicting its own existing values, confronting it and denying it. Well, how? If today the European Union is exposed to a number of refugee raids from Syria, from the Middle East, it is due to the fact that the European Union, eight years ago, did not have the right desire for freedom and democracy by the Syrian people, or rather, it did not have its own existing values in Syria. <p> Again, another important issue, the issue of infinity. Europe, after all this destruction, brought stability and peace to its geography as a common geography, economic, geographical, political boundaries, but we see that the European Union is seeking new boundaries in different geography as it dominates its own geography. <p> We don't have a lot of time, but anyway, let's not get into it, I was gonna share a memory. <p> With the European Union, our relations with Europe do not begin with the 1963 Ankara Agreement, as predicted by our European friends. This process, when we looked from the Near Ages to 1,300, was a full member of the Ottoman Empire in 1387, when Varna was a full member of the Ottoman Empire in 1444; Kayseri became part of the Ottoman Empire, just eighty-seven years after Thessaloniki. In this sense, the existence of Turks or Turkey in Europe, as our European friends predicted, dates back to the 1300th century, not with the 1963 Ankara Agreement. I don't even need to bring up the Western Hun Empire in Europe or the European Hun Empire. <p> We need to emphasize: Turkey is a geographical and historically natural part of Europe, and full membership in Turkey's European Union is a social and economic vaccine to Europe. <p> Another thing our European friends need to know is that if they are prioritizing the safety of Paris, the security of London, the border security of Europe, the security of the cities and borders of Europe, the security of Diyarbak\\u0131r, the security of Gaziantep, the security of Hakkari, the safety of Van (the security of Ankara). <p> As much as our European friends know Paris, London, Madrid's children are saints, there is no way that Europe's geography will be safe unless they know that Damascus, Cairo, and the children of Mogadishu are such saints. <p> Dear friends, I'd like to give my congratulations and thanks to the State Department. In particular, the recent naval jurisdiction limitation in the Eastern Mediterranean was one of the most strategic steps in the history of the republic in strategic terms. I'm here to thank and congratulate you, Mr. Mevl\\u00fct Sergeantoglu and his colleagues, who have struggled with an extraordinary performance for many years. <p> On the other hand, the final decision by the American Senate is an extremely tragic decision accusing Turkey of genocide. <p> I'll put you through, Mr. President. <p> The headline in his own newspapers, with two atomic bombs they threw at Nagasaki and Hiroshima, was: \\\"In minutes, we transformed two cities into cosmic dust. \\\" <p> I hereby ask that our 2020 budget be a blessing, and I salute you all.\",\n          \"Mr. President, dear lawmakers, I salute you all. <p> I'd like to point out an important principle that's not taken into account when the various issues and proposals are being brought to Parliament, while these and the proposals concern the broad population, which is also a consultation. The consultation is an exchange of opinions based on the opinions of interested people and sections to find the truth, and the decision is whether to make or not to make based on the outcome of this exchange of opinions. <p> The consultation is also the most effective and important way to shut down the path to dictatorship because it is a collective phenomenon of reason. As Saidi Nursi pointed out, the truth arises from the sadness of my diagnosis, meaning that the facts arise from conflicting ideas, opinions. <p> Our religion, Islam, is a religion of great importance to consultation. In one verse of the Qur'an, for example, God commands the Holy Prophet: \\\"When you want to do something, when you decide something, consult with people.\\\" \\u2022 The Holy Prophet, who has followed this letter of command, has not made a single decision, he has made every decision according to the common counsel, and has never said, \\\"I know everything.\\\" Even if he does not have his own opinion, even if he does not agree with it. In one of his Covenant Covenants, the Prophet says: \\\"Those who leave the palace cannot find the right path. \\\" <p> It's possible that there are some concrete examples of this in the House. For example, the trustee's bill brought in without consultation and the consultation of Hakkari and \\u015e\\u0131rnak provinces in which the bills were intended to be made were not true, and it turns out that the withdrawal of these proposals for the time being was also correct with consultation. The heart wishes that the next drafts and topics of our four parties be accepted or rejected by the collective mind or accepted by the opinion of the relevant parts of the people, whether they are accepted or not. Then, as the Holy Prophet has instructed, the trustees will not be harmed. And those who leave the office will not be able to find the right path, as our Lord Ali commanded. I also wish that this last day, on this last day, this holiday would be a blessing to all of us in this House, in the hope that this consultation mechanism will be properly established.\"\n        ],\n        \"semantic_type\": \"\",\n        \"description\": \"\"\n      }\n    },\n    {\n      \"column\": \"label\",\n      \"properties\": {\n        \"dtype\": \"number\",\n        \"std\": 0,\n        \"min\": 0,\n        \"max\": 1,\n        \"num_unique_values\": 2,\n        \"samples\": [\n          1,\n          0\n        ],\n        \"semantic_type\": \"\",\n        \"description\": \"\"\n      }\n    }\n  ]\n}"
            }
          },
          "metadata": {},
          "execution_count": 4
        }
      ]
    },
    {
      "cell_type": "markdown",
      "source": [
        "We check the proporiton of label to split the dataset in a stratified manner"
      ],
      "metadata": {
        "id": "jRzZaMaos-o-"
      }
    },
    {
      "cell_type": "code",
      "source": [
        "df.keys()"
      ],
      "metadata": {
        "colab": {
          "base_uri": "https://localhost:8080/"
        },
        "id": "z1okz_8RUMQa",
        "outputId": "5f6f1098-bad8-4662-e7d3-d94c56d85e35"
      },
      "execution_count": 5,
      "outputs": [
        {
          "output_type": "execute_result",
          "data": {
            "text/plain": [
              "Index(['id', 'speaker', 'sex', 'text', 'text_en', 'label'], dtype='object')"
            ]
          },
          "metadata": {},
          "execution_count": 5
        }
      ]
    },
    {
      "cell_type": "code",
      "source": [
        "df[\"label\"].value_counts(normalize=True)"
      ],
      "metadata": {
        "colab": {
          "base_uri": "https://localhost:8080/",
          "height": 178
        },
        "id": "Aza3YSw3naMB",
        "outputId": "dca1c914-ce4c-43ba-abb8-b13accf3c1e0"
      },
      "execution_count": 6,
      "outputs": [
        {
          "output_type": "execute_result",
          "data": {
            "text/plain": [
              "label\n",
              "1    0.513806\n",
              "0    0.486194\n",
              "Name: proportion, dtype: float64"
            ],
            "text/html": [
              "<div>\n",
              "<style scoped>\n",
              "    .dataframe tbody tr th:only-of-type {\n",
              "        vertical-align: middle;\n",
              "    }\n",
              "\n",
              "    .dataframe tbody tr th {\n",
              "        vertical-align: top;\n",
              "    }\n",
              "\n",
              "    .dataframe thead th {\n",
              "        text-align: right;\n",
              "    }\n",
              "</style>\n",
              "<table border=\"1\" class=\"dataframe\">\n",
              "  <thead>\n",
              "    <tr style=\"text-align: right;\">\n",
              "      <th></th>\n",
              "      <th>proportion</th>\n",
              "    </tr>\n",
              "    <tr>\n",
              "      <th>label</th>\n",
              "      <th></th>\n",
              "    </tr>\n",
              "  </thead>\n",
              "  <tbody>\n",
              "    <tr>\n",
              "      <th>1</th>\n",
              "      <td>0.513806</td>\n",
              "    </tr>\n",
              "    <tr>\n",
              "      <th>0</th>\n",
              "      <td>0.486194</td>\n",
              "    </tr>\n",
              "  </tbody>\n",
              "</table>\n",
              "</div><br><label><b>dtype:</b> float64</label>"
            ]
          },
          "metadata": {},
          "execution_count": 6
        }
      ]
    },
    {
      "cell_type": "markdown",
      "source": [],
      "metadata": {
        "id": "xrNHCYsVtLVe"
      }
    },
    {
      "cell_type": "code",
      "source": [
        "print(df.isnull().sum())  # Check for missing values\n",
        "print(df[\"label\"].value_counts())  # Check label distribution"
      ],
      "metadata": {
        "colab": {
          "base_uri": "https://localhost:8080/"
        },
        "id": "zU3dEQPMKDV8",
        "outputId": "b7f3a796-ec98-4fdb-88e7-3eb9641fca81"
      },
      "execution_count": 7,
      "outputs": [
        {
          "output_type": "stream",
          "name": "stdout",
          "text": [
            "id         0\n",
            "speaker    0\n",
            "sex        0\n",
            "text       0\n",
            "text_en    0\n",
            "label      0\n",
            "dtype: int64\n",
            "label\n",
            "1    8932\n",
            "0    8452\n",
            "Name: count, dtype: int64\n"
          ]
        }
      ]
    },
    {
      "cell_type": "code",
      "source": [
        "from sklearn.model_selection import train_test_split"
      ],
      "metadata": {
        "id": "DRA4tdOGtL1a"
      },
      "execution_count": 8,
      "outputs": []
    },
    {
      "cell_type": "code",
      "source": [
        "# Split the data into training and testing sets\n",
        "train_df, test_df = train_test_split(df, test_size=0.1, random_state=42, stratify=df[\"label\"])\n",
        "train_df, eval_df = train_test_split(train_df, test_size=0.111111, random_state=42, stratify=train_df[\"label\"])"
      ],
      "metadata": {
        "id": "EEQO0i5EtldG"
      },
      "execution_count": 9,
      "outputs": []
    },
    {
      "cell_type": "code",
      "source": [
        "# Print the subset lengths/size and proportions to check if splitted successfully\n",
        "print('Train:')\n",
        "print(train_df.shape[0]/8)\n",
        "print(train_df['label'].value_counts(normalize=True))\n",
        "\n",
        "print('Eval:')\n",
        "print(eval_df.shape[0]/1)\n",
        "print(eval_df['label'].value_counts(normalize=True))\n",
        "\n",
        "print('Test:')\n",
        "print(test_df.shape[0]/1)\n",
        "print(test_df['label'].value_counts(normalize=True))"
      ],
      "metadata": {
        "colab": {
          "base_uri": "https://localhost:8080/"
        },
        "id": "bITlztcwt_9p",
        "outputId": "7b0d7c3c-d492-4268-bf27-813e0ab2e5df"
      },
      "execution_count": 10,
      "outputs": [
        {
          "output_type": "stream",
          "name": "stdout",
          "text": [
            "Train:\n",
            "1738.25\n",
            "label\n",
            "1    0.513807\n",
            "0    0.486193\n",
            "Name: proportion, dtype: float64\n",
            "Eval:\n",
            "1739.0\n",
            "label\n",
            "1    0.513514\n",
            "0    0.486486\n",
            "Name: proportion, dtype: float64\n",
            "Test:\n",
            "1739.0\n",
            "label\n",
            "1    0.514089\n",
            "0    0.485911\n",
            "Name: proportion, dtype: float64\n"
          ]
        }
      ]
    },
    {
      "cell_type": "code",
      "source": [
        "!pip install datasets"
      ],
      "metadata": {
        "colab": {
          "base_uri": "https://localhost:8080/"
        },
        "id": "52CY-K2U8vTG",
        "outputId": "a9e9c181-794b-4bf8-a830-a33de95458bc"
      },
      "execution_count": 11,
      "outputs": [
        {
          "output_type": "stream",
          "name": "stdout",
          "text": [
            "Collecting datasets\n",
            "  Downloading datasets-3.2.0-py3-none-any.whl.metadata (20 kB)\n",
            "Requirement already satisfied: filelock in /usr/local/lib/python3.10/dist-packages (from datasets) (3.16.1)\n",
            "Requirement already satisfied: numpy>=1.17 in /usr/local/lib/python3.10/dist-packages (from datasets) (1.26.4)\n",
            "Requirement already satisfied: pyarrow>=15.0.0 in /usr/local/lib/python3.10/dist-packages (from datasets) (17.0.0)\n",
            "Collecting dill<0.3.9,>=0.3.0 (from datasets)\n",
            "  Downloading dill-0.3.8-py3-none-any.whl.metadata (10 kB)\n",
            "Requirement already satisfied: pandas in /usr/local/lib/python3.10/dist-packages (from datasets) (2.2.2)\n",
            "Requirement already satisfied: requests>=2.32.2 in /usr/local/lib/python3.10/dist-packages (from datasets) (2.32.3)\n",
            "Requirement already satisfied: tqdm>=4.66.3 in /usr/local/lib/python3.10/dist-packages (from datasets) (4.67.1)\n",
            "Collecting xxhash (from datasets)\n",
            "  Downloading xxhash-3.5.0-cp310-cp310-manylinux_2_17_x86_64.manylinux2014_x86_64.whl.metadata (12 kB)\n",
            "Collecting multiprocess<0.70.17 (from datasets)\n",
            "  Downloading multiprocess-0.70.16-py310-none-any.whl.metadata (7.2 kB)\n",
            "Collecting fsspec<=2024.9.0,>=2023.1.0 (from fsspec[http]<=2024.9.0,>=2023.1.0->datasets)\n",
            "  Downloading fsspec-2024.9.0-py3-none-any.whl.metadata (11 kB)\n",
            "Requirement already satisfied: aiohttp in /usr/local/lib/python3.10/dist-packages (from datasets) (3.11.10)\n",
            "Requirement already satisfied: huggingface-hub>=0.23.0 in /usr/local/lib/python3.10/dist-packages (from datasets) (0.27.0)\n",
            "Requirement already satisfied: packaging in /usr/local/lib/python3.10/dist-packages (from datasets) (24.2)\n",
            "Requirement already satisfied: pyyaml>=5.1 in /usr/local/lib/python3.10/dist-packages (from datasets) (6.0.2)\n",
            "Requirement already satisfied: aiohappyeyeballs>=2.3.0 in /usr/local/lib/python3.10/dist-packages (from aiohttp->datasets) (2.4.4)\n",
            "Requirement already satisfied: aiosignal>=1.1.2 in /usr/local/lib/python3.10/dist-packages (from aiohttp->datasets) (1.3.2)\n",
            "Requirement already satisfied: async-timeout<6.0,>=4.0 in /usr/local/lib/python3.10/dist-packages (from aiohttp->datasets) (4.0.3)\n",
            "Requirement already satisfied: attrs>=17.3.0 in /usr/local/lib/python3.10/dist-packages (from aiohttp->datasets) (24.3.0)\n",
            "Requirement already satisfied: frozenlist>=1.1.1 in /usr/local/lib/python3.10/dist-packages (from aiohttp->datasets) (1.5.0)\n",
            "Requirement already satisfied: multidict<7.0,>=4.5 in /usr/local/lib/python3.10/dist-packages (from aiohttp->datasets) (6.1.0)\n",
            "Requirement already satisfied: propcache>=0.2.0 in /usr/local/lib/python3.10/dist-packages (from aiohttp->datasets) (0.2.1)\n",
            "Requirement already satisfied: yarl<2.0,>=1.17.0 in /usr/local/lib/python3.10/dist-packages (from aiohttp->datasets) (1.18.3)\n",
            "Requirement already satisfied: typing-extensions>=3.7.4.3 in /usr/local/lib/python3.10/dist-packages (from huggingface-hub>=0.23.0->datasets) (4.12.2)\n",
            "Requirement already satisfied: charset-normalizer<4,>=2 in /usr/local/lib/python3.10/dist-packages (from requests>=2.32.2->datasets) (3.4.0)\n",
            "Requirement already satisfied: idna<4,>=2.5 in /usr/local/lib/python3.10/dist-packages (from requests>=2.32.2->datasets) (3.10)\n",
            "Requirement already satisfied: urllib3<3,>=1.21.1 in /usr/local/lib/python3.10/dist-packages (from requests>=2.32.2->datasets) (2.2.3)\n",
            "Requirement already satisfied: certifi>=2017.4.17 in /usr/local/lib/python3.10/dist-packages (from requests>=2.32.2->datasets) (2024.12.14)\n",
            "Requirement already satisfied: python-dateutil>=2.8.2 in /usr/local/lib/python3.10/dist-packages (from pandas->datasets) (2.8.2)\n",
            "Requirement already satisfied: pytz>=2020.1 in /usr/local/lib/python3.10/dist-packages (from pandas->datasets) (2024.2)\n",
            "Requirement already satisfied: tzdata>=2022.7 in /usr/local/lib/python3.10/dist-packages (from pandas->datasets) (2024.2)\n",
            "Requirement already satisfied: six>=1.5 in /usr/local/lib/python3.10/dist-packages (from python-dateutil>=2.8.2->pandas->datasets) (1.17.0)\n",
            "Downloading datasets-3.2.0-py3-none-any.whl (480 kB)\n",
            "\u001b[2K   \u001b[90m━━━━━━━━━━━━━━━━━━━━━━━━━━━━━━━━━━━━━━━━\u001b[0m \u001b[32m480.6/480.6 kB\u001b[0m \u001b[31m37.1 MB/s\u001b[0m eta \u001b[36m0:00:00\u001b[0m\n",
            "\u001b[?25hDownloading dill-0.3.8-py3-none-any.whl (116 kB)\n",
            "\u001b[2K   \u001b[90m━━━━━━━━━━━━━━━━━━━━━━━━━━━━━━━━━━━━━━━━\u001b[0m \u001b[32m116.3/116.3 kB\u001b[0m \u001b[31m14.2 MB/s\u001b[0m eta \u001b[36m0:00:00\u001b[0m\n",
            "\u001b[?25hDownloading fsspec-2024.9.0-py3-none-any.whl (179 kB)\n",
            "\u001b[2K   \u001b[90m━━━━━━━━━━━━━━━━━━━━━━━━━━━━━━━━━━━━━━━━\u001b[0m \u001b[32m179.3/179.3 kB\u001b[0m \u001b[31m18.4 MB/s\u001b[0m eta \u001b[36m0:00:00\u001b[0m\n",
            "\u001b[?25hDownloading multiprocess-0.70.16-py310-none-any.whl (134 kB)\n",
            "\u001b[2K   \u001b[90m━━━━━━━━━━━━━━━━━━━━━━━━━━━━━━━━━━━━━━━━\u001b[0m \u001b[32m134.8/134.8 kB\u001b[0m \u001b[31m15.8 MB/s\u001b[0m eta \u001b[36m0:00:00\u001b[0m\n",
            "\u001b[?25hDownloading xxhash-3.5.0-cp310-cp310-manylinux_2_17_x86_64.manylinux2014_x86_64.whl (194 kB)\n",
            "\u001b[2K   \u001b[90m━━━━━━━━━━━━━━━━━━━━━━━━━━━━━━━━━━━━━━━━\u001b[0m \u001b[32m194.1/194.1 kB\u001b[0m \u001b[31m20.6 MB/s\u001b[0m eta \u001b[36m0:00:00\u001b[0m\n",
            "\u001b[?25hInstalling collected packages: xxhash, fsspec, dill, multiprocess, datasets\n",
            "  Attempting uninstall: fsspec\n",
            "    Found existing installation: fsspec 2024.10.0\n",
            "    Uninstalling fsspec-2024.10.0:\n",
            "      Successfully uninstalled fsspec-2024.10.0\n",
            "\u001b[31mERROR: pip's dependency resolver does not currently take into account all the packages that are installed. This behaviour is the source of the following dependency conflicts.\n",
            "gcsfs 2024.10.0 requires fsspec==2024.10.0, but you have fsspec 2024.9.0 which is incompatible.\u001b[0m\u001b[31m\n",
            "\u001b[0mSuccessfully installed datasets-3.2.0 dill-0.3.8 fsspec-2024.9.0 multiprocess-0.70.16 xxhash-3.5.0\n"
          ]
        }
      ]
    },
    {
      "cell_type": "code",
      "source": [
        "#convert pandas dataFrame to Hugigng face dataset\n",
        "from datasets import Dataset\n",
        "train_dataset = Dataset.from_pandas(train_df)\n",
        "eval_dataset = Dataset.from_pandas(eval_df)\n",
        "test_dataset = Dataset.from_pandas(test_df)\n",
        "train_dataset['text'][12]"
      ],
      "metadata": {
        "colab": {
          "base_uri": "https://localhost:8080/",
          "height": 156
        },
        "id": "fAECNv5kU9bs",
        "outputId": "b6f9905c-4799-4c16-cfb8-9496a4c0275c"
      },
      "execution_count": 12,
      "outputs": [
        {
          "output_type": "execute_result",
          "data": {
            "text/plain": [
              "\"8 Marta giderken öncelikle tüm kadınların 8 Mart Dünya Kadınlar Günü’nü kutlayarak başlamak istiyorum. <p> Evet, bir kutlama günü gibi gözükse de aslında, bizim kalan diğer üç yüz altmış dört gün gibi mücadele ettiğimiz, kadın özgürlük çizgimizi büyütmeye çalıştığımız; haklarımızı, kazanılmış haklarımızı geri vermemek için mücadele etmek zorunda kaldığımız; yeni haklarımızı elde etmek için uğraştığımız bir günden bahsediyoruz. <p> 8 Mart, bizim açımızdan, tarihsel açıdan kadınların canlarıyla ödedikleri bedeller sonucu kazanılmış günlerden bir tanesi. Mücadeleyi büyütmekte kararlıyız. Kadın özgürlükçü çizgimizi büyütmekte ve erkek egemenliğinin olmadığı, patriyarkalliğin olmadığı, kapitalizmin olmadığı, kadın-erkek eşitliğinin sağlandığı bir dünyayı yaratmakta da kararlı olduğumuzu tüm kadınlar adına buradan bir kez daha haykırmak isteriz. Mücadelemiz devam edecek; bütün iktidarların engellemelerine rağmen, Türkiye'de olduğu gibi, kadınların tüm etkinlik ve eylemliliklerini engellemek isteyen iktidara rağmen mücadelemizden asla dönmeyeceğiz; sokaklarda, meydanlarda, evlerde, iş yerlerinde, nerede olursak olalım kadın özgürlük çizgimizi büyütmeye devam edeceğiz. <p> İktidar, her ne kadar lafa geldiğinde kadın-erkek eşitliğinden yana olduğunu söylese de yine de kadınların eylemlerine müdahale ediyor; daha bugün yine bir kadın eyleminin yapılmasını engelledi, önüne geçmeye çalıştı; belli gerekçelerle, yasaklarla kadınların yapacağı etkinliklerin önüne geçmeye çalışıyor. Ama şuradan bir kez daha söyleyelim: Ne yaparsanız yapın kadın özgürlük mücadelesini asla ve asla durduramayacaksınız. <p> Kadınlara dair istihdam meselesine gelmek istiyorum. Maalesef, Türkiye'de kadınlar “iş yaşamı” dendiğinde görünmez kılınan vatandaşlar olarak karşımıza çıkıyor. Türkiye'de her 10 kadından sadece 3 kadın iş yaşamında kendisine bir iş bulabiliyor. 20 milyondan fazla kadın maalesef ev dışındaki iş yaşamında iş bulabilecek bir konuma sahip değil ve iş bulabilen kadınların da çoğunluğu güvencesiz, esnek, sigortasız çalışma koşullarında çalışmaya mecbur ediliyor. Çünkü kadınlara şöyle bir yerden bakarsanız, “aileyle uyumlaştırılmış iş yaşamı” diye bir tarifleme yaparsanız, “Ailedeki işler önceliklidir, ev kadınlığınız önceliklidir, bakım hizmeti önceliklidir, bu işler sizin işinizdir; ondan sonra, zaman bulursanız ev dışında çalışırsınız.” diye bir politika üretirseniz elbette ki kadınlar ev dışında kölelik düzenine uygun çalışma koşullarında çalışmaya mecbur bırakılırlar. <p> Peki, iş yaşamına çıktığımızda biz kadınlar nelerle karşılaşıyoruz? Mobbingden tutun, eş değer işe eşit ücret verilmemesinden tutun, tacizden, tecavüzden tutun birçok sorunla karşı karşıya olarak iş yaşamında bulunmak zorunda kalıyoruz. Peki, bunlara çözüm üreten bir iktidar var mı? Hayır. Ne bütçede kadının adı var ne bütçede toplumsal cinsiyet eşitliği var ne de pratikte, uygulamada siyasi iktidarın buna dair herhangi bir uygulamasını görüyoruz; tam tersine, kadınları evlere hapsetmeye çalışan, “Dört duvar arasında kalın.” diyen, itaat ettirmeye zorlayan bir iktidar yaklaşımıyla karşı karşıya olduğumuzu düşünüyoruz. <p> Yine, göçmen kadınlardan, mülteci kadınlardan, bugün, zorla sınırlara sürdüğünüz “Aslında bu ülkede çok güzel hayatlar yaşıyorlar.” diye iddia ettiğiniz ama kapılar açıldığında gitmek için can atan göçmen kadınlardan bahsetmek istiyorum ve göçmen kadınlar bugün, bütün mülteciler gibi, hayatları pahasına sınıra sürülüyorlar, bu ülkeden gitme çabası içindeler. Çünkü göçmen kadınlar bu ülkede tacize, tecavüze, mobbinge en fazla uğrayan kadınlar; çalışsa da ücretlerini alamayan kadınlar, her türlü haksızlığa çok daha fazla maruz kalan kadınlar. İşte, sizin abarta abarta anlattığınız göçmen politikanız bu. Mültecilere dair “Müthiş ev sahipliği yapıyoruz.” dediğiniz kadınlar bu ülkeden kaçmak için fırsat kolluyorlar, bir sorun kendinize “Neden acaba?” diye. <p> LGBT+’lara yönelik nefret suçları, yine onlara yönelik ayrımcılık ve sömürü çok ağır koşullarda bu ülkede yaşanıyor. <p> Yine, kadınlara yönelik şiddet inanılmaz bir şekilde artmış durumda; kadınları değil, erkekleri, erkek egemenliğini koruyan bir yargı sistemini besliyorsunuz, sürekli büyütüyorsunuz. Bunu son süreçte Diyanet İşleri Başkanlığının, Aile ve Dinî Rehberlik Bürolarına başvuran kişilere söylediği nasihatlerden de anlıyoruz. Öğütler şöyle sıralanıyor başvuruculara: “Eğer şiddete maruz kaldıysanız tepki göstermeyin, sessiz olun, öbür odaya geçin; sinirinin geçmesini, sakinleşmesini bekleyin.” <p> “Hakarete maruz kalıyorsanız bir durun, neden bunu yaptığını bir sorun, anlamaya çalışın.” <p> “Peki, polise başvuralım mı, ne diyorsunuz?” dendiğinde de verilen cevap şu: “Hayır, polise şikâyet etmeyin, aile içinde bir şekilde çözersiniz.” deniyor. İşte, sizin, Diyanet İşleri Başkanlığı üzerinden sürekli “Biz kadına yönelik şiddeti engelleyeceğiz.” diye söylediğiniz sözlerin hikâyesi burada gizli. Ne diyor aslında? “İtaat et.” “Şiddete boyun eğ.” “Erkek ne isterse onu yap.” diyen bir Diyanet İşleri Başkanlığının Aile ve Dinî Rehberlik bürolarıyla karşı karşıyayız. Ama şunu bir kez daha söyleyelim: İtaat etmeyeceğiz, makbul kadınlarınız olmayacağız, kadın özgürlük çizgimizden asla vazgeçmeyeceğiz. <p> Yaşasın 8 Mart diyorum! Kadınlar savaş istemiyor; barış, hemen şimdi.\""
            ],
            "application/vnd.google.colaboratory.intrinsic+json": {
              "type": "string"
            }
          },
          "metadata": {},
          "execution_count": 12
        }
      ]
    },
    {
      "cell_type": "code",
      "source": [
        "from transformers import AutoModel, AutoTokenizer\n",
        "\n",
        "tokenizer = AutoTokenizer.from_pretrained(\"xlm-roberta-base\")"
      ],
      "metadata": {
        "id": "TymelZYT8dHd",
        "colab": {
          "base_uri": "https://localhost:8080/",
          "height": 252,
          "referenced_widgets": [
            "3bae5445c1f14c84b435368205b4850f",
            "2d0ff29a777d4a84aae522258d1e51af",
            "f3611d76a6364ba19330b2ff25afc3ce",
            "67d02e691696420c803a292687ad1781",
            "b58a1cba6cea45129ddfd1820a80e3b1",
            "ea020c8cbc954615a9aad6dc0ea6330b",
            "fb43c51abdb24f108a8131cc980cd7b1",
            "5d3d5032ee9946058148ccc46224f0ec",
            "eb8308e337174696a57dd1aae6ab40cc",
            "991f2091ae6b47b2aea6c742180a3f4c",
            "3a91b5372d9841b6b239afb7c76f34a5",
            "24d13dd7789a48c79c7eb1b4430642fd",
            "6ac08602bc6942d291a64f5618ba4e7c",
            "c438c6dd43844dcf85ac4121fb02ed89",
            "1c023d077cf14492853765ac68bcba58",
            "93795991892e4de5b72837c91e1613dc",
            "17752f2bda2a4de5bee4bf8db7d45e3b",
            "ecf855276ab649dba81c9463d18d5b30",
            "9115a9991ebc4197863f88f86064767a",
            "cd54b6a55d154a609d023802641d3bd3",
            "1e9b64a132004cbca88ce678bed4c2a8",
            "fa1860e3fe9243d7b8238b3b3df8b609",
            "32ddcb21da8b4c419c75e7cf77a61891",
            "4c8b2281a8ef4af8a0c47de8fbd60c97",
            "754d11051d2a4882baf7201d72839c46",
            "7f8b2ce592cf410fb94d331779400f76",
            "da3a058308244838884208588caced02",
            "d67a7881586d42cfaf90972608214bb3",
            "77c453cd0651422db14ef1a4608d97ac",
            "3b2c63512a004f5e9306d317e30915c6",
            "27b38fea64c340c4a73b329db2b25c44",
            "54a54b0465d14bd099368c05501eef17",
            "4fdeb4eda5ca44ed975a2eb795d17c22",
            "e2110fe7f79e4885b8bf05cf353251cc",
            "f311e09bd2b348038b8ab00d8b155300",
            "185295ee4e2f4c859fe486c42813ac06",
            "67d777d8644d4fb98fa0de4755fcdf2d",
            "ceadcaa376d04a629a924ce31b54d17c",
            "c2ebf6c2f8ba4ba789fb8802eeafae49",
            "0f2397e3d0c4460080222a859803dcca",
            "a133f4c3525d47fbbd504c2b858fdc6e",
            "d59952ea1ddc49529b2bc94ecdf980de",
            "4634ed1fda164fc39461e6ec28dd994e",
            "ae1831fb230b403f9c4dbfa562060065"
          ]
        },
        "outputId": "adf4466e-79ac-45b2-e70b-373ca9876b5b"
      },
      "execution_count": 13,
      "outputs": [
        {
          "output_type": "stream",
          "name": "stderr",
          "text": [
            "/usr/local/lib/python3.10/dist-packages/huggingface_hub/utils/_auth.py:104: UserWarning: \n",
            "Error while fetching `HF_TOKEN` secret value from your vault: 'Requesting secret HF_TOKEN timed out. Secrets can only be fetched when running from the Colab UI.'.\n",
            "You are not authenticated with the Hugging Face Hub in this notebook.\n",
            "If the error persists, please let us know by opening an issue on GitHub (https://github.com/huggingface/huggingface_hub/issues/new).\n",
            "  warnings.warn(\n"
          ]
        },
        {
          "output_type": "display_data",
          "data": {
            "text/plain": [
              "tokenizer_config.json:   0%|          | 0.00/25.0 [00:00<?, ?B/s]"
            ],
            "application/vnd.jupyter.widget-view+json": {
              "version_major": 2,
              "version_minor": 0,
              "model_id": "3bae5445c1f14c84b435368205b4850f"
            }
          },
          "metadata": {}
        },
        {
          "output_type": "display_data",
          "data": {
            "text/plain": [
              "config.json:   0%|          | 0.00/615 [00:00<?, ?B/s]"
            ],
            "application/vnd.jupyter.widget-view+json": {
              "version_major": 2,
              "version_minor": 0,
              "model_id": "24d13dd7789a48c79c7eb1b4430642fd"
            }
          },
          "metadata": {}
        },
        {
          "output_type": "display_data",
          "data": {
            "text/plain": [
              "sentencepiece.bpe.model:   0%|          | 0.00/5.07M [00:00<?, ?B/s]"
            ],
            "application/vnd.jupyter.widget-view+json": {
              "version_major": 2,
              "version_minor": 0,
              "model_id": "32ddcb21da8b4c419c75e7cf77a61891"
            }
          },
          "metadata": {}
        },
        {
          "output_type": "display_data",
          "data": {
            "text/plain": [
              "tokenizer.json:   0%|          | 0.00/9.10M [00:00<?, ?B/s]"
            ],
            "application/vnd.jupyter.widget-view+json": {
              "version_major": 2,
              "version_minor": 0,
              "model_id": "e2110fe7f79e4885b8bf05cf353251cc"
            }
          },
          "metadata": {}
        }
      ]
    },
    {
      "cell_type": "code",
      "source": [
        "encoded_input_example = tokenizer(\"A fine but tarnished diamond is always preferable to a piece of glass, no matter how polished.\")\n",
        "encoded_input_example"
      ],
      "metadata": {
        "colab": {
          "base_uri": "https://localhost:8080/"
        },
        "id": "D73wyet8Aykg",
        "outputId": "436f3a49-7348-4d58-c403-04a7f555ec1a"
      },
      "execution_count": 14,
      "outputs": [
        {
          "output_type": "execute_result",
          "data": {
            "text/plain": [
              "{'input_ids': [0, 62, 5885, 1284, 2405, 93, 67175, 879, 15882, 83, 11343, 12601, 2886, 47, 10, 63847, 111, 47589, 4, 110, 26866, 3642, 13492, 5252, 5, 2], 'attention_mask': [1, 1, 1, 1, 1, 1, 1, 1, 1, 1, 1, 1, 1, 1, 1, 1, 1, 1, 1, 1, 1, 1, 1, 1, 1, 1]}"
            ]
          },
          "metadata": {},
          "execution_count": 14
        }
      ]
    },
    {
      "cell_type": "code",
      "source": [
        "tokenizer.decode(encoded_input_example[\"input_ids\"])"
      ],
      "metadata": {
        "colab": {
          "base_uri": "https://localhost:8080/",
          "height": 35
        },
        "id": "bMSj9hwxBHN7",
        "outputId": "4948dfbc-5ee5-4983-cf1d-ba5b21655d59"
      },
      "execution_count": 15,
      "outputs": [
        {
          "output_type": "execute_result",
          "data": {
            "text/plain": [
              "'<s> A fine but tarnished diamond is always preferable to a piece of glass, no matter how polished.</s>'"
            ],
            "application/vnd.google.colaboratory.intrinsic+json": {
              "type": "string"
            }
          },
          "metadata": {},
          "execution_count": 15
        }
      ]
    },
    {
      "cell_type": "code",
      "source": [
        "def tokenize_function(examples):\n",
        "    return tokenizer(examples[\"text_en\"], padding=\"max_length\", truncation=True, max_length=512)"
      ],
      "metadata": {
        "id": "ge4S8BzSbpER"
      },
      "execution_count": 16,
      "outputs": []
    },
    {
      "cell_type": "code",
      "source": [
        "unshuffled_train_dataset = train_dataset.map(tokenize_function, batched=True)\n",
        "tokenized_train_dataset =unshuffled_train_dataset.shuffle(seed=42)\n",
        "\n",
        "unshuffled_eval_dataset = eval_dataset.map(tokenize_function, batched=True)\n",
        "tokenized_eval_dataset =unshuffled_eval_dataset.shuffle(seed=42)"
      ],
      "metadata": {
        "colab": {
          "base_uri": "https://localhost:8080/",
          "height": 81,
          "referenced_widgets": [
            "ae6e93a1defe4183be4ab7ee8d323ff6",
            "3a5af6a93df94f56b157b9b46422ef82",
            "87ccb927227a4c84bb78b3a7711e4963",
            "dc5b95a07c024d489fd21fd248a1315c",
            "fba9427fe0174f1fa718fb558cc9480b",
            "dff2f7d4d39d4c89b95193884c1c0b45",
            "0a0da02676ca4521a4c51eb403d3f60f",
            "d6002c9b76574a91abe64f33fdec321d",
            "700e912e42ba41e9a8a4d9f8b443b150",
            "e7e2cefce0eb42128ef408ce8c8c66bf",
            "e0023cf75ec8403aba09ad4e9bb344bb",
            "0d1798b511b54f2c96b0b409d6c87127",
            "b9942096ec014119b5042d0259ed1460",
            "362f343a700c4fa5b60824469096ce6b",
            "65a3484422a14f4c8419025f4dddfb27",
            "e6205ce5509e49db91b2f39be369d94f",
            "dd2321ea0a28469b90e917d4c49bcd19",
            "38310e43eb4a443da1c22d31006d57c9",
            "7fb15a58ef9643ecbd457f172955e992",
            "f8b9e460d4d846ddb7192171a310f7fe",
            "67951ce9cc38434aaa491e68dd3c94bf",
            "50da9261d4064e4ba4bbfdadd72c96d2"
          ]
        },
        "id": "zdaJT9u_bq8g",
        "outputId": "4cc84594-1016-446e-c1c9-c11ea985916f"
      },
      "execution_count": 17,
      "outputs": [
        {
          "output_type": "display_data",
          "data": {
            "text/plain": [
              "Map:   0%|          | 0/13906 [00:00<?, ? examples/s]"
            ],
            "application/vnd.jupyter.widget-view+json": {
              "version_major": 2,
              "version_minor": 0,
              "model_id": "ae6e93a1defe4183be4ab7ee8d323ff6"
            }
          },
          "metadata": {}
        },
        {
          "output_type": "display_data",
          "data": {
            "text/plain": [
              "Map:   0%|          | 0/1739 [00:00<?, ? examples/s]"
            ],
            "application/vnd.jupyter.widget-view+json": {
              "version_major": 2,
              "version_minor": 0,
              "model_id": "0d1798b511b54f2c96b0b409d6c87127"
            }
          },
          "metadata": {}
        }
      ]
    },
    {
      "cell_type": "code",
      "source": [
        "tokenized_train_dataset.column_names"
      ],
      "metadata": {
        "colab": {
          "base_uri": "https://localhost:8080/"
        },
        "id": "Ug9DV_NoBAUz",
        "outputId": "5d42d426-65ed-4d98-d86a-89112741f2ba"
      },
      "execution_count": 18,
      "outputs": [
        {
          "output_type": "execute_result",
          "data": {
            "text/plain": [
              "['id',\n",
              " 'speaker',\n",
              " 'sex',\n",
              " 'text',\n",
              " 'text_en',\n",
              " 'label',\n",
              " '__index_level_0__',\n",
              " 'input_ids',\n",
              " 'attention_mask']"
            ]
          },
          "metadata": {},
          "execution_count": 18
        }
      ]
    },
    {
      "cell_type": "markdown",
      "source": [
        "Start Pre-Training using Hugging-Face Transformers"
      ],
      "metadata": {
        "id": "6_e7CEM9aUaM"
      }
    },
    {
      "cell_type": "code",
      "source": [
        "from transformers import AutoModelForSequenceClassification\n",
        "\n",
        "model = AutoModelForSequenceClassification.from_pretrained(\"xlm-roberta-base\", num_labels=2, torch_dtype=\"auto\")"
      ],
      "metadata": {
        "colab": {
          "base_uri": "https://localhost:8080/",
          "height": 104,
          "referenced_widgets": [
            "9a1247d7b51645fba828e06af35dda4d",
            "7abe80def8994c7db821c8b3a73088e4",
            "f1f927566057494593ea25023267d98c",
            "40f69e65a168477ca37c516dd83e0228",
            "a91a93958da642b48704f59929c68381",
            "34da981922514b0485491bb8d9502488",
            "04883c50bf4a4391aea3be4a6ec7a0d5",
            "73cb86bf4a5f498783a462c52c92b829",
            "15e5a553575c402c9c0acccab130987f",
            "5147039e02a54fd9879937b10124b770",
            "27beffb5076846d49ae8315515b58ef8"
          ]
        },
        "id": "qN9msh2DaddD",
        "outputId": "37750267-da8a-4ae6-b038-8ad78cfcbb6c"
      },
      "execution_count": 19,
      "outputs": [
        {
          "output_type": "display_data",
          "data": {
            "text/plain": [
              "model.safetensors:   0%|          | 0.00/1.12G [00:00<?, ?B/s]"
            ],
            "application/vnd.jupyter.widget-view+json": {
              "version_major": 2,
              "version_minor": 0,
              "model_id": "9a1247d7b51645fba828e06af35dda4d"
            }
          },
          "metadata": {}
        },
        {
          "output_type": "stream",
          "name": "stderr",
          "text": [
            "Some weights of XLMRobertaForSequenceClassification were not initialized from the model checkpoint at xlm-roberta-base and are newly initialized: ['classifier.dense.bias', 'classifier.dense.weight', 'classifier.out_proj.bias', 'classifier.out_proj.weight']\n",
            "You should probably TRAIN this model on a down-stream task to be able to use it for predictions and inference.\n"
          ]
        }
      ]
    },
    {
      "cell_type": "code",
      "source": [
        "from transformers import TrainingArguments\n",
        "batch_size = 32\n",
        "grad_acc_steps = 4\n",
        "num_epochs = 3\n",
        "training_args = TrainingArguments(\n",
        "    output_dir=\"./test_trainer\",\n",
        "    eval_strategy=\"steps\",\n",
        "    logging_strategy=\"steps\",\n",
        "    save_strategy=\"steps\",\n",
        "    logging_steps=20,\n",
        "    eval_steps=20,\n",
        "    save_total_limit=3,\n",
        "    learning_rate=2e-5,\n",
        "    per_device_train_batch_size=batch_size,\n",
        "    per_device_eval_batch_size=16,\n",
        "    gradient_accumulation_steps=grad_acc_steps,\n",
        "    num_train_epochs=num_epochs,\n",
        "    warmup_ratio=0.1,\n",
        "    #warmup_steps=int(0.1* 12910/(batch_size*grad_acc_steps/num_epochs)),\n",
        "    weight_decay=0.01,\n",
        "    fp16=True,\n",
        "    load_best_model_at_end=True,\n",
        "    metric_for_best_model=\"accuracy\",\n",
        "    greater_is_better=True,\n",
        "    report_to=\"none\",  # Disable reporting to external platforms\n",
        ")\n"
      ],
      "metadata": {
        "id": "Zc4c2NElbMlw"
      },
      "execution_count": 20,
      "outputs": []
    },
    {
      "cell_type": "markdown",
      "source": [
        "# Evaluate"
      ],
      "metadata": {
        "id": "8DwsZLTHgJ5b"
      }
    },
    {
      "cell_type": "code",
      "source": [
        "!pip install evaluate"
      ],
      "metadata": {
        "colab": {
          "base_uri": "https://localhost:8080/"
        },
        "collapsed": true,
        "id": "1waBePx1gcvN",
        "outputId": "b4a943a7-2338-42ff-cbc2-f506f7237180"
      },
      "execution_count": 21,
      "outputs": [
        {
          "output_type": "stream",
          "name": "stdout",
          "text": [
            "Collecting evaluate\n",
            "  Downloading evaluate-0.4.3-py3-none-any.whl.metadata (9.2 kB)\n",
            "Requirement already satisfied: datasets>=2.0.0 in /usr/local/lib/python3.10/dist-packages (from evaluate) (3.2.0)\n",
            "Requirement already satisfied: numpy>=1.17 in /usr/local/lib/python3.10/dist-packages (from evaluate) (1.26.4)\n",
            "Requirement already satisfied: dill in /usr/local/lib/python3.10/dist-packages (from evaluate) (0.3.8)\n",
            "Requirement already satisfied: pandas in /usr/local/lib/python3.10/dist-packages (from evaluate) (2.2.2)\n",
            "Requirement already satisfied: requests>=2.19.0 in /usr/local/lib/python3.10/dist-packages (from evaluate) (2.32.3)\n",
            "Requirement already satisfied: tqdm>=4.62.1 in /usr/local/lib/python3.10/dist-packages (from evaluate) (4.67.1)\n",
            "Requirement already satisfied: xxhash in /usr/local/lib/python3.10/dist-packages (from evaluate) (3.5.0)\n",
            "Requirement already satisfied: multiprocess in /usr/local/lib/python3.10/dist-packages (from evaluate) (0.70.16)\n",
            "Requirement already satisfied: fsspec>=2021.05.0 in /usr/local/lib/python3.10/dist-packages (from fsspec[http]>=2021.05.0->evaluate) (2024.9.0)\n",
            "Requirement already satisfied: huggingface-hub>=0.7.0 in /usr/local/lib/python3.10/dist-packages (from evaluate) (0.27.0)\n",
            "Requirement already satisfied: packaging in /usr/local/lib/python3.10/dist-packages (from evaluate) (24.2)\n",
            "Requirement already satisfied: filelock in /usr/local/lib/python3.10/dist-packages (from datasets>=2.0.0->evaluate) (3.16.1)\n",
            "Requirement already satisfied: pyarrow>=15.0.0 in /usr/local/lib/python3.10/dist-packages (from datasets>=2.0.0->evaluate) (17.0.0)\n",
            "Requirement already satisfied: aiohttp in /usr/local/lib/python3.10/dist-packages (from datasets>=2.0.0->evaluate) (3.11.10)\n",
            "Requirement already satisfied: pyyaml>=5.1 in /usr/local/lib/python3.10/dist-packages (from datasets>=2.0.0->evaluate) (6.0.2)\n",
            "Requirement already satisfied: typing-extensions>=3.7.4.3 in /usr/local/lib/python3.10/dist-packages (from huggingface-hub>=0.7.0->evaluate) (4.12.2)\n",
            "Requirement already satisfied: charset-normalizer<4,>=2 in /usr/local/lib/python3.10/dist-packages (from requests>=2.19.0->evaluate) (3.4.0)\n",
            "Requirement already satisfied: idna<4,>=2.5 in /usr/local/lib/python3.10/dist-packages (from requests>=2.19.0->evaluate) (3.10)\n",
            "Requirement already satisfied: urllib3<3,>=1.21.1 in /usr/local/lib/python3.10/dist-packages (from requests>=2.19.0->evaluate) (2.2.3)\n",
            "Requirement already satisfied: certifi>=2017.4.17 in /usr/local/lib/python3.10/dist-packages (from requests>=2.19.0->evaluate) (2024.12.14)\n",
            "Requirement already satisfied: python-dateutil>=2.8.2 in /usr/local/lib/python3.10/dist-packages (from pandas->evaluate) (2.8.2)\n",
            "Requirement already satisfied: pytz>=2020.1 in /usr/local/lib/python3.10/dist-packages (from pandas->evaluate) (2024.2)\n",
            "Requirement already satisfied: tzdata>=2022.7 in /usr/local/lib/python3.10/dist-packages (from pandas->evaluate) (2024.2)\n",
            "Requirement already satisfied: aiohappyeyeballs>=2.3.0 in /usr/local/lib/python3.10/dist-packages (from aiohttp->datasets>=2.0.0->evaluate) (2.4.4)\n",
            "Requirement already satisfied: aiosignal>=1.1.2 in /usr/local/lib/python3.10/dist-packages (from aiohttp->datasets>=2.0.0->evaluate) (1.3.2)\n",
            "Requirement already satisfied: async-timeout<6.0,>=4.0 in /usr/local/lib/python3.10/dist-packages (from aiohttp->datasets>=2.0.0->evaluate) (4.0.3)\n",
            "Requirement already satisfied: attrs>=17.3.0 in /usr/local/lib/python3.10/dist-packages (from aiohttp->datasets>=2.0.0->evaluate) (24.3.0)\n",
            "Requirement already satisfied: frozenlist>=1.1.1 in /usr/local/lib/python3.10/dist-packages (from aiohttp->datasets>=2.0.0->evaluate) (1.5.0)\n",
            "Requirement already satisfied: multidict<7.0,>=4.5 in /usr/local/lib/python3.10/dist-packages (from aiohttp->datasets>=2.0.0->evaluate) (6.1.0)\n",
            "Requirement already satisfied: propcache>=0.2.0 in /usr/local/lib/python3.10/dist-packages (from aiohttp->datasets>=2.0.0->evaluate) (0.2.1)\n",
            "Requirement already satisfied: yarl<2.0,>=1.17.0 in /usr/local/lib/python3.10/dist-packages (from aiohttp->datasets>=2.0.0->evaluate) (1.18.3)\n",
            "Requirement already satisfied: six>=1.5 in /usr/local/lib/python3.10/dist-packages (from python-dateutil>=2.8.2->pandas->evaluate) (1.17.0)\n",
            "Downloading evaluate-0.4.3-py3-none-any.whl (84 kB)\n",
            "\u001b[2K   \u001b[90m━━━━━━━━━━━━━━━━━━━━━━━━━━━━━━━━━━━━━━━━\u001b[0m \u001b[32m84.0/84.0 kB\u001b[0m \u001b[31m9.3 MB/s\u001b[0m eta \u001b[36m0:00:00\u001b[0m\n",
            "\u001b[?25hInstalling collected packages: evaluate\n",
            "Successfully installed evaluate-0.4.3\n"
          ]
        }
      ]
    },
    {
      "cell_type": "code",
      "source": [
        "import numpy as np\n",
        "import evaluate"
      ],
      "metadata": {
        "id": "tHlh30SqgPWW"
      },
      "execution_count": 22,
      "outputs": []
    },
    {
      "cell_type": "code",
      "source": [
        "metric = evaluate.load(\"accuracy\")"
      ],
      "metadata": {
        "id": "ygi4dofDgTTO",
        "colab": {
          "base_uri": "https://localhost:8080/",
          "height": 49,
          "referenced_widgets": [
            "d4e8467461e84d68bd9d88329c6d250c",
            "9a85e2e8a7ee4076be1d92ec9fef70fd",
            "7b5e33ef5c88403687c9e89e3b82d15f",
            "d553732ec3a04d17ae728b9d1b4f461e",
            "d0c77498042640109271cd163da948bb",
            "889d28b505a84cbeab9befa3387fbcab",
            "cc54af3c25744d35a177c6bddccf4938",
            "4546085574534404917a06fc5d5a7d30",
            "b8ca835653654e709525dd9c66c53059",
            "8f4652030c4847369c0d3549247f19f0",
            "18d4bbff2e064291924934d062f4d808"
          ]
        },
        "outputId": "16f1537d-a5b7-488c-f3b8-a76ea3443bda"
      },
      "execution_count": 23,
      "outputs": [
        {
          "output_type": "display_data",
          "data": {
            "text/plain": [
              "Downloading builder script:   0%|          | 0.00/4.20k [00:00<?, ?B/s]"
            ],
            "application/vnd.jupyter.widget-view+json": {
              "version_major": 2,
              "version_minor": 0,
              "model_id": "d4e8467461e84d68bd9d88329c6d250c"
            }
          },
          "metadata": {}
        }
      ]
    },
    {
      "cell_type": "code",
      "source": [
        "from sklearn.metrics import f1_score\n",
        "\n",
        "def compute_metrics(eval_pred):\n",
        "    logits, labels = eval_pred\n",
        "    predictions = np.argmax(logits, axis=-1)\n",
        "    accuracy = metric.compute(predictions=predictions, references=labels)[\"accuracy\"]\n",
        "    f1 = f1_score(labels, predictions, average=\"binary\")\n",
        "    return {\"accuracy\": accuracy, \"f1\": f1}"
      ],
      "metadata": {
        "id": "LTNATr5Mgtnm"
      },
      "execution_count": 24,
      "outputs": []
    },
    {
      "cell_type": "markdown",
      "source": [
        "# Trainer"
      ],
      "metadata": {
        "id": "trVbxPf0g5JO"
      }
    },
    {
      "cell_type": "code",
      "source": [
        "from transformers import Trainer\n",
        "from transformers import EarlyStoppingCallback\n",
        "from transformers import TrainerCallback"
      ],
      "metadata": {
        "id": "oitQ6SgQhMBd"
      },
      "execution_count": 25,
      "outputs": []
    },
    {
      "cell_type": "code",
      "source": [
        "class LearningRateAndEvalLogger(TrainerCallback):\n",
        "    def on_evaluate(self, args, state, control, metrics=None, **kwargs):\n",
        "        # Log evaluation metrics\n",
        "        print(f\"Step {state.global_step}: Evaluation Metrics: {metrics}\")\n",
        "\n",
        "        # Log the current learning rate\n",
        "        if state.global_step > 0 and kwargs.get(\"optimizer\"):\n",
        "            lr = kwargs[\"optimizer\"].param_groups[0][\"lr\"]\n",
        "            print(f\"Step {state.global_step}: Learning Rate = {lr:.8f}\")\n"
      ],
      "metadata": {
        "id": "vkEgZGw3piTW"
      },
      "execution_count": 26,
      "outputs": []
    },
    {
      "cell_type": "code",
      "source": [
        "trainer = Trainer(\n",
        "   model=model,\n",
        "   args=training_args,\n",
        "   train_dataset=tokenized_train_dataset,\n",
        "   eval_dataset=tokenized_eval_dataset,\n",
        "   compute_metrics=compute_metrics,\n",
        "   callbacks=[LearningRateAndEvalLogger(), EarlyStoppingCallback(early_stopping_patience=3)],\n",
        ")"
      ],
      "metadata": {
        "id": "YmP13aQ5gwAp"
      },
      "execution_count": 27,
      "outputs": []
    },
    {
      "cell_type": "code",
      "source": [
        "#Example\n",
        "example = tokenized_eval_dataset[0]\n",
        "print(\"Example:\", example)"
      ],
      "metadata": {
        "colab": {
          "base_uri": "https://localhost:8080/"
        },
        "id": "CE8rb1xXEqjP",
        "outputId": "bb9254fe-2ed5-4e9f-eac7-154334a3573b"
      },
      "execution_count": 28,
      "outputs": [
        {
          "output_type": "stream",
          "name": "stdout",
          "text": [
            "Example: {'id': 'tr21974', 'speaker': '9fc862a54989ebca9fce2d6dd0add4bf', 'sex': 'M', 'text': \"Sayın Başkan, değerli milletvekilleri; 9 ve 10’uncu maddelerde 1163 sayılı Kooperatifler Kanunu üzerine iki düzenleme var, ikisi aynı mahiyette. <p> İlk hâliyle komisyona geldiğinde “kamu tüzel kişiliği” ibaresi vardı “üniversiteler” yerine. Yani, bir kamu tüzel kişisi, bir kooperatif ortağı ise orada kooperatif ana kuralı olan her ortak tek oy kuralı yerine, kamu tüzel kişiliğine payı kadar, sermayesi kadar oy imkânı veriyordu. Şimdi, bu, çok sakıncalı tabii. Yani, 1163’ün, Kooperatifler Yasası’nın esasına aykırı, âdeta bir virüs gibi bunun içine giren, bir yol açan… Eğer bu girerse bundan sonra hangi kooperatiflere, nereye, ne girer belli olmaz. <p> Şimdi, bu, daraltılmış gözüküyor alt komisyonda verilen bir önergeyle. Doğru, en azından daraltılması. Fakat bunun da başka sakıncaları var. Yani, daraltıldı, üniversiteler kondu yani üniversitelerde… Ki eskiden biliyorsunuz vakıflar vardı, vakıflar kaldırılınca yerine kooperatifler geldi. Şimdi, bu kooperatiflerle ilgili bir sorun yaşandığı anlaşılıyor. Özele girince anlaşıldı ki Gazi Üniversitesiyle ilgili çok somut bir olay üzerine kanun çıkarıyoruz. Yani, adrese teslim kanun olur mu? Kanun, yasama ilkesi genellik esasına dayalı değil midir? Yani, biz düzenlemeleri tekil durumlar için yapabilir miyiz? Tekil durumlar için yasa çıkarılırsa o zaman her kurum kendi tekil durumu için bir düzenleme istemez mi? Dolayısıyla, neresinden bakarsanız iler tutar tarafı olmayan bir şeydir. Bu iki maddenin mutlaka bu metinden çıkarılması gerekir. <p> Öbür taraftan, tabii, kooperatiflerin çok önemli sorunları var, biz burada bu süfli meselelerle uğraşıyoruz. Türkiye’de kooperatifler çok önemli finansman ve yönetim sorunlarıyla ve denetim sorunlarıyla karşı karşıyalar; esas bunlarla uğraşmalıyız. Esas olarak da Türkiye'nin çok geniş kesimini ilgilendiren tarım satış kooperatifleri olsun, tarım kredi kooperatifleri olsun tarımla ilgili çok önemli kooperatifler var. Örneğin, tarım satış kooperatifleri ve birliklerinin çok ciddi borçları var. Bu borçların devlete olan bölümünü yeniden yapılandırdık. Bunları ödemekte zorluk çekerken normal kooperatifçilik faaliyetlerini sürdürmek için yeniden borçlanıyorlar özel bankalardan ya da kamu bankalarından. Peki, bunu nasıl sürdürecekler? Siz, eğer sorunlara, kooperatifçilik meselesine çözüm istiyorsanız gelin buraya, bu kooperatiflerin ürün alım dönemlerinde onlara enflasyonun yarısı ya da sıfır faizli olmak üzere kredi verelim, dönem içinde, aynı yıl içinde geri ödenmek koşuluyla. Onların üreticiden ürün alabilmeleri ve borçlarını zamanında ödeyebilmelerinin tek yolu budur. <p> Kaldı ki şunu da belirteyim: 2006 yılında, gene Hükûmetiniz tarafından çıkarılan Tarım Kanunu’nun hükümleri, millî gelirin yüzde 1’i oranında tarıma destek verilmesi yönündedir. Eğer oradan bakarsak, 2006’dan 2014’e kadar yüzde 1 değil, yüzde yarımlık bir destek verildiğini dikkate alırsak yani ortalama her yıl için 5 milyar koysanız yaklaşık 35 milyar liralık çiftçiye borcu var bu Hükûmetin, 35 milyar yani 35 katrilyon eski parayla. Bu para, çiftçiye verilebilmiş olsaydı, bugün, çiftçi mazotu yarı fiyatına alırdı. Yani mazotta ÖTV vergisini indirirdi, KDV’yi almazdı ve çiftçi bugün mazotu 5 liradan değil, 2,5 liradan alırdı. Bugün, siz çiftçiye bu kanunen vermek zorunda olduğunuz borcu ödemeyi yapmamakla işte bunu yapıyorsunuz. <p> Tabii, burada yolsuzluk trafiğini yönetmeye sarf edilen zaman ile üreticinin haklarını vermek için ayrılan zaman arasında bir dengesizlik var, bir asimetri var. Yani milletin gerçek hakları ve alacakları üzerine düşünmek yerine, o yolsuzluk trafiğini nasıl hallederiz? Vakıflar üzerinden, telefonlar... Başbakan, ülkenin Başbakanı bunlarla meşgul, bunları yönetiyor, komisyonların nüfus ticaretini yönetiyor. <p> Değerli arkadaşlarım, ne kadar yolsuzluk varsa o kadar yoksulluk vardır. Yani bunlardan biri artarsa yoksulluk artar, yolsuzluk arttığı sürece. Çünkü bu, millete daha az hizmet demektir, daha çok vergi demektir. <p> Şunu da belirteyim son olarak: “Kasadan, devletin kasasından çıkmıyorsa, yolsuzluk olmaz.” yanlıştır, yanıltmadır, milleti kandırmadır. <p> Teşekkür ederim.\", 'text_en': \"Mr. President, there are two regulations in Articles 9 and 10 on the Law of Cooperatives 1163, both of which are the same. <p> When he first came to the commission, he had a public corporate personality in place of the university. So, instead of a public corporate person, a co-operative partner, every common voting rule with a co-op rule, he was able to vote as much as his share of public corporate personality as his capital. Now, that's very inconvenient, of course. So, the Law of Cooperatives, of 1163, which is contrary to the basics of the Law of Cooperatives, which, like a virus, has a way of getting into it... if this goes in, you never know which cooperatives, what goes in next. <p> Now, this seems to be narrowed down with a motion on the subcommittee. Right, at least it's narrowed down. But there are other things wrong with it. I mean, narrowed down, put in universities, which, as you know, used to have foundations, when the foundations were removed, they were replaced by co-ops. Now, there seems to be a problem with these cooperatives. Once we're in private, it turns out we're making a law on a very concrete incident at Gazi University. I mean, would it be a law to deliver to an address? Isn't the rule of law based on generality? I mean, can we make the arrangements for individual situations? If the law is passed for individual situations, wouldn't each institution want an arrangement for its own singularity? So wherever you look, the future is something that has no sides. These two items must be removed from this text. <p> On the other hand, of course, the cooperatives have very important problems, and we're dealing with these sophisticated issues here. Co-operatives in Turkey face very important financing and management problems and control issues; we must deal with them. Mainly, there are agricultural sales co-ops, agricultural loan co-ops, and very important cooperatives related to agriculture. For example, agricultural sales co-ops and their troops have very serious debts. We've reconstructed the part of these loans to the government. When they're having trouble paying for these, they're borrowing again to continue their normal co-op activities from private banks or public banks. So, how are they going to keep this up? You, if you want a solution to problems, the matter of co-op, come here, and let's give them a loan, half of inflation or zero interest in these cooperatives, on condition of repayment in the same year. It's the only way they can get product from the manufacturer and pay off their debts on time. <p> In addition, I would like to point out that in 2006, the provisions of the Agricultural Law, which was issued by your government, again, are that agriculture should be supported by 1 per cent of the national income. If we look from there, from 2006 to 2014, considering that it's not one per cent, it's half per cent, so if you put 5 billion per year on average, it owes about $35 billion to the farmer, which is 35 billion, 35 billion, 35 quadrillion old money. If this money had been given to the farmer, today, the farmer would have bought the diesel for half the price. So in mazotta, he took down the WTV tax, he didn't get the VAT, and today the farmer bought the diesel for $2.5, not $5. Today, this is what you do when you don't pay the farmer the debt you have to legally pay. <p> Of course, there's an imbalance between the time spent running corruption traffic and the time set aside to give the manufacturer the rights, an asymmetry. So instead of thinking about people's real rights and what they're gonna get, how do we deal with that corruption traffic? Through the foundations, the phones... The prime minister, the country's Prime Minister, deals with them, manages them, manages the commissions' population trade. <p> My dear friends, the more corruption there is, the more poverty there is. So if one of these goes up, poverty goes up, as long as corruption goes up. Because that means less service to people, more taxes. <p> Finally, there is no corruption if it does not come out of the vault of the state. It is wrong, it is deception, it is deception. <p> Thank you.\", 'label': 1, '__index_level_0__': 3828, 'input_ids': [0, 8414, 5, 34202, 4, 2685, 621, 6626, 209332, 23, 24241, 7, 483, 136, 209, 98, 70, 36293, 111, 59797, 45023, 7, 534, 15748, 4, 15044, 111, 3129, 621, 70, 5701, 5, 4426, 254, 2740, 14847, 764, 5117, 21449, 47, 70, 62458, 4, 764, 1902, 10, 3835, 145781, 3357, 2481, 23, 3687, 111, 70, 152363, 5, 1061, 4, 64457, 111, 10, 3835, 145781, 3445, 4, 10, 552, 9, 134364, 13, 4755, 4, 11907, 39210, 20875, 214, 79986, 678, 10, 552, 9, 2146, 79986, 4, 764, 509, 19048, 47, 43374, 237, 5045, 237, 1919, 12008, 111, 3835, 145781, 3357, 2481, 237, 1919, 10323, 5, 14240, 4, 450, 25, 7, 4552, 192206, 4, 111, 15411, 5, 1061, 4, 70, 36293, 111, 59797, 45023, 7, 4, 111, 534, 15748, 4, 3129, 83, 2304, 1294, 47, 70, 62822, 7, 111, 70, 36293, 111, 59797, 45023, 7, 4, 3129, 4, 1884, 10, 14994, 4, 1556, 10, 3917, 111, 20949, 3934, 442, 27, 2174, 903, 60899, 23, 4, 398, 8306, 3714, 3129, 57476, 42991, 4, 2367, 60899, 23, 11737, 5, 4426, 254, 2740, 14240, 4, 903, 37202, 47, 186, 24, 18304, 24243, 7565, 678, 10, 78112, 98, 70, 1614, 277, 4007, 67, 13, 5, 90911, 4, 99, 19713, 442, 25, 7, 24, 18304, 24243, 7565, 5, 4966, 2685, 621, 3789, 8966, 44691, 678, 442, 5, 87, 29459, 4, 24, 18304, 24243, 7565, 4, 3884, 23, 141626, 90, 4, 3129, 4, 237, 398, 3714, 4, 11814, 47, 765, 137374, 7, 4, 3229, 70, 137374, 7, 3542, 184750, 4, 1836, 3542, 91995, 71, 390, 552, 9, 68818, 5, 14240, 4, 2685, 37202, 47, 186, 10, 2967, 678, 6097, 57476, 42991, 5, 76556, 642, 25, 107, 23, 14375, 4, 442, 15504, 7, 1810, 642, 25, 107, 20662, 10, 27165, 98, 10, 4552, 122776, 45559, 99, 121689, 12535, 5, 87, 29459, 4, 2806, 442, 186, 10, 27165, 47, 75060, 47, 142, 29823, 32, 2071, 19, 25, 18, 70, 79986, 111, 27165, 35509, 98, 4537, 2481, 32, 87, 29459, 4, 831, 642, 3249, 70, 70767, 7, 100, 11651, 113949, 32, 4263, 70, 27165, 83, 115081, 100, 11651, 113949, 4, 68746, 25, 18, 12638, 38016, 3444, 142, 70767, 100, 6863, 10002, 67824, 2481, 32, 1061, 7440, 814, 398, 6713, 4, 70, 22690, 83, 9844, 450, 1556, 110, 5609, 7, 5, 32255, 6626, 55769, 8110, 186, 184750, 1295, 903, 7986, 5, 4426, 254, 2740, 2161, 70, 3789, 3535, 4, 111, 15411, 4, 70, 57476, 42991, 765, 4552, 5526, 44402, 4, 136, 642, 25, 107, 184017, 678, 6097, 221, 11727, 71412, 3674, 37348, 3688, 5, 1311, 9, 134364, 90, 23, 176672, 2577, 4552, 5526, 38410, 214, 136, 24365, 44402, 136, 6226, 37348, 74, 642, 8110, 35142, 678, 2856, 5, 12321, 538, 4, 2685, 621, 120767, 141, 40575, 552, 9, 68818, 4, 120767, 141, 111628, 552, 9, 68818, 4, 136, 4552, 5526, 57476, 42991, 62548, 47, 6, 177849, 5, 1326, 27781, 4, 120767, 141, 40575, 552, 9, 68818, 136, 2363, 3428, 68818, 765, 4552, 85583, 130815, 7, 5, 1401, 25, 272, 122905, 89829, 70, 2831, 111, 6097, 111628, 7, 47, 70, 27759, 5, 14847, 1836, 25, 2], 'attention_mask': [1, 1, 1, 1, 1, 1, 1, 1, 1, 1, 1, 1, 1, 1, 1, 1, 1, 1, 1, 1, 1, 1, 1, 1, 1, 1, 1, 1, 1, 1, 1, 1, 1, 1, 1, 1, 1, 1, 1, 1, 1, 1, 1, 1, 1, 1, 1, 1, 1, 1, 1, 1, 1, 1, 1, 1, 1, 1, 1, 1, 1, 1, 1, 1, 1, 1, 1, 1, 1, 1, 1, 1, 1, 1, 1, 1, 1, 1, 1, 1, 1, 1, 1, 1, 1, 1, 1, 1, 1, 1, 1, 1, 1, 1, 1, 1, 1, 1, 1, 1, 1, 1, 1, 1, 1, 1, 1, 1, 1, 1, 1, 1, 1, 1, 1, 1, 1, 1, 1, 1, 1, 1, 1, 1, 1, 1, 1, 1, 1, 1, 1, 1, 1, 1, 1, 1, 1, 1, 1, 1, 1, 1, 1, 1, 1, 1, 1, 1, 1, 1, 1, 1, 1, 1, 1, 1, 1, 1, 1, 1, 1, 1, 1, 1, 1, 1, 1, 1, 1, 1, 1, 1, 1, 1, 1, 1, 1, 1, 1, 1, 1, 1, 1, 1, 1, 1, 1, 1, 1, 1, 1, 1, 1, 1, 1, 1, 1, 1, 1, 1, 1, 1, 1, 1, 1, 1, 1, 1, 1, 1, 1, 1, 1, 1, 1, 1, 1, 1, 1, 1, 1, 1, 1, 1, 1, 1, 1, 1, 1, 1, 1, 1, 1, 1, 1, 1, 1, 1, 1, 1, 1, 1, 1, 1, 1, 1, 1, 1, 1, 1, 1, 1, 1, 1, 1, 1, 1, 1, 1, 1, 1, 1, 1, 1, 1, 1, 1, 1, 1, 1, 1, 1, 1, 1, 1, 1, 1, 1, 1, 1, 1, 1, 1, 1, 1, 1, 1, 1, 1, 1, 1, 1, 1, 1, 1, 1, 1, 1, 1, 1, 1, 1, 1, 1, 1, 1, 1, 1, 1, 1, 1, 1, 1, 1, 1, 1, 1, 1, 1, 1, 1, 1, 1, 1, 1, 1, 1, 1, 1, 1, 1, 1, 1, 1, 1, 1, 1, 1, 1, 1, 1, 1, 1, 1, 1, 1, 1, 1, 1, 1, 1, 1, 1, 1, 1, 1, 1, 1, 1, 1, 1, 1, 1, 1, 1, 1, 1, 1, 1, 1, 1, 1, 1, 1, 1, 1, 1, 1, 1, 1, 1, 1, 1, 1, 1, 1, 1, 1, 1, 1, 1, 1, 1, 1, 1, 1, 1, 1, 1, 1, 1, 1, 1, 1, 1, 1, 1, 1, 1, 1, 1, 1, 1, 1, 1, 1, 1, 1, 1, 1, 1, 1, 1, 1, 1, 1, 1, 1, 1, 1, 1, 1, 1, 1, 1, 1, 1, 1, 1, 1, 1, 1, 1, 1, 1, 1, 1, 1, 1, 1, 1, 1, 1, 1, 1, 1, 1, 1, 1, 1, 1, 1, 1, 1, 1, 1, 1, 1, 1, 1, 1, 1, 1, 1, 1, 1, 1, 1, 1, 1, 1, 1, 1, 1, 1, 1, 1, 1, 1, 1, 1, 1, 1, 1, 1, 1, 1, 1, 1, 1, 1, 1, 1, 1, 1, 1, 1, 1, 1, 1, 1, 1]}\n"
          ]
        }
      ]
    },
    {
      "cell_type": "code",
      "source": [
        "eval_results = trainer.evaluate()\n",
        "#print(eval_results)  # Includes the accuracy metric"
      ],
      "metadata": {
        "colab": {
          "base_uri": "https://localhost:8080/",
          "height": 75
        },
        "id": "o5rgYUkdExh_",
        "outputId": "1197a8ff-4726-451d-9f53-a169cd8e0197"
      },
      "execution_count": 29,
      "outputs": [
        {
          "output_type": "display_data",
          "data": {
            "text/plain": [
              "<IPython.core.display.HTML object>"
            ],
            "text/html": [
              "\n",
              "    <div>\n",
              "      \n",
              "      <progress value='109' max='109' style='width:300px; height:20px; vertical-align: middle;'></progress>\n",
              "      [109/109 00:06]\n",
              "    </div>\n",
              "    "
            ]
          },
          "metadata": {}
        },
        {
          "output_type": "stream",
          "name": "stdout",
          "text": [
            "Step 0: Evaluation Metrics: {'eval_loss': 0.6937976479530334, 'eval_model_preparation_time': 0.0037, 'eval_accuracy': 0.5135135135135135, 'eval_f1': 0.6785714285714286, 'eval_runtime': 7.9467, 'eval_samples_per_second': 218.833, 'eval_steps_per_second': 13.716}\n"
          ]
        }
      ]
    },
    {
      "cell_type": "code",
      "source": [
        "trainer.train()"
      ],
      "metadata": {
        "colab": {
          "base_uri": "https://localhost:8080/",
          "height": 1000
        },
        "id": "O58npc-Om-ho",
        "outputId": "43acd895-8ef5-4716-ccb2-8b2519e5c5e9"
      },
      "execution_count": 30,
      "outputs": [
        {
          "output_type": "display_data",
          "data": {
            "text/plain": [
              "<IPython.core.display.HTML object>"
            ],
            "text/html": [
              "\n",
              "    <div>\n",
              "      \n",
              "      <progress value='324' max='324' style='width:300px; height:20px; vertical-align: middle;'></progress>\n",
              "      [324/324 12:31, Epoch 2/3]\n",
              "    </div>\n",
              "    <table border=\"1\" class=\"dataframe\">\n",
              "  <thead>\n",
              " <tr style=\"text-align: left;\">\n",
              "      <th>Step</th>\n",
              "      <th>Training Loss</th>\n",
              "      <th>Validation Loss</th>\n",
              "      <th>Model Preparation Time</th>\n",
              "      <th>Accuracy</th>\n",
              "      <th>F1</th>\n",
              "    </tr>\n",
              "  </thead>\n",
              "  <tbody>\n",
              "    <tr>\n",
              "      <td>20</td>\n",
              "      <td>2.784100</td>\n",
              "      <td>0.691778</td>\n",
              "      <td>0.003700</td>\n",
              "      <td>0.513514</td>\n",
              "      <td>0.678571</td>\n",
              "    </tr>\n",
              "    <tr>\n",
              "      <td>40</td>\n",
              "      <td>2.696300</td>\n",
              "      <td>0.608231</td>\n",
              "      <td>0.003700</td>\n",
              "      <td>0.697527</td>\n",
              "      <td>0.692757</td>\n",
              "    </tr>\n",
              "    <tr>\n",
              "      <td>60</td>\n",
              "      <td>2.185100</td>\n",
              "      <td>0.508919</td>\n",
              "      <td>0.003700</td>\n",
              "      <td>0.763082</td>\n",
              "      <td>0.761298</td>\n",
              "    </tr>\n",
              "    <tr>\n",
              "      <td>80</td>\n",
              "      <td>1.902300</td>\n",
              "      <td>0.485368</td>\n",
              "      <td>0.003700</td>\n",
              "      <td>0.798160</td>\n",
              "      <td>0.806824</td>\n",
              "    </tr>\n",
              "    <tr>\n",
              "      <td>100</td>\n",
              "      <td>1.797100</td>\n",
              "      <td>0.440193</td>\n",
              "      <td>0.003700</td>\n",
              "      <td>0.811961</td>\n",
              "      <td>0.830306</td>\n",
              "    </tr>\n",
              "    <tr>\n",
              "      <td>120</td>\n",
              "      <td>1.738100</td>\n",
              "      <td>0.375058</td>\n",
              "      <td>0.003700</td>\n",
              "      <td>0.838988</td>\n",
              "      <td>0.846323</td>\n",
              "    </tr>\n",
              "    <tr>\n",
              "      <td>140</td>\n",
              "      <td>1.662700</td>\n",
              "      <td>0.528025</td>\n",
              "      <td>0.003700</td>\n",
              "      <td>0.783784</td>\n",
              "      <td>0.817829</td>\n",
              "    </tr>\n",
              "    <tr>\n",
              "      <td>160</td>\n",
              "      <td>1.575800</td>\n",
              "      <td>0.378297</td>\n",
              "      <td>0.003700</td>\n",
              "      <td>0.838413</td>\n",
              "      <td>0.851401</td>\n",
              "    </tr>\n",
              "    <tr>\n",
              "      <td>180</td>\n",
              "      <td>1.383800</td>\n",
              "      <td>0.338803</td>\n",
              "      <td>0.003700</td>\n",
              "      <td>0.853939</td>\n",
              "      <td>0.855846</td>\n",
              "    </tr>\n",
              "    <tr>\n",
              "      <td>200</td>\n",
              "      <td>1.363100</td>\n",
              "      <td>0.353846</td>\n",
              "      <td>0.003700</td>\n",
              "      <td>0.857964</td>\n",
              "      <td>0.853586</td>\n",
              "    </tr>\n",
              "    <tr>\n",
              "      <td>220</td>\n",
              "      <td>1.320600</td>\n",
              "      <td>0.331651</td>\n",
              "      <td>0.003700</td>\n",
              "      <td>0.861990</td>\n",
              "      <td>0.860627</td>\n",
              "    </tr>\n",
              "    <tr>\n",
              "      <td>240</td>\n",
              "      <td>1.217100</td>\n",
              "      <td>0.363010</td>\n",
              "      <td>0.003700</td>\n",
              "      <td>0.848764</td>\n",
              "      <td>0.840316</td>\n",
              "    </tr>\n",
              "    <tr>\n",
              "      <td>260</td>\n",
              "      <td>1.220400</td>\n",
              "      <td>0.316207</td>\n",
              "      <td>0.003700</td>\n",
              "      <td>0.867740</td>\n",
              "      <td>0.870056</td>\n",
              "    </tr>\n",
              "    <tr>\n",
              "      <td>280</td>\n",
              "      <td>1.129300</td>\n",
              "      <td>0.353041</td>\n",
              "      <td>0.003700</td>\n",
              "      <td>0.864865</td>\n",
              "      <td>0.866856</td>\n",
              "    </tr>\n",
              "    <tr>\n",
              "      <td>300</td>\n",
              "      <td>1.233000</td>\n",
              "      <td>0.314060</td>\n",
              "      <td>0.003700</td>\n",
              "      <td>0.872340</td>\n",
              "      <td>0.878022</td>\n",
              "    </tr>\n",
              "    <tr>\n",
              "      <td>320</td>\n",
              "      <td>1.079900</td>\n",
              "      <td>0.328588</td>\n",
              "      <td>0.003700</td>\n",
              "      <td>0.877516</td>\n",
              "      <td>0.876950</td>\n",
              "    </tr>\n",
              "  </tbody>\n",
              "</table><p>"
            ]
          },
          "metadata": {}
        },
        {
          "output_type": "display_data",
          "data": {
            "text/plain": [
              "<IPython.core.display.HTML object>"
            ],
            "text/html": [
              "\n",
              "    <div>\n",
              "      \n",
              "      <progress value='218' max='109' style='width:300px; height:20px; vertical-align: middle;'></progress>\n",
              "      [109/109 00:52]\n",
              "    </div>\n",
              "    "
            ]
          },
          "metadata": {}
        },
        {
          "output_type": "stream",
          "name": "stdout",
          "text": [
            "Step 20: Evaluation Metrics: {'eval_loss': 0.6917777061462402, 'eval_model_preparation_time': 0.0037, 'eval_accuracy': 0.5135135135135135, 'eval_f1': 0.6785714285714286, 'eval_runtime': 6.9853, 'eval_samples_per_second': 248.952, 'eval_steps_per_second': 15.604, 'epoch': 0.1839080459770115}\n",
            "Step 20: Learning Rate = 0.00001212\n",
            "Step 40: Evaluation Metrics: {'eval_loss': 0.6082308292388916, 'eval_model_preparation_time': 0.0037, 'eval_accuracy': 0.6975273145485912, 'eval_f1': 0.6927570093457944, 'eval_runtime': 7.2265, 'eval_samples_per_second': 240.642, 'eval_steps_per_second': 15.083, 'epoch': 0.367816091954023}\n",
            "Step 40: Learning Rate = 0.00001952\n",
            "Step 60: Evaluation Metrics: {'eval_loss': 0.5089191794395447, 'eval_model_preparation_time': 0.0037, 'eval_accuracy': 0.7630822311673375, 'eval_f1': 0.761297798377752, 'eval_runtime': 7.1021, 'eval_samples_per_second': 244.856, 'eval_steps_per_second': 15.347, 'epoch': 0.5517241379310345}\n",
            "Step 60: Learning Rate = 0.00001835\n",
            "Step 80: Evaluation Metrics: {'eval_loss': 0.4853683114051819, 'eval_model_preparation_time': 0.0037, 'eval_accuracy': 0.7981598619896493, 'eval_f1': 0.8068244358833242, 'eval_runtime': 7.0966, 'eval_samples_per_second': 245.048, 'eval_steps_per_second': 15.36, 'epoch': 0.735632183908046}\n",
            "Step 80: Learning Rate = 0.00001704\n",
            "Step 100: Evaluation Metrics: {'eval_loss': 0.44019320607185364, 'eval_model_preparation_time': 0.0037, 'eval_accuracy': 0.81196089706728, 'eval_f1': 0.8303061754021795, 'eval_runtime': 7.118, 'eval_samples_per_second': 244.311, 'eval_steps_per_second': 15.313, 'epoch': 0.9195402298850575}\n",
            "Step 100: Learning Rate = 0.00001567\n",
            "Step 120: Evaluation Metrics: {'eval_loss': 0.37505754828453064, 'eval_model_preparation_time': 0.0037, 'eval_accuracy': 0.8389879240943071, 'eval_f1': 0.8463227222832053, 'eval_runtime': 7.0888, 'eval_samples_per_second': 245.317, 'eval_steps_per_second': 15.376, 'epoch': 1.110344827586207}\n",
            "Step 120: Learning Rate = 0.00001430\n",
            "Step 140: Evaluation Metrics: {'eval_loss': 0.5280249118804932, 'eval_model_preparation_time': 0.0037, 'eval_accuracy': 0.7837837837837838, 'eval_f1': 0.8178294573643411, 'eval_runtime': 7.1174, 'eval_samples_per_second': 244.33, 'eval_steps_per_second': 15.315, 'epoch': 1.2942528735632184}\n",
            "Step 140: Learning Rate = 0.00001292\n",
            "Step 160: Evaluation Metrics: {'eval_loss': 0.3782970905303955, 'eval_model_preparation_time': 0.0037, 'eval_accuracy': 0.8384128809660725, 'eval_f1': 0.8514013749338974, 'eval_runtime': 7.1006, 'eval_samples_per_second': 244.908, 'eval_steps_per_second': 15.351, 'epoch': 1.4781609195402299}\n",
            "Step 160: Learning Rate = 0.00001155\n",
            "Step 180: Evaluation Metrics: {'eval_loss': 0.33880332112312317, 'eval_model_preparation_time': 0.0037, 'eval_accuracy': 0.8539390454284072, 'eval_f1': 0.8558456299659478, 'eval_runtime': 7.11, 'eval_samples_per_second': 244.586, 'eval_steps_per_second': 15.331, 'epoch': 1.6620689655172414}\n",
            "Step 180: Learning Rate = 0.00001017\n",
            "Step 200: Evaluation Metrics: {'eval_loss': 0.3538464605808258, 'eval_model_preparation_time': 0.0037, 'eval_accuracy': 0.8579643473260494, 'eval_f1': 0.8535862477771191, 'eval_runtime': 7.1029, 'eval_samples_per_second': 244.829, 'eval_steps_per_second': 15.346, 'epoch': 1.8459770114942529}\n",
            "Step 200: Learning Rate = 0.00000880\n",
            "Step 220: Evaluation Metrics: {'eval_loss': 0.33165115118026733, 'eval_model_preparation_time': 0.0037, 'eval_accuracy': 0.8619896492236918, 'eval_f1': 0.8606271777003485, 'eval_runtime': 7.1306, 'eval_samples_per_second': 243.878, 'eval_steps_per_second': 15.286, 'epoch': 2.036781609195402}\n",
            "Step 220: Learning Rate = 0.00000742\n",
            "Step 240: Evaluation Metrics: {'eval_loss': 0.3630101680755615, 'eval_model_preparation_time': 0.0037, 'eval_accuracy': 0.8487636572742956, 'eval_f1': 0.8403157255616271, 'eval_runtime': 7.1069, 'eval_samples_per_second': 244.693, 'eval_steps_per_second': 15.337, 'epoch': 2.220689655172414}\n",
            "Step 240: Learning Rate = 0.00000605\n",
            "Step 260: Evaluation Metrics: {'eval_loss': 0.316206693649292, 'eval_model_preparation_time': 0.0037, 'eval_accuracy': 0.8677400805060379, 'eval_f1': 0.8700564971751412, 'eval_runtime': 7.1095, 'eval_samples_per_second': 244.601, 'eval_steps_per_second': 15.331, 'epoch': 2.4045977011494255}\n",
            "Step 260: Learning Rate = 0.00000467\n",
            "Step 280: Evaluation Metrics: {'eval_loss': 0.3530413806438446, 'eval_model_preparation_time': 0.0037, 'eval_accuracy': 0.8648648648648649, 'eval_f1': 0.8668555240793201, 'eval_runtime': 7.1113, 'eval_samples_per_second': 244.539, 'eval_steps_per_second': 15.328, 'epoch': 2.5885057471264368}\n",
            "Step 280: Learning Rate = 0.00000330\n",
            "Step 300: Evaluation Metrics: {'eval_loss': 0.31405967473983765, 'eval_model_preparation_time': 0.0037, 'eval_accuracy': 0.8723404255319149, 'eval_f1': 0.878021978021978, 'eval_runtime': 7.0811, 'eval_samples_per_second': 245.583, 'eval_steps_per_second': 15.393, 'epoch': 2.772413793103448}\n",
            "Step 300: Learning Rate = 0.00000192\n",
            "Step 320: Evaluation Metrics: {'eval_loss': 0.3285882771015167, 'eval_model_preparation_time': 0.0037, 'eval_accuracy': 0.8775158136860265, 'eval_f1': 0.8769497400346621, 'eval_runtime': 7.1219, 'eval_samples_per_second': 244.175, 'eval_steps_per_second': 15.305, 'epoch': 2.9563218390804598}\n",
            "Step 320: Learning Rate = 0.00000055\n"
          ]
        },
        {
          "output_type": "stream",
          "name": "stderr",
          "text": [
            "Could not locate the best model at ./test_trainer/checkpoint-320/pytorch_model.bin, if you are running a distributed training on multiple nodes, you should activate `--save_on_each_node`.\n"
          ]
        },
        {
          "output_type": "execute_result",
          "data": {
            "text/plain": [
              "TrainOutput(global_step=324, training_loss=1.6376416388853097, metrics={'train_runtime': 754.2343, 'train_samples_per_second': 55.312, 'train_steps_per_second': 0.43, 'total_flos': 1.0945419902976e+16, 'train_loss': 1.6376416388853097, 'epoch': 2.9931034482758623})"
            ]
          },
          "metadata": {},
          "execution_count": 30
        }
      ]
    },
    {
      "cell_type": "code",
      "source": [
        "tokenized_test_dataset = test_dataset.map(tokenize_function, batched=True)"
      ],
      "metadata": {
        "colab": {
          "base_uri": "https://localhost:8080/",
          "height": 49,
          "referenced_widgets": [
            "6874f4217e874de5ad2084b97dd03042",
            "873d5a10100044b8aaeb2ed27e79f245",
            "390099e85a744b51b4c9cc09c23bc98c",
            "22c9cf35b1fb47dabae120794b1ebb51",
            "4404764070a64d678e31d6a734c285b9",
            "bc8154e0b1834a6db30a1b6757b98aa3",
            "956ab628a13c4677bf945c0da6d2957e",
            "9476fb61a1c0460facf9672189121155",
            "05fec971b3ef459da201d7ddc607617c",
            "5aa4f6a5d51643d389c148765ff6a1da",
            "9f4ec69baef04dcf9965d8edf1cb8172"
          ]
        },
        "id": "i_ZsBX0jKyvs",
        "outputId": "7cc8d7ba-261c-448d-cdb9-15d7ab3a0f46"
      },
      "execution_count": 31,
      "outputs": [
        {
          "output_type": "display_data",
          "data": {
            "text/plain": [
              "Map:   0%|          | 0/1739 [00:00<?, ? examples/s]"
            ],
            "application/vnd.jupyter.widget-view+json": {
              "version_major": 2,
              "version_minor": 0,
              "model_id": "6874f4217e874de5ad2084b97dd03042"
            }
          },
          "metadata": {}
        }
      ]
    },
    {
      "cell_type": "code",
      "source": [
        "print(f'Train Dataset Column Names:{train_dataset.column_names}')\n",
        "print(f'Tokenized Train Dataset Column Names:{tokenized_train_dataset.column_names}')\n",
        "example = tokenized_train_dataset[0]\n",
        "print(f'first element of tokenized dateset{example}')\n"
      ],
      "metadata": {
        "colab": {
          "base_uri": "https://localhost:8080/"
        },
        "id": "ZB8v33XgM7R-",
        "outputId": "36b4bfe9-36fb-4962-8df2-95e6386c5e17"
      },
      "execution_count": 32,
      "outputs": [
        {
          "output_type": "stream",
          "name": "stdout",
          "text": [
            "Train Dataset Column Names:['id', 'speaker', 'sex', 'text', 'text_en', 'label', '__index_level_0__']\n",
            "Tokenized Train Dataset Column Names:['id', 'speaker', 'sex', 'text', 'text_en', 'label', '__index_level_0__', 'input_ids', 'attention_mask']\n",
            "first element of tokenized dateset{'id': 'tr22454', 'speaker': '8b990f6eb6f268ccf94f9b3e67a0aa14', 'sex': 'M', 'text': \"Değerli milletvekilleri, emniyet mensubu vazife malulleri ile şehit gazi ve malul personel eş ve çocuğu olanların, emniyet teşkilatı mensubu şehit ve gazi aileleri ile yakınlarının kurdukları şehit ve gazilere yönelik yardımlaşma derneklerine ve vakıflarına üye olabilmeleri hakkındaki kanun teklifi üzerinde söz almış bulunuyorum. Hepinizi saygıyla selamlıyorum. <p> Değerli milletvekilleri, bütün demokratik hukuk devletlerinde polis, adaletin başladığı kapı, adalete gireceğimiz kapı. Bu nedenle, eğer, gerçekten ülkemizde demokrasi olsun, hukuk olsun istiyorsak bir kere, gerçekten, polisin eğitim düzeyini, ekonomik ve sosyal alandaki yaşam standartlarını mutlaka düzeltmek zorundayız. Eğer moral kondisyonu yerinde olmayan bir polisle icraat yapmaya kalkarsanız olacak olanlar bellidir, adaleti daha ilk başında yaralamış olursunuz. O nedenle, polisin tarafsızlığı, zinde ve ilkelerine bağlı çalışması ülkedeki demokrasinin de oturması açısından son derece önemlidir diye düşünüyorum. <p> Değerli arkadaşlarım, bizim ülkemizdeki polisimizin durumu nedir, kısaca sizlere hatırlatmak isterim: Bakın, bütün demokratik ülkelerde polisin sendika kurma hakkı var fakat Türkiye'de polisler sendika kurmaya kalktılar, başlarına pişmiş tavuğun başına gelenler geldi. Sendikayı kuranlar hemen, apar topar meslekten ihraç edildiler, üstelik de kendilerine “terörist” denilerek meslekten atıldılar. <p> Şimdi, düşünün, bir gün önce eline silah vermişsiniz, ülkeyi koruması için görevlendirmişsiniz, sokakta görev yapıyor, ertesi gün “Bu adam terörist.” diyorsunuz, meslekten atıyorsunuz. Bu sanırım bir alışkanlık oldu, 17 Aralık operasyonlarında da bir gün önce kahraman olan, Gezi’de destan yazan polisler bir anda paralel ilan edildiler, vatan haini ilan edildiler. Hâlbuki, o polisler bir gün önce devletin en önemli kurumlarına Hükûmetin atamasıyla gelmiş, belli sicil soruşturmaları da yapılmış kişilerdi; madem bunlar teröristti, madem bu kadar tehlikeliydiler neden bu insanların eline silah verip ülkenin güvenliğini teslim ettiniz? <p> Bir şey daha sormak istiyorum: Mademki bu polisler paralelciler, devletin aleyhinde çalışıyorlar nereye gönderdiniz bunları? İstanbul’dan aldınız –atıyorum- Hakkâri’ye gönderdiniz, Hakkâri bu memleketin toprağı değil mi? Yani polis İstanbul da paralel olamaz Hakkâri’de olabilir mi demek istiyorsunuz bununla? Eğer bunlar suçluysa, bu adamları meslekten atacaksınız, ellerindeki silahı alacaksınız, yok eğer suçlu değillerse bu adamların haklarını korumak, savunmak zorundasınız. <p> Değerli milletvekilleri, bakın, İstanbul’da 34 bin tane polise tahsis edilmiş makam aracı var. Yani bunun karşıtı şu: 6 bin tane polis şoförlük yapıyor. Bu emniyet teşkilatı otobüs firması mı? Yani dün söyleniyorduk, diyorduk ki: “Asker postal boyamak zorunda mı, paşanın postalını?” Şimdi, ne yapıyoruz? Polis emniyet müdürünün şoförlüğünü yapabilir, eşini kuaföre götürebilir, çocuğunu okula götürebilir, bunlara herhangi bir şey söylemiyoruz. Yani eğer bir ülkede, ortalama haftada 1 polis intihar ediyorsa bunun gerekçelerini mutlaka araştırmak zorundayız değerli arkadaşlarım. Bu konuyla ilgili verdiğimiz soru önergeleri, araştırma önergeleri sürekli reddediliyor. Polisin neden öldüğünü, neden intihar ettiğini merak etmek istemiyor mu bu yüce Meclis? Bunların mutlaka araştırılması gerekli. <p> Yine, bir noktayı vurgulamak isterim: Polisin bir yardımlaşma derneği var, askerlerin OYAK’ta olduğu gibi. OYAK’tan emekli olan her asker 50-60 milyar para alıyor, polis emekli olduğunda bu POLSAN’dan bir kuruş para alamıyor. Neden alamıyor? Çünkü POLSAN’ın parasının ne olduğu belli değil. Çok ciddi ortaklıkları var, çok ciddi firmalarla iş birliği yapmışlar, çok ciddi bir geliri var çünkü 120 bin polisten aylık 100 lira civarında para kesiliyor arkadaşlar fakat bu paranın nereye gittiği hiç belli değil. Bunu polisler de bilmiyor, emniyeti yönetenler de bilmiyorlar. Bu POLSAN’la ilgili konuyu Hükûmetin ciddiyetle araştırıp buradaki, iddiaya göre, 465 milyon lira kayıp paranın nerede olduğunu bulması gerekli değerli arkadaşlarım. <p> Evet, söylediğim gibi, polisin çalışma şartlarını mutlaka iyileştirmeliyiz fakat bu söylediklerim devletin polisi için geçerli olanlar. Hükûmetin polisi olanlar, Ali İsmail’i döverek öldürenler, Ethem Sarısülük’ü katledenler ve bu tür eylemleri siyasi bir hırsla, bir hınçla yapan polisleri elbette ki buna dâhil etmiyorum, onlara da günü ve zamanı geldiğinde mutlaka hesap soracağımızı da açıkça söylemek istiyorum. <p> Teşekkür ederim, sağ olun.\", 'text_en': 'Thank you, Mr. President. <p> Ladies and gentlemen of the law, I have made a commitment to those who have lost their disability and children, the spouses and children of martyrs and veterans of the police, and to the aid organizations of their relatives for martyrs and veterans, to be members of their trusts. I salute you all. <p> Dear lawmakers, police in all democratic law states, the door to justice, the door to justice. So, if we really want democracy in our country, if we really want law, once, we really have to fix the police\\'s level of education, economic and social living standards. If you try to act with a cop who\\'s not in a mood for morale, it\\'s obvious what\\'s going to happen, and you\\'ve hurt justice in the first place. So I think it\\'s very important that the police work on their neutrality, their fitness and principles, and that democracy in the country also resides. <p> My dear friends, what is the situation of our police in our country, I simply want to remind you: Look, in all democratic countries, police have the right to form unions, but in Turkey, police have tried to form unions, and what has happened to them is what happened to the cooked chicken. The founders of the union were immediately expelled from the profession, and they were dismissed from the profession, being called terrorists. <p> Now, imagine, the day before you put a gun in his hand, you put him in charge of protecting the country, he\\'s on the street, and the next day he\\'s a terrorist. I think it\\'s become a habit, and in the December 17th operations, the police who were heroes the day before, who had written epics in the Travel, were suddenly declared parallel, a traitor. However, those officers came to the state\\'s most important institutions a day ago with the appointment of the government, and they had certain record investigations; if they were terrorists, why did you hand over weapons to these people and hand over the security of the country? <p> And I want to ask you, since these cops are parallelists, they work against the government, where did you send them? You took it from Istanbul - you sent it to Hakkari, isn\\'t Hakkari the land of this land? You mean the police can\\'t be parallel in Istanbul and Hakkari could be parallel in Istanbul? If these guys are guilty, you\\'re gonna throw these guys out of business, you\\'re gonna get their gun, or if they\\'re not guilty, you\\'re gonna have to defend these guys\\' rights. <p> Dear MPs, look, there are 34,000 police-assigned government vehicles in Istanbul. So the opposite is that 6,000 cops drive. Is this the police department bus company? So yesterday, we were complaining, we were saying, \"Do soldiers have to paint boots, the pasha\\'s postal?\" Now, what do we do? The police can drive the police commissioner, take his wife to the hairdresser, take the kid to school, we don\\'t tell them anything. So if in one country, the average cop commits suicide once a week, we have to investigate the motives, my dear friends. The motions we\\'re making on this matter, the motions for research, they\\'re being rejected all the time. Does he not want to wonder why the police died, why he committed suicide? These things must be investigated. <p> Again, I\\'d like to point out that the police have a charity organization, like the soldiers in OYAK. Every soldier who retires from OYAK receives 50-60 billion dollars, and when the police retire, they can\\'t get a penny from this POLSAN. Why can\\'t he take it? Because there\\'s no telling what POLSAN\\'s money is. They have a very serious partnership, they\\'ve co-operated with very serious firms, and they have a very serious income, because 120,000 cops pay about $100 a month, friends, but it\\'s never clear where that money went. The cops don\\'t know that, and neither do the law enforcement guys. My dear friends here, who are supposedly required by the government to investigate the issue of this POLSAN, and find out where the missing $465m is. <p> Yeah, well, like I said, we have to improve the working conditions of the police, but that\\'s what I\\'m saying for the state police. The police of the government, the ones who beat and killed Ali Ishmael, the ones who killed Ethem Sarsuluk, and the ones who did such things with political ambition and a grudge, of course, I don\\'t include that, and I want to make it clear to them that when the day and the time comes, we will surely answer. <p> Thank you, thank you.', 'label': 1, '__index_level_0__': 4308, 'input_ids': [0, 25689, 398, 4, 8414, 5, 34202, 5, 4426, 254, 2740, 190387, 136, 21507, 133, 1055, 111, 70, 27165, 4, 87, 765, 7228, 10, 166794, 47, 8382, 2750, 765, 72856, 2363, 2837, 41159, 136, 20020, 4, 70, 5732, 29001, 136, 20020, 111, 187853, 7, 136, 52129, 7, 111, 70, 35206, 4, 136, 47, 70, 36442, 53702, 7, 111, 2363, 35845, 7, 100, 187853, 7, 136, 52129, 7, 4, 47, 186, 43032, 111, 2363, 63207, 7, 5, 87, 49498, 398, 756, 5, 4426, 254, 2740, 262, 147, 27165, 114014, 4, 35206, 23, 756, 139869, 27165, 117249, 4, 70, 1911, 47, 87338, 4, 70, 1911, 47, 87338, 5, 1061, 4, 2174, 642, 6183, 3444, 53397, 15182, 2408, 23, 2446, 23295, 4, 2174, 642, 6183, 3444, 27165, 4, 24145, 4, 642, 6183, 765, 47, 30022, 70, 35206, 25, 7, 17366, 111, 53019, 4, 25313, 136, 2265, 38043, 5570, 7, 5, 4263, 398, 9790, 47, 27992, 678, 10, 11757, 2750, 25, 7, 959, 23, 10, 52528, 100, 85176, 4, 442, 25, 7, 162520, 2367, 25, 7, 7730, 47, 53383, 4, 136, 398, 25, 272, 103049, 87338, 23, 70, 5117, 3687, 5, 1061, 87, 5351, 442, 25, 7, 4552, 5526, 450, 70, 35206, 4488, 98, 2363, 62276, 2481, 4, 2363, 37667, 136, 24702, 1577, 4, 136, 450, 53397, 15182, 2408, 23, 70, 23295, 2843, 157176, 7, 5, 4426, 254, 2740, 2646, 8, 147, 23902, 4, 2367, 83, 70, 16648, 111, 2446, 35206, 23, 2446, 23295, 4, 87, 42856, 3444, 47, 98911, 398, 12, 60818, 4, 23, 756, 139869, 76726, 4, 35206, 765, 70, 7108, 47, 3173, 69941, 7, 4, 1284, 23, 176672, 4, 35206, 765, 37842, 47, 3173, 69941, 7, 4, 136, 2367, 1556, 73659, 47, 2856, 83, 2367, 73659, 47, 70, 110309, 297, 143896, 5, 581, 14037, 1314, 111, 70, 69941, 3542, 109312, 14700, 2118, 71, 1295, 70, 40124, 4, 136, 1836, 3542, 2837, 45188, 297, 1295, 70, 40124, 4, 8035, 35839, 42998, 7, 5, 4426, 254, 2740, 14240, 4, 28987, 4, 70, 5155, 8108, 398, 3884, 10, 17863, 23, 1919, 3535, 4, 398, 3884, 4049, 23, 25534, 111, 59959, 214, 70, 23295, 4, 764, 25, 7, 98, 70, 48800, 4, 136, 70, 11737, 5155, 764, 25, 7, 10, 42998, 5, 87, 5351, 442, 25, 7, 24209, 10, 62122, 4, 136, 23, 70, 14487, 729, 927, 41018, 7, 4, 70, 35206, 2750, 3542, 40814, 90, 70, 5155, 8108, 4, 2750, 1902, 59121, 25277, 4439, 23, 70, 30720, 4, 3542, 186683, 159978, 71, 95103, 4, 10, 16071, 1290, 5, 33306, 4, 8382, 93324, 7, 21449, 47, 70, 11341, 25, 7, 2684, 5526, 38016, 7, 10, 5155, 6650, 678, 70, 164306, 111, 70, 27759, 4, 136, 1836, 1902, 24233, 17164, 145456, 7, 74, 2174, 1836, 3542, 42998, 7, 4, 15400, 6777, 398, 3535, 645, 142172, 7, 47, 6097, 3395, 136, 3535, 645, 70, 48031, 111, 70, 23295, 32, 4426, 254, 2740, 3493, 87, 3444, 47, 26458, 398, 4, 16792, 6097, 11757, 7, 621, 95103, 64370, 4, 1836, 4488, 26548, 70, 27759, 4, 7440, 6777, 398, 25379, 2856, 32, 2583, 34739, 442, 1295, 64925, 20, 398, 9325, 442, 2], 'attention_mask': [1, 1, 1, 1, 1, 1, 1, 1, 1, 1, 1, 1, 1, 1, 1, 1, 1, 1, 1, 1, 1, 1, 1, 1, 1, 1, 1, 1, 1, 1, 1, 1, 1, 1, 1, 1, 1, 1, 1, 1, 1, 1, 1, 1, 1, 1, 1, 1, 1, 1, 1, 1, 1, 1, 1, 1, 1, 1, 1, 1, 1, 1, 1, 1, 1, 1, 1, 1, 1, 1, 1, 1, 1, 1, 1, 1, 1, 1, 1, 1, 1, 1, 1, 1, 1, 1, 1, 1, 1, 1, 1, 1, 1, 1, 1, 1, 1, 1, 1, 1, 1, 1, 1, 1, 1, 1, 1, 1, 1, 1, 1, 1, 1, 1, 1, 1, 1, 1, 1, 1, 1, 1, 1, 1, 1, 1, 1, 1, 1, 1, 1, 1, 1, 1, 1, 1, 1, 1, 1, 1, 1, 1, 1, 1, 1, 1, 1, 1, 1, 1, 1, 1, 1, 1, 1, 1, 1, 1, 1, 1, 1, 1, 1, 1, 1, 1, 1, 1, 1, 1, 1, 1, 1, 1, 1, 1, 1, 1, 1, 1, 1, 1, 1, 1, 1, 1, 1, 1, 1, 1, 1, 1, 1, 1, 1, 1, 1, 1, 1, 1, 1, 1, 1, 1, 1, 1, 1, 1, 1, 1, 1, 1, 1, 1, 1, 1, 1, 1, 1, 1, 1, 1, 1, 1, 1, 1, 1, 1, 1, 1, 1, 1, 1, 1, 1, 1, 1, 1, 1, 1, 1, 1, 1, 1, 1, 1, 1, 1, 1, 1, 1, 1, 1, 1, 1, 1, 1, 1, 1, 1, 1, 1, 1, 1, 1, 1, 1, 1, 1, 1, 1, 1, 1, 1, 1, 1, 1, 1, 1, 1, 1, 1, 1, 1, 1, 1, 1, 1, 1, 1, 1, 1, 1, 1, 1, 1, 1, 1, 1, 1, 1, 1, 1, 1, 1, 1, 1, 1, 1, 1, 1, 1, 1, 1, 1, 1, 1, 1, 1, 1, 1, 1, 1, 1, 1, 1, 1, 1, 1, 1, 1, 1, 1, 1, 1, 1, 1, 1, 1, 1, 1, 1, 1, 1, 1, 1, 1, 1, 1, 1, 1, 1, 1, 1, 1, 1, 1, 1, 1, 1, 1, 1, 1, 1, 1, 1, 1, 1, 1, 1, 1, 1, 1, 1, 1, 1, 1, 1, 1, 1, 1, 1, 1, 1, 1, 1, 1, 1, 1, 1, 1, 1, 1, 1, 1, 1, 1, 1, 1, 1, 1, 1, 1, 1, 1, 1, 1, 1, 1, 1, 1, 1, 1, 1, 1, 1, 1, 1, 1, 1, 1, 1, 1, 1, 1, 1, 1, 1, 1, 1, 1, 1, 1, 1, 1, 1, 1, 1, 1, 1, 1, 1, 1, 1, 1, 1, 1, 1, 1, 1, 1, 1, 1, 1, 1, 1, 1, 1, 1, 1, 1, 1, 1, 1, 1, 1, 1, 1, 1, 1, 1, 1, 1, 1, 1, 1, 1, 1, 1, 1, 1, 1, 1, 1, 1, 1, 1, 1, 1, 1, 1, 1, 1, 1, 1, 1, 1, 1, 1, 1, 1, 1, 1, 1, 1, 1, 1, 1, 1, 1, 1, 1]}\n"
          ]
        }
      ]
    },
    {
      "cell_type": "code",
      "source": [
        "print(tokenized_train_dataset['label'][:10])  # Check the first 10 labels\n",
        "\n",
        "# Ensure labels are integers\n",
        "if not all(isinstance(label, int) for label in tokenized_train_dataset['label']):\n",
        "    print(\"Converting labels to integers...\")\n",
        "    train_dataset = train_dataset.map(lambda x: {\"label\": int(x[\"label\"])})\n",
        "    tokenized_train_dataset = train_dataset.map(tokenize_function, batched=True)\n"
      ],
      "metadata": {
        "colab": {
          "base_uri": "https://localhost:8080/"
        },
        "id": "ijfqtqCXODVY",
        "outputId": "912a5472-52cd-42c5-e764-f8555dfe6017"
      },
      "execution_count": 33,
      "outputs": [
        {
          "output_type": "stream",
          "name": "stdout",
          "text": [
            "[1, 0, 0, 0, 0, 0, 1, 1, 1, 0]\n"
          ]
        }
      ]
    },
    {
      "cell_type": "code",
      "source": [
        "test_results = trainer.evaluate(tokenized_test_dataset)\n",
        "print(\"Test Set Results:\", test_results)"
      ],
      "metadata": {
        "colab": {
          "base_uri": "https://localhost:8080/",
          "height": 111
        },
        "id": "DFlhEK89KO8C",
        "outputId": "4fdd7fad-2877-4de5-c746-a72e5c7e6abf"
      },
      "execution_count": 34,
      "outputs": [
        {
          "output_type": "display_data",
          "data": {
            "text/plain": [
              "<IPython.core.display.HTML object>"
            ],
            "text/html": [
              "\n",
              "    <div>\n",
              "      \n",
              "      <progress value='109' max='109' style='width:300px; height:20px; vertical-align: middle;'></progress>\n",
              "      [109/109 00:06]\n",
              "    </div>\n",
              "    "
            ]
          },
          "metadata": {}
        },
        {
          "output_type": "stream",
          "name": "stdout",
          "text": [
            "Step 324: Evaluation Metrics: {'eval_loss': 0.34821832180023193, 'eval_model_preparation_time': 0.0037, 'eval_accuracy': 0.851063829787234, 'eval_f1': 0.8550643536653609, 'eval_runtime': 7.0364, 'eval_samples_per_second': 247.143, 'eval_steps_per_second': 15.491, 'epoch': 2.9931034482758623}\n",
            "Step 324: Learning Rate = 0.00000027\n",
            "Test Set Results: {'eval_loss': 0.34821832180023193, 'eval_model_preparation_time': 0.0037, 'eval_accuracy': 0.851063829787234, 'eval_f1': 0.8550643536653609, 'eval_runtime': 7.0364, 'eval_samples_per_second': 247.143, 'eval_steps_per_second': 15.491, 'epoch': 2.9931034482758623}\n"
          ]
        }
      ]
    },
    {
      "cell_type": "code",
      "source": [
        "# Save the model and tokenizer\n",
        "model.save_pretrained(\"./task2_xlm-roberta-base_fine-tune\")\n",
        "tokenizer.save_pretrained(\"./task2_xlm-roberta-base_fine-tune\")"
      ],
      "metadata": {
        "id": "dHeD7rppOnGS",
        "outputId": "881d406b-3256-4d54-fcb6-ff247eadbb2c",
        "colab": {
          "base_uri": "https://localhost:8080/"
        }
      },
      "execution_count": 35,
      "outputs": [
        {
          "output_type": "execute_result",
          "data": {
            "text/plain": [
              "('./task2_xlm-roberta-base_fine-tune/tokenizer_config.json',\n",
              " './task2_xlm-roberta-base_fine-tune/special_tokens_map.json',\n",
              " './task2_xlm-roberta-base_fine-tune/sentencepiece.bpe.model',\n",
              " './task2_xlm-roberta-base_fine-tune/added_tokens.json',\n",
              " './task2_xlm-roberta-base_fine-tune/tokenizer.json')"
            ]
          },
          "metadata": {},
          "execution_count": 35
        }
      ]
    }
  ]
}