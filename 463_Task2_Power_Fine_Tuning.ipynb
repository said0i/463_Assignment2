{
  "nbformat": 4,
  "nbformat_minor": 0,
  "metadata": {
    "colab": {
      "provenance": [],
      "gpuType": "L4"
    },
    "kernelspec": {
      "name": "python3",
      "display_name": "Python 3"
    },
    "language_info": {
      "name": "python"
    },
    "accelerator": "GPU",
    "widgets": {
      "application/vnd.jupyter.widget-state+json": {
        "cbfaed7297944271bbf338403c0d107e": {
          "model_module": "@jupyter-widgets/controls",
          "model_name": "HBoxModel",
          "model_module_version": "1.5.0",
          "state": {
            "_dom_classes": [],
            "_model_module": "@jupyter-widgets/controls",
            "_model_module_version": "1.5.0",
            "_model_name": "HBoxModel",
            "_view_count": null,
            "_view_module": "@jupyter-widgets/controls",
            "_view_module_version": "1.5.0",
            "_view_name": "HBoxView",
            "box_style": "",
            "children": [
              "IPY_MODEL_89e8a134e38e4fbebf80318a16f17877",
              "IPY_MODEL_6effd25fe93e46d78368b0b2effe8839",
              "IPY_MODEL_4e1aaf83e6e94737a1c07971bf1e4223"
            ],
            "layout": "IPY_MODEL_84aac4f944b14c9c816196b69fe248c2"
          }
        },
        "89e8a134e38e4fbebf80318a16f17877": {
          "model_module": "@jupyter-widgets/controls",
          "model_name": "HTMLModel",
          "model_module_version": "1.5.0",
          "state": {
            "_dom_classes": [],
            "_model_module": "@jupyter-widgets/controls",
            "_model_module_version": "1.5.0",
            "_model_name": "HTMLModel",
            "_view_count": null,
            "_view_module": "@jupyter-widgets/controls",
            "_view_module_version": "1.5.0",
            "_view_name": "HTMLView",
            "description": "",
            "description_tooltip": null,
            "layout": "IPY_MODEL_2000f9cb0be94f7782b9ef9003e1d01d",
            "placeholder": "​",
            "style": "IPY_MODEL_260ba144b5724e45a8d375e1d0cdf3cc",
            "value": "Map: 100%"
          }
        },
        "6effd25fe93e46d78368b0b2effe8839": {
          "model_module": "@jupyter-widgets/controls",
          "model_name": "FloatProgressModel",
          "model_module_version": "1.5.0",
          "state": {
            "_dom_classes": [],
            "_model_module": "@jupyter-widgets/controls",
            "_model_module_version": "1.5.0",
            "_model_name": "FloatProgressModel",
            "_view_count": null,
            "_view_module": "@jupyter-widgets/controls",
            "_view_module_version": "1.5.0",
            "_view_name": "ProgressView",
            "bar_style": "success",
            "description": "",
            "description_tooltip": null,
            "layout": "IPY_MODEL_8316bcd93d61440bb963d2fedda416c5",
            "max": 1614,
            "min": 0,
            "orientation": "horizontal",
            "style": "IPY_MODEL_439f672e88244b99a93d4bb1173ae095",
            "value": 1614
          }
        },
        "4e1aaf83e6e94737a1c07971bf1e4223": {
          "model_module": "@jupyter-widgets/controls",
          "model_name": "HTMLModel",
          "model_module_version": "1.5.0",
          "state": {
            "_dom_classes": [],
            "_model_module": "@jupyter-widgets/controls",
            "_model_module_version": "1.5.0",
            "_model_name": "HTMLModel",
            "_view_count": null,
            "_view_module": "@jupyter-widgets/controls",
            "_view_module_version": "1.5.0",
            "_view_name": "HTMLView",
            "description": "",
            "description_tooltip": null,
            "layout": "IPY_MODEL_db634f8e07d248e781a33ac41186c3f4",
            "placeholder": "​",
            "style": "IPY_MODEL_a9b1d0b2e589464989c3b498682acc27",
            "value": " 1614/1614 [00:01&lt;00:00, 1567.30 examples/s]"
          }
        },
        "84aac4f944b14c9c816196b69fe248c2": {
          "model_module": "@jupyter-widgets/base",
          "model_name": "LayoutModel",
          "model_module_version": "1.2.0",
          "state": {
            "_model_module": "@jupyter-widgets/base",
            "_model_module_version": "1.2.0",
            "_model_name": "LayoutModel",
            "_view_count": null,
            "_view_module": "@jupyter-widgets/base",
            "_view_module_version": "1.2.0",
            "_view_name": "LayoutView",
            "align_content": null,
            "align_items": null,
            "align_self": null,
            "border": null,
            "bottom": null,
            "display": null,
            "flex": null,
            "flex_flow": null,
            "grid_area": null,
            "grid_auto_columns": null,
            "grid_auto_flow": null,
            "grid_auto_rows": null,
            "grid_column": null,
            "grid_gap": null,
            "grid_row": null,
            "grid_template_areas": null,
            "grid_template_columns": null,
            "grid_template_rows": null,
            "height": null,
            "justify_content": null,
            "justify_items": null,
            "left": null,
            "margin": null,
            "max_height": null,
            "max_width": null,
            "min_height": null,
            "min_width": null,
            "object_fit": null,
            "object_position": null,
            "order": null,
            "overflow": null,
            "overflow_x": null,
            "overflow_y": null,
            "padding": null,
            "right": null,
            "top": null,
            "visibility": null,
            "width": null
          }
        },
        "2000f9cb0be94f7782b9ef9003e1d01d": {
          "model_module": "@jupyter-widgets/base",
          "model_name": "LayoutModel",
          "model_module_version": "1.2.0",
          "state": {
            "_model_module": "@jupyter-widgets/base",
            "_model_module_version": "1.2.0",
            "_model_name": "LayoutModel",
            "_view_count": null,
            "_view_module": "@jupyter-widgets/base",
            "_view_module_version": "1.2.0",
            "_view_name": "LayoutView",
            "align_content": null,
            "align_items": null,
            "align_self": null,
            "border": null,
            "bottom": null,
            "display": null,
            "flex": null,
            "flex_flow": null,
            "grid_area": null,
            "grid_auto_columns": null,
            "grid_auto_flow": null,
            "grid_auto_rows": null,
            "grid_column": null,
            "grid_gap": null,
            "grid_row": null,
            "grid_template_areas": null,
            "grid_template_columns": null,
            "grid_template_rows": null,
            "height": null,
            "justify_content": null,
            "justify_items": null,
            "left": null,
            "margin": null,
            "max_height": null,
            "max_width": null,
            "min_height": null,
            "min_width": null,
            "object_fit": null,
            "object_position": null,
            "order": null,
            "overflow": null,
            "overflow_x": null,
            "overflow_y": null,
            "padding": null,
            "right": null,
            "top": null,
            "visibility": null,
            "width": null
          }
        },
        "260ba144b5724e45a8d375e1d0cdf3cc": {
          "model_module": "@jupyter-widgets/controls",
          "model_name": "DescriptionStyleModel",
          "model_module_version": "1.5.0",
          "state": {
            "_model_module": "@jupyter-widgets/controls",
            "_model_module_version": "1.5.0",
            "_model_name": "DescriptionStyleModel",
            "_view_count": null,
            "_view_module": "@jupyter-widgets/base",
            "_view_module_version": "1.2.0",
            "_view_name": "StyleView",
            "description_width": ""
          }
        },
        "8316bcd93d61440bb963d2fedda416c5": {
          "model_module": "@jupyter-widgets/base",
          "model_name": "LayoutModel",
          "model_module_version": "1.2.0",
          "state": {
            "_model_module": "@jupyter-widgets/base",
            "_model_module_version": "1.2.0",
            "_model_name": "LayoutModel",
            "_view_count": null,
            "_view_module": "@jupyter-widgets/base",
            "_view_module_version": "1.2.0",
            "_view_name": "LayoutView",
            "align_content": null,
            "align_items": null,
            "align_self": null,
            "border": null,
            "bottom": null,
            "display": null,
            "flex": null,
            "flex_flow": null,
            "grid_area": null,
            "grid_auto_columns": null,
            "grid_auto_flow": null,
            "grid_auto_rows": null,
            "grid_column": null,
            "grid_gap": null,
            "grid_row": null,
            "grid_template_areas": null,
            "grid_template_columns": null,
            "grid_template_rows": null,
            "height": null,
            "justify_content": null,
            "justify_items": null,
            "left": null,
            "margin": null,
            "max_height": null,
            "max_width": null,
            "min_height": null,
            "min_width": null,
            "object_fit": null,
            "object_position": null,
            "order": null,
            "overflow": null,
            "overflow_x": null,
            "overflow_y": null,
            "padding": null,
            "right": null,
            "top": null,
            "visibility": null,
            "width": null
          }
        },
        "439f672e88244b99a93d4bb1173ae095": {
          "model_module": "@jupyter-widgets/controls",
          "model_name": "ProgressStyleModel",
          "model_module_version": "1.5.0",
          "state": {
            "_model_module": "@jupyter-widgets/controls",
            "_model_module_version": "1.5.0",
            "_model_name": "ProgressStyleModel",
            "_view_count": null,
            "_view_module": "@jupyter-widgets/base",
            "_view_module_version": "1.2.0",
            "_view_name": "StyleView",
            "bar_color": null,
            "description_width": ""
          }
        },
        "db634f8e07d248e781a33ac41186c3f4": {
          "model_module": "@jupyter-widgets/base",
          "model_name": "LayoutModel",
          "model_module_version": "1.2.0",
          "state": {
            "_model_module": "@jupyter-widgets/base",
            "_model_module_version": "1.2.0",
            "_model_name": "LayoutModel",
            "_view_count": null,
            "_view_module": "@jupyter-widgets/base",
            "_view_module_version": "1.2.0",
            "_view_name": "LayoutView",
            "align_content": null,
            "align_items": null,
            "align_self": null,
            "border": null,
            "bottom": null,
            "display": null,
            "flex": null,
            "flex_flow": null,
            "grid_area": null,
            "grid_auto_columns": null,
            "grid_auto_flow": null,
            "grid_auto_rows": null,
            "grid_column": null,
            "grid_gap": null,
            "grid_row": null,
            "grid_template_areas": null,
            "grid_template_columns": null,
            "grid_template_rows": null,
            "height": null,
            "justify_content": null,
            "justify_items": null,
            "left": null,
            "margin": null,
            "max_height": null,
            "max_width": null,
            "min_height": null,
            "min_width": null,
            "object_fit": null,
            "object_position": null,
            "order": null,
            "overflow": null,
            "overflow_x": null,
            "overflow_y": null,
            "padding": null,
            "right": null,
            "top": null,
            "visibility": null,
            "width": null
          }
        },
        "a9b1d0b2e589464989c3b498682acc27": {
          "model_module": "@jupyter-widgets/controls",
          "model_name": "DescriptionStyleModel",
          "model_module_version": "1.5.0",
          "state": {
            "_model_module": "@jupyter-widgets/controls",
            "_model_module_version": "1.5.0",
            "_model_name": "DescriptionStyleModel",
            "_view_count": null,
            "_view_module": "@jupyter-widgets/base",
            "_view_module_version": "1.2.0",
            "_view_name": "StyleView",
            "description_width": ""
          }
        },
        "e02116ef84a74650a82ee09b6d62e0ee": {
          "model_module": "@jupyter-widgets/controls",
          "model_name": "HBoxModel",
          "model_module_version": "1.5.0",
          "state": {
            "_dom_classes": [],
            "_model_module": "@jupyter-widgets/controls",
            "_model_module_version": "1.5.0",
            "_model_name": "HBoxModel",
            "_view_count": null,
            "_view_module": "@jupyter-widgets/controls",
            "_view_module_version": "1.5.0",
            "_view_name": "HBoxView",
            "box_style": "",
            "children": [
              "IPY_MODEL_d441ad317cd447c98c2b1b97cedd28d8",
              "IPY_MODEL_341cdd009e684d1fa1591b6f43668173",
              "IPY_MODEL_cf8f8ccc5e104f1294b19d6bbdd7feaf"
            ],
            "layout": "IPY_MODEL_a0c1b62a99be4d4d9247a80d86f480b1"
          }
        },
        "d441ad317cd447c98c2b1b97cedd28d8": {
          "model_module": "@jupyter-widgets/controls",
          "model_name": "HTMLModel",
          "model_module_version": "1.5.0",
          "state": {
            "_dom_classes": [],
            "_model_module": "@jupyter-widgets/controls",
            "_model_module_version": "1.5.0",
            "_model_name": "HTMLModel",
            "_view_count": null,
            "_view_module": "@jupyter-widgets/controls",
            "_view_module_version": "1.5.0",
            "_view_name": "HTMLView",
            "description": "",
            "description_tooltip": null,
            "layout": "IPY_MODEL_36e140b0cb6f451199e92d4aeac75f02",
            "placeholder": "​",
            "style": "IPY_MODEL_05c360f067ef4ec8be8d33e0ae359346",
            "value": "tokenizer_config.json: 100%"
          }
        },
        "341cdd009e684d1fa1591b6f43668173": {
          "model_module": "@jupyter-widgets/controls",
          "model_name": "FloatProgressModel",
          "model_module_version": "1.5.0",
          "state": {
            "_dom_classes": [],
            "_model_module": "@jupyter-widgets/controls",
            "_model_module_version": "1.5.0",
            "_model_name": "FloatProgressModel",
            "_view_count": null,
            "_view_module": "@jupyter-widgets/controls",
            "_view_module_version": "1.5.0",
            "_view_name": "ProgressView",
            "bar_style": "success",
            "description": "",
            "description_tooltip": null,
            "layout": "IPY_MODEL_9dd1f8d3dd704264af5623e56bc23bfd",
            "max": 25,
            "min": 0,
            "orientation": "horizontal",
            "style": "IPY_MODEL_b4258d3ffa1a447784538496d76db467",
            "value": 25
          }
        },
        "cf8f8ccc5e104f1294b19d6bbdd7feaf": {
          "model_module": "@jupyter-widgets/controls",
          "model_name": "HTMLModel",
          "model_module_version": "1.5.0",
          "state": {
            "_dom_classes": [],
            "_model_module": "@jupyter-widgets/controls",
            "_model_module_version": "1.5.0",
            "_model_name": "HTMLModel",
            "_view_count": null,
            "_view_module": "@jupyter-widgets/controls",
            "_view_module_version": "1.5.0",
            "_view_name": "HTMLView",
            "description": "",
            "description_tooltip": null,
            "layout": "IPY_MODEL_b55347c978574a8f9a185b5ee489f42c",
            "placeholder": "​",
            "style": "IPY_MODEL_a4dc12d6a4f240b2879eb581ca88cd33",
            "value": " 25.0/25.0 [00:00&lt;00:00, 1.95kB/s]"
          }
        },
        "a0c1b62a99be4d4d9247a80d86f480b1": {
          "model_module": "@jupyter-widgets/base",
          "model_name": "LayoutModel",
          "model_module_version": "1.2.0",
          "state": {
            "_model_module": "@jupyter-widgets/base",
            "_model_module_version": "1.2.0",
            "_model_name": "LayoutModel",
            "_view_count": null,
            "_view_module": "@jupyter-widgets/base",
            "_view_module_version": "1.2.0",
            "_view_name": "LayoutView",
            "align_content": null,
            "align_items": null,
            "align_self": null,
            "border": null,
            "bottom": null,
            "display": null,
            "flex": null,
            "flex_flow": null,
            "grid_area": null,
            "grid_auto_columns": null,
            "grid_auto_flow": null,
            "grid_auto_rows": null,
            "grid_column": null,
            "grid_gap": null,
            "grid_row": null,
            "grid_template_areas": null,
            "grid_template_columns": null,
            "grid_template_rows": null,
            "height": null,
            "justify_content": null,
            "justify_items": null,
            "left": null,
            "margin": null,
            "max_height": null,
            "max_width": null,
            "min_height": null,
            "min_width": null,
            "object_fit": null,
            "object_position": null,
            "order": null,
            "overflow": null,
            "overflow_x": null,
            "overflow_y": null,
            "padding": null,
            "right": null,
            "top": null,
            "visibility": null,
            "width": null
          }
        },
        "36e140b0cb6f451199e92d4aeac75f02": {
          "model_module": "@jupyter-widgets/base",
          "model_name": "LayoutModel",
          "model_module_version": "1.2.0",
          "state": {
            "_model_module": "@jupyter-widgets/base",
            "_model_module_version": "1.2.0",
            "_model_name": "LayoutModel",
            "_view_count": null,
            "_view_module": "@jupyter-widgets/base",
            "_view_module_version": "1.2.0",
            "_view_name": "LayoutView",
            "align_content": null,
            "align_items": null,
            "align_self": null,
            "border": null,
            "bottom": null,
            "display": null,
            "flex": null,
            "flex_flow": null,
            "grid_area": null,
            "grid_auto_columns": null,
            "grid_auto_flow": null,
            "grid_auto_rows": null,
            "grid_column": null,
            "grid_gap": null,
            "grid_row": null,
            "grid_template_areas": null,
            "grid_template_columns": null,
            "grid_template_rows": null,
            "height": null,
            "justify_content": null,
            "justify_items": null,
            "left": null,
            "margin": null,
            "max_height": null,
            "max_width": null,
            "min_height": null,
            "min_width": null,
            "object_fit": null,
            "object_position": null,
            "order": null,
            "overflow": null,
            "overflow_x": null,
            "overflow_y": null,
            "padding": null,
            "right": null,
            "top": null,
            "visibility": null,
            "width": null
          }
        },
        "05c360f067ef4ec8be8d33e0ae359346": {
          "model_module": "@jupyter-widgets/controls",
          "model_name": "DescriptionStyleModel",
          "model_module_version": "1.5.0",
          "state": {
            "_model_module": "@jupyter-widgets/controls",
            "_model_module_version": "1.5.0",
            "_model_name": "DescriptionStyleModel",
            "_view_count": null,
            "_view_module": "@jupyter-widgets/base",
            "_view_module_version": "1.2.0",
            "_view_name": "StyleView",
            "description_width": ""
          }
        },
        "9dd1f8d3dd704264af5623e56bc23bfd": {
          "model_module": "@jupyter-widgets/base",
          "model_name": "LayoutModel",
          "model_module_version": "1.2.0",
          "state": {
            "_model_module": "@jupyter-widgets/base",
            "_model_module_version": "1.2.0",
            "_model_name": "LayoutModel",
            "_view_count": null,
            "_view_module": "@jupyter-widgets/base",
            "_view_module_version": "1.2.0",
            "_view_name": "LayoutView",
            "align_content": null,
            "align_items": null,
            "align_self": null,
            "border": null,
            "bottom": null,
            "display": null,
            "flex": null,
            "flex_flow": null,
            "grid_area": null,
            "grid_auto_columns": null,
            "grid_auto_flow": null,
            "grid_auto_rows": null,
            "grid_column": null,
            "grid_gap": null,
            "grid_row": null,
            "grid_template_areas": null,
            "grid_template_columns": null,
            "grid_template_rows": null,
            "height": null,
            "justify_content": null,
            "justify_items": null,
            "left": null,
            "margin": null,
            "max_height": null,
            "max_width": null,
            "min_height": null,
            "min_width": null,
            "object_fit": null,
            "object_position": null,
            "order": null,
            "overflow": null,
            "overflow_x": null,
            "overflow_y": null,
            "padding": null,
            "right": null,
            "top": null,
            "visibility": null,
            "width": null
          }
        },
        "b4258d3ffa1a447784538496d76db467": {
          "model_module": "@jupyter-widgets/controls",
          "model_name": "ProgressStyleModel",
          "model_module_version": "1.5.0",
          "state": {
            "_model_module": "@jupyter-widgets/controls",
            "_model_module_version": "1.5.0",
            "_model_name": "ProgressStyleModel",
            "_view_count": null,
            "_view_module": "@jupyter-widgets/base",
            "_view_module_version": "1.2.0",
            "_view_name": "StyleView",
            "bar_color": null,
            "description_width": ""
          }
        },
        "b55347c978574a8f9a185b5ee489f42c": {
          "model_module": "@jupyter-widgets/base",
          "model_name": "LayoutModel",
          "model_module_version": "1.2.0",
          "state": {
            "_model_module": "@jupyter-widgets/base",
            "_model_module_version": "1.2.0",
            "_model_name": "LayoutModel",
            "_view_count": null,
            "_view_module": "@jupyter-widgets/base",
            "_view_module_version": "1.2.0",
            "_view_name": "LayoutView",
            "align_content": null,
            "align_items": null,
            "align_self": null,
            "border": null,
            "bottom": null,
            "display": null,
            "flex": null,
            "flex_flow": null,
            "grid_area": null,
            "grid_auto_columns": null,
            "grid_auto_flow": null,
            "grid_auto_rows": null,
            "grid_column": null,
            "grid_gap": null,
            "grid_row": null,
            "grid_template_areas": null,
            "grid_template_columns": null,
            "grid_template_rows": null,
            "height": null,
            "justify_content": null,
            "justify_items": null,
            "left": null,
            "margin": null,
            "max_height": null,
            "max_width": null,
            "min_height": null,
            "min_width": null,
            "object_fit": null,
            "object_position": null,
            "order": null,
            "overflow": null,
            "overflow_x": null,
            "overflow_y": null,
            "padding": null,
            "right": null,
            "top": null,
            "visibility": null,
            "width": null
          }
        },
        "a4dc12d6a4f240b2879eb581ca88cd33": {
          "model_module": "@jupyter-widgets/controls",
          "model_name": "DescriptionStyleModel",
          "model_module_version": "1.5.0",
          "state": {
            "_model_module": "@jupyter-widgets/controls",
            "_model_module_version": "1.5.0",
            "_model_name": "DescriptionStyleModel",
            "_view_count": null,
            "_view_module": "@jupyter-widgets/base",
            "_view_module_version": "1.2.0",
            "_view_name": "StyleView",
            "description_width": ""
          }
        },
        "ac53fe8e72e9428fa392ac1f2f40737b": {
          "model_module": "@jupyter-widgets/controls",
          "model_name": "HBoxModel",
          "model_module_version": "1.5.0",
          "state": {
            "_dom_classes": [],
            "_model_module": "@jupyter-widgets/controls",
            "_model_module_version": "1.5.0",
            "_model_name": "HBoxModel",
            "_view_count": null,
            "_view_module": "@jupyter-widgets/controls",
            "_view_module_version": "1.5.0",
            "_view_name": "HBoxView",
            "box_style": "",
            "children": [
              "IPY_MODEL_019f6b0a41bf41268bbd97562b962d22",
              "IPY_MODEL_84f5e7191b6a4539816c2ef549669fab",
              "IPY_MODEL_0fe35e2725e54e77abcd00eb2bb0b7d0"
            ],
            "layout": "IPY_MODEL_82d929e435074172867a325ce3494951"
          }
        },
        "019f6b0a41bf41268bbd97562b962d22": {
          "model_module": "@jupyter-widgets/controls",
          "model_name": "HTMLModel",
          "model_module_version": "1.5.0",
          "state": {
            "_dom_classes": [],
            "_model_module": "@jupyter-widgets/controls",
            "_model_module_version": "1.5.0",
            "_model_name": "HTMLModel",
            "_view_count": null,
            "_view_module": "@jupyter-widgets/controls",
            "_view_module_version": "1.5.0",
            "_view_name": "HTMLView",
            "description": "",
            "description_tooltip": null,
            "layout": "IPY_MODEL_f063dd00610b4eac8b3ec54426a6a1a5",
            "placeholder": "​",
            "style": "IPY_MODEL_bae6f4ce174945d797c06244c773ece8",
            "value": "config.json: 100%"
          }
        },
        "84f5e7191b6a4539816c2ef549669fab": {
          "model_module": "@jupyter-widgets/controls",
          "model_name": "FloatProgressModel",
          "model_module_version": "1.5.0",
          "state": {
            "_dom_classes": [],
            "_model_module": "@jupyter-widgets/controls",
            "_model_module_version": "1.5.0",
            "_model_name": "FloatProgressModel",
            "_view_count": null,
            "_view_module": "@jupyter-widgets/controls",
            "_view_module_version": "1.5.0",
            "_view_name": "ProgressView",
            "bar_style": "success",
            "description": "",
            "description_tooltip": null,
            "layout": "IPY_MODEL_e1a84ab8730b4ea7bdb03cea98e8fa10",
            "max": 615,
            "min": 0,
            "orientation": "horizontal",
            "style": "IPY_MODEL_fff00ae6837b41fb923112ebc9c88dec",
            "value": 615
          }
        },
        "0fe35e2725e54e77abcd00eb2bb0b7d0": {
          "model_module": "@jupyter-widgets/controls",
          "model_name": "HTMLModel",
          "model_module_version": "1.5.0",
          "state": {
            "_dom_classes": [],
            "_model_module": "@jupyter-widgets/controls",
            "_model_module_version": "1.5.0",
            "_model_name": "HTMLModel",
            "_view_count": null,
            "_view_module": "@jupyter-widgets/controls",
            "_view_module_version": "1.5.0",
            "_view_name": "HTMLView",
            "description": "",
            "description_tooltip": null,
            "layout": "IPY_MODEL_f7e6b8053eba40409a1d32d9ce076ba2",
            "placeholder": "​",
            "style": "IPY_MODEL_70de73a806da42baaecd7fa72e1741f1",
            "value": " 615/615 [00:00&lt;00:00, 46.5kB/s]"
          }
        },
        "82d929e435074172867a325ce3494951": {
          "model_module": "@jupyter-widgets/base",
          "model_name": "LayoutModel",
          "model_module_version": "1.2.0",
          "state": {
            "_model_module": "@jupyter-widgets/base",
            "_model_module_version": "1.2.0",
            "_model_name": "LayoutModel",
            "_view_count": null,
            "_view_module": "@jupyter-widgets/base",
            "_view_module_version": "1.2.0",
            "_view_name": "LayoutView",
            "align_content": null,
            "align_items": null,
            "align_self": null,
            "border": null,
            "bottom": null,
            "display": null,
            "flex": null,
            "flex_flow": null,
            "grid_area": null,
            "grid_auto_columns": null,
            "grid_auto_flow": null,
            "grid_auto_rows": null,
            "grid_column": null,
            "grid_gap": null,
            "grid_row": null,
            "grid_template_areas": null,
            "grid_template_columns": null,
            "grid_template_rows": null,
            "height": null,
            "justify_content": null,
            "justify_items": null,
            "left": null,
            "margin": null,
            "max_height": null,
            "max_width": null,
            "min_height": null,
            "min_width": null,
            "object_fit": null,
            "object_position": null,
            "order": null,
            "overflow": null,
            "overflow_x": null,
            "overflow_y": null,
            "padding": null,
            "right": null,
            "top": null,
            "visibility": null,
            "width": null
          }
        },
        "f063dd00610b4eac8b3ec54426a6a1a5": {
          "model_module": "@jupyter-widgets/base",
          "model_name": "LayoutModel",
          "model_module_version": "1.2.0",
          "state": {
            "_model_module": "@jupyter-widgets/base",
            "_model_module_version": "1.2.0",
            "_model_name": "LayoutModel",
            "_view_count": null,
            "_view_module": "@jupyter-widgets/base",
            "_view_module_version": "1.2.0",
            "_view_name": "LayoutView",
            "align_content": null,
            "align_items": null,
            "align_self": null,
            "border": null,
            "bottom": null,
            "display": null,
            "flex": null,
            "flex_flow": null,
            "grid_area": null,
            "grid_auto_columns": null,
            "grid_auto_flow": null,
            "grid_auto_rows": null,
            "grid_column": null,
            "grid_gap": null,
            "grid_row": null,
            "grid_template_areas": null,
            "grid_template_columns": null,
            "grid_template_rows": null,
            "height": null,
            "justify_content": null,
            "justify_items": null,
            "left": null,
            "margin": null,
            "max_height": null,
            "max_width": null,
            "min_height": null,
            "min_width": null,
            "object_fit": null,
            "object_position": null,
            "order": null,
            "overflow": null,
            "overflow_x": null,
            "overflow_y": null,
            "padding": null,
            "right": null,
            "top": null,
            "visibility": null,
            "width": null
          }
        },
        "bae6f4ce174945d797c06244c773ece8": {
          "model_module": "@jupyter-widgets/controls",
          "model_name": "DescriptionStyleModel",
          "model_module_version": "1.5.0",
          "state": {
            "_model_module": "@jupyter-widgets/controls",
            "_model_module_version": "1.5.0",
            "_model_name": "DescriptionStyleModel",
            "_view_count": null,
            "_view_module": "@jupyter-widgets/base",
            "_view_module_version": "1.2.0",
            "_view_name": "StyleView",
            "description_width": ""
          }
        },
        "e1a84ab8730b4ea7bdb03cea98e8fa10": {
          "model_module": "@jupyter-widgets/base",
          "model_name": "LayoutModel",
          "model_module_version": "1.2.0",
          "state": {
            "_model_module": "@jupyter-widgets/base",
            "_model_module_version": "1.2.0",
            "_model_name": "LayoutModel",
            "_view_count": null,
            "_view_module": "@jupyter-widgets/base",
            "_view_module_version": "1.2.0",
            "_view_name": "LayoutView",
            "align_content": null,
            "align_items": null,
            "align_self": null,
            "border": null,
            "bottom": null,
            "display": null,
            "flex": null,
            "flex_flow": null,
            "grid_area": null,
            "grid_auto_columns": null,
            "grid_auto_flow": null,
            "grid_auto_rows": null,
            "grid_column": null,
            "grid_gap": null,
            "grid_row": null,
            "grid_template_areas": null,
            "grid_template_columns": null,
            "grid_template_rows": null,
            "height": null,
            "justify_content": null,
            "justify_items": null,
            "left": null,
            "margin": null,
            "max_height": null,
            "max_width": null,
            "min_height": null,
            "min_width": null,
            "object_fit": null,
            "object_position": null,
            "order": null,
            "overflow": null,
            "overflow_x": null,
            "overflow_y": null,
            "padding": null,
            "right": null,
            "top": null,
            "visibility": null,
            "width": null
          }
        },
        "fff00ae6837b41fb923112ebc9c88dec": {
          "model_module": "@jupyter-widgets/controls",
          "model_name": "ProgressStyleModel",
          "model_module_version": "1.5.0",
          "state": {
            "_model_module": "@jupyter-widgets/controls",
            "_model_module_version": "1.5.0",
            "_model_name": "ProgressStyleModel",
            "_view_count": null,
            "_view_module": "@jupyter-widgets/base",
            "_view_module_version": "1.2.0",
            "_view_name": "StyleView",
            "bar_color": null,
            "description_width": ""
          }
        },
        "f7e6b8053eba40409a1d32d9ce076ba2": {
          "model_module": "@jupyter-widgets/base",
          "model_name": "LayoutModel",
          "model_module_version": "1.2.0",
          "state": {
            "_model_module": "@jupyter-widgets/base",
            "_model_module_version": "1.2.0",
            "_model_name": "LayoutModel",
            "_view_count": null,
            "_view_module": "@jupyter-widgets/base",
            "_view_module_version": "1.2.0",
            "_view_name": "LayoutView",
            "align_content": null,
            "align_items": null,
            "align_self": null,
            "border": null,
            "bottom": null,
            "display": null,
            "flex": null,
            "flex_flow": null,
            "grid_area": null,
            "grid_auto_columns": null,
            "grid_auto_flow": null,
            "grid_auto_rows": null,
            "grid_column": null,
            "grid_gap": null,
            "grid_row": null,
            "grid_template_areas": null,
            "grid_template_columns": null,
            "grid_template_rows": null,
            "height": null,
            "justify_content": null,
            "justify_items": null,
            "left": null,
            "margin": null,
            "max_height": null,
            "max_width": null,
            "min_height": null,
            "min_width": null,
            "object_fit": null,
            "object_position": null,
            "order": null,
            "overflow": null,
            "overflow_x": null,
            "overflow_y": null,
            "padding": null,
            "right": null,
            "top": null,
            "visibility": null,
            "width": null
          }
        },
        "70de73a806da42baaecd7fa72e1741f1": {
          "model_module": "@jupyter-widgets/controls",
          "model_name": "DescriptionStyleModel",
          "model_module_version": "1.5.0",
          "state": {
            "_model_module": "@jupyter-widgets/controls",
            "_model_module_version": "1.5.0",
            "_model_name": "DescriptionStyleModel",
            "_view_count": null,
            "_view_module": "@jupyter-widgets/base",
            "_view_module_version": "1.2.0",
            "_view_name": "StyleView",
            "description_width": ""
          }
        },
        "4684c474bed24b048f4a3980f1dafb82": {
          "model_module": "@jupyter-widgets/controls",
          "model_name": "HBoxModel",
          "model_module_version": "1.5.0",
          "state": {
            "_dom_classes": [],
            "_model_module": "@jupyter-widgets/controls",
            "_model_module_version": "1.5.0",
            "_model_name": "HBoxModel",
            "_view_count": null,
            "_view_module": "@jupyter-widgets/controls",
            "_view_module_version": "1.5.0",
            "_view_name": "HBoxView",
            "box_style": "",
            "children": [
              "IPY_MODEL_d9560c257246482399222e2b4bdab1f2",
              "IPY_MODEL_9cca2fbf9e9b421c95a7023910b472ff",
              "IPY_MODEL_fd44c081e0524d0b84a714a95ff5ee65"
            ],
            "layout": "IPY_MODEL_31ad33f1224244cc9e5f6335e814d78e"
          }
        },
        "d9560c257246482399222e2b4bdab1f2": {
          "model_module": "@jupyter-widgets/controls",
          "model_name": "HTMLModel",
          "model_module_version": "1.5.0",
          "state": {
            "_dom_classes": [],
            "_model_module": "@jupyter-widgets/controls",
            "_model_module_version": "1.5.0",
            "_model_name": "HTMLModel",
            "_view_count": null,
            "_view_module": "@jupyter-widgets/controls",
            "_view_module_version": "1.5.0",
            "_view_name": "HTMLView",
            "description": "",
            "description_tooltip": null,
            "layout": "IPY_MODEL_3ae7412f40d644d9a52e36854b35f918",
            "placeholder": "​",
            "style": "IPY_MODEL_8f28e629a1b64493a3bbd4c4715cfc4d",
            "value": "sentencepiece.bpe.model: 100%"
          }
        },
        "9cca2fbf9e9b421c95a7023910b472ff": {
          "model_module": "@jupyter-widgets/controls",
          "model_name": "FloatProgressModel",
          "model_module_version": "1.5.0",
          "state": {
            "_dom_classes": [],
            "_model_module": "@jupyter-widgets/controls",
            "_model_module_version": "1.5.0",
            "_model_name": "FloatProgressModel",
            "_view_count": null,
            "_view_module": "@jupyter-widgets/controls",
            "_view_module_version": "1.5.0",
            "_view_name": "ProgressView",
            "bar_style": "success",
            "description": "",
            "description_tooltip": null,
            "layout": "IPY_MODEL_9cbac5446c3c4b5c9127ce3cb221aa9c",
            "max": 5069051,
            "min": 0,
            "orientation": "horizontal",
            "style": "IPY_MODEL_0666d1202c60427eac6d4c5c5d10c598",
            "value": 5069051
          }
        },
        "fd44c081e0524d0b84a714a95ff5ee65": {
          "model_module": "@jupyter-widgets/controls",
          "model_name": "HTMLModel",
          "model_module_version": "1.5.0",
          "state": {
            "_dom_classes": [],
            "_model_module": "@jupyter-widgets/controls",
            "_model_module_version": "1.5.0",
            "_model_name": "HTMLModel",
            "_view_count": null,
            "_view_module": "@jupyter-widgets/controls",
            "_view_module_version": "1.5.0",
            "_view_name": "HTMLView",
            "description": "",
            "description_tooltip": null,
            "layout": "IPY_MODEL_f6bbe29659fb40c0950aa9b4bbcdd3cb",
            "placeholder": "​",
            "style": "IPY_MODEL_c9a4bd3d4dff4f9688aeca2e63ea7b44",
            "value": " 5.07M/5.07M [00:00&lt;00:00, 28.0MB/s]"
          }
        },
        "31ad33f1224244cc9e5f6335e814d78e": {
          "model_module": "@jupyter-widgets/base",
          "model_name": "LayoutModel",
          "model_module_version": "1.2.0",
          "state": {
            "_model_module": "@jupyter-widgets/base",
            "_model_module_version": "1.2.0",
            "_model_name": "LayoutModel",
            "_view_count": null,
            "_view_module": "@jupyter-widgets/base",
            "_view_module_version": "1.2.0",
            "_view_name": "LayoutView",
            "align_content": null,
            "align_items": null,
            "align_self": null,
            "border": null,
            "bottom": null,
            "display": null,
            "flex": null,
            "flex_flow": null,
            "grid_area": null,
            "grid_auto_columns": null,
            "grid_auto_flow": null,
            "grid_auto_rows": null,
            "grid_column": null,
            "grid_gap": null,
            "grid_row": null,
            "grid_template_areas": null,
            "grid_template_columns": null,
            "grid_template_rows": null,
            "height": null,
            "justify_content": null,
            "justify_items": null,
            "left": null,
            "margin": null,
            "max_height": null,
            "max_width": null,
            "min_height": null,
            "min_width": null,
            "object_fit": null,
            "object_position": null,
            "order": null,
            "overflow": null,
            "overflow_x": null,
            "overflow_y": null,
            "padding": null,
            "right": null,
            "top": null,
            "visibility": null,
            "width": null
          }
        },
        "3ae7412f40d644d9a52e36854b35f918": {
          "model_module": "@jupyter-widgets/base",
          "model_name": "LayoutModel",
          "model_module_version": "1.2.0",
          "state": {
            "_model_module": "@jupyter-widgets/base",
            "_model_module_version": "1.2.0",
            "_model_name": "LayoutModel",
            "_view_count": null,
            "_view_module": "@jupyter-widgets/base",
            "_view_module_version": "1.2.0",
            "_view_name": "LayoutView",
            "align_content": null,
            "align_items": null,
            "align_self": null,
            "border": null,
            "bottom": null,
            "display": null,
            "flex": null,
            "flex_flow": null,
            "grid_area": null,
            "grid_auto_columns": null,
            "grid_auto_flow": null,
            "grid_auto_rows": null,
            "grid_column": null,
            "grid_gap": null,
            "grid_row": null,
            "grid_template_areas": null,
            "grid_template_columns": null,
            "grid_template_rows": null,
            "height": null,
            "justify_content": null,
            "justify_items": null,
            "left": null,
            "margin": null,
            "max_height": null,
            "max_width": null,
            "min_height": null,
            "min_width": null,
            "object_fit": null,
            "object_position": null,
            "order": null,
            "overflow": null,
            "overflow_x": null,
            "overflow_y": null,
            "padding": null,
            "right": null,
            "top": null,
            "visibility": null,
            "width": null
          }
        },
        "8f28e629a1b64493a3bbd4c4715cfc4d": {
          "model_module": "@jupyter-widgets/controls",
          "model_name": "DescriptionStyleModel",
          "model_module_version": "1.5.0",
          "state": {
            "_model_module": "@jupyter-widgets/controls",
            "_model_module_version": "1.5.0",
            "_model_name": "DescriptionStyleModel",
            "_view_count": null,
            "_view_module": "@jupyter-widgets/base",
            "_view_module_version": "1.2.0",
            "_view_name": "StyleView",
            "description_width": ""
          }
        },
        "9cbac5446c3c4b5c9127ce3cb221aa9c": {
          "model_module": "@jupyter-widgets/base",
          "model_name": "LayoutModel",
          "model_module_version": "1.2.0",
          "state": {
            "_model_module": "@jupyter-widgets/base",
            "_model_module_version": "1.2.0",
            "_model_name": "LayoutModel",
            "_view_count": null,
            "_view_module": "@jupyter-widgets/base",
            "_view_module_version": "1.2.0",
            "_view_name": "LayoutView",
            "align_content": null,
            "align_items": null,
            "align_self": null,
            "border": null,
            "bottom": null,
            "display": null,
            "flex": null,
            "flex_flow": null,
            "grid_area": null,
            "grid_auto_columns": null,
            "grid_auto_flow": null,
            "grid_auto_rows": null,
            "grid_column": null,
            "grid_gap": null,
            "grid_row": null,
            "grid_template_areas": null,
            "grid_template_columns": null,
            "grid_template_rows": null,
            "height": null,
            "justify_content": null,
            "justify_items": null,
            "left": null,
            "margin": null,
            "max_height": null,
            "max_width": null,
            "min_height": null,
            "min_width": null,
            "object_fit": null,
            "object_position": null,
            "order": null,
            "overflow": null,
            "overflow_x": null,
            "overflow_y": null,
            "padding": null,
            "right": null,
            "top": null,
            "visibility": null,
            "width": null
          }
        },
        "0666d1202c60427eac6d4c5c5d10c598": {
          "model_module": "@jupyter-widgets/controls",
          "model_name": "ProgressStyleModel",
          "model_module_version": "1.5.0",
          "state": {
            "_model_module": "@jupyter-widgets/controls",
            "_model_module_version": "1.5.0",
            "_model_name": "ProgressStyleModel",
            "_view_count": null,
            "_view_module": "@jupyter-widgets/base",
            "_view_module_version": "1.2.0",
            "_view_name": "StyleView",
            "bar_color": null,
            "description_width": ""
          }
        },
        "f6bbe29659fb40c0950aa9b4bbcdd3cb": {
          "model_module": "@jupyter-widgets/base",
          "model_name": "LayoutModel",
          "model_module_version": "1.2.0",
          "state": {
            "_model_module": "@jupyter-widgets/base",
            "_model_module_version": "1.2.0",
            "_model_name": "LayoutModel",
            "_view_count": null,
            "_view_module": "@jupyter-widgets/base",
            "_view_module_version": "1.2.0",
            "_view_name": "LayoutView",
            "align_content": null,
            "align_items": null,
            "align_self": null,
            "border": null,
            "bottom": null,
            "display": null,
            "flex": null,
            "flex_flow": null,
            "grid_area": null,
            "grid_auto_columns": null,
            "grid_auto_flow": null,
            "grid_auto_rows": null,
            "grid_column": null,
            "grid_gap": null,
            "grid_row": null,
            "grid_template_areas": null,
            "grid_template_columns": null,
            "grid_template_rows": null,
            "height": null,
            "justify_content": null,
            "justify_items": null,
            "left": null,
            "margin": null,
            "max_height": null,
            "max_width": null,
            "min_height": null,
            "min_width": null,
            "object_fit": null,
            "object_position": null,
            "order": null,
            "overflow": null,
            "overflow_x": null,
            "overflow_y": null,
            "padding": null,
            "right": null,
            "top": null,
            "visibility": null,
            "width": null
          }
        },
        "c9a4bd3d4dff4f9688aeca2e63ea7b44": {
          "model_module": "@jupyter-widgets/controls",
          "model_name": "DescriptionStyleModel",
          "model_module_version": "1.5.0",
          "state": {
            "_model_module": "@jupyter-widgets/controls",
            "_model_module_version": "1.5.0",
            "_model_name": "DescriptionStyleModel",
            "_view_count": null,
            "_view_module": "@jupyter-widgets/base",
            "_view_module_version": "1.2.0",
            "_view_name": "StyleView",
            "description_width": ""
          }
        },
        "410b8b07efa3461c9540535340e17016": {
          "model_module": "@jupyter-widgets/controls",
          "model_name": "HBoxModel",
          "model_module_version": "1.5.0",
          "state": {
            "_dom_classes": [],
            "_model_module": "@jupyter-widgets/controls",
            "_model_module_version": "1.5.0",
            "_model_name": "HBoxModel",
            "_view_count": null,
            "_view_module": "@jupyter-widgets/controls",
            "_view_module_version": "1.5.0",
            "_view_name": "HBoxView",
            "box_style": "",
            "children": [
              "IPY_MODEL_c26fb43096ec4c67a928a0b6934513ef",
              "IPY_MODEL_a0da039f08b148cbace894efc050ef6b",
              "IPY_MODEL_21b01f20a4544db0a5a0fc987c87fab8"
            ],
            "layout": "IPY_MODEL_a04035556f3849c2842743f510f92021"
          }
        },
        "c26fb43096ec4c67a928a0b6934513ef": {
          "model_module": "@jupyter-widgets/controls",
          "model_name": "HTMLModel",
          "model_module_version": "1.5.0",
          "state": {
            "_dom_classes": [],
            "_model_module": "@jupyter-widgets/controls",
            "_model_module_version": "1.5.0",
            "_model_name": "HTMLModel",
            "_view_count": null,
            "_view_module": "@jupyter-widgets/controls",
            "_view_module_version": "1.5.0",
            "_view_name": "HTMLView",
            "description": "",
            "description_tooltip": null,
            "layout": "IPY_MODEL_ce551e54609a4c008eea2fe1738a1192",
            "placeholder": "​",
            "style": "IPY_MODEL_df99a34fe0224ea6a1a3603a51e7be55",
            "value": "tokenizer.json: 100%"
          }
        },
        "a0da039f08b148cbace894efc050ef6b": {
          "model_module": "@jupyter-widgets/controls",
          "model_name": "FloatProgressModel",
          "model_module_version": "1.5.0",
          "state": {
            "_dom_classes": [],
            "_model_module": "@jupyter-widgets/controls",
            "_model_module_version": "1.5.0",
            "_model_name": "FloatProgressModel",
            "_view_count": null,
            "_view_module": "@jupyter-widgets/controls",
            "_view_module_version": "1.5.0",
            "_view_name": "ProgressView",
            "bar_style": "success",
            "description": "",
            "description_tooltip": null,
            "layout": "IPY_MODEL_f44d15feada74875a8d5acaf8329a028",
            "max": 9096718,
            "min": 0,
            "orientation": "horizontal",
            "style": "IPY_MODEL_91352428160049e09f7a8e1e75d0a63e",
            "value": 9096718
          }
        },
        "21b01f20a4544db0a5a0fc987c87fab8": {
          "model_module": "@jupyter-widgets/controls",
          "model_name": "HTMLModel",
          "model_module_version": "1.5.0",
          "state": {
            "_dom_classes": [],
            "_model_module": "@jupyter-widgets/controls",
            "_model_module_version": "1.5.0",
            "_model_name": "HTMLModel",
            "_view_count": null,
            "_view_module": "@jupyter-widgets/controls",
            "_view_module_version": "1.5.0",
            "_view_name": "HTMLView",
            "description": "",
            "description_tooltip": null,
            "layout": "IPY_MODEL_bf9edb4f8cb14392b877efe140a1a403",
            "placeholder": "​",
            "style": "IPY_MODEL_3cb07c38c3a249e48324d78be68e0be7",
            "value": " 9.10M/9.10M [00:00&lt;00:00, 19.5MB/s]"
          }
        },
        "a04035556f3849c2842743f510f92021": {
          "model_module": "@jupyter-widgets/base",
          "model_name": "LayoutModel",
          "model_module_version": "1.2.0",
          "state": {
            "_model_module": "@jupyter-widgets/base",
            "_model_module_version": "1.2.0",
            "_model_name": "LayoutModel",
            "_view_count": null,
            "_view_module": "@jupyter-widgets/base",
            "_view_module_version": "1.2.0",
            "_view_name": "LayoutView",
            "align_content": null,
            "align_items": null,
            "align_self": null,
            "border": null,
            "bottom": null,
            "display": null,
            "flex": null,
            "flex_flow": null,
            "grid_area": null,
            "grid_auto_columns": null,
            "grid_auto_flow": null,
            "grid_auto_rows": null,
            "grid_column": null,
            "grid_gap": null,
            "grid_row": null,
            "grid_template_areas": null,
            "grid_template_columns": null,
            "grid_template_rows": null,
            "height": null,
            "justify_content": null,
            "justify_items": null,
            "left": null,
            "margin": null,
            "max_height": null,
            "max_width": null,
            "min_height": null,
            "min_width": null,
            "object_fit": null,
            "object_position": null,
            "order": null,
            "overflow": null,
            "overflow_x": null,
            "overflow_y": null,
            "padding": null,
            "right": null,
            "top": null,
            "visibility": null,
            "width": null
          }
        },
        "ce551e54609a4c008eea2fe1738a1192": {
          "model_module": "@jupyter-widgets/base",
          "model_name": "LayoutModel",
          "model_module_version": "1.2.0",
          "state": {
            "_model_module": "@jupyter-widgets/base",
            "_model_module_version": "1.2.0",
            "_model_name": "LayoutModel",
            "_view_count": null,
            "_view_module": "@jupyter-widgets/base",
            "_view_module_version": "1.2.0",
            "_view_name": "LayoutView",
            "align_content": null,
            "align_items": null,
            "align_self": null,
            "border": null,
            "bottom": null,
            "display": null,
            "flex": null,
            "flex_flow": null,
            "grid_area": null,
            "grid_auto_columns": null,
            "grid_auto_flow": null,
            "grid_auto_rows": null,
            "grid_column": null,
            "grid_gap": null,
            "grid_row": null,
            "grid_template_areas": null,
            "grid_template_columns": null,
            "grid_template_rows": null,
            "height": null,
            "justify_content": null,
            "justify_items": null,
            "left": null,
            "margin": null,
            "max_height": null,
            "max_width": null,
            "min_height": null,
            "min_width": null,
            "object_fit": null,
            "object_position": null,
            "order": null,
            "overflow": null,
            "overflow_x": null,
            "overflow_y": null,
            "padding": null,
            "right": null,
            "top": null,
            "visibility": null,
            "width": null
          }
        },
        "df99a34fe0224ea6a1a3603a51e7be55": {
          "model_module": "@jupyter-widgets/controls",
          "model_name": "DescriptionStyleModel",
          "model_module_version": "1.5.0",
          "state": {
            "_model_module": "@jupyter-widgets/controls",
            "_model_module_version": "1.5.0",
            "_model_name": "DescriptionStyleModel",
            "_view_count": null,
            "_view_module": "@jupyter-widgets/base",
            "_view_module_version": "1.2.0",
            "_view_name": "StyleView",
            "description_width": ""
          }
        },
        "f44d15feada74875a8d5acaf8329a028": {
          "model_module": "@jupyter-widgets/base",
          "model_name": "LayoutModel",
          "model_module_version": "1.2.0",
          "state": {
            "_model_module": "@jupyter-widgets/base",
            "_model_module_version": "1.2.0",
            "_model_name": "LayoutModel",
            "_view_count": null,
            "_view_module": "@jupyter-widgets/base",
            "_view_module_version": "1.2.0",
            "_view_name": "LayoutView",
            "align_content": null,
            "align_items": null,
            "align_self": null,
            "border": null,
            "bottom": null,
            "display": null,
            "flex": null,
            "flex_flow": null,
            "grid_area": null,
            "grid_auto_columns": null,
            "grid_auto_flow": null,
            "grid_auto_rows": null,
            "grid_column": null,
            "grid_gap": null,
            "grid_row": null,
            "grid_template_areas": null,
            "grid_template_columns": null,
            "grid_template_rows": null,
            "height": null,
            "justify_content": null,
            "justify_items": null,
            "left": null,
            "margin": null,
            "max_height": null,
            "max_width": null,
            "min_height": null,
            "min_width": null,
            "object_fit": null,
            "object_position": null,
            "order": null,
            "overflow": null,
            "overflow_x": null,
            "overflow_y": null,
            "padding": null,
            "right": null,
            "top": null,
            "visibility": null,
            "width": null
          }
        },
        "91352428160049e09f7a8e1e75d0a63e": {
          "model_module": "@jupyter-widgets/controls",
          "model_name": "ProgressStyleModel",
          "model_module_version": "1.5.0",
          "state": {
            "_model_module": "@jupyter-widgets/controls",
            "_model_module_version": "1.5.0",
            "_model_name": "ProgressStyleModel",
            "_view_count": null,
            "_view_module": "@jupyter-widgets/base",
            "_view_module_version": "1.2.0",
            "_view_name": "StyleView",
            "bar_color": null,
            "description_width": ""
          }
        },
        "bf9edb4f8cb14392b877efe140a1a403": {
          "model_module": "@jupyter-widgets/base",
          "model_name": "LayoutModel",
          "model_module_version": "1.2.0",
          "state": {
            "_model_module": "@jupyter-widgets/base",
            "_model_module_version": "1.2.0",
            "_model_name": "LayoutModel",
            "_view_count": null,
            "_view_module": "@jupyter-widgets/base",
            "_view_module_version": "1.2.0",
            "_view_name": "LayoutView",
            "align_content": null,
            "align_items": null,
            "align_self": null,
            "border": null,
            "bottom": null,
            "display": null,
            "flex": null,
            "flex_flow": null,
            "grid_area": null,
            "grid_auto_columns": null,
            "grid_auto_flow": null,
            "grid_auto_rows": null,
            "grid_column": null,
            "grid_gap": null,
            "grid_row": null,
            "grid_template_areas": null,
            "grid_template_columns": null,
            "grid_template_rows": null,
            "height": null,
            "justify_content": null,
            "justify_items": null,
            "left": null,
            "margin": null,
            "max_height": null,
            "max_width": null,
            "min_height": null,
            "min_width": null,
            "object_fit": null,
            "object_position": null,
            "order": null,
            "overflow": null,
            "overflow_x": null,
            "overflow_y": null,
            "padding": null,
            "right": null,
            "top": null,
            "visibility": null,
            "width": null
          }
        },
        "3cb07c38c3a249e48324d78be68e0be7": {
          "model_module": "@jupyter-widgets/controls",
          "model_name": "DescriptionStyleModel",
          "model_module_version": "1.5.0",
          "state": {
            "_model_module": "@jupyter-widgets/controls",
            "_model_module_version": "1.5.0",
            "_model_name": "DescriptionStyleModel",
            "_view_count": null,
            "_view_module": "@jupyter-widgets/base",
            "_view_module_version": "1.2.0",
            "_view_name": "StyleView",
            "description_width": ""
          }
        },
        "311bbbff79454050bd7872382f83a62b": {
          "model_module": "@jupyter-widgets/controls",
          "model_name": "HBoxModel",
          "model_module_version": "1.5.0",
          "state": {
            "_dom_classes": [],
            "_model_module": "@jupyter-widgets/controls",
            "_model_module_version": "1.5.0",
            "_model_name": "HBoxModel",
            "_view_count": null,
            "_view_module": "@jupyter-widgets/controls",
            "_view_module_version": "1.5.0",
            "_view_name": "HBoxView",
            "box_style": "",
            "children": [
              "IPY_MODEL_58d652ba04844926b6104ee7d440b8ca",
              "IPY_MODEL_c810e69850a748c5abf92c6ef059c208",
              "IPY_MODEL_3e6936fdaf6146e1bdf21497260e7bec"
            ],
            "layout": "IPY_MODEL_0763be9e2e11428ea2abaa67294b0808"
          }
        },
        "58d652ba04844926b6104ee7d440b8ca": {
          "model_module": "@jupyter-widgets/controls",
          "model_name": "HTMLModel",
          "model_module_version": "1.5.0",
          "state": {
            "_dom_classes": [],
            "_model_module": "@jupyter-widgets/controls",
            "_model_module_version": "1.5.0",
            "_model_name": "HTMLModel",
            "_view_count": null,
            "_view_module": "@jupyter-widgets/controls",
            "_view_module_version": "1.5.0",
            "_view_name": "HTMLView",
            "description": "",
            "description_tooltip": null,
            "layout": "IPY_MODEL_763629f53ec94c60b7cbb04a3db77cfe",
            "placeholder": "​",
            "style": "IPY_MODEL_9ec41efdf3e84857878c4403a076c259",
            "value": "Map: 100%"
          }
        },
        "c810e69850a748c5abf92c6ef059c208": {
          "model_module": "@jupyter-widgets/controls",
          "model_name": "FloatProgressModel",
          "model_module_version": "1.5.0",
          "state": {
            "_dom_classes": [],
            "_model_module": "@jupyter-widgets/controls",
            "_model_module_version": "1.5.0",
            "_model_name": "FloatProgressModel",
            "_view_count": null,
            "_view_module": "@jupyter-widgets/controls",
            "_view_module_version": "1.5.0",
            "_view_name": "ProgressView",
            "bar_style": "success",
            "description": "",
            "description_tooltip": null,
            "layout": "IPY_MODEL_e6d7b3bfc066433eb773edccd923b842",
            "max": 13906,
            "min": 0,
            "orientation": "horizontal",
            "style": "IPY_MODEL_6377a872a1fc4123bb348603b1feb684",
            "value": 13906
          }
        },
        "3e6936fdaf6146e1bdf21497260e7bec": {
          "model_module": "@jupyter-widgets/controls",
          "model_name": "HTMLModel",
          "model_module_version": "1.5.0",
          "state": {
            "_dom_classes": [],
            "_model_module": "@jupyter-widgets/controls",
            "_model_module_version": "1.5.0",
            "_model_name": "HTMLModel",
            "_view_count": null,
            "_view_module": "@jupyter-widgets/controls",
            "_view_module_version": "1.5.0",
            "_view_name": "HTMLView",
            "description": "",
            "description_tooltip": null,
            "layout": "IPY_MODEL_50cd25109a2040a39daeb72734cc53da",
            "placeholder": "​",
            "style": "IPY_MODEL_ea7acdc4448b44e6a819bbccdfa7c236",
            "value": " 13906/13906 [00:08&lt;00:00, 1679.19 examples/s]"
          }
        },
        "0763be9e2e11428ea2abaa67294b0808": {
          "model_module": "@jupyter-widgets/base",
          "model_name": "LayoutModel",
          "model_module_version": "1.2.0",
          "state": {
            "_model_module": "@jupyter-widgets/base",
            "_model_module_version": "1.2.0",
            "_model_name": "LayoutModel",
            "_view_count": null,
            "_view_module": "@jupyter-widgets/base",
            "_view_module_version": "1.2.0",
            "_view_name": "LayoutView",
            "align_content": null,
            "align_items": null,
            "align_self": null,
            "border": null,
            "bottom": null,
            "display": null,
            "flex": null,
            "flex_flow": null,
            "grid_area": null,
            "grid_auto_columns": null,
            "grid_auto_flow": null,
            "grid_auto_rows": null,
            "grid_column": null,
            "grid_gap": null,
            "grid_row": null,
            "grid_template_areas": null,
            "grid_template_columns": null,
            "grid_template_rows": null,
            "height": null,
            "justify_content": null,
            "justify_items": null,
            "left": null,
            "margin": null,
            "max_height": null,
            "max_width": null,
            "min_height": null,
            "min_width": null,
            "object_fit": null,
            "object_position": null,
            "order": null,
            "overflow": null,
            "overflow_x": null,
            "overflow_y": null,
            "padding": null,
            "right": null,
            "top": null,
            "visibility": null,
            "width": null
          }
        },
        "763629f53ec94c60b7cbb04a3db77cfe": {
          "model_module": "@jupyter-widgets/base",
          "model_name": "LayoutModel",
          "model_module_version": "1.2.0",
          "state": {
            "_model_module": "@jupyter-widgets/base",
            "_model_module_version": "1.2.0",
            "_model_name": "LayoutModel",
            "_view_count": null,
            "_view_module": "@jupyter-widgets/base",
            "_view_module_version": "1.2.0",
            "_view_name": "LayoutView",
            "align_content": null,
            "align_items": null,
            "align_self": null,
            "border": null,
            "bottom": null,
            "display": null,
            "flex": null,
            "flex_flow": null,
            "grid_area": null,
            "grid_auto_columns": null,
            "grid_auto_flow": null,
            "grid_auto_rows": null,
            "grid_column": null,
            "grid_gap": null,
            "grid_row": null,
            "grid_template_areas": null,
            "grid_template_columns": null,
            "grid_template_rows": null,
            "height": null,
            "justify_content": null,
            "justify_items": null,
            "left": null,
            "margin": null,
            "max_height": null,
            "max_width": null,
            "min_height": null,
            "min_width": null,
            "object_fit": null,
            "object_position": null,
            "order": null,
            "overflow": null,
            "overflow_x": null,
            "overflow_y": null,
            "padding": null,
            "right": null,
            "top": null,
            "visibility": null,
            "width": null
          }
        },
        "9ec41efdf3e84857878c4403a076c259": {
          "model_module": "@jupyter-widgets/controls",
          "model_name": "DescriptionStyleModel",
          "model_module_version": "1.5.0",
          "state": {
            "_model_module": "@jupyter-widgets/controls",
            "_model_module_version": "1.5.0",
            "_model_name": "DescriptionStyleModel",
            "_view_count": null,
            "_view_module": "@jupyter-widgets/base",
            "_view_module_version": "1.2.0",
            "_view_name": "StyleView",
            "description_width": ""
          }
        },
        "e6d7b3bfc066433eb773edccd923b842": {
          "model_module": "@jupyter-widgets/base",
          "model_name": "LayoutModel",
          "model_module_version": "1.2.0",
          "state": {
            "_model_module": "@jupyter-widgets/base",
            "_model_module_version": "1.2.0",
            "_model_name": "LayoutModel",
            "_view_count": null,
            "_view_module": "@jupyter-widgets/base",
            "_view_module_version": "1.2.0",
            "_view_name": "LayoutView",
            "align_content": null,
            "align_items": null,
            "align_self": null,
            "border": null,
            "bottom": null,
            "display": null,
            "flex": null,
            "flex_flow": null,
            "grid_area": null,
            "grid_auto_columns": null,
            "grid_auto_flow": null,
            "grid_auto_rows": null,
            "grid_column": null,
            "grid_gap": null,
            "grid_row": null,
            "grid_template_areas": null,
            "grid_template_columns": null,
            "grid_template_rows": null,
            "height": null,
            "justify_content": null,
            "justify_items": null,
            "left": null,
            "margin": null,
            "max_height": null,
            "max_width": null,
            "min_height": null,
            "min_width": null,
            "object_fit": null,
            "object_position": null,
            "order": null,
            "overflow": null,
            "overflow_x": null,
            "overflow_y": null,
            "padding": null,
            "right": null,
            "top": null,
            "visibility": null,
            "width": null
          }
        },
        "6377a872a1fc4123bb348603b1feb684": {
          "model_module": "@jupyter-widgets/controls",
          "model_name": "ProgressStyleModel",
          "model_module_version": "1.5.0",
          "state": {
            "_model_module": "@jupyter-widgets/controls",
            "_model_module_version": "1.5.0",
            "_model_name": "ProgressStyleModel",
            "_view_count": null,
            "_view_module": "@jupyter-widgets/base",
            "_view_module_version": "1.2.0",
            "_view_name": "StyleView",
            "bar_color": null,
            "description_width": ""
          }
        },
        "50cd25109a2040a39daeb72734cc53da": {
          "model_module": "@jupyter-widgets/base",
          "model_name": "LayoutModel",
          "model_module_version": "1.2.0",
          "state": {
            "_model_module": "@jupyter-widgets/base",
            "_model_module_version": "1.2.0",
            "_model_name": "LayoutModel",
            "_view_count": null,
            "_view_module": "@jupyter-widgets/base",
            "_view_module_version": "1.2.0",
            "_view_name": "LayoutView",
            "align_content": null,
            "align_items": null,
            "align_self": null,
            "border": null,
            "bottom": null,
            "display": null,
            "flex": null,
            "flex_flow": null,
            "grid_area": null,
            "grid_auto_columns": null,
            "grid_auto_flow": null,
            "grid_auto_rows": null,
            "grid_column": null,
            "grid_gap": null,
            "grid_row": null,
            "grid_template_areas": null,
            "grid_template_columns": null,
            "grid_template_rows": null,
            "height": null,
            "justify_content": null,
            "justify_items": null,
            "left": null,
            "margin": null,
            "max_height": null,
            "max_width": null,
            "min_height": null,
            "min_width": null,
            "object_fit": null,
            "object_position": null,
            "order": null,
            "overflow": null,
            "overflow_x": null,
            "overflow_y": null,
            "padding": null,
            "right": null,
            "top": null,
            "visibility": null,
            "width": null
          }
        },
        "ea7acdc4448b44e6a819bbccdfa7c236": {
          "model_module": "@jupyter-widgets/controls",
          "model_name": "DescriptionStyleModel",
          "model_module_version": "1.5.0",
          "state": {
            "_model_module": "@jupyter-widgets/controls",
            "_model_module_version": "1.5.0",
            "_model_name": "DescriptionStyleModel",
            "_view_count": null,
            "_view_module": "@jupyter-widgets/base",
            "_view_module_version": "1.2.0",
            "_view_name": "StyleView",
            "description_width": ""
          }
        },
        "0d07dc607f8141349f52cc74a7558016": {
          "model_module": "@jupyter-widgets/controls",
          "model_name": "HBoxModel",
          "model_module_version": "1.5.0",
          "state": {
            "_dom_classes": [],
            "_model_module": "@jupyter-widgets/controls",
            "_model_module_version": "1.5.0",
            "_model_name": "HBoxModel",
            "_view_count": null,
            "_view_module": "@jupyter-widgets/controls",
            "_view_module_version": "1.5.0",
            "_view_name": "HBoxView",
            "box_style": "",
            "children": [
              "IPY_MODEL_5684ddbf08e14a8e9f8e8344d148d72b",
              "IPY_MODEL_ff9f514a213c40e3af47001bcf621a3b",
              "IPY_MODEL_a541471f6eb6476697d9fdf63b983522"
            ],
            "layout": "IPY_MODEL_3be4315d7aa84ff988e6960bf75520da"
          }
        },
        "5684ddbf08e14a8e9f8e8344d148d72b": {
          "model_module": "@jupyter-widgets/controls",
          "model_name": "HTMLModel",
          "model_module_version": "1.5.0",
          "state": {
            "_dom_classes": [],
            "_model_module": "@jupyter-widgets/controls",
            "_model_module_version": "1.5.0",
            "_model_name": "HTMLModel",
            "_view_count": null,
            "_view_module": "@jupyter-widgets/controls",
            "_view_module_version": "1.5.0",
            "_view_name": "HTMLView",
            "description": "",
            "description_tooltip": null,
            "layout": "IPY_MODEL_6b9ccdda7ca1429f92fb40af6b8815c7",
            "placeholder": "​",
            "style": "IPY_MODEL_3267e6c3068f421cb0adfa0165b207b8",
            "value": "Map: 100%"
          }
        },
        "ff9f514a213c40e3af47001bcf621a3b": {
          "model_module": "@jupyter-widgets/controls",
          "model_name": "FloatProgressModel",
          "model_module_version": "1.5.0",
          "state": {
            "_dom_classes": [],
            "_model_module": "@jupyter-widgets/controls",
            "_model_module_version": "1.5.0",
            "_model_name": "FloatProgressModel",
            "_view_count": null,
            "_view_module": "@jupyter-widgets/controls",
            "_view_module_version": "1.5.0",
            "_view_name": "ProgressView",
            "bar_style": "success",
            "description": "",
            "description_tooltip": null,
            "layout": "IPY_MODEL_c36a8a6604cb42d4bc8396c04b55f50e",
            "max": 1739,
            "min": 0,
            "orientation": "horizontal",
            "style": "IPY_MODEL_cf5502fc32b4421f9151c9c86c249807",
            "value": 1739
          }
        },
        "a541471f6eb6476697d9fdf63b983522": {
          "model_module": "@jupyter-widgets/controls",
          "model_name": "HTMLModel",
          "model_module_version": "1.5.0",
          "state": {
            "_dom_classes": [],
            "_model_module": "@jupyter-widgets/controls",
            "_model_module_version": "1.5.0",
            "_model_name": "HTMLModel",
            "_view_count": null,
            "_view_module": "@jupyter-widgets/controls",
            "_view_module_version": "1.5.0",
            "_view_name": "HTMLView",
            "description": "",
            "description_tooltip": null,
            "layout": "IPY_MODEL_79746c73aa8942e6b303930dbde9c21c",
            "placeholder": "​",
            "style": "IPY_MODEL_576d7a1f76c94926abb23b94e4bcb112",
            "value": " 1739/1739 [00:01&lt;00:00, 1712.98 examples/s]"
          }
        },
        "3be4315d7aa84ff988e6960bf75520da": {
          "model_module": "@jupyter-widgets/base",
          "model_name": "LayoutModel",
          "model_module_version": "1.2.0",
          "state": {
            "_model_module": "@jupyter-widgets/base",
            "_model_module_version": "1.2.0",
            "_model_name": "LayoutModel",
            "_view_count": null,
            "_view_module": "@jupyter-widgets/base",
            "_view_module_version": "1.2.0",
            "_view_name": "LayoutView",
            "align_content": null,
            "align_items": null,
            "align_self": null,
            "border": null,
            "bottom": null,
            "display": null,
            "flex": null,
            "flex_flow": null,
            "grid_area": null,
            "grid_auto_columns": null,
            "grid_auto_flow": null,
            "grid_auto_rows": null,
            "grid_column": null,
            "grid_gap": null,
            "grid_row": null,
            "grid_template_areas": null,
            "grid_template_columns": null,
            "grid_template_rows": null,
            "height": null,
            "justify_content": null,
            "justify_items": null,
            "left": null,
            "margin": null,
            "max_height": null,
            "max_width": null,
            "min_height": null,
            "min_width": null,
            "object_fit": null,
            "object_position": null,
            "order": null,
            "overflow": null,
            "overflow_x": null,
            "overflow_y": null,
            "padding": null,
            "right": null,
            "top": null,
            "visibility": null,
            "width": null
          }
        },
        "6b9ccdda7ca1429f92fb40af6b8815c7": {
          "model_module": "@jupyter-widgets/base",
          "model_name": "LayoutModel",
          "model_module_version": "1.2.0",
          "state": {
            "_model_module": "@jupyter-widgets/base",
            "_model_module_version": "1.2.0",
            "_model_name": "LayoutModel",
            "_view_count": null,
            "_view_module": "@jupyter-widgets/base",
            "_view_module_version": "1.2.0",
            "_view_name": "LayoutView",
            "align_content": null,
            "align_items": null,
            "align_self": null,
            "border": null,
            "bottom": null,
            "display": null,
            "flex": null,
            "flex_flow": null,
            "grid_area": null,
            "grid_auto_columns": null,
            "grid_auto_flow": null,
            "grid_auto_rows": null,
            "grid_column": null,
            "grid_gap": null,
            "grid_row": null,
            "grid_template_areas": null,
            "grid_template_columns": null,
            "grid_template_rows": null,
            "height": null,
            "justify_content": null,
            "justify_items": null,
            "left": null,
            "margin": null,
            "max_height": null,
            "max_width": null,
            "min_height": null,
            "min_width": null,
            "object_fit": null,
            "object_position": null,
            "order": null,
            "overflow": null,
            "overflow_x": null,
            "overflow_y": null,
            "padding": null,
            "right": null,
            "top": null,
            "visibility": null,
            "width": null
          }
        },
        "3267e6c3068f421cb0adfa0165b207b8": {
          "model_module": "@jupyter-widgets/controls",
          "model_name": "DescriptionStyleModel",
          "model_module_version": "1.5.0",
          "state": {
            "_model_module": "@jupyter-widgets/controls",
            "_model_module_version": "1.5.0",
            "_model_name": "DescriptionStyleModel",
            "_view_count": null,
            "_view_module": "@jupyter-widgets/base",
            "_view_module_version": "1.2.0",
            "_view_name": "StyleView",
            "description_width": ""
          }
        },
        "c36a8a6604cb42d4bc8396c04b55f50e": {
          "model_module": "@jupyter-widgets/base",
          "model_name": "LayoutModel",
          "model_module_version": "1.2.0",
          "state": {
            "_model_module": "@jupyter-widgets/base",
            "_model_module_version": "1.2.0",
            "_model_name": "LayoutModel",
            "_view_count": null,
            "_view_module": "@jupyter-widgets/base",
            "_view_module_version": "1.2.0",
            "_view_name": "LayoutView",
            "align_content": null,
            "align_items": null,
            "align_self": null,
            "border": null,
            "bottom": null,
            "display": null,
            "flex": null,
            "flex_flow": null,
            "grid_area": null,
            "grid_auto_columns": null,
            "grid_auto_flow": null,
            "grid_auto_rows": null,
            "grid_column": null,
            "grid_gap": null,
            "grid_row": null,
            "grid_template_areas": null,
            "grid_template_columns": null,
            "grid_template_rows": null,
            "height": null,
            "justify_content": null,
            "justify_items": null,
            "left": null,
            "margin": null,
            "max_height": null,
            "max_width": null,
            "min_height": null,
            "min_width": null,
            "object_fit": null,
            "object_position": null,
            "order": null,
            "overflow": null,
            "overflow_x": null,
            "overflow_y": null,
            "padding": null,
            "right": null,
            "top": null,
            "visibility": null,
            "width": null
          }
        },
        "cf5502fc32b4421f9151c9c86c249807": {
          "model_module": "@jupyter-widgets/controls",
          "model_name": "ProgressStyleModel",
          "model_module_version": "1.5.0",
          "state": {
            "_model_module": "@jupyter-widgets/controls",
            "_model_module_version": "1.5.0",
            "_model_name": "ProgressStyleModel",
            "_view_count": null,
            "_view_module": "@jupyter-widgets/base",
            "_view_module_version": "1.2.0",
            "_view_name": "StyleView",
            "bar_color": null,
            "description_width": ""
          }
        },
        "79746c73aa8942e6b303930dbde9c21c": {
          "model_module": "@jupyter-widgets/base",
          "model_name": "LayoutModel",
          "model_module_version": "1.2.0",
          "state": {
            "_model_module": "@jupyter-widgets/base",
            "_model_module_version": "1.2.0",
            "_model_name": "LayoutModel",
            "_view_count": null,
            "_view_module": "@jupyter-widgets/base",
            "_view_module_version": "1.2.0",
            "_view_name": "LayoutView",
            "align_content": null,
            "align_items": null,
            "align_self": null,
            "border": null,
            "bottom": null,
            "display": null,
            "flex": null,
            "flex_flow": null,
            "grid_area": null,
            "grid_auto_columns": null,
            "grid_auto_flow": null,
            "grid_auto_rows": null,
            "grid_column": null,
            "grid_gap": null,
            "grid_row": null,
            "grid_template_areas": null,
            "grid_template_columns": null,
            "grid_template_rows": null,
            "height": null,
            "justify_content": null,
            "justify_items": null,
            "left": null,
            "margin": null,
            "max_height": null,
            "max_width": null,
            "min_height": null,
            "min_width": null,
            "object_fit": null,
            "object_position": null,
            "order": null,
            "overflow": null,
            "overflow_x": null,
            "overflow_y": null,
            "padding": null,
            "right": null,
            "top": null,
            "visibility": null,
            "width": null
          }
        },
        "576d7a1f76c94926abb23b94e4bcb112": {
          "model_module": "@jupyter-widgets/controls",
          "model_name": "DescriptionStyleModel",
          "model_module_version": "1.5.0",
          "state": {
            "_model_module": "@jupyter-widgets/controls",
            "_model_module_version": "1.5.0",
            "_model_name": "DescriptionStyleModel",
            "_view_count": null,
            "_view_module": "@jupyter-widgets/base",
            "_view_module_version": "1.2.0",
            "_view_name": "StyleView",
            "description_width": ""
          }
        },
        "b1c4ca44b1244ec8844e800dbb30cc31": {
          "model_module": "@jupyter-widgets/controls",
          "model_name": "HBoxModel",
          "model_module_version": "1.5.0",
          "state": {
            "_dom_classes": [],
            "_model_module": "@jupyter-widgets/controls",
            "_model_module_version": "1.5.0",
            "_model_name": "HBoxModel",
            "_view_count": null,
            "_view_module": "@jupyter-widgets/controls",
            "_view_module_version": "1.5.0",
            "_view_name": "HBoxView",
            "box_style": "",
            "children": [
              "IPY_MODEL_f923e7717da14e09862a550e6e17dc3c",
              "IPY_MODEL_a7258df6e8e640709ffef9f26c0ad29a",
              "IPY_MODEL_1e929a0697524fa295504c4afefecb60"
            ],
            "layout": "IPY_MODEL_52f048120e64437d899252be3214a389"
          }
        },
        "f923e7717da14e09862a550e6e17dc3c": {
          "model_module": "@jupyter-widgets/controls",
          "model_name": "HTMLModel",
          "model_module_version": "1.5.0",
          "state": {
            "_dom_classes": [],
            "_model_module": "@jupyter-widgets/controls",
            "_model_module_version": "1.5.0",
            "_model_name": "HTMLModel",
            "_view_count": null,
            "_view_module": "@jupyter-widgets/controls",
            "_view_module_version": "1.5.0",
            "_view_name": "HTMLView",
            "description": "",
            "description_tooltip": null,
            "layout": "IPY_MODEL_e445f7563bf14a10aa9b24167dd3d4a3",
            "placeholder": "​",
            "style": "IPY_MODEL_7a2629cd87354c93a9455fa15f3b9dbb",
            "value": "model.safetensors: 100%"
          }
        },
        "a7258df6e8e640709ffef9f26c0ad29a": {
          "model_module": "@jupyter-widgets/controls",
          "model_name": "FloatProgressModel",
          "model_module_version": "1.5.0",
          "state": {
            "_dom_classes": [],
            "_model_module": "@jupyter-widgets/controls",
            "_model_module_version": "1.5.0",
            "_model_name": "FloatProgressModel",
            "_view_count": null,
            "_view_module": "@jupyter-widgets/controls",
            "_view_module_version": "1.5.0",
            "_view_name": "ProgressView",
            "bar_style": "success",
            "description": "",
            "description_tooltip": null,
            "layout": "IPY_MODEL_8bc6d68733ce4f368d27b5c1018ac97c",
            "max": 1115567652,
            "min": 0,
            "orientation": "horizontal",
            "style": "IPY_MODEL_c50a7afb63b94af2b12319c6af456b4f",
            "value": 1115567652
          }
        },
        "1e929a0697524fa295504c4afefecb60": {
          "model_module": "@jupyter-widgets/controls",
          "model_name": "HTMLModel",
          "model_module_version": "1.5.0",
          "state": {
            "_dom_classes": [],
            "_model_module": "@jupyter-widgets/controls",
            "_model_module_version": "1.5.0",
            "_model_name": "HTMLModel",
            "_view_count": null,
            "_view_module": "@jupyter-widgets/controls",
            "_view_module_version": "1.5.0",
            "_view_name": "HTMLView",
            "description": "",
            "description_tooltip": null,
            "layout": "IPY_MODEL_cdb67b34e74c4595bfcdde085a5d28d6",
            "placeholder": "​",
            "style": "IPY_MODEL_966c5f6404b54c00b148cee1dbfaa45e",
            "value": " 1.12G/1.12G [00:06&lt;00:00, 181MB/s]"
          }
        },
        "52f048120e64437d899252be3214a389": {
          "model_module": "@jupyter-widgets/base",
          "model_name": "LayoutModel",
          "model_module_version": "1.2.0",
          "state": {
            "_model_module": "@jupyter-widgets/base",
            "_model_module_version": "1.2.0",
            "_model_name": "LayoutModel",
            "_view_count": null,
            "_view_module": "@jupyter-widgets/base",
            "_view_module_version": "1.2.0",
            "_view_name": "LayoutView",
            "align_content": null,
            "align_items": null,
            "align_self": null,
            "border": null,
            "bottom": null,
            "display": null,
            "flex": null,
            "flex_flow": null,
            "grid_area": null,
            "grid_auto_columns": null,
            "grid_auto_flow": null,
            "grid_auto_rows": null,
            "grid_column": null,
            "grid_gap": null,
            "grid_row": null,
            "grid_template_areas": null,
            "grid_template_columns": null,
            "grid_template_rows": null,
            "height": null,
            "justify_content": null,
            "justify_items": null,
            "left": null,
            "margin": null,
            "max_height": null,
            "max_width": null,
            "min_height": null,
            "min_width": null,
            "object_fit": null,
            "object_position": null,
            "order": null,
            "overflow": null,
            "overflow_x": null,
            "overflow_y": null,
            "padding": null,
            "right": null,
            "top": null,
            "visibility": null,
            "width": null
          }
        },
        "e445f7563bf14a10aa9b24167dd3d4a3": {
          "model_module": "@jupyter-widgets/base",
          "model_name": "LayoutModel",
          "model_module_version": "1.2.0",
          "state": {
            "_model_module": "@jupyter-widgets/base",
            "_model_module_version": "1.2.0",
            "_model_name": "LayoutModel",
            "_view_count": null,
            "_view_module": "@jupyter-widgets/base",
            "_view_module_version": "1.2.0",
            "_view_name": "LayoutView",
            "align_content": null,
            "align_items": null,
            "align_self": null,
            "border": null,
            "bottom": null,
            "display": null,
            "flex": null,
            "flex_flow": null,
            "grid_area": null,
            "grid_auto_columns": null,
            "grid_auto_flow": null,
            "grid_auto_rows": null,
            "grid_column": null,
            "grid_gap": null,
            "grid_row": null,
            "grid_template_areas": null,
            "grid_template_columns": null,
            "grid_template_rows": null,
            "height": null,
            "justify_content": null,
            "justify_items": null,
            "left": null,
            "margin": null,
            "max_height": null,
            "max_width": null,
            "min_height": null,
            "min_width": null,
            "object_fit": null,
            "object_position": null,
            "order": null,
            "overflow": null,
            "overflow_x": null,
            "overflow_y": null,
            "padding": null,
            "right": null,
            "top": null,
            "visibility": null,
            "width": null
          }
        },
        "7a2629cd87354c93a9455fa15f3b9dbb": {
          "model_module": "@jupyter-widgets/controls",
          "model_name": "DescriptionStyleModel",
          "model_module_version": "1.5.0",
          "state": {
            "_model_module": "@jupyter-widgets/controls",
            "_model_module_version": "1.5.0",
            "_model_name": "DescriptionStyleModel",
            "_view_count": null,
            "_view_module": "@jupyter-widgets/base",
            "_view_module_version": "1.2.0",
            "_view_name": "StyleView",
            "description_width": ""
          }
        },
        "8bc6d68733ce4f368d27b5c1018ac97c": {
          "model_module": "@jupyter-widgets/base",
          "model_name": "LayoutModel",
          "model_module_version": "1.2.0",
          "state": {
            "_model_module": "@jupyter-widgets/base",
            "_model_module_version": "1.2.0",
            "_model_name": "LayoutModel",
            "_view_count": null,
            "_view_module": "@jupyter-widgets/base",
            "_view_module_version": "1.2.0",
            "_view_name": "LayoutView",
            "align_content": null,
            "align_items": null,
            "align_self": null,
            "border": null,
            "bottom": null,
            "display": null,
            "flex": null,
            "flex_flow": null,
            "grid_area": null,
            "grid_auto_columns": null,
            "grid_auto_flow": null,
            "grid_auto_rows": null,
            "grid_column": null,
            "grid_gap": null,
            "grid_row": null,
            "grid_template_areas": null,
            "grid_template_columns": null,
            "grid_template_rows": null,
            "height": null,
            "justify_content": null,
            "justify_items": null,
            "left": null,
            "margin": null,
            "max_height": null,
            "max_width": null,
            "min_height": null,
            "min_width": null,
            "object_fit": null,
            "object_position": null,
            "order": null,
            "overflow": null,
            "overflow_x": null,
            "overflow_y": null,
            "padding": null,
            "right": null,
            "top": null,
            "visibility": null,
            "width": null
          }
        },
        "c50a7afb63b94af2b12319c6af456b4f": {
          "model_module": "@jupyter-widgets/controls",
          "model_name": "ProgressStyleModel",
          "model_module_version": "1.5.0",
          "state": {
            "_model_module": "@jupyter-widgets/controls",
            "_model_module_version": "1.5.0",
            "_model_name": "ProgressStyleModel",
            "_view_count": null,
            "_view_module": "@jupyter-widgets/base",
            "_view_module_version": "1.2.0",
            "_view_name": "StyleView",
            "bar_color": null,
            "description_width": ""
          }
        },
        "cdb67b34e74c4595bfcdde085a5d28d6": {
          "model_module": "@jupyter-widgets/base",
          "model_name": "LayoutModel",
          "model_module_version": "1.2.0",
          "state": {
            "_model_module": "@jupyter-widgets/base",
            "_model_module_version": "1.2.0",
            "_model_name": "LayoutModel",
            "_view_count": null,
            "_view_module": "@jupyter-widgets/base",
            "_view_module_version": "1.2.0",
            "_view_name": "LayoutView",
            "align_content": null,
            "align_items": null,
            "align_self": null,
            "border": null,
            "bottom": null,
            "display": null,
            "flex": null,
            "flex_flow": null,
            "grid_area": null,
            "grid_auto_columns": null,
            "grid_auto_flow": null,
            "grid_auto_rows": null,
            "grid_column": null,
            "grid_gap": null,
            "grid_row": null,
            "grid_template_areas": null,
            "grid_template_columns": null,
            "grid_template_rows": null,
            "height": null,
            "justify_content": null,
            "justify_items": null,
            "left": null,
            "margin": null,
            "max_height": null,
            "max_width": null,
            "min_height": null,
            "min_width": null,
            "object_fit": null,
            "object_position": null,
            "order": null,
            "overflow": null,
            "overflow_x": null,
            "overflow_y": null,
            "padding": null,
            "right": null,
            "top": null,
            "visibility": null,
            "width": null
          }
        },
        "966c5f6404b54c00b148cee1dbfaa45e": {
          "model_module": "@jupyter-widgets/controls",
          "model_name": "DescriptionStyleModel",
          "model_module_version": "1.5.0",
          "state": {
            "_model_module": "@jupyter-widgets/controls",
            "_model_module_version": "1.5.0",
            "_model_name": "DescriptionStyleModel",
            "_view_count": null,
            "_view_module": "@jupyter-widgets/base",
            "_view_module_version": "1.2.0",
            "_view_name": "StyleView",
            "description_width": ""
          }
        },
        "7c8fc8a5793c473ca3d5809d92faf2e0": {
          "model_module": "@jupyter-widgets/controls",
          "model_name": "HBoxModel",
          "model_module_version": "1.5.0",
          "state": {
            "_dom_classes": [],
            "_model_module": "@jupyter-widgets/controls",
            "_model_module_version": "1.5.0",
            "_model_name": "HBoxModel",
            "_view_count": null,
            "_view_module": "@jupyter-widgets/controls",
            "_view_module_version": "1.5.0",
            "_view_name": "HBoxView",
            "box_style": "",
            "children": [
              "IPY_MODEL_1ad87fdf9ea84236a6e21506bc7b1b9f",
              "IPY_MODEL_b012f01665994a9086447771624855ef",
              "IPY_MODEL_f52d909dbc9342c3a2c4e28268e1abb2"
            ],
            "layout": "IPY_MODEL_7631cd7428844f02ac07d96076734959"
          }
        },
        "1ad87fdf9ea84236a6e21506bc7b1b9f": {
          "model_module": "@jupyter-widgets/controls",
          "model_name": "HTMLModel",
          "model_module_version": "1.5.0",
          "state": {
            "_dom_classes": [],
            "_model_module": "@jupyter-widgets/controls",
            "_model_module_version": "1.5.0",
            "_model_name": "HTMLModel",
            "_view_count": null,
            "_view_module": "@jupyter-widgets/controls",
            "_view_module_version": "1.5.0",
            "_view_name": "HTMLView",
            "description": "",
            "description_tooltip": null,
            "layout": "IPY_MODEL_3c1224e639d344e7baa68f204db08c45",
            "placeholder": "​",
            "style": "IPY_MODEL_f4e838ef676e4239aab1efc3a47d1383",
            "value": "Downloading builder script: 100%"
          }
        },
        "b012f01665994a9086447771624855ef": {
          "model_module": "@jupyter-widgets/controls",
          "model_name": "FloatProgressModel",
          "model_module_version": "1.5.0",
          "state": {
            "_dom_classes": [],
            "_model_module": "@jupyter-widgets/controls",
            "_model_module_version": "1.5.0",
            "_model_name": "FloatProgressModel",
            "_view_count": null,
            "_view_module": "@jupyter-widgets/controls",
            "_view_module_version": "1.5.0",
            "_view_name": "ProgressView",
            "bar_style": "success",
            "description": "",
            "description_tooltip": null,
            "layout": "IPY_MODEL_e8ce8d2d0a264340bfc6385b2376117f",
            "max": 4203,
            "min": 0,
            "orientation": "horizontal",
            "style": "IPY_MODEL_2123a409930f43a7b3c16d3b69ea2fc1",
            "value": 4203
          }
        },
        "f52d909dbc9342c3a2c4e28268e1abb2": {
          "model_module": "@jupyter-widgets/controls",
          "model_name": "HTMLModel",
          "model_module_version": "1.5.0",
          "state": {
            "_dom_classes": [],
            "_model_module": "@jupyter-widgets/controls",
            "_model_module_version": "1.5.0",
            "_model_name": "HTMLModel",
            "_view_count": null,
            "_view_module": "@jupyter-widgets/controls",
            "_view_module_version": "1.5.0",
            "_view_name": "HTMLView",
            "description": "",
            "description_tooltip": null,
            "layout": "IPY_MODEL_30f03c0dc3be41e386cb0fab0e182c27",
            "placeholder": "​",
            "style": "IPY_MODEL_411df28c98d14721bafcd9f8178456b3",
            "value": " 4.20k/4.20k [00:00&lt;00:00, 361kB/s]"
          }
        },
        "7631cd7428844f02ac07d96076734959": {
          "model_module": "@jupyter-widgets/base",
          "model_name": "LayoutModel",
          "model_module_version": "1.2.0",
          "state": {
            "_model_module": "@jupyter-widgets/base",
            "_model_module_version": "1.2.0",
            "_model_name": "LayoutModel",
            "_view_count": null,
            "_view_module": "@jupyter-widgets/base",
            "_view_module_version": "1.2.0",
            "_view_name": "LayoutView",
            "align_content": null,
            "align_items": null,
            "align_self": null,
            "border": null,
            "bottom": null,
            "display": null,
            "flex": null,
            "flex_flow": null,
            "grid_area": null,
            "grid_auto_columns": null,
            "grid_auto_flow": null,
            "grid_auto_rows": null,
            "grid_column": null,
            "grid_gap": null,
            "grid_row": null,
            "grid_template_areas": null,
            "grid_template_columns": null,
            "grid_template_rows": null,
            "height": null,
            "justify_content": null,
            "justify_items": null,
            "left": null,
            "margin": null,
            "max_height": null,
            "max_width": null,
            "min_height": null,
            "min_width": null,
            "object_fit": null,
            "object_position": null,
            "order": null,
            "overflow": null,
            "overflow_x": null,
            "overflow_y": null,
            "padding": null,
            "right": null,
            "top": null,
            "visibility": null,
            "width": null
          }
        },
        "3c1224e639d344e7baa68f204db08c45": {
          "model_module": "@jupyter-widgets/base",
          "model_name": "LayoutModel",
          "model_module_version": "1.2.0",
          "state": {
            "_model_module": "@jupyter-widgets/base",
            "_model_module_version": "1.2.0",
            "_model_name": "LayoutModel",
            "_view_count": null,
            "_view_module": "@jupyter-widgets/base",
            "_view_module_version": "1.2.0",
            "_view_name": "LayoutView",
            "align_content": null,
            "align_items": null,
            "align_self": null,
            "border": null,
            "bottom": null,
            "display": null,
            "flex": null,
            "flex_flow": null,
            "grid_area": null,
            "grid_auto_columns": null,
            "grid_auto_flow": null,
            "grid_auto_rows": null,
            "grid_column": null,
            "grid_gap": null,
            "grid_row": null,
            "grid_template_areas": null,
            "grid_template_columns": null,
            "grid_template_rows": null,
            "height": null,
            "justify_content": null,
            "justify_items": null,
            "left": null,
            "margin": null,
            "max_height": null,
            "max_width": null,
            "min_height": null,
            "min_width": null,
            "object_fit": null,
            "object_position": null,
            "order": null,
            "overflow": null,
            "overflow_x": null,
            "overflow_y": null,
            "padding": null,
            "right": null,
            "top": null,
            "visibility": null,
            "width": null
          }
        },
        "f4e838ef676e4239aab1efc3a47d1383": {
          "model_module": "@jupyter-widgets/controls",
          "model_name": "DescriptionStyleModel",
          "model_module_version": "1.5.0",
          "state": {
            "_model_module": "@jupyter-widgets/controls",
            "_model_module_version": "1.5.0",
            "_model_name": "DescriptionStyleModel",
            "_view_count": null,
            "_view_module": "@jupyter-widgets/base",
            "_view_module_version": "1.2.0",
            "_view_name": "StyleView",
            "description_width": ""
          }
        },
        "e8ce8d2d0a264340bfc6385b2376117f": {
          "model_module": "@jupyter-widgets/base",
          "model_name": "LayoutModel",
          "model_module_version": "1.2.0",
          "state": {
            "_model_module": "@jupyter-widgets/base",
            "_model_module_version": "1.2.0",
            "_model_name": "LayoutModel",
            "_view_count": null,
            "_view_module": "@jupyter-widgets/base",
            "_view_module_version": "1.2.0",
            "_view_name": "LayoutView",
            "align_content": null,
            "align_items": null,
            "align_self": null,
            "border": null,
            "bottom": null,
            "display": null,
            "flex": null,
            "flex_flow": null,
            "grid_area": null,
            "grid_auto_columns": null,
            "grid_auto_flow": null,
            "grid_auto_rows": null,
            "grid_column": null,
            "grid_gap": null,
            "grid_row": null,
            "grid_template_areas": null,
            "grid_template_columns": null,
            "grid_template_rows": null,
            "height": null,
            "justify_content": null,
            "justify_items": null,
            "left": null,
            "margin": null,
            "max_height": null,
            "max_width": null,
            "min_height": null,
            "min_width": null,
            "object_fit": null,
            "object_position": null,
            "order": null,
            "overflow": null,
            "overflow_x": null,
            "overflow_y": null,
            "padding": null,
            "right": null,
            "top": null,
            "visibility": null,
            "width": null
          }
        },
        "2123a409930f43a7b3c16d3b69ea2fc1": {
          "model_module": "@jupyter-widgets/controls",
          "model_name": "ProgressStyleModel",
          "model_module_version": "1.5.0",
          "state": {
            "_model_module": "@jupyter-widgets/controls",
            "_model_module_version": "1.5.0",
            "_model_name": "ProgressStyleModel",
            "_view_count": null,
            "_view_module": "@jupyter-widgets/base",
            "_view_module_version": "1.2.0",
            "_view_name": "StyleView",
            "bar_color": null,
            "description_width": ""
          }
        },
        "30f03c0dc3be41e386cb0fab0e182c27": {
          "model_module": "@jupyter-widgets/base",
          "model_name": "LayoutModel",
          "model_module_version": "1.2.0",
          "state": {
            "_model_module": "@jupyter-widgets/base",
            "_model_module_version": "1.2.0",
            "_model_name": "LayoutModel",
            "_view_count": null,
            "_view_module": "@jupyter-widgets/base",
            "_view_module_version": "1.2.0",
            "_view_name": "LayoutView",
            "align_content": null,
            "align_items": null,
            "align_self": null,
            "border": null,
            "bottom": null,
            "display": null,
            "flex": null,
            "flex_flow": null,
            "grid_area": null,
            "grid_auto_columns": null,
            "grid_auto_flow": null,
            "grid_auto_rows": null,
            "grid_column": null,
            "grid_gap": null,
            "grid_row": null,
            "grid_template_areas": null,
            "grid_template_columns": null,
            "grid_template_rows": null,
            "height": null,
            "justify_content": null,
            "justify_items": null,
            "left": null,
            "margin": null,
            "max_height": null,
            "max_width": null,
            "min_height": null,
            "min_width": null,
            "object_fit": null,
            "object_position": null,
            "order": null,
            "overflow": null,
            "overflow_x": null,
            "overflow_y": null,
            "padding": null,
            "right": null,
            "top": null,
            "visibility": null,
            "width": null
          }
        },
        "411df28c98d14721bafcd9f8178456b3": {
          "model_module": "@jupyter-widgets/controls",
          "model_name": "DescriptionStyleModel",
          "model_module_version": "1.5.0",
          "state": {
            "_model_module": "@jupyter-widgets/controls",
            "_model_module_version": "1.5.0",
            "_model_name": "DescriptionStyleModel",
            "_view_count": null,
            "_view_module": "@jupyter-widgets/base",
            "_view_module_version": "1.2.0",
            "_view_name": "StyleView",
            "description_width": ""
          }
        }
      }
    }
  },
  "cells": [
    {
      "cell_type": "code",
      "source": [
        "import pandas as pd"
      ],
      "metadata": {
        "id": "WhZSElbtmCrc"
      },
      "execution_count": 2,
      "outputs": []
    },
    {
      "cell_type": "code",
      "source": [
        "from google.colab import drive\n",
        "drive.mount('/content/drive')"
      ],
      "metadata": {
        "colab": {
          "base_uri": "https://localhost:8080/"
        },
        "id": "8SCDJnp7FATM",
        "outputId": "d975bc06-c83c-4cb8-80a8-60e7d33ef456"
      },
      "execution_count": 1,
      "outputs": [
        {
          "output_type": "stream",
          "name": "stdout",
          "text": [
            "Mounted at /content/drive\n"
          ]
        }
      ]
    },
    {
      "cell_type": "code",
      "execution_count": 3,
      "metadata": {
        "colab": {
          "base_uri": "https://localhost:8080/",
          "height": 55
        },
        "id": "dPb-5zDslPiK",
        "outputId": "5a9e60f5-1f9a-412c-90b5-d446e9ea9355"
      },
      "outputs": [
        {
          "output_type": "execute_result",
          "data": {
            "text/plain": [
              "'/content/drive/MyDrive/Colab Notebooks/463/TrDataset/power-tr-train.tsv'"
            ],
            "application/vnd.google.colaboratory.intrinsic+json": {
              "type": "string"
            }
          },
          "metadata": {},
          "execution_count": 3
        }
      ],
      "source": [
        "orientation_path='/content/drive/MyDrive/Colab Notebooks/463/TrDataset/power-tr-train.tsv'\n",
        "orientation_path"
      ]
    },
    {
      "cell_type": "code",
      "source": [
        "# Load the file\n",
        "df = pd.read_csv(orientation_path, sep='\\t')\n",
        "\n",
        "# Print the first 2 rows\n",
        "df.head(2)"
      ],
      "metadata": {
        "colab": {
          "base_uri": "https://localhost:8080/",
          "height": 306
        },
        "id": "KqWm85LomQaz",
        "outputId": "a570f4b0-0b03-42ab-e19b-1d305c4fc8a0"
      },
      "execution_count": 4,
      "outputs": [
        {
          "output_type": "execute_result",
          "data": {
            "text/plain": [
              "        id                           speaker sex  \\\n",
              "0  tr18146  ca2031caa4032c51980160359953d507   M   \n",
              "1  tr18147  4cee0addb3c69f6866869b180f90d45f   M   \n",
              "\n",
              "                                                text  \\\n",
              "0  Yeni yasama döneminin ülkemiz için, milletimiz...   \n",
              "1  Sayın Başkan, değerli milletvekilleri; bugün, ...   \n",
              "\n",
              "                                             text_en  label  \n",
              "0  Mr. President, dear lawmakers, I salute you, a...      0  \n",
              "1  Mr. President, members of lawmakers, as I spea...      0  "
            ],
            "text/html": [
              "\n",
              "  <div id=\"df-00a01b8d-47c8-4be3-9ed0-7c7d5239e3f5\" class=\"colab-df-container\">\n",
              "    <div>\n",
              "<style scoped>\n",
              "    .dataframe tbody tr th:only-of-type {\n",
              "        vertical-align: middle;\n",
              "    }\n",
              "\n",
              "    .dataframe tbody tr th {\n",
              "        vertical-align: top;\n",
              "    }\n",
              "\n",
              "    .dataframe thead th {\n",
              "        text-align: right;\n",
              "    }\n",
              "</style>\n",
              "<table border=\"1\" class=\"dataframe\">\n",
              "  <thead>\n",
              "    <tr style=\"text-align: right;\">\n",
              "      <th></th>\n",
              "      <th>id</th>\n",
              "      <th>speaker</th>\n",
              "      <th>sex</th>\n",
              "      <th>text</th>\n",
              "      <th>text_en</th>\n",
              "      <th>label</th>\n",
              "    </tr>\n",
              "  </thead>\n",
              "  <tbody>\n",
              "    <tr>\n",
              "      <th>0</th>\n",
              "      <td>tr18146</td>\n",
              "      <td>ca2031caa4032c51980160359953d507</td>\n",
              "      <td>M</td>\n",
              "      <td>Yeni yasama döneminin ülkemiz için, milletimiz...</td>\n",
              "      <td>Mr. President, dear lawmakers, I salute you, a...</td>\n",
              "      <td>0</td>\n",
              "    </tr>\n",
              "    <tr>\n",
              "      <th>1</th>\n",
              "      <td>tr18147</td>\n",
              "      <td>4cee0addb3c69f6866869b180f90d45f</td>\n",
              "      <td>M</td>\n",
              "      <td>Sayın Başkan, değerli milletvekilleri; bugün, ...</td>\n",
              "      <td>Mr. President, members of lawmakers, as I spea...</td>\n",
              "      <td>0</td>\n",
              "    </tr>\n",
              "  </tbody>\n",
              "</table>\n",
              "</div>\n",
              "    <div class=\"colab-df-buttons\">\n",
              "\n",
              "  <div class=\"colab-df-container\">\n",
              "    <button class=\"colab-df-convert\" onclick=\"convertToInteractive('df-00a01b8d-47c8-4be3-9ed0-7c7d5239e3f5')\"\n",
              "            title=\"Convert this dataframe to an interactive table.\"\n",
              "            style=\"display:none;\">\n",
              "\n",
              "  <svg xmlns=\"http://www.w3.org/2000/svg\" height=\"24px\" viewBox=\"0 -960 960 960\">\n",
              "    <path d=\"M120-120v-720h720v720H120Zm60-500h600v-160H180v160Zm220 220h160v-160H400v160Zm0 220h160v-160H400v160ZM180-400h160v-160H180v160Zm440 0h160v-160H620v160ZM180-180h160v-160H180v160Zm440 0h160v-160H620v160Z\"/>\n",
              "  </svg>\n",
              "    </button>\n",
              "\n",
              "  <style>\n",
              "    .colab-df-container {\n",
              "      display:flex;\n",
              "      gap: 12px;\n",
              "    }\n",
              "\n",
              "    .colab-df-convert {\n",
              "      background-color: #E8F0FE;\n",
              "      border: none;\n",
              "      border-radius: 50%;\n",
              "      cursor: pointer;\n",
              "      display: none;\n",
              "      fill: #1967D2;\n",
              "      height: 32px;\n",
              "      padding: 0 0 0 0;\n",
              "      width: 32px;\n",
              "    }\n",
              "\n",
              "    .colab-df-convert:hover {\n",
              "      background-color: #E2EBFA;\n",
              "      box-shadow: 0px 1px 2px rgba(60, 64, 67, 0.3), 0px 1px 3px 1px rgba(60, 64, 67, 0.15);\n",
              "      fill: #174EA6;\n",
              "    }\n",
              "\n",
              "    .colab-df-buttons div {\n",
              "      margin-bottom: 4px;\n",
              "    }\n",
              "\n",
              "    [theme=dark] .colab-df-convert {\n",
              "      background-color: #3B4455;\n",
              "      fill: #D2E3FC;\n",
              "    }\n",
              "\n",
              "    [theme=dark] .colab-df-convert:hover {\n",
              "      background-color: #434B5C;\n",
              "      box-shadow: 0px 1px 3px 1px rgba(0, 0, 0, 0.15);\n",
              "      filter: drop-shadow(0px 1px 2px rgba(0, 0, 0, 0.3));\n",
              "      fill: #FFFFFF;\n",
              "    }\n",
              "  </style>\n",
              "\n",
              "    <script>\n",
              "      const buttonEl =\n",
              "        document.querySelector('#df-00a01b8d-47c8-4be3-9ed0-7c7d5239e3f5 button.colab-df-convert');\n",
              "      buttonEl.style.display =\n",
              "        google.colab.kernel.accessAllowed ? 'block' : 'none';\n",
              "\n",
              "      async function convertToInteractive(key) {\n",
              "        const element = document.querySelector('#df-00a01b8d-47c8-4be3-9ed0-7c7d5239e3f5');\n",
              "        const dataTable =\n",
              "          await google.colab.kernel.invokeFunction('convertToInteractive',\n",
              "                                                    [key], {});\n",
              "        if (!dataTable) return;\n",
              "\n",
              "        const docLinkHtml = 'Like what you see? Visit the ' +\n",
              "          '<a target=\"_blank\" href=https://colab.research.google.com/notebooks/data_table.ipynb>data table notebook</a>'\n",
              "          + ' to learn more about interactive tables.';\n",
              "        element.innerHTML = '';\n",
              "        dataTable['output_type'] = 'display_data';\n",
              "        await google.colab.output.renderOutput(dataTable, element);\n",
              "        const docLink = document.createElement('div');\n",
              "        docLink.innerHTML = docLinkHtml;\n",
              "        element.appendChild(docLink);\n",
              "      }\n",
              "    </script>\n",
              "  </div>\n",
              "\n",
              "\n",
              "<div id=\"df-8611829d-24a1-4abf-9f98-8abac8d47815\">\n",
              "  <button class=\"colab-df-quickchart\" onclick=\"quickchart('df-8611829d-24a1-4abf-9f98-8abac8d47815')\"\n",
              "            title=\"Suggest charts\"\n",
              "            style=\"display:none;\">\n",
              "\n",
              "<svg xmlns=\"http://www.w3.org/2000/svg\" height=\"24px\"viewBox=\"0 0 24 24\"\n",
              "     width=\"24px\">\n",
              "    <g>\n",
              "        <path d=\"M19 3H5c-1.1 0-2 .9-2 2v14c0 1.1.9 2 2 2h14c1.1 0 2-.9 2-2V5c0-1.1-.9-2-2-2zM9 17H7v-7h2v7zm4 0h-2V7h2v10zm4 0h-2v-4h2v4z\"/>\n",
              "    </g>\n",
              "</svg>\n",
              "  </button>\n",
              "\n",
              "<style>\n",
              "  .colab-df-quickchart {\n",
              "      --bg-color: #E8F0FE;\n",
              "      --fill-color: #1967D2;\n",
              "      --hover-bg-color: #E2EBFA;\n",
              "      --hover-fill-color: #174EA6;\n",
              "      --disabled-fill-color: #AAA;\n",
              "      --disabled-bg-color: #DDD;\n",
              "  }\n",
              "\n",
              "  [theme=dark] .colab-df-quickchart {\n",
              "      --bg-color: #3B4455;\n",
              "      --fill-color: #D2E3FC;\n",
              "      --hover-bg-color: #434B5C;\n",
              "      --hover-fill-color: #FFFFFF;\n",
              "      --disabled-bg-color: #3B4455;\n",
              "      --disabled-fill-color: #666;\n",
              "  }\n",
              "\n",
              "  .colab-df-quickchart {\n",
              "    background-color: var(--bg-color);\n",
              "    border: none;\n",
              "    border-radius: 50%;\n",
              "    cursor: pointer;\n",
              "    display: none;\n",
              "    fill: var(--fill-color);\n",
              "    height: 32px;\n",
              "    padding: 0;\n",
              "    width: 32px;\n",
              "  }\n",
              "\n",
              "  .colab-df-quickchart:hover {\n",
              "    background-color: var(--hover-bg-color);\n",
              "    box-shadow: 0 1px 2px rgba(60, 64, 67, 0.3), 0 1px 3px 1px rgba(60, 64, 67, 0.15);\n",
              "    fill: var(--button-hover-fill-color);\n",
              "  }\n",
              "\n",
              "  .colab-df-quickchart-complete:disabled,\n",
              "  .colab-df-quickchart-complete:disabled:hover {\n",
              "    background-color: var(--disabled-bg-color);\n",
              "    fill: var(--disabled-fill-color);\n",
              "    box-shadow: none;\n",
              "  }\n",
              "\n",
              "  .colab-df-spinner {\n",
              "    border: 2px solid var(--fill-color);\n",
              "    border-color: transparent;\n",
              "    border-bottom-color: var(--fill-color);\n",
              "    animation:\n",
              "      spin 1s steps(1) infinite;\n",
              "  }\n",
              "\n",
              "  @keyframes spin {\n",
              "    0% {\n",
              "      border-color: transparent;\n",
              "      border-bottom-color: var(--fill-color);\n",
              "      border-left-color: var(--fill-color);\n",
              "    }\n",
              "    20% {\n",
              "      border-color: transparent;\n",
              "      border-left-color: var(--fill-color);\n",
              "      border-top-color: var(--fill-color);\n",
              "    }\n",
              "    30% {\n",
              "      border-color: transparent;\n",
              "      border-left-color: var(--fill-color);\n",
              "      border-top-color: var(--fill-color);\n",
              "      border-right-color: var(--fill-color);\n",
              "    }\n",
              "    40% {\n",
              "      border-color: transparent;\n",
              "      border-right-color: var(--fill-color);\n",
              "      border-top-color: var(--fill-color);\n",
              "    }\n",
              "    60% {\n",
              "      border-color: transparent;\n",
              "      border-right-color: var(--fill-color);\n",
              "    }\n",
              "    80% {\n",
              "      border-color: transparent;\n",
              "      border-right-color: var(--fill-color);\n",
              "      border-bottom-color: var(--fill-color);\n",
              "    }\n",
              "    90% {\n",
              "      border-color: transparent;\n",
              "      border-bottom-color: var(--fill-color);\n",
              "    }\n",
              "  }\n",
              "</style>\n",
              "\n",
              "  <script>\n",
              "    async function quickchart(key) {\n",
              "      const quickchartButtonEl =\n",
              "        document.querySelector('#' + key + ' button');\n",
              "      quickchartButtonEl.disabled = true;  // To prevent multiple clicks.\n",
              "      quickchartButtonEl.classList.add('colab-df-spinner');\n",
              "      try {\n",
              "        const charts = await google.colab.kernel.invokeFunction(\n",
              "            'suggestCharts', [key], {});\n",
              "      } catch (error) {\n",
              "        console.error('Error during call to suggestCharts:', error);\n",
              "      }\n",
              "      quickchartButtonEl.classList.remove('colab-df-spinner');\n",
              "      quickchartButtonEl.classList.add('colab-df-quickchart-complete');\n",
              "    }\n",
              "    (() => {\n",
              "      let quickchartButtonEl =\n",
              "        document.querySelector('#df-8611829d-24a1-4abf-9f98-8abac8d47815 button');\n",
              "      quickchartButtonEl.style.display =\n",
              "        google.colab.kernel.accessAllowed ? 'block' : 'none';\n",
              "    })();\n",
              "  </script>\n",
              "</div>\n",
              "\n",
              "    </div>\n",
              "  </div>\n"
            ],
            "application/vnd.google.colaboratory.intrinsic+json": {
              "type": "dataframe",
              "variable_name": "df",
              "summary": "{\n  \"name\": \"df\",\n  \"rows\": 17384,\n  \"fields\": [\n    {\n      \"column\": \"id\",\n      \"properties\": {\n        \"dtype\": \"string\",\n        \"num_unique_values\": 17384,\n        \"samples\": [\n          \"tr30979\",\n          \"tr25794\",\n          \"tr25238\"\n        ],\n        \"semantic_type\": \"\",\n        \"description\": \"\"\n      }\n    },\n    {\n      \"column\": \"speaker\",\n      \"properties\": {\n        \"dtype\": \"category\",\n        \"num_unique_values\": 1203,\n        \"samples\": [\n          \"ad5a4695575f46c5106bc6269bae8da3\",\n          \"66460cda11160d4044ff006d3d6bdf49\",\n          \"8d4bf2e60a6edee46835fa7fd8ea377a\"\n        ],\n        \"semantic_type\": \"\",\n        \"description\": \"\"\n      }\n    },\n    {\n      \"column\": \"sex\",\n      \"properties\": {\n        \"dtype\": \"category\",\n        \"num_unique_values\": 2,\n        \"samples\": [\n          \"F\",\n          \"M\"\n        ],\n        \"semantic_type\": \"\",\n        \"description\": \"\"\n      }\n    },\n    {\n      \"column\": \"text\",\n      \"properties\": {\n        \"dtype\": \"string\",\n        \"num_unique_values\": 17384,\n        \"samples\": [\n          \"Say\\u0131n Ba\\u015fkan, de\\u011ferli milletvekilleri; 2020 y\\u0131l\\u0131 Avrupa Birli\\u011fi Ba\\u015fkanl\\u0131\\u011f\\u0131 b\\u00fct\\u00e7esi i\\u00e7in grubum ad\\u0131na s\\u00f6z alm\\u0131\\u015f bulunuyorum. Bu vesileyle siz de\\u011ferli milletvekillerini ve aziz halk\\u0131m\\u0131z\\u0131 sayg\\u0131yla selaml\\u0131yorum. <p> De\\u011ferli milletvekilleri, Avrupa Birli\\u011fi d\\u00fcnya tarihinde hayata ge\\u00e7irilmi\\u015f en b\\u00fcy\\u00fck bar\\u0131\\u015f projelerinden biridir. Hepimizin malumu oldu\\u011fu \\u00fczere, Avrupa uzun y\\u0131llar \\u2013y\\u00fcz y\\u0131l gibi, otuz y\\u0131l gibi- mezhep sava\\u015flar\\u0131na, onun ard\\u0131ndan Birinci ve \\u0130kinci D\\u00fcnya Sava\\u015f\\u0131 gibi b\\u00fcy\\u00fck y\\u0131k\\u0131mlara yol a\\u00e7an, b\\u00fcy\\u00fck can kay\\u0131plar\\u0131na yol a\\u00e7an sava\\u015flara maalesef meydan oldu. Bu sava\\u015flar \\u00fczerine, bu y\\u0131k\\u0131mlar \\u00fczerine Avrupa Birli\\u011finin in\\u015fa edilmesi, ger\\u00e7ekten de d\\u00fcnya tarihine bak\\u0131ld\\u0131\\u011f\\u0131nda, hayata ge\\u00e7irilmi\\u015f en b\\u00fcy\\u00fck bar\\u0131\\u015f projesi olarak \\u00f6n\\u00fcm\\u00fcze \\u00e7\\u0131k\\u0131yor. <p> Bu anlamda T\\u00fcrkiye olarak Avrupa Birli\\u011finin, birli\\u011fini, b\\u00fct\\u00fcnl\\u00fc\\u011f\\u00fcn\\u00fc ve istikrar\\u0131n\\u0131 \\u00f6nemsedi\\u011fimizi buradan belirtmek isterim. \\u00c7\\u00fcnk\\u00fc o co\\u011frafyada ya\\u015fanacak her bir k\\u0131r\\u0131lman\\u0131n, her bir istikrars\\u0131zl\\u0131\\u011f\\u0131n bizim co\\u011frafyalar\\u0131m\\u0131za da menfi etkisi olaca\\u011f\\u0131 a\\u015fik\\u00e2rd\\u0131r. <p> De\\u011ferli dostlar, son d\\u00f6nemlerde Brexit\\u2019le birlikte Avrupa Birli\\u011finin nereye ve nas\\u0131l savrulaca\\u011f\\u0131n\\u0131 hep birlikte izleyece\\u011fiz. Ancak son d\\u00f6nemlerde Avrupa Birli\\u011finin kar\\u015f\\u0131 kar\\u015f\\u0131ya kald\\u0131\\u011f\\u0131 birtak\\u0131m tehditler ve ciddi meydan okumalar var. Bunlar\\u0131n ba\\u015f\\u0131nda da hepimizin malumu oldu\\u011fu \\u00fczere m\\u00fclteci ak\\u0131nlar\\u0131, ter\\u00f6r, a\\u015f\\u0131r\\u0131 sa\\u011f, \\u0131rk\\u00e7\\u0131l\\u0131k, \\u0130slamofobi gibi ciddi tehditler s\\u00f6z konusu. Ancak biraz daha derine indi\\u011fimizde g\\u00f6r\\u00fcyoruz ki asl\\u0131nda bu tehditleri do\\u011furan, Avrupa merkezli \\u00e7ok ciddi bir amil var, sebep var. O da asl\\u0131nda, Avrupa Birli\\u011finin kendi varolu\\u015f de\\u011ferleriyle ters d\\u00fc\\u015fmesi, kar\\u015f\\u0131 kar\\u015f\\u0131ya gelmesi ve ink\\u00e2r s\\u00fcrecine girmi\\u015f olmas\\u0131. Peki, nas\\u0131l? E\\u011fer bug\\u00fcn Avrupa Birli\\u011fi, Avrupa s\\u0131n\\u0131rlar\\u0131 Suriye kaynakl\\u0131, Orta Do\\u011fu kaynakl\\u0131 birtak\\u0131m m\\u00fclteci ak\\u0131nlar\\u0131na maruz kal\\u0131yorsa bu, Avrupa Birli\\u011finin bundan sekiz y\\u0131l \\u00f6nce Suriye halk\\u0131n\\u0131n hakl\\u0131 \\u00f6zg\\u00fcrl\\u00fck ve demokrasi isteklerine sahip \\u00e7\\u0131kmamas\\u0131ndan, daha do\\u011frusu, di\\u011fer bak\\u0131mdan kendi varolu\\u015f de\\u011ferlerine Suriye\\u2019de sahip \\u00e7\\u0131kmamas\\u0131ndan kaynaklan\\u0131yor. <p> Yine, di\\u011fer bir \\u00f6nemli konu, s\\u0131n\\u0131rs\\u0131zl\\u0131k meselesi. Avrupa, b\\u00fct\\u00fcn bu y\\u0131k\\u0131mlardan sonra kendi co\\u011frafyas\\u0131na istikrar\\u0131 ve bar\\u0131\\u015f\\u0131, ekonomik, co\\u011frafi, siyasi s\\u0131n\\u0131rlar\\u0131n\\u0131 kald\\u0131rarak ortak bir co\\u011frafya olarak getirdi ama g\\u00f6r\\u00fcyoruz ki Avrupa Birli\\u011fi, kendi co\\u011frafyas\\u0131na s\\u0131n\\u0131rs\\u0131zl\\u0131\\u011f\\u0131 h\\u00e2kim k\\u0131larken farkl\\u0131 co\\u011frafyalarda yeni s\\u0131n\\u0131rlar iklimlemenin pe\\u015finde. <p> \\u00c7ok da vaktimiz yok ama neyse, o konuya girmeyeyim, bir hat\\u0131ram\\u0131 payla\\u015facakt\\u0131m. <p> Avrupa Birli\\u011fiyle, Avrupa\\u2019yla olan bizim T\\u00fcrkiye\\u2019nin ili\\u015fkileri Avrupal\\u0131 dostlar\\u0131m\\u0131z\\u0131n \\u00f6ng\\u00f6rd\\u00fc\\u011f\\u00fc gibi 1963 Ankara Anla\\u015fmas\\u0131\\u2019yla ba\\u015flam\\u0131yor. Bu s\\u00fcre\\u00e7, Yak\\u0131n \\u00c7a\\u011f\\u2019dan 1300\\u2019l\\u00fc y\\u0131llara kadar bakt\\u0131\\u011f\\u0131m\\u0131zda\\u2026 Selanik\\u2019in Osmanl\\u0131\\u2019ya tam \\u00fcye oldu\\u011fu tarih 1387 y\\u0131l\\u0131, Varna\\u2019n\\u0131n Osmanl\\u0131\\u2019ya tam \\u00fcye oldu\\u011fu tarih 1444 y\\u0131l\\u0131; Kayseri, Selanik\\u2019ten tam seksen yedi y\\u0131l sonra Osmanl\\u0131\\u2019n\\u0131n bir par\\u00e7as\\u0131 olmu\\u015ftur. Bu anlamda, bu a\\u00e7\\u0131lardan bakt\\u0131\\u011f\\u0131m\\u0131zda T\\u00fcrklerin veya T\\u00fcrkiye\\u2019nin Avrupa\\u2019daki varl\\u0131\\u011f\\u0131, Avrupal\\u0131 dostlar\\u0131m\\u0131z\\u0131n \\u00f6ng\\u00f6rd\\u00fc\\u011f\\u00fc gibi 1963 Ankara Anla\\u015fmas\\u0131\\u2019yla de\\u011fil, 1300\\u2019l\\u00fc y\\u0131llara kadar uzanmaktad\\u0131r. Avrupa\\u2019daki Bat\\u0131 Hun \\u0130mparatorlu\\u011fu\\u2019nu veya Avrupa Hun \\u0130mparatorlu\\u011fu\\u2019nu g\\u00fcndeme getirmeme gerek dahi yok. <p> \\u015eunun alt\\u0131n\\u0131 \\u00e7izmemiz gerekiyor: T\\u00fcrkiye, Avrupa\\u2019n\\u0131n co\\u011frafi ve tarih\\u00ee anlamda do\\u011fal bir par\\u00e7as\\u0131d\\u0131r ve T\\u00fcrkiye\\u2019nin Avrupa Birli\\u011fine tam \\u00fcyeli\\u011fi Avrupa\\u2019ya sosyal ve ekonomik anlamda bir a\\u015f\\u0131 niteli\\u011fini ta\\u015f\\u0131maktad\\u0131r. <p> Avrupal\\u0131 dostlar\\u0131m\\u0131z\\u0131n bilmesi gereken di\\u011fer bir husus da yine e\\u011fer Paris\\u2019in g\\u00fcvenli\\u011fini, Londra\\u2019n\\u0131n g\\u00fcvenli\\u011fini, Avrupa\\u2019n\\u0131n s\\u0131n\\u0131r g\\u00fcvenliklerini \\u00f6nceliyorlarsa bunun g\\u00fcvenli\\u011finin, Avrupa\\u2019n\\u0131n \\u015fehirlerinin ve s\\u0131n\\u0131rlar\\u0131n\\u0131n g\\u00fcvenli\\u011finin Diyarbak\\u0131r\\u2019\\u0131n g\\u00fcvenli\\u011finden, Gaziantep\\u2019in g\\u00fcvenli\\u011finden, Hakk\\u00e2ri\\u2019nin, Van\\u2019\\u0131n, Ankara\\u2019n\\u0131n g\\u00fcvenli\\u011finden ge\\u00e7ti\\u011fidir. <p> Avrupal\\u0131 dostlar\\u0131m\\u0131z Paris\\u2019in, Londra\\u2019n\\u0131n, Madrid\\u2019in \\u00e7ocuklar\\u0131n\\u0131 ne kadar aziz biliyor ise \\u015eam\\u2019\\u0131n, Kahire\\u2019nin, Mogadi\\u015fu\\u2019nun \\u00e7ocuklar\\u0131n\\u0131 da o derece aziz bilmedikleri s\\u00fcrece Avrupa co\\u011frafyas\\u0131n\\u0131n g\\u00fcvende olmas\\u0131, s\\u0131n\\u0131rlar\\u0131n\\u0131n g\\u00fcvende olmas\\u0131 m\\u00fcmk\\u00fcn de\\u011fildir. <p> De\\u011ferli arkada\\u015flar, son olarak D\\u0131\\u015fi\\u015fleri Bakanl\\u0131\\u011f\\u0131m\\u0131za tebriklerimi ve te\\u015fekk\\u00fcrlerimi iletmek istiyorum. \\u00d6zellikle Do\\u011fu Akdeniz\\u2019de son d\\u00f6nemde ger\\u00e7ekle\\u015fen deniz yetki alan\\u0131 s\\u0131n\\u0131rland\\u0131rmas\\u0131, stratejik anlamda cumhuriyet tarihimizin hayata ge\\u00e7irilmi\\u015f en stratejik ad\\u0131mlar\\u0131ndan biriydi. Gerek uzun y\\u0131llardan bu yana ola\\u011fan\\u00fcst\\u00fc bir performansla \\u00e7aba g\\u00f6steren D\\u0131\\u015fi\\u015fleri Bakan\\u0131m\\u0131z Say\\u0131n Mevl\\u00fct \\u00c7avu\\u015fo\\u011flu\\u2019na ve \\u00e7al\\u0131\\u015fma arkada\\u015flar\\u0131na burada ben te\\u015fekk\\u00fcrlerimi ve tebriklerimi sunuyorum. <p> Di\\u011fer bir husus, Amerikan Senatosunun son alm\\u0131\\u015f oldu\\u011fu karar, T\\u00fcrkiye\\u2019yi soyk\\u0131r\\u0131mla su\\u00e7layan karar son derece trajikomik bir karar. <p> Ba\\u011flayaca\\u011f\\u0131m hemen Say\\u0131n Ba\\u015fkan\\u0131m. <p> Nagasaki ve Hiro\\u015fima\\u2019ya att\\u0131klar\\u0131 2 atom bombas\\u0131yla kendi tabirleriyle, kendi gazetelerindeki man\\u015fet \\u015fu \\u015fekildeydi: \\u201cDakikalar i\\u00e7erisinde iki \\u015fehri kozmik toza d\\u00f6n\\u00fc\\u015ft\\u00fcrd\\u00fck.\\u201d B\\u00f6yle deyip dakikalar i\\u00e7erisinde 117 bin insan\\u0131 katleden, buharla\\u015ft\\u0131ran bir medeniyetin benim medeniyetimi \\u201csoyk\\u0131r\\u0131mc\\u0131\\u201d olarak tan\\u0131mlamas\\u0131 son derece trajikomik bir durum. <p> Bu vesileyle 2020 y\\u0131l\\u0131 b\\u00fct\\u00e7emizin hay\\u0131rlara vesile olmas\\u0131n\\u0131 diliyor, hepinizi sayg\\u0131yla selaml\\u0131yorum.\",\n          \"Muhtelif konu ve tasar\\u0131lar Meclise getirilirken bu konu ve tasar\\u0131lar geni\\u015f halk kesimlerini ilgilendirirken pek dikkate al\\u0131nmayan bir \\u00f6nemli prensibe dikkat \\u00e7ekmek istiyorum ki o da isti\\u015faredir. \\u0130sti\\u015fare, do\\u011fruyu bulmak i\\u00e7in ilgili ki\\u015fi ve kesimlerin g\\u00f6r\\u00fc\\u015flerine ba\\u015fvurarak yap\\u0131lan g\\u00f6r\\u00fc\\u015f al\\u0131\\u015fveri\\u015fidir ve kararlar\\u0131 da bu g\\u00f6r\\u00fc\\u015f al\\u0131\\u015fveri\\u015finin sonucuna g\\u00f6re vermek veya vermemektir. <p> \\u0130sti\\u015fare, kolektif bir ak\\u0131l olgusu oldu\\u011fu i\\u00e7in diktat\\u00f6rl\\u00fc\\u011fe giden yolu kapatman\\u0131n da en etkili ve \\u00f6nemli yoludur. Saidi Nursi\\u2019nin dikkat \\u00e7ekti\\u011fi gibi tes\\u00e2d\\u00fcm\\u00fc efk\\u00e2rdan hakikat do\\u011far yani farkl\\u0131 fikirleri, g\\u00f6r\\u00fc\\u015fleri \\u00e7at\\u0131\\u015ft\\u0131rmaktan ger\\u00e7ekler ortaya \\u00e7\\u0131kar. <p> Dinimiz \\u0130slam da isti\\u015fareye b\\u00fcy\\u00fck \\u00f6nem veren bir dindir. \\u00d6rne\\u011fin Kur'an-\\u0131 Kerim\\u2019in bir ayetinde, Allah, Hazreti Peygambere hitaben \\u015f\\u00f6yle emrediyor: \\u201c...\\u201d(x) yani \\u201cBir \\u015fey yapmak isterken, bir \\u015feye karar verirken insanlarla isti\\u015fare et.\\u201d Bu emre harfiyen uyan Hazreti Peygamber hi\\u00e7bir \\u015feye tek ba\\u015f\\u0131na karar vermemi\\u015f, her karar\\u0131 ortak ak\\u0131l olan isti\\u015fareye g\\u00f6re alm\\u0131\\u015ft\\u0131r, hi\\u00e7bir zaman \\u201cHer \\u015feyi ben bilirim.\\u201d dememi\\u015f, kendi g\\u00f6r\\u00fc\\u015f\\u00fc olmasa bile, kat\\u0131lmasa bile isti\\u015fare neticesinde ortaya \\u00e7\\u0131kan karara her zaman uymu\\u015ftur. Hazreti Peygamber bir hadisinde \\u015f\\u00f6yle buyuruyor: \\u201c\\u2026\\u201d(X) Yani, \\u201c\\u0130sti\\u015fare edenler zarar etmezler.\\u201d Hazreti Ali Efendimiz de \\u015f\\u00f6yle diyor: \\u201c\\u0130sti\\u015fareyi terk edenler do\\u011fru yolu bulamazlar.\\u201d <p> Mecliste bunun somut \\u00f6rneklerine rastlamam\\u0131z az da olsa m\\u00fcmk\\u00fcnd\\u00fcr. \\u00d6rne\\u011fin, isti\\u015fare edilmeden getirilen kayyum tasar\\u0131s\\u0131 ile Hakk\\u00e2ri ve \\u015e\\u0131rnak illerinin il\\u00e7e yap\\u0131lmak istendi\\u011fi tasar\\u0131lar\\u0131n do\\u011fru olmad\\u0131\\u011f\\u0131 isti\\u015fare neticesinde ortaya \\u00e7\\u0131kt\\u0131 ve bu tasar\\u0131lar\\u0131n \\u015fimdilik geri \\u00e7ekilmesinin de yine isti\\u015fareyle do\\u011fru oldu\\u011fu ortaya \\u00e7\\u0131kt\\u0131. G\\u00f6n\\u00fcl ister ki, bundan sonraki tasar\\u0131lar ve konular da 4 partimizin isti\\u015faresiyle ve kolektif akl\\u0131yla kabul edilsin veya reddedilsin; halk\\u0131n ilgili kesimlerinin g\\u00f6r\\u00fc\\u015flerine ba\\u015fvurularak kabul edilsin bunlar veya kabul edilmesin. O zaman, Hazreti Peygamberin buyurdu\\u011fu gibi, \\u201c\\u0130sti\\u015fare edenler zarar etmezler.\\u201d ve o zaman Hazreti Ali Efendimiz\\u2019in buyurdu\\u011fu gibi \\u201c\\u0130sti\\u015fareyi terk edenler do\\u011fru yolu bulamazlar.\\u201d Ben de bu Mecliste bu isti\\u015fare mekanizmas\\u0131n\\u0131n hakk\\u0131yla yerle\\u015fece\\u011fi \\u00fcmidiyle y\\u00fcce Meclisi, b\\u00fct\\u00fcn sayg\\u0131de\\u011fer milletvekili arkada\\u015flar\\u0131m\\u0131 selaml\\u0131yorum ve bu son g\\u00fcnde, son gecede bu tatilin hepimize hay\\u0131rlara vesile olmas\\u0131n\\u0131 diliyorum.\"\n        ],\n        \"semantic_type\": \"\",\n        \"description\": \"\"\n      }\n    },\n    {\n      \"column\": \"text_en\",\n      \"properties\": {\n        \"dtype\": \"string\",\n        \"num_unique_values\": 17384,\n        \"samples\": [\n          \"Mr. President, I have made a pledge on behalf of my group for the European Union presidency budget of 2020. On this occasion, I salute you worthy MPs and our beloved people. <p> Dear lawmakers are one of the largest peace projects in the history of the European Union. As we all know, Europe has been faced with wars like a hundred years, like thirty years -- which have led to major destructions such as the First and Second World War. On these wars, the construction of the European Union on these destructions is indeed the greatest peace project ever implemented in the history of the world. <p> In this sense, as Turkey, I would like to point out that we care about the unity, integrity, and stability of the European Union. Because it's clear that every crack in that geography, every instability, will have a negative effect on our geography. <p> Dear friends, in recent times, Brexit (Brexit) and I will watch together where and how the European Union will be scattered. Recently, however, there have been threats and serious challenges facing the European Union. In the beginning, as we all know, there are serious threats such as refugee raids, terrorism, extreme right, racism, Islamophobia. But when we go a little deeper, we see that there's a very serious European-based amyl that actually breeds these threats, and there's a reason. In fact, the European Union is in the process of contradicting its own existing values, confronting it and denying it. Well, how? If today the European Union is exposed to a number of refugee raids from Syria, from the Middle East, it is due to the fact that the European Union, eight years ago, did not have the right desire for freedom and democracy by the Syrian people, or rather, it did not have its own existing values in Syria. <p> Again, another important issue, the issue of infinity. Europe, after all this destruction, brought stability and peace to its geography as a common geography, economic, geographical, political boundaries, but we see that the European Union is seeking new boundaries in different geography as it dominates its own geography. <p> We don't have a lot of time, but anyway, let's not get into it, I was gonna share a memory. <p> With the European Union, our relations with Europe do not begin with the 1963 Ankara Agreement, as predicted by our European friends. This process, when we looked from the Near Ages to 1,300, was a full member of the Ottoman Empire in 1387, when Varna was a full member of the Ottoman Empire in 1444; Kayseri became part of the Ottoman Empire, just eighty-seven years after Thessaloniki. In this sense, the existence of Turks or Turkey in Europe, as our European friends predicted, dates back to the 1300th century, not with the 1963 Ankara Agreement. I don't even need to bring up the Western Hun Empire in Europe or the European Hun Empire. <p> We need to emphasize: Turkey is a geographical and historically natural part of Europe, and full membership in Turkey's European Union is a social and economic vaccine to Europe. <p> Another thing our European friends need to know is that if they are prioritizing the safety of Paris, the security of London, the border security of Europe, the security of the cities and borders of Europe, the security of Diyarbak\\u0131r, the security of Gaziantep, the security of Hakkari, the safety of Van (the security of Ankara). <p> As much as our European friends know Paris, London, Madrid's children are saints, there is no way that Europe's geography will be safe unless they know that Damascus, Cairo, and the children of Mogadishu are such saints. <p> Dear friends, I'd like to give my congratulations and thanks to the State Department. In particular, the recent naval jurisdiction limitation in the Eastern Mediterranean was one of the most strategic steps in the history of the republic in strategic terms. I'm here to thank and congratulate you, Mr. Mevl\\u00fct Sergeantoglu and his colleagues, who have struggled with an extraordinary performance for many years. <p> On the other hand, the final decision by the American Senate is an extremely tragic decision accusing Turkey of genocide. <p> I'll put you through, Mr. President. <p> The headline in his own newspapers, with two atomic bombs they threw at Nagasaki and Hiroshima, was: \\\"In minutes, we transformed two cities into cosmic dust. \\\" <p> I hereby ask that our 2020 budget be a blessing, and I salute you all.\",\n          \"Mr. President, dear lawmakers, I salute you all. <p> I'd like to point out an important principle that's not taken into account when the various issues and proposals are being brought to Parliament, while these and the proposals concern the broad population, which is also a consultation. The consultation is an exchange of opinions based on the opinions of interested people and sections to find the truth, and the decision is whether to make or not to make based on the outcome of this exchange of opinions. <p> The consultation is also the most effective and important way to shut down the path to dictatorship because it is a collective phenomenon of reason. As Saidi Nursi pointed out, the truth arises from the sadness of my diagnosis, meaning that the facts arise from conflicting ideas, opinions. <p> Our religion, Islam, is a religion of great importance to consultation. In one verse of the Qur'an, for example, God commands the Holy Prophet: \\\"When you want to do something, when you decide something, consult with people.\\\" \\u2022 The Holy Prophet, who has followed this letter of command, has not made a single decision, he has made every decision according to the common counsel, and has never said, \\\"I know everything.\\\" Even if he does not have his own opinion, even if he does not agree with it. In one of his Covenant Covenants, the Prophet says: \\\"Those who leave the palace cannot find the right path. \\\" <p> It's possible that there are some concrete examples of this in the House. For example, the trustee's bill brought in without consultation and the consultation of Hakkari and \\u015e\\u0131rnak provinces in which the bills were intended to be made were not true, and it turns out that the withdrawal of these proposals for the time being was also correct with consultation. The heart wishes that the next drafts and topics of our four parties be accepted or rejected by the collective mind or accepted by the opinion of the relevant parts of the people, whether they are accepted or not. Then, as the Holy Prophet has instructed, the trustees will not be harmed. And those who leave the office will not be able to find the right path, as our Lord Ali commanded. I also wish that this last day, on this last day, this holiday would be a blessing to all of us in this House, in the hope that this consultation mechanism will be properly established.\"\n        ],\n        \"semantic_type\": \"\",\n        \"description\": \"\"\n      }\n    },\n    {\n      \"column\": \"label\",\n      \"properties\": {\n        \"dtype\": \"number\",\n        \"std\": 0,\n        \"min\": 0,\n        \"max\": 1,\n        \"num_unique_values\": 2,\n        \"samples\": [\n          1,\n          0\n        ],\n        \"semantic_type\": \"\",\n        \"description\": \"\"\n      }\n    }\n  ]\n}"
            }
          },
          "metadata": {},
          "execution_count": 4
        }
      ]
    },
    {
      "cell_type": "markdown",
      "source": [
        "We check the proporiton of label to split the dataset in a stratified manner"
      ],
      "metadata": {
        "id": "jRzZaMaos-o-"
      }
    },
    {
      "cell_type": "code",
      "source": [
        "df.keys()"
      ],
      "metadata": {
        "colab": {
          "base_uri": "https://localhost:8080/"
        },
        "id": "z1okz_8RUMQa",
        "outputId": "c58347e8-0ac9-46e5-e2ce-ce5c1241c229"
      },
      "execution_count": 5,
      "outputs": [
        {
          "output_type": "execute_result",
          "data": {
            "text/plain": [
              "Index(['id', 'speaker', 'sex', 'text', 'text_en', 'label'], dtype='object')"
            ]
          },
          "metadata": {},
          "execution_count": 5
        }
      ]
    },
    {
      "cell_type": "code",
      "source": [
        "df[\"label\"].value_counts(normalize=True)"
      ],
      "metadata": {
        "colab": {
          "base_uri": "https://localhost:8080/",
          "height": 198
        },
        "id": "Aza3YSw3naMB",
        "outputId": "99e39e8f-4de8-4fa6-8b6a-24060a1618de"
      },
      "execution_count": 6,
      "outputs": [
        {
          "output_type": "execute_result",
          "data": {
            "text/plain": [
              "label\n",
              "1    0.513806\n",
              "0    0.486194\n",
              "Name: proportion, dtype: float64"
            ],
            "text/html": [
              "<div>\n",
              "<style scoped>\n",
              "    .dataframe tbody tr th:only-of-type {\n",
              "        vertical-align: middle;\n",
              "    }\n",
              "\n",
              "    .dataframe tbody tr th {\n",
              "        vertical-align: top;\n",
              "    }\n",
              "\n",
              "    .dataframe thead th {\n",
              "        text-align: right;\n",
              "    }\n",
              "</style>\n",
              "<table border=\"1\" class=\"dataframe\">\n",
              "  <thead>\n",
              "    <tr style=\"text-align: right;\">\n",
              "      <th></th>\n",
              "      <th>proportion</th>\n",
              "    </tr>\n",
              "    <tr>\n",
              "      <th>label</th>\n",
              "      <th></th>\n",
              "    </tr>\n",
              "  </thead>\n",
              "  <tbody>\n",
              "    <tr>\n",
              "      <th>1</th>\n",
              "      <td>0.513806</td>\n",
              "    </tr>\n",
              "    <tr>\n",
              "      <th>0</th>\n",
              "      <td>0.486194</td>\n",
              "    </tr>\n",
              "  </tbody>\n",
              "</table>\n",
              "</div><br><label><b>dtype:</b> float64</label>"
            ]
          },
          "metadata": {},
          "execution_count": 6
        }
      ]
    },
    {
      "cell_type": "markdown",
      "source": [],
      "metadata": {
        "id": "xrNHCYsVtLVe"
      }
    },
    {
      "cell_type": "code",
      "source": [
        "print(df.isnull().sum())  # Check for missing values\n",
        "print(df[\"label\"].value_counts())  # Check label distribution"
      ],
      "metadata": {
        "colab": {
          "base_uri": "https://localhost:8080/"
        },
        "id": "zU3dEQPMKDV8",
        "outputId": "4e0ae221-19ec-4b4b-888c-eb2589871a16"
      },
      "execution_count": 7,
      "outputs": [
        {
          "output_type": "stream",
          "name": "stdout",
          "text": [
            "id         0\n",
            "speaker    0\n",
            "sex        0\n",
            "text       0\n",
            "text_en    0\n",
            "label      0\n",
            "dtype: int64\n",
            "label\n",
            "1    8932\n",
            "0    8452\n",
            "Name: count, dtype: int64\n"
          ]
        }
      ]
    },
    {
      "cell_type": "code",
      "source": [
        "from sklearn.model_selection import train_test_split"
      ],
      "metadata": {
        "id": "DRA4tdOGtL1a"
      },
      "execution_count": 8,
      "outputs": []
    },
    {
      "cell_type": "code",
      "source": [
        "# Split the data into training and testing sets\n",
        "train_df, test_df = train_test_split(df, test_size=0.1, random_state=42, stratify=df[\"label\"])\n",
        "train_df, eval_df = train_test_split(train_df, test_size=0.111111, random_state=42, stratify=train_df[\"label\"])"
      ],
      "metadata": {
        "id": "EEQO0i5EtldG"
      },
      "execution_count": 9,
      "outputs": []
    },
    {
      "cell_type": "code",
      "source": [
        "# Print the subset lengths/size and proportions to check if splitted successfully\n",
        "print('Train:')\n",
        "print(train_df.shape[0]/8)\n",
        "print(train_df['label'].value_counts(normalize=True))\n",
        "\n",
        "print('Eval:')\n",
        "print(eval_df.shape[0]/1)\n",
        "print(eval_df['label'].value_counts(normalize=True))\n",
        "\n",
        "print('Test:')\n",
        "print(test_df.shape[0]/1)\n",
        "print(test_df['label'].value_counts(normalize=True))"
      ],
      "metadata": {
        "colab": {
          "base_uri": "https://localhost:8080/"
        },
        "id": "bITlztcwt_9p",
        "outputId": "c997cebf-c948-4ffb-92d3-2fa5fcde3a12"
      },
      "execution_count": 10,
      "outputs": [
        {
          "output_type": "stream",
          "name": "stdout",
          "text": [
            "Train:\n",
            "1738.25\n",
            "label\n",
            "1    0.513807\n",
            "0    0.486193\n",
            "Name: proportion, dtype: float64\n",
            "Eval:\n",
            "1739.0\n",
            "label\n",
            "1    0.513514\n",
            "0    0.486486\n",
            "Name: proportion, dtype: float64\n",
            "Test:\n",
            "1739.0\n",
            "label\n",
            "1    0.514089\n",
            "0    0.485911\n",
            "Name: proportion, dtype: float64\n"
          ]
        }
      ]
    },
    {
      "cell_type": "code",
      "source": [
        "!pip install datasets"
      ],
      "metadata": {
        "colab": {
          "base_uri": "https://localhost:8080/"
        },
        "id": "52CY-K2U8vTG",
        "outputId": "c02c4878-5ee1-4230-e518-a71edfb1e3f4"
      },
      "execution_count": 11,
      "outputs": [
        {
          "output_type": "stream",
          "name": "stdout",
          "text": [
            "Collecting datasets\n",
            "  Downloading datasets-3.2.0-py3-none-any.whl.metadata (20 kB)\n",
            "Requirement already satisfied: filelock in /usr/local/lib/python3.10/dist-packages (from datasets) (3.16.1)\n",
            "Requirement already satisfied: numpy>=1.17 in /usr/local/lib/python3.10/dist-packages (from datasets) (1.26.4)\n",
            "Requirement already satisfied: pyarrow>=15.0.0 in /usr/local/lib/python3.10/dist-packages (from datasets) (17.0.0)\n",
            "Collecting dill<0.3.9,>=0.3.0 (from datasets)\n",
            "  Downloading dill-0.3.8-py3-none-any.whl.metadata (10 kB)\n",
            "Requirement already satisfied: pandas in /usr/local/lib/python3.10/dist-packages (from datasets) (2.2.2)\n",
            "Requirement already satisfied: requests>=2.32.2 in /usr/local/lib/python3.10/dist-packages (from datasets) (2.32.3)\n",
            "Requirement already satisfied: tqdm>=4.66.3 in /usr/local/lib/python3.10/dist-packages (from datasets) (4.67.1)\n",
            "Collecting xxhash (from datasets)\n",
            "  Downloading xxhash-3.5.0-cp310-cp310-manylinux_2_17_x86_64.manylinux2014_x86_64.whl.metadata (12 kB)\n",
            "Collecting multiprocess<0.70.17 (from datasets)\n",
            "  Downloading multiprocess-0.70.16-py310-none-any.whl.metadata (7.2 kB)\n",
            "Collecting fsspec<=2024.9.0,>=2023.1.0 (from fsspec[http]<=2024.9.0,>=2023.1.0->datasets)\n",
            "  Downloading fsspec-2024.9.0-py3-none-any.whl.metadata (11 kB)\n",
            "Requirement already satisfied: aiohttp in /usr/local/lib/python3.10/dist-packages (from datasets) (3.11.10)\n",
            "Requirement already satisfied: huggingface-hub>=0.23.0 in /usr/local/lib/python3.10/dist-packages (from datasets) (0.27.0)\n",
            "Requirement already satisfied: packaging in /usr/local/lib/python3.10/dist-packages (from datasets) (24.2)\n",
            "Requirement already satisfied: pyyaml>=5.1 in /usr/local/lib/python3.10/dist-packages (from datasets) (6.0.2)\n",
            "Requirement already satisfied: aiohappyeyeballs>=2.3.0 in /usr/local/lib/python3.10/dist-packages (from aiohttp->datasets) (2.4.4)\n",
            "Requirement already satisfied: aiosignal>=1.1.2 in /usr/local/lib/python3.10/dist-packages (from aiohttp->datasets) (1.3.2)\n",
            "Requirement already satisfied: async-timeout<6.0,>=4.0 in /usr/local/lib/python3.10/dist-packages (from aiohttp->datasets) (4.0.3)\n",
            "Requirement already satisfied: attrs>=17.3.0 in /usr/local/lib/python3.10/dist-packages (from aiohttp->datasets) (24.3.0)\n",
            "Requirement already satisfied: frozenlist>=1.1.1 in /usr/local/lib/python3.10/dist-packages (from aiohttp->datasets) (1.5.0)\n",
            "Requirement already satisfied: multidict<7.0,>=4.5 in /usr/local/lib/python3.10/dist-packages (from aiohttp->datasets) (6.1.0)\n",
            "Requirement already satisfied: propcache>=0.2.0 in /usr/local/lib/python3.10/dist-packages (from aiohttp->datasets) (0.2.1)\n",
            "Requirement already satisfied: yarl<2.0,>=1.17.0 in /usr/local/lib/python3.10/dist-packages (from aiohttp->datasets) (1.18.3)\n",
            "Requirement already satisfied: typing-extensions>=3.7.4.3 in /usr/local/lib/python3.10/dist-packages (from huggingface-hub>=0.23.0->datasets) (4.12.2)\n",
            "Requirement already satisfied: charset-normalizer<4,>=2 in /usr/local/lib/python3.10/dist-packages (from requests>=2.32.2->datasets) (3.4.0)\n",
            "Requirement already satisfied: idna<4,>=2.5 in /usr/local/lib/python3.10/dist-packages (from requests>=2.32.2->datasets) (3.10)\n",
            "Requirement already satisfied: urllib3<3,>=1.21.1 in /usr/local/lib/python3.10/dist-packages (from requests>=2.32.2->datasets) (2.2.3)\n",
            "Requirement already satisfied: certifi>=2017.4.17 in /usr/local/lib/python3.10/dist-packages (from requests>=2.32.2->datasets) (2024.12.14)\n",
            "Requirement already satisfied: python-dateutil>=2.8.2 in /usr/local/lib/python3.10/dist-packages (from pandas->datasets) (2.8.2)\n",
            "Requirement already satisfied: pytz>=2020.1 in /usr/local/lib/python3.10/dist-packages (from pandas->datasets) (2024.2)\n",
            "Requirement already satisfied: tzdata>=2022.7 in /usr/local/lib/python3.10/dist-packages (from pandas->datasets) (2024.2)\n",
            "Requirement already satisfied: six>=1.5 in /usr/local/lib/python3.10/dist-packages (from python-dateutil>=2.8.2->pandas->datasets) (1.17.0)\n",
            "Downloading datasets-3.2.0-py3-none-any.whl (480 kB)\n",
            "\u001b[2K   \u001b[90m━━━━━━━━━━━━━━━━━━━━━━━━━━━━━━━━━━━━━━━━\u001b[0m \u001b[32m480.6/480.6 kB\u001b[0m \u001b[31m37.4 MB/s\u001b[0m eta \u001b[36m0:00:00\u001b[0m\n",
            "\u001b[?25hDownloading dill-0.3.8-py3-none-any.whl (116 kB)\n",
            "\u001b[2K   \u001b[90m━━━━━━━━━━━━━━━━━━━━━━━━━━━━━━━━━━━━━━━━\u001b[0m \u001b[32m116.3/116.3 kB\u001b[0m \u001b[31m13.4 MB/s\u001b[0m eta \u001b[36m0:00:00\u001b[0m\n",
            "\u001b[?25hDownloading fsspec-2024.9.0-py3-none-any.whl (179 kB)\n",
            "\u001b[2K   \u001b[90m━━━━━━━━━━━━━━━━━━━━━━━━━━━━━━━━━━━━━━━━\u001b[0m \u001b[32m179.3/179.3 kB\u001b[0m \u001b[31m16.8 MB/s\u001b[0m eta \u001b[36m0:00:00\u001b[0m\n",
            "\u001b[?25hDownloading multiprocess-0.70.16-py310-none-any.whl (134 kB)\n",
            "\u001b[2K   \u001b[90m━━━━━━━━━━━━━━━━━━━━━━━━━━━━━━━━━━━━━━━━\u001b[0m \u001b[32m134.8/134.8 kB\u001b[0m \u001b[31m13.5 MB/s\u001b[0m eta \u001b[36m0:00:00\u001b[0m\n",
            "\u001b[?25hDownloading xxhash-3.5.0-cp310-cp310-manylinux_2_17_x86_64.manylinux2014_x86_64.whl (194 kB)\n",
            "\u001b[2K   \u001b[90m━━━━━━━━━━━━━━━━━━━━━━━━━━━━━━━━━━━━━━━━\u001b[0m \u001b[32m194.1/194.1 kB\u001b[0m \u001b[31m17.9 MB/s\u001b[0m eta \u001b[36m0:00:00\u001b[0m\n",
            "\u001b[?25hInstalling collected packages: xxhash, fsspec, dill, multiprocess, datasets\n",
            "  Attempting uninstall: fsspec\n",
            "    Found existing installation: fsspec 2024.10.0\n",
            "    Uninstalling fsspec-2024.10.0:\n",
            "      Successfully uninstalled fsspec-2024.10.0\n",
            "\u001b[31mERROR: pip's dependency resolver does not currently take into account all the packages that are installed. This behaviour is the source of the following dependency conflicts.\n",
            "gcsfs 2024.10.0 requires fsspec==2024.10.0, but you have fsspec 2024.9.0 which is incompatible.\u001b[0m\u001b[31m\n",
            "\u001b[0mSuccessfully installed datasets-3.2.0 dill-0.3.8 fsspec-2024.9.0 multiprocess-0.70.16 xxhash-3.5.0\n"
          ]
        }
      ]
    },
    {
      "cell_type": "code",
      "source": [
        "#convert pandas dataFrame to Hugigng face dataset\n",
        "from datasets import Dataset\n",
        "train_dataset = Dataset.from_pandas(train_df)\n",
        "eval_dataset = Dataset.from_pandas(eval_df)\n",
        "test_dataset = Dataset.from_pandas(test_df)\n",
        "train_dataset['text'][12]"
      ],
      "metadata": {
        "colab": {
          "base_uri": "https://localhost:8080/",
          "height": 246
        },
        "id": "fAECNv5kU9bs",
        "outputId": "e1ab9925-6263-4c52-ddac-becd210bf722"
      },
      "execution_count": 12,
      "outputs": [
        {
          "output_type": "execute_result",
          "data": {
            "text/plain": [
              "\"8 Marta giderken öncelikle tüm kadınların 8 Mart Dünya Kadınlar Günü’nü kutlayarak başlamak istiyorum. <p> Evet, bir kutlama günü gibi gözükse de aslında, bizim kalan diğer üç yüz altmış dört gün gibi mücadele ettiğimiz, kadın özgürlük çizgimizi büyütmeye çalıştığımız; haklarımızı, kazanılmış haklarımızı geri vermemek için mücadele etmek zorunda kaldığımız; yeni haklarımızı elde etmek için uğraştığımız bir günden bahsediyoruz. <p> 8 Mart, bizim açımızdan, tarihsel açıdan kadınların canlarıyla ödedikleri bedeller sonucu kazanılmış günlerden bir tanesi. Mücadeleyi büyütmekte kararlıyız. Kadın özgürlükçü çizgimizi büyütmekte ve erkek egemenliğinin olmadığı, patriyarkalliğin olmadığı, kapitalizmin olmadığı, kadın-erkek eşitliğinin sağlandığı bir dünyayı yaratmakta da kararlı olduğumuzu tüm kadınlar adına buradan bir kez daha haykırmak isteriz. Mücadelemiz devam edecek; bütün iktidarların engellemelerine rağmen, Türkiye'de olduğu gibi, kadınların tüm etkinlik ve eylemliliklerini engellemek isteyen iktidara rağmen mücadelemizden asla dönmeyeceğiz; sokaklarda, meydanlarda, evlerde, iş yerlerinde, nerede olursak olalım kadın özgürlük çizgimizi büyütmeye devam edeceğiz. <p> İktidar, her ne kadar lafa geldiğinde kadın-erkek eşitliğinden yana olduğunu söylese de yine de kadınların eylemlerine müdahale ediyor; daha bugün yine bir kadın eyleminin yapılmasını engelledi, önüne geçmeye çalıştı; belli gerekçelerle, yasaklarla kadınların yapacağı etkinliklerin önüne geçmeye çalışıyor. Ama şuradan bir kez daha söyleyelim: Ne yaparsanız yapın kadın özgürlük mücadelesini asla ve asla durduramayacaksınız. <p> Kadınlara dair istihdam meselesine gelmek istiyorum. Maalesef, Türkiye'de kadınlar “iş yaşamı” dendiğinde görünmez kılınan vatandaşlar olarak karşımıza çıkıyor. Türkiye'de her 10 kadından sadece 3 kadın iş yaşamında kendisine bir iş bulabiliyor. 20 milyondan fazla kadın maalesef ev dışındaki iş yaşamında iş bulabilecek bir konuma sahip değil ve iş bulabilen kadınların da çoğunluğu güvencesiz, esnek, sigortasız çalışma koşullarında çalışmaya mecbur ediliyor. Çünkü kadınlara şöyle bir yerden bakarsanız, “aileyle uyumlaştırılmış iş yaşamı” diye bir tarifleme yaparsanız, “Ailedeki işler önceliklidir, ev kadınlığınız önceliklidir, bakım hizmeti önceliklidir, bu işler sizin işinizdir; ondan sonra, zaman bulursanız ev dışında çalışırsınız.” diye bir politika üretirseniz elbette ki kadınlar ev dışında kölelik düzenine uygun çalışma koşullarında çalışmaya mecbur bırakılırlar. <p> Peki, iş yaşamına çıktığımızda biz kadınlar nelerle karşılaşıyoruz? Mobbingden tutun, eş değer işe eşit ücret verilmemesinden tutun, tacizden, tecavüzden tutun birçok sorunla karşı karşıya olarak iş yaşamında bulunmak zorunda kalıyoruz. Peki, bunlara çözüm üreten bir iktidar var mı? Hayır. Ne bütçede kadının adı var ne bütçede toplumsal cinsiyet eşitliği var ne de pratikte, uygulamada siyasi iktidarın buna dair herhangi bir uygulamasını görüyoruz; tam tersine, kadınları evlere hapsetmeye çalışan, “Dört duvar arasında kalın.” diyen, itaat ettirmeye zorlayan bir iktidar yaklaşımıyla karşı karşıya olduğumuzu düşünüyoruz. <p> Yine, göçmen kadınlardan, mülteci kadınlardan, bugün, zorla sınırlara sürdüğünüz “Aslında bu ülkede çok güzel hayatlar yaşıyorlar.” diye iddia ettiğiniz ama kapılar açıldığında gitmek için can atan göçmen kadınlardan bahsetmek istiyorum ve göçmen kadınlar bugün, bütün mülteciler gibi, hayatları pahasına sınıra sürülüyorlar, bu ülkeden gitme çabası içindeler. Çünkü göçmen kadınlar bu ülkede tacize, tecavüze, mobbinge en fazla uğrayan kadınlar; çalışsa da ücretlerini alamayan kadınlar, her türlü haksızlığa çok daha fazla maruz kalan kadınlar. İşte, sizin abarta abarta anlattığınız göçmen politikanız bu. Mültecilere dair “Müthiş ev sahipliği yapıyoruz.” dediğiniz kadınlar bu ülkeden kaçmak için fırsat kolluyorlar, bir sorun kendinize “Neden acaba?” diye. <p> LGBT+’lara yönelik nefret suçları, yine onlara yönelik ayrımcılık ve sömürü çok ağır koşullarda bu ülkede yaşanıyor. <p> Yine, kadınlara yönelik şiddet inanılmaz bir şekilde artmış durumda; kadınları değil, erkekleri, erkek egemenliğini koruyan bir yargı sistemini besliyorsunuz, sürekli büyütüyorsunuz. Bunu son süreçte Diyanet İşleri Başkanlığının, Aile ve Dinî Rehberlik Bürolarına başvuran kişilere söylediği nasihatlerden de anlıyoruz. Öğütler şöyle sıralanıyor başvuruculara: “Eğer şiddete maruz kaldıysanız tepki göstermeyin, sessiz olun, öbür odaya geçin; sinirinin geçmesini, sakinleşmesini bekleyin.” <p> “Hakarete maruz kalıyorsanız bir durun, neden bunu yaptığını bir sorun, anlamaya çalışın.” <p> “Peki, polise başvuralım mı, ne diyorsunuz?” dendiğinde de verilen cevap şu: “Hayır, polise şikâyet etmeyin, aile içinde bir şekilde çözersiniz.” deniyor. İşte, sizin, Diyanet İşleri Başkanlığı üzerinden sürekli “Biz kadına yönelik şiddeti engelleyeceğiz.” diye söylediğiniz sözlerin hikâyesi burada gizli. Ne diyor aslında? “İtaat et.” “Şiddete boyun eğ.” “Erkek ne isterse onu yap.” diyen bir Diyanet İşleri Başkanlığının Aile ve Dinî Rehberlik bürolarıyla karşı karşıyayız. Ama şunu bir kez daha söyleyelim: İtaat etmeyeceğiz, makbul kadınlarınız olmayacağız, kadın özgürlük çizgimizden asla vazgeçmeyeceğiz. <p> Yaşasın 8 Mart diyorum! Kadınlar savaş istemiyor; barış, hemen şimdi.\""
            ],
            "application/vnd.google.colaboratory.intrinsic+json": {
              "type": "string"
            }
          },
          "metadata": {},
          "execution_count": 12
        }
      ]
    },
    {
      "cell_type": "code",
      "source": [
        "from transformers import AutoModel, AutoTokenizer\n",
        "\n",
        "tokenizer = AutoTokenizer.from_pretrained(\"xlm-roberta-base\")"
      ],
      "metadata": {
        "id": "TymelZYT8dHd",
        "colab": {
          "base_uri": "https://localhost:8080/",
          "height": 353,
          "referenced_widgets": [
            "e02116ef84a74650a82ee09b6d62e0ee",
            "d441ad317cd447c98c2b1b97cedd28d8",
            "341cdd009e684d1fa1591b6f43668173",
            "cf8f8ccc5e104f1294b19d6bbdd7feaf",
            "a0c1b62a99be4d4d9247a80d86f480b1",
            "36e140b0cb6f451199e92d4aeac75f02",
            "05c360f067ef4ec8be8d33e0ae359346",
            "9dd1f8d3dd704264af5623e56bc23bfd",
            "b4258d3ffa1a447784538496d76db467",
            "b55347c978574a8f9a185b5ee489f42c",
            "a4dc12d6a4f240b2879eb581ca88cd33",
            "ac53fe8e72e9428fa392ac1f2f40737b",
            "019f6b0a41bf41268bbd97562b962d22",
            "84f5e7191b6a4539816c2ef549669fab",
            "0fe35e2725e54e77abcd00eb2bb0b7d0",
            "82d929e435074172867a325ce3494951",
            "f063dd00610b4eac8b3ec54426a6a1a5",
            "bae6f4ce174945d797c06244c773ece8",
            "e1a84ab8730b4ea7bdb03cea98e8fa10",
            "fff00ae6837b41fb923112ebc9c88dec",
            "f7e6b8053eba40409a1d32d9ce076ba2",
            "70de73a806da42baaecd7fa72e1741f1",
            "4684c474bed24b048f4a3980f1dafb82",
            "d9560c257246482399222e2b4bdab1f2",
            "9cca2fbf9e9b421c95a7023910b472ff",
            "fd44c081e0524d0b84a714a95ff5ee65",
            "31ad33f1224244cc9e5f6335e814d78e",
            "3ae7412f40d644d9a52e36854b35f918",
            "8f28e629a1b64493a3bbd4c4715cfc4d",
            "9cbac5446c3c4b5c9127ce3cb221aa9c",
            "0666d1202c60427eac6d4c5c5d10c598",
            "f6bbe29659fb40c0950aa9b4bbcdd3cb",
            "c9a4bd3d4dff4f9688aeca2e63ea7b44",
            "410b8b07efa3461c9540535340e17016",
            "c26fb43096ec4c67a928a0b6934513ef",
            "a0da039f08b148cbace894efc050ef6b",
            "21b01f20a4544db0a5a0fc987c87fab8",
            "a04035556f3849c2842743f510f92021",
            "ce551e54609a4c008eea2fe1738a1192",
            "df99a34fe0224ea6a1a3603a51e7be55",
            "f44d15feada74875a8d5acaf8329a028",
            "91352428160049e09f7a8e1e75d0a63e",
            "bf9edb4f8cb14392b877efe140a1a403",
            "3cb07c38c3a249e48324d78be68e0be7"
          ]
        },
        "outputId": "d69b43e0-f1c8-4c56-903d-a75f2f32ab41"
      },
      "execution_count": 13,
      "outputs": [
        {
          "output_type": "stream",
          "name": "stderr",
          "text": [
            "/usr/local/lib/python3.10/dist-packages/huggingface_hub/utils/_auth.py:94: UserWarning: \n",
            "The secret `HF_TOKEN` does not exist in your Colab secrets.\n",
            "To authenticate with the Hugging Face Hub, create a token in your settings tab (https://huggingface.co/settings/tokens), set it as secret in your Google Colab and restart your session.\n",
            "You will be able to reuse this secret in all of your notebooks.\n",
            "Please note that authentication is recommended but still optional to access public models or datasets.\n",
            "  warnings.warn(\n"
          ]
        },
        {
          "output_type": "display_data",
          "data": {
            "text/plain": [
              "tokenizer_config.json:   0%|          | 0.00/25.0 [00:00<?, ?B/s]"
            ],
            "application/vnd.jupyter.widget-view+json": {
              "version_major": 2,
              "version_minor": 0,
              "model_id": "e02116ef84a74650a82ee09b6d62e0ee"
            }
          },
          "metadata": {}
        },
        {
          "output_type": "display_data",
          "data": {
            "text/plain": [
              "config.json:   0%|          | 0.00/615 [00:00<?, ?B/s]"
            ],
            "application/vnd.jupyter.widget-view+json": {
              "version_major": 2,
              "version_minor": 0,
              "model_id": "ac53fe8e72e9428fa392ac1f2f40737b"
            }
          },
          "metadata": {}
        },
        {
          "output_type": "display_data",
          "data": {
            "text/plain": [
              "sentencepiece.bpe.model:   0%|          | 0.00/5.07M [00:00<?, ?B/s]"
            ],
            "application/vnd.jupyter.widget-view+json": {
              "version_major": 2,
              "version_minor": 0,
              "model_id": "4684c474bed24b048f4a3980f1dafb82"
            }
          },
          "metadata": {}
        },
        {
          "output_type": "display_data",
          "data": {
            "text/plain": [
              "tokenizer.json:   0%|          | 0.00/9.10M [00:00<?, ?B/s]"
            ],
            "application/vnd.jupyter.widget-view+json": {
              "version_major": 2,
              "version_minor": 0,
              "model_id": "410b8b07efa3461c9540535340e17016"
            }
          },
          "metadata": {}
        }
      ]
    },
    {
      "cell_type": "code",
      "source": [
        "encoded_input_example = tokenizer(\"A fine but tarnished diamond is always preferable to a piece of glass, no matter how polished.\")\n",
        "encoded_input_example"
      ],
      "metadata": {
        "colab": {
          "base_uri": "https://localhost:8080/"
        },
        "id": "D73wyet8Aykg",
        "outputId": "810ffe78-26a5-47f7-baaa-4952bff75311"
      },
      "execution_count": 14,
      "outputs": [
        {
          "output_type": "execute_result",
          "data": {
            "text/plain": [
              "{'input_ids': [0, 62, 5885, 1284, 2405, 93, 67175, 879, 15882, 83, 11343, 12601, 2886, 47, 10, 63847, 111, 47589, 4, 110, 26866, 3642, 13492, 5252, 5, 2], 'attention_mask': [1, 1, 1, 1, 1, 1, 1, 1, 1, 1, 1, 1, 1, 1, 1, 1, 1, 1, 1, 1, 1, 1, 1, 1, 1, 1]}"
            ]
          },
          "metadata": {},
          "execution_count": 14
        }
      ]
    },
    {
      "cell_type": "code",
      "source": [
        "tokenizer.decode(encoded_input_example[\"input_ids\"])"
      ],
      "metadata": {
        "colab": {
          "base_uri": "https://localhost:8080/",
          "height": 72
        },
        "id": "bMSj9hwxBHN7",
        "outputId": "1d6a3fef-cc08-4963-d033-d893af8fd9d8"
      },
      "execution_count": 15,
      "outputs": [
        {
          "output_type": "execute_result",
          "data": {
            "text/plain": [
              "'<s> A fine but tarnished diamond is always preferable to a piece of glass, no matter how polished.</s>'"
            ],
            "application/vnd.google.colaboratory.intrinsic+json": {
              "type": "string"
            }
          },
          "metadata": {},
          "execution_count": 15
        }
      ]
    },
    {
      "cell_type": "code",
      "source": [
        "def tokenize_function(examples):\n",
        "    return tokenizer(examples[\"text_en\"], padding=\"max_length\", truncation=True, max_length=512)"
      ],
      "metadata": {
        "id": "ge4S8BzSbpER"
      },
      "execution_count": 16,
      "outputs": []
    },
    {
      "cell_type": "code",
      "source": [
        "unshuffled_train_dataset = train_dataset.map(tokenize_function, batched=True)\n",
        "tokenized_train_dataset =unshuffled_train_dataset.shuffle(seed=42)\n",
        "\n",
        "unshuffled_eval_dataset = eval_dataset.map(tokenize_function, batched=True)\n",
        "tokenized_eval_dataset =unshuffled_eval_dataset.shuffle(seed=42)"
      ],
      "metadata": {
        "colab": {
          "base_uri": "https://localhost:8080/",
          "height": 129,
          "referenced_widgets": [
            "311bbbff79454050bd7872382f83a62b",
            "58d652ba04844926b6104ee7d440b8ca",
            "c810e69850a748c5abf92c6ef059c208",
            "3e6936fdaf6146e1bdf21497260e7bec",
            "0763be9e2e11428ea2abaa67294b0808",
            "763629f53ec94c60b7cbb04a3db77cfe",
            "9ec41efdf3e84857878c4403a076c259",
            "e6d7b3bfc066433eb773edccd923b842",
            "6377a872a1fc4123bb348603b1feb684",
            "50cd25109a2040a39daeb72734cc53da",
            "ea7acdc4448b44e6a819bbccdfa7c236",
            "0d07dc607f8141349f52cc74a7558016",
            "5684ddbf08e14a8e9f8e8344d148d72b",
            "ff9f514a213c40e3af47001bcf621a3b",
            "a541471f6eb6476697d9fdf63b983522",
            "3be4315d7aa84ff988e6960bf75520da",
            "6b9ccdda7ca1429f92fb40af6b8815c7",
            "3267e6c3068f421cb0adfa0165b207b8",
            "c36a8a6604cb42d4bc8396c04b55f50e",
            "cf5502fc32b4421f9151c9c86c249807",
            "79746c73aa8942e6b303930dbde9c21c",
            "576d7a1f76c94926abb23b94e4bcb112"
          ]
        },
        "id": "zdaJT9u_bq8g",
        "outputId": "824bd9bf-9629-47d5-e52b-1b2209e1bf69"
      },
      "execution_count": 17,
      "outputs": [
        {
          "output_type": "display_data",
          "data": {
            "text/plain": [
              "Map:   0%|          | 0/13906 [00:00<?, ? examples/s]"
            ],
            "application/vnd.jupyter.widget-view+json": {
              "version_major": 2,
              "version_minor": 0,
              "model_id": "311bbbff79454050bd7872382f83a62b"
            }
          },
          "metadata": {}
        },
        {
          "output_type": "display_data",
          "data": {
            "text/plain": [
              "Map:   0%|          | 0/1739 [00:00<?, ? examples/s]"
            ],
            "application/vnd.jupyter.widget-view+json": {
              "version_major": 2,
              "version_minor": 0,
              "model_id": "0d07dc607f8141349f52cc74a7558016"
            }
          },
          "metadata": {}
        }
      ]
    },
    {
      "cell_type": "code",
      "source": [
        "tokenized_train_dataset.column_names"
      ],
      "metadata": {
        "colab": {
          "base_uri": "https://localhost:8080/"
        },
        "id": "Ug9DV_NoBAUz",
        "outputId": "db965f7c-5622-4610-f531-3aa5a0e44de4"
      },
      "execution_count": 18,
      "outputs": [
        {
          "output_type": "execute_result",
          "data": {
            "text/plain": [
              "['id',\n",
              " 'speaker',\n",
              " 'sex',\n",
              " 'text',\n",
              " 'text_en',\n",
              " 'label',\n",
              " '__index_level_0__',\n",
              " 'input_ids',\n",
              " 'attention_mask']"
            ]
          },
          "metadata": {},
          "execution_count": 18
        }
      ]
    },
    {
      "cell_type": "markdown",
      "source": [
        "Start Pre-Training using Hugging-Face Transformers"
      ],
      "metadata": {
        "id": "6_e7CEM9aUaM"
      }
    },
    {
      "cell_type": "code",
      "source": [
        "from transformers import AutoModelForSequenceClassification\n",
        "\n",
        "model = AutoModelForSequenceClassification.from_pretrained(\"xlm-roberta-base\", num_labels=2, torch_dtype=\"auto\")"
      ],
      "metadata": {
        "colab": {
          "base_uri": "https://localhost:8080/",
          "height": 132,
          "referenced_widgets": [
            "b1c4ca44b1244ec8844e800dbb30cc31",
            "f923e7717da14e09862a550e6e17dc3c",
            "a7258df6e8e640709ffef9f26c0ad29a",
            "1e929a0697524fa295504c4afefecb60",
            "52f048120e64437d899252be3214a389",
            "e445f7563bf14a10aa9b24167dd3d4a3",
            "7a2629cd87354c93a9455fa15f3b9dbb",
            "8bc6d68733ce4f368d27b5c1018ac97c",
            "c50a7afb63b94af2b12319c6af456b4f",
            "cdb67b34e74c4595bfcdde085a5d28d6",
            "966c5f6404b54c00b148cee1dbfaa45e"
          ]
        },
        "id": "qN9msh2DaddD",
        "outputId": "a6c3aa45-1b4b-4bbd-aaa1-eaa215453a22"
      },
      "execution_count": 19,
      "outputs": [
        {
          "output_type": "display_data",
          "data": {
            "text/plain": [
              "model.safetensors:   0%|          | 0.00/1.12G [00:00<?, ?B/s]"
            ],
            "application/vnd.jupyter.widget-view+json": {
              "version_major": 2,
              "version_minor": 0,
              "model_id": "b1c4ca44b1244ec8844e800dbb30cc31"
            }
          },
          "metadata": {}
        },
        {
          "output_type": "stream",
          "name": "stderr",
          "text": [
            "Some weights of XLMRobertaForSequenceClassification were not initialized from the model checkpoint at xlm-roberta-base and are newly initialized: ['classifier.dense.bias', 'classifier.dense.weight', 'classifier.out_proj.bias', 'classifier.out_proj.weight']\n",
            "You should probably TRAIN this model on a down-stream task to be able to use it for predictions and inference.\n"
          ]
        }
      ]
    },
    {
      "cell_type": "code",
      "source": [
        "from transformers import TrainingArguments\n",
        "batch_size = 32\n",
        "grad_acc_steps = 4\n",
        "num_epochs = 3\n",
        "training_args = TrainingArguments(\n",
        "    output_dir=\"./test_trainer\",\n",
        "    eval_strategy=\"steps\",\n",
        "    logging_strategy=\"steps\",\n",
        "    save_strategy=\"steps\",\n",
        "    logging_steps=20,\n",
        "    eval_steps=20,\n",
        "    save_total_limit=3,\n",
        "    learning_rate=2e-5,\n",
        "    per_device_train_batch_size=batch_size,\n",
        "    per_device_eval_batch_size=16,\n",
        "    gradient_accumulation_steps=grad_acc_steps,\n",
        "    num_train_epochs=num_epochs,\n",
        "    warmup_ratio=0.1,\n",
        "    #warmup_steps=int(0.1* 12910/(batch_size*grad_acc_steps/num_epochs)),\n",
        "    weight_decay=0.01,\n",
        "    fp16=True,\n",
        "    load_best_model_at_end=True,\n",
        "    metric_for_best_model=\"accuracy\",\n",
        "    greater_is_better=True,\n",
        "    report_to=\"none\",  # Disable reporting to external platforms\n",
        ")\n"
      ],
      "metadata": {
        "id": "Zc4c2NElbMlw"
      },
      "execution_count": 20,
      "outputs": []
    },
    {
      "cell_type": "markdown",
      "source": [
        "# Evaluate"
      ],
      "metadata": {
        "id": "8DwsZLTHgJ5b"
      }
    },
    {
      "cell_type": "code",
      "source": [
        "!pip install evaluate"
      ],
      "metadata": {
        "colab": {
          "base_uri": "https://localhost:8080/"
        },
        "collapsed": true,
        "id": "1waBePx1gcvN",
        "outputId": "3ea09e54-2c4e-4359-aff4-a05dc819f803"
      },
      "execution_count": 21,
      "outputs": [
        {
          "output_type": "stream",
          "name": "stdout",
          "text": [
            "Collecting evaluate\n",
            "  Downloading evaluate-0.4.3-py3-none-any.whl.metadata (9.2 kB)\n",
            "Requirement already satisfied: datasets>=2.0.0 in /usr/local/lib/python3.10/dist-packages (from evaluate) (3.2.0)\n",
            "Requirement already satisfied: numpy>=1.17 in /usr/local/lib/python3.10/dist-packages (from evaluate) (1.26.4)\n",
            "Requirement already satisfied: dill in /usr/local/lib/python3.10/dist-packages (from evaluate) (0.3.8)\n",
            "Requirement already satisfied: pandas in /usr/local/lib/python3.10/dist-packages (from evaluate) (2.2.2)\n",
            "Requirement already satisfied: requests>=2.19.0 in /usr/local/lib/python3.10/dist-packages (from evaluate) (2.32.3)\n",
            "Requirement already satisfied: tqdm>=4.62.1 in /usr/local/lib/python3.10/dist-packages (from evaluate) (4.67.1)\n",
            "Requirement already satisfied: xxhash in /usr/local/lib/python3.10/dist-packages (from evaluate) (3.5.0)\n",
            "Requirement already satisfied: multiprocess in /usr/local/lib/python3.10/dist-packages (from evaluate) (0.70.16)\n",
            "Requirement already satisfied: fsspec>=2021.05.0 in /usr/local/lib/python3.10/dist-packages (from fsspec[http]>=2021.05.0->evaluate) (2024.9.0)\n",
            "Requirement already satisfied: huggingface-hub>=0.7.0 in /usr/local/lib/python3.10/dist-packages (from evaluate) (0.27.0)\n",
            "Requirement already satisfied: packaging in /usr/local/lib/python3.10/dist-packages (from evaluate) (24.2)\n",
            "Requirement already satisfied: filelock in /usr/local/lib/python3.10/dist-packages (from datasets>=2.0.0->evaluate) (3.16.1)\n",
            "Requirement already satisfied: pyarrow>=15.0.0 in /usr/local/lib/python3.10/dist-packages (from datasets>=2.0.0->evaluate) (17.0.0)\n",
            "Requirement already satisfied: aiohttp in /usr/local/lib/python3.10/dist-packages (from datasets>=2.0.0->evaluate) (3.11.10)\n",
            "Requirement already satisfied: pyyaml>=5.1 in /usr/local/lib/python3.10/dist-packages (from datasets>=2.0.0->evaluate) (6.0.2)\n",
            "Requirement already satisfied: typing-extensions>=3.7.4.3 in /usr/local/lib/python3.10/dist-packages (from huggingface-hub>=0.7.0->evaluate) (4.12.2)\n",
            "Requirement already satisfied: charset-normalizer<4,>=2 in /usr/local/lib/python3.10/dist-packages (from requests>=2.19.0->evaluate) (3.4.0)\n",
            "Requirement already satisfied: idna<4,>=2.5 in /usr/local/lib/python3.10/dist-packages (from requests>=2.19.0->evaluate) (3.10)\n",
            "Requirement already satisfied: urllib3<3,>=1.21.1 in /usr/local/lib/python3.10/dist-packages (from requests>=2.19.0->evaluate) (2.2.3)\n",
            "Requirement already satisfied: certifi>=2017.4.17 in /usr/local/lib/python3.10/dist-packages (from requests>=2.19.0->evaluate) (2024.12.14)\n",
            "Requirement already satisfied: python-dateutil>=2.8.2 in /usr/local/lib/python3.10/dist-packages (from pandas->evaluate) (2.8.2)\n",
            "Requirement already satisfied: pytz>=2020.1 in /usr/local/lib/python3.10/dist-packages (from pandas->evaluate) (2024.2)\n",
            "Requirement already satisfied: tzdata>=2022.7 in /usr/local/lib/python3.10/dist-packages (from pandas->evaluate) (2024.2)\n",
            "Requirement already satisfied: aiohappyeyeballs>=2.3.0 in /usr/local/lib/python3.10/dist-packages (from aiohttp->datasets>=2.0.0->evaluate) (2.4.4)\n",
            "Requirement already satisfied: aiosignal>=1.1.2 in /usr/local/lib/python3.10/dist-packages (from aiohttp->datasets>=2.0.0->evaluate) (1.3.2)\n",
            "Requirement already satisfied: async-timeout<6.0,>=4.0 in /usr/local/lib/python3.10/dist-packages (from aiohttp->datasets>=2.0.0->evaluate) (4.0.3)\n",
            "Requirement already satisfied: attrs>=17.3.0 in /usr/local/lib/python3.10/dist-packages (from aiohttp->datasets>=2.0.0->evaluate) (24.3.0)\n",
            "Requirement already satisfied: frozenlist>=1.1.1 in /usr/local/lib/python3.10/dist-packages (from aiohttp->datasets>=2.0.0->evaluate) (1.5.0)\n",
            "Requirement already satisfied: multidict<7.0,>=4.5 in /usr/local/lib/python3.10/dist-packages (from aiohttp->datasets>=2.0.0->evaluate) (6.1.0)\n",
            "Requirement already satisfied: propcache>=0.2.0 in /usr/local/lib/python3.10/dist-packages (from aiohttp->datasets>=2.0.0->evaluate) (0.2.1)\n",
            "Requirement already satisfied: yarl<2.0,>=1.17.0 in /usr/local/lib/python3.10/dist-packages (from aiohttp->datasets>=2.0.0->evaluate) (1.18.3)\n",
            "Requirement already satisfied: six>=1.5 in /usr/local/lib/python3.10/dist-packages (from python-dateutil>=2.8.2->pandas->evaluate) (1.17.0)\n",
            "Downloading evaluate-0.4.3-py3-none-any.whl (84 kB)\n",
            "\u001b[2K   \u001b[90m━━━━━━━━━━━━━━━━━━━━━━━━━━━━━━━━━━━━━━━━\u001b[0m \u001b[32m84.0/84.0 kB\u001b[0m \u001b[31m9.1 MB/s\u001b[0m eta \u001b[36m0:00:00\u001b[0m\n",
            "\u001b[?25hInstalling collected packages: evaluate\n",
            "Successfully installed evaluate-0.4.3\n"
          ]
        }
      ]
    },
    {
      "cell_type": "code",
      "source": [
        "import numpy as np\n",
        "import evaluate"
      ],
      "metadata": {
        "id": "tHlh30SqgPWW"
      },
      "execution_count": 22,
      "outputs": []
    },
    {
      "cell_type": "code",
      "source": [
        "metric = evaluate.load(\"accuracy\")"
      ],
      "metadata": {
        "id": "ygi4dofDgTTO",
        "colab": {
          "base_uri": "https://localhost:8080/",
          "height": 97,
          "referenced_widgets": [
            "7c8fc8a5793c473ca3d5809d92faf2e0",
            "1ad87fdf9ea84236a6e21506bc7b1b9f",
            "b012f01665994a9086447771624855ef",
            "f52d909dbc9342c3a2c4e28268e1abb2",
            "7631cd7428844f02ac07d96076734959",
            "3c1224e639d344e7baa68f204db08c45",
            "f4e838ef676e4239aab1efc3a47d1383",
            "e8ce8d2d0a264340bfc6385b2376117f",
            "2123a409930f43a7b3c16d3b69ea2fc1",
            "30f03c0dc3be41e386cb0fab0e182c27",
            "411df28c98d14721bafcd9f8178456b3"
          ]
        },
        "outputId": "68c3c405-9abe-48e0-fb2a-dfef981bcc4a"
      },
      "execution_count": 23,
      "outputs": [
        {
          "output_type": "display_data",
          "data": {
            "text/plain": [
              "Downloading builder script:   0%|          | 0.00/4.20k [00:00<?, ?B/s]"
            ],
            "application/vnd.jupyter.widget-view+json": {
              "version_major": 2,
              "version_minor": 0,
              "model_id": "7c8fc8a5793c473ca3d5809d92faf2e0"
            }
          },
          "metadata": {}
        }
      ]
    },
    {
      "cell_type": "code",
      "source": [
        "from sklearn.metrics import f1_score\n",
        "\n",
        "def compute_metrics(eval_pred):\n",
        "    logits, labels = eval_pred\n",
        "    predictions = np.argmax(logits, axis=-1)\n",
        "    accuracy = metric.compute(predictions=predictions, references=labels)[\"accuracy\"]\n",
        "    f1 = f1_score(labels, predictions, average=\"binary\")\n",
        "    return {\"accuracy\": accuracy, \"f1\": f1}"
      ],
      "metadata": {
        "id": "LTNATr5Mgtnm"
      },
      "execution_count": 24,
      "outputs": []
    },
    {
      "cell_type": "markdown",
      "source": [
        "# Trainer"
      ],
      "metadata": {
        "id": "trVbxPf0g5JO"
      }
    },
    {
      "cell_type": "code",
      "source": [
        "from transformers import Trainer\n",
        "from transformers import EarlyStoppingCallback\n",
        "from transformers import TrainerCallback"
      ],
      "metadata": {
        "id": "oitQ6SgQhMBd"
      },
      "execution_count": 25,
      "outputs": []
    },
    {
      "cell_type": "code",
      "source": [
        "class LearningRateAndEvalLogger(TrainerCallback):\n",
        "    def on_evaluate(self, args, state, control, metrics=None, **kwargs):\n",
        "        # Log evaluation metrics\n",
        "        print(f\"Step {state.global_step}: Evaluation Metrics: {metrics}\")\n",
        "\n",
        "        # Log the current learning rate\n",
        "        if state.global_step > 0 and kwargs.get(\"optimizer\"):\n",
        "            lr = kwargs[\"optimizer\"].param_groups[0][\"lr\"]\n",
        "            print(f\"Step {state.global_step}: Learning Rate = {lr:.8f}\")\n"
      ],
      "metadata": {
        "id": "vkEgZGw3piTW"
      },
      "execution_count": 26,
      "outputs": []
    },
    {
      "cell_type": "code",
      "source": [
        "trainer = Trainer(\n",
        "   model=model,\n",
        "   args=training_args,\n",
        "   train_dataset=tokenized_train_dataset,\n",
        "   eval_dataset=tokenized_eval_dataset,\n",
        "   compute_metrics=compute_metrics,\n",
        "   callbacks=[LearningRateAndEvalLogger(), EarlyStoppingCallback(early_stopping_patience=3)],\n",
        ")"
      ],
      "metadata": {
        "id": "YmP13aQ5gwAp"
      },
      "execution_count": 27,
      "outputs": []
    },
    {
      "cell_type": "code",
      "source": [
        "#Example\n",
        "example = tokenized_eval_dataset[0]\n",
        "print(\"Example:\", example)"
      ],
      "metadata": {
        "colab": {
          "base_uri": "https://localhost:8080/"
        },
        "id": "CE8rb1xXEqjP",
        "outputId": "38395701-913e-4aa9-ad79-8dbd51f628a1"
      },
      "execution_count": 28,
      "outputs": [
        {
          "output_type": "stream",
          "name": "stdout",
          "text": [
            "Example: {'id': 'tr21974', 'speaker': '9fc862a54989ebca9fce2d6dd0add4bf', 'sex': 'M', 'text': \"Sayın Başkan, değerli milletvekilleri; 9 ve 10’uncu maddelerde 1163 sayılı Kooperatifler Kanunu üzerine iki düzenleme var, ikisi aynı mahiyette. <p> İlk hâliyle komisyona geldiğinde “kamu tüzel kişiliği” ibaresi vardı “üniversiteler” yerine. Yani, bir kamu tüzel kişisi, bir kooperatif ortağı ise orada kooperatif ana kuralı olan her ortak tek oy kuralı yerine, kamu tüzel kişiliğine payı kadar, sermayesi kadar oy imkânı veriyordu. Şimdi, bu, çok sakıncalı tabii. Yani, 1163’ün, Kooperatifler Yasası’nın esasına aykırı, âdeta bir virüs gibi bunun içine giren, bir yol açan… Eğer bu girerse bundan sonra hangi kooperatiflere, nereye, ne girer belli olmaz. <p> Şimdi, bu, daraltılmış gözüküyor alt komisyonda verilen bir önergeyle. Doğru, en azından daraltılması. Fakat bunun da başka sakıncaları var. Yani, daraltıldı, üniversiteler kondu yani üniversitelerde… Ki eskiden biliyorsunuz vakıflar vardı, vakıflar kaldırılınca yerine kooperatifler geldi. Şimdi, bu kooperatiflerle ilgili bir sorun yaşandığı anlaşılıyor. Özele girince anlaşıldı ki Gazi Üniversitesiyle ilgili çok somut bir olay üzerine kanun çıkarıyoruz. Yani, adrese teslim kanun olur mu? Kanun, yasama ilkesi genellik esasına dayalı değil midir? Yani, biz düzenlemeleri tekil durumlar için yapabilir miyiz? Tekil durumlar için yasa çıkarılırsa o zaman her kurum kendi tekil durumu için bir düzenleme istemez mi? Dolayısıyla, neresinden bakarsanız iler tutar tarafı olmayan bir şeydir. Bu iki maddenin mutlaka bu metinden çıkarılması gerekir. <p> Öbür taraftan, tabii, kooperatiflerin çok önemli sorunları var, biz burada bu süfli meselelerle uğraşıyoruz. Türkiye’de kooperatifler çok önemli finansman ve yönetim sorunlarıyla ve denetim sorunlarıyla karşı karşıyalar; esas bunlarla uğraşmalıyız. Esas olarak da Türkiye'nin çok geniş kesimini ilgilendiren tarım satış kooperatifleri olsun, tarım kredi kooperatifleri olsun tarımla ilgili çok önemli kooperatifler var. Örneğin, tarım satış kooperatifleri ve birliklerinin çok ciddi borçları var. Bu borçların devlete olan bölümünü yeniden yapılandırdık. Bunları ödemekte zorluk çekerken normal kooperatifçilik faaliyetlerini sürdürmek için yeniden borçlanıyorlar özel bankalardan ya da kamu bankalarından. Peki, bunu nasıl sürdürecekler? Siz, eğer sorunlara, kooperatifçilik meselesine çözüm istiyorsanız gelin buraya, bu kooperatiflerin ürün alım dönemlerinde onlara enflasyonun yarısı ya da sıfır faizli olmak üzere kredi verelim, dönem içinde, aynı yıl içinde geri ödenmek koşuluyla. Onların üreticiden ürün alabilmeleri ve borçlarını zamanında ödeyebilmelerinin tek yolu budur. <p> Kaldı ki şunu da belirteyim: 2006 yılında, gene Hükûmetiniz tarafından çıkarılan Tarım Kanunu’nun hükümleri, millî gelirin yüzde 1’i oranında tarıma destek verilmesi yönündedir. Eğer oradan bakarsak, 2006’dan 2014’e kadar yüzde 1 değil, yüzde yarımlık bir destek verildiğini dikkate alırsak yani ortalama her yıl için 5 milyar koysanız yaklaşık 35 milyar liralık çiftçiye borcu var bu Hükûmetin, 35 milyar yani 35 katrilyon eski parayla. Bu para, çiftçiye verilebilmiş olsaydı, bugün, çiftçi mazotu yarı fiyatına alırdı. Yani mazotta ÖTV vergisini indirirdi, KDV’yi almazdı ve çiftçi bugün mazotu 5 liradan değil, 2,5 liradan alırdı. Bugün, siz çiftçiye bu kanunen vermek zorunda olduğunuz borcu ödemeyi yapmamakla işte bunu yapıyorsunuz. <p> Tabii, burada yolsuzluk trafiğini yönetmeye sarf edilen zaman ile üreticinin haklarını vermek için ayrılan zaman arasında bir dengesizlik var, bir asimetri var. Yani milletin gerçek hakları ve alacakları üzerine düşünmek yerine, o yolsuzluk trafiğini nasıl hallederiz? Vakıflar üzerinden, telefonlar... Başbakan, ülkenin Başbakanı bunlarla meşgul, bunları yönetiyor, komisyonların nüfus ticaretini yönetiyor. <p> Değerli arkadaşlarım, ne kadar yolsuzluk varsa o kadar yoksulluk vardır. Yani bunlardan biri artarsa yoksulluk artar, yolsuzluk arttığı sürece. Çünkü bu, millete daha az hizmet demektir, daha çok vergi demektir. <p> Şunu da belirteyim son olarak: “Kasadan, devletin kasasından çıkmıyorsa, yolsuzluk olmaz.” yanlıştır, yanıltmadır, milleti kandırmadır. <p> Teşekkür ederim.\", 'text_en': \"Mr. President, there are two regulations in Articles 9 and 10 on the Law of Cooperatives 1163, both of which are the same. <p> When he first came to the commission, he had a public corporate personality in place of the university. So, instead of a public corporate person, a co-operative partner, every common voting rule with a co-op rule, he was able to vote as much as his share of public corporate personality as his capital. Now, that's very inconvenient, of course. So, the Law of Cooperatives, of 1163, which is contrary to the basics of the Law of Cooperatives, which, like a virus, has a way of getting into it... if this goes in, you never know which cooperatives, what goes in next. <p> Now, this seems to be narrowed down with a motion on the subcommittee. Right, at least it's narrowed down. But there are other things wrong with it. I mean, narrowed down, put in universities, which, as you know, used to have foundations, when the foundations were removed, they were replaced by co-ops. Now, there seems to be a problem with these cooperatives. Once we're in private, it turns out we're making a law on a very concrete incident at Gazi University. I mean, would it be a law to deliver to an address? Isn't the rule of law based on generality? I mean, can we make the arrangements for individual situations? If the law is passed for individual situations, wouldn't each institution want an arrangement for its own singularity? So wherever you look, the future is something that has no sides. These two items must be removed from this text. <p> On the other hand, of course, the cooperatives have very important problems, and we're dealing with these sophisticated issues here. Co-operatives in Turkey face very important financing and management problems and control issues; we must deal with them. Mainly, there are agricultural sales co-ops, agricultural loan co-ops, and very important cooperatives related to agriculture. For example, agricultural sales co-ops and their troops have very serious debts. We've reconstructed the part of these loans to the government. When they're having trouble paying for these, they're borrowing again to continue their normal co-op activities from private banks or public banks. So, how are they going to keep this up? You, if you want a solution to problems, the matter of co-op, come here, and let's give them a loan, half of inflation or zero interest in these cooperatives, on condition of repayment in the same year. It's the only way they can get product from the manufacturer and pay off their debts on time. <p> In addition, I would like to point out that in 2006, the provisions of the Agricultural Law, which was issued by your government, again, are that agriculture should be supported by 1 per cent of the national income. If we look from there, from 2006 to 2014, considering that it's not one per cent, it's half per cent, so if you put 5 billion per year on average, it owes about $35 billion to the farmer, which is 35 billion, 35 billion, 35 quadrillion old money. If this money had been given to the farmer, today, the farmer would have bought the diesel for half the price. So in mazotta, he took down the WTV tax, he didn't get the VAT, and today the farmer bought the diesel for $2.5, not $5. Today, this is what you do when you don't pay the farmer the debt you have to legally pay. <p> Of course, there's an imbalance between the time spent running corruption traffic and the time set aside to give the manufacturer the rights, an asymmetry. So instead of thinking about people's real rights and what they're gonna get, how do we deal with that corruption traffic? Through the foundations, the phones... The prime minister, the country's Prime Minister, deals with them, manages them, manages the commissions' population trade. <p> My dear friends, the more corruption there is, the more poverty there is. So if one of these goes up, poverty goes up, as long as corruption goes up. Because that means less service to people, more taxes. <p> Finally, there is no corruption if it does not come out of the vault of the state. It is wrong, it is deception, it is deception. <p> Thank you.\", 'label': 1, '__index_level_0__': 3828, 'input_ids': [0, 8414, 5, 34202, 4, 2685, 621, 6626, 209332, 23, 24241, 7, 483, 136, 209, 98, 70, 36293, 111, 59797, 45023, 7, 534, 15748, 4, 15044, 111, 3129, 621, 70, 5701, 5, 4426, 254, 2740, 14847, 764, 5117, 21449, 47, 70, 62458, 4, 764, 1902, 10, 3835, 145781, 3357, 2481, 23, 3687, 111, 70, 152363, 5, 1061, 4, 64457, 111, 10, 3835, 145781, 3445, 4, 10, 552, 9, 134364, 13, 4755, 4, 11907, 39210, 20875, 214, 79986, 678, 10, 552, 9, 2146, 79986, 4, 764, 509, 19048, 47, 43374, 237, 5045, 237, 1919, 12008, 111, 3835, 145781, 3357, 2481, 237, 1919, 10323, 5, 14240, 4, 450, 25, 7, 4552, 192206, 4, 111, 15411, 5, 1061, 4, 70, 36293, 111, 59797, 45023, 7, 4, 111, 534, 15748, 4, 3129, 83, 2304, 1294, 47, 70, 62822, 7, 111, 70, 36293, 111, 59797, 45023, 7, 4, 3129, 4, 1884, 10, 14994, 4, 1556, 10, 3917, 111, 20949, 3934, 442, 27, 2174, 903, 60899, 23, 4, 398, 8306, 3714, 3129, 57476, 42991, 4, 2367, 60899, 23, 11737, 5, 4426, 254, 2740, 14240, 4, 903, 37202, 47, 186, 24, 18304, 24243, 7565, 678, 10, 78112, 98, 70, 1614, 277, 4007, 67, 13, 5, 90911, 4, 99, 19713, 442, 25, 7, 24, 18304, 24243, 7565, 5, 4966, 2685, 621, 3789, 8966, 44691, 678, 442, 5, 87, 29459, 4, 24, 18304, 24243, 7565, 4, 3884, 23, 141626, 90, 4, 3129, 4, 237, 398, 3714, 4, 11814, 47, 765, 137374, 7, 4, 3229, 70, 137374, 7, 3542, 184750, 4, 1836, 3542, 91995, 71, 390, 552, 9, 68818, 5, 14240, 4, 2685, 37202, 47, 186, 10, 2967, 678, 6097, 57476, 42991, 5, 76556, 642, 25, 107, 23, 14375, 4, 442, 15504, 7, 1810, 642, 25, 107, 20662, 10, 27165, 98, 10, 4552, 122776, 45559, 99, 121689, 12535, 5, 87, 29459, 4, 2806, 442, 186, 10, 27165, 47, 75060, 47, 142, 29823, 32, 2071, 19, 25, 18, 70, 79986, 111, 27165, 35509, 98, 4537, 2481, 32, 87, 29459, 4, 831, 642, 3249, 70, 70767, 7, 100, 11651, 113949, 32, 4263, 70, 27165, 83, 115081, 100, 11651, 113949, 4, 68746, 25, 18, 12638, 38016, 3444, 142, 70767, 100, 6863, 10002, 67824, 2481, 32, 1061, 7440, 814, 398, 6713, 4, 70, 22690, 83, 9844, 450, 1556, 110, 5609, 7, 5, 32255, 6626, 55769, 8110, 186, 184750, 1295, 903, 7986, 5, 4426, 254, 2740, 2161, 70, 3789, 3535, 4, 111, 15411, 4, 70, 57476, 42991, 765, 4552, 5526, 44402, 4, 136, 642, 25, 107, 184017, 678, 6097, 221, 11727, 71412, 3674, 37348, 3688, 5, 1311, 9, 134364, 90, 23, 176672, 2577, 4552, 5526, 38410, 214, 136, 24365, 44402, 136, 6226, 37348, 74, 642, 8110, 35142, 678, 2856, 5, 12321, 538, 4, 2685, 621, 120767, 141, 40575, 552, 9, 68818, 4, 120767, 141, 111628, 552, 9, 68818, 4, 136, 4552, 5526, 57476, 42991, 62548, 47, 6, 177849, 5, 1326, 27781, 4, 120767, 141, 40575, 552, 9, 68818, 136, 2363, 3428, 68818, 765, 4552, 85583, 130815, 7, 5, 1401, 25, 272, 122905, 89829, 70, 2831, 111, 6097, 111628, 7, 47, 70, 27759, 5, 14847, 1836, 25, 2], 'attention_mask': [1, 1, 1, 1, 1, 1, 1, 1, 1, 1, 1, 1, 1, 1, 1, 1, 1, 1, 1, 1, 1, 1, 1, 1, 1, 1, 1, 1, 1, 1, 1, 1, 1, 1, 1, 1, 1, 1, 1, 1, 1, 1, 1, 1, 1, 1, 1, 1, 1, 1, 1, 1, 1, 1, 1, 1, 1, 1, 1, 1, 1, 1, 1, 1, 1, 1, 1, 1, 1, 1, 1, 1, 1, 1, 1, 1, 1, 1, 1, 1, 1, 1, 1, 1, 1, 1, 1, 1, 1, 1, 1, 1, 1, 1, 1, 1, 1, 1, 1, 1, 1, 1, 1, 1, 1, 1, 1, 1, 1, 1, 1, 1, 1, 1, 1, 1, 1, 1, 1, 1, 1, 1, 1, 1, 1, 1, 1, 1, 1, 1, 1, 1, 1, 1, 1, 1, 1, 1, 1, 1, 1, 1, 1, 1, 1, 1, 1, 1, 1, 1, 1, 1, 1, 1, 1, 1, 1, 1, 1, 1, 1, 1, 1, 1, 1, 1, 1, 1, 1, 1, 1, 1, 1, 1, 1, 1, 1, 1, 1, 1, 1, 1, 1, 1, 1, 1, 1, 1, 1, 1, 1, 1, 1, 1, 1, 1, 1, 1, 1, 1, 1, 1, 1, 1, 1, 1, 1, 1, 1, 1, 1, 1, 1, 1, 1, 1, 1, 1, 1, 1, 1, 1, 1, 1, 1, 1, 1, 1, 1, 1, 1, 1, 1, 1, 1, 1, 1, 1, 1, 1, 1, 1, 1, 1, 1, 1, 1, 1, 1, 1, 1, 1, 1, 1, 1, 1, 1, 1, 1, 1, 1, 1, 1, 1, 1, 1, 1, 1, 1, 1, 1, 1, 1, 1, 1, 1, 1, 1, 1, 1, 1, 1, 1, 1, 1, 1, 1, 1, 1, 1, 1, 1, 1, 1, 1, 1, 1, 1, 1, 1, 1, 1, 1, 1, 1, 1, 1, 1, 1, 1, 1, 1, 1, 1, 1, 1, 1, 1, 1, 1, 1, 1, 1, 1, 1, 1, 1, 1, 1, 1, 1, 1, 1, 1, 1, 1, 1, 1, 1, 1, 1, 1, 1, 1, 1, 1, 1, 1, 1, 1, 1, 1, 1, 1, 1, 1, 1, 1, 1, 1, 1, 1, 1, 1, 1, 1, 1, 1, 1, 1, 1, 1, 1, 1, 1, 1, 1, 1, 1, 1, 1, 1, 1, 1, 1, 1, 1, 1, 1, 1, 1, 1, 1, 1, 1, 1, 1, 1, 1, 1, 1, 1, 1, 1, 1, 1, 1, 1, 1, 1, 1, 1, 1, 1, 1, 1, 1, 1, 1, 1, 1, 1, 1, 1, 1, 1, 1, 1, 1, 1, 1, 1, 1, 1, 1, 1, 1, 1, 1, 1, 1, 1, 1, 1, 1, 1, 1, 1, 1, 1, 1, 1, 1, 1, 1, 1, 1, 1, 1, 1, 1, 1, 1, 1, 1, 1, 1, 1, 1, 1, 1, 1, 1, 1, 1, 1, 1, 1, 1, 1, 1, 1, 1, 1, 1, 1, 1, 1, 1, 1, 1, 1, 1, 1, 1, 1, 1, 1, 1, 1, 1, 1, 1, 1, 1, 1, 1, 1, 1, 1, 1, 1]}\n"
          ]
        }
      ]
    },
    {
      "cell_type": "code",
      "source": [
        "eval_results = trainer.evaluate()\n",
        "#print(eval_results)  # Includes the accuracy metric"
      ],
      "metadata": {
        "colab": {
          "base_uri": "https://localhost:8080/",
          "height": 75
        },
        "id": "o5rgYUkdExh_",
        "outputId": "3292e740-275c-4619-da39-ad27df5e967b"
      },
      "execution_count": 30,
      "outputs": [
        {
          "output_type": "display_data",
          "data": {
            "text/plain": [
              "<IPython.core.display.HTML object>"
            ],
            "text/html": [
              "\n",
              "    <div>\n",
              "      \n",
              "      <progress value='218' max='109' style='width:300px; height:20px; vertical-align: middle;'></progress>\n",
              "      [109/109 00:29]\n",
              "    </div>\n",
              "    "
            ]
          },
          "metadata": {}
        },
        {
          "output_type": "stream",
          "name": "stdout",
          "text": [
            "Step 0: Evaluation Metrics: {'eval_loss': 0.6989629864692688, 'eval_model_preparation_time': 0.0042, 'eval_accuracy': 0.4864864864864865, 'eval_f1': 0.0, 'eval_runtime': 6.8434, 'eval_samples_per_second': 254.112, 'eval_steps_per_second': 15.928}\n"
          ]
        }
      ]
    },
    {
      "cell_type": "code",
      "source": [
        "trainer.train()"
      ],
      "metadata": {
        "colab": {
          "base_uri": "https://localhost:8080/",
          "height": 1000
        },
        "id": "O58npc-Om-ho",
        "outputId": "f60702cb-5909-4f8c-97f4-b5f46e7ec031"
      },
      "execution_count": 31,
      "outputs": [
        {
          "output_type": "display_data",
          "data": {
            "text/plain": [
              "<IPython.core.display.HTML object>"
            ],
            "text/html": [
              "\n",
              "    <div>\n",
              "      \n",
              "      <progress value='324' max='324' style='width:300px; height:20px; vertical-align: middle;'></progress>\n",
              "      [324/324 12:28, Epoch 2/3]\n",
              "    </div>\n",
              "    <table border=\"1\" class=\"dataframe\">\n",
              "  <thead>\n",
              " <tr style=\"text-align: left;\">\n",
              "      <th>Step</th>\n",
              "      <th>Training Loss</th>\n",
              "      <th>Validation Loss</th>\n",
              "      <th>Model Preparation Time</th>\n",
              "      <th>Accuracy</th>\n",
              "      <th>F1</th>\n",
              "    </tr>\n",
              "  </thead>\n",
              "  <tbody>\n",
              "    <tr>\n",
              "      <td>20</td>\n",
              "      <td>2.789200</td>\n",
              "      <td>0.689384</td>\n",
              "      <td>0.004200</td>\n",
              "      <td>0.524439</td>\n",
              "      <td>0.175474</td>\n",
              "    </tr>\n",
              "    <tr>\n",
              "      <td>40</td>\n",
              "      <td>2.678800</td>\n",
              "      <td>0.658267</td>\n",
              "      <td>0.004200</td>\n",
              "      <td>0.706728</td>\n",
              "      <td>0.720395</td>\n",
              "    </tr>\n",
              "    <tr>\n",
              "      <td>60</td>\n",
              "      <td>2.280600</td>\n",
              "      <td>0.525063</td>\n",
              "      <td>0.004200</td>\n",
              "      <td>0.757907</td>\n",
              "      <td>0.742822</td>\n",
              "    </tr>\n",
              "    <tr>\n",
              "      <td>80</td>\n",
              "      <td>1.983000</td>\n",
              "      <td>0.488848</td>\n",
              "      <td>0.004200</td>\n",
              "      <td>0.780909</td>\n",
              "      <td>0.768389</td>\n",
              "    </tr>\n",
              "    <tr>\n",
              "      <td>100</td>\n",
              "      <td>1.879900</td>\n",
              "      <td>0.442651</td>\n",
              "      <td>0.004200</td>\n",
              "      <td>0.806786</td>\n",
              "      <td>0.791563</td>\n",
              "    </tr>\n",
              "    <tr>\n",
              "      <td>120</td>\n",
              "      <td>1.656300</td>\n",
              "      <td>0.374199</td>\n",
              "      <td>0.004200</td>\n",
              "      <td>0.838988</td>\n",
              "      <td>0.832335</td>\n",
              "    </tr>\n",
              "    <tr>\n",
              "      <td>140</td>\n",
              "      <td>1.540100</td>\n",
              "      <td>0.383024</td>\n",
              "      <td>0.004200</td>\n",
              "      <td>0.838988</td>\n",
              "      <td>0.854167</td>\n",
              "    </tr>\n",
              "    <tr>\n",
              "      <td>160</td>\n",
              "      <td>1.505700</td>\n",
              "      <td>0.364249</td>\n",
              "      <td>0.004200</td>\n",
              "      <td>0.845313</td>\n",
              "      <td>0.844957</td>\n",
              "    </tr>\n",
              "    <tr>\n",
              "      <td>180</td>\n",
              "      <td>1.404700</td>\n",
              "      <td>0.321477</td>\n",
              "      <td>0.004200</td>\n",
              "      <td>0.861415</td>\n",
              "      <td>0.862678</td>\n",
              "    </tr>\n",
              "    <tr>\n",
              "      <td>200</td>\n",
              "      <td>1.376300</td>\n",
              "      <td>0.337300</td>\n",
              "      <td>0.004200</td>\n",
              "      <td>0.852789</td>\n",
              "      <td>0.859186</td>\n",
              "    </tr>\n",
              "    <tr>\n",
              "      <td>220</td>\n",
              "      <td>1.371900</td>\n",
              "      <td>0.335824</td>\n",
              "      <td>0.004200</td>\n",
              "      <td>0.849339</td>\n",
              "      <td>0.839657</td>\n",
              "    </tr>\n",
              "    <tr>\n",
              "      <td>240</td>\n",
              "      <td>1.202700</td>\n",
              "      <td>0.326286</td>\n",
              "      <td>0.004200</td>\n",
              "      <td>0.863140</td>\n",
              "      <td>0.864310</td>\n",
              "    </tr>\n",
              "    <tr>\n",
              "      <td>260</td>\n",
              "      <td>1.129700</td>\n",
              "      <td>0.311485</td>\n",
              "      <td>0.004200</td>\n",
              "      <td>0.868315</td>\n",
              "      <td>0.868466</td>\n",
              "    </tr>\n",
              "    <tr>\n",
              "      <td>280</td>\n",
              "      <td>1.105800</td>\n",
              "      <td>0.329633</td>\n",
              "      <td>0.004200</td>\n",
              "      <td>0.864290</td>\n",
              "      <td>0.866061</td>\n",
              "    </tr>\n",
              "    <tr>\n",
              "      <td>300</td>\n",
              "      <td>1.207500</td>\n",
              "      <td>0.313171</td>\n",
              "      <td>0.004200</td>\n",
              "      <td>0.872915</td>\n",
              "      <td>0.879433</td>\n",
              "    </tr>\n",
              "    <tr>\n",
              "      <td>320</td>\n",
              "      <td>1.079300</td>\n",
              "      <td>0.306924</td>\n",
              "      <td>0.004200</td>\n",
              "      <td>0.874066</td>\n",
              "      <td>0.873043</td>\n",
              "    </tr>\n",
              "  </tbody>\n",
              "</table><p>"
            ]
          },
          "metadata": {}
        },
        {
          "output_type": "display_data",
          "data": {
            "text/plain": [
              "<IPython.core.display.HTML object>"
            ],
            "text/html": [
              "\n",
              "    <div>\n",
              "      \n",
              "      <progress value='327' max='109' style='width:300px; height:20px; vertical-align: middle;'></progress>\n",
              "      [109/109 01:18]\n",
              "    </div>\n",
              "    "
            ]
          },
          "metadata": {}
        },
        {
          "output_type": "stream",
          "name": "stdout",
          "text": [
            "Step 20: Evaluation Metrics: {'eval_loss': 0.6893837451934814, 'eval_model_preparation_time': 0.0042, 'eval_accuracy': 0.5244393329499712, 'eval_f1': 0.17547357926221335, 'eval_runtime': 6.9875, 'eval_samples_per_second': 248.872, 'eval_steps_per_second': 15.599, 'epoch': 0.1839080459770115}\n",
            "Step 20: Learning Rate = 0.00001212\n",
            "Step 40: Evaluation Metrics: {'eval_loss': 0.6582668423652649, 'eval_model_preparation_time': 0.0042, 'eval_accuracy': 0.706728004600345, 'eval_f1': 0.7203947368421053, 'eval_runtime': 7.0807, 'eval_samples_per_second': 245.597, 'eval_steps_per_second': 15.394, 'epoch': 0.367816091954023}\n",
            "Step 40: Learning Rate = 0.00001959\n",
            "Step 60: Evaluation Metrics: {'eval_loss': 0.525062620639801, 'eval_model_preparation_time': 0.0042, 'eval_accuracy': 0.757906843013226, 'eval_f1': 0.74282223579719, 'eval_runtime': 7.0269, 'eval_samples_per_second': 247.477, 'eval_steps_per_second': 15.512, 'epoch': 0.5517241379310345}\n",
            "Step 60: Learning Rate = 0.00001821\n",
            "Step 80: Evaluation Metrics: {'eval_loss': 0.4888480007648468, 'eval_model_preparation_time': 0.0042, 'eval_accuracy': 0.7809085681426107, 'eval_f1': 0.7683890577507598, 'eval_runtime': 7.0456, 'eval_samples_per_second': 246.819, 'eval_steps_per_second': 15.471, 'epoch': 0.735632183908046}\n",
            "Step 80: Learning Rate = 0.00001698\n",
            "Step 100: Evaluation Metrics: {'eval_loss': 0.4426513910293579, 'eval_model_preparation_time': 0.0042, 'eval_accuracy': 0.8067855089131685, 'eval_f1': 0.7915632754342432, 'eval_runtime': 7.0564, 'eval_samples_per_second': 246.443, 'eval_steps_per_second': 15.447, 'epoch': 0.9195402298850575}\n",
            "Step 100: Learning Rate = 0.00001560\n",
            "Step 120: Evaluation Metrics: {'eval_loss': 0.3741994798183441, 'eval_model_preparation_time': 0.0042, 'eval_accuracy': 0.8389879240943071, 'eval_f1': 0.8323353293413174, 'eval_runtime': 7.0523, 'eval_samples_per_second': 246.587, 'eval_steps_per_second': 15.456, 'epoch': 1.110344827586207}\n",
            "Step 120: Learning Rate = 0.00001423\n",
            "Step 140: Evaluation Metrics: {'eval_loss': 0.3830244839191437, 'eval_model_preparation_time': 0.0042, 'eval_accuracy': 0.8389879240943071, 'eval_f1': 0.8541666666666666, 'eval_runtime': 7.0446, 'eval_samples_per_second': 246.854, 'eval_steps_per_second': 15.473, 'epoch': 1.2942528735632184}\n",
            "Step 140: Learning Rate = 0.00001285\n",
            "Step 160: Evaluation Metrics: {'eval_loss': 0.3642491102218628, 'eval_model_preparation_time': 0.0042, 'eval_accuracy': 0.8453133985048878, 'eval_f1': 0.8449567723342939, 'eval_runtime': 7.0415, 'eval_samples_per_second': 246.963, 'eval_steps_per_second': 15.48, 'epoch': 1.4781609195402299}\n",
            "Step 160: Learning Rate = 0.00001148\n",
            "Step 180: Evaluation Metrics: {'eval_loss': 0.321477472782135, 'eval_model_preparation_time': 0.0042, 'eval_accuracy': 0.8614146060954572, 'eval_f1': 0.8626780626780627, 'eval_runtime': 7.0486, 'eval_samples_per_second': 246.714, 'eval_steps_per_second': 15.464, 'epoch': 1.6620689655172414}\n",
            "Step 180: Learning Rate = 0.00001010\n",
            "Step 200: Evaluation Metrics: {'eval_loss': 0.3372995853424072, 'eval_model_preparation_time': 0.0042, 'eval_accuracy': 0.8527889591719379, 'eval_f1': 0.8591859185918592, 'eval_runtime': 7.0494, 'eval_samples_per_second': 246.688, 'eval_steps_per_second': 15.462, 'epoch': 1.8459770114942529}\n",
            "Step 200: Learning Rate = 0.00000873\n",
            "Step 220: Evaluation Metrics: {'eval_loss': 0.33582431077957153, 'eval_model_preparation_time': 0.0042, 'eval_accuracy': 0.8493387004025302, 'eval_f1': 0.8396572827417381, 'eval_runtime': 7.095, 'eval_samples_per_second': 245.101, 'eval_steps_per_second': 15.363, 'epoch': 2.036781609195402}\n",
            "Step 220: Learning Rate = 0.00000742\n",
            "Step 240: Evaluation Metrics: {'eval_loss': 0.32628604769706726, 'eval_model_preparation_time': 0.0042, 'eval_accuracy': 0.863139735480161, 'eval_f1': 0.8643101482326112, 'eval_runtime': 7.0452, 'eval_samples_per_second': 246.835, 'eval_steps_per_second': 15.472, 'epoch': 2.220689655172414}\n",
            "Step 240: Learning Rate = 0.00000605\n",
            "Step 260: Evaluation Metrics: {'eval_loss': 0.31148475408554077, 'eval_model_preparation_time': 0.0042, 'eval_accuracy': 0.8683151236342725, 'eval_f1': 0.8684663986214819, 'eval_runtime': 7.0409, 'eval_samples_per_second': 246.985, 'eval_steps_per_second': 15.481, 'epoch': 2.4045977011494255}\n",
            "Step 260: Learning Rate = 0.00000467\n",
            "Step 280: Evaluation Metrics: {'eval_loss': 0.32963332533836365, 'eval_model_preparation_time': 0.0042, 'eval_accuracy': 0.8642898217366303, 'eval_f1': 0.8660612939841089, 'eval_runtime': 7.0436, 'eval_samples_per_second': 246.891, 'eval_steps_per_second': 15.475, 'epoch': 2.5885057471264368}\n",
            "Step 280: Learning Rate = 0.00000330\n",
            "Step 300: Evaluation Metrics: {'eval_loss': 0.3131711483001709, 'eval_model_preparation_time': 0.0042, 'eval_accuracy': 0.8729154686601495, 'eval_f1': 0.8794326241134752, 'eval_runtime': 7.0744, 'eval_samples_per_second': 245.815, 'eval_steps_per_second': 15.408, 'epoch': 2.772413793103448}\n",
            "Step 300: Learning Rate = 0.00000192\n",
            "Step 320: Evaluation Metrics: {'eval_loss': 0.30692386627197266, 'eval_model_preparation_time': 0.0042, 'eval_accuracy': 0.8740655549166187, 'eval_f1': 0.8730434782608696, 'eval_runtime': 7.0461, 'eval_samples_per_second': 246.805, 'eval_steps_per_second': 15.47, 'epoch': 2.9563218390804598}\n",
            "Step 320: Learning Rate = 0.00000055\n"
          ]
        },
        {
          "output_type": "stream",
          "name": "stderr",
          "text": [
            "Could not locate the best model at ./test_trainer/checkpoint-320/pytorch_model.bin, if you are running a distributed training on multiple nodes, you should activate `--save_on_each_node`.\n"
          ]
        },
        {
          "output_type": "execute_result",
          "data": {
            "text/plain": [
              "TrainOutput(global_step=324, training_loss=1.6304991009794636, metrics={'train_runtime': 750.6636, 'train_samples_per_second': 55.575, 'train_steps_per_second': 0.432, 'total_flos': 1.0945419902976e+16, 'train_loss': 1.6304991009794636, 'epoch': 2.9931034482758623})"
            ]
          },
          "metadata": {},
          "execution_count": 31
        }
      ]
    },
    {
      "cell_type": "code",
      "source": [
        "tokenized_test_dataset = test_dataset.map(tokenize_function, batched=True)"
      ],
      "metadata": {
        "colab": {
          "base_uri": "https://localhost:8080/",
          "height": 69,
          "referenced_widgets": [
            "cbfaed7297944271bbf338403c0d107e",
            "89e8a134e38e4fbebf80318a16f17877",
            "6effd25fe93e46d78368b0b2effe8839",
            "4e1aaf83e6e94737a1c07971bf1e4223",
            "84aac4f944b14c9c816196b69fe248c2",
            "2000f9cb0be94f7782b9ef9003e1d01d",
            "260ba144b5724e45a8d375e1d0cdf3cc",
            "8316bcd93d61440bb963d2fedda416c5",
            "439f672e88244b99a93d4bb1173ae095",
            "db634f8e07d248e781a33ac41186c3f4",
            "a9b1d0b2e589464989c3b498682acc27"
          ]
        },
        "id": "i_ZsBX0jKyvs",
        "outputId": "0ca22552-5862-4e4a-e8ee-bc745b584381"
      },
      "execution_count": null,
      "outputs": [
        {
          "output_type": "display_data",
          "data": {
            "text/plain": [
              "Map:   0%|          | 0/1614 [00:00<?, ? examples/s]"
            ],
            "application/vnd.jupyter.widget-view+json": {
              "version_major": 2,
              "version_minor": 0,
              "model_id": "cbfaed7297944271bbf338403c0d107e"
            }
          },
          "metadata": {}
        }
      ]
    },
    {
      "cell_type": "code",
      "source": [
        "print(f'Train Dataset Column Names:{train_dataset.column_names}')\n",
        "print(f'Tokenized Train Dataset Column Names:{tokenized_train_dataset.column_names}')\n",
        "example = tokenized_train_dataset[0]\n",
        "print(f'first element of tokenized dateset{example}')\n"
      ],
      "metadata": {
        "colab": {
          "base_uri": "https://localhost:8080/"
        },
        "id": "ZB8v33XgM7R-",
        "outputId": "3fc5b038-f718-4811-cb68-bf4465f9c336"
      },
      "execution_count": null,
      "outputs": [
        {
          "output_type": "stream",
          "name": "stdout",
          "text": [
            "Train Dataset Column Names:['id', 'speaker', 'sex', 'text', 'text_en', 'label', '__index_level_0__']\n",
            "Tokenized Train Dataset Column Names:['id', 'speaker', 'sex', 'text', 'text_en', 'label', '__index_level_0__', 'input_ids', 'attention_mask']\n",
            "first element of tokenized dateset{'id': 'tr01677', 'speaker': '9c3b4ba137bad5f955ec4fb3dbddafd8', 'sex': 'M', 'text': 'Sayın Başkan, değerli milletvekilleri; 8 Ekim ve sonrasında yaptığı konuşmayla geçmişte olduğu gibi bugünde de işkence ve kötü muameleye karşı olduğunu, faili meçhul cinayetlerin son bulmasını, köy boşaltmalarının ortadan kaldırılmasını, bölge halkıyla kucaklaşarak birlikte hareket edilmesinin takdir edilecek bir davranış olduğunu; 80 sonrasında, başta Mamak’ta olmak kaydıyla, yurdun pek çok noktasında “Mektebi Yusufiye” olarak adlandırılan çilehanelerde kimsesiz ve sahipsiz ülkücülerin arkasında durduğu gibi bugün de mazlumun, mağdurun yanında olmak gerektiğini, işkence ve insanlık dışı uygulamaların terörü tırmandırmasına kimsenin sahip çıkmaması gerektiğini bizzat Sayın Arınç vurgulamıştır. Yıllarını milleti ve milletin manevi değerlerini üstün tutmak için mücadele vermiş, insanların hizmetine adamış; 12 Eylül 80 sonrası ülkemizin birliği ve beraberliği adına, kutsal saydığı değerler için mücadele etmiş ülkücü gençlerin davalarına bilabedel avukatlık yapmış, saydam ve saygın bir kişiliğe sahip Sayın Bülent Arınç hakkında, terörle mücadele eden güvenlik güçlerinin moralini ve azmini zayıflattığı iddiasında bulunmak son derece yakışıksız ve siyasi etikten yoksun bir davranıştır. <p> Sayın Arınç hakkında gensoru açılmasını talep eden <PARTY> Grubu, 11 Kasım 2012 tarihli Genel Kurulda yapılan görüşmeler esnasında, yüce Meclisin 11 ve 12 Kasım tarihlerinde çalıştırılmaması karşılığında gensoru önergesinin geri çekileceğini beyan etmiş olmakla, aslında kendi ileri sürdükleri iddialara kendilerinin de inanmadığını bizzat göstermişlerdir. <p> <PARTY> mensubu hiçbir milletvekili ve bakanın, özellikle Sayın Başbakan Yardımcımız Bülent Arınç Bey’in, bölücü terör örgütüne moral veren, umut aşılayan, bölücü emellere haklılık kazandıracak konuşmalar yapması ve teröristlerle görüşmeyi, onlarla kimlik ve Anayasa tartışmaları yapmayı normal, sıradan vakalar olarak kamuoyuna takdim eden açıklamalar yapması; canı pahasına ülkesi ve milletin bölünmez bütünlüğü için terörle mücadele eden güvenlik güçlerimizin psikolojisini, moralini, azmini ve mücadele gücünü zayıflatan açıklamalar yapması mümkün değildir. Bilakis, tam tersine, bölücü terör örgütüne karşı bölge halkının demokratik haklarını koruyan ve kollayan, bu ülkede bir tek insanımızın dahi burnunun kanamasına razı olmayan, “Önce insan.” diyerek insan hak ve hürriyetlerini önceleyen bir anlayışın en önde gelen isimlerinden biridir Sayın Arınç. <p> Bu itibarla, özellikle 57’nci Hükûmetle alakalı Aytun Çıray Bey’in ifade ettiği bir söz… “Ekonomik olarak çok iyi bir durumda bıraktık.” dediğinizde, İnternet’e girip baktığınızda 57’nci Hükûmetle alakalı çıkan ilk yazı şudur: AB uyum paketlerinin ilk üçü çıkarılmıştır. Bu paket uyarınca idam cezasının kaldırılması ve o dönem gündemde bulunan PKK lideri Abdullah Öcalan’ın da bu kanundan yararlanarak idam edilmemesi uzun tartışmalara sebep olan bir Hükûmet olarak değerlendirmiş… <p> …bu Hükûmetin sonunun ise 2001 Türkiye ekonomik krizi ve “kara çarşamba” olarak tarihe geçen… <p> …cumhuriyet tarihinin en büyük krizi sonunda gerçekleştiğini ifade etmiştir. <p> Bu duygu, bu düşüncelerle gensorunun aleyhinde oy kullanacağımı ifade ediyor, yüce heyetinizi saygıyla selamlıyorum.', 'text_en': \"Mr. President, the esteemed MPs have stressed in many parts of the country that they are against torture and abuse, as they have done since October 8th and since then, as they stand today, the end of the unsolved killings, the removal of the village evacuations, the act of co-operation with the people of the region; and that no one after 80 shall have to climb terrors and terrors, especially in the case of Mamak. It is highly inappropriate to claim that the security forces fighting terrorism have weakened the morale and the tenacity of security forces, which are transparent and respectable about Mr. Bkent Arinc, who have fought the trials of international youths who fought for the unity and unity of our country after September 12th 80th and fought for the values that he considered sacred. <p> During talks held at the General Assembly on November 11, 2012, the National Movement Party Group, which has demanded that Mr. Arinc be opened a gene question about Mr. Arinc, has personally shown that they do not believe the allegations they have made, in fact, that the Supreme Assembly's motion would be withdrawn in exchange for its absence on November 11th and 12th. <p> It is not possible for Mr. Bulent Arinc Bey, our Deputy Prime Minister, in particular, to speak to the separatist terrorist organization for morale, to inspire hope, to justify separatist ambitions, and to speak to terrorists, to present to the public as normal cases of identity and the Constitution, to present public arguments with them as ordinary cases -- the psychology, morale, determination, and the strength of our security forces fighting terror for the undistributable integrity of the country and the nation at the expense of their lives. On the contrary, Mr. Arinc is one of the leading figures of an understanding that predates human rights and freedoms, saying that the people of this country, who protects and protects and protects the democratic rights of the separatist terrorist organization, protects and protects the democratic rights of the people of the region, are the first people in this country who do not consent to bleeding even our own people's noses. <p> This is the first article of the 57th government in particular, which is expressed by Aytun Çıray Bey. When you go to the Internet and look at it, the first article about the 57th government is this: the first three of the EU integration packages have been removed. In accordance with this package, the removal of the death penalty and the absence of the execution of PKK leader Abdullah Ocalan. <p> ...the end of this government is 2001 Turkey's economic crisis and history as black Wednesday... <p> ...the greatest crisis in the history of the Republic. <p> This feeling is that I will vote against your client with these thoughts, and I salute your grand delegation.\", 'label': 1, '__index_level_0__': 1677, 'input_ids': [0, 116371, 41887, 4, 91184, 8058, 13733, 13595, 1341, 74, 382, 50288, 173, 100233, 23681, 43049, 7809, 67964, 67, 5555, 3197, 29345, 112, 8, 4659, 1098, 329, 173, 49664, 7449, 32128, 1033, 9164, 7033, 4, 35782, 14, 163, 2738, 28952, 215914, 4670, 775, 11876, 39510, 4, 69041, 45695, 7010, 192, 4793, 165870, 53307, 119786, 4, 37921, 64980, 30153, 228, 20264, 24229, 13489, 14208, 25392, 74009, 694, 466, 936, 197220, 263, 100214, 7033, 74, 2248, 100233, 4, 101396, 22991, 92, 26, 102, 14302, 187702, 7809, 4, 113, 56774, 19, 14828, 2162, 138922, 1127, 52, 6696, 17419, 964, 80407, 8380, 63, 2086, 102616, 17658, 16330, 133, 34414, 11098, 46137, 4900, 173, 13980, 4900, 56658, 14269, 8893, 4670, 195073, 7920, 39349, 3197, 29345, 8, 17022, 4689, 309, 4, 229147, 309, 28607, 14302, 95197, 4, 4659, 1098, 329, 173, 8371, 4355, 87353, 170704, 19, 704, 48374, 6, 11701, 669, 2544, 50013, 46137, 694, 13980, 89270, 8390, 95197, 7124, 10288, 116371, 1172, 1110, 2738, 130763, 143, 35237, 5, 72645, 4242, 8058, 118, 173, 8058, 2311, 332, 14083, 181286, 93, 54840, 126621, 92, 1099, 43462, 66408, 4, 37403, 62749, 86, 1243, 9027, 74, 427, 54846, 2248, 81917, 141010, 73, 176848, 173, 41719, 10977, 40000, 4, 28600, 2317, 5154, 14747, 58608, 603, 1099, 43462, 40832, 56658, 14269, 8893, 131461, 73, 59674, 7551, 2224, 372, 1743, 185, 37207, 4355, 112617, 4, 5154, 6229, 173, 90814, 19, 263, 15847, 90498, 13980, 116371, 234716, 1172, 1110, 2738, 21152, 4, 70631, 133, 43462, 12191, 78990, 54988, 13219, 53321, 93, 173, 295, 9222, 159512, 2335, 31048, 29758, 10180, 64547, 92, 775, 37284, 151, 12558, 36758, 10782, 173, 25891, 6, 14667, 510, 11767, 6548, 263, 100214, 11701, 5, 4426, 254, 2740, 116371, 1172, 1110, 2738, 21152, 29038, 30442, 176319, 4920, 93248, 12191, 4426, 88601, 1723, 2740, 161373, 4, 534, 53415, 1324, 176431, 20332, 104478, 34206, 18056, 172406, 235430, 4, 113, 3449, 329, 81625, 73, 534, 173, 427, 53415, 111643, 1067, 93848, 201129, 8390, 9164, 62463, 29038, 30442, 111291, 27616, 8144, 11227, 21622, 379, 94277, 186, 1643, 40832, 14302, 143, 4, 78618, 11837, 110556, 30369, 15943, 89632, 29758, 3945, 158943, 19, 8, 23, 66, 177560, 7124, 10288, 32118, 159581, 936, 5, 4426, 254, 2740, 4426, 88601, 1723, 2740, 5101, 34, 978, 39236, 210030, 173, 29853, 1402, 4, 37789, 116371, 91200, 113388, 238, 31419, 234716, 1172, 1110, 2738, 41505, 26, 73, 4, 34178, 5374, 8893, 70631, 148062, 86, 14392, 30212, 4, 286, 1003, 10, 26299, 18616, 4, 34178, 5374, 8893, 47545, 6660, 9796, 1304, 4355, 77456, 42, 14228, 43049, 320, 202435, 173, 70631, 1419, 22159, 124669, 2387, 4, 165212, 190385, 173, 196591, 135460, 980, 199008, 3638, 4, 68293, 19, 307, 161, 320, 2086, 218850, 76, 466, 5771, 12191, 46595, 320, 202435, 74, 831, 1057, 59769, 14728, 201172, 173, 8058, 2311, 175880, 11723, 7609, 56700, 1099, 70631, 133, 43462, 12191, 78990, 54988, 125559, 100305, 22811, 5234, 4, 53321, 93, 4, 295, 9222, 173, 43462, 175559, 159512, 106326, 46595, 320, 202435, 25639, 47449, 5, 14811, 9637, 4, 1481, 78605, 86, 4, 34178, 5374, 8893, 70631, 148062, 86, 9164, 37921, 146551, 1110, 57535, 9796, 4242, 57090, 1643, 173, 50250, 2], 'attention_mask': [1, 1, 1, 1, 1, 1, 1, 1, 1, 1, 1, 1, 1, 1, 1, 1, 1, 1, 1, 1, 1, 1, 1, 1, 1, 1, 1, 1, 1, 1, 1, 1, 1, 1, 1, 1, 1, 1, 1, 1, 1, 1, 1, 1, 1, 1, 1, 1, 1, 1, 1, 1, 1, 1, 1, 1, 1, 1, 1, 1, 1, 1, 1, 1, 1, 1, 1, 1, 1, 1, 1, 1, 1, 1, 1, 1, 1, 1, 1, 1, 1, 1, 1, 1, 1, 1, 1, 1, 1, 1, 1, 1, 1, 1, 1, 1, 1, 1, 1, 1, 1, 1, 1, 1, 1, 1, 1, 1, 1, 1, 1, 1, 1, 1, 1, 1, 1, 1, 1, 1, 1, 1, 1, 1, 1, 1, 1, 1, 1, 1, 1, 1, 1, 1, 1, 1, 1, 1, 1, 1, 1, 1, 1, 1, 1, 1, 1, 1, 1, 1, 1, 1, 1, 1, 1, 1, 1, 1, 1, 1, 1, 1, 1, 1, 1, 1, 1, 1, 1, 1, 1, 1, 1, 1, 1, 1, 1, 1, 1, 1, 1, 1, 1, 1, 1, 1, 1, 1, 1, 1, 1, 1, 1, 1, 1, 1, 1, 1, 1, 1, 1, 1, 1, 1, 1, 1, 1, 1, 1, 1, 1, 1, 1, 1, 1, 1, 1, 1, 1, 1, 1, 1, 1, 1, 1, 1, 1, 1, 1, 1, 1, 1, 1, 1, 1, 1, 1, 1, 1, 1, 1, 1, 1, 1, 1, 1, 1, 1, 1, 1, 1, 1, 1, 1, 1, 1, 1, 1, 1, 1, 1, 1, 1, 1, 1, 1, 1, 1, 1, 1, 1, 1, 1, 1, 1, 1, 1, 1, 1, 1, 1, 1, 1, 1, 1, 1, 1, 1, 1, 1, 1, 1, 1, 1, 1, 1, 1, 1, 1, 1, 1, 1, 1, 1, 1, 1, 1, 1, 1, 1, 1, 1, 1, 1, 1, 1, 1, 1, 1, 1, 1, 1, 1, 1, 1, 1, 1, 1, 1, 1, 1, 1, 1, 1, 1, 1, 1, 1, 1, 1, 1, 1, 1, 1, 1, 1, 1, 1, 1, 1, 1, 1, 1, 1, 1, 1, 1, 1, 1, 1, 1, 1, 1, 1, 1, 1, 1, 1, 1, 1, 1, 1, 1, 1, 1, 1, 1, 1, 1, 1, 1, 1, 1, 1, 1, 1, 1, 1, 1, 1, 1, 1, 1, 1, 1, 1, 1, 1, 1, 1, 1, 1, 1, 1, 1, 1, 1, 1, 1, 1, 1, 1, 1, 1, 1, 1, 1, 1, 1, 1, 1, 1, 1, 1, 1, 1, 1, 1, 1, 1, 1, 1, 1, 1, 1, 1, 1, 1, 1, 1, 1, 1, 1, 1, 1, 1, 1, 1, 1, 1, 1, 1, 1, 1, 1, 1, 1, 1, 1, 1, 1, 1, 1, 1, 1, 1, 1, 1, 1, 1, 1, 1, 1, 1, 1, 1, 1, 1, 1, 1, 1, 1, 1, 1, 1, 1, 1, 1, 1, 1, 1, 1, 1, 1, 1, 1, 1, 1, 1, 1, 1, 1, 1, 1, 1, 1, 1, 1, 1, 1, 1, 1]}\n"
          ]
        }
      ]
    },
    {
      "cell_type": "code",
      "source": [
        "print(tokenized_train_dataset['label'][:10])  # Check the first 10 labels\n",
        "\n",
        "# Ensure labels are integers\n",
        "if not all(isinstance(label, int) for label in tokenized_train_dataset['label']):\n",
        "    print(\"Converting labels to integers...\")\n",
        "    train_dataset = train_dataset.map(lambda x: {\"label\": int(x[\"label\"])})\n",
        "    tokenized_train_dataset = train_dataset.map(tokenize_function, batched=True)\n"
      ],
      "metadata": {
        "colab": {
          "base_uri": "https://localhost:8080/"
        },
        "id": "ijfqtqCXODVY",
        "outputId": "a21012b5-2719-49be-c3db-42de33d0796e"
      },
      "execution_count": null,
      "outputs": [
        {
          "output_type": "stream",
          "name": "stdout",
          "text": [
            "[1, 1, 1, 0, 0, 1, 1, 1, 1, 1]\n"
          ]
        }
      ]
    },
    {
      "cell_type": "code",
      "source": [
        "test_results = trainer.evaluate(tokenized_test_dataset)\n",
        "print(\"Test Set Results:\", test_results)"
      ],
      "metadata": {
        "colab": {
          "base_uri": "https://localhost:8080/",
          "height": 109
        },
        "id": "DFlhEK89KO8C",
        "outputId": "fbf611f9-bfc2-4b60-e00c-114b3ec5d7e4"
      },
      "execution_count": null,
      "outputs": [
        {
          "output_type": "display_data",
          "data": {
            "text/plain": [
              "<IPython.core.display.HTML object>"
            ],
            "text/html": [
              "\n",
              "    <div>\n",
              "      \n",
              "      <progress value='101' max='101' style='width:300px; height:20px; vertical-align: middle;'></progress>\n",
              "      [101/101 00:06]\n",
              "    </div>\n",
              "    "
            ]
          },
          "metadata": {}
        },
        {
          "output_type": "stream",
          "name": "stdout",
          "text": [
            "Step 300: Evaluation Metrics: {'eval_loss': 0.3246242105960846, 'eval_accuracy': 0.8680297397769516, 'eval_f1': 0.8834154351395731, 'eval_runtime': 6.53, 'eval_samples_per_second': 247.168, 'eval_steps_per_second': 15.467, 'epoch': 2.9702970297029703}\n",
            "Step 300: Learning Rate = 0.00000051\n",
            "Test Set Results: {'eval_loss': 0.3246242105960846, 'eval_accuracy': 0.8680297397769516, 'eval_f1': 0.8834154351395731, 'eval_runtime': 6.53, 'eval_samples_per_second': 247.168, 'eval_steps_per_second': 15.467, 'epoch': 2.9702970297029703}\n"
          ]
        }
      ]
    },
    {
      "cell_type": "code",
      "source": [
        "# Save the model and tokenizer\n",
        "model.save_pretrained(\"./task2_xlm-roberta-base_fine-tune\")\n",
        "tokenizer.save_pretrained(\"./task2_xlm-roberta-base_fine-tune\")"
      ],
      "metadata": {
        "colab": {
          "base_uri": "https://localhost:8080/"
        },
        "id": "dHeD7rppOnGS",
        "outputId": "17485d5c-17c9-44b1-b231-f6ba5c6862aa"
      },
      "execution_count": 32,
      "outputs": [
        {
          "output_type": "execute_result",
          "data": {
            "text/plain": [
              "('./task2_xlm-roberta-base_fine-tune/tokenizer_config.json',\n",
              " './task2_xlm-roberta-base_fine-tune/special_tokens_map.json',\n",
              " './task2_xlm-roberta-base_fine-tune/sentencepiece.bpe.model',\n",
              " './task2_xlm-roberta-base_fine-tune/added_tokens.json',\n",
              " './task2_xlm-roberta-base_fine-tune/tokenizer.json')"
            ]
          },
          "metadata": {},
          "execution_count": 32
        }
      ]
    }
  ]
}